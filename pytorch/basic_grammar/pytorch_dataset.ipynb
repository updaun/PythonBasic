{
 "cells": [
  {
   "cell_type": "code",
   "execution_count": 1,
   "metadata": {},
   "outputs": [],
   "source": [
    "import torch\n",
    "from torch.utils.data import Dataset\n",
    "from torch.utils.data import DataLoader\n",
    "\n",
    "class CustomDataset(Dataset):\n",
    "    # 초기 데이터 생성 방법 지정\n",
    "    def __init__(self, text, labels):\n",
    "        self.labels = labels\n",
    "        self.data = text\n",
    "    \n",
    "    # 데이터의 전체 길이\n",
    "    def __len__(self):\n",
    "        return len(self.labels)\n",
    "\n",
    "    # index 값을 주었을 때 반환되는 데이터의 형태\n",
    "    def __getitem__(self, idx):\n",
    "        label = self.labels[idx]\n",
    "        text = self.data[idx]\n",
    "        sample = {\"Text\":text, \"Class\":label}\n",
    "        return sample"
   ]
  },
  {
   "cell_type": "code",
   "execution_count": 2,
   "metadata": {},
   "outputs": [],
   "source": [
    "text = ['Happy', 'Amazing', 'Sad', 'Unhappy', 'Glum']\n",
    "labels = ['Positive', 'Positive', 'Nagative', 'Nagative', 'Nagative']\n",
    "MyDataset = CustomDataset(text, labels)"
   ]
  },
  {
   "cell_type": "code",
   "execution_count": 3,
   "metadata": {},
   "outputs": [
    {
     "data": {
      "text/plain": [
       "{'Text': ['Unhappy', 'Amazing'], 'Class': ['Nagative', 'Positive']}"
      ]
     },
     "execution_count": 3,
     "metadata": {},
     "output_type": "execute_result"
    }
   ],
   "source": [
    "MyDataLoader = DataLoader(MyDataset, batch_size=2, shuffle=True)\n",
    "next(iter(MyDataLoader))"
   ]
  },
  {
   "cell_type": "code",
   "execution_count": 4,
   "metadata": {},
   "outputs": [
    {
     "name": "stdout",
     "output_type": "stream",
     "text": [
      "{'Text': ['Unhappy', 'Sad'], 'Class': ['Nagative', 'Nagative']}\n",
      "{'Text': ['Happy', 'Glum'], 'Class': ['Positive', 'Nagative']}\n",
      "{'Text': ['Amazing'], 'Class': ['Positive']}\n"
     ]
    }
   ],
   "source": [
    "for dataset in MyDataLoader:\n",
    "    print(dataset)"
   ]
  },
  {
   "cell_type": "markdown",
   "metadata": {},
   "source": [
    "### NotMINST"
   ]
  },
  {
   "cell_type": "code",
   "execution_count": 5,
   "metadata": {},
   "outputs": [],
   "source": [
    "from torchvision.datasets import VisionDataset\n",
    "from typing import Any, Callable, Dict, List, Optional, Tuple\n",
    "\n",
    "from tqdm import tqdm\n",
    "import os, sys\n",
    "from pathlib import Path\n",
    "\n",
    "from skimage import io, transform\n",
    "import matplotlib.pyplot as plt"
   ]
  },
  {
   "cell_type": "code",
   "execution_count": 43,
   "metadata": {},
   "outputs": [],
   "source": [
    "import tarfile\n",
    "import requests\n",
    "\n",
    "class NotMNIST(VisionDataset):\n",
    "    resource_url = \"http://yaroslavvb.com/upload/notMNIST/notMNIST_large.tar.gz\"\n",
    "\n",
    "    def __init__(self,\n",
    "                 root:str,\n",
    "                 train:bool = True,\n",
    "                 transform:Optional[Callable] = None,\n",
    "                 target_transform:Optional[Callable] = None,\n",
    "                 download:bool = False,\n",
    "                 ) -> None:\n",
    "        super(NotMNIST, self).__init__(root, transform=transform,\n",
    "                                        target_transform=target_transform)\n",
    "\n",
    "        if not self._check_exists():\n",
    "            self.download()\n",
    "\n",
    "        if download:\n",
    "            self.download()\n",
    "\n",
    "        self.data, self.target = self._load_data()\n",
    "\n",
    "    \n",
    "    def __len__(self) -> int:\n",
    "        return len(self.data)\n",
    "\n",
    "\n",
    "    def __getitem__(self, index: int) -> Any:\n",
    "        image_name = self.data[index]\n",
    "        image = io.imread(image_name)\n",
    "        label = self.targets[index]\n",
    "        if self.transform:\n",
    "            image = self.transform(image)\n",
    "        return image, label\n",
    "\n",
    "    def _load_data(self):\n",
    "        filepath = self.image_folder\n",
    "        data = []\n",
    "        targets = []\n",
    "\n",
    "        for target in os.listdir(filepath):\n",
    "            print(filepath)\n",
    "            filenames = [os.path.abspath(\n",
    "                os.path.join(filepath, target, x)) for x in os.listdir(\n",
    "                os.path.join(filepath, target))]\n",
    "\n",
    "            targets.extend([target] * len(filenames))\n",
    "            data.extend(filenames)\n",
    "        return data, targets\n",
    "\n",
    "    @property\n",
    "    def raw_folder(self):\n",
    "        return os.path.join(self.root, self.__class__.__name__, 'raw')\n",
    "\n",
    "    @property\n",
    "    def image_folder(self):\n",
    "        return os.path.join(self.root, 'notMNIST_large')\n",
    "\n",
    "    def download(self):\n",
    "        os.makedirs(self.raw_folder, exist_ok=True)\n",
    "        fname = self.resource_url.split(\"/\")[-1]\n",
    "        chunk_size = 1024\n",
    "        \n",
    "        # filesize = int(requests.head(self.resource_url).headers['Content-Length'])\n",
    "        filesize = 20000000\n",
    "\n",
    "        # tqdm error\n",
    "        with requests.get(self.resource_url, stream=True) as r, open(\n",
    "            os.path.join(self.raw_folder, fname), \"wb\") as f, tqdm(\n",
    "            unit=\"B\",\n",
    "            unit_scale=True,\n",
    "            unit_divisor=1024,\n",
    "            total=filesize,\n",
    "            file=sys.stdout,\n",
    "            # dsec=fname\n",
    "            ) as progress:\n",
    "                for chunk in r.iter_content(chunk_size=chunk_size):\n",
    "                    datasize = f.write(chunk)\n",
    "                    progress.update(datasize)\n",
    "\n",
    "        self._extract_file(os.path.join(self.raw_folder, fname), target_path=self.root)\n",
    "    \n",
    "    def _extract_file(self, fname, target_path):\n",
    "        if fname.endswith(\"tar.gz\"):\n",
    "            tag = \"r:gz\"\n",
    "        elif fname.endswith(\"tar\"):\n",
    "            tag = \"r:\"\n",
    "        tar = tarfile.open(fname, tag)\n",
    "        tar.extractall(path=target_path)\n",
    "        tar.close()\n",
    "\n",
    "    def _check_exists(self):\n",
    "        return os.path.exists(self.raw_folder)\n"
   ]
  },
  {
   "cell_type": "code",
   "execution_count": 51,
   "metadata": {},
   "outputs": [],
   "source": [
    "import tarfile\n",
    "import requests\n",
    "\n",
    "class NotMNIST(VisionDataset):\n",
    "    resource_url = \"http://yaroslavvb.com/upload/notMNIST/notMNIST_large.tar.gz\"\n",
    "\n",
    "    def __init__(self,\n",
    "                 root:str,\n",
    "                 train:bool = True,\n",
    "                 transform:Optional[Callable] = None,\n",
    "                 target_transform:Optional[Callable] = None,\n",
    "                 download:bool = False,\n",
    "                 ) -> None:\n",
    "        super(NotMNIST, self).__init__(root, transform=transform,\n",
    "                                        target_transform=target_transform)\n",
    "\n",
    "        self.data, self.targets = self._load_data()\n",
    "        print(os.listdir(self.image_folder))\n",
    "\n",
    "    \n",
    "    def __len__(self) -> int:\n",
    "        return len(self.data)\n",
    "\n",
    "\n",
    "    def __getitem__(self, index: int) -> Any:\n",
    "        image_name = self.data[index]\n",
    "        image = io.imread(image_name)\n",
    "        label = self.targets[index]\n",
    "        if self.transform:\n",
    "            image = self.transform(image)\n",
    "        return image, label\n",
    "\n",
    "    def _load_data(self):\n",
    "        filepath = self.image_folder\n",
    "        data = []\n",
    "        targets = []\n",
    "\n",
    "        for target in os.listdir(filepath):\n",
    "            filenames = [os.path.abspath(\n",
    "                os.path.join(filepath, target, x)) for x in os.listdir(\n",
    "                os.path.join(filepath, target))]\n",
    "\n",
    "            targets.extend([target] * len(filenames))\n",
    "            data.extend(filenames)\n",
    "        return data, targets\n",
    "\n",
    "    @property\n",
    "    def raw_folder(self):\n",
    "        return os.path.join(self.root, self.__class__.__name__, 'raw')\n",
    "\n",
    "    @property\n",
    "    def image_folder(self):\n",
    "        return os.path.join(self.root, 'notMNIST_large')"
   ]
  },
  {
   "cell_type": "code",
   "execution_count": null,
   "metadata": {},
   "outputs": [],
   "source": [
    "# 수정된 코드\n",
    "def download(self) -> None:\n",
    "        os.makedirs(self.raw_folder, exist_ok=True)\n",
    "        fname = self.resource_url.split(\"/\")[-1]\n",
    "        chunk_size = 1024\n",
    "        \n",
    "        headers = {\n",
    "            \"User-Agent\": f\"Mozilla/5.0 (Windows NT 10.0; Win64; x64) \"\n",
    "                          f\"AppleWebKit/537.36 (KHTML, like Gecko) \"\n",
    "                          f\"Chrome/80.0.3987.122 Safari/537.36\"\n",
    "        }\n",
    "        r = requests.get(self.resource_url, \n",
    "                         headers=headers)\n",
    "\n",
    "        filesize = int(r.headers[\"Content-Length\"])\n",
    "        \n",
    "        with requests.get(self.resource_url, stream=True, headers=headers) as r, open(\n",
    "            os.path.join(self.raw_folder, fname), \"wb\") as f, tqdm(\n",
    "            unit=\"B\",  # unit string to be displayed.\n",
    "            unit_scale=True,  # let tqdm to determine the scale in kilo, mega..etc.\n",
    "            unit_divisor=1024,  # is used when unit_scale is true\n",
    "            total=filesize,  # the total iteration.\n",
    "            file=sys.stdout,  # default goes to stderr, this is the display on console.\n",
    "            desc=fname  # prefix to be displayed on progress bar.\n",
    "        ) as progress:\n",
    "            for chunk in r.iter_content(chunk_size=chunk_size):\n",
    "                # download the file chunk by chunk\n",
    "                datasize = f.write(chunk)\n",
    "                # on each chunk update the progress bar.\n",
    "                progress.update(datasize)\n",
    "        \n",
    "        self._extract_file(os.path.join(self.raw_folder, fname), target_path=self.root)"
   ]
  },
  {
   "cell_type": "code",
   "execution_count": 52,
   "metadata": {},
   "outputs": [
    {
     "name": "stdout",
     "output_type": "stream",
     "text": [
      "['A', 'B', 'C', 'D', 'E', 'F', 'G', 'H', 'I', 'J']\n"
     ]
    }
   ],
   "source": [
    "dataset = NotMNIST(\"data\", download=True)"
   ]
  },
  {
   "cell_type": "code",
   "execution_count": 53,
   "metadata": {},
   "outputs": [
    {
     "data": {
      "image/png": "[encoded data removed]",
      "text/plain": [
       "<Figure size 432x288 with 4 Axes>"
      ]
     },
     "metadata": {
      "needs_background": "light"
     },
     "output_type": "display_data"
    }
   ],
   "source": [
    "fig = plt.figure()\n",
    "\n",
    "for i in range(8):\n",
    "    sample = dataset[i]\n",
    "\n",
    "\n",
    "    ax = plt.subplot(1,4, i+1)\n",
    "    plt.tight_layout()\n",
    "    ax.set_title(\"Sameple #{}\".format(i))\n",
    "    ax.axis('off')\n",
    "    plt.imshow(sample[0])\n",
    "\n",
    "    if i == 3:\n",
    "        plt.show()\n",
    "        break"
   ]
  },
  {
   "cell_type": "code",
   "execution_count": 58,
   "metadata": {},
   "outputs": [
    {
     "name": "stderr",
     "output_type": "stream",
     "text": [
      "C:\\Users\\DAUNJEON\\AppData\\Local\\Programs\\Python\\Python37\\lib\\site-packages\\torchvision\\transforms\\transforms.py:935: UserWarning: The use of the transforms.RandomSizedCrop transform is deprecated, please use transforms.RandomResizedCrop instead.\n",
      "  warnings.warn(\"The use of the transforms.RandomSizedCrop transform is deprecated, \" +\n"
     ]
    },
    {
     "name": "stdout",
     "output_type": "stream",
     "text": [
      "['A', 'B', 'C', 'D', 'E', 'F', 'G', 'H', 'I', 'J']\n"
     ]
    }
   ],
   "source": [
    "import torch\n",
    "from torchvision import transforms, datasets\n",
    "\n",
    "data_transform = transforms.Compose([\n",
    "    transforms.RandomSizedCrop(112),\n",
    "    transforms.RandomHorizontalFlip(),\n",
    "    transforms.ToTensor(),\n",
    "    transforms.Normalize(mean=[0.485, 0.456, 0.406],\n",
    "                        std=[0.229, 0.224, 0.225])\n",
    "    ])\n",
    "\n",
    "dataset = NotMNIST(\"data\", download=False)\n",
    "\n",
    "dataset_loader = torch.utils.data.DataLoader(dataset,\n",
    "                                            batch_size=128, shuffle=True)"
   ]
  },
  {
   "cell_type": "code",
   "execution_count": 59,
   "metadata": {},
   "outputs": [],
   "source": [
    "train_features, train_labels = next(iter(dataset_loader))"
   ]
  },
  {
   "cell_type": "code",
   "execution_count": 60,
   "metadata": {},
   "outputs": [
    {
     "data": {
      "text/plain": [
       "torch.Size([128, 28, 28])"
      ]
     },
     "execution_count": 60,
     "metadata": {},
     "output_type": "execute_result"
    }
   ],
   "source": [
    "train_features.shape"
   ]
  },
  {
   "cell_type": "code",
   "execution_count": 61,
   "metadata": {},
   "outputs": [
    {
     "data": {
      "text/plain": [
       "tensor([[[  0,   0,   0,  ...,  53, 146, 101],\n",
       "         [  0,   0,   0,  ..., 253, 255,  89],\n",
       "         [  0,   2,   0,  ..., 255, 220,  11],\n",
       "         ...,\n",
       "         [  2,   0,  14,  ...,   0,   0,   0],\n",
       "         [  0,  71, 229,  ...,   0,   0,   0],\n",
       "         [ 58, 240, 236,  ...,   0,   0,   0]],\n",
       "\n",
       "        [[255, 255, 255,  ...,   0,   2,   0],\n",
       "         [185, 210, 235,  ...,   0,   2,   0],\n",
       "         [  0,   4,  20,  ...,   0,   2,   0],\n",
       "         ...,\n",
       "         [  0,   0,  10,  ..., 255, 243,  44],\n",
       "         [181, 198, 216,  ..., 255, 227,   9],\n",
       "         [255, 255, 255,  ..., 255, 192,   0]],\n",
       "\n",
       "        [[  0,   0,   0,  ...,   0,   3,   0],\n",
       "         [  0,   0,   0,  ...,  35,   0,   2],\n",
       "         [  0,   0,   0,  ..., 224,  25,   0],\n",
       "         ...,\n",
       "         [  0,   0,   0,  ...,   1,   0,   0],\n",
       "         [  0,   0,   0,  ...,   0,   0,   0],\n",
       "         [  0,   0,   0,  ...,   0,   0,   0]],\n",
       "\n",
       "        ...,\n",
       "\n",
       "        [[  0,   0,   0,  ...,   2,   0,   0],\n",
       "         [  0,   0,   0,  ...,   0,   1,   1],\n",
       "         [  0,   0,   0,  ..., 145,   0,   3],\n",
       "         ...,\n",
       "         [ 33, 245, 254,  ...,   0,   0,   0],\n",
       "         [ 83, 255, 254,  ...,   0,   0,   0],\n",
       "         [132, 255, 252,  ...,   0,   0,   0]],\n",
       "\n",
       "        [[  8, 118, 167,  ...,   0,   0,   0],\n",
       "         [  0,  95, 255,  ...,   0,   0,   0],\n",
       "         [  0,  78, 255,  ...,   2,   0,   0],\n",
       "         ...,\n",
       "         [  0,  78, 255,  ...,  84,   0,   3],\n",
       "         [  0,  93, 255,  ...,   0,   3,   0],\n",
       "         [ 20, 149, 194,  ...,   2,   0,   0]],\n",
       "\n",
       "        [[  0,   0,  72,  ..., 130, 122,   0],\n",
       "         [  5, 102, 100,  ...,  19, 179, 105],\n",
       "         [ 69,  94,   0,  ...,   0, 151, 212],\n",
       "         ...,\n",
       "         [ 91, 120,  15,  ...,   0,   0,   0],\n",
       "         [  0,  96, 225,  ...,   0,   0,   0],\n",
       "         [  2,   0,  71,  ...,   0,   0,   0]]], dtype=torch.uint8)"
      ]
     },
     "execution_count": 61,
     "metadata": {},
     "output_type": "execute_result"
    }
   ],
   "source": [
    "train_features"
   ]
  },
  {
   "cell_type": "code",
   "execution_count": 62,
   "metadata": {},
   "outputs": [
    {
     "data": {
      "text/plain": [
       "('F',\n",
       " 'E',\n",
       " 'G',\n",
       " 'E',\n",
       " 'G',\n",
       " 'I',\n",
       " 'A',\n",
       " 'B',\n",
       " 'I',\n",
       " 'H',\n",
       " 'A',\n",
       " 'D',\n",
       " 'F',\n",
       " 'D',\n",
       " 'D',\n",
       " 'E',\n",
       " 'I',\n",
       " 'A',\n",
       " 'D',\n",
       " 'F',\n",
       " 'J',\n",
       " 'C',\n",
       " 'C',\n",
       " 'E',\n",
       " 'E',\n",
       " 'E',\n",
       " 'D',\n",
       " 'H',\n",
       " 'A',\n",
       " 'J',\n",
       " 'D',\n",
       " 'A',\n",
       " 'E',\n",
       " 'G',\n",
       " 'B',\n",
       " 'J',\n",
       " 'B',\n",
       " 'E',\n",
       " 'I',\n",
       " 'I',\n",
       " 'D',\n",
       " 'H',\n",
       " 'I',\n",
       " 'B',\n",
       " 'I',\n",
       " 'C',\n",
       " 'A',\n",
       " 'G',\n",
       " 'I',\n",
       " 'F',\n",
       " 'J',\n",
       " 'C',\n",
       " 'G',\n",
       " 'J',\n",
       " 'G',\n",
       " 'A',\n",
       " 'C',\n",
       " 'F',\n",
       " 'H',\n",
       " 'A',\n",
       " 'J',\n",
       " 'D',\n",
       " 'D',\n",
       " 'B',\n",
       " 'H',\n",
       " 'D',\n",
       " 'B',\n",
       " 'B',\n",
       " 'C',\n",
       " 'B',\n",
       " 'E',\n",
       " 'F',\n",
       " 'F',\n",
       " 'E',\n",
       " 'C',\n",
       " 'G',\n",
       " 'I',\n",
       " 'B',\n",
       " 'B',\n",
       " 'E',\n",
       " 'D',\n",
       " 'E',\n",
       " 'B',\n",
       " 'B',\n",
       " 'E',\n",
       " 'D',\n",
       " 'D',\n",
       " 'F',\n",
       " 'B',\n",
       " 'F',\n",
       " 'A',\n",
       " 'I',\n",
       " 'C',\n",
       " 'J',\n",
       " 'G',\n",
       " 'H',\n",
       " 'E',\n",
       " 'B',\n",
       " 'E',\n",
       " 'F',\n",
       " 'E',\n",
       " 'B',\n",
       " 'G',\n",
       " 'E',\n",
       " 'A',\n",
       " 'D',\n",
       " 'H',\n",
       " 'C',\n",
       " 'B',\n",
       " 'G',\n",
       " 'C',\n",
       " 'B',\n",
       " 'B',\n",
       " 'G',\n",
       " 'I',\n",
       " 'I',\n",
       " 'A',\n",
       " 'J',\n",
       " 'I',\n",
       " 'H',\n",
       " 'E',\n",
       " 'B',\n",
       " 'J',\n",
       " 'J',\n",
       " 'H',\n",
       " 'D',\n",
       " 'B',\n",
       " 'F')"
      ]
     },
     "execution_count": 62,
     "metadata": {},
     "output_type": "execute_result"
    }
   ],
   "source": [
    "train_labels"
   ]
  },
  {
   "cell_type": "code",
   "execution_count": null,
   "metadata": {},
   "outputs": [],
   "source": []
  }
 ],
 "metadata": {
  "interpreter": {
   "hash": "ca3ee1c909be5cfde58f34ffc97d97953b1e2ed3ed0c17f8cc3bd7121fe69382"
  },
  "kernelspec": {
   "display_name": "Python 3.7.7 64-bit",
   "language": "python",
   "name": "python3"
  },
  "language_info": {
   "codemirror_mode": {
    "name": "ipython",
    "version": 3
   },
   "file_extension": ".py",
   "mimetype": "text/x-python",
   "name": "python",
   "nbconvert_exporter": "python",
   "pygments_lexer": "ipython3",
   "version": "3.7.7"
  },
  "orig_nbformat": 4
 },
 "nbformat": 4,
 "nbformat_minor": 2
}
