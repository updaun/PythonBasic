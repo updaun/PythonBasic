{
 "cells": [
  {
   "cell_type": "code",
   "execution_count": 11,
   "id": "b49ef442-bc3c-4753-b469-d9ebb8b76ca9",
   "metadata": {},
   "outputs": [],
   "source": [
    "import numpy as np"
   ]
  },
  {
   "cell_type": "code",
   "execution_count": 38,
   "id": "d24dccaa-d077-4ab5-8aee-7ed7b8ec38e9",
   "metadata": {},
   "outputs": [],
   "source": [
    "AB = np.array([200, 50, 0, 0])\n",
    "OPS = np.array([0.9, 0.4, 0.0, 0.0])\n",
    "Pred = np.array([0.95, 0.35, 0.5, 0.3])\n",
    "WRMSE = 0"
   ]
  },
  {
   "cell_type": "code",
   "execution_count": 39,
   "id": "9903490a-27f3-4fa9-b6b2-84955da60fdf",
   "metadata": {},
   "outputs": [
    {
     "name": "stdout",
     "output_type": "stream",
     "text": [
      "WRMSE :  0.0671\n"
     ]
    }
   ],
   "source": [
    "for i in range(4):\n",
    "    a = np.sqrt((((OPS[i]-Pred[i])**2)*AB[i]) / np.sum(AB))\n",
    "    WRMSE += a\n",
    "print('WRMSE : ', np.round(WRMSE, 4))"
   ]
  },
  {
   "cell_type": "code",
   "execution_count": 21,
   "id": "25e72814-24d7-4a4e-87e5-3cb09513805f",
   "metadata": {},
   "outputs": [],
   "source": [
    "class Metrics():\n",
    "    def __init__(self, ops, pred, ab):\n",
    "        self.ops = ops\n",
    "        self.pred = pred\n",
    "        self.ab = ab"
   ]
  },
  {
   "cell_type": "code",
   "execution_count": 26,
   "id": "a0b492d2-ad68-4600-82da-dfda260c30c7",
   "metadata": {},
   "outputs": [],
   "source": [
    "def out_wrmse(self):\n",
    "    wrmse_valse = \\\n",
    "    np.sqrt((((self.ops-self.pred)**2) * self.ab) / np.sum(self.ab))\n",
    "    print('WRMSE_i : ', np.round(wrmse_valse, 4))\n",
    "    wrmse_total = np.sum(wrmse_valse)\n",
    "    wrmse_total = np.round(wrmse_total, 4)\n",
    "    return wrmse_total\n",
    "\n",
    "Metrics.wrmse = out_wrmse"
   ]
  },
  {
   "cell_type": "code",
   "execution_count": 27,
   "id": "afb96799-ac52-4eca-a655-ec5be13316db",
   "metadata": {},
   "outputs": [
    {
     "name": "stdout",
     "output_type": "stream",
     "text": [
      "WRMSE_i :  [0.0447 0.0224 0.     0.    ]\n",
      "Total value of WRMSE :  0.0671\n"
     ]
    }
   ],
   "source": [
    "C_wrmse = Metrics(OPS, Pred, AB)\n",
    "print(\"Total value of WRMSE : \", C_wrmse.wrmse())"
   ]
  },
  {
   "cell_type": "markdown",
   "id": "dc083133-7f5b-4da0-b620-6624768d640e",
   "metadata": {},
   "source": [
    "# EDA"
   ]
  },
  {
   "cell_type": "code",
   "execution_count": 40,
   "id": "2724d994-447b-455b-8c1a-cc93d9bdde99",
   "metadata": {},
   "outputs": [],
   "source": [
    "import matplotlib\n",
    "import matplotlib.pyplot as plt\n",
    "import seaborn as sns\n",
    "import pandas as pd\n",
    "import platform\n",
    "import warnings\n",
    "warnings.filterwarnings('ignore')"
   ]
  },
  {
   "cell_type": "code",
   "execution_count": 48,
   "id": "aff63ed2-2dff-4672-9441-16275c4247b1",
   "metadata": {},
   "outputs": [],
   "source": [
    "preseason_df = pd.read_csv('data/Pre_Season_Batter.csv')\n",
    "regular_season_df = pd.read_csv('data/Regular_Season_Batter.csv')"
   ]
  },
  {
   "cell_type": "code",
   "execution_count": 47,
   "id": "3e5beaf3-c749-4f4e-afe2-371390fe5209",
   "metadata": {},
   "outputs": [
    {
     "name": "stdout",
     "output_type": "stream",
     "text": [
      "preseason_df.shape :  (1393, 29)\n",
      "regular_season_df.shape :  (2454, 29)\n"
     ]
    }
   ],
   "source": [
    "print('preseason_df.shape : ', preseason_df.shape)\n",
    "print('regular_season_df.shape : ', regular_season_df.shape)"
   ]
  },
  {
   "cell_type": "code",
   "execution_count": 50,
   "id": "7a5dccd9-1289-4f6f-93bd-ea2aa20b8ffd",
   "metadata": {},
   "outputs": [
    {
     "data": {
      "text/html": [
       "<div>\n",
       "<style scoped>\n",
       "    .dataframe tbody tr th:only-of-type {\n",
       "        vertical-align: middle;\n",
       "    }\n",
       "\n",
       "    .dataframe tbody tr th {\n",
       "        vertical-align: top;\n",
       "    }\n",
       "\n",
       "    .dataframe thead th {\n",
       "        text-align: right;\n",
       "    }\n",
       "</style>\n",
       "<table border=\"1\" class=\"dataframe\">\n",
       "  <thead>\n",
       "    <tr style=\"text-align: right;\">\n",
       "      <th></th>\n",
       "      <th>batter_id</th>\n",
       "      <th>year</th>\n",
       "      <th>G</th>\n",
       "      <th>AB</th>\n",
       "      <th>R</th>\n",
       "      <th>H</th>\n",
       "      <th>2B</th>\n",
       "      <th>3B</th>\n",
       "      <th>HR</th>\n",
       "      <th>TB</th>\n",
       "      <th>...</th>\n",
       "      <th>SB</th>\n",
       "      <th>CS</th>\n",
       "      <th>BB</th>\n",
       "      <th>HBP</th>\n",
       "      <th>SO</th>\n",
       "      <th>GDP</th>\n",
       "      <th>SLG</th>\n",
       "      <th>OBP</th>\n",
       "      <th>E</th>\n",
       "      <th>OPS</th>\n",
       "    </tr>\n",
       "  </thead>\n",
       "  <tbody>\n",
       "    <tr>\n",
       "      <th>count</th>\n",
       "      <td>1393.000000</td>\n",
       "      <td>1393.000000</td>\n",
       "      <td>1393.000000</td>\n",
       "      <td>1393.000000</td>\n",
       "      <td>1393.000000</td>\n",
       "      <td>1393.000000</td>\n",
       "      <td>1393.000000</td>\n",
       "      <td>1393.000000</td>\n",
       "      <td>1393.000000</td>\n",
       "      <td>1393.000000</td>\n",
       "      <td>...</td>\n",
       "      <td>1393.000000</td>\n",
       "      <td>1393.000000</td>\n",
       "      <td>1393.000000</td>\n",
       "      <td>1393.000000</td>\n",
       "      <td>1393.000000</td>\n",
       "      <td>1393.000000</td>\n",
       "      <td>1364.000000</td>\n",
       "      <td>1368.000000</td>\n",
       "      <td>1393.000000</td>\n",
       "      <td>1364.000000</td>\n",
       "    </tr>\n",
       "    <tr>\n",
       "      <th>mean</th>\n",
       "      <td>173.434314</td>\n",
       "      <td>2013.014358</td>\n",
       "      <td>8.705671</td>\n",
       "      <td>19.201723</td>\n",
       "      <td>2.679828</td>\n",
       "      <td>5.021536</td>\n",
       "      <td>0.954774</td>\n",
       "      <td>0.119885</td>\n",
       "      <td>0.391960</td>\n",
       "      <td>7.391960</td>\n",
       "      <td>...</td>\n",
       "      <td>0.629576</td>\n",
       "      <td>0.291457</td>\n",
       "      <td>1.877961</td>\n",
       "      <td>0.330223</td>\n",
       "      <td>3.714286</td>\n",
       "      <td>0.447236</td>\n",
       "      <td>0.361012</td>\n",
       "      <td>0.317912</td>\n",
       "      <td>0.381910</td>\n",
       "      <td>0.676924</td>\n",
       "    </tr>\n",
       "    <tr>\n",
       "      <th>std</th>\n",
       "      <td>94.716851</td>\n",
       "      <td>4.166757</td>\n",
       "      <td>5.562686</td>\n",
       "      <td>13.395946</td>\n",
       "      <td>2.637212</td>\n",
       "      <td>4.232584</td>\n",
       "      <td>1.196904</td>\n",
       "      <td>0.379976</td>\n",
       "      <td>0.748557</td>\n",
       "      <td>6.538787</td>\n",
       "      <td>...</td>\n",
       "      <td>1.146854</td>\n",
       "      <td>0.595522</td>\n",
       "      <td>2.053392</td>\n",
       "      <td>0.642204</td>\n",
       "      <td>3.180884</td>\n",
       "      <td>0.723364</td>\n",
       "      <td>0.269892</td>\n",
       "      <td>0.151489</td>\n",
       "      <td>0.729521</td>\n",
       "      <td>0.386933</td>\n",
       "    </tr>\n",
       "    <tr>\n",
       "      <th>min</th>\n",
       "      <td>0.000000</td>\n",
       "      <td>2002.000000</td>\n",
       "      <td>1.000000</td>\n",
       "      <td>0.000000</td>\n",
       "      <td>0.000000</td>\n",
       "      <td>0.000000</td>\n",
       "      <td>0.000000</td>\n",
       "      <td>0.000000</td>\n",
       "      <td>0.000000</td>\n",
       "      <td>0.000000</td>\n",
       "      <td>...</td>\n",
       "      <td>0.000000</td>\n",
       "      <td>0.000000</td>\n",
       "      <td>0.000000</td>\n",
       "      <td>0.000000</td>\n",
       "      <td>0.000000</td>\n",
       "      <td>0.000000</td>\n",
       "      <td>0.000000</td>\n",
       "      <td>0.000000</td>\n",
       "      <td>0.000000</td>\n",
       "      <td>0.000000</td>\n",
       "    </tr>\n",
       "    <tr>\n",
       "      <th>25%</th>\n",
       "      <td>99.000000</td>\n",
       "      <td>2010.000000</td>\n",
       "      <td>6.000000</td>\n",
       "      <td>9.000000</td>\n",
       "      <td>1.000000</td>\n",
       "      <td>2.000000</td>\n",
       "      <td>0.000000</td>\n",
       "      <td>0.000000</td>\n",
       "      <td>0.000000</td>\n",
       "      <td>2.000000</td>\n",
       "      <td>...</td>\n",
       "      <td>0.000000</td>\n",
       "      <td>0.000000</td>\n",
       "      <td>0.000000</td>\n",
       "      <td>0.000000</td>\n",
       "      <td>1.000000</td>\n",
       "      <td>0.000000</td>\n",
       "      <td>0.217000</td>\n",
       "      <td>0.250000</td>\n",
       "      <td>0.000000</td>\n",
       "      <td>0.472000</td>\n",
       "    </tr>\n",
       "    <tr>\n",
       "      <th>50%</th>\n",
       "      <td>178.000000</td>\n",
       "      <td>2014.000000</td>\n",
       "      <td>9.000000</td>\n",
       "      <td>18.000000</td>\n",
       "      <td>2.000000</td>\n",
       "      <td>4.000000</td>\n",
       "      <td>1.000000</td>\n",
       "      <td>0.000000</td>\n",
       "      <td>0.000000</td>\n",
       "      <td>6.000000</td>\n",
       "      <td>...</td>\n",
       "      <td>0.000000</td>\n",
       "      <td>0.000000</td>\n",
       "      <td>1.000000</td>\n",
       "      <td>0.000000</td>\n",
       "      <td>3.000000</td>\n",
       "      <td>0.000000</td>\n",
       "      <td>0.344500</td>\n",
       "      <td>0.333000</td>\n",
       "      <td>0.000000</td>\n",
       "      <td>0.675000</td>\n",
       "    </tr>\n",
       "    <tr>\n",
       "      <th>75%</th>\n",
       "      <td>254.000000</td>\n",
       "      <td>2017.000000</td>\n",
       "      <td>11.000000</td>\n",
       "      <td>28.000000</td>\n",
       "      <td>4.000000</td>\n",
       "      <td>8.000000</td>\n",
       "      <td>2.000000</td>\n",
       "      <td>0.000000</td>\n",
       "      <td>1.000000</td>\n",
       "      <td>11.000000</td>\n",
       "      <td>...</td>\n",
       "      <td>1.000000</td>\n",
       "      <td>0.000000</td>\n",
       "      <td>3.000000</td>\n",
       "      <td>1.000000</td>\n",
       "      <td>5.000000</td>\n",
       "      <td>1.000000</td>\n",
       "      <td>0.478000</td>\n",
       "      <td>0.400000</td>\n",
       "      <td>1.000000</td>\n",
       "      <td>0.867000</td>\n",
       "    </tr>\n",
       "    <tr>\n",
       "      <th>max</th>\n",
       "      <td>344.000000</td>\n",
       "      <td>2018.000000</td>\n",
       "      <td>119.000000</td>\n",
       "      <td>183.000000</td>\n",
       "      <td>35.000000</td>\n",
       "      <td>51.000000</td>\n",
       "      <td>11.000000</td>\n",
       "      <td>4.000000</td>\n",
       "      <td>5.000000</td>\n",
       "      <td>68.000000</td>\n",
       "      <td>...</td>\n",
       "      <td>9.000000</td>\n",
       "      <td>4.000000</td>\n",
       "      <td>21.000000</td>\n",
       "      <td>4.000000</td>\n",
       "      <td>36.000000</td>\n",
       "      <td>5.000000</td>\n",
       "      <td>4.000000</td>\n",
       "      <td>1.000000</td>\n",
       "      <td>5.000000</td>\n",
       "      <td>5.000000</td>\n",
       "    </tr>\n",
       "  </tbody>\n",
       "</table>\n",
       "<p>8 rows × 21 columns</p>\n",
       "</div>"
      ],
      "text/plain": [
       "         batter_id         year            G           AB            R  \\\n",
       "count  1393.000000  1393.000000  1393.000000  1393.000000  1393.000000   \n",
       "mean    173.434314  2013.014358     8.705671    19.201723     2.679828   \n",
       "std      94.716851     4.166757     5.562686    13.395946     2.637212   \n",
       "min       0.000000  2002.000000     1.000000     0.000000     0.000000   \n",
       "25%      99.000000  2010.000000     6.000000     9.000000     1.000000   \n",
       "50%     178.000000  2014.000000     9.000000    18.000000     2.000000   \n",
       "75%     254.000000  2017.000000    11.000000    28.000000     4.000000   \n",
       "max     344.000000  2018.000000   119.000000   183.000000    35.000000   \n",
       "\n",
       "                 H           2B           3B           HR           TB  ...  \\\n",
       "count  1393.000000  1393.000000  1393.000000  1393.000000  1393.000000  ...   \n",
       "mean      5.021536     0.954774     0.119885     0.391960     7.391960  ...   \n",
       "std       4.232584     1.196904     0.379976     0.748557     6.538787  ...   \n",
       "min       0.000000     0.000000     0.000000     0.000000     0.000000  ...   \n",
       "25%       2.000000     0.000000     0.000000     0.000000     2.000000  ...   \n",
       "50%       4.000000     1.000000     0.000000     0.000000     6.000000  ...   \n",
       "75%       8.000000     2.000000     0.000000     1.000000    11.000000  ...   \n",
       "max      51.000000    11.000000     4.000000     5.000000    68.000000  ...   \n",
       "\n",
       "                SB           CS           BB          HBP           SO  \\\n",
       "count  1393.000000  1393.000000  1393.000000  1393.000000  1393.000000   \n",
       "mean      0.629576     0.291457     1.877961     0.330223     3.714286   \n",
       "std       1.146854     0.595522     2.053392     0.642204     3.180884   \n",
       "min       0.000000     0.000000     0.000000     0.000000     0.000000   \n",
       "25%       0.000000     0.000000     0.000000     0.000000     1.000000   \n",
       "50%       0.000000     0.000000     1.000000     0.000000     3.000000   \n",
       "75%       1.000000     0.000000     3.000000     1.000000     5.000000   \n",
       "max       9.000000     4.000000    21.000000     4.000000    36.000000   \n",
       "\n",
       "               GDP          SLG          OBP            E          OPS  \n",
       "count  1393.000000  1364.000000  1368.000000  1393.000000  1364.000000  \n",
       "mean      0.447236     0.361012     0.317912     0.381910     0.676924  \n",
       "std       0.723364     0.269892     0.151489     0.729521     0.386933  \n",
       "min       0.000000     0.000000     0.000000     0.000000     0.000000  \n",
       "25%       0.000000     0.217000     0.250000     0.000000     0.472000  \n",
       "50%       0.000000     0.344500     0.333000     0.000000     0.675000  \n",
       "75%       1.000000     0.478000     0.400000     1.000000     0.867000  \n",
       "max       5.000000     4.000000     1.000000     5.000000     5.000000  \n",
       "\n",
       "[8 rows x 21 columns]"
      ]
     },
     "execution_count": 50,
     "metadata": {},
     "output_type": "execute_result"
    }
   ],
   "source": [
    "preseason_df.describe()"
   ]
  },
  {
   "cell_type": "code",
   "execution_count": 52,
   "id": "20e98f80-e47d-4396-a2d5-e43eb8a91872",
   "metadata": {},
   "outputs": [
    {
     "data": {
      "image/png": "[encoded data removed]",
      "text/plain": [
       "<Figure size 720x720 with 25 Axes>"
      ]
     },
     "metadata": {
      "needs_background": "light"
     },
     "output_type": "display_data"
    }
   ],
   "source": [
    "preseason_df.hist(figsize=(10,10))\n",
    "plt.tight_layout()\n",
    "plt.show()"
   ]
  },
  {
   "cell_type": "code",
   "execution_count": 54,
   "id": "486e83db-eccb-434d-80d7-7aa2a5c2890e",
   "metadata": {},
   "outputs": [
    {
     "data": {
      "image/png": "[encoded data removed]",
      "text/plain": [
       "<Figure size 504x504 with 1 Axes>"
      ]
     },
     "metadata": {
      "needs_background": "light"
     },
     "output_type": "display_data"
    }
   ],
   "source": [
    "preseason_df['year'].hist(figsize=(7,7))\n",
    "plt.tight_layout()\n",
    "plt.show()"
   ]
  },
  {
   "cell_type": "code",
   "execution_count": 55,
   "id": "1b0d41c5-06f1-40b8-a9f5-fd5e6fdfc57b",
   "metadata": {},
   "outputs": [],
   "source": [
    "regular_count = regular_season_df.groupby('year')['batter_id'].count().rename('regular')\n",
    "preseason_count = preseason_df.groupby('year')['batter_id'].count().rename('preseason')"
   ]
  },
  {
   "cell_type": "code",
   "execution_count": 58,
   "id": "a22b2cd2-1208-4cda-b762-b4b1c282ccb5",
   "metadata": {},
   "outputs": [
    {
     "data": {
      "text/html": [
       "<div>\n",
       "<style scoped>\n",
       "    .dataframe tbody tr th:only-of-type {\n",
       "        vertical-align: middle;\n",
       "    }\n",
       "\n",
       "    .dataframe tbody tr th {\n",
       "        vertical-align: top;\n",
       "    }\n",
       "\n",
       "    .dataframe thead th {\n",
       "        text-align: right;\n",
       "    }\n",
       "</style>\n",
       "<table border=\"1\" class=\"dataframe\">\n",
       "  <thead>\n",
       "    <tr style=\"text-align: right;\">\n",
       "      <th>year</th>\n",
       "      <th>2000</th>\n",
       "      <th>2001</th>\n",
       "      <th>2002</th>\n",
       "      <th>2003</th>\n",
       "      <th>2004</th>\n",
       "      <th>2005</th>\n",
       "      <th>2006</th>\n",
       "      <th>2007</th>\n",
       "      <th>2008</th>\n",
       "      <th>2009</th>\n",
       "      <th>2010</th>\n",
       "      <th>2011</th>\n",
       "      <th>2012</th>\n",
       "      <th>2013</th>\n",
       "      <th>2014</th>\n",
       "      <th>2015</th>\n",
       "      <th>2016</th>\n",
       "      <th>2017</th>\n",
       "      <th>2018</th>\n",
       "    </tr>\n",
       "  </thead>\n",
       "  <tbody>\n",
       "    <tr>\n",
       "      <th>regular</th>\n",
       "      <td>20.0</td>\n",
       "      <td>32.0</td>\n",
       "      <td>43.0</td>\n",
       "      <td>54.0</td>\n",
       "      <td>68.0</td>\n",
       "      <td>73.0</td>\n",
       "      <td>85.0</td>\n",
       "      <td>98.0</td>\n",
       "      <td>115.0</td>\n",
       "      <td>124.0</td>\n",
       "      <td>130.0</td>\n",
       "      <td>151.0</td>\n",
       "      <td>174.0</td>\n",
       "      <td>194.0</td>\n",
       "      <td>186.0</td>\n",
       "      <td>207.0</td>\n",
       "      <td>213.0</td>\n",
       "      <td>217.0</td>\n",
       "      <td>227.0</td>\n",
       "    </tr>\n",
       "    <tr>\n",
       "      <th>preseason</th>\n",
       "      <td>NaN</td>\n",
       "      <td>NaN</td>\n",
       "      <td>12.0</td>\n",
       "      <td>19.0</td>\n",
       "      <td>28.0</td>\n",
       "      <td>37.0</td>\n",
       "      <td>36.0</td>\n",
       "      <td>43.0</td>\n",
       "      <td>61.0</td>\n",
       "      <td>66.0</td>\n",
       "      <td>72.0</td>\n",
       "      <td>75.0</td>\n",
       "      <td>87.0</td>\n",
       "      <td>104.0</td>\n",
       "      <td>117.0</td>\n",
       "      <td>134.0</td>\n",
       "      <td>153.0</td>\n",
       "      <td>167.0</td>\n",
       "      <td>182.0</td>\n",
       "    </tr>\n",
       "  </tbody>\n",
       "</table>\n",
       "</div>"
      ],
      "text/plain": [
       "year       2000  2001  2002  2003  2004  2005  2006  2007   2008   2009  \\\n",
       "regular    20.0  32.0  43.0  54.0  68.0  73.0  85.0  98.0  115.0  124.0   \n",
       "preseason   NaN   NaN  12.0  19.0  28.0  37.0  36.0  43.0   61.0   66.0   \n",
       "\n",
       "year        2010   2011   2012   2013   2014   2015   2016   2017   2018  \n",
       "regular    130.0  151.0  174.0  194.0  186.0  207.0  213.0  217.0  227.0  \n",
       "preseason   72.0   75.0   87.0  104.0  117.0  134.0  153.0  167.0  182.0  "
      ]
     },
     "execution_count": 58,
     "metadata": {},
     "output_type": "execute_result"
    }
   ],
   "source": [
    "pd.concat([regular_count,\n",
    "          preseason_count],\n",
    "         axis = 1).transpose().loc[:, 2000:]"
   ]
  },
  {
   "cell_type": "markdown",
   "id": "b34f8c19-945e-406f-9f5e-b8edd6ecb965",
   "metadata": {},
   "source": [
    "## Abalone 데이터를 사용한 상관관계 분석"
   ]
  },
  {
   "cell_type": "code",
   "execution_count": 59,
   "id": "186cf63f-6fed-4520-a2c5-3c32ae8d511b",
   "metadata": {},
   "outputs": [
    {
     "name": "stdout",
     "output_type": "stream",
     "text": [
      "<class 'pandas.core.frame.DataFrame'>\n",
      "RangeIndex: 4177 entries, 0 to 4176\n",
      "Data columns (total 9 columns):\n",
      " #   Column          Non-Null Count  Dtype  \n",
      "---  ------          --------------  -----  \n",
      " 0   Sex             4177 non-null   object \n",
      " 1   Length          4177 non-null   float64\n",
      " 2   Diameter        4177 non-null   float64\n",
      " 3   Height          4177 non-null   float64\n",
      " 4   Whole weight    4177 non-null   float64\n",
      " 5   Shucked weight  4177 non-null   float64\n",
      " 6   Viscera weight  4177 non-null   float64\n",
      " 7   Shell weight    4177 non-null   float64\n",
      " 8   Rings           4177 non-null   int64  \n",
      "dtypes: float64(7), int64(1), object(1)\n",
      "memory usage: 293.8+ KB\n"
     ]
    }
   ],
   "source": [
    "df_abalone = pd.read_csv('data/abalone.csv')\n",
    "df_abalone.info()"
   ]
  },
  {
   "cell_type": "code",
   "execution_count": 64,
   "id": "9bfa9107-1280-48e0-8733-0d3f43610cb6",
   "metadata": {},
   "outputs": [
    {
     "name": "stdout",
     "output_type": "stream",
     "text": [
      "Rings and Height - corr : 0.557\n"
     ]
    }
   ],
   "source": [
    "correlation = df_abalone['Rings'].corr(df_abalone['Height'])\n",
    "print(\"{} and {} - corr : {}\".format('Rings','Height',round(correlation,3)))"
   ]
  },
  {
   "cell_type": "code",
   "execution_count": 65,
   "id": "88dfe73a-1ea5-4570-9343-f85d6bfdc6e7",
   "metadata": {},
   "outputs": [
    {
     "data": {
      "image/png": "[encoded data removed]",
      "text/plain": [
       "<Figure size 432x288 with 1 Axes>"
      ]
     },
     "metadata": {
      "needs_background": "light"
     },
     "output_type": "display_data"
    }
   ],
   "source": [
    "sns.regplot(x = df_abalone['Rings'], y = df_abalone['Height'],\n",
    "           color = 'orange')\n",
    "\n",
    "plt.title('{} and {} - corr {}'.format('Rings','Height',np.round(correlation,3)),\n",
    "         fontsize=20)\n",
    "\n",
    "plt.grid()\n",
    "plt.show()"
   ]
  },
  {
   "cell_type": "code",
   "execution_count": 66,
   "id": "605a5cd8-7567-4cde-9180-c4f084033f5a",
   "metadata": {},
   "outputs": [],
   "source": [
    "def corr_abalone(var_name1, var_name2):\n",
    "    corr = df_abalone[var_name1].corr(df_abalone[var_name2])\n",
    "    print(\"{} and {} - corr : {}\".format(var_name1,var_name2,round(corr,3)))\n",
    "    return corr"
   ]
  },
  {
   "cell_type": "code",
   "execution_count": 67,
   "id": "ce7f26b0-f444-4199-937b-378cb950e76c",
   "metadata": {},
   "outputs": [
    {
     "name": "stdout",
     "output_type": "stream",
     "text": [
      "<class 'pandas.core.frame.DataFrame'>\n",
      "RangeIndex: 4177 entries, 0 to 4176\n",
      "Data columns (total 9 columns):\n",
      " #   Column          Non-Null Count  Dtype  \n",
      "---  ------          --------------  -----  \n",
      " 0   Sex             4177 non-null   object \n",
      " 1   Length          4177 non-null   float64\n",
      " 2   Diameter        4177 non-null   float64\n",
      " 3   Height          4177 non-null   float64\n",
      " 4   Whole weight    4177 non-null   float64\n",
      " 5   Shucked weight  4177 non-null   float64\n",
      " 6   Viscera weight  4177 non-null   float64\n",
      " 7   Shell weight    4177 non-null   float64\n",
      " 8   Rings           4177 non-null   int64  \n",
      "dtypes: float64(7), int64(1), object(1)\n",
      "memory usage: 293.8+ KB\n"
     ]
    }
   ],
   "source": [
    "df_abalone.info()"
   ]
  },
  {
   "cell_type": "code",
   "execution_count": 69,
   "id": "26656733-a200-414d-9566-1b6466f3c3f8",
   "metadata": {},
   "outputs": [
    {
     "data": {
      "text/plain": [
       "Index(['Sex', 'Length', 'Diameter', 'Height', 'Whole weight', 'Shucked weight',\n",
       "       'Viscera weight', 'Shell weight', 'Rings'],\n",
       "      dtype='object')"
      ]
     },
     "execution_count": 69,
     "metadata": {},
     "output_type": "execute_result"
    }
   ],
   "source": [
    "df_abalone.columns"
   ]
  },
  {
   "cell_type": "code",
   "execution_count": 70,
   "id": "85fae970-36a5-4c61-83f9-defc5b31947d",
   "metadata": {},
   "outputs": [
    {
     "data": {
      "text/plain": [
       "9"
      ]
     },
     "execution_count": 70,
     "metadata": {},
     "output_type": "execute_result"
    }
   ],
   "source": [
    "len(df_abalone.columns)"
   ]
  },
  {
   "cell_type": "code",
   "execution_count": 72,
   "id": "6d9c026d-d465-416a-befe-5bb6bdfe9c4d",
   "metadata": {},
   "outputs": [
    {
     "data": {
      "text/plain": [
       "'Rings'"
      ]
     },
     "execution_count": 72,
     "metadata": {},
     "output_type": "execute_result"
    }
   ],
   "source": [
    "df_abalone.columns[8]"
   ]
  },
  {
   "cell_type": "code",
   "execution_count": 73,
   "id": "51eab6f4-4335-4ec0-b080-ed6b022e2898",
   "metadata": {},
   "outputs": [
    {
     "name": "stdout",
     "output_type": "stream",
     "text": [
      "Rings and Length - corr : 0.557\n",
      "Rings and Diameter - corr : 0.575\n",
      "Rings and Height - corr : 0.557\n",
      "Rings and Whole weight - corr : 0.54\n",
      "Rings and Shucked weight - corr : 0.421\n",
      "Rings and Viscera weight - corr : 0.504\n",
      "Rings and Shell weight - corr : 0.628\n"
     ]
    }
   ],
   "source": [
    "for i in range(1, len(df_abalone.columns)-1):\n",
    "    corr_abalone(df_abalone.columns[8], df_abalone.columns[i])"
   ]
  },
  {
   "cell_type": "code",
   "execution_count": 80,
   "id": "e58a1523-0a71-45fb-a474-f8e44b8c3037",
   "metadata": {},
   "outputs": [
    {
     "name": "stdout",
     "output_type": "stream",
     "text": [
      "Rings and Shell weight - corr : 0.628\n"
     ]
    },
    {
     "data": {
      "image/png": "[encoded data removed]",
      "text/plain": [
       "<Figure size 432x288 with 1 Axes>"
      ]
     },
     "metadata": {
      "needs_background": "light"
     },
     "output_type": "display_data"
    }
   ],
   "source": [
    "corr_val = corr_abalone(df_abalone.columns[8], df_abalone.columns[7])\n",
    "\n",
    "sns.regplot(x = df_abalone['Rings'],\n",
    "           y = df_abalone['Shell weight'],\n",
    "           color = 'red')\n",
    "\n",
    "plt.title('{} and {} - corr {}'.format('Rings','Shell weight',np.round(corr_val,3)),\n",
    "         fontsize=20)\n",
    "\n",
    "plt.grid()\n",
    "plt.show()"
   ]
  },
  {
   "cell_type": "code",
   "execution_count": null,
   "id": "a57f4b68-bdd9-423d-9493-3bc6348d3e42",
   "metadata": {},
   "outputs": [],
   "source": []
  }
 ],
 "metadata": {
  "kernelspec": {
   "display_name": "Python 3",
   "language": "python",
   "name": "python3"
  },
  "language_info": {
   "codemirror_mode": {
    "name": "ipython",
    "version": 3
   },
   "file_extension": ".py",
   "mimetype": "text/x-python",
   "name": "python",
   "nbconvert_exporter": "python",
   "pygments_lexer": "ipython3",
   "version": "3.8.8"
  }
 },
 "nbformat": 4,
 "nbformat_minor": 5
}
