{
 "cells": [
  {
   "cell_type": "code",
   "execution_count": 11,
   "id": "b49ef442-bc3c-4753-b469-d9ebb8b76ca9",
   "metadata": {},
   "outputs": [],
   "source": [
    "import numpy as np"
   ]
  },
  {
   "cell_type": "code",
   "execution_count": 38,
   "id": "d24dccaa-d077-4ab5-8aee-7ed7b8ec38e9",
   "metadata": {},
   "outputs": [],
   "source": [
    "AB = np.array([200, 50, 0, 0])\n",
    "OPS = np.array([0.9, 0.4, 0.0, 0.0])\n",
    "Pred = np.array([0.95, 0.35, 0.5, 0.3])\n",
    "WRMSE = 0"
   ]
  },
  {
   "cell_type": "code",
   "execution_count": 39,
   "id": "9903490a-27f3-4fa9-b6b2-84955da60fdf",
   "metadata": {},
   "outputs": [
    {
     "name": "stdout",
     "output_type": "stream",
     "text": [
      "WRMSE :  0.0671\n"
     ]
    }
   ],
   "source": [
    "for i in range(4):\n",
    "    a = np.sqrt((((OPS[i]-Pred[i])**2)*AB[i]) / np.sum(AB))\n",
    "    WRMSE += a\n",
    "print('WRMSE : ', np.round(WRMSE, 4))"
   ]
  },
  {
   "cell_type": "code",
   "execution_count": 21,
   "id": "25e72814-24d7-4a4e-87e5-3cb09513805f",
   "metadata": {},
   "outputs": [],
   "source": [
    "class Metrics():\n",
    "    def __init__(self, ops, pred, ab):\n",
    "        self.ops = ops\n",
    "        self.pred = pred\n",
    "        self.ab = ab"
   ]
  },
  {
   "cell_type": "code",
   "execution_count": 26,
   "id": "a0b492d2-ad68-4600-82da-dfda260c30c7",
   "metadata": {},
   "outputs": [],
   "source": [
    "def out_wrmse(self):\n",
    "    wrmse_valse = \\\n",
    "    np.sqrt((((self.ops-self.pred)**2) * self.ab) / np.sum(self.ab))\n",
    "    print('WRMSE_i : ', np.round(wrmse_valse, 4))\n",
    "    wrmse_total = np.sum(wrmse_valse)\n",
    "    wrmse_total = np.round(wrmse_total, 4)\n",
    "    return wrmse_total\n",
    "\n",
    "Metrics.wrmse = out_wrmse"
   ]
  },
  {
   "cell_type": "code",
   "execution_count": 27,
   "id": "afb96799-ac52-4eca-a655-ec5be13316db",
   "metadata": {},
   "outputs": [
    {
     "name": "stdout",
     "output_type": "stream",
     "text": [
      "WRMSE_i :  [0.0447 0.0224 0.     0.    ]\n",
      "Total value of WRMSE :  0.0671\n"
     ]
    }
   ],
   "source": [
    "C_wrmse = Metrics(OPS, Pred, AB)\n",
    "print(\"Total value of WRMSE : \", C_wrmse.wrmse())"
   ]
  },
  {
   "cell_type": "markdown",
   "id": "dc083133-7f5b-4da0-b620-6624768d640e",
   "metadata": {},
   "source": [
    "# EDA"
   ]
  },
  {
   "cell_type": "code",
   "execution_count": 40,
   "id": "2724d994-447b-455b-8c1a-cc93d9bdde99",
   "metadata": {},
   "outputs": [],
   "source": [
    "import matplotlib\n",
    "import matplotlib.pyplot as plt\n",
    "import seaborn as sns\n",
    "import pandas as pd\n",
    "import platform\n",
    "import warnings\n",
    "warnings.filterwarnings('ignore')"
   ]
  },
  {
   "cell_type": "code",
   "execution_count": 48,
   "id": "aff63ed2-2dff-4672-9441-16275c4247b1",
   "metadata": {},
   "outputs": [],
   "source": [
    "preseason_df = pd.read_csv('data/Pre_Season_Batter.csv')\n",
    "regular_season_df = pd.read_csv('data/Regular_Season_Batter.csv')"
   ]
  },
  {
   "cell_type": "code",
   "execution_count": 47,
   "id": "3e5beaf3-c749-4f4e-afe2-371390fe5209",
   "metadata": {},
   "outputs": [
    {
     "name": "stdout",
     "output_type": "stream",
     "text": [
      "preseason_df.shape :  (1393, 29)\n",
      "regular_season_df.shape :  (2454, 29)\n"
     ]
    }
   ],
   "source": [
    "print('preseason_df.shape : ', preseason_df.shape)\n",
    "print('regular_season_df.shape : ', regular_season_df.shape)"
   ]
  },
  {
   "cell_type": "code",
   "execution_count": 50,
   "id": "7a5dccd9-1289-4f6f-93bd-ea2aa20b8ffd",
   "metadata": {},
   "outputs": [
    {
     "data": {
      "text/html": [
       "<div>\n",
       "<style scoped>\n",
       "    .dataframe tbody tr th:only-of-type {\n",
       "        vertical-align: middle;\n",
       "    }\n",
       "\n",
       "    .dataframe tbody tr th {\n",
       "        vertical-align: top;\n",
       "    }\n",
       "\n",
       "    .dataframe thead th {\n",
       "        text-align: right;\n",
       "    }\n",
       "</style>\n",
       "<table border=\"1\" class=\"dataframe\">\n",
       "  <thead>\n",
       "    <tr style=\"text-align: right;\">\n",
       "      <th></th>\n",
       "      <th>batter_id</th>\n",
       "      <th>year</th>\n",
       "      <th>G</th>\n",
       "      <th>AB</th>\n",
       "      <th>R</th>\n",
       "      <th>H</th>\n",
       "      <th>2B</th>\n",
       "      <th>3B</th>\n",
       "      <th>HR</th>\n",
       "      <th>TB</th>\n",
       "      <th>...</th>\n",
       "      <th>SB</th>\n",
       "      <th>CS</th>\n",
       "      <th>BB</th>\n",
       "      <th>HBP</th>\n",
       "      <th>SO</th>\n",
       "      <th>GDP</th>\n",
       "      <th>SLG</th>\n",
       "      <th>OBP</th>\n",
       "      <th>E</th>\n",
       "      <th>OPS</th>\n",
       "    </tr>\n",
       "  </thead>\n",
       "  <tbody>\n",
       "    <tr>\n",
       "      <th>count</th>\n",
       "      <td>1393.000000</td>\n",
       "      <td>1393.000000</td>\n",
       "      <td>1393.000000</td>\n",
       "      <td>1393.000000</td>\n",
       "      <td>1393.000000</td>\n",
       "      <td>1393.000000</td>\n",
       "      <td>1393.000000</td>\n",
       "      <td>1393.000000</td>\n",
       "      <td>1393.000000</td>\n",
       "      <td>1393.000000</td>\n",
       "      <td>...</td>\n",
       "      <td>1393.000000</td>\n",
       "      <td>1393.000000</td>\n",
       "      <td>1393.000000</td>\n",
       "      <td>1393.000000</td>\n",
       "      <td>1393.000000</td>\n",
       "      <td>1393.000000</td>\n",
       "      <td>1364.000000</td>\n",
       "      <td>1368.000000</td>\n",
       "      <td>1393.000000</td>\n",
       "      <td>1364.000000</td>\n",
       "    </tr>\n",
       "    <tr>\n",
       "      <th>mean</th>\n",
       "      <td>173.434314</td>\n",
       "      <td>2013.014358</td>\n",
       "      <td>8.705671</td>\n",
       "      <td>19.201723</td>\n",
       "      <td>2.679828</td>\n",
       "      <td>5.021536</td>\n",
       "      <td>0.954774</td>\n",
       "      <td>0.119885</td>\n",
       "      <td>0.391960</td>\n",
       "      <td>7.391960</td>\n",
       "      <td>...</td>\n",
       "      <td>0.629576</td>\n",
       "      <td>0.291457</td>\n",
       "      <td>1.877961</td>\n",
       "      <td>0.330223</td>\n",
       "      <td>3.714286</td>\n",
       "      <td>0.447236</td>\n",
       "      <td>0.361012</td>\n",
       "      <td>0.317912</td>\n",
       "      <td>0.381910</td>\n",
       "      <td>0.676924</td>\n",
       "    </tr>\n",
       "    <tr>\n",
       "      <th>std</th>\n",
       "      <td>94.716851</td>\n",
       "      <td>4.166757</td>\n",
       "      <td>5.562686</td>\n",
       "      <td>13.395946</td>\n",
       "      <td>2.637212</td>\n",
       "      <td>4.232584</td>\n",
       "      <td>1.196904</td>\n",
       "      <td>0.379976</td>\n",
       "      <td>0.748557</td>\n",
       "      <td>6.538787</td>\n",
       "      <td>...</td>\n",
       "      <td>1.146854</td>\n",
       "      <td>0.595522</td>\n",
       "      <td>2.053392</td>\n",
       "      <td>0.642204</td>\n",
       "      <td>3.180884</td>\n",
       "      <td>0.723364</td>\n",
       "      <td>0.269892</td>\n",
       "      <td>0.151489</td>\n",
       "      <td>0.729521</td>\n",
       "      <td>0.386933</td>\n",
       "    </tr>\n",
       "    <tr>\n",
       "      <th>min</th>\n",
       "      <td>0.000000</td>\n",
       "      <td>2002.000000</td>\n",
       "      <td>1.000000</td>\n",
       "      <td>0.000000</td>\n",
       "      <td>0.000000</td>\n",
       "      <td>0.000000</td>\n",
       "      <td>0.000000</td>\n",
       "      <td>0.000000</td>\n",
       "      <td>0.000000</td>\n",
       "      <td>0.000000</td>\n",
       "      <td>...</td>\n",
       "      <td>0.000000</td>\n",
       "      <td>0.000000</td>\n",
       "      <td>0.000000</td>\n",
       "      <td>0.000000</td>\n",
       "      <td>0.000000</td>\n",
       "      <td>0.000000</td>\n",
       "      <td>0.000000</td>\n",
       "      <td>0.000000</td>\n",
       "      <td>0.000000</td>\n",
       "      <td>0.000000</td>\n",
       "    </tr>\n",
       "    <tr>\n",
       "      <th>25%</th>\n",
       "      <td>99.000000</td>\n",
       "      <td>2010.000000</td>\n",
       "      <td>6.000000</td>\n",
       "      <td>9.000000</td>\n",
       "      <td>1.000000</td>\n",
       "      <td>2.000000</td>\n",
       "      <td>0.000000</td>\n",
       "      <td>0.000000</td>\n",
       "      <td>0.000000</td>\n",
       "      <td>2.000000</td>\n",
       "      <td>...</td>\n",
       "      <td>0.000000</td>\n",
       "      <td>0.000000</td>\n",
       "      <td>0.000000</td>\n",
       "      <td>0.000000</td>\n",
       "      <td>1.000000</td>\n",
       "      <td>0.000000</td>\n",
       "      <td>0.217000</td>\n",
       "      <td>0.250000</td>\n",
       "      <td>0.000000</td>\n",
       "      <td>0.472000</td>\n",
       "    </tr>\n",
       "    <tr>\n",
       "      <th>50%</th>\n",
       "      <td>178.000000</td>\n",
       "      <td>2014.000000</td>\n",
       "      <td>9.000000</td>\n",
       "      <td>18.000000</td>\n",
       "      <td>2.000000</td>\n",
       "      <td>4.000000</td>\n",
       "      <td>1.000000</td>\n",
       "      <td>0.000000</td>\n",
       "      <td>0.000000</td>\n",
       "      <td>6.000000</td>\n",
       "      <td>...</td>\n",
       "      <td>0.000000</td>\n",
       "      <td>0.000000</td>\n",
       "      <td>1.000000</td>\n",
       "      <td>0.000000</td>\n",
       "      <td>3.000000</td>\n",
       "      <td>0.000000</td>\n",
       "      <td>0.344500</td>\n",
       "      <td>0.333000</td>\n",
       "      <td>0.000000</td>\n",
       "      <td>0.675000</td>\n",
       "    </tr>\n",
       "    <tr>\n",
       "      <th>75%</th>\n",
       "      <td>254.000000</td>\n",
       "      <td>2017.000000</td>\n",
       "      <td>11.000000</td>\n",
       "      <td>28.000000</td>\n",
       "      <td>4.000000</td>\n",
       "      <td>8.000000</td>\n",
       "      <td>2.000000</td>\n",
       "      <td>0.000000</td>\n",
       "      <td>1.000000</td>\n",
       "      <td>11.000000</td>\n",
       "      <td>...</td>\n",
       "      <td>1.000000</td>\n",
       "      <td>0.000000</td>\n",
       "      <td>3.000000</td>\n",
       "      <td>1.000000</td>\n",
       "      <td>5.000000</td>\n",
       "      <td>1.000000</td>\n",
       "      <td>0.478000</td>\n",
       "      <td>0.400000</td>\n",
       "      <td>1.000000</td>\n",
       "      <td>0.867000</td>\n",
       "    </tr>\n",
       "    <tr>\n",
       "      <th>max</th>\n",
       "      <td>344.000000</td>\n",
       "      <td>2018.000000</td>\n",
       "      <td>119.000000</td>\n",
       "      <td>183.000000</td>\n",
       "      <td>35.000000</td>\n",
       "      <td>51.000000</td>\n",
       "      <td>11.000000</td>\n",
       "      <td>4.000000</td>\n",
       "      <td>5.000000</td>\n",
       "      <td>68.000000</td>\n",
       "      <td>...</td>\n",
       "      <td>9.000000</td>\n",
       "      <td>4.000000</td>\n",
       "      <td>21.000000</td>\n",
       "      <td>4.000000</td>\n",
       "      <td>36.000000</td>\n",
       "      <td>5.000000</td>\n",
       "      <td>4.000000</td>\n",
       "      <td>1.000000</td>\n",
       "      <td>5.000000</td>\n",
       "      <td>5.000000</td>\n",
       "    </tr>\n",
       "  </tbody>\n",
       "</table>\n",
       "<p>8 rows × 21 columns</p>\n",
       "</div>"
      ],
      "text/plain": [
       "         batter_id         year            G           AB            R  \\\n",
       "count  1393.000000  1393.000000  1393.000000  1393.000000  1393.000000   \n",
       "mean    173.434314  2013.014358     8.705671    19.201723     2.679828   \n",
       "std      94.716851     4.166757     5.562686    13.395946     2.637212   \n",
       "min       0.000000  2002.000000     1.000000     0.000000     0.000000   \n",
       "25%      99.000000  2010.000000     6.000000     9.000000     1.000000   \n",
       "50%     178.000000  2014.000000     9.000000    18.000000     2.000000   \n",
       "75%     254.000000  2017.000000    11.000000    28.000000     4.000000   \n",
       "max     344.000000  2018.000000   119.000000   183.000000    35.000000   \n",
       "\n",
       "                 H           2B           3B           HR           TB  ...  \\\n",
       "count  1393.000000  1393.000000  1393.000000  1393.000000  1393.000000  ...   \n",
       "mean      5.021536     0.954774     0.119885     0.391960     7.391960  ...   \n",
       "std       4.232584     1.196904     0.379976     0.748557     6.538787  ...   \n",
       "min       0.000000     0.000000     0.000000     0.000000     0.000000  ...   \n",
       "25%       2.000000     0.000000     0.000000     0.000000     2.000000  ...   \n",
       "50%       4.000000     1.000000     0.000000     0.000000     6.000000  ...   \n",
       "75%       8.000000     2.000000     0.000000     1.000000    11.000000  ...   \n",
       "max      51.000000    11.000000     4.000000     5.000000    68.000000  ...   \n",
       "\n",
       "                SB           CS           BB          HBP           SO  \\\n",
       "count  1393.000000  1393.000000  1393.000000  1393.000000  1393.000000   \n",
       "mean      0.629576     0.291457     1.877961     0.330223     3.714286   \n",
       "std       1.146854     0.595522     2.053392     0.642204     3.180884   \n",
       "min       0.000000     0.000000     0.000000     0.000000     0.000000   \n",
       "25%       0.000000     0.000000     0.000000     0.000000     1.000000   \n",
       "50%       0.000000     0.000000     1.000000     0.000000     3.000000   \n",
       "75%       1.000000     0.000000     3.000000     1.000000     5.000000   \n",
       "max       9.000000     4.000000    21.000000     4.000000    36.000000   \n",
       "\n",
       "               GDP          SLG          OBP            E          OPS  \n",
       "count  1393.000000  1364.000000  1368.000000  1393.000000  1364.000000  \n",
       "mean      0.447236     0.361012     0.317912     0.381910     0.676924  \n",
       "std       0.723364     0.269892     0.151489     0.729521     0.386933  \n",
       "min       0.000000     0.000000     0.000000     0.000000     0.000000  \n",
       "25%       0.000000     0.217000     0.250000     0.000000     0.472000  \n",
       "50%       0.000000     0.344500     0.333000     0.000000     0.675000  \n",
       "75%       1.000000     0.478000     0.400000     1.000000     0.867000  \n",
       "max       5.000000     4.000000     1.000000     5.000000     5.000000  \n",
       "\n",
       "[8 rows x 21 columns]"
      ]
     },
     "execution_count": 50,
     "metadata": {},
     "output_type": "execute_result"
    }
   ],
   "source": [
    "preseason_df.describe()"
   ]
  },
  {
   "cell_type": "code",
   "execution_count": 52,
   "id": "20e98f80-e47d-4396-a2d5-e43eb8a91872",
   "metadata": {},
   "outputs": [
    {
     "data": {
      "image/png": "[encoded data removed]",
      "text/plain": [
       "<Figure size 720x720 with 25 Axes>"
      ]
     },
     "metadata": {
      "needs_background": "light"
     },
     "output_type": "display_data"
    }
   ],
   "source": [
    "preseason_df.hist(figsize=(10,10))\n",
    "plt.tight_layout()\n",
    "plt.show()"
   ]
  },
  {
   "cell_type": "code",
   "execution_count": 54,
   "id": "486e83db-eccb-434d-80d7-7aa2a5c2890e",
   "metadata": {},
   "outputs": [
    {
     "data": {
      "image/png": "[encoded data removed]",
      "text/plain": [
       "<Figure size 504x504 with 1 Axes>"
      ]
     },
     "metadata": {
      "needs_background": "light"
     },
     "output_type": "display_data"
    }
   ],
   "source": [
    "preseason_df['year'].hist(figsize=(7,7))\n",
    "plt.tight_layout()\n",
    "plt.show()"
   ]
  },
  {
   "cell_type": "code",
   "execution_count": 55,
   "id": "1b0d41c5-06f1-40b8-a9f5-fd5e6fdfc57b",
   "metadata": {},
   "outputs": [],
   "source": [
    "regular_count = regular_season_df.groupby('year')['batter_id'].count().rename('regular')\n",
    "preseason_count = preseason_df.groupby('year')['batter_id'].count().rename('preseason')"
   ]
  },
  {
   "cell_type": "code",
   "execution_count": 58,
   "id": "a22b2cd2-1208-4cda-b762-b4b1c282ccb5",
   "metadata": {},
   "outputs": [
    {
     "data": {
      "text/html": [
       "<div>\n",
       "<style scoped>\n",
       "    .dataframe tbody tr th:only-of-type {\n",
       "        vertical-align: middle;\n",
       "    }\n",
       "\n",
       "    .dataframe tbody tr th {\n",
       "        vertical-align: top;\n",
       "    }\n",
       "\n",
       "    .dataframe thead th {\n",
       "        text-align: right;\n",
       "    }\n",
       "</style>\n",
       "<table border=\"1\" class=\"dataframe\">\n",
       "  <thead>\n",
       "    <tr style=\"text-align: right;\">\n",
       "      <th>year</th>\n",
       "      <th>2000</th>\n",
       "      <th>2001</th>\n",
       "      <th>2002</th>\n",
       "      <th>2003</th>\n",
       "      <th>2004</th>\n",
       "      <th>2005</th>\n",
       "      <th>2006</th>\n",
       "      <th>2007</th>\n",
       "      <th>2008</th>\n",
       "      <th>2009</th>\n",
       "      <th>2010</th>\n",
       "      <th>2011</th>\n",
       "      <th>2012</th>\n",
       "      <th>2013</th>\n",
       "      <th>2014</th>\n",
       "      <th>2015</th>\n",
       "      <th>2016</th>\n",
       "      <th>2017</th>\n",
       "      <th>2018</th>\n",
       "    </tr>\n",
       "  </thead>\n",
       "  <tbody>\n",
       "    <tr>\n",
       "      <th>regular</th>\n",
       "      <td>20.0</td>\n",
       "      <td>32.0</td>\n",
       "      <td>43.0</td>\n",
       "      <td>54.0</td>\n",
       "      <td>68.0</td>\n",
       "      <td>73.0</td>\n",
       "      <td>85.0</td>\n",
       "      <td>98.0</td>\n",
       "      <td>115.0</td>\n",
       "      <td>124.0</td>\n",
       "      <td>130.0</td>\n",
       "      <td>151.0</td>\n",
       "      <td>174.0</td>\n",
       "      <td>194.0</td>\n",
       "      <td>186.0</td>\n",
       "      <td>207.0</td>\n",
       "      <td>213.0</td>\n",
       "      <td>217.0</td>\n",
       "      <td>227.0</td>\n",
       "    </tr>\n",
       "    <tr>\n",
       "      <th>preseason</th>\n",
       "      <td>NaN</td>\n",
       "      <td>NaN</td>\n",
       "      <td>12.0</td>\n",
       "      <td>19.0</td>\n",
       "      <td>28.0</td>\n",
       "      <td>37.0</td>\n",
       "      <td>36.0</td>\n",
       "      <td>43.0</td>\n",
       "      <td>61.0</td>\n",
       "      <td>66.0</td>\n",
       "      <td>72.0</td>\n",
       "      <td>75.0</td>\n",
       "      <td>87.0</td>\n",
       "      <td>104.0</td>\n",
       "      <td>117.0</td>\n",
       "      <td>134.0</td>\n",
       "      <td>153.0</td>\n",
       "      <td>167.0</td>\n",
       "      <td>182.0</td>\n",
       "    </tr>\n",
       "  </tbody>\n",
       "</table>\n",
       "</div>"
      ],
      "text/plain": [
       "year       2000  2001  2002  2003  2004  2005  2006  2007   2008   2009  \\\n",
       "regular    20.0  32.0  43.0  54.0  68.0  73.0  85.0  98.0  115.0  124.0   \n",
       "preseason   NaN   NaN  12.0  19.0  28.0  37.0  36.0  43.0   61.0   66.0   \n",
       "\n",
       "year        2010   2011   2012   2013   2014   2015   2016   2017   2018  \n",
       "regular    130.0  151.0  174.0  194.0  186.0  207.0  213.0  217.0  227.0  \n",
       "preseason   72.0   75.0   87.0  104.0  117.0  134.0  153.0  167.0  182.0  "
      ]
     },
     "execution_count": 58,
     "metadata": {},
     "output_type": "execute_result"
    }
   ],
   "source": [
    "pd.concat([regular_count,\n",
    "          preseason_count],\n",
    "         axis = 1).transpose().loc[:, 2000:]"
   ]
  },
  {
   "cell_type": "markdown",
   "id": "b34f8c19-945e-406f-9f5e-b8edd6ecb965",
   "metadata": {},
   "source": [
    "## Abalone 데이터를 사용한 상관관계 분석"
   ]
  },
  {
   "cell_type": "code",
   "execution_count": 59,
   "id": "186cf63f-6fed-4520-a2c5-3c32ae8d511b",
   "metadata": {},
   "outputs": [
    {
     "name": "stdout",
     "output_type": "stream",
     "text": [
      "<class 'pandas.core.frame.DataFrame'>\n",
      "RangeIndex: 4177 entries, 0 to 4176\n",
      "Data columns (total 9 columns):\n",
      " #   Column          Non-Null Count  Dtype  \n",
      "---  ------          --------------  -----  \n",
      " 0   Sex             4177 non-null   object \n",
      " 1   Length          4177 non-null   float64\n",
      " 2   Diameter        4177 non-null   float64\n",
      " 3   Height          4177 non-null   float64\n",
      " 4   Whole weight    4177 non-null   float64\n",
      " 5   Shucked weight  4177 non-null   float64\n",
      " 6   Viscera weight  4177 non-null   float64\n",
      " 7   Shell weight    4177 non-null   float64\n",
      " 8   Rings           4177 non-null   int64  \n",
      "dtypes: float64(7), int64(1), object(1)\n",
      "memory usage: 293.8+ KB\n"
     ]
    }
   ],
   "source": [
    "df_abalone = pd.read_csv('data/abalone.csv')\n",
    "df_abalone.info()"
   ]
  },
  {
   "cell_type": "code",
   "execution_count": 64,
   "id": "9bfa9107-1280-48e0-8733-0d3f43610cb6",
   "metadata": {},
   "outputs": [
    {
     "name": "stdout",
     "output_type": "stream",
     "text": [
      "Rings and Height - corr : 0.557\n"
     ]
    }
   ],
   "source": [
    "correlation = df_abalone['Rings'].corr(df_abalone['Height'])\n",
    "print(\"{} and {} - corr : {}\".format('Rings','Height',round(correlation,3)))"
   ]
  },
  {
   "cell_type": "code",
   "execution_count": 65,
   "id": "88dfe73a-1ea5-4570-9343-f85d6bfdc6e7",
   "metadata": {},
   "outputs": [
    {
     "data": {
      "image/png": "[encoded data removed]",
      "text/plain": [
       "<Figure size 432x288 with 1 Axes>"
      ]
     },
     "metadata": {
      "needs_background": "light"
     },
     "output_type": "display_data"
    }
   ],
   "source": [
    "sns.regplot(x = df_abalone['Rings'], y = df_abalone['Height'],\n",
    "           color = 'orange')\n",
    "\n",
    "plt.title('{} and {} - corr {}'.format('Rings','Height',np.round(correlation,3)),\n",
    "         fontsize=20)\n",
    "\n",
    "plt.grid()\n",
    "plt.show()"
   ]
  },
  {
   "cell_type": "code",
   "execution_count": 66,
   "id": "605a5cd8-7567-4cde-9180-c4f084033f5a",
   "metadata": {},
   "outputs": [],
   "source": [
    "def corr_abalone(var_name1, var_name2):\n",
    "    corr = df_abalone[var_name1].corr(df_abalone[var_name2])\n",
    "    print(\"{} and {} - corr : {}\".format(var_name1,var_name2,round(corr,3)))\n",
    "    return corr"
   ]
  },
  {
   "cell_type": "code",
   "execution_count": 67,
   "id": "ce7f26b0-f444-4199-937b-378cb950e76c",
   "metadata": {},
   "outputs": [
    {
     "name": "stdout",
     "output_type": "stream",
     "text": [
      "<class 'pandas.core.frame.DataFrame'>\n",
      "RangeIndex: 4177 entries, 0 to 4176\n",
      "Data columns (total 9 columns):\n",
      " #   Column          Non-Null Count  Dtype  \n",
      "---  ------          --------------  -----  \n",
      " 0   Sex             4177 non-null   object \n",
      " 1   Length          4177 non-null   float64\n",
      " 2   Diameter        4177 non-null   float64\n",
      " 3   Height          4177 non-null   float64\n",
      " 4   Whole weight    4177 non-null   float64\n",
      " 5   Shucked weight  4177 non-null   float64\n",
      " 6   Viscera weight  4177 non-null   float64\n",
      " 7   Shell weight    4177 non-null   float64\n",
      " 8   Rings           4177 non-null   int64  \n",
      "dtypes: float64(7), int64(1), object(1)\n",
      "memory usage: 293.8+ KB\n"
     ]
    }
   ],
   "source": [
    "df_abalone.info()"
   ]
  },
  {
   "cell_type": "code",
   "execution_count": 69,
   "id": "26656733-a200-414d-9566-1b6466f3c3f8",
   "metadata": {},
   "outputs": [
    {
     "data": {
      "text/plain": [
       "Index(['Sex', 'Length', 'Diameter', 'Height', 'Whole weight', 'Shucked weight',\n",
       "       'Viscera weight', 'Shell weight', 'Rings'],\n",
       "      dtype='object')"
      ]
     },
     "execution_count": 69,
     "metadata": {},
     "output_type": "execute_result"
    }
   ],
   "source": [
    "df_abalone.columns"
   ]
  },
  {
   "cell_type": "code",
   "execution_count": 70,
   "id": "85fae970-36a5-4c61-83f9-defc5b31947d",
   "metadata": {},
   "outputs": [
    {
     "data": {
      "text/plain": [
       "9"
      ]
     },
     "execution_count": 70,
     "metadata": {},
     "output_type": "execute_result"
    }
   ],
   "source": [
    "len(df_abalone.columns)"
   ]
  },
  {
   "cell_type": "code",
   "execution_count": 72,
   "id": "6d9c026d-d465-416a-befe-5bb6bdfe9c4d",
   "metadata": {},
   "outputs": [
    {
     "data": {
      "text/plain": [
       "'Rings'"
      ]
     },
     "execution_count": 72,
     "metadata": {},
     "output_type": "execute_result"
    }
   ],
   "source": [
    "df_abalone.columns[8]"
   ]
  },
  {
   "cell_type": "code",
   "execution_count": 73,
   "id": "51eab6f4-4335-4ec0-b080-ed6b022e2898",
   "metadata": {},
   "outputs": [
    {
     "name": "stdout",
     "output_type": "stream",
     "text": [
      "Rings and Length - corr : 0.557\n",
      "Rings and Diameter - corr : 0.575\n",
      "Rings and Height - corr : 0.557\n",
      "Rings and Whole weight - corr : 0.54\n",
      "Rings and Shucked weight - corr : 0.421\n",
      "Rings and Viscera weight - corr : 0.504\n",
      "Rings and Shell weight - corr : 0.628\n"
     ]
    }
   ],
   "source": [
    "for i in range(1, len(df_abalone.columns)-1):\n",
    "    corr_abalone(df_abalone.columns[8], df_abalone.columns[i])"
   ]
  },
  {
   "cell_type": "code",
   "execution_count": 80,
   "id": "e58a1523-0a71-45fb-a474-f8e44b8c3037",
   "metadata": {},
   "outputs": [
    {
     "name": "stdout",
     "output_type": "stream",
     "text": [
      "Rings and Shell weight - corr : 0.628\n"
     ]
    },
    {
     "data": {
      "image/png": "[encoded data removed]",
      "text/plain": [
       "<Figure size 432x288 with 1 Axes>"
      ]
     },
     "metadata": {
      "needs_background": "light"
     },
     "output_type": "display_data"
    }
   ],
   "source": [
    "corr_val = corr_abalone(df_abalone.columns[8], df_abalone.columns[7])\n",
    "\n",
    "sns.regplot(x = df_abalone['Rings'],\n",
    "           y = df_abalone['Shell weight'],\n",
    "           color = 'red')\n",
    "\n",
    "plt.title('{} and {} - corr {}'.format('Rings','Shell weight',np.round(corr_val,3)),\n",
    "         fontsize=20)\n",
    "\n",
    "plt.grid()\n",
    "plt.show()"
   ]
  },
  {
   "cell_type": "markdown",
   "id": "ccc6d254-bbd8-4ec8-9cb2-f53255a5b032",
   "metadata": {},
   "source": [
    "## 210701 딥러닝"
   ]
  },
  {
   "cell_type": "code",
   "execution_count": 44,
   "id": "5b81d615-0e75-4999-8189-080156941595",
   "metadata": {},
   "outputs": [
    {
     "name": "stdout",
     "output_type": "stream",
     "text": [
      "preseason_df.shape :  (1393, 29)\n",
      "regular_season_df.shape :  (2454, 29)\n"
     ]
    }
   ],
   "source": [
    "import pandas as pd \n",
    "# Pre_Season_Batter\n",
    "preseason_df = pd.read_csv(\"data/Pre_Season_Batter.csv\")\n",
    "# Regular_Season_Batter\n",
    "regular_season_df = pd.read_csv(\"data/Regular_Season_Batter.csv\")\n",
    "\n",
    "print(\"preseason_df.shape : \", preseason_df.shape)\n",
    "print(\"regular_season_df.shape : \", regular_season_df.shape)"
   ]
  },
  {
   "cell_type": "code",
   "execution_count": 29,
   "id": "a9883a82-e714-4ebc-b83f-ec9b7d989dac",
   "metadata": {},
   "outputs": [
    {
     "data": {
      "text/html": [
       "<div>\n",
       "<style scoped>\n",
       "    .dataframe tbody tr th:only-of-type {\n",
       "        vertical-align: middle;\n",
       "    }\n",
       "\n",
       "    .dataframe tbody tr th {\n",
       "        vertical-align: top;\n",
       "    }\n",
       "\n",
       "    .dataframe thead th {\n",
       "        text-align: right;\n",
       "    }\n",
       "</style>\n",
       "<table border=\"1\" class=\"dataframe\">\n",
       "  <thead>\n",
       "    <tr style=\"text-align: right;\">\n",
       "      <th></th>\n",
       "      <th>batter_id</th>\n",
       "      <th>batter_name</th>\n",
       "      <th>year</th>\n",
       "      <th>team</th>\n",
       "      <th>avg</th>\n",
       "      <th>G</th>\n",
       "      <th>AB</th>\n",
       "      <th>R</th>\n",
       "      <th>H</th>\n",
       "      <th>2B</th>\n",
       "      <th>...</th>\n",
       "      <th>GDP</th>\n",
       "      <th>SLG</th>\n",
       "      <th>OBP</th>\n",
       "      <th>E</th>\n",
       "      <th>height/weight</th>\n",
       "      <th>year_born</th>\n",
       "      <th>position</th>\n",
       "      <th>career</th>\n",
       "      <th>starting_salary</th>\n",
       "      <th>OPS</th>\n",
       "    </tr>\n",
       "  </thead>\n",
       "  <tbody>\n",
       "    <tr>\n",
       "      <th>0</th>\n",
       "      <td>0</td>\n",
       "      <td>가르시아</td>\n",
       "      <td>2018</td>\n",
       "      <td>LG</td>\n",
       "      <td>0.339</td>\n",
       "      <td>50</td>\n",
       "      <td>183</td>\n",
       "      <td>27</td>\n",
       "      <td>62</td>\n",
       "      <td>9</td>\n",
       "      <td>...</td>\n",
       "      <td>3</td>\n",
       "      <td>0.519</td>\n",
       "      <td>0.383</td>\n",
       "      <td>9</td>\n",
       "      <td>177cm/93kg</td>\n",
       "      <td>1985년 04월 12일</td>\n",
       "      <td>내야수(우투우타)</td>\n",
       "      <td>쿠바 Ciego de Avila Maximo Gomez Baez(대)</td>\n",
       "      <td>NaN</td>\n",
       "      <td>0.902</td>\n",
       "    </tr>\n",
       "    <tr>\n",
       "      <th>1</th>\n",
       "      <td>1</td>\n",
       "      <td>강경학</td>\n",
       "      <td>2011</td>\n",
       "      <td>한화</td>\n",
       "      <td>0.000</td>\n",
       "      <td>2</td>\n",
       "      <td>1</td>\n",
       "      <td>0</td>\n",
       "      <td>0</td>\n",
       "      <td>0</td>\n",
       "      <td>...</td>\n",
       "      <td>0</td>\n",
       "      <td>0.000</td>\n",
       "      <td>0.000</td>\n",
       "      <td>1</td>\n",
       "      <td>180cm/72kg</td>\n",
       "      <td>1992년 08월 11일</td>\n",
       "      <td>내야수(우투좌타)</td>\n",
       "      <td>광주대성초-광주동성중-광주동성고</td>\n",
       "      <td>10000만원</td>\n",
       "      <td>0.000</td>\n",
       "    </tr>\n",
       "    <tr>\n",
       "      <th>2</th>\n",
       "      <td>1</td>\n",
       "      <td>강경학</td>\n",
       "      <td>2014</td>\n",
       "      <td>한화</td>\n",
       "      <td>0.221</td>\n",
       "      <td>41</td>\n",
       "      <td>86</td>\n",
       "      <td>11</td>\n",
       "      <td>19</td>\n",
       "      <td>2</td>\n",
       "      <td>...</td>\n",
       "      <td>1</td>\n",
       "      <td>0.349</td>\n",
       "      <td>0.337</td>\n",
       "      <td>6</td>\n",
       "      <td>180cm/72kg</td>\n",
       "      <td>1992년 08월 11일</td>\n",
       "      <td>내야수(우투좌타)</td>\n",
       "      <td>광주대성초-광주동성중-광주동성고</td>\n",
       "      <td>10000만원</td>\n",
       "      <td>0.686</td>\n",
       "    </tr>\n",
       "  </tbody>\n",
       "</table>\n",
       "<p>3 rows × 29 columns</p>\n",
       "</div>"
      ],
      "text/plain": [
       "   batter_id batter_name  year team    avg   G   AB   R   H  2B  ...  GDP  \\\n",
       "0          0        가르시아  2018   LG  0.339  50  183  27  62   9  ...    3   \n",
       "1          1         강경학  2011   한화  0.000   2    1   0   0   0  ...    0   \n",
       "2          1         강경학  2014   한화  0.221  41   86  11  19   2  ...    1   \n",
       "\n",
       "     SLG    OBP  E  height/weight      year_born   position  \\\n",
       "0  0.519  0.383  9     177cm/93kg  1985년 04월 12일  내야수(우투우타)   \n",
       "1  0.000  0.000  1     180cm/72kg  1992년 08월 11일  내야수(우투좌타)   \n",
       "2  0.349  0.337  6     180cm/72kg  1992년 08월 11일  내야수(우투좌타)   \n",
       "\n",
       "                                   career  starting_salary    OPS  \n",
       "0  쿠바 Ciego de Avila Maximo Gomez Baez(대)              NaN  0.902  \n",
       "1                       광주대성초-광주동성중-광주동성고          10000만원  0.000  \n",
       "2                       광주대성초-광주동성중-광주동성고          10000만원  0.686  \n",
       "\n",
       "[3 rows x 29 columns]"
      ]
     },
     "execution_count": 29,
     "metadata": {},
     "output_type": "execute_result"
    }
   ],
   "source": [
    "regular_season_df.head(3)"
   ]
  },
  {
   "cell_type": "code",
   "execution_count": 30,
   "id": "7f697f61-41f1-46db-a4cb-5e0d7d018a46",
   "metadata": {},
   "outputs": [
    {
     "name": "stdout",
     "output_type": "stream",
     "text": [
      "<class 'pandas.core.frame.DataFrame'>\n",
      "RangeIndex: 2454 entries, 0 to 2453\n",
      "Data columns (total 29 columns):\n",
      " #   Column           Non-Null Count  Dtype  \n",
      "---  ------           --------------  -----  \n",
      " 0   batter_id        2454 non-null   int64  \n",
      " 1   batter_name      2454 non-null   object \n",
      " 2   year             2454 non-null   int64  \n",
      " 3   team             2454 non-null   object \n",
      " 4   avg              2428 non-null   float64\n",
      " 5   G                2454 non-null   int64  \n",
      " 6   AB               2454 non-null   int64  \n",
      " 7   R                2454 non-null   int64  \n",
      " 8   H                2454 non-null   int64  \n",
      " 9   2B               2454 non-null   int64  \n",
      " 10  3B               2454 non-null   int64  \n",
      " 11  HR               2454 non-null   int64  \n",
      " 12  TB               2454 non-null   int64  \n",
      " 13  RBI              2454 non-null   int64  \n",
      " 14  SB               2454 non-null   int64  \n",
      " 15  CS               2454 non-null   int64  \n",
      " 16  BB               2454 non-null   int64  \n",
      " 17  HBP              2454 non-null   int64  \n",
      " 18  SO               2454 non-null   int64  \n",
      " 19  GDP              2454 non-null   int64  \n",
      " 20  SLG              2428 non-null   float64\n",
      " 21  OBP              2430 non-null   float64\n",
      " 22  E                2454 non-null   int64  \n",
      " 23  height/weight    1652 non-null   object \n",
      " 24  year_born        2454 non-null   object \n",
      " 25  position         1652 non-null   object \n",
      " 26  career           2454 non-null   object \n",
      " 27  starting_salary  1387 non-null   object \n",
      " 28  OPS              2428 non-null   float64\n",
      "dtypes: float64(4), int64(18), object(7)\n",
      "memory usage: 556.1+ KB\n"
     ]
    }
   ],
   "source": [
    "regular_season_df.info()"
   ]
  },
  {
   "cell_type": "code",
   "execution_count": 45,
   "id": "1db834ab-b3f5-4716-941a-83da576ce4eb",
   "metadata": {},
   "outputs": [
    {
     "name": "stdout",
     "output_type": "stream",
     "text": [
      "<class 'pandas.core.frame.DataFrame'>\n",
      "RangeIndex: 2454 entries, 0 to 2453\n",
      "Data columns (total 30 columns):\n",
      " #   Column           Non-Null Count  Dtype  \n",
      "---  ------           --------------  -----  \n",
      " 0   batter_id        2454 non-null   int64  \n",
      " 1   batter_name      2454 non-null   object \n",
      " 2   year             2454 non-null   int64  \n",
      " 3   team             2454 non-null   object \n",
      " 4   avg              2428 non-null   float64\n",
      " 5   G                2454 non-null   int64  \n",
      " 6   AB               2454 non-null   int64  \n",
      " 7   R                2454 non-null   int64  \n",
      " 8   H                2454 non-null   int64  \n",
      " 9   2B               2454 non-null   int64  \n",
      " 10  3B               2454 non-null   int64  \n",
      " 11  HR               2454 non-null   int64  \n",
      " 12  TB               2454 non-null   int64  \n",
      " 13  RBI              2454 non-null   int64  \n",
      " 14  SB               2454 non-null   int64  \n",
      " 15  CS               2454 non-null   int64  \n",
      " 16  BB               2454 non-null   int64  \n",
      " 17  HBP              2454 non-null   int64  \n",
      " 18  SO               2454 non-null   int64  \n",
      " 19  GDP              2454 non-null   int64  \n",
      " 20  SLG              2428 non-null   float64\n",
      " 21  OBP              2430 non-null   float64\n",
      " 22  E                2454 non-null   int64  \n",
      " 23  height/weight    1652 non-null   object \n",
      " 24  year_born        2454 non-null   object \n",
      " 25  position         1652 non-null   object \n",
      " 26  career           2454 non-null   object \n",
      " 27  starting_salary  1387 non-null   object \n",
      " 28  OPS              2428 non-null   float64\n",
      " 29  new_idx          2454 non-null   object \n",
      "dtypes: float64(4), int64(18), object(8)\n",
      "memory usage: 575.3+ KB\n"
     ]
    }
   ],
   "source": [
    "regular_season_df['new_idx'] = regular_season_df['batter_name'] + regular_season_df['year'].apply(str)\n",
    "regular_season_df.info()"
   ]
  },
  {
   "cell_type": "code",
   "execution_count": 46,
   "id": "bacc1493-18ed-4a69-825a-ccb2340b19e7",
   "metadata": {},
   "outputs": [
    {
     "name": "stdout",
     "output_type": "stream",
     "text": [
      "<class 'pandas.core.frame.DataFrame'>\n",
      "RangeIndex: 1393 entries, 0 to 1392\n",
      "Data columns (total 30 columns):\n",
      " #   Column           Non-Null Count  Dtype  \n",
      "---  ------           --------------  -----  \n",
      " 0   batter_id        1393 non-null   int64  \n",
      " 1   batter_name      1393 non-null   object \n",
      " 2   year             1393 non-null   int64  \n",
      " 3   team             1393 non-null   object \n",
      " 4   avg              1393 non-null   object \n",
      " 5   G                1393 non-null   int64  \n",
      " 6   AB               1393 non-null   int64  \n",
      " 7   R                1393 non-null   int64  \n",
      " 8   H                1393 non-null   int64  \n",
      " 9   2B               1393 non-null   int64  \n",
      " 10  3B               1393 non-null   int64  \n",
      " 11  HR               1393 non-null   int64  \n",
      " 12  TB               1393 non-null   int64  \n",
      " 13  RBI              1393 non-null   int64  \n",
      " 14  SB               1393 non-null   int64  \n",
      " 15  CS               1393 non-null   int64  \n",
      " 16  BB               1393 non-null   int64  \n",
      " 17  HBP              1393 non-null   int64  \n",
      " 18  SO               1393 non-null   int64  \n",
      " 19  GDP              1393 non-null   int64  \n",
      " 20  SLG              1364 non-null   float64\n",
      " 21  OBP              1368 non-null   float64\n",
      " 22  E                1393 non-null   int64  \n",
      " 23  height/weight    1393 non-null   object \n",
      " 24  year_born        1393 non-null   object \n",
      " 25  position         1393 non-null   object \n",
      " 26  career           1393 non-null   object \n",
      " 27  starting_salary  1179 non-null   object \n",
      " 28  OPS              1364 non-null   float64\n",
      " 29  new_idx          1393 non-null   object \n",
      "dtypes: float64(3), int64(18), object(9)\n",
      "memory usage: 326.6+ KB\n"
     ]
    }
   ],
   "source": [
    "preseason_df['new_idx'] = preseason_df['batter_name'] + preseason_df['year'].apply(str)\n",
    "preseason_df.info()"
   ]
  },
  {
   "cell_type": "code",
   "execution_count": 47,
   "id": "3bb97943-990f-4cc6-a0c7-b505c87a1930",
   "metadata": {},
   "outputs": [],
   "source": [
    "intersection_idx = list(set(regular_season_df['new_idx']).intersection(preseason_df['new_idx']))"
   ]
  },
  {
   "cell_type": "code",
   "execution_count": 34,
   "id": "5330867d-924a-4daa-b313-63915cace743",
   "metadata": {},
   "outputs": [
    {
     "name": "stdout",
     "output_type": "stream",
     "text": [
      "1358\n"
     ]
    }
   ],
   "source": [
    "print(len(intersection_idx))"
   ]
  },
  {
   "cell_type": "markdown",
   "id": "75046994-068e-4dc7-b3e6-7eab101d888b",
   "metadata": {},
   "source": [
    "## lambda 함수"
   ]
  },
  {
   "attachments": {
    "c011793d-ce35-4bd9-bce7-d97d89b31f08.png": {
     "image/png": "[encoded data removed]"
    }
   },
   "cell_type": "markdown",
   "id": "91278f0e-454c-4afd-971f-578cd1dc9953",
   "metadata": {},
   "source": [
    "![lambda.png](attachment:c011793d-ce35-4bd9-bce7-d97d89b31f08.png)"
   ]
  },
  {
   "cell_type": "code",
   "execution_count": 35,
   "id": "7e551331-939e-493e-bd1e-8e216e0105fa",
   "metadata": {},
   "outputs": [
    {
     "data": {
      "text/plain": [
       "4"
      ]
     },
     "execution_count": 35,
     "metadata": {},
     "output_type": "execute_result"
    }
   ],
   "source": [
    "def x_3(x):\n",
    "    y = x+3\n",
    "    return y\n",
    "\n",
    "x_3(1)"
   ]
  },
  {
   "cell_type": "code",
   "execution_count": 36,
   "id": "5f71c8fa-ec1e-47dd-8fcd-ddbd24ea00d0",
   "metadata": {},
   "outputs": [
    {
     "data": {
      "text/plain": [
       "4"
      ]
     },
     "execution_count": 36,
     "metadata": {},
     "output_type": "execute_result"
    }
   ],
   "source": [
    "(lambda x : x+3)(1)"
   ]
  },
  {
   "cell_type": "code",
   "execution_count": 48,
   "id": "fc6a2110-61dd-4911-bea6-9a0e81079d7f",
   "metadata": {},
   "outputs": [],
   "source": [
    "regular_season_new = regular_season_df.loc[regular_season_df['new_idx'].\\\n",
    "                     apply(lambda x : x in intersection_idx)]"
   ]
  },
  {
   "cell_type": "code",
   "execution_count": 53,
   "id": "75eab394-3a54-4bc4-a08b-aa85ab92b5fa",
   "metadata": {},
   "outputs": [],
   "source": [
    "preseason_new = preseason_df.loc[preseason_df['new_idx'].\\\n",
    "                                apply(lambda x : x in intersection_idx)]"
   ]
  },
  {
   "cell_type": "code",
   "execution_count": 38,
   "id": "471832a7-2d9b-45b2-be23-1dba703dbff9",
   "metadata": {},
   "outputs": [
    {
     "data": {
      "text/plain": [
       "2444     True\n",
       "2445    False\n",
       "2446    False\n",
       "2447    False\n",
       "2448    False\n",
       "2449     True\n",
       "2450    False\n",
       "2451    False\n",
       "2452    False\n",
       "2453    False\n",
       "Name: new_idx, dtype: bool"
      ]
     },
     "execution_count": 38,
     "metadata": {},
     "output_type": "execute_result"
    }
   ],
   "source": [
    "regular_season_df['new_idx'].\\\n",
    "                     apply(lambda x : x in intersection_idx)[-10:]"
   ]
  },
  {
   "cell_type": "code",
   "execution_count": 49,
   "id": "c089993e-f054-4f3f-9ce0-1b6ebf100aa8",
   "metadata": {},
   "outputs": [
    {
     "data": {
      "text/html": [
       "<div>\n",
       "<style scoped>\n",
       "    .dataframe tbody tr th:only-of-type {\n",
       "        vertical-align: middle;\n",
       "    }\n",
       "\n",
       "    .dataframe tbody tr th {\n",
       "        vertical-align: top;\n",
       "    }\n",
       "\n",
       "    .dataframe thead th {\n",
       "        text-align: right;\n",
       "    }\n",
       "</style>\n",
       "<table border=\"1\" class=\"dataframe\">\n",
       "  <thead>\n",
       "    <tr style=\"text-align: right;\">\n",
       "      <th></th>\n",
       "      <th>batter_id</th>\n",
       "      <th>batter_name</th>\n",
       "      <th>year</th>\n",
       "      <th>team</th>\n",
       "      <th>avg</th>\n",
       "      <th>G</th>\n",
       "      <th>AB</th>\n",
       "      <th>R</th>\n",
       "      <th>H</th>\n",
       "      <th>2B</th>\n",
       "      <th>...</th>\n",
       "      <th>SLG</th>\n",
       "      <th>OBP</th>\n",
       "      <th>E</th>\n",
       "      <th>height/weight</th>\n",
       "      <th>year_born</th>\n",
       "      <th>position</th>\n",
       "      <th>career</th>\n",
       "      <th>starting_salary</th>\n",
       "      <th>OPS</th>\n",
       "      <th>new_idx</th>\n",
       "    </tr>\n",
       "  </thead>\n",
       "  <tbody>\n",
       "    <tr>\n",
       "      <th>0</th>\n",
       "      <td>0</td>\n",
       "      <td>가르시아</td>\n",
       "      <td>2018</td>\n",
       "      <td>LG</td>\n",
       "      <td>0.339</td>\n",
       "      <td>50</td>\n",
       "      <td>183</td>\n",
       "      <td>27</td>\n",
       "      <td>62</td>\n",
       "      <td>9</td>\n",
       "      <td>...</td>\n",
       "      <td>0.519</td>\n",
       "      <td>0.383</td>\n",
       "      <td>9</td>\n",
       "      <td>177cm/93kg</td>\n",
       "      <td>1985년 04월 12일</td>\n",
       "      <td>내야수(우투우타)</td>\n",
       "      <td>쿠바 Ciego de Avila Maximo Gomez Baez(대)</td>\n",
       "      <td>NaN</td>\n",
       "      <td>0.902</td>\n",
       "      <td>가르시아2018</td>\n",
       "    </tr>\n",
       "    <tr>\n",
       "      <th>1</th>\n",
       "      <td>1</td>\n",
       "      <td>강경학</td>\n",
       "      <td>2011</td>\n",
       "      <td>한화</td>\n",
       "      <td>0.000</td>\n",
       "      <td>2</td>\n",
       "      <td>1</td>\n",
       "      <td>0</td>\n",
       "      <td>0</td>\n",
       "      <td>0</td>\n",
       "      <td>...</td>\n",
       "      <td>0.000</td>\n",
       "      <td>0.000</td>\n",
       "      <td>1</td>\n",
       "      <td>180cm/72kg</td>\n",
       "      <td>1992년 08월 11일</td>\n",
       "      <td>내야수(우투좌타)</td>\n",
       "      <td>광주대성초-광주동성중-광주동성고</td>\n",
       "      <td>10000만원</td>\n",
       "      <td>0.000</td>\n",
       "      <td>강경학2011</td>\n",
       "    </tr>\n",
       "    <tr>\n",
       "      <th>2</th>\n",
       "      <td>1</td>\n",
       "      <td>강경학</td>\n",
       "      <td>2014</td>\n",
       "      <td>한화</td>\n",
       "      <td>0.221</td>\n",
       "      <td>41</td>\n",
       "      <td>86</td>\n",
       "      <td>11</td>\n",
       "      <td>19</td>\n",
       "      <td>2</td>\n",
       "      <td>...</td>\n",
       "      <td>0.349</td>\n",
       "      <td>0.337</td>\n",
       "      <td>6</td>\n",
       "      <td>180cm/72kg</td>\n",
       "      <td>1992년 08월 11일</td>\n",
       "      <td>내야수(우투좌타)</td>\n",
       "      <td>광주대성초-광주동성중-광주동성고</td>\n",
       "      <td>10000만원</td>\n",
       "      <td>0.686</td>\n",
       "      <td>강경학2014</td>\n",
       "    </tr>\n",
       "    <tr>\n",
       "      <th>3</th>\n",
       "      <td>1</td>\n",
       "      <td>강경학</td>\n",
       "      <td>2015</td>\n",
       "      <td>한화</td>\n",
       "      <td>0.257</td>\n",
       "      <td>120</td>\n",
       "      <td>311</td>\n",
       "      <td>50</td>\n",
       "      <td>80</td>\n",
       "      <td>7</td>\n",
       "      <td>...</td>\n",
       "      <td>0.325</td>\n",
       "      <td>0.348</td>\n",
       "      <td>15</td>\n",
       "      <td>180cm/72kg</td>\n",
       "      <td>1992년 08월 11일</td>\n",
       "      <td>내야수(우투좌타)</td>\n",
       "      <td>광주대성초-광주동성중-광주동성고</td>\n",
       "      <td>10000만원</td>\n",
       "      <td>0.673</td>\n",
       "      <td>강경학2015</td>\n",
       "    </tr>\n",
       "    <tr>\n",
       "      <th>4</th>\n",
       "      <td>1</td>\n",
       "      <td>강경학</td>\n",
       "      <td>2016</td>\n",
       "      <td>한화</td>\n",
       "      <td>0.158</td>\n",
       "      <td>46</td>\n",
       "      <td>101</td>\n",
       "      <td>16</td>\n",
       "      <td>16</td>\n",
       "      <td>3</td>\n",
       "      <td>...</td>\n",
       "      <td>0.257</td>\n",
       "      <td>0.232</td>\n",
       "      <td>7</td>\n",
       "      <td>180cm/72kg</td>\n",
       "      <td>1992년 08월 11일</td>\n",
       "      <td>내야수(우투좌타)</td>\n",
       "      <td>광주대성초-광주동성중-광주동성고</td>\n",
       "      <td>10000만원</td>\n",
       "      <td>0.489</td>\n",
       "      <td>강경학2016</td>\n",
       "    </tr>\n",
       "    <tr>\n",
       "      <th>...</th>\n",
       "      <td>...</td>\n",
       "      <td>...</td>\n",
       "      <td>...</td>\n",
       "      <td>...</td>\n",
       "      <td>...</td>\n",
       "      <td>...</td>\n",
       "      <td>...</td>\n",
       "      <td>...</td>\n",
       "      <td>...</td>\n",
       "      <td>...</td>\n",
       "      <td>...</td>\n",
       "      <td>...</td>\n",
       "      <td>...</td>\n",
       "      <td>...</td>\n",
       "      <td>...</td>\n",
       "      <td>...</td>\n",
       "      <td>...</td>\n",
       "      <td>...</td>\n",
       "      <td>...</td>\n",
       "      <td>...</td>\n",
       "      <td>...</td>\n",
       "    </tr>\n",
       "    <tr>\n",
       "      <th>1353</th>\n",
       "      <td>342</td>\n",
       "      <td>황재균</td>\n",
       "      <td>2014</td>\n",
       "      <td>롯데</td>\n",
       "      <td>0.321</td>\n",
       "      <td>128</td>\n",
       "      <td>486</td>\n",
       "      <td>66</td>\n",
       "      <td>156</td>\n",
       "      <td>33</td>\n",
       "      <td>...</td>\n",
       "      <td>0.475</td>\n",
       "      <td>0.388</td>\n",
       "      <td>16</td>\n",
       "      <td>183cm/96kg</td>\n",
       "      <td>1987년 07월 28일</td>\n",
       "      <td>내야수(우투우타)</td>\n",
       "      <td>사당초-이수중-경기고-현대-우리-히어로즈-넥센-롯데-샌프란시스코</td>\n",
       "      <td>6000만원</td>\n",
       "      <td>0.863</td>\n",
       "      <td>황재균2014</td>\n",
       "    </tr>\n",
       "    <tr>\n",
       "      <th>1354</th>\n",
       "      <td>342</td>\n",
       "      <td>황재균</td>\n",
       "      <td>2015</td>\n",
       "      <td>롯데</td>\n",
       "      <td>0.290</td>\n",
       "      <td>144</td>\n",
       "      <td>534</td>\n",
       "      <td>95</td>\n",
       "      <td>155</td>\n",
       "      <td>41</td>\n",
       "      <td>...</td>\n",
       "      <td>0.521</td>\n",
       "      <td>0.350</td>\n",
       "      <td>16</td>\n",
       "      <td>183cm/96kg</td>\n",
       "      <td>1987년 07월 28일</td>\n",
       "      <td>내야수(우투우타)</td>\n",
       "      <td>사당초-이수중-경기고-현대-우리-히어로즈-넥센-롯데-샌프란시스코</td>\n",
       "      <td>6000만원</td>\n",
       "      <td>0.871</td>\n",
       "      <td>황재균2015</td>\n",
       "    </tr>\n",
       "    <tr>\n",
       "      <th>1355</th>\n",
       "      <td>342</td>\n",
       "      <td>황재균</td>\n",
       "      <td>2016</td>\n",
       "      <td>롯데</td>\n",
       "      <td>0.335</td>\n",
       "      <td>127</td>\n",
       "      <td>498</td>\n",
       "      <td>97</td>\n",
       "      <td>167</td>\n",
       "      <td>26</td>\n",
       "      <td>...</td>\n",
       "      <td>0.570</td>\n",
       "      <td>0.394</td>\n",
       "      <td>15</td>\n",
       "      <td>183cm/96kg</td>\n",
       "      <td>1987년 07월 28일</td>\n",
       "      <td>내야수(우투우타)</td>\n",
       "      <td>사당초-이수중-경기고-현대-우리-히어로즈-넥센-롯데-샌프란시스코</td>\n",
       "      <td>6000만원</td>\n",
       "      <td>0.964</td>\n",
       "      <td>황재균2016</td>\n",
       "    </tr>\n",
       "    <tr>\n",
       "      <th>1356</th>\n",
       "      <td>342</td>\n",
       "      <td>황재균</td>\n",
       "      <td>2018</td>\n",
       "      <td>KT</td>\n",
       "      <td>0.296</td>\n",
       "      <td>142</td>\n",
       "      <td>530</td>\n",
       "      <td>76</td>\n",
       "      <td>157</td>\n",
       "      <td>41</td>\n",
       "      <td>...</td>\n",
       "      <td>0.526</td>\n",
       "      <td>0.358</td>\n",
       "      <td>17</td>\n",
       "      <td>183cm/96kg</td>\n",
       "      <td>1987년 07월 28일</td>\n",
       "      <td>내야수(우투우타)</td>\n",
       "      <td>사당초-이수중-경기고-현대-우리-히어로즈-넥센-롯데-샌프란시스코</td>\n",
       "      <td>6000만원</td>\n",
       "      <td>0.884</td>\n",
       "      <td>황재균2018</td>\n",
       "    </tr>\n",
       "    <tr>\n",
       "      <th>1357</th>\n",
       "      <td>344</td>\n",
       "      <td>황진수</td>\n",
       "      <td>2014</td>\n",
       "      <td>롯데</td>\n",
       "      <td>0.000</td>\n",
       "      <td>5</td>\n",
       "      <td>5</td>\n",
       "      <td>0</td>\n",
       "      <td>0</td>\n",
       "      <td>0</td>\n",
       "      <td>...</td>\n",
       "      <td>0.000</td>\n",
       "      <td>0.000</td>\n",
       "      <td>0</td>\n",
       "      <td>181cm/82kg</td>\n",
       "      <td>1989년 02월 15일</td>\n",
       "      <td>내야수(우투양타)</td>\n",
       "      <td>석천초-대헌중-공주고</td>\n",
       "      <td>4000만원</td>\n",
       "      <td>0.000</td>\n",
       "      <td>황진수2014</td>\n",
       "    </tr>\n",
       "  </tbody>\n",
       "</table>\n",
       "<p>1358 rows × 30 columns</p>\n",
       "</div>"
      ],
      "text/plain": [
       "      batter_id batter_name  year team    avg    G   AB   R    H  2B  ...  \\\n",
       "0             0        가르시아  2018   LG  0.339   50  183  27   62   9  ...   \n",
       "1             1         강경학  2011   한화  0.000    2    1   0    0   0  ...   \n",
       "2             1         강경학  2014   한화  0.221   41   86  11   19   2  ...   \n",
       "3             1         강경학  2015   한화  0.257  120  311  50   80   7  ...   \n",
       "4             1         강경학  2016   한화  0.158   46  101  16   16   3  ...   \n",
       "...         ...         ...   ...  ...    ...  ...  ...  ..  ...  ..  ...   \n",
       "1353        342         황재균  2014   롯데  0.321  128  486  66  156  33  ...   \n",
       "1354        342         황재균  2015   롯데  0.290  144  534  95  155  41  ...   \n",
       "1355        342         황재균  2016   롯데  0.335  127  498  97  167  26  ...   \n",
       "1356        342         황재균  2018   KT  0.296  142  530  76  157  41  ...   \n",
       "1357        344         황진수  2014   롯데  0.000    5    5   0    0   0  ...   \n",
       "\n",
       "        SLG    OBP   E  height/weight      year_born   position  \\\n",
       "0     0.519  0.383   9     177cm/93kg  1985년 04월 12일  내야수(우투우타)   \n",
       "1     0.000  0.000   1     180cm/72kg  1992년 08월 11일  내야수(우투좌타)   \n",
       "2     0.349  0.337   6     180cm/72kg  1992년 08월 11일  내야수(우투좌타)   \n",
       "3     0.325  0.348  15     180cm/72kg  1992년 08월 11일  내야수(우투좌타)   \n",
       "4     0.257  0.232   7     180cm/72kg  1992년 08월 11일  내야수(우투좌타)   \n",
       "...     ...    ...  ..            ...            ...        ...   \n",
       "1353  0.475  0.388  16     183cm/96kg  1987년 07월 28일  내야수(우투우타)   \n",
       "1354  0.521  0.350  16     183cm/96kg  1987년 07월 28일  내야수(우투우타)   \n",
       "1355  0.570  0.394  15     183cm/96kg  1987년 07월 28일  내야수(우투우타)   \n",
       "1356  0.526  0.358  17     183cm/96kg  1987년 07월 28일  내야수(우투우타)   \n",
       "1357  0.000  0.000   0     181cm/82kg  1989년 02월 15일  내야수(우투양타)   \n",
       "\n",
       "                                      career  starting_salary    OPS   new_idx  \n",
       "0     쿠바 Ciego de Avila Maximo Gomez Baez(대)              NaN  0.902  가르시아2018  \n",
       "1                          광주대성초-광주동성중-광주동성고          10000만원  0.000   강경학2011  \n",
       "2                          광주대성초-광주동성중-광주동성고          10000만원  0.686   강경학2014  \n",
       "3                          광주대성초-광주동성중-광주동성고          10000만원  0.673   강경학2015  \n",
       "4                          광주대성초-광주동성중-광주동성고          10000만원  0.489   강경학2016  \n",
       "...                                      ...              ...    ...       ...  \n",
       "1353     사당초-이수중-경기고-현대-우리-히어로즈-넥센-롯데-샌프란시스코           6000만원  0.863   황재균2014  \n",
       "1354     사당초-이수중-경기고-현대-우리-히어로즈-넥센-롯데-샌프란시스코           6000만원  0.871   황재균2015  \n",
       "1355     사당초-이수중-경기고-현대-우리-히어로즈-넥센-롯데-샌프란시스코           6000만원  0.964   황재균2016  \n",
       "1356     사당초-이수중-경기고-현대-우리-히어로즈-넥센-롯데-샌프란시스코           6000만원  0.884   황재균2018  \n",
       "1357                             석천초-대헌중-공주고           4000만원  0.000   황진수2014  \n",
       "\n",
       "[1358 rows x 30 columns]"
      ]
     },
     "execution_count": 49,
     "metadata": {},
     "output_type": "execute_result"
    }
   ],
   "source": [
    "regular_season_new = regular_season_new.sort_values(by='new_idx').reset_index(drop = True)\n",
    "regular_season_new"
   ]
  },
  {
   "cell_type": "code",
   "execution_count": 68,
   "id": "c95ac278-859d-4d7e-ac30-321ba490823d",
   "metadata": {},
   "outputs": [
    {
     "data": {
      "text/plain": [
       "(1358, 30)"
      ]
     },
     "execution_count": 68,
     "metadata": {},
     "output_type": "execute_result"
    }
   ],
   "source": [
    "regular_season_new.shape"
   ]
  },
  {
   "cell_type": "code",
   "execution_count": 69,
   "id": "c5c367f8-40da-474e-9a4c-c28c1b33b3d1",
   "metadata": {},
   "outputs": [
    {
     "data": {
      "text/plain": [
       "(1358, 30)"
      ]
     },
     "execution_count": 69,
     "metadata": {},
     "output_type": "execute_result"
    }
   ],
   "source": [
    "preseason_new.shape"
   ]
  },
  {
   "cell_type": "code",
   "execution_count": 70,
   "id": "cd25b642-63ca-48cb-bb1f-5a38f17e2178",
   "metadata": {},
   "outputs": [],
   "source": [
    "import matplotlib.pyplot as plt"
   ]
  },
  {
   "cell_type": "code",
   "execution_count": 71,
   "id": "b463fac8-8939-4998-807e-39d686c87ad1",
   "metadata": {},
   "outputs": [
    {
     "data": {
      "image/png": "[encoded data removed]",
      "text/plain": [
       "<Figure size 432x720 with 1 Axes>"
      ]
     },
     "metadata": {
      "needs_background": "light"
     },
     "output_type": "display_data"
    }
   ],
   "source": [
    "plt.figure(figsize = (6,10))\n",
    "plt.plot(regular_season_new['OPS'], 'o', color ='orange')\n",
    "plt.title(\"regular_season_new['OPS']\")\n",
    "plt.xlabel('index')\n",
    "plt.ylabel('OPS')\n",
    "plt.grid()\n",
    "plt.show()"
   ]
  },
  {
   "cell_type": "code",
   "execution_count": 72,
   "id": "cd677eca-b603-4a4c-8ea8-b10006f8ef4a",
   "metadata": {},
   "outputs": [
    {
     "data": {
      "image/png": "[encoded data removed]",
      "text/plain": [
       "<Figure size 432x720 with 1 Axes>"
      ]
     },
     "metadata": {
      "needs_background": "light"
     },
     "output_type": "display_data"
    }
   ],
   "source": [
    "plt.figure(figsize = (6,10))\n",
    "plt.plot(preseason_new['OPS'], 'o', color ='red')\n",
    "plt.title(\"preseason_new['OPS']\")\n",
    "plt.xlabel('index')\n",
    "plt.ylabel('OPS')\n",
    "plt.grid()\n",
    "plt.show()"
   ]
  },
  {
   "cell_type": "code",
   "execution_count": 73,
   "id": "02731af4-f832-465b-a505-bbc0cc14d6a0",
   "metadata": {},
   "outputs": [],
   "source": [
    "corr = regular_season_new['OPS'].corr(preseason_new['OPS'])"
   ]
  },
  {
   "cell_type": "code",
   "execution_count": 74,
   "id": "5405026d-b5ad-4bd2-88c8-2bdb595abae0",
   "metadata": {},
   "outputs": [],
   "source": [
    "import seaborn as sns"
   ]
  },
  {
   "cell_type": "code",
   "execution_count": 75,
   "id": "95158ea8-0c87-4667-b742-2f117d26d8ea",
   "metadata": {},
   "outputs": [
    {
     "data": {
      "image/png": "[encoded data removed]",
      "text/plain": [
       "<Figure size 432x288 with 1 Axes>"
      ]
     },
     "metadata": {
      "needs_background": "light"
     },
     "output_type": "display_data"
    }
   ],
   "source": [
    "import numpy as np\n",
    "\n",
    "sns.regplot(x = regular_season_new['OPS'],\n",
    "           y = preseason_new['OPS'],\n",
    "           fit_reg = True,\n",
    "           color = 'green')\n",
    "\n",
    "plt.title(\"Corr : {} \".format(np.round(corr,3)),\n",
    "         fontsize = 30)\n",
    "plt.xlabel(\"regular_season_ops\", fontsize = 15)\n",
    "plt.ylabel(\"preseason_ops\", fontsize = 15)\n",
    "\n",
    "plt.grid()\n",
    "plt.show()"
   ]
  },
  {
   "cell_type": "code",
   "execution_count": 77,
   "id": "d57cae49-2b7c-418b-a42e-7d078351a2d8",
   "metadata": {},
   "outputs": [],
   "source": [
    "regular_season_df2 = pd.read_csv('data/Regular_Season_Batter.csv')"
   ]
  },
  {
   "cell_type": "code",
   "execution_count": 79,
   "id": "7520a71e-d8d2-4a40-acc4-e43770f7c7da",
   "metadata": {},
   "outputs": [
    {
     "name": "stdout",
     "output_type": "stream",
     "text": [
      "<class 'pandas.core.frame.DataFrame'>\n",
      "RangeIndex: 2454 entries, 0 to 2453\n",
      "Data columns (total 29 columns):\n",
      " #   Column           Non-Null Count  Dtype  \n",
      "---  ------           --------------  -----  \n",
      " 0   batter_id        2454 non-null   int64  \n",
      " 1   batter_name      2454 non-null   object \n",
      " 2   year             2454 non-null   int64  \n",
      " 3   team             2454 non-null   object \n",
      " 4   avg              2428 non-null   float64\n",
      " 5   G                2454 non-null   int64  \n",
      " 6   AB               2454 non-null   int64  \n",
      " 7   R                2454 non-null   int64  \n",
      " 8   H                2454 non-null   int64  \n",
      " 9   2B               2454 non-null   int64  \n",
      " 10  3B               2454 non-null   int64  \n",
      " 11  HR               2454 non-null   int64  \n",
      " 12  TB               2454 non-null   int64  \n",
      " 13  RBI              2454 non-null   int64  \n",
      " 14  SB               2454 non-null   int64  \n",
      " 15  CS               2454 non-null   int64  \n",
      " 16  BB               2454 non-null   int64  \n",
      " 17  HBP              2454 non-null   int64  \n",
      " 18  SO               2454 non-null   int64  \n",
      " 19  GDP              2454 non-null   int64  \n",
      " 20  SLG              2428 non-null   float64\n",
      " 21  OBP              2430 non-null   float64\n",
      " 22  E                2454 non-null   int64  \n",
      " 23  height/weight    1652 non-null   object \n",
      " 24  year_born        2454 non-null   object \n",
      " 25  position         1652 non-null   object \n",
      " 26  career           2454 non-null   object \n",
      " 27  starting_salary  1387 non-null   object \n",
      " 28  OPS              2428 non-null   float64\n",
      "dtypes: float64(4), int64(18), object(7)\n",
      "memory usage: 556.1+ KB\n"
     ]
    }
   ],
   "source": [
    "regular_season_df2.info()"
   ]
  },
  {
   "cell_type": "code",
   "execution_count": 80,
   "id": "b2de7197-7903-49ba-9d38-3a1e5aa84680",
   "metadata": {},
   "outputs": [
    {
     "data": {
      "text/plain": [
       "10    180cm/82kg\n",
       "11    180cm/82kg\n",
       "12           NaN\n",
       "13           NaN\n",
       "14           NaN\n",
       "15           NaN\n",
       "16           NaN\n",
       "17           NaN\n",
       "18           NaN\n",
       "19           NaN\n",
       "Name: height/weight, dtype: object"
      ]
     },
     "execution_count": 80,
     "metadata": {},
     "output_type": "execute_result"
    }
   ],
   "source": [
    "regular_season_df2['height/weight'][10:20]"
   ]
  },
  {
   "cell_type": "markdown",
   "id": "193dd1f4-1b88-4113-8837-10ad6a2ae423",
   "metadata": {},
   "source": [
    "### 1. / 를 기준으로 분리\n",
    "### 2. 결측치 처리"
   ]
  },
  {
   "cell_type": "code",
   "execution_count": 82,
   "id": "5f3f8e85-75a3-4651-b6e9-1ed7e3de32b0",
   "metadata": {},
   "outputs": [],
   "source": [
    "regular_season_HW_OPS = regular_season_df2[['height/weight', 'OPS', 'OBP', \"SLG\"]]"
   ]
  },
  {
   "cell_type": "code",
   "execution_count": 83,
   "id": "d5dd33f5-b364-49fb-af41-92214c8b11b2",
   "metadata": {},
   "outputs": [
    {
     "name": "stdout",
     "output_type": "stream",
     "text": [
      "<class 'pandas.core.frame.DataFrame'>\n",
      "RangeIndex: 2454 entries, 0 to 2453\n",
      "Data columns (total 4 columns):\n",
      " #   Column         Non-Null Count  Dtype  \n",
      "---  ------         --------------  -----  \n",
      " 0   height/weight  1652 non-null   object \n",
      " 1   OPS            2428 non-null   float64\n",
      " 2   OBP            2430 non-null   float64\n",
      " 3   SLG            2428 non-null   float64\n",
      "dtypes: float64(3), object(1)\n",
      "memory usage: 76.8+ KB\n"
     ]
    }
   ],
   "source": [
    "regular_season_HW_OPS.info()"
   ]
  },
  {
   "cell_type": "code",
   "execution_count": 84,
   "id": "9385fc43-a8af-4410-a906-3b87bd323f66",
   "metadata": {},
   "outputs": [
    {
     "name": "stdout",
     "output_type": "stream",
     "text": [
      "<class 'pandas.core.frame.DataFrame'>\n",
      "Int64Index: 1634 entries, 0 to 2453\n",
      "Data columns (total 4 columns):\n",
      " #   Column         Non-Null Count  Dtype  \n",
      "---  ------         --------------  -----  \n",
      " 0   height/weight  1634 non-null   object \n",
      " 1   OPS            1634 non-null   float64\n",
      " 2   OBP            1634 non-null   float64\n",
      " 3   SLG            1634 non-null   float64\n",
      "dtypes: float64(3), object(1)\n",
      "memory usage: 63.8+ KB\n"
     ]
    }
   ],
   "source": [
    "regular_season_HW_OPS = regular_season_HW_OPS.dropna(axis=0)\n",
    "regular_season_HW_OPS.info()"
   ]
  },
  {
   "cell_type": "code",
   "execution_count": 85,
   "id": "d651ed3a-19fb-4ab7-a23f-b60a31c53dd6",
   "metadata": {},
   "outputs": [
    {
     "data": {
      "text/html": [
       "<div>\n",
       "<style scoped>\n",
       "    .dataframe tbody tr th:only-of-type {\n",
       "        vertical-align: middle;\n",
       "    }\n",
       "\n",
       "    .dataframe tbody tr th {\n",
       "        vertical-align: top;\n",
       "    }\n",
       "\n",
       "    .dataframe thead th {\n",
       "        text-align: right;\n",
       "    }\n",
       "</style>\n",
       "<table border=\"1\" class=\"dataframe\">\n",
       "  <thead>\n",
       "    <tr style=\"text-align: right;\">\n",
       "      <th></th>\n",
       "      <th>height/weight</th>\n",
       "      <th>OPS</th>\n",
       "      <th>OBP</th>\n",
       "      <th>SLG</th>\n",
       "    </tr>\n",
       "  </thead>\n",
       "  <tbody>\n",
       "    <tr>\n",
       "      <th>10</th>\n",
       "      <td>180cm/82kg</td>\n",
       "      <td>0.000</td>\n",
       "      <td>0.000</td>\n",
       "      <td>0.000</td>\n",
       "    </tr>\n",
       "    <tr>\n",
       "      <th>11</th>\n",
       "      <td>180cm/82kg</td>\n",
       "      <td>0.600</td>\n",
       "      <td>0.200</td>\n",
       "      <td>0.400</td>\n",
       "    </tr>\n",
       "    <tr>\n",
       "      <th>12</th>\n",
       "      <td>176cm/80kg</td>\n",
       "      <td>0.000</td>\n",
       "      <td>0.000</td>\n",
       "      <td>0.000</td>\n",
       "    </tr>\n",
       "    <tr>\n",
       "      <th>13</th>\n",
       "      <td>176cm/80kg</td>\n",
       "      <td>0.000</td>\n",
       "      <td>0.000</td>\n",
       "      <td>0.000</td>\n",
       "    </tr>\n",
       "    <tr>\n",
       "      <th>14</th>\n",
       "      <td>176cm/80kg</td>\n",
       "      <td>0.504</td>\n",
       "      <td>0.200</td>\n",
       "      <td>0.304</td>\n",
       "    </tr>\n",
       "    <tr>\n",
       "      <th>15</th>\n",
       "      <td>176cm/80kg</td>\n",
       "      <td>0.500</td>\n",
       "      <td>0.250</td>\n",
       "      <td>0.250</td>\n",
       "    </tr>\n",
       "    <tr>\n",
       "      <th>16</th>\n",
       "      <td>185cm/100kg</td>\n",
       "      <td>0.000</td>\n",
       "      <td>0.000</td>\n",
       "      <td>0.000</td>\n",
       "    </tr>\n",
       "    <tr>\n",
       "      <th>17</th>\n",
       "      <td>185cm/100kg</td>\n",
       "      <td>0.608</td>\n",
       "      <td>0.267</td>\n",
       "      <td>0.341</td>\n",
       "    </tr>\n",
       "    <tr>\n",
       "      <th>18</th>\n",
       "      <td>185cm/100kg</td>\n",
       "      <td>0.673</td>\n",
       "      <td>0.307</td>\n",
       "      <td>0.366</td>\n",
       "    </tr>\n",
       "    <tr>\n",
       "      <th>19</th>\n",
       "      <td>185cm/100kg</td>\n",
       "      <td>0.756</td>\n",
       "      <td>0.335</td>\n",
       "      <td>0.421</td>\n",
       "    </tr>\n",
       "  </tbody>\n",
       "</table>\n",
       "</div>"
      ],
      "text/plain": [
       "   height/weight    OPS    OBP    SLG\n",
       "10    180cm/82kg  0.000  0.000  0.000\n",
       "11    180cm/82kg  0.600  0.200  0.400\n",
       "12    176cm/80kg  0.000  0.000  0.000\n",
       "13    176cm/80kg  0.000  0.000  0.000\n",
       "14    176cm/80kg  0.504  0.200  0.304\n",
       "15    176cm/80kg  0.500  0.250  0.250\n",
       "16   185cm/100kg  0.000  0.000  0.000\n",
       "17   185cm/100kg  0.608  0.267  0.341\n",
       "18   185cm/100kg  0.673  0.307  0.366\n",
       "19   185cm/100kg  0.756  0.335  0.421"
      ]
     },
     "execution_count": 85,
     "metadata": {},
     "output_type": "execute_result"
    }
   ],
   "source": [
    "regular_season_HW_OPS = regular_season_HW_OPS.reset_index(drop=True)\n",
    "regular_season_HW_OPS[10:20]"
   ]
  },
  {
   "cell_type": "code",
   "execution_count": 86,
   "id": "34bf6ace-50d4-4c74-a322-d6bb0e3ba67d",
   "metadata": {
    "collapsed": true,
    "jupyter": {
     "outputs_hidden": true
    },
    "tags": []
   },
   "outputs": [
    {
     "name": "stdout",
     "output_type": "stream",
     "text": [
      "['177/93kg', '180/72kg', '180/72kg', '180/72kg', '180/72kg', '180/72kg', '180/72kg', '180/82kg', '180/82kg', '180/82kg', '180/82kg', '180/82kg', '176/80kg', '176/80kg', '176/80kg', '176/80kg', '185/100kg', '185/100kg', '185/100kg', '185/100kg', '185/100kg', '185/100kg', '185/100kg', '185/100kg', '185/100kg', '185/100kg', '185/100kg', '185/100kg', '185/100kg', '185/100kg', '185/100kg', '184/98kg', '172/64kg', '172/64kg', '179/77kg', '179/77kg', '179/77kg', '180/81kg', '180/81kg', '180/81kg', '181/66kg', '181/66kg', '181/66kg', '181/66kg', '181/66kg', '178/68kg', '184/83kg', '184/83kg', '184/83kg', '184/83kg', '184/83kg', '184/83kg', '189/75kg', '189/75kg', '189/75kg', '189/75kg', '180/94kg', '180/94kg', '180/94kg', '180/94kg', '180/94kg', '180/88kg', '180/88kg', '180/88kg', '177/85kg', '177/85kg', '177/85kg', '177/85kg', '177/85kg', '182/85kg', '182/85kg', '182/85kg', '182/85kg', '182/85kg', '182/85kg', '182/85kg', '182/85kg', '182/85kg', '182/85kg', '182/85kg', '182/85kg', '182/85kg', '182/85kg', '182/85kg', '182/85kg', '188/85kg', '188/85kg', '184/80kg', '184/80kg', '184/80kg', '184/80kg', '184/80kg', '184/80kg', '184/80kg', '186/101kg', '186/101kg', '186/101kg', '183/89kg', '183/89kg', '183/89kg', '183/89kg', '183/89kg', '183/89kg', '174/74kg', '174/74kg', '174/74kg', '174/74kg', '174/74kg', '180/80kg', '180/80kg', '185/102kg', '185/102kg', '185/102kg', '185/102kg', '185/102kg', '185/102kg', '185/102kg', '185/102kg', '185/102kg', '185/102kg', '185/102kg', '181/94kg', '181/94kg', '181/94kg', '181/94kg', '181/94kg', '181/94kg', '181/94kg', '181/94kg', '181/94kg', '181/94kg', '181/94kg', '181/94kg', '177/80kg', '177/80kg', '177/80kg', '180/80kg', '180/80kg', '180/80kg', '180/80kg', '181/80kg', '181/80kg', '181/80kg', '181/80kg', '181/80kg', '181/88kg', '181/88kg', '181/88kg', '181/88kg', '181/88kg', '173/89kg', '173/89kg', '173/89kg', '173/89kg', '173/89kg', '173/89kg', '175/68kg', '175/68kg', '175/68kg', '175/68kg', '175/68kg', '175/68kg', '175/68kg', '175/68kg', '175/68kg', '175/68kg', '181/87kg', '181/87kg', '181/87kg', '181/87kg', '165/77kg', '165/77kg', '165/77kg', '165/77kg', '165/77kg', '165/77kg', '165/77kg', '165/77kg', '165/77kg', '165/77kg', '181/83kg', '181/83kg', '181/83kg', '181/83kg', '181/83kg', '181/83kg', '172/72kg', '172/72kg', '172/72kg', '172/72kg', '172/72kg', '172/72kg', '172/72kg', '172/72kg', '172/72kg', '172/72kg', '172/68kg', '172/68kg', '187/74kg', '187/74kg', '187/74kg', '187/74kg', '187/74kg', '187/74kg', '187/74kg', '187/74kg', '178/90kg', '178/90kg', '178/90kg', '178/78kg', '178/78kg', '178/78kg', '177/84kg', '177/84kg', '185/85kg', '186/90kg', '186/90kg', '186/90kg', '186/90kg', '186/90kg', '176/76kg', '176/76kg', '176/76kg', '176/76kg', '181/75kg', '181/75kg', '181/75kg', '181/75kg', '181/75kg', '181/75kg', '181/75kg', '181/75kg', '181/75kg', '181/75kg', '181/75kg', '181/75kg', '181/75kg', '183/90kg', '183/90kg', '183/90kg', '183/90kg', '183/90kg', '183/90kg', '183/90kg', '183/90kg', '172/83kg', '183/94kg', '183/94kg', '183/94kg', '183/94kg', '183/94kg', '183/94kg', '183/94kg', '183/94kg', '183/94kg', '183/94kg', '183/94kg', '183/94kg', '183/94kg', '183/94kg', '183/94kg', '183/94kg', '183/94kg', '186/108kg', '186/108kg', '186/108kg', '186/108kg', '186/108kg', '186/108kg', '186/108kg', '186/108kg', '186/108kg', '186/108kg', '186/108kg', '186/108kg', '186/108kg', '180/81kg', '180/81kg', '180/81kg', '180/81kg', '180/81kg', '180/81kg', '180/81kg', '180/81kg', '173/75kg', '173/75kg', '173/75kg', '173/75kg', '182/87kg', '185/110kg', '185/110kg', '185/110kg', '185/110kg', '185/110kg', '185/110kg', '185/110kg', '185/110kg', '185/110kg', '185/110kg', '185/110kg', '185/110kg', '185/110kg', '185/110kg', '185/110kg', '185/110kg', '178/99kg', '178/99kg', '189/105kg', '189/105kg', '189/105kg', '189/105kg', '189/105kg', '189/105kg', '189/105kg', '189/105kg', '189/105kg', '189/105kg', '189/105kg', '170/75kg', '170/75kg', '170/75kg', '175/76kg', '175/76kg', '175/76kg', '175/76kg', '175/76kg', '174/81kg', '174/81kg', '174/81kg', '174/81kg', '174/81kg', '174/81kg', '188/100kg', '188/100kg', '188/100kg', '188/100kg', '188/100kg', '188/100kg', '188/100kg', '188/100kg', '188/100kg', '188/100kg', '188/100kg', '187/98kg', '179/78kg', '179/78kg', '190/92kg', '190/92kg', '190/92kg', '190/92kg', '190/92kg', '190/92kg', '190/92kg', '190/92kg', '177/80kg', '177/80kg', '177/80kg', '183/100kg', '183/100kg', '183/100kg', '183/100kg', '183/100kg', '183/100kg', '183/93kg', '183/93kg', '185/99kg', '185/99kg', '180/84kg', '180/84kg', '180/84kg', '180/84kg', '180/84kg', '180/84kg', '180/84kg', '180/84kg', '180/84kg', '180/84kg', '180/84kg', '180/84kg', '180/84kg', '180/84kg', '182/105kg', '182/105kg', '182/105kg', '182/105kg', '182/105kg', '182/105kg', '182/105kg', '182/105kg', '182/105kg', '182/105kg', '182/105kg', '187/107kg', '187/107kg', '187/107kg', '180/80kg', '180/80kg', '180/80kg', '180/80kg', '180/80kg', '184/80kg', '184/80kg', '184/80kg', '184/80kg', '184/80kg', '184/85kg', '184/85kg', '184/85kg', '190/113kg', '190/113kg', '188/100kg', '188/100kg', '189/102kg', '189/102kg', '181/75kg', '181/75kg', '181/75kg', '181/75kg', '181/75kg', '188/89kg', '188/89kg', '188/89kg', '188/89kg', '188/89kg', '188/89kg', '188/89kg', '188/89kg', '188/89kg', '188/89kg', '185/92kg', '185/92kg', '185/92kg', '185/92kg', '185/92kg', '185/92kg', '185/92kg', '185/92kg', '185/92kg', '185/92kg', '185/92kg', '185/92kg', '185/92kg', '185/92kg', '178/87kg', '178/87kg', '178/87kg', '178/87kg', '178/87kg', '178/87kg', '178/87kg', '178/87kg', '178/87kg', '178/87kg', '178/87kg', '178/87kg', '184/80kg', '184/80kg', '184/80kg', '184/80kg', '184/80kg', '184/80kg', '184/80kg', '178/80kg', '178/80kg', '178/80kg', '178/80kg', '178/80kg', '178/80kg', '178/80kg', '178/80kg', '178/80kg', '178/80kg', '178/80kg', '178/80kg', '178/80kg', '178/80kg', '182/85kg', '182/85kg', '182/85kg', '182/85kg', '179/77kg', '179/77kg', '179/77kg', '179/77kg', '179/77kg', '179/77kg', '179/77kg', '179/77kg', '179/77kg', '179/77kg', '179/77kg', '179/77kg', '179/77kg', '179/77kg', '179/77kg', '179/77kg', '179/77kg', '179/92kg', '179/92kg', '179/92kg', '179/92kg', '179/92kg', '179/92kg', '179/92kg', '185/80kg', '185/80kg', '185/80kg', '185/80kg', '185/80kg', '185/80kg', '185/107kg', '185/107kg', '185/107kg', '185/107kg', '185/107kg', '185/107kg', '185/107kg', '185/107kg', '185/107kg', '185/107kg', '178/88kg', '178/88kg', '178/88kg', '178/88kg', '178/88kg', '178/88kg', '178/88kg', '178/88kg', '178/88kg', '178/88kg', '178/88kg', '178/88kg', '178/88kg', '181/86kg', '181/86kg', '181/86kg', '181/86kg', '181/86kg', '184/78kg', '184/78kg', '184/78kg', '184/78kg', '184/78kg', '185/90kg', '185/90kg', '185/90kg', '185/90kg', '185/90kg', '185/90kg', '185/90kg', '185/90kg', '185/90kg', '185/90kg', '185/90kg', '185/90kg', '185/90kg', '185/90kg', '185/90kg', '185/90kg', '185/90kg', '177/77kg', '187/96kg', '187/96kg', '187/96kg', '187/96kg', '187/96kg', '187/96kg', '187/96kg', '187/96kg', '187/96kg', '187/96kg', '187/96kg', '187/96kg', '187/96kg', '175/77kg', '175/77kg', '175/77kg', '176/76kg', '176/76kg', '176/76kg', '176/76kg', '176/76kg', '176/76kg', '176/76kg', '181/75kg', '181/75kg', '181/75kg', '183/80kg', '183/80kg', '185/75kg', '185/75kg', '185/75kg', '185/75kg', '182/91kg', '182/91kg', '182/91kg', '182/91kg', '182/91kg', '182/91kg', '182/91kg', '182/91kg', '182/91kg', '182/91kg', '182/91kg', '182/91kg', '182/91kg', '182/91kg', '182/91kg', '182/91kg', '182/91kg', '182/91kg', '180/75kg', '180/75kg', '180/75kg', '180/75kg', '180/75kg', '178/102kg', '178/102kg', '178/102kg', '178/102kg', '178/102kg', '178/102kg', '178/102kg', '178/102kg', '178/78kg', '178/78kg', '178/78kg', '178/78kg', '178/78kg', '178/78kg', '178/78kg', '178/78kg', '185/80kg', '185/80kg', '185/80kg', '184/98kg', '184/98kg', '184/98kg', '184/98kg', '177/76kg', '177/76kg', '177/76kg', '177/76kg', '177/76kg', '177/76kg', '180/95kg', '180/95kg', '180/95kg', '180/95kg', '180/95kg', '180/95kg', '179/79kg', '179/79kg', '179/79kg', '179/79kg', '179/79kg', '179/79kg', '179/79kg', '188/95kg', '188/95kg', '188/93kg', '188/93kg', '193/105kg', '176/84kg', '176/84kg', '176/84kg', '176/84kg', '176/84kg', '176/84kg', '176/84kg', '176/84kg', '188/99kg', '188/99kg', '188/99kg', '188/99kg', '188/99kg', '188/99kg', '188/99kg', '188/99kg', '188/99kg', '188/99kg', '188/99kg', '188/99kg', '188/99kg', '188/99kg', '187/90kg', '187/90kg', '187/90kg', '187/90kg', '187/90kg', '172/73kg', '172/73kg', '172/73kg', '172/73kg', '172/73kg', '172/73kg', '172/73kg', '172/73kg', '172/73kg', '172/73kg', '172/73kg', '172/73kg', '172/73kg', '172/73kg', '174/84kg', '174/84kg', '174/84kg', '174/84kg', '174/84kg', '174/84kg', '174/84kg', '174/84kg', '174/84kg', '174/84kg', '174/84kg', '174/84kg', '179/82kg', '179/82kg', '179/82kg', '179/82kg', '179/82kg', '179/82kg', '179/82kg', '179/82kg', '179/82kg', '179/82kg', '179/82kg', '179/82kg', '179/82kg', '184/90kg', '184/90kg', '184/90kg', '184/90kg', '184/90kg', '184/90kg', '184/90kg', '184/90kg', '184/90kg', '184/90kg', '184/90kg', '177/80kg', '177/80kg', '183/88kg', '183/88kg', '183/88kg', '183/98kg', '183/98kg', '177/83kg', '179/88kg', '179/88kg', '179/88kg', '179/88kg', '179/88kg', '179/88kg', '183/92kg', '183/92kg', '183/92kg', '183/92kg', '183/87kg', '183/87kg', '183/87kg', '183/87kg', '183/87kg', '183/87kg', '183/87kg', '183/87kg', '183/87kg', '183/87kg', '183/87kg', '183/75kg', '183/75kg', '183/75kg', '183/75kg', '176/70kg', '176/70kg', '176/70kg', '176/70kg', '175/87kg', '175/87kg', '175/87kg', '178/90kg', '178/90kg', '178/90kg', '178/90kg', '178/90kg', '178/90kg', '178/90kg', '178/90kg', '178/90kg', '185/90kg', '185/90kg', '185/90kg', '185/90kg', '174/84kg', '174/84kg', '174/84kg', '174/84kg', '174/84kg', '179/85kg', '179/85kg', '179/85kg', '179/85kg', '179/85kg', '179/85kg', '179/85kg', '179/85kg', '179/85kg', '179/85kg', '181/81kg', '181/81kg', '181/81kg', '181/81kg', '181/81kg', '181/81kg', '181/81kg', '183/85kg', '183/85kg', '178/80kg', '178/80kg', '178/80kg', '178/80kg', '178/80kg', '178/80kg', '178/80kg', '178/80kg', '178/80kg', '185/75kg', '185/75kg', '185/75kg', '185/75kg', '185/75kg', '185/75kg', '185/75kg', '185/75kg', '185/75kg', '185/75kg', '185/75kg', '185/75kg', '187/95kg', '187/95kg', '187/95kg', '187/95kg', '187/95kg', '187/95kg', '187/95kg', '187/95kg', '187/95kg', '187/95kg', '187/95kg', '177/75kg', '177/75kg', '177/75kg', '177/75kg', '177/75kg', '177/75kg', '177/75kg', '177/75kg', '186/80kg', '186/80kg', '186/80kg', '186/80kg', '186/80kg', '186/80kg', '186/80kg', '186/80kg', '186/80kg', '186/80kg', '186/88kg', '186/88kg', '186/88kg', '186/88kg', '186/88kg', '186/88kg', '182/88kg', '182/88kg', '182/88kg', '182/88kg', '182/88kg', '182/88kg', '186/95kg', '186/95kg', '186/95kg', '186/95kg', '179/70kg', '179/70kg', '179/70kg', '179/70kg', '179/70kg', '179/70kg', '179/70kg', '179/70kg', '179/70kg', '186/97kg', '186/97kg', '186/97kg', '186/97kg', '186/97kg', '186/97kg', '186/97kg', '186/97kg', '186/97kg', '186/97kg', '186/97kg', '186/97kg', '181/78kg', '181/78kg', '181/78kg', '181/78kg', '180/88kg', '180/88kg', '180/88kg', '180/88kg', '180/88kg', '180/88kg', '180/88kg', '180/88kg', '180/88kg', '180/88kg', '180/88kg', '180/88kg', '181/96kg', '181/96kg', '181/96kg', '188/91kg', '188/91kg', '188/91kg', '188/91kg', '178/78kg', '178/78kg', '178/78kg', '178/78kg', '178/78kg', '178/78kg', '178/78kg', '178/78kg', '175/75kg', '175/75kg', '175/75kg', '175/75kg', '175/75kg', '175/75kg', '175/75kg', '175/75kg', '175/75kg', '175/75kg', '175/75kg', '175/75kg', '175/75kg', '175/75kg', '175/75kg', '175/75kg', '184/78kg', '184/78kg', '184/78kg', '184/78kg', '184/78kg', '184/78kg', '184/78kg', '184/78kg', '184/78kg', '184/78kg', '184/78kg', '184/78kg', '184/78kg', '184/78kg', '184/78kg', '184/78kg', '194/130kg', '194/130kg', '194/130kg', '194/130kg', '194/130kg', '194/130kg', '194/130kg', '194/130kg', '194/130kg', '194/130kg', '194/130kg', '194/130kg', '194/130kg', '178/72kg', '178/72kg', '178/72kg', '183/80kg', '183/80kg', '183/80kg', '183/80kg', '183/80kg', '183/80kg', '183/80kg', '183/80kg', '183/80kg', '183/96kg', '183/96kg', '183/96kg', '183/96kg', '183/96kg', '183/96kg', '183/96kg', '183/96kg', '183/96kg', '183/96kg', '183/96kg', '183/96kg', '183/96kg', '183/96kg', '183/96kg', '183/96kg', '183/96kg', '183/96kg', '175/68kg', '180/82kg', '180/82kg', '180/82kg', '180/82kg', '180/82kg', '186/93kg', '186/93kg', '186/93kg', '185/102kg', '185/102kg', '185/102kg', '185/102kg', '185/102kg', '185/102kg', '185/102kg', '185/102kg', '185/102kg', '185/102kg', '185/102kg', '185/102kg', '185/102kg', '185/102kg', '185/102kg', '180/91kg', '180/91kg', '180/91kg', '180/91kg', '180/91kg', '180/91kg', '180/91kg', '180/91kg', '180/91kg', '180/91kg', '180/91kg', '180/80kg', '180/80kg', '180/80kg', '180/80kg', '180/80kg', '180/80kg', '180/80kg', '180/80kg', '180/80kg', '180/80kg', '180/80kg', '180/80kg', '180/80kg', '180/80kg', '180/80kg', '180/80kg', '180/85kg', '180/85kg', '180/85kg', '180/85kg', '180/85kg', '180/85kg', '180/85kg', '180/85kg', '180/85kg', '175/70kg', '175/70kg', '175/70kg', '175/70kg', '175/70kg', '175/70kg', '175/70kg', '175/70kg', '175/70kg', '175/70kg', '175/70kg', '175/70kg', '175/70kg', '175/70kg', '175/70kg', '182/95kg', '182/95kg', '182/95kg', '182/82kg', '182/82kg', '182/82kg', '182/82kg', '182/82kg', '182/82kg', '182/82kg', '182/82kg', '182/82kg', '182/82kg', '182/82kg', '182/82kg', '182/82kg', '186/86kg', '186/86kg', '185/92kg', '185/92kg', '185/92kg', '185/98kg', '185/98kg', '185/98kg', '185/98kg', '185/98kg', '185/98kg', '185/98kg', '185/98kg', '185/98kg', '185/98kg', '185/98kg', '185/98kg', '185/75kg', '185/75kg', '185/75kg', '185/78kg', '185/78kg', '176/78kg', '176/78kg', '176/78kg', '176/78kg', '176/78kg', '176/78kg', '176/78kg', '176/78kg', '176/78kg', '176/78kg', '176/78kg', '176/78kg', '176/78kg', '176/80kg', '176/80kg', '176/80kg', '183/89kg', '183/89kg', '183/89kg', '178/83kg', '178/83kg', '178/83kg', '178/83kg', '178/83kg', '178/83kg', '178/83kg', '178/83kg', '185/90kg', '185/90kg', '185/90kg', '185/90kg', '185/90kg', '185/90kg', '185/90kg', '185/90kg', '185/90kg', '185/90kg', '185/90kg', '185/90kg', '185/90kg', '185/90kg', '185/90kg', '185/90kg', '185/90kg', '185/90kg', '185/90kg', '185/90kg', '175/80kg', '175/80kg', '175/80kg', '182/85kg', '182/85kg', '182/85kg', '182/85kg', '182/85kg', '183/89kg', '183/89kg', '183/89kg', '183/89kg', '183/89kg', '183/89kg', '183/89kg', '183/89kg', '183/89kg', '183/89kg', '183/89kg', '183/89kg', '183/89kg', '183/89kg', '183/89kg', '183/89kg', '184/85kg', '184/85kg', '184/85kg', '184/85kg', '184/85kg', '183/83kg', '183/80kg', '183/80kg', '183/80kg', '188/84kg', '188/84kg', '188/84kg', '188/84kg', '188/84kg', '188/84kg', '188/84kg', '188/84kg', '188/84kg', '183/90kg', '183/90kg', '183/90kg', '183/90kg', '185/84kg', '185/84kg', '185/84kg', '185/84kg', '177/77kg', '177/77kg', '186/86kg', '186/86kg', '186/86kg', '186/86kg', '186/86kg', '186/86kg', '186/86kg', '186/86kg', '186/86kg', '186/86kg', '180/73kg', '180/73kg', '180/73kg', '180/73kg', '180/73kg', '180/73kg', '180/73kg', '180/73kg', '180/73kg', '180/73kg', '187/100kg', '187/100kg', '187/100kg', '187/100kg', '187/100kg', '187/100kg', '187/100kg', '184/86kg', '183/75kg', '183/75kg', '183/75kg', '186/95kg', '186/95kg', '186/95kg', '186/95kg', '186/95kg', '186/95kg', '186/95kg', '186/95kg', '183/77kg', '183/77kg', '183/77kg', '184/83kg', '181/73kg', '182/90kg', '184/97kg', '184/97kg', '184/97kg', '184/97kg', '184/97kg', '184/97kg', '184/97kg', '184/97kg', '184/97kg', '184/97kg', '179/76kg', '179/76kg', '172/80kg', '172/80kg', '172/80kg', '172/80kg', '172/80kg', '172/80kg', '172/80kg', '172/80kg', '172/80kg', '172/80kg', '172/80kg', '172/80kg', '172/80kg', '172/80kg', '184/94kg', '184/94kg', '184/94kg', '184/94kg', '184/94kg', '184/94kg', '184/94kg', '184/94kg', '184/94kg', '184/94kg', '176/72kg', '176/72kg', '176/72kg', '176/72kg', '187/100kg', '187/100kg', '187/100kg', '187/100kg', '187/100kg', '187/100kg', '187/100kg', '187/100kg', '187/100kg', '187/100kg', '187/100kg', '187/100kg', '187/100kg', '187/100kg', '187/100kg', '182/83kg', '182/83kg', '182/83kg', '182/83kg', '182/83kg', '182/83kg', '182/83kg', '182/83kg', '182/83kg', '182/83kg', '182/83kg', '182/83kg', '182/83kg', '182/83kg', '182/83kg', '182/83kg', '182/83kg', '182/83kg', '182/83kg', '182/83kg', '175/75kg', '175/75kg', '175/75kg', '175/75kg', '175/75kg', '175/75kg', '175/75kg', '175/75kg', '175/75kg', '177/78kg', '185/90kg', '185/90kg', '185/90kg', '185/90kg', '185/90kg', '185/90kg', '185/90kg', '185/90kg', '185/90kg', '185/90kg', '185/90kg', '185/90kg', '176/76kg', '176/76kg', '176/76kg', '176/76kg', '176/76kg', '176/76kg', '176/76kg', '176/76kg', '180/67kg', '180/67kg', '185/92kg', '185/92kg', '185/92kg', '185/92kg', '185/92kg', '185/78kg', '185/78kg', '185/78kg', '185/78kg', '185/78kg', '185/78kg', '181/80kg', '181/80kg', '181/80kg', '181/80kg', '180/85kg', '180/85kg', '180/85kg', '180/85kg', '180/85kg', '180/85kg', '180/85kg', '180/85kg', '180/85kg', '175/74kg', '175/74kg', '175/74kg', '175/74kg', '175/74kg', '175/74kg', '175/74kg', '175/74kg', '175/74kg', '175/74kg', '175/74kg', '175/74kg', '175/74kg', '175/74kg', '178/73kg', '178/73kg', '178/73kg', '185/95kg', '185/95kg', '185/95kg', '185/95kg', '185/95kg', '185/95kg', '175/78kg', '175/78kg', '175/78kg', '175/78kg', '182/85kg', '182/85kg', '182/85kg', '181/74kg', '181/74kg', '181/74kg', '181/74kg', '181/74kg', '181/74kg', '181/74kg', '181/74kg', '181/74kg', '181/74kg', '181/74kg', '181/74kg', '181/74kg', '180/92kg', '180/92kg', '186/92kg', '186/92kg', '186/92kg', '186/92kg', '186/92kg', '187/94kg', '187/94kg', '187/94kg', '187/94kg', '187/94kg', '187/94kg', '187/94kg', '187/94kg', '187/94kg', '187/94kg', '187/94kg', '187/94kg', '183/98kg', '183/98kg', '188/88kg', '188/88kg', '188/88kg', '188/88kg', '188/88kg', '188/88kg', '188/88kg', '185/87kg', '185/87kg', '185/87kg', '185/87kg', '185/87kg', '185/87kg', '183/95kg', '183/95kg', '178/85kg', '178/85kg', '178/85kg', '175/75kg', '175/75kg', '175/75kg', '175/75kg', '175/75kg', '175/75kg', '178/76kg', '178/76kg', '178/76kg', '178/76kg', '178/76kg', '178/76kg', '178/76kg', '180/90kg', '180/90kg', '180/90kg', '180/90kg', '180/90kg', '180/90kg', '180/90kg', '180/90kg', '180/90kg', '180/90kg', '180/90kg', '180/90kg', '180/90kg', '180/90kg', '177/75kg', '177/75kg', '177/75kg', '177/75kg', '177/75kg', '178/73kg', '178/73kg', '178/73kg', '178/73kg', '178/73kg', '178/73kg', '178/73kg', '178/73kg', '178/73kg', '178/73kg', '178/73kg', '187/130kg', '187/130kg', '187/130kg', '187/130kg', '187/130kg', '187/130kg', '187/130kg', '187/130kg', '187/130kg', '187/130kg', '187/130kg', '187/130kg', '187/130kg', '187/130kg', '187/130kg', '187/130kg', '188/100kg', '188/100kg', '188/100kg', '188/100kg', '188/100kg', '188/100kg', '188/100kg', '188/100kg', '188/100kg', '188/100kg', '188/100kg', '188/100kg', '188/100kg', '183/88kg', '183/88kg', '180/106kg', '180/106kg', '180/106kg', '180/106kg', '180/106kg', '180/106kg', '180/106kg', '180/106kg', '180/106kg', '180/106kg', '180/106kg', '180/106kg', '180/106kg', '184/84kg', '184/84kg', '184/84kg', '184/84kg', '184/84kg', '184/84kg', '174/78kg', '174/78kg', '174/78kg', '174/78kg', '174/78kg', '190/95kg', '190/95kg', '190/95kg', '190/95kg', '190/95kg', '190/95kg', '181/99kg', '174/83kg', '174/83kg', '174/83kg', '174/83kg', '176/69kg', '176/69kg', '176/69kg', '176/69kg', '176/69kg', '176/69kg', '176/69kg', '176/87kg', '176/87kg', '176/87kg', '176/87kg', '176/87kg', '176/87kg', '176/87kg', '176/87kg', '190/92kg', '180/79kg', '180/79kg', '180/79kg', '180/79kg', '180/79kg', '180/79kg', '189/94kg', '189/94kg', '177/78kg', '177/78kg', '177/78kg', '177/78kg', '183/96kg', '183/96kg', '183/96kg', '183/96kg', '183/96kg', '183/96kg', '183/96kg', '183/96kg', '183/96kg', '183/96kg', '183/96kg', '181/82kg', '181/82kg', '181/82kg', '181/82kg', '181/82kg', '181/82kg']\n"
     ]
    }
   ],
   "source": [
    "df_row1 = []\n",
    "\n",
    "for i in range(len(regular_season_HW_OPS)):\n",
    "    df_row1.append(regular_season_HW_OPS['height/weight'][i].replace('cm', \"\"))\n",
    "\n",
    "print(df_row1)    "
   ]
  },
  {
   "cell_type": "code",
   "execution_count": 88,
   "id": "0af8d2be-4c96-41aa-85b5-357dd076d5f3",
   "metadata": {
    "collapsed": true,
    "jupyter": {
     "outputs_hidden": true
    },
    "tags": []
   },
   "outputs": [
    {
     "name": "stdout",
     "output_type": "stream",
     "text": [
      "['177/93', '180/72', '180/72', '180/72', '180/72', '180/72', '180/72', '180/82', '180/82', '180/82', '180/82', '180/82', '176/80', '176/80', '176/80', '176/80', '185/100', '185/100', '185/100', '185/100', '185/100', '185/100', '185/100', '185/100', '185/100', '185/100', '185/100', '185/100', '185/100', '185/100', '185/100', '184/98', '172/64', '172/64', '179/77', '179/77', '179/77', '180/81', '180/81', '180/81', '181/66', '181/66', '181/66', '181/66', '181/66', '178/68', '184/83', '184/83', '184/83', '184/83', '184/83', '184/83', '189/75', '189/75', '189/75', '189/75', '180/94', '180/94', '180/94', '180/94', '180/94', '180/88', '180/88', '180/88', '177/85', '177/85', '177/85', '177/85', '177/85', '182/85', '182/85', '182/85', '182/85', '182/85', '182/85', '182/85', '182/85', '182/85', '182/85', '182/85', '182/85', '182/85', '182/85', '182/85', '182/85', '188/85', '188/85', '184/80', '184/80', '184/80', '184/80', '184/80', '184/80', '184/80', '186/101', '186/101', '186/101', '183/89', '183/89', '183/89', '183/89', '183/89', '183/89', '174/74', '174/74', '174/74', '174/74', '174/74', '180/80', '180/80', '185/102', '185/102', '185/102', '185/102', '185/102', '185/102', '185/102', '185/102', '185/102', '185/102', '185/102', '181/94', '181/94', '181/94', '181/94', '181/94', '181/94', '181/94', '181/94', '181/94', '181/94', '181/94', '181/94', '177/80', '177/80', '177/80', '180/80', '180/80', '180/80', '180/80', '181/80', '181/80', '181/80', '181/80', '181/80', '181/88', '181/88', '181/88', '181/88', '181/88', '173/89', '173/89', '173/89', '173/89', '173/89', '173/89', '175/68', '175/68', '175/68', '175/68', '175/68', '175/68', '175/68', '175/68', '175/68', '175/68', '181/87', '181/87', '181/87', '181/87', '165/77', '165/77', '165/77', '165/77', '165/77', '165/77', '165/77', '165/77', '165/77', '165/77', '181/83', '181/83', '181/83', '181/83', '181/83', '181/83', '172/72', '172/72', '172/72', '172/72', '172/72', '172/72', '172/72', '172/72', '172/72', '172/72', '172/68', '172/68', '187/74', '187/74', '187/74', '187/74', '187/74', '187/74', '187/74', '187/74', '178/90', '178/90', '178/90', '178/78', '178/78', '178/78', '177/84', '177/84', '185/85', '186/90', '186/90', '186/90', '186/90', '186/90', '176/76', '176/76', '176/76', '176/76', '181/75', '181/75', '181/75', '181/75', '181/75', '181/75', '181/75', '181/75', '181/75', '181/75', '181/75', '181/75', '181/75', '183/90', '183/90', '183/90', '183/90', '183/90', '183/90', '183/90', '183/90', '172/83', '183/94', '183/94', '183/94', '183/94', '183/94', '183/94', '183/94', '183/94', '183/94', '183/94', '183/94', '183/94', '183/94', '183/94', '183/94', '183/94', '183/94', '186/108', '186/108', '186/108', '186/108', '186/108', '186/108', '186/108', '186/108', '186/108', '186/108', '186/108', '186/108', '186/108', '180/81', '180/81', '180/81', '180/81', '180/81', '180/81', '180/81', '180/81', '173/75', '173/75', '173/75', '173/75', '182/87', '185/110', '185/110', '185/110', '185/110', '185/110', '185/110', '185/110', '185/110', '185/110', '185/110', '185/110', '185/110', '185/110', '185/110', '185/110', '185/110', '178/99', '178/99', '189/105', '189/105', '189/105', '189/105', '189/105', '189/105', '189/105', '189/105', '189/105', '189/105', '189/105', '170/75', '170/75', '170/75', '175/76', '175/76', '175/76', '175/76', '175/76', '174/81', '174/81', '174/81', '174/81', '174/81', '174/81', '188/100', '188/100', '188/100', '188/100', '188/100', '188/100', '188/100', '188/100', '188/100', '188/100', '188/100', '187/98', '179/78', '179/78', '190/92', '190/92', '190/92', '190/92', '190/92', '190/92', '190/92', '190/92', '177/80', '177/80', '177/80', '183/100', '183/100', '183/100', '183/100', '183/100', '183/100', '183/93', '183/93', '185/99', '185/99', '180/84', '180/84', '180/84', '180/84', '180/84', '180/84', '180/84', '180/84', '180/84', '180/84', '180/84', '180/84', '180/84', '180/84', '182/105', '182/105', '182/105', '182/105', '182/105', '182/105', '182/105', '182/105', '182/105', '182/105', '182/105', '187/107', '187/107', '187/107', '180/80', '180/80', '180/80', '180/80', '180/80', '184/80', '184/80', '184/80', '184/80', '184/80', '184/85', '184/85', '184/85', '190/113', '190/113', '188/100', '188/100', '189/102', '189/102', '181/75', '181/75', '181/75', '181/75', '181/75', '188/89', '188/89', '188/89', '188/89', '188/89', '188/89', '188/89', '188/89', '188/89', '188/89', '185/92', '185/92', '185/92', '185/92', '185/92', '185/92', '185/92', '185/92', '185/92', '185/92', '185/92', '185/92', '185/92', '185/92', '178/87', '178/87', '178/87', '178/87', '178/87', '178/87', '178/87', '178/87', '178/87', '178/87', '178/87', '178/87', '184/80', '184/80', '184/80', '184/80', '184/80', '184/80', '184/80', '178/80', '178/80', '178/80', '178/80', '178/80', '178/80', '178/80', '178/80', '178/80', '178/80', '178/80', '178/80', '178/80', '178/80', '182/85', '182/85', '182/85', '182/85', '179/77', '179/77', '179/77', '179/77', '179/77', '179/77', '179/77', '179/77', '179/77', '179/77', '179/77', '179/77', '179/77', '179/77', '179/77', '179/77', '179/77', '179/92', '179/92', '179/92', '179/92', '179/92', '179/92', '179/92', '185/80', '185/80', '185/80', '185/80', '185/80', '185/80', '185/107', '185/107', '185/107', '185/107', '185/107', '185/107', '185/107', '185/107', '185/107', '185/107', '178/88', '178/88', '178/88', '178/88', '178/88', '178/88', '178/88', '178/88', '178/88', '178/88', '178/88', '178/88', '178/88', '181/86', '181/86', '181/86', '181/86', '181/86', '184/78', '184/78', '184/78', '184/78', '184/78', '185/90', '185/90', '185/90', '185/90', '185/90', '185/90', '185/90', '185/90', '185/90', '185/90', '185/90', '185/90', '185/90', '185/90', '185/90', '185/90', '185/90', '177/77', '187/96', '187/96', '187/96', '187/96', '187/96', '187/96', '187/96', '187/96', '187/96', '187/96', '187/96', '187/96', '187/96', '175/77', '175/77', '175/77', '176/76', '176/76', '176/76', '176/76', '176/76', '176/76', '176/76', '181/75', '181/75', '181/75', '183/80', '183/80', '185/75', '185/75', '185/75', '185/75', '182/91', '182/91', '182/91', '182/91', '182/91', '182/91', '182/91', '182/91', '182/91', '182/91', '182/91', '182/91', '182/91', '182/91', '182/91', '182/91', '182/91', '182/91', '180/75', '180/75', '180/75', '180/75', '180/75', '178/102', '178/102', '178/102', '178/102', '178/102', '178/102', '178/102', '178/102', '178/78', '178/78', '178/78', '178/78', '178/78', '178/78', '178/78', '178/78', '185/80', '185/80', '185/80', '184/98', '184/98', '184/98', '184/98', '177/76', '177/76', '177/76', '177/76', '177/76', '177/76', '180/95', '180/95', '180/95', '180/95', '180/95', '180/95', '179/79', '179/79', '179/79', '179/79', '179/79', '179/79', '179/79', '188/95', '188/95', '188/93', '188/93', '193/105', '176/84', '176/84', '176/84', '176/84', '176/84', '176/84', '176/84', '176/84', '188/99', '188/99', '188/99', '188/99', '188/99', '188/99', '188/99', '188/99', '188/99', '188/99', '188/99', '188/99', '188/99', '188/99', '187/90', '187/90', '187/90', '187/90', '187/90', '172/73', '172/73', '172/73', '172/73', '172/73', '172/73', '172/73', '172/73', '172/73', '172/73', '172/73', '172/73', '172/73', '172/73', '174/84', '174/84', '174/84', '174/84', '174/84', '174/84', '174/84', '174/84', '174/84', '174/84', '174/84', '174/84', '179/82', '179/82', '179/82', '179/82', '179/82', '179/82', '179/82', '179/82', '179/82', '179/82', '179/82', '179/82', '179/82', '184/90', '184/90', '184/90', '184/90', '184/90', '184/90', '184/90', '184/90', '184/90', '184/90', '184/90', '177/80', '177/80', '183/88', '183/88', '183/88', '183/98', '183/98', '177/83', '179/88', '179/88', '179/88', '179/88', '179/88', '179/88', '183/92', '183/92', '183/92', '183/92', '183/87', '183/87', '183/87', '183/87', '183/87', '183/87', '183/87', '183/87', '183/87', '183/87', '183/87', '183/75', '183/75', '183/75', '183/75', '176/70', '176/70', '176/70', '176/70', '175/87', '175/87', '175/87', '178/90', '178/90', '178/90', '178/90', '178/90', '178/90', '178/90', '178/90', '178/90', '185/90', '185/90', '185/90', '185/90', '174/84', '174/84', '174/84', '174/84', '174/84', '179/85', '179/85', '179/85', '179/85', '179/85', '179/85', '179/85', '179/85', '179/85', '179/85', '181/81', '181/81', '181/81', '181/81', '181/81', '181/81', '181/81', '183/85', '183/85', '178/80', '178/80', '178/80', '178/80', '178/80', '178/80', '178/80', '178/80', '178/80', '185/75', '185/75', '185/75', '185/75', '185/75', '185/75', '185/75', '185/75', '185/75', '185/75', '185/75', '185/75', '187/95', '187/95', '187/95', '187/95', '187/95', '187/95', '187/95', '187/95', '187/95', '187/95', '187/95', '177/75', '177/75', '177/75', '177/75', '177/75', '177/75', '177/75', '177/75', '186/80', '186/80', '186/80', '186/80', '186/80', '186/80', '186/80', '186/80', '186/80', '186/80', '186/88', '186/88', '186/88', '186/88', '186/88', '186/88', '182/88', '182/88', '182/88', '182/88', '182/88', '182/88', '186/95', '186/95', '186/95', '186/95', '179/70', '179/70', '179/70', '179/70', '179/70', '179/70', '179/70', '179/70', '179/70', '186/97', '186/97', '186/97', '186/97', '186/97', '186/97', '186/97', '186/97', '186/97', '186/97', '186/97', '186/97', '181/78', '181/78', '181/78', '181/78', '180/88', '180/88', '180/88', '180/88', '180/88', '180/88', '180/88', '180/88', '180/88', '180/88', '180/88', '180/88', '181/96', '181/96', '181/96', '188/91', '188/91', '188/91', '188/91', '178/78', '178/78', '178/78', '178/78', '178/78', '178/78', '178/78', '178/78', '175/75', '175/75', '175/75', '175/75', '175/75', '175/75', '175/75', '175/75', '175/75', '175/75', '175/75', '175/75', '175/75', '175/75', '175/75', '175/75', '184/78', '184/78', '184/78', '184/78', '184/78', '184/78', '184/78', '184/78', '184/78', '184/78', '184/78', '184/78', '184/78', '184/78', '184/78', '184/78', '194/130', '194/130', '194/130', '194/130', '194/130', '194/130', '194/130', '194/130', '194/130', '194/130', '194/130', '194/130', '194/130', '178/72', '178/72', '178/72', '183/80', '183/80', '183/80', '183/80', '183/80', '183/80', '183/80', '183/80', '183/80', '183/96', '183/96', '183/96', '183/96', '183/96', '183/96', '183/96', '183/96', '183/96', '183/96', '183/96', '183/96', '183/96', '183/96', '183/96', '183/96', '183/96', '183/96', '175/68', '180/82', '180/82', '180/82', '180/82', '180/82', '186/93', '186/93', '186/93', '185/102', '185/102', '185/102', '185/102', '185/102', '185/102', '185/102', '185/102', '185/102', '185/102', '185/102', '185/102', '185/102', '185/102', '185/102', '180/91', '180/91', '180/91', '180/91', '180/91', '180/91', '180/91', '180/91', '180/91', '180/91', '180/91', '180/80', '180/80', '180/80', '180/80', '180/80', '180/80', '180/80', '180/80', '180/80', '180/80', '180/80', '180/80', '180/80', '180/80', '180/80', '180/80', '180/85', '180/85', '180/85', '180/85', '180/85', '180/85', '180/85', '180/85', '180/85', '175/70', '175/70', '175/70', '175/70', '175/70', '175/70', '175/70', '175/70', '175/70', '175/70', '175/70', '175/70', '175/70', '175/70', '175/70', '182/95', '182/95', '182/95', '182/82', '182/82', '182/82', '182/82', '182/82', '182/82', '182/82', '182/82', '182/82', '182/82', '182/82', '182/82', '182/82', '186/86', '186/86', '185/92', '185/92', '185/92', '185/98', '185/98', '185/98', '185/98', '185/98', '185/98', '185/98', '185/98', '185/98', '185/98', '185/98', '185/98', '185/75', '185/75', '185/75', '185/78', '185/78', '176/78', '176/78', '176/78', '176/78', '176/78', '176/78', '176/78', '176/78', '176/78', '176/78', '176/78', '176/78', '176/78', '176/80', '176/80', '176/80', '183/89', '183/89', '183/89', '178/83', '178/83', '178/83', '178/83', '178/83', '178/83', '178/83', '178/83', '185/90', '185/90', '185/90', '185/90', '185/90', '185/90', '185/90', '185/90', '185/90', '185/90', '185/90', '185/90', '185/90', '185/90', '185/90', '185/90', '185/90', '185/90', '185/90', '185/90', '175/80', '175/80', '175/80', '182/85', '182/85', '182/85', '182/85', '182/85', '183/89', '183/89', '183/89', '183/89', '183/89', '183/89', '183/89', '183/89', '183/89', '183/89', '183/89', '183/89', '183/89', '183/89', '183/89', '183/89', '184/85', '184/85', '184/85', '184/85', '184/85', '183/83', '183/80', '183/80', '183/80', '188/84', '188/84', '188/84', '188/84', '188/84', '188/84', '188/84', '188/84', '188/84', '183/90', '183/90', '183/90', '183/90', '185/84', '185/84', '185/84', '185/84', '177/77', '177/77', '186/86', '186/86', '186/86', '186/86', '186/86', '186/86', '186/86', '186/86', '186/86', '186/86', '180/73', '180/73', '180/73', '180/73', '180/73', '180/73', '180/73', '180/73', '180/73', '180/73', '187/100', '187/100', '187/100', '187/100', '187/100', '187/100', '187/100', '184/86', '183/75', '183/75', '183/75', '186/95', '186/95', '186/95', '186/95', '186/95', '186/95', '186/95', '186/95', '183/77', '183/77', '183/77', '184/83', '181/73', '182/90', '184/97', '184/97', '184/97', '184/97', '184/97', '184/97', '184/97', '184/97', '184/97', '184/97', '179/76', '179/76', '172/80', '172/80', '172/80', '172/80', '172/80', '172/80', '172/80', '172/80', '172/80', '172/80', '172/80', '172/80', '172/80', '172/80', '184/94', '184/94', '184/94', '184/94', '184/94', '184/94', '184/94', '184/94', '184/94', '184/94', '176/72', '176/72', '176/72', '176/72', '187/100', '187/100', '187/100', '187/100', '187/100', '187/100', '187/100', '187/100', '187/100', '187/100', '187/100', '187/100', '187/100', '187/100', '187/100', '182/83', '182/83', '182/83', '182/83', '182/83', '182/83', '182/83', '182/83', '182/83', '182/83', '182/83', '182/83', '182/83', '182/83', '182/83', '182/83', '182/83', '182/83', '182/83', '182/83', '175/75', '175/75', '175/75', '175/75', '175/75', '175/75', '175/75', '175/75', '175/75', '177/78', '185/90', '185/90', '185/90', '185/90', '185/90', '185/90', '185/90', '185/90', '185/90', '185/90', '185/90', '185/90', '176/76', '176/76', '176/76', '176/76', '176/76', '176/76', '176/76', '176/76', '180/67', '180/67', '185/92', '185/92', '185/92', '185/92', '185/92', '185/78', '185/78', '185/78', '185/78', '185/78', '185/78', '181/80', '181/80', '181/80', '181/80', '180/85', '180/85', '180/85', '180/85', '180/85', '180/85', '180/85', '180/85', '180/85', '175/74', '175/74', '175/74', '175/74', '175/74', '175/74', '175/74', '175/74', '175/74', '175/74', '175/74', '175/74', '175/74', '175/74', '178/73', '178/73', '178/73', '185/95', '185/95', '185/95', '185/95', '185/95', '185/95', '175/78', '175/78', '175/78', '175/78', '182/85', '182/85', '182/85', '181/74', '181/74', '181/74', '181/74', '181/74', '181/74', '181/74', '181/74', '181/74', '181/74', '181/74', '181/74', '181/74', '180/92', '180/92', '186/92', '186/92', '186/92', '186/92', '186/92', '187/94', '187/94', '187/94', '187/94', '187/94', '187/94', '187/94', '187/94', '187/94', '187/94', '187/94', '187/94', '183/98', '183/98', '188/88', '188/88', '188/88', '188/88', '188/88', '188/88', '188/88', '185/87', '185/87', '185/87', '185/87', '185/87', '185/87', '183/95', '183/95', '178/85', '178/85', '178/85', '175/75', '175/75', '175/75', '175/75', '175/75', '175/75', '178/76', '178/76', '178/76', '178/76', '178/76', '178/76', '178/76', '180/90', '180/90', '180/90', '180/90', '180/90', '180/90', '180/90', '180/90', '180/90', '180/90', '180/90', '180/90', '180/90', '180/90', '177/75', '177/75', '177/75', '177/75', '177/75', '178/73', '178/73', '178/73', '178/73', '178/73', '178/73', '178/73', '178/73', '178/73', '178/73', '178/73', '187/130', '187/130', '187/130', '187/130', '187/130', '187/130', '187/130', '187/130', '187/130', '187/130', '187/130', '187/130', '187/130', '187/130', '187/130', '187/130', '188/100', '188/100', '188/100', '188/100', '188/100', '188/100', '188/100', '188/100', '188/100', '188/100', '188/100', '188/100', '188/100', '183/88', '183/88', '180/106', '180/106', '180/106', '180/106', '180/106', '180/106', '180/106', '180/106', '180/106', '180/106', '180/106', '180/106', '180/106', '184/84', '184/84', '184/84', '184/84', '184/84', '184/84', '174/78', '174/78', '174/78', '174/78', '174/78', '190/95', '190/95', '190/95', '190/95', '190/95', '190/95', '181/99', '174/83', '174/83', '174/83', '174/83', '176/69', '176/69', '176/69', '176/69', '176/69', '176/69', '176/69', '176/87', '176/87', '176/87', '176/87', '176/87', '176/87', '176/87', '176/87', '190/92', '180/79', '180/79', '180/79', '180/79', '180/79', '180/79', '189/94', '189/94', '177/78', '177/78', '177/78', '177/78', '183/96', '183/96', '183/96', '183/96', '183/96', '183/96', '183/96', '183/96', '183/96', '183/96', '183/96', '181/82', '181/82', '181/82', '181/82', '181/82', '181/82']\n"
     ]
    }
   ],
   "source": [
    "df_row2 = []\n",
    "\n",
    "for i in range(len(regular_season_HW_OPS)):\n",
    "    df_row2.append(df_row1[i].replace('kg', \"\"))\n",
    "\n",
    "print(df_row2)    "
   ]
  },
  {
   "cell_type": "code",
   "execution_count": 89,
   "id": "fdaf726c-132a-4ac9-a76d-229b06353cf0",
   "metadata": {
    "collapsed": true,
    "jupyter": {
     "outputs_hidden": true
    },
    "tags": []
   },
   "outputs": [
    {
     "name": "stdout",
     "output_type": "stream",
     "text": [
      "[['177', '93'], ['180', '72'], ['180', '72'], ['180', '72'], ['180', '72'], ['180', '72'], ['180', '72'], ['180', '82'], ['180', '82'], ['180', '82'], ['180', '82'], ['180', '82'], ['176', '80'], ['176', '80'], ['176', '80'], ['176', '80'], ['185', '100'], ['185', '100'], ['185', '100'], ['185', '100'], ['185', '100'], ['185', '100'], ['185', '100'], ['185', '100'], ['185', '100'], ['185', '100'], ['185', '100'], ['185', '100'], ['185', '100'], ['185', '100'], ['185', '100'], ['184', '98'], ['172', '64'], ['172', '64'], ['179', '77'], ['179', '77'], ['179', '77'], ['180', '81'], ['180', '81'], ['180', '81'], ['181', '66'], ['181', '66'], ['181', '66'], ['181', '66'], ['181', '66'], ['178', '68'], ['184', '83'], ['184', '83'], ['184', '83'], ['184', '83'], ['184', '83'], ['184', '83'], ['189', '75'], ['189', '75'], ['189', '75'], ['189', '75'], ['180', '94'], ['180', '94'], ['180', '94'], ['180', '94'], ['180', '94'], ['180', '88'], ['180', '88'], ['180', '88'], ['177', '85'], ['177', '85'], ['177', '85'], ['177', '85'], ['177', '85'], ['182', '85'], ['182', '85'], ['182', '85'], ['182', '85'], ['182', '85'], ['182', '85'], ['182', '85'], ['182', '85'], ['182', '85'], ['182', '85'], ['182', '85'], ['182', '85'], ['182', '85'], ['182', '85'], ['182', '85'], ['182', '85'], ['188', '85'], ['188', '85'], ['184', '80'], ['184', '80'], ['184', '80'], ['184', '80'], ['184', '80'], ['184', '80'], ['184', '80'], ['186', '101'], ['186', '101'], ['186', '101'], ['183', '89'], ['183', '89'], ['183', '89'], ['183', '89'], ['183', '89'], ['183', '89'], ['174', '74'], ['174', '74'], ['174', '74'], ['174', '74'], ['174', '74'], ['180', '80'], ['180', '80'], ['185', '102'], ['185', '102'], ['185', '102'], ['185', '102'], ['185', '102'], ['185', '102'], ['185', '102'], ['185', '102'], ['185', '102'], ['185', '102'], ['185', '102'], ['181', '94'], ['181', '94'], ['181', '94'], ['181', '94'], ['181', '94'], ['181', '94'], ['181', '94'], ['181', '94'], ['181', '94'], ['181', '94'], ['181', '94'], ['181', '94'], ['177', '80'], ['177', '80'], ['177', '80'], ['180', '80'], ['180', '80'], ['180', '80'], ['180', '80'], ['181', '80'], ['181', '80'], ['181', '80'], ['181', '80'], ['181', '80'], ['181', '88'], ['181', '88'], ['181', '88'], ['181', '88'], ['181', '88'], ['173', '89'], ['173', '89'], ['173', '89'], ['173', '89'], ['173', '89'], ['173', '89'], ['175', '68'], ['175', '68'], ['175', '68'], ['175', '68'], ['175', '68'], ['175', '68'], ['175', '68'], ['175', '68'], ['175', '68'], ['175', '68'], ['181', '87'], ['181', '87'], ['181', '87'], ['181', '87'], ['165', '77'], ['165', '77'], ['165', '77'], ['165', '77'], ['165', '77'], ['165', '77'], ['165', '77'], ['165', '77'], ['165', '77'], ['165', '77'], ['181', '83'], ['181', '83'], ['181', '83'], ['181', '83'], ['181', '83'], ['181', '83'], ['172', '72'], ['172', '72'], ['172', '72'], ['172', '72'], ['172', '72'], ['172', '72'], ['172', '72'], ['172', '72'], ['172', '72'], ['172', '72'], ['172', '68'], ['172', '68'], ['187', '74'], ['187', '74'], ['187', '74'], ['187', '74'], ['187', '74'], ['187', '74'], ['187', '74'], ['187', '74'], ['178', '90'], ['178', '90'], ['178', '90'], ['178', '78'], ['178', '78'], ['178', '78'], ['177', '84'], ['177', '84'], ['185', '85'], ['186', '90'], ['186', '90'], ['186', '90'], ['186', '90'], ['186', '90'], ['176', '76'], ['176', '76'], ['176', '76'], ['176', '76'], ['181', '75'], ['181', '75'], ['181', '75'], ['181', '75'], ['181', '75'], ['181', '75'], ['181', '75'], ['181', '75'], ['181', '75'], ['181', '75'], ['181', '75'], ['181', '75'], ['181', '75'], ['183', '90'], ['183', '90'], ['183', '90'], ['183', '90'], ['183', '90'], ['183', '90'], ['183', '90'], ['183', '90'], ['172', '83'], ['183', '94'], ['183', '94'], ['183', '94'], ['183', '94'], ['183', '94'], ['183', '94'], ['183', '94'], ['183', '94'], ['183', '94'], ['183', '94'], ['183', '94'], ['183', '94'], ['183', '94'], ['183', '94'], ['183', '94'], ['183', '94'], ['183', '94'], ['186', '108'], ['186', '108'], ['186', '108'], ['186', '108'], ['186', '108'], ['186', '108'], ['186', '108'], ['186', '108'], ['186', '108'], ['186', '108'], ['186', '108'], ['186', '108'], ['186', '108'], ['180', '81'], ['180', '81'], ['180', '81'], ['180', '81'], ['180', '81'], ['180', '81'], ['180', '81'], ['180', '81'], ['173', '75'], ['173', '75'], ['173', '75'], ['173', '75'], ['182', '87'], ['185', '110'], ['185', '110'], ['185', '110'], ['185', '110'], ['185', '110'], ['185', '110'], ['185', '110'], ['185', '110'], ['185', '110'], ['185', '110'], ['185', '110'], ['185', '110'], ['185', '110'], ['185', '110'], ['185', '110'], ['185', '110'], ['178', '99'], ['178', '99'], ['189', '105'], ['189', '105'], ['189', '105'], ['189', '105'], ['189', '105'], ['189', '105'], ['189', '105'], ['189', '105'], ['189', '105'], ['189', '105'], ['189', '105'], ['170', '75'], ['170', '75'], ['170', '75'], ['175', '76'], ['175', '76'], ['175', '76'], ['175', '76'], ['175', '76'], ['174', '81'], ['174', '81'], ['174', '81'], ['174', '81'], ['174', '81'], ['174', '81'], ['188', '100'], ['188', '100'], ['188', '100'], ['188', '100'], ['188', '100'], ['188', '100'], ['188', '100'], ['188', '100'], ['188', '100'], ['188', '100'], ['188', '100'], ['187', '98'], ['179', '78'], ['179', '78'], ['190', '92'], ['190', '92'], ['190', '92'], ['190', '92'], ['190', '92'], ['190', '92'], ['190', '92'], ['190', '92'], ['177', '80'], ['177', '80'], ['177', '80'], ['183', '100'], ['183', '100'], ['183', '100'], ['183', '100'], ['183', '100'], ['183', '100'], ['183', '93'], ['183', '93'], ['185', '99'], ['185', '99'], ['180', '84'], ['180', '84'], ['180', '84'], ['180', '84'], ['180', '84'], ['180', '84'], ['180', '84'], ['180', '84'], ['180', '84'], ['180', '84'], ['180', '84'], ['180', '84'], ['180', '84'], ['180', '84'], ['182', '105'], ['182', '105'], ['182', '105'], ['182', '105'], ['182', '105'], ['182', '105'], ['182', '105'], ['182', '105'], ['182', '105'], ['182', '105'], ['182', '105'], ['187', '107'], ['187', '107'], ['187', '107'], ['180', '80'], ['180', '80'], ['180', '80'], ['180', '80'], ['180', '80'], ['184', '80'], ['184', '80'], ['184', '80'], ['184', '80'], ['184', '80'], ['184', '85'], ['184', '85'], ['184', '85'], ['190', '113'], ['190', '113'], ['188', '100'], ['188', '100'], ['189', '102'], ['189', '102'], ['181', '75'], ['181', '75'], ['181', '75'], ['181', '75'], ['181', '75'], ['188', '89'], ['188', '89'], ['188', '89'], ['188', '89'], ['188', '89'], ['188', '89'], ['188', '89'], ['188', '89'], ['188', '89'], ['188', '89'], ['185', '92'], ['185', '92'], ['185', '92'], ['185', '92'], ['185', '92'], ['185', '92'], ['185', '92'], ['185', '92'], ['185', '92'], ['185', '92'], ['185', '92'], ['185', '92'], ['185', '92'], ['185', '92'], ['178', '87'], ['178', '87'], ['178', '87'], ['178', '87'], ['178', '87'], ['178', '87'], ['178', '87'], ['178', '87'], ['178', '87'], ['178', '87'], ['178', '87'], ['178', '87'], ['184', '80'], ['184', '80'], ['184', '80'], ['184', '80'], ['184', '80'], ['184', '80'], ['184', '80'], ['178', '80'], ['178', '80'], ['178', '80'], ['178', '80'], ['178', '80'], ['178', '80'], ['178', '80'], ['178', '80'], ['178', '80'], ['178', '80'], ['178', '80'], ['178', '80'], ['178', '80'], ['178', '80'], ['182', '85'], ['182', '85'], ['182', '85'], ['182', '85'], ['179', '77'], ['179', '77'], ['179', '77'], ['179', '77'], ['179', '77'], ['179', '77'], ['179', '77'], ['179', '77'], ['179', '77'], ['179', '77'], ['179', '77'], ['179', '77'], ['179', '77'], ['179', '77'], ['179', '77'], ['179', '77'], ['179', '77'], ['179', '92'], ['179', '92'], ['179', '92'], ['179', '92'], ['179', '92'], ['179', '92'], ['179', '92'], ['185', '80'], ['185', '80'], ['185', '80'], ['185', '80'], ['185', '80'], ['185', '80'], ['185', '107'], ['185', '107'], ['185', '107'], ['185', '107'], ['185', '107'], ['185', '107'], ['185', '107'], ['185', '107'], ['185', '107'], ['185', '107'], ['178', '88'], ['178', '88'], ['178', '88'], ['178', '88'], ['178', '88'], ['178', '88'], ['178', '88'], ['178', '88'], ['178', '88'], ['178', '88'], ['178', '88'], ['178', '88'], ['178', '88'], ['181', '86'], ['181', '86'], ['181', '86'], ['181', '86'], ['181', '86'], ['184', '78'], ['184', '78'], ['184', '78'], ['184', '78'], ['184', '78'], ['185', '90'], ['185', '90'], ['185', '90'], ['185', '90'], ['185', '90'], ['185', '90'], ['185', '90'], ['185', '90'], ['185', '90'], ['185', '90'], ['185', '90'], ['185', '90'], ['185', '90'], ['185', '90'], ['185', '90'], ['185', '90'], ['185', '90'], ['177', '77'], ['187', '96'], ['187', '96'], ['187', '96'], ['187', '96'], ['187', '96'], ['187', '96'], ['187', '96'], ['187', '96'], ['187', '96'], ['187', '96'], ['187', '96'], ['187', '96'], ['187', '96'], ['175', '77'], ['175', '77'], ['175', '77'], ['176', '76'], ['176', '76'], ['176', '76'], ['176', '76'], ['176', '76'], ['176', '76'], ['176', '76'], ['181', '75'], ['181', '75'], ['181', '75'], ['183', '80'], ['183', '80'], ['185', '75'], ['185', '75'], ['185', '75'], ['185', '75'], ['182', '91'], ['182', '91'], ['182', '91'], ['182', '91'], ['182', '91'], ['182', '91'], ['182', '91'], ['182', '91'], ['182', '91'], ['182', '91'], ['182', '91'], ['182', '91'], ['182', '91'], ['182', '91'], ['182', '91'], ['182', '91'], ['182', '91'], ['182', '91'], ['180', '75'], ['180', '75'], ['180', '75'], ['180', '75'], ['180', '75'], ['178', '102'], ['178', '102'], ['178', '102'], ['178', '102'], ['178', '102'], ['178', '102'], ['178', '102'], ['178', '102'], ['178', '78'], ['178', '78'], ['178', '78'], ['178', '78'], ['178', '78'], ['178', '78'], ['178', '78'], ['178', '78'], ['185', '80'], ['185', '80'], ['185', '80'], ['184', '98'], ['184', '98'], ['184', '98'], ['184', '98'], ['177', '76'], ['177', '76'], ['177', '76'], ['177', '76'], ['177', '76'], ['177', '76'], ['180', '95'], ['180', '95'], ['180', '95'], ['180', '95'], ['180', '95'], ['180', '95'], ['179', '79'], ['179', '79'], ['179', '79'], ['179', '79'], ['179', '79'], ['179', '79'], ['179', '79'], ['188', '95'], ['188', '95'], ['188', '93'], ['188', '93'], ['193', '105'], ['176', '84'], ['176', '84'], ['176', '84'], ['176', '84'], ['176', '84'], ['176', '84'], ['176', '84'], ['176', '84'], ['188', '99'], ['188', '99'], ['188', '99'], ['188', '99'], ['188', '99'], ['188', '99'], ['188', '99'], ['188', '99'], ['188', '99'], ['188', '99'], ['188', '99'], ['188', '99'], ['188', '99'], ['188', '99'], ['187', '90'], ['187', '90'], ['187', '90'], ['187', '90'], ['187', '90'], ['172', '73'], ['172', '73'], ['172', '73'], ['172', '73'], ['172', '73'], ['172', '73'], ['172', '73'], ['172', '73'], ['172', '73'], ['172', '73'], ['172', '73'], ['172', '73'], ['172', '73'], ['172', '73'], ['174', '84'], ['174', '84'], ['174', '84'], ['174', '84'], ['174', '84'], ['174', '84'], ['174', '84'], ['174', '84'], ['174', '84'], ['174', '84'], ['174', '84'], ['174', '84'], ['179', '82'], ['179', '82'], ['179', '82'], ['179', '82'], ['179', '82'], ['179', '82'], ['179', '82'], ['179', '82'], ['179', '82'], ['179', '82'], ['179', '82'], ['179', '82'], ['179', '82'], ['184', '90'], ['184', '90'], ['184', '90'], ['184', '90'], ['184', '90'], ['184', '90'], ['184', '90'], ['184', '90'], ['184', '90'], ['184', '90'], ['184', '90'], ['177', '80'], ['177', '80'], ['183', '88'], ['183', '88'], ['183', '88'], ['183', '98'], ['183', '98'], ['177', '83'], ['179', '88'], ['179', '88'], ['179', '88'], ['179', '88'], ['179', '88'], ['179', '88'], ['183', '92'], ['183', '92'], ['183', '92'], ['183', '92'], ['183', '87'], ['183', '87'], ['183', '87'], ['183', '87'], ['183', '87'], ['183', '87'], ['183', '87'], ['183', '87'], ['183', '87'], ['183', '87'], ['183', '87'], ['183', '75'], ['183', '75'], ['183', '75'], ['183', '75'], ['176', '70'], ['176', '70'], ['176', '70'], ['176', '70'], ['175', '87'], ['175', '87'], ['175', '87'], ['178', '90'], ['178', '90'], ['178', '90'], ['178', '90'], ['178', '90'], ['178', '90'], ['178', '90'], ['178', '90'], ['178', '90'], ['185', '90'], ['185', '90'], ['185', '90'], ['185', '90'], ['174', '84'], ['174', '84'], ['174', '84'], ['174', '84'], ['174', '84'], ['179', '85'], ['179', '85'], ['179', '85'], ['179', '85'], ['179', '85'], ['179', '85'], ['179', '85'], ['179', '85'], ['179', '85'], ['179', '85'], ['181', '81'], ['181', '81'], ['181', '81'], ['181', '81'], ['181', '81'], ['181', '81'], ['181', '81'], ['183', '85'], ['183', '85'], ['178', '80'], ['178', '80'], ['178', '80'], ['178', '80'], ['178', '80'], ['178', '80'], ['178', '80'], ['178', '80'], ['178', '80'], ['185', '75'], ['185', '75'], ['185', '75'], ['185', '75'], ['185', '75'], ['185', '75'], ['185', '75'], ['185', '75'], ['185', '75'], ['185', '75'], ['185', '75'], ['185', '75'], ['187', '95'], ['187', '95'], ['187', '95'], ['187', '95'], ['187', '95'], ['187', '95'], ['187', '95'], ['187', '95'], ['187', '95'], ['187', '95'], ['187', '95'], ['177', '75'], ['177', '75'], ['177', '75'], ['177', '75'], ['177', '75'], ['177', '75'], ['177', '75'], ['177', '75'], ['186', '80'], ['186', '80'], ['186', '80'], ['186', '80'], ['186', '80'], ['186', '80'], ['186', '80'], ['186', '80'], ['186', '80'], ['186', '80'], ['186', '88'], ['186', '88'], ['186', '88'], ['186', '88'], ['186', '88'], ['186', '88'], ['182', '88'], ['182', '88'], ['182', '88'], ['182', '88'], ['182', '88'], ['182', '88'], ['186', '95'], ['186', '95'], ['186', '95'], ['186', '95'], ['179', '70'], ['179', '70'], ['179', '70'], ['179', '70'], ['179', '70'], ['179', '70'], ['179', '70'], ['179', '70'], ['179', '70'], ['186', '97'], ['186', '97'], ['186', '97'], ['186', '97'], ['186', '97'], ['186', '97'], ['186', '97'], ['186', '97'], ['186', '97'], ['186', '97'], ['186', '97'], ['186', '97'], ['181', '78'], ['181', '78'], ['181', '78'], ['181', '78'], ['180', '88'], ['180', '88'], ['180', '88'], ['180', '88'], ['180', '88'], ['180', '88'], ['180', '88'], ['180', '88'], ['180', '88'], ['180', '88'], ['180', '88'], ['180', '88'], ['181', '96'], ['181', '96'], ['181', '96'], ['188', '91'], ['188', '91'], ['188', '91'], ['188', '91'], ['178', '78'], ['178', '78'], ['178', '78'], ['178', '78'], ['178', '78'], ['178', '78'], ['178', '78'], ['178', '78'], ['175', '75'], ['175', '75'], ['175', '75'], ['175', '75'], ['175', '75'], ['175', '75'], ['175', '75'], ['175', '75'], ['175', '75'], ['175', '75'], ['175', '75'], ['175', '75'], ['175', '75'], ['175', '75'], ['175', '75'], ['175', '75'], ['184', '78'], ['184', '78'], ['184', '78'], ['184', '78'], ['184', '78'], ['184', '78'], ['184', '78'], ['184', '78'], ['184', '78'], ['184', '78'], ['184', '78'], ['184', '78'], ['184', '78'], ['184', '78'], ['184', '78'], ['184', '78'], ['194', '130'], ['194', '130'], ['194', '130'], ['194', '130'], ['194', '130'], ['194', '130'], ['194', '130'], ['194', '130'], ['194', '130'], ['194', '130'], ['194', '130'], ['194', '130'], ['194', '130'], ['178', '72'], ['178', '72'], ['178', '72'], ['183', '80'], ['183', '80'], ['183', '80'], ['183', '80'], ['183', '80'], ['183', '80'], ['183', '80'], ['183', '80'], ['183', '80'], ['183', '96'], ['183', '96'], ['183', '96'], ['183', '96'], ['183', '96'], ['183', '96'], ['183', '96'], ['183', '96'], ['183', '96'], ['183', '96'], ['183', '96'], ['183', '96'], ['183', '96'], ['183', '96'], ['183', '96'], ['183', '96'], ['183', '96'], ['183', '96'], ['175', '68'], ['180', '82'], ['180', '82'], ['180', '82'], ['180', '82'], ['180', '82'], ['186', '93'], ['186', '93'], ['186', '93'], ['185', '102'], ['185', '102'], ['185', '102'], ['185', '102'], ['185', '102'], ['185', '102'], ['185', '102'], ['185', '102'], ['185', '102'], ['185', '102'], ['185', '102'], ['185', '102'], ['185', '102'], ['185', '102'], ['185', '102'], ['180', '91'], ['180', '91'], ['180', '91'], ['180', '91'], ['180', '91'], ['180', '91'], ['180', '91'], ['180', '91'], ['180', '91'], ['180', '91'], ['180', '91'], ['180', '80'], ['180', '80'], ['180', '80'], ['180', '80'], ['180', '80'], ['180', '80'], ['180', '80'], ['180', '80'], ['180', '80'], ['180', '80'], ['180', '80'], ['180', '80'], ['180', '80'], ['180', '80'], ['180', '80'], ['180', '80'], ['180', '85'], ['180', '85'], ['180', '85'], ['180', '85'], ['180', '85'], ['180', '85'], ['180', '85'], ['180', '85'], ['180', '85'], ['175', '70'], ['175', '70'], ['175', '70'], ['175', '70'], ['175', '70'], ['175', '70'], ['175', '70'], ['175', '70'], ['175', '70'], ['175', '70'], ['175', '70'], ['175', '70'], ['175', '70'], ['175', '70'], ['175', '70'], ['182', '95'], ['182', '95'], ['182', '95'], ['182', '82'], ['182', '82'], ['182', '82'], ['182', '82'], ['182', '82'], ['182', '82'], ['182', '82'], ['182', '82'], ['182', '82'], ['182', '82'], ['182', '82'], ['182', '82'], ['182', '82'], ['186', '86'], ['186', '86'], ['185', '92'], ['185', '92'], ['185', '92'], ['185', '98'], ['185', '98'], ['185', '98'], ['185', '98'], ['185', '98'], ['185', '98'], ['185', '98'], ['185', '98'], ['185', '98'], ['185', '98'], ['185', '98'], ['185', '98'], ['185', '75'], ['185', '75'], ['185', '75'], ['185', '78'], ['185', '78'], ['176', '78'], ['176', '78'], ['176', '78'], ['176', '78'], ['176', '78'], ['176', '78'], ['176', '78'], ['176', '78'], ['176', '78'], ['176', '78'], ['176', '78'], ['176', '78'], ['176', '78'], ['176', '80'], ['176', '80'], ['176', '80'], ['183', '89'], ['183', '89'], ['183', '89'], ['178', '83'], ['178', '83'], ['178', '83'], ['178', '83'], ['178', '83'], ['178', '83'], ['178', '83'], ['178', '83'], ['185', '90'], ['185', '90'], ['185', '90'], ['185', '90'], ['185', '90'], ['185', '90'], ['185', '90'], ['185', '90'], ['185', '90'], ['185', '90'], ['185', '90'], ['185', '90'], ['185', '90'], ['185', '90'], ['185', '90'], ['185', '90'], ['185', '90'], ['185', '90'], ['185', '90'], ['185', '90'], ['175', '80'], ['175', '80'], ['175', '80'], ['182', '85'], ['182', '85'], ['182', '85'], ['182', '85'], ['182', '85'], ['183', '89'], ['183', '89'], ['183', '89'], ['183', '89'], ['183', '89'], ['183', '89'], ['183', '89'], ['183', '89'], ['183', '89'], ['183', '89'], ['183', '89'], ['183', '89'], ['183', '89'], ['183', '89'], ['183', '89'], ['183', '89'], ['184', '85'], ['184', '85'], ['184', '85'], ['184', '85'], ['184', '85'], ['183', '83'], ['183', '80'], ['183', '80'], ['183', '80'], ['188', '84'], ['188', '84'], ['188', '84'], ['188', '84'], ['188', '84'], ['188', '84'], ['188', '84'], ['188', '84'], ['188', '84'], ['183', '90'], ['183', '90'], ['183', '90'], ['183', '90'], ['185', '84'], ['185', '84'], ['185', '84'], ['185', '84'], ['177', '77'], ['177', '77'], ['186', '86'], ['186', '86'], ['186', '86'], ['186', '86'], ['186', '86'], ['186', '86'], ['186', '86'], ['186', '86'], ['186', '86'], ['186', '86'], ['180', '73'], ['180', '73'], ['180', '73'], ['180', '73'], ['180', '73'], ['180', '73'], ['180', '73'], ['180', '73'], ['180', '73'], ['180', '73'], ['187', '100'], ['187', '100'], ['187', '100'], ['187', '100'], ['187', '100'], ['187', '100'], ['187', '100'], ['184', '86'], ['183', '75'], ['183', '75'], ['183', '75'], ['186', '95'], ['186', '95'], ['186', '95'], ['186', '95'], ['186', '95'], ['186', '95'], ['186', '95'], ['186', '95'], ['183', '77'], ['183', '77'], ['183', '77'], ['184', '83'], ['181', '73'], ['182', '90'], ['184', '97'], ['184', '97'], ['184', '97'], ['184', '97'], ['184', '97'], ['184', '97'], ['184', '97'], ['184', '97'], ['184', '97'], ['184', '97'], ['179', '76'], ['179', '76'], ['172', '80'], ['172', '80'], ['172', '80'], ['172', '80'], ['172', '80'], ['172', '80'], ['172', '80'], ['172', '80'], ['172', '80'], ['172', '80'], ['172', '80'], ['172', '80'], ['172', '80'], ['172', '80'], ['184', '94'], ['184', '94'], ['184', '94'], ['184', '94'], ['184', '94'], ['184', '94'], ['184', '94'], ['184', '94'], ['184', '94'], ['184', '94'], ['176', '72'], ['176', '72'], ['176', '72'], ['176', '72'], ['187', '100'], ['187', '100'], ['187', '100'], ['187', '100'], ['187', '100'], ['187', '100'], ['187', '100'], ['187', '100'], ['187', '100'], ['187', '100'], ['187', '100'], ['187', '100'], ['187', '100'], ['187', '100'], ['187', '100'], ['182', '83'], ['182', '83'], ['182', '83'], ['182', '83'], ['182', '83'], ['182', '83'], ['182', '83'], ['182', '83'], ['182', '83'], ['182', '83'], ['182', '83'], ['182', '83'], ['182', '83'], ['182', '83'], ['182', '83'], ['182', '83'], ['182', '83'], ['182', '83'], ['182', '83'], ['182', '83'], ['175', '75'], ['175', '75'], ['175', '75'], ['175', '75'], ['175', '75'], ['175', '75'], ['175', '75'], ['175', '75'], ['175', '75'], ['177', '78'], ['185', '90'], ['185', '90'], ['185', '90'], ['185', '90'], ['185', '90'], ['185', '90'], ['185', '90'], ['185', '90'], ['185', '90'], ['185', '90'], ['185', '90'], ['185', '90'], ['176', '76'], ['176', '76'], ['176', '76'], ['176', '76'], ['176', '76'], ['176', '76'], ['176', '76'], ['176', '76'], ['180', '67'], ['180', '67'], ['185', '92'], ['185', '92'], ['185', '92'], ['185', '92'], ['185', '92'], ['185', '78'], ['185', '78'], ['185', '78'], ['185', '78'], ['185', '78'], ['185', '78'], ['181', '80'], ['181', '80'], ['181', '80'], ['181', '80'], ['180', '85'], ['180', '85'], ['180', '85'], ['180', '85'], ['180', '85'], ['180', '85'], ['180', '85'], ['180', '85'], ['180', '85'], ['175', '74'], ['175', '74'], ['175', '74'], ['175', '74'], ['175', '74'], ['175', '74'], ['175', '74'], ['175', '74'], ['175', '74'], ['175', '74'], ['175', '74'], ['175', '74'], ['175', '74'], ['175', '74'], ['178', '73'], ['178', '73'], ['178', '73'], ['185', '95'], ['185', '95'], ['185', '95'], ['185', '95'], ['185', '95'], ['185', '95'], ['175', '78'], ['175', '78'], ['175', '78'], ['175', '78'], ['182', '85'], ['182', '85'], ['182', '85'], ['181', '74'], ['181', '74'], ['181', '74'], ['181', '74'], ['181', '74'], ['181', '74'], ['181', '74'], ['181', '74'], ['181', '74'], ['181', '74'], ['181', '74'], ['181', '74'], ['181', '74'], ['180', '92'], ['180', '92'], ['186', '92'], ['186', '92'], ['186', '92'], ['186', '92'], ['186', '92'], ['187', '94'], ['187', '94'], ['187', '94'], ['187', '94'], ['187', '94'], ['187', '94'], ['187', '94'], ['187', '94'], ['187', '94'], ['187', '94'], ['187', '94'], ['187', '94'], ['183', '98'], ['183', '98'], ['188', '88'], ['188', '88'], ['188', '88'], ['188', '88'], ['188', '88'], ['188', '88'], ['188', '88'], ['185', '87'], ['185', '87'], ['185', '87'], ['185', '87'], ['185', '87'], ['185', '87'], ['183', '95'], ['183', '95'], ['178', '85'], ['178', '85'], ['178', '85'], ['175', '75'], ['175', '75'], ['175', '75'], ['175', '75'], ['175', '75'], ['175', '75'], ['178', '76'], ['178', '76'], ['178', '76'], ['178', '76'], ['178', '76'], ['178', '76'], ['178', '76'], ['180', '90'], ['180', '90'], ['180', '90'], ['180', '90'], ['180', '90'], ['180', '90'], ['180', '90'], ['180', '90'], ['180', '90'], ['180', '90'], ['180', '90'], ['180', '90'], ['180', '90'], ['180', '90'], ['177', '75'], ['177', '75'], ['177', '75'], ['177', '75'], ['177', '75'], ['178', '73'], ['178', '73'], ['178', '73'], ['178', '73'], ['178', '73'], ['178', '73'], ['178', '73'], ['178', '73'], ['178', '73'], ['178', '73'], ['178', '73'], ['187', '130'], ['187', '130'], ['187', '130'], ['187', '130'], ['187', '130'], ['187', '130'], ['187', '130'], ['187', '130'], ['187', '130'], ['187', '130'], ['187', '130'], ['187', '130'], ['187', '130'], ['187', '130'], ['187', '130'], ['187', '130'], ['188', '100'], ['188', '100'], ['188', '100'], ['188', '100'], ['188', '100'], ['188', '100'], ['188', '100'], ['188', '100'], ['188', '100'], ['188', '100'], ['188', '100'], ['188', '100'], ['188', '100'], ['183', '88'], ['183', '88'], ['180', '106'], ['180', '106'], ['180', '106'], ['180', '106'], ['180', '106'], ['180', '106'], ['180', '106'], ['180', '106'], ['180', '106'], ['180', '106'], ['180', '106'], ['180', '106'], ['180', '106'], ['184', '84'], ['184', '84'], ['184', '84'], ['184', '84'], ['184', '84'], ['184', '84'], ['174', '78'], ['174', '78'], ['174', '78'], ['174', '78'], ['174', '78'], ['190', '95'], ['190', '95'], ['190', '95'], ['190', '95'], ['190', '95'], ['190', '95'], ['181', '99'], ['174', '83'], ['174', '83'], ['174', '83'], ['174', '83'], ['176', '69'], ['176', '69'], ['176', '69'], ['176', '69'], ['176', '69'], ['176', '69'], ['176', '69'], ['176', '87'], ['176', '87'], ['176', '87'], ['176', '87'], ['176', '87'], ['176', '87'], ['176', '87'], ['176', '87'], ['190', '92'], ['180', '79'], ['180', '79'], ['180', '79'], ['180', '79'], ['180', '79'], ['180', '79'], ['189', '94'], ['189', '94'], ['177', '78'], ['177', '78'], ['177', '78'], ['177', '78'], ['183', '96'], ['183', '96'], ['183', '96'], ['183', '96'], ['183', '96'], ['183', '96'], ['183', '96'], ['183', '96'], ['183', '96'], ['183', '96'], ['183', '96'], ['181', '82'], ['181', '82'], ['181', '82'], ['181', '82'], ['181', '82'], ['181', '82']]\n"
     ]
    }
   ],
   "source": [
    "df_row3 = []\n",
    "\n",
    "for i in range(len(regular_season_HW_OPS)):\n",
    "    df_row3.append(df_row2[i].split('/'))\n",
    "\n",
    "print(df_row3)    "
   ]
  },
  {
   "cell_type": "code",
   "execution_count": 91,
   "id": "57a40f40-b233-4873-b8ee-043401c096f0",
   "metadata": {},
   "outputs": [
    {
     "name": "stdout",
     "output_type": "stream",
     "text": [
      "df_row3[1][0] =  180\n",
      "df_row3[1][1] =  72\n"
     ]
    }
   ],
   "source": [
    "print('df_row3[1][0] = ', df_row3[1][0])\n",
    "print('df_row3[1][1] = ', df_row3[1][1])"
   ]
  },
  {
   "cell_type": "code",
   "execution_count": 93,
   "id": "1e650f6b-32d2-4fc1-999d-3cab9e47a1ac",
   "metadata": {},
   "outputs": [
    {
     "name": "stdout",
     "output_type": "stream",
     "text": [
      "df_H :  ['177', '180', '180', '180', '180', '180']\n",
      "df_W :  ['93', '72', '72', '72', '72', '72']\n"
     ]
    }
   ],
   "source": [
    "df_H = []\n",
    "df_W = []\n",
    "\n",
    "for i in range(len(df_row3)):\n",
    "    df_H.append(df_row3[i][0])\n",
    "    df_W.append(df_row3[i][1])\n",
    "    \n",
    "    \n",
    "print('df_H : ', df_H[0:6])\n",
    "print('df_W : ', df_W[0:6])"
   ]
  },
  {
   "cell_type": "code",
   "execution_count": 96,
   "id": "9edab921-2999-4e76-bd4d-a8d77aa7acd0",
   "metadata": {},
   "outputs": [
    {
     "name": "stdout",
     "output_type": "stream",
     "text": [
      "<class 'pandas.core.frame.DataFrame'>\n",
      "RangeIndex: 1634 entries, 0 to 1633\n",
      "Data columns (total 6 columns):\n",
      " #   Column         Non-Null Count  Dtype  \n",
      "---  ------         --------------  -----  \n",
      " 0   height/weight  1634 non-null   object \n",
      " 1   OPS            1634 non-null   float64\n",
      " 2   OBP            1634 non-null   float64\n",
      " 3   SLG            1634 non-null   float64\n",
      " 4   height         1634 non-null   float64\n",
      " 5   weight         1634 non-null   float64\n",
      "dtypes: float64(5), object(1)\n",
      "memory usage: 76.7+ KB\n"
     ]
    }
   ],
   "source": [
    "regular_season_HW_OPS['height'] = df_H\n",
    "regular_season_HW_OPS['weight'] = df_W\n",
    "\n",
    "regular_season_HW_OPS['height'] = regular_season_HW_OPS['height'].apply(float)\n",
    "regular_season_HW_OPS['weight'] = regular_season_HW_OPS['weight'].apply(float)\n",
    "\n",
    "regular_season_HW_OPS.info()"
   ]
  },
  {
   "cell_type": "code",
   "execution_count": 97,
   "id": "3d6805d4-4d41-45a4-9ea6-8235c1daa71c",
   "metadata": {},
   "outputs": [
    {
     "data": {
      "image/png": "[encoded data removed]",
      "text/plain": [
       "<Figure size 1440x720 with 1 Axes>"
      ]
     },
     "metadata": {
      "needs_background": "light"
     },
     "output_type": "display_data"
    },
    {
     "data": {
      "image/png": "[encoded data removed]",
      "text/plain": [
       "<Figure size 1440x720 with 1 Axes>"
      ]
     },
     "metadata": {
      "needs_background": "light"
     },
     "output_type": "display_data"
    }
   ],
   "source": [
    "plt.figure(figsize = (20,10))\n",
    "plt.subplot(2,1,1)\n",
    "sns.countplot(data = regular_season_HW_OPS, x = 'height')\n",
    "plt.xlabel('height')\n",
    "plt.xticks(rotation=90)\n",
    "plt.show()\n",
    "\n",
    "plt.figure(figsize = (20,10))\n",
    "plt.subplot(2,1,2)\n",
    "sns.countplot(data = regular_season_HW_OPS, x = 'weight')\n",
    "plt.xlabel('weight')\n",
    "plt.xticks(rotation=90)\n",
    "plt.show()"
   ]
  },
  {
   "cell_type": "code",
   "execution_count": 98,
   "id": "36ac6f8e-68b5-418d-bebc-5f6d0e07dd95",
   "metadata": {},
   "outputs": [
    {
     "data": {
      "text/html": [
       "<div>\n",
       "<style scoped>\n",
       "    .dataframe tbody tr th:only-of-type {\n",
       "        vertical-align: middle;\n",
       "    }\n",
       "\n",
       "    .dataframe tbody tr th {\n",
       "        vertical-align: top;\n",
       "    }\n",
       "\n",
       "    .dataframe thead th {\n",
       "        text-align: right;\n",
       "    }\n",
       "</style>\n",
       "<table border=\"1\" class=\"dataframe\">\n",
       "  <thead>\n",
       "    <tr style=\"text-align: right;\">\n",
       "      <th></th>\n",
       "      <th>height/weight</th>\n",
       "      <th>OPS</th>\n",
       "      <th>OBP</th>\n",
       "      <th>SLG</th>\n",
       "      <th>height</th>\n",
       "      <th>weight</th>\n",
       "      <th>W/H</th>\n",
       "    </tr>\n",
       "  </thead>\n",
       "  <tbody>\n",
       "    <tr>\n",
       "      <th>0</th>\n",
       "      <td>177cm/93kg</td>\n",
       "      <td>0.902</td>\n",
       "      <td>0.383</td>\n",
       "      <td>0.519</td>\n",
       "      <td>177.0</td>\n",
       "      <td>93.0</td>\n",
       "      <td>0.525424</td>\n",
       "    </tr>\n",
       "    <tr>\n",
       "      <th>1</th>\n",
       "      <td>180cm/72kg</td>\n",
       "      <td>0.000</td>\n",
       "      <td>0.000</td>\n",
       "      <td>0.000</td>\n",
       "      <td>180.0</td>\n",
       "      <td>72.0</td>\n",
       "      <td>0.400000</td>\n",
       "    </tr>\n",
       "    <tr>\n",
       "      <th>2</th>\n",
       "      <td>180cm/72kg</td>\n",
       "      <td>0.686</td>\n",
       "      <td>0.337</td>\n",
       "      <td>0.349</td>\n",
       "      <td>180.0</td>\n",
       "      <td>72.0</td>\n",
       "      <td>0.400000</td>\n",
       "    </tr>\n",
       "  </tbody>\n",
       "</table>\n",
       "</div>"
      ],
      "text/plain": [
       "  height/weight    OPS    OBP    SLG  height  weight       W/H\n",
       "0    177cm/93kg  0.902  0.383  0.519   177.0    93.0  0.525424\n",
       "1    180cm/72kg  0.000  0.000  0.000   180.0    72.0  0.400000\n",
       "2    180cm/72kg  0.686  0.337  0.349   180.0    72.0  0.400000"
      ]
     },
     "execution_count": 98,
     "metadata": {},
     "output_type": "execute_result"
    }
   ],
   "source": [
    "regular_season_HW_OPS['W/H']=regular_season_HW_OPS['weight'] / regular_season_HW_OPS['height']\n",
    "regular_season_HW_OPS.head(3)"
   ]
  },
  {
   "cell_type": "code",
   "execution_count": 99,
   "id": "0679788f-17f9-46bf-82df-1e9bc4b87f3f",
   "metadata": {},
   "outputs": [
    {
     "name": "stderr",
     "output_type": "stream",
     "text": [
      "C:\\Users\\jdu\\anaconda3\\lib\\site-packages\\seaborn\\_decorators.py:36: FutureWarning: Pass the following variables as keyword args: x, y. From version 0.12, the only valid positional argument will be `data`, and passing other arguments without an explicit keyword will result in an error or misinterpretation.\n",
      "  warnings.warn(\n"
     ]
    },
    {
     "data": {
      "image/png": "[encoded data removed]",
      "text/plain": [
       "<Figure size 432x288 with 1 Axes>"
      ]
     },
     "metadata": {
      "needs_background": "light"
     },
     "output_type": "display_data"
    }
   ],
   "source": [
    "corr = regular_season_HW_OPS['W/H'].corr(regular_season_HW_OPS['OPS'])\n",
    "\n",
    "sns.scatterplot(regular_season_HW_OPS['W/H'],\n",
    "               regular_season_HW_OPS['OPS'],\n",
    "               color = 'orange')\n",
    "\n",
    "plt.title('W/H and OPS - corr : {}'.format(corr))\n",
    "plt.xlabel('OPS', fontsize = 20)\n",
    "plt.ylabel('W/H', fontsize = 20)\n",
    "plt.grid()\n",
    "plt.show()"
   ]
  },
  {
   "cell_type": "code",
   "execution_count": 101,
   "id": "1ca47021-8fbe-4502-938e-95191878461e",
   "metadata": {},
   "outputs": [
    {
     "name": "stdout",
     "output_type": "stream",
     "text": [
      "<class 'pandas.core.frame.DataFrame'>\n",
      "RangeIndex: 2454 entries, 0 to 2453\n",
      "Data columns (total 29 columns):\n",
      " #   Column           Non-Null Count  Dtype  \n",
      "---  ------           --------------  -----  \n",
      " 0   batter_id        2454 non-null   int64  \n",
      " 1   batter_name      2454 non-null   object \n",
      " 2   year             2454 non-null   int64  \n",
      " 3   team             2454 non-null   object \n",
      " 4   avg              2428 non-null   float64\n",
      " 5   G                2454 non-null   int64  \n",
      " 6   AB               2454 non-null   int64  \n",
      " 7   R                2454 non-null   int64  \n",
      " 8   H                2454 non-null   int64  \n",
      " 9   2B               2454 non-null   int64  \n",
      " 10  3B               2454 non-null   int64  \n",
      " 11  HR               2454 non-null   int64  \n",
      " 12  TB               2454 non-null   int64  \n",
      " 13  RBI              2454 non-null   int64  \n",
      " 14  SB               2454 non-null   int64  \n",
      " 15  CS               2454 non-null   int64  \n",
      " 16  BB               2454 non-null   int64  \n",
      " 17  HBP              2454 non-null   int64  \n",
      " 18  SO               2454 non-null   int64  \n",
      " 19  GDP              2454 non-null   int64  \n",
      " 20  SLG              2428 non-null   float64\n",
      " 21  OBP              2430 non-null   float64\n",
      " 22  E                2454 non-null   int64  \n",
      " 23  height/weight    1652 non-null   object \n",
      " 24  year_born        2454 non-null   object \n",
      " 25  position         1652 non-null   object \n",
      " 26  career           2454 non-null   object \n",
      " 27  starting_salary  1387 non-null   object \n",
      " 28  OPS              2428 non-null   float64\n",
      "dtypes: float64(4), int64(18), object(7)\n",
      "memory usage: 556.1+ KB\n"
     ]
    }
   ],
   "source": [
    "regular_season_df2.info() # starting_salary 연봉"
   ]
  },
  {
   "cell_type": "code",
   "execution_count": 102,
   "id": "2cae0fd5-e0b8-4e55-9aac-195a79e9c15b",
   "metadata": {},
   "outputs": [
    {
     "data": {
      "text/plain": [
       "{'100000달러',\n",
       " '10000만원',\n",
       " '11000만원',\n",
       " '12000만원',\n",
       " '13000만원',\n",
       " '14000만원',\n",
       " '15000만원',\n",
       " '16000만원',\n",
       " '17000만원',\n",
       " '18000만원',\n",
       " '20000만원',\n",
       " '21000만원',\n",
       " '23000만원',\n",
       " '25000만원',\n",
       " '27000만원',\n",
       " '28000만원',\n",
       " '300000달러',\n",
       " '30000만원',\n",
       " '3000만원',\n",
       " '33000만원',\n",
       " '4000만원',\n",
       " '43000만원',\n",
       " '45000만원',\n",
       " '50000달러',\n",
       " '5000만원',\n",
       " '6000만원',\n",
       " '6500만원',\n",
       " '7000만원',\n",
       " '8000만원',\n",
       " '9000만원',\n",
       " nan}"
      ]
     },
     "execution_count": 102,
     "metadata": {},
     "output_type": "execute_result"
    }
   ],
   "source": [
    "set(regular_season_df2['starting_salary'])"
   ]
  },
  {
   "cell_type": "code",
   "execution_count": null,
   "id": "2e172d94-5b5a-4831-b8a9-144df5006265",
   "metadata": {},
   "outputs": [],
   "source": []
  }
 ],
 "metadata": {
  "kernelspec": {
   "display_name": "Python 3",
   "language": "python",
   "name": "python3"
  },
  "language_info": {
   "codemirror_mode": {
    "name": "ipython",
    "version": 3
   },
   "file_extension": ".py",
   "mimetype": "text/x-python",
   "name": "python",
   "nbconvert_exporter": "python",
   "pygments_lexer": "ipython3",
   "version": "3.8.8"
  }
 },
 "nbformat": 4,
 "nbformat_minor": 5
}
