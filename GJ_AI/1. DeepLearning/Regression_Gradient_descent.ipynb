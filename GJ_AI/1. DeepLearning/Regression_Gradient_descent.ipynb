{
  "nbformat": 4,
  "nbformat_minor": 0,
  "metadata": {
    "colab": {
      "name": "07_05_class3_jdu",
      "provenance": [],
      "collapsed_sections": []
    },
    "kernelspec": {
      "name": "python3",
      "display_name": "Python 3"
    },
    "language_info": {
      "name": "python"
    }
  },
  "cells": [
    {
      "cell_type": "markdown",
      "metadata": {
        "id": "LKNoOU8QBEwf"
      },
      "source": [
        "# Regression(회귀)"
      ]
    },
    {
      "cell_type": "markdown",
      "metadata": {
        "id": "obXNsgIJBceX"
      },
      "source": [
        "## y = ax + b\n",
        "## y = theta0 + theta1*x\n",
        "## 임의의 값 넣어보기 theta0 = 1, theta = 2\n",
        "\n"
      ]
    },
    {
      "cell_type": "code",
      "metadata": {
        "id": "ht-xgRNJBgUM"
      },
      "source": [
        "class Y_pred():\n",
        "    def __init__(self, theta_0, theta_1):\n",
        "        self.theta_0 = theta_0\n",
        "        self.theta_1 = theta_1\n",
        "\n",
        "    \n",
        "def out_y_hat(self, input_x):\n",
        "    y_hat_row = []\n",
        "    for i in range(len(input_x)):\n",
        "        y_hat = self.theta_0 + self.theta_1*input_x[i]\n",
        "        y_hat_row.append(y_hat)\n",
        "    \n",
        "    return y_hat_row\n",
        "\n",
        "Y_pred.y_hat = out_y_hat"
      ],
      "execution_count": 4,
      "outputs": []
    },
    {
      "cell_type": "code",
      "metadata": {
        "id": "pfcvDSsJC6TV"
      },
      "source": [
        "Y_pred_C = Y_pred(theta_0= 1 , theta_1= 2)"
      ],
      "execution_count": 5,
      "outputs": []
    },
    {
      "cell_type": "code",
      "metadata": {
        "colab": {
          "base_uri": "https://localhost:8080/"
        },
        "id": "G8aSf4WCDCkF",
        "outputId": "562f3fec-bfd9-4093-c9f9-73f734deba59"
      },
      "source": [
        "x = [1000]\n",
        "Y_pred_C.y_hat(input_x = x)"
      ],
      "execution_count": 6,
      "outputs": [
        {
          "output_type": "execute_result",
          "data": {
            "text/plain": [
              "[2001]"
            ]
          },
          "metadata": {
            "tags": []
          },
          "execution_count": 6
        }
      ]
    },
    {
      "cell_type": "code",
      "metadata": {
        "colab": {
          "base_uri": "https://localhost:8080/"
        },
        "id": "hnUMfBLzDKLz",
        "outputId": "94375f34-d177-40c2-a430-86484f7025ba"
      },
      "source": [
        "x = [580, 700, 810, 840]\n",
        "Y_pred_C = Y_pred(theta_0= 1 , theta_1= 2)\n",
        "Y_pred_C.y_hat(input_x = x)"
      ],
      "execution_count": 7,
      "outputs": [
        {
          "output_type": "execute_result",
          "data": {
            "text/plain": [
              "[1161, 1401, 1621, 1681]"
            ]
          },
          "metadata": {
            "tags": []
          },
          "execution_count": 7
        }
      ]
    },
    {
      "cell_type": "markdown",
      "metadata": {
        "id": "Iib5j_CSD3YB"
      },
      "source": [
        "### Optimization Problem (최적화 문제)\n",
        "### 목적함수"
      ]
    },
    {
      "cell_type": "markdown",
      "metadata": {
        "id": "OyFHAqbGEqDa"
      },
      "source": [
        "- 손실함수는 MSE 외에도 다양하게 존재합니다.\n",
        "- 목적함수 또한 Sum of Square Error(SSE) 외에도 다양하게 존재합니다.\n",
        "- 결국 손실함수와 목적함수는 서로 비슷한 의미를 내포하고 있습니다.\n",
        "- 목적함수는 어떤 값을 낮추거나 높이는 목적을 가지는 함수이다"
      ]
    },
    {
      "cell_type": "code",
      "metadata": {
        "colab": {
          "base_uri": "https://localhost:8080/"
        },
        "id": "9koLkZMzFFqo",
        "outputId": "255d3edc-609c-402e-8e01-d23e800e1422"
      },
      "source": [
        "import numpy as np\n",
        "\n",
        "y_label_total = [374, 385, 375, 401] # 실제값\n",
        "y_hat_total = [1161, 1401, 1621, 1681] # 임의의 수로 예측한 결과\n",
        "\n",
        "diff_row = []\n",
        "\n",
        "for i in range(len(y_hat_total)):\n",
        "    diff = y_label_total[i] - y_hat_total[i]\n",
        "    diff_row.append(diff)\n",
        "    square = np.square(diff_row)\n",
        "    sse = 1/2 * (np.sum(square))\n",
        "\n",
        "print(\"diff = {} \\nsquare = {} \\nSSE = {}\".format(diff, square, sse))"
      ],
      "execution_count": 11,
      "outputs": [
        {
          "output_type": "stream",
          "text": [
            "diff = -1280 \n",
            "square = [ 619369 1032256 1552516 1638400] \n",
            "SSE = 2421270.5\n"
          ],
          "name": "stdout"
        }
      ]
    },
    {
      "cell_type": "markdown",
      "metadata": {
        "id": "dVtJ7h39HKv1"
      },
      "source": [
        "## 경사하강법\n",
        "-  := 는 정의하다라는 기호로 계산한 값으로 갱신한다\n",
        "-  에타는 Learning Rate로 학습률이다"
      ]
    },
    {
      "cell_type": "markdown",
      "metadata": {
        "id": "iEGQJic_H-Re"
      },
      "source": [
        "### 학습률 : 1\n",
        "### 에폭 : 3\n",
        "### x : 3"
      ]
    },
    {
      "cell_type": "code",
      "metadata": {
        "colab": {
          "base_uri": "https://localhost:8080/"
        },
        "id": "bX9g_tOwI5M9",
        "outputId": "17a194e9-0ad7-4071-fedb-39e93d4f3aa6"
      },
      "source": [
        "def g(x, eta):\n",
        "    print(\"현재 x값 : \", x)\n",
        "    epoch_1_x = x - eta*((2*x)-2)\n",
        "    print(\"첫 번째 에폭 x 값 : {}\".format(epoch_1_x))\n",
        "\n",
        "    epoch_2_x = epoch_1_x - eta*((2*epoch_1_x)-2)\n",
        "    print(\"두 번째 에폭 x 값 : {}\".format(epoch_2_x))\n",
        "\n",
        "    epoch_3_x = epoch_2_x - eta*((2*epoch_2_x)-2)\n",
        "    print(\"세 번째 에폭 x 값 : {}\".format(epoch_3_x))\n",
        "\n",
        "result = g(x = 3, eta = 1)"
      ],
      "execution_count": 12,
      "outputs": [
        {
          "output_type": "stream",
          "text": [
            "현재 x값 :  3\n",
            "첫 번째 에폭 x 값 : -1\n",
            "두 번째 에폭 x 값 : 3\n",
            "세 번째 에폭 x 값 : -1\n"
          ],
          "name": "stdout"
        }
      ]
    },
    {
      "cell_type": "markdown",
      "metadata": {
        "id": "j-HGon_BJy8X"
      },
      "source": [
        "### 학습률 : 0.01\n",
        "### 반복갱신횟수 : 10\n",
        "### x : 3"
      ]
    },
    {
      "cell_type": "code",
      "metadata": {
        "id": "Zu-9gafdKNXk"
      },
      "source": [
        "import matplotlib.pyplot as plt\n",
        "import numpy as np\n",
        "\n",
        "def g(learning_rate, epoch_count, random_value_bool = False, x = 3):\n",
        "    if random_value_bool:\n",
        "        x = np.random.normal(0, 1, 1)\n",
        "\n",
        "    print(\"Now 'x' Value : \", x)\n",
        "    print(\"Now Learning Rate Value : \", learning_rate)\n",
        "\n",
        "    x_row = []\n",
        "\n",
        "    for i in range(epoch_count):\n",
        "        x = x - learning_rate*((2*x)-2)\n",
        "        print(\"Epoch {} - x {}\".format(i+1, round(x,3)))\n",
        "        x_row.append(x)\n",
        "\n",
        "    return x_row"
      ],
      "execution_count": 25,
      "outputs": []
    },
    {
      "cell_type": "code",
      "metadata": {
        "colab": {
          "base_uri": "https://localhost:8080/"
        },
        "id": "ZZOTvYVDL8fG",
        "outputId": "e0b793cc-787c-42c4-f537-92d561289183"
      },
      "source": [
        "result = g(learning_rate=0.1, epoch_count=10, random_value_bool=False, x=3)"
      ],
      "execution_count": 26,
      "outputs": [
        {
          "output_type": "stream",
          "text": [
            "Now 'x' Value :  3\n",
            "Now Learning Rate Value :  0.1\n",
            "Epoch 1 - x 2.6\n",
            "Epoch 2 - x 2.28\n",
            "Epoch 3 - x 2.024\n",
            "Epoch 4 - x 1.819\n",
            "Epoch 5 - x 1.655\n",
            "Epoch 6 - x 1.524\n",
            "Epoch 7 - x 1.419\n",
            "Epoch 8 - x 1.336\n",
            "Epoch 9 - x 1.268\n",
            "Epoch 10 - x 1.215\n"
          ],
          "name": "stdout"
        }
      ]
    },
    {
      "cell_type": "code",
      "metadata": {
        "colab": {
          "base_uri": "https://localhost:8080/",
          "height": 279
        },
        "id": "FTTfOflfMRSe",
        "outputId": "1c65198a-9146-4941-db1e-6f778c516cb3"
      },
      "source": [
        "plt.plot(result, '--o', color = 'red')\n",
        "plt.xlabel('Epochs')\n",
        "plt.ylabel('x value')\n",
        "plt.grid()\n",
        "plt.show()"
      ],
      "execution_count": 27,
      "outputs": [
        {
          "output_type": "display_data",
          "data": {
            "image/png": "[encoded data removed]",
            "text/plain": [
              "<Figure size 432x288 with 1 Axes>"
            ]
          },
          "metadata": {
            "tags": [],
            "needs_background": "light"
          }
        }
      ]
    },
    {
      "cell_type": "markdown",
      "metadata": {
        "id": "Hjdps-QPM6Yp"
      },
      "source": [
        "![image.png](data:image/png;base64,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)"
      ]
    },
    {
      "cell_type": "code",
      "metadata": {
        "id": "G6eFMvvkXhaN"
      },
      "source": [
        ""
      ],
      "execution_count": null,
      "outputs": []
    }
  ]
}