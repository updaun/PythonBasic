{
  "nbformat": 4,
  "nbformat_minor": 0,
  "metadata": {
    "colab": {
      "name": "07_05_class3_jdu",
      "provenance": [],
      "collapsed_sections": []
    },
    "kernelspec": {
      "name": "python3",
      "display_name": "Python 3"
    },
    "language_info": {
      "name": "python"
    }
  },
  "cells": [
    {
      "cell_type": "markdown",
      "metadata": {
        "id": "LKNoOU8QBEwf"
      },
      "source": [
        "# Regression(회귀)"
      ]
    },
    {
      "cell_type": "markdown",
      "metadata": {
        "id": "obXNsgIJBceX"
      },
      "source": [
        "## y = ax + b\n",
        "## y = theta0 + theta1*x\n",
        "## 임의의 값 넣어보기 theta0 = 1, theta = 2\n",
        "\n"
      ]
    },
    {
      "cell_type": "code",
      "metadata": {
        "id": "ht-xgRNJBgUM"
      },
      "source": [
        "class Y_pred():\n",
        "    def __init__(self, theta_0, theta_1):\n",
        "        self.theta_0 = theta_0\n",
        "        self.theta_1 = theta_1\n",
        "\n",
        "    \n",
        "def out_y_hat(self, input_x):\n",
        "    y_hat_row = []\n",
        "    for i in range(len(input_x)):\n",
        "        y_hat = self.theta_0 + self.theta_1*input_x[i]\n",
        "        y_hat_row.append(y_hat)\n",
        "    \n",
        "    return y_hat_row\n",
        "\n",
        "Y_pred.y_hat = out_y_hat"
      ],
      "execution_count": 1,
      "outputs": []
    },
    {
      "cell_type": "code",
      "metadata": {
        "id": "pfcvDSsJC6TV"
      },
      "source": [
        "Y_pred_C = Y_pred(theta_0= 1 , theta_1= 2)"
      ],
      "execution_count": 2,
      "outputs": []
    },
    {
      "cell_type": "code",
      "metadata": {
        "colab": {
          "base_uri": "https://localhost:8080/"
        },
        "id": "G8aSf4WCDCkF",
        "outputId": "6b66f02c-9916-4247-b3b9-c59c7396173a"
      },
      "source": [
        "x = [1000]\n",
        "Y_pred_C.y_hat(input_x = x)"
      ],
      "execution_count": 3,
      "outputs": [
        {
          "output_type": "execute_result",
          "data": {
            "text/plain": [
              "[2001]"
            ]
          },
          "metadata": {
            "tags": []
          },
          "execution_count": 3
        }
      ]
    },
    {
      "cell_type": "code",
      "metadata": {
        "colab": {
          "base_uri": "https://localhost:8080/"
        },
        "id": "hnUMfBLzDKLz",
        "outputId": "d26a97ee-42a0-4dbb-d7d8-da5853dc090c"
      },
      "source": [
        "x = [580, 700, 810, 840]\n",
        "Y_pred_C = Y_pred(theta_0= 1 , theta_1= 2)\n",
        "Y_pred_C.y_hat(input_x = x)"
      ],
      "execution_count": 4,
      "outputs": [
        {
          "output_type": "execute_result",
          "data": {
            "text/plain": [
              "[1161, 1401, 1621, 1681]"
            ]
          },
          "metadata": {
            "tags": []
          },
          "execution_count": 4
        }
      ]
    },
    {
      "cell_type": "markdown",
      "metadata": {
        "id": "Iib5j_CSD3YB"
      },
      "source": [
        "### Optimization Problem (최적화 문제)\n",
        "### 목적함수"
      ]
    },
    {
      "cell_type": "markdown",
      "metadata": {
        "id": "OyFHAqbGEqDa"
      },
      "source": [
        "- 손실함수는 MSE 외에도 다양하게 존재합니다.\n",
        "- 목적함수 또한 Sum of Square Error(SSE) 외에도 다양하게 존재합니다.\n",
        "- 결국 손실함수와 목적함수는 서로 비슷한 의미를 내포하고 있습니다.\n",
        "- 목적함수는 어떤 값을 낮추거나 높이는 목적을 가지는 함수이다"
      ]
    },
    {
      "cell_type": "code",
      "metadata": {
        "colab": {
          "base_uri": "https://localhost:8080/"
        },
        "id": "9koLkZMzFFqo",
        "outputId": "848ffbf8-4fe8-4547-f70a-ab7c606fc64c"
      },
      "source": [
        "import numpy as np\n",
        "\n",
        "y_label_total = [374, 385, 375, 401] # 실제값\n",
        "y_hat_total = [1161, 1401, 1621, 1681] # 임의의 수로 예측한 결과\n",
        "\n",
        "diff_row = []\n",
        "\n",
        "for i in range(len(y_hat_total)):\n",
        "    diff = y_label_total[i] - y_hat_total[i]\n",
        "    diff_row.append(diff)\n",
        "    square = np.square(diff_row)\n",
        "    sse = 1/2 * (np.sum(square))\n",
        "\n",
        "print(\"diff = {} \\nsquare = {} \\nSSE = {}\".format(diff, square, sse))"
      ],
      "execution_count": 5,
      "outputs": [
        {
          "output_type": "stream",
          "text": [
            "diff = -1280 \n",
            "square = [ 619369 1032256 1552516 1638400] \n",
            "SSE = 2421270.5\n"
          ],
          "name": "stdout"
        }
      ]
    },
    {
      "cell_type": "markdown",
      "metadata": {
        "id": "dVtJ7h39HKv1"
      },
      "source": [
        "## 경사하강법\n",
        "-  := 는 정의하다라는 기호로 계산한 값으로 갱신한다\n",
        "-  에타는 Learning Rate로 학습률이다"
      ]
    },
    {
      "cell_type": "markdown",
      "metadata": {
        "id": "iEGQJic_H-Re"
      },
      "source": [
        "### 학습률 : 1\n",
        "### 에폭 : 3\n",
        "### x : 3"
      ]
    },
    {
      "cell_type": "code",
      "metadata": {
        "colab": {
          "base_uri": "https://localhost:8080/"
        },
        "id": "bX9g_tOwI5M9",
        "outputId": "a96b2171-7951-47e7-8e2e-64d0672ff620"
      },
      "source": [
        "def g(x, eta):\n",
        "    print(\"현재 x값 : \", x)\n",
        "    epoch_1_x = x - eta*((2*x)-2)\n",
        "    print(\"첫 번째 에폭 x 값 : {}\".format(epoch_1_x))\n",
        "\n",
        "    epoch_2_x = epoch_1_x - eta*((2*epoch_1_x)-2)\n",
        "    print(\"두 번째 에폭 x 값 : {}\".format(epoch_2_x))\n",
        "\n",
        "    epoch_3_x = epoch_2_x - eta*((2*epoch_2_x)-2)\n",
        "    print(\"세 번째 에폭 x 값 : {}\".format(epoch_3_x))\n",
        "\n",
        "result = g(x = 3, eta = 1)"
      ],
      "execution_count": 6,
      "outputs": [
        {
          "output_type": "stream",
          "text": [
            "현재 x값 :  3\n",
            "첫 번째 에폭 x 값 : -1\n",
            "두 번째 에폭 x 값 : 3\n",
            "세 번째 에폭 x 값 : -1\n"
          ],
          "name": "stdout"
        }
      ]
    },
    {
      "cell_type": "markdown",
      "metadata": {
        "id": "j-HGon_BJy8X"
      },
      "source": [
        "### 학습률 : 0.01\n",
        "### 반복갱신횟수 : 10\n",
        "### x : 3"
      ]
    },
    {
      "cell_type": "code",
      "metadata": {
        "id": "Zu-9gafdKNXk"
      },
      "source": [
        "import matplotlib.pyplot as plt\n",
        "import numpy as np\n",
        "\n",
        "def g(learning_rate, epoch_count, random_value_bool = False, x = 3):\n",
        "    if random_value_bool:\n",
        "        x = np.random.normal(0, 1, 1)\n",
        "\n",
        "    print(\"Now 'x' Value : \", x)\n",
        "    print(\"Now Learning Rate Value : \", learning_rate)\n",
        "\n",
        "    x_row = []\n",
        "\n",
        "    for i in range(epoch_count):\n",
        "        x = x - learning_rate*((2*x)-2)\n",
        "        print(\"Epoch {} - x {}\".format(i+1, round(x,3)))\n",
        "        x_row.append(x)\n",
        "\n",
        "    return x_row"
      ],
      "execution_count": 7,
      "outputs": []
    },
    {
      "cell_type": "code",
      "metadata": {
        "colab": {
          "base_uri": "https://localhost:8080/"
        },
        "id": "ZZOTvYVDL8fG",
        "outputId": "2ad0f256-a7cf-425c-fabd-c107d19f5831"
      },
      "source": [
        "result = g(learning_rate=0.1, epoch_count=10, random_value_bool=False, x=3)"
      ],
      "execution_count": 8,
      "outputs": [
        {
          "output_type": "stream",
          "text": [
            "Now 'x' Value :  3\n",
            "Now Learning Rate Value :  0.1\n",
            "Epoch 1 - x 2.6\n",
            "Epoch 2 - x 2.28\n",
            "Epoch 3 - x 2.024\n",
            "Epoch 4 - x 1.819\n",
            "Epoch 5 - x 1.655\n",
            "Epoch 6 - x 1.524\n",
            "Epoch 7 - x 1.419\n",
            "Epoch 8 - x 1.336\n",
            "Epoch 9 - x 1.268\n",
            "Epoch 10 - x 1.215\n"
          ],
          "name": "stdout"
        }
      ]
    },
    {
      "cell_type": "code",
      "metadata": {
        "colab": {
          "base_uri": "https://localhost:8080/",
          "height": 279
        },
        "id": "FTTfOflfMRSe",
        "outputId": "bc31110f-43ec-48ef-c1ef-ed343b2a9a1c"
      },
      "source": [
        "plt.plot(result, '--o', color = 'red')\n",
        "plt.xlabel('Epochs')\n",
        "plt.ylabel('x value')\n",
        "plt.grid()\n",
        "plt.show()"
      ],
      "execution_count": 9,
      "outputs": [
        {
          "output_type": "display_data",
          "data": {
            "image/png": "[encoded data removed]",
            "text/plain": [
              "<Figure size 432x288 with 1 Axes>"
            ]
          },
          "metadata": {
            "tags": [],
            "needs_background": "light"
          }
        }
      ]
    },
    {
      "cell_type": "markdown",
      "metadata": {
        "id": "lP1ABN8ZWZ01"
      },
      "source": [
        "## 2021.07.06"
      ]
    },
    {
      "cell_type": "code",
      "metadata": {
        "id": "IfWrmY2CWMcQ"
      },
      "source": [
        "import numpy as np"
      ],
      "execution_count": 23,
      "outputs": []
    },
    {
      "cell_type": "code",
      "metadata": {
        "id": "H_GniFb6WzZi"
      },
      "source": [
        "x = np.asarray([580, 700, 810, 840])\n",
        "y_label_total = np.asarray([374, 385, 375, 401])"
      ],
      "execution_count": 24,
      "outputs": []
    },
    {
      "cell_type": "code",
      "metadata": {
        "id": "_MNjKXhAXCZe"
      },
      "source": [
        "input_cnt = 1\n",
        "output_cnt = 1\n",
        "RND_MEAN = 0\n",
        "RND_STD = 1"
      ],
      "execution_count": 25,
      "outputs": []
    },
    {
      "cell_type": "code",
      "metadata": {
        "id": "aRg0t7QKXLJY"
      },
      "source": [
        "def main_execute(x, y, epoch_count, report, lr = 0.001):\n",
        "    model_init()\n",
        "    sse_row, theta_0_row, theta_1_row = run_train(x, y, epoch_count, report, lr)\n",
        "\n",
        "    return sse_row, theta_0_row, theta_1_row\n",
        "\n",
        "# theta 초기화\n",
        "def model_init():\n",
        "    global theta_0, theta_1\n",
        "    theta_1 = np.random.normal(RND_MEAN,RND_STD,[input_cnt, output_cnt])\n",
        "    theta_0 = np.random.normal(RND_MEAN,RND_STD,[output_cnt])"
      ],
      "execution_count": 26,
      "outputs": []
    },
    {
      "cell_type": "code",
      "metadata": {
        "id": "ZymX46yXZBHE"
      },
      "source": [
        "# y_hat 구하는 함수\n",
        "def forward_neuralnet(input_x):\n",
        "    y_hat = theta_0 + theta_1 * input_x \n",
        "    return y_hat"
      ],
      "execution_count": 27,
      "outputs": []
    },
    {
      "cell_type": "code",
      "metadata": {
        "id": "eAjuKuDZZZPV"
      },
      "source": [
        "# 손실함수 SSE를 사용해서 후처리 하는 함수\n",
        "def forward_postproc(output, y):\n",
        "    diff = output - y\n",
        "    square = np.square(diff)\n",
        "    sse = 1/2 *(np.sum(square))\n",
        "\n",
        "    return sse"
      ],
      "execution_count": 28,
      "outputs": []
    },
    {
      "cell_type": "code",
      "metadata": {
        "id": "OXTz1-QgZ3d_"
      },
      "source": [
        "# theta_0, theta_1 업데이트\n",
        "def back_propagation(y_hat, lr):\n",
        "    global theta_0, theta_1\n",
        "    theta_0 = theta_0 - lr * (np.sum(y_hat - y_label_total))\n",
        "    theta_1 = theta_1 - lr * (np.sum(y_hat - y_label_total) * x)"
      ],
      "execution_count": 29,
      "outputs": []
    },
    {
      "cell_type": "code",
      "metadata": {
        "colab": {
          "base_uri": "https://localhost:8080/"
        },
        "id": "2luNEKDWa2JA",
        "outputId": "9b2046ca-28b0-49ee-ca7d-b6f85d27a6f6"
      },
      "source": [
        "def run_train(x, y, epoch_count, report, lr):\n",
        "    print(\"Initial theta_0 : {}\".format(theta_0))\n",
        "    print(\"Initial theta_1 : {}\".format(theta_1))\n",
        "\n",
        "    sse_row = []\n",
        "    theta_0_row = []\n",
        "    theta_1_row = []\n",
        "    for epoch in range(epoch_count):\n",
        "        y_hat = forward_neuralnet(x)\n",
        "        sse = forward_postproc(y_hat, y)\n",
        "\n",
        "        sse_row.append(sse)\n",
        "        back_propagation(y_hat, lr)\n",
        "\n",
        "        theta_0_row.append(theta_0)\n",
        "        theta_1_row.append(theta_1)\n",
        "\n",
        "        if (report > 0) and (epoch % report == 0):\n",
        "            print(\"Epoch - {}\".format(epoch+1))\n",
        "            print(\"SSE - {}\".format(sse))\n",
        "\n",
        "    print(\"=\"*50)\n",
        "    print(\"Final SSE : {}\".format(sse))\n",
        "\n",
        "    return sse_row, theta_0_row, theta_1_row\n",
        "\n",
        "sse_row, theta_0_row, theta_1_row = main_execute(x, y_label_total, epoch_count = 30, report = 4, lr=0.1)"
      ],
      "execution_count": 42,
      "outputs": [
        {
          "output_type": "stream",
          "text": [
            "Initial theta_0 : [0.24200024]\n",
            "Initial theta_1 : [[0.59735465]]\n",
            "Epoch - 1\n",
            "SSE - 11983.7249142584\n",
            "Epoch - 5\n",
            "SSE - 3.2877381732179655e+46\n",
            "Epoch - 9\n",
            "SSE - 1.727527725440838e+89\n",
            "Epoch - 13\n",
            "SSE - 9.077219306809266e+131\n",
            "Epoch - 17\n",
            "SSE - 4.769585409859903e+174\n",
            "Epoch - 21\n",
            "SSE - 2.50615791169476e+217\n",
            "Epoch - 25\n",
            "SSE - 1.3168497759503856e+260\n",
            "Epoch - 29\n",
            "SSE - 6.919329880725355e+302\n",
            "==================================================\n",
            "Final SSE : inf\n"
          ],
          "name": "stdout"
        },
        {
          "output_type": "stream",
          "text": [
            "/usr/local/lib/python3.7/dist-packages/ipykernel_launcher.py:4: RuntimeWarning: overflow encountered in square\n",
            "  after removing the cwd from sys.path.\n"
          ],
          "name": "stderr"
        }
      ]
    },
    {
      "cell_type": "code",
      "metadata": {
        "id": "eDWBMhqqeC4g"
      },
      "source": [
        "import matplotlib.pyplot as plt"
      ],
      "execution_count": 43,
      "outputs": []
    },
    {
      "cell_type": "code",
      "metadata": {
        "colab": {
          "base_uri": "https://localhost:8080/",
          "height": 290
        },
        "id": "Nq-1RpWJfbjt",
        "outputId": "121445f9-7093-44de-9d41-787b77fc8fb7"
      },
      "source": [
        "plt.plot(sse_row, '--o', color='red')\n",
        "plt.xlabel('EPOCH')\n",
        "plt.ylabel('SSE')\n",
        "plt.grid()\n",
        "plt.show()"
      ],
      "execution_count": 44,
      "outputs": [
        {
          "output_type": "display_data",
          "data": {
            "image/png": "[encoded data removed]",
            "text/plain": [
              "<Figure size 432x288 with 1 Axes>"
            ]
          },
          "metadata": {
            "tags": [],
            "needs_background": "light"
          }
        }
      ]
    },
    {
      "cell_type": "code",
      "metadata": {
        "id": "95gKQOJWfocz"
      },
      "source": [
        ""
      ],
      "execution_count": null,
      "outputs": []
    }
  ]
}