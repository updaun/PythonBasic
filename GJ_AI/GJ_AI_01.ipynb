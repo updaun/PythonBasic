{
 "cells": [
  {
   "cell_type": "code",
   "execution_count": 1,
   "id": "9c9eccb0-f9a2-4961-bb68-be0f307a59bb",
   "metadata": {},
   "outputs": [],
   "source": [
    "import os"
   ]
  },
  {
   "cell_type": "code",
   "execution_count": 2,
   "id": "91fedbe5-3a40-4588-b8d8-1f7f191e45fe",
   "metadata": {},
   "outputs": [
    {
     "name": "stdout",
     "output_type": "stream",
     "text": [
      "C:\\Users\\jdu\\Desktop\\Projects\\PythonBasic\\GJ_AI\n"
     ]
    }
   ],
   "source": [
    "print(os.getcwd())"
   ]
  },
  {
   "cell_type": "code",
   "execution_count": 1,
   "id": "318e843f-5ca9-4201-be05-aa201488b3f7",
   "metadata": {},
   "outputs": [],
   "source": [
    "import numpy as np"
   ]
  },
  {
   "cell_type": "code",
   "execution_count": 2,
   "id": "bb715656-c380-4c08-929e-8fb73ac66a9f",
   "metadata": {},
   "outputs": [],
   "source": [
    "import pandas as pd"
   ]
  },
  {
   "cell_type": "code",
   "execution_count": 3,
   "id": "5225a925-0a61-4e98-8caa-72ddcb15adb9",
   "metadata": {},
   "outputs": [],
   "source": [
    "import tensorflow as tf"
   ]
  },
  {
   "cell_type": "code",
   "execution_count": 4,
   "id": "dc591f96-0ace-49c8-aef3-e9838f2243ef",
   "metadata": {},
   "outputs": [
    {
     "data": {
      "text/plain": [
       "'2.5.0'"
      ]
     },
     "execution_count": 4,
     "metadata": {},
     "output_type": "execute_result"
    }
   ],
   "source": [
    "tf.__version__"
   ]
  },
  {
   "cell_type": "markdown",
   "id": "0d7f5049-58e9-41e5-8e55-b7928881e4c0",
   "metadata": {},
   "source": [
    "# World Cup Predict"
   ]
  },
  {
   "cell_type": "code",
   "execution_count": 6,
   "id": "c495640e-eff2-404d-b8d0-f6baf0be4d6a",
   "metadata": {},
   "outputs": [
    {
     "name": "stdout",
     "output_type": "stream",
     "text": [
      "MSE :  18.666666666666668\n"
     ]
    }
   ],
   "source": [
    "AI = [15,12,18]\n",
    "Total = [21,10,14]\n",
    "sum = 0\n",
    "for i in range(len(AI)):\n",
    "    sum = (Total[i] - AI[i]) ** 2 +sum\n",
    "answer = sum / len(AI)\n",
    "print('MSE : ',answer)"
   ]
  },
  {
   "cell_type": "code",
   "execution_count": null,
   "id": "3709bf13-e2c7-466e-8511-5580fe0d8dd4",
   "metadata": {},
   "outputs": [],
   "source": []
  }
 ],
 "metadata": {
  "kernelspec": {
   "display_name": "Python 3",
   "language": "python",
   "name": "python3"
  },
  "language_info": {
   "codemirror_mode": {
    "name": "ipython",
    "version": 3
   },
   "file_extension": ".py",
   "mimetype": "text/x-python",
   "name": "python",
   "nbconvert_exporter": "python",
   "pygments_lexer": "ipython3",
   "version": "3.8.10"
  }
 },
 "nbformat": 4,
 "nbformat_minor": 5
}
