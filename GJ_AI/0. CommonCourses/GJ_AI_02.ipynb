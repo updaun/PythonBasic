{
 "cells": [
  {
   "cell_type": "markdown",
   "id": "e77f864d-18c1-4c09-b24b-181530c6c8c8",
   "metadata": {},
   "source": [
    "## input output cnt 개념 이해하기"
   ]
  },
  {
   "cell_type": "code",
   "execution_count": 1,
   "id": "032bc145-d66d-490c-9a89-7370dd2415c4",
   "metadata": {},
   "outputs": [],
   "source": [
    "# XOR 문제에서의 input output cnt\n",
    "\n",
    "# 값이 변화하는 매개변수의 개수 (0,0), (0,1), (1,0), (1,1), 매개변수는 2개\n",
    "input_cnt = 2\n",
    "# 추론하는 값이 0인지 1인지 확인하므로 매개변수는 1개\n",
    "output_cnt = 1"
   ]
  },
  {
   "cell_type": "markdown",
   "id": "3fc5a124-bb73-49bc-9531-e53138530671",
   "metadata": {},
   "source": [
    "## 무작위로 가중치 생성하는 방법"
   ]
  },
  {
   "cell_type": "code",
   "execution_count": 2,
   "id": "5e1b77fc-1fe9-45cf-ae07-e7ea7b306f07",
   "metadata": {},
   "outputs": [
    {
     "name": "stdout",
     "output_type": "stream",
     "text": [
      "input_x: \n",
      " [[ 0.12  1.02  4.1 ]\n",
      " [ 0.15  5.12 12.2 ]]\n",
      "\n",
      "input_x_shape:  (2, 3)\n",
      "\n",
      "theta_1: \n",
      " [[-1.74976547]\n",
      " [ 0.3426804 ]\n",
      " [ 1.1530358 ]]\n",
      "\n",
      "theta_1_shape:  (3, 1)\n",
      "\n",
      "theta_0:  [-0.25243604]\n",
      "\n",
      "y_hat: \n",
      " [[ 4.61457291]\n",
      " [15.3066596 ]]\n",
      "\n",
      "label_y: \n",
      " [[5], [3]]\n"
     ]
    }
   ],
   "source": [
    "import numpy as np\n",
    "\n",
    "input_cnt = 3\n",
    "output_cnt = 1\n",
    "\n",
    "# 학습 데이터(임의)\n",
    "input_x = [[0.12, 1.02, 4.1],[0.15,5.12,12.2]] \n",
    "\n",
    "# 종속 변수(임의)\n",
    "label_y = [[5],[3]]\n",
    "input_x_shape = np.array(input_x)\n",
    "print(\"input_x: \\n\", input_x_shape)\n",
    "print(\"\\ninput_x_shape: \", input_x_shape.shape)\n",
    "\n",
    "np.random.seed(seed=100)\n",
    "\n",
    "# 정규분포 중에 값을 랜덤으로 생성,  loc(평균값), scale(표준편차), size(몇 개 생성?)\n",
    "theta_1 = np.random.normal(loc = 0, scale = 1, size = [input_cnt, output_cnt]) \n",
    "print(\"\\ntheta_1: \\n\", theta_1)\n",
    "print(\"\\ntheta_1_shape: \", theta_1.shape)\n",
    "# theta_0 = np.random.normal(loc = 0, scale = 1, [output_cnt])\n",
    "theta_0 = np.random.normal(0, 1, [output_cnt])\n",
    "print(\"\\ntheta_0: \", theta_0)\n",
    "\n",
    "# 행렬 곱 연산을 빠르게 할 수 있는 도구\n",
    "y_hat = np.matmul(input_x, theta_1) + theta_0\n",
    "print(\"\\ny_hat: \\n\", y_hat)\n",
    "print(\"\\nlabel_y: \\n\", label_y)\n",
    "# y_hat과 label_y이 비슷해지기 위한 가중치를 조정"
   ]
  },
  {
   "cell_type": "markdown",
   "id": "ca01c104-1efb-4ee3-9ee3-fc5df4f5937b",
   "metadata": {},
   "source": [
    "## Loss Funtion : MSE"
   ]
  },
  {
   "cell_type": "code",
   "execution_count": 3,
   "id": "853e004d-a6bb-43dd-9b92-d65ec03f45f3",
   "metadata": {},
   "outputs": [
    {
     "name": "stdout",
     "output_type": "stream",
     "text": [
      "theta_0 :  [-0.25243604]\n",
      "theta_1 :  [[-1.74976547]\n",
      " [ 0.3426804 ]\n",
      " [ 1.1530358 ]]\n",
      "mse :  [75.80121226]\n"
     ]
    }
   ],
   "source": [
    "y_hat[0]\n",
    "\n",
    "a = (y_hat[0]-label_y[0])**2\n",
    "b = (y_hat[1]-label_y[1])**2\n",
    "\n",
    "\n",
    "print(\"theta_0 : \" , theta_0)\n",
    "print(\"theta_1 : \" , theta_1)\n",
    "\n",
    "mse = (a+b)/2\n",
    "\n",
    "print(\"mse : \" , mse)"
   ]
  },
  {
   "cell_type": "markdown",
   "id": "e870b0b7-5b1d-4fec-bf25-98d90a34d6f7",
   "metadata": {},
   "source": [
    "## Dict를 활용한 매개변수 관리"
   ]
  },
  {
   "cell_type": "code",
   "execution_count": 4,
   "id": "d3b7dd5c-854f-464b-b2f4-de37802d0818",
   "metadata": {},
   "outputs": [
    {
     "name": "stdout",
     "output_type": "stream",
     "text": [
      "input_x_shape:  (2, 3)\n",
      "theta_1_shape:  (3, 1)\n"
     ]
    }
   ],
   "source": [
    "import numpy as np\n",
    "\n",
    "input_cnt = 3\n",
    "output_cnt = 1\n",
    "\n",
    "input_x = [[0.12, 1.02, 4.1],[0.15,5.12,12.2]] \n",
    "label_y = [[5],[3]]\n",
    "input_x_shape = np.array(input_x)\n",
    "print(\"input_x_shape: \", input_x_shape.shape)\n",
    "\n",
    "theta_1 = np.random.normal(loc = 0, scale = 1, size = [input_cnt, output_cnt]) \n",
    "print(\"theta_1_shape: \", theta_1.shape)\n",
    "theta_0 = np.random.normal(0, 1, [output_cnt])\n",
    "\n",
    "# ------------------------------------------------------------------\n",
    "# dictionary parameter management\n",
    "# ------------------------------------------------------------------\n",
    "\n",
    "# w : weight, b : bias\n",
    "parameter = {'w' : theta_1, 'b' : theta_0}\n",
    "\n",
    "y_hat = np.matmul(input_x, parameter['w']) + parameter['b'] \n",
    "\n",
    "# ------------------------------------------------------------------\n"
   ]
  },
  {
   "cell_type": "markdown",
   "id": "7c88a4bf-50c7-4d87-a091-683cf042405b",
   "metadata": {},
   "source": [
    "## dictionary get(key, basic_value)"
   ]
  },
  {
   "cell_type": "code",
   "execution_count": 5,
   "id": "10faa41d-eb17-4ade-bec8-b842890c571b",
   "metadata": {},
   "outputs": [
    {
     "name": "stdout",
     "output_type": "stream",
     "text": [
      "123\n"
     ]
    }
   ],
   "source": [
    "data = {'a' : 123}\n",
    "print(data.get('b', 123))"
   ]
  },
  {
   "cell_type": "markdown",
   "id": "f7db5f0c-0be1-4780-a294-829865f21260",
   "metadata": {},
   "source": [
    "## if elif else Condition"
   ]
  },
  {
   "cell_type": "code",
   "execution_count": 6,
   "id": "eed82820-dc17-45fd-8767-92333a627a25",
   "metadata": {},
   "outputs": [
    {
     "ename": "KeyboardInterrupt",
     "evalue": "Interrupted by user",
     "output_type": "error",
     "traceback": [
      "\u001b[1;31m---------------------------------------------------------------------------\u001b[0m",
      "\u001b[1;31mKeyboardInterrupt\u001b[0m                         Traceback (most recent call last)",
      "\u001b[1;32m<ipython-input-6-3190cadce6e8>\u001b[0m in \u001b[0;36m<module>\u001b[1;34m\u001b[0m\n\u001b[0;32m      1\u001b[0m \u001b[1;31m# loss = 14\u001b[0m\u001b[1;33m\u001b[0m\u001b[1;33m\u001b[0m\u001b[1;33m\u001b[0m\u001b[0m\n\u001b[1;32m----> 2\u001b[1;33m \u001b[0mloss\u001b[0m \u001b[1;33m=\u001b[0m \u001b[0mfloat\u001b[0m\u001b[1;33m(\u001b[0m\u001b[0minput\u001b[0m\u001b[1;33m(\u001b[0m\u001b[1;34m\"Now LOSS : \"\u001b[0m\u001b[1;33m)\u001b[0m\u001b[1;33m)\u001b[0m\u001b[1;33m\u001b[0m\u001b[1;33m\u001b[0m\u001b[0m\n\u001b[0m\u001b[0;32m      3\u001b[0m \u001b[1;33m\u001b[0m\u001b[0m\n\u001b[0;32m      4\u001b[0m \u001b[1;32mif\u001b[0m \u001b[0mloss\u001b[0m \u001b[1;33m<=\u001b[0m \u001b[1;36m5\u001b[0m\u001b[1;33m:\u001b[0m\u001b[1;33m\u001b[0m\u001b[1;33m\u001b[0m\u001b[0m\n\u001b[0;32m      5\u001b[0m     \u001b[0mprint\u001b[0m\u001b[1;33m(\u001b[0m\u001b[1;34m'Learning Successful.'\u001b[0m\u001b[1;33m)\u001b[0m\u001b[1;33m\u001b[0m\u001b[1;33m\u001b[0m\u001b[0m\n",
      "\u001b[1;32m~\\anaconda3\\lib\\site-packages\\ipykernel\\kernelbase.py\u001b[0m in \u001b[0;36mraw_input\u001b[1;34m(self, prompt)\u001b[0m\n\u001b[0;32m    858\u001b[0m                 \u001b[1;34m\"raw_input was called, but this frontend does not support input requests.\"\u001b[0m\u001b[1;33m\u001b[0m\u001b[1;33m\u001b[0m\u001b[0m\n\u001b[0;32m    859\u001b[0m             )\n\u001b[1;32m--> 860\u001b[1;33m         return self._input_request(str(prompt),\n\u001b[0m\u001b[0;32m    861\u001b[0m             \u001b[0mself\u001b[0m\u001b[1;33m.\u001b[0m\u001b[0m_parent_ident\u001b[0m\u001b[1;33m,\u001b[0m\u001b[1;33m\u001b[0m\u001b[1;33m\u001b[0m\u001b[0m\n\u001b[0;32m    862\u001b[0m             \u001b[0mself\u001b[0m\u001b[1;33m.\u001b[0m\u001b[0m_parent_header\u001b[0m\u001b[1;33m,\u001b[0m\u001b[1;33m\u001b[0m\u001b[1;33m\u001b[0m\u001b[0m\n",
      "\u001b[1;32m~\\anaconda3\\lib\\site-packages\\ipykernel\\kernelbase.py\u001b[0m in \u001b[0;36m_input_request\u001b[1;34m(self, prompt, ident, parent, password)\u001b[0m\n\u001b[0;32m    902\u001b[0m             \u001b[1;32mexcept\u001b[0m \u001b[0mKeyboardInterrupt\u001b[0m\u001b[1;33m:\u001b[0m\u001b[1;33m\u001b[0m\u001b[1;33m\u001b[0m\u001b[0m\n\u001b[0;32m    903\u001b[0m                 \u001b[1;31m# re-raise KeyboardInterrupt, to truncate traceback\u001b[0m\u001b[1;33m\u001b[0m\u001b[1;33m\u001b[0m\u001b[1;33m\u001b[0m\u001b[0m\n\u001b[1;32m--> 904\u001b[1;33m                 \u001b[1;32mraise\u001b[0m \u001b[0mKeyboardInterrupt\u001b[0m\u001b[1;33m(\u001b[0m\u001b[1;34m\"Interrupted by user\"\u001b[0m\u001b[1;33m)\u001b[0m \u001b[1;32mfrom\u001b[0m \u001b[1;32mNone\u001b[0m\u001b[1;33m\u001b[0m\u001b[1;33m\u001b[0m\u001b[0m\n\u001b[0m\u001b[0;32m    905\u001b[0m             \u001b[1;32mexcept\u001b[0m \u001b[0mException\u001b[0m \u001b[1;32mas\u001b[0m \u001b[0me\u001b[0m\u001b[1;33m:\u001b[0m\u001b[1;33m\u001b[0m\u001b[1;33m\u001b[0m\u001b[0m\n\u001b[0;32m    906\u001b[0m                 \u001b[0mself\u001b[0m\u001b[1;33m.\u001b[0m\u001b[0mlog\u001b[0m\u001b[1;33m.\u001b[0m\u001b[0mwarning\u001b[0m\u001b[1;33m(\u001b[0m\u001b[1;34m\"Invalid Message:\"\u001b[0m\u001b[1;33m,\u001b[0m \u001b[0mexc_info\u001b[0m\u001b[1;33m=\u001b[0m\u001b[1;32mTrue\u001b[0m\u001b[1;33m)\u001b[0m\u001b[1;33m\u001b[0m\u001b[1;33m\u001b[0m\u001b[0m\n",
      "\u001b[1;31mKeyboardInterrupt\u001b[0m: Interrupted by user"
     ]
    }
   ],
   "source": [
    "# loss = 14\n",
    "loss = float(input(\"Now LOSS : \"))\n",
    "\n",
    "if loss <= 5:\n",
    "    print('Learning Successful.')\n",
    "elif loss <= 10:\n",
    "    print('Learning Failed.')\n",
    "elif loss <= 15:\n",
    "    print('Learning Failed. Adjust Learning Rate.')    \n",
    "else:\n",
    "    print('Model Init')"
   ]
  },
  {
   "cell_type": "markdown",
   "id": "5b5c0911-a2b5-46ae-82ab-147eb5fbc1db",
   "metadata": {},
   "source": [
    "## in & not in (with exercise)"
   ]
  },
  {
   "cell_type": "code",
   "execution_count": null,
   "id": "0c9fd32d-4aac-4644-be0a-45952720ac9b",
   "metadata": {},
   "outputs": [],
   "source": [
    "user_1 = {'name' : 'AI_BOT_1', 'email' : 'AI_BOT_1@abcdef.com', 'age' : 1}\n",
    "user_2 = {'name' : 'AI_BOT_2', 'email' : 'AI_BOT_2abcdef.com', 'age' : 1}\n",
    "user_3 = {'name' : 'AI_BOT_3', 'age' : 1}"
   ]
  },
  {
   "cell_type": "code",
   "execution_count": null,
   "id": "b6ad1f42-64bd-4989-bfda-09fad4560654",
   "metadata": {},
   "outputs": [],
   "source": [
    "caution = '[주의] 다음사항을 확인해주세요.'\n",
    "error = '[Error code] : '\n",
    "success = '[success] '\n",
    "# -------------------------------------------------\n",
    "# user_1\n",
    "# -------------------------------------------------\n",
    "print(\"[LOG-IN] user_1\\n\"+'-'*50)\n",
    "if 'email' in user_1:\n",
    "    if '@' not in user_1['email']:\n",
    "        print(error + \"Email Address Error\\n\")\n",
    "    else:\n",
    "        print(success + \"Email : \" + user_1['email']+'\\n')\n",
    "elif 'name' not in user_1:\n",
    "    print(caution)\n",
    "    print(error + \"No name\\n\")\n",
    "elif 'age' not in user_1:\n",
    "    print(caution)\n",
    "    print(error + \"No age\\n\")\n",
    "else:\n",
    "    print(caution)\n",
    "    print(error + \"No email\\n\")\n",
    "\n",
    "# -------------------------------------------------\n",
    "# user_2\n",
    "# -------------------------------------------------\n",
    "print(\"[LOG-IN] user_2\\n\"+'-'*50)    \n",
    "if 'email' in user_2:\n",
    "    if '@' not in user_2['email']:\n",
    "        print(caution)\n",
    "        print(error + \"Email Address Error\\n\")\n",
    "    else:\n",
    "        print(success + \"Email : \" + user_1['email']+'\\n')\n",
    "elif 'name' not in user_2:\n",
    "    print(caution)\n",
    "    print(error + \"No name\\n\")\n",
    "elif 'age' not in user_2:\n",
    "    print(caution)\n",
    "    print(error + \"No age\\n\")\n",
    "else:\n",
    "    print(caution)\n",
    "    print(error + \"No email\\n\")\n",
    "\n",
    "# -------------------------------------------------\n",
    "# user_3\n",
    "# -------------------------------------------------\n",
    "print(\"[LOG-IN] user_3\\n\"+'-'*50)    \n",
    "if 'email' in user_3:\n",
    "    if '@' not in user_3['email']:\n",
    "        print(caution)\n",
    "        print(error + \"Email Address Error\\n\")\n",
    "    else:\n",
    "        print(success + \"Email : \" + user_1['email']+'\\n')\n",
    "elif 'name' not in user_3:\n",
    "    print(caution)\n",
    "    print(error + \"No name\\n\")\n",
    "elif 'age' not in user_3:\n",
    "    print(caution)\n",
    "    print(error + \"No age\\n\")\n",
    "else:\n",
    "    print(caution)\n",
    "    print(error + \"No email\\n\")"
   ]
  },
  {
   "cell_type": "markdown",
   "id": "f1573b30-d412-4e23-91d8-23f468034dab",
   "metadata": {},
   "source": [
    "## One-hot Vector Exercise\n",
    "### 내가 원하는 값에 불을 켜다!"
   ]
  },
  {
   "cell_type": "code",
   "execution_count": null,
   "id": "ede62a77-5f39-485c-bc25-c0b6a1e6db5e",
   "metadata": {},
   "outputs": [],
   "source": [
    "import numpy as np\n",
    "\n",
    "#rows = ['M',0.455,0.365,0.095]\n",
    "#rows = ['F',0.455,0.365,0.095]\n",
    "rows = ['I',0.455,0.365,0.095]\n",
    "\n",
    "# 버퍼 : 임시 공간 생성\n",
    "data = np.zeros(6)\n",
    "print('data :\\n', data)"
   ]
  },
  {
   "cell_type": "code",
   "execution_count": null,
   "id": "0187d5de-8039-4be5-8468-0c881e1baa43",
   "metadata": {},
   "outputs": [],
   "source": [
    "if rows[0] == 'M':\n",
    "    data[0] = 1\n",
    "elif rows[0] == 'F': \n",
    "    data[1] = 1\n",
    "elif rows[0] == 'I': \n",
    "    data[2] = 1     \n",
    "\n",
    "print('data :\\n', data)"
   ]
  },
  {
   "cell_type": "code",
   "execution_count": null,
   "id": "4df8e314-5982-4fa5-babc-3d9fc2ba55c6",
   "metadata": {},
   "outputs": [],
   "source": [
    "data[3:] = rows[1:]\n",
    "print('data :\\n', data)"
   ]
  },
  {
   "cell_type": "markdown",
   "id": "6d6e0693-147d-4a7f-971d-6436f304a88f",
   "metadata": {},
   "source": [
    "## enter exit Exercise"
   ]
  },
  {
   "cell_type": "code",
   "execution_count": null,
   "id": "bc581f9d-38da-4c97-871b-be4e61408171",
   "metadata": {},
   "outputs": [],
   "source": [
    "user_log = []\n",
    "for i in range(3):\n",
    "    ID = input(\"Enter your ID : \")\n",
    "    age = float(input(\"Enter your Age as a Number :\"))\n",
    "\n",
    "    user = {'ID':ID, 'age':age, 'state':''}\n",
    "\n",
    "\n",
    "    if age <= 15:\n",
    "        user['state'] = 'Access denied'\n",
    "        print(\"Manage System : Sorry {}. \".format(ID)+ \"You can't Enter.\")\n",
    "    else:\n",
    "        user['state'] = \"Success\"\n",
    "        print(\"{}, Have a Good Time.\".format(ID))\n",
    "    \n",
    "    user_log.append(user)\n",
    "    \n",
    "for i in user_log:\n",
    "    print(i)\n"
   ]
  },
  {
   "cell_type": "code",
   "execution_count": null,
   "id": "7004e98a-a7ad-4b3e-be74-9478c1fc9a0e",
   "metadata": {},
   "outputs": [],
   "source": [
    "import os\n",
    "print(os.getcwd())"
   ]
  },
  {
   "cell_type": "code",
   "execution_count": null,
   "id": "fbee5c88-840c-4cf1-ac31-a6410d08cf29",
   "metadata": {},
   "outputs": [],
   "source": [
    "import csv\n",
    "import numpy as np\n",
    "\n",
    "with open('data/abalone_mini.csv') as csvfile:\n",
    "    csv_reader = csv.reader(csvfile)\n",
    "    #print(type(csv_reader))\n",
    "    \n",
    "    rows = []\n",
    "    for row in csv_reader:\n",
    "        rows.append(row)\n",
    "        \n",
    "    #print(rows)\n",
    "    \n",
    "    data = np.zeros([5,11])\n",
    "    \n",
    "    for n,row in enumerate(rows):\n",
    "        #print(row)\n",
    "        if row[0] == 'I':data[n,0] = 1\n",
    "        elif row[0] == 'M':data[n,1] = 1\n",
    "        elif row[0] == 'F':data[n,2] = 1\n",
    "        \n",
    "        data[n, 3:] = row[1:]\n",
    "        \n",
    "    print(data)"
   ]
  },
  {
   "cell_type": "code",
   "execution_count": null,
   "id": "010040c1-c78e-4804-ac7d-94e50dcf98db",
   "metadata": {},
   "outputs": [],
   "source": [
    "import pandas as pd\n",
    "\n",
    "df = pd.read_csv('data/abalone_mini.csv', header = None)\n",
    "df"
   ]
  },
  {
   "cell_type": "markdown",
   "id": "cb0f1ea4-4cc6-4b51-a689-e0dbba33e93f",
   "metadata": {},
   "source": [
    "## while loop exercise"
   ]
  },
  {
   "cell_type": "code",
   "execution_count": 42,
   "id": "572b8b24-f23a-47dd-94e9-e1fe47db7f17",
   "metadata": {},
   "outputs": [
    {
     "name": "stdin",
     "output_type": "stream",
     "text": [
      "Input Next Action :  gg\n"
     ]
    },
    {
     "name": "stdout",
     "output_type": "stream",
     "text": [
      "Game Over\n"
     ]
    }
   ],
   "source": [
    "game = input('Input Next Action : ')\n",
    "count = 1\n",
    "while game != 'gg' and game != 'GG':\n",
    "    \n",
    "    print('your Action-'+str(count)+' : ', game)\n",
    "    game = input('Input Next Action : ')\n",
    "    count += 1\n",
    "    \n",
    "print('Game Over')"
   ]
  },
  {
   "cell_type": "code",
   "execution_count": 31,
   "id": "feebf417-9a38-4c0b-9bc2-eae159b71722",
   "metadata": {},
   "outputs": [
    {
     "name": "stdin",
     "output_type": "stream",
     "text": [
      "Input Next Action :  gg\n"
     ]
    },
    {
     "name": "stdout",
     "output_type": "stream",
     "text": [
      "Game Over\n"
     ]
    }
   ],
   "source": [
    "count = 0\n",
    "while True:\n",
    "    game = input('Input Next Action : ')\n",
    "    count += 1\n",
    "    if game == 'gg' or game == 'GG':\n",
    "        break\n",
    "    print('your Action-'+str(count)+' : ', game)\n",
    "\n",
    "print('Game Over')"
   ]
  },
  {
   "cell_type": "markdown",
   "id": "48673037-648e-49ae-9457-e56e6ec05bab",
   "metadata": {},
   "source": [
    "## function exercise"
   ]
  },
  {
   "cell_type": "code",
   "execution_count": 51,
   "id": "1bddb90d-474b-4365-a0ee-ddd9aaad4580",
   "metadata": {},
   "outputs": [
    {
     "name": "stdout",
     "output_type": "stream",
     "text": [
      "\"케이틀린\"님이 소환사의 협곡에 참여하였습니다.\n",
      "hp : 400, damage : 50\n"
     ]
    }
   ],
   "source": [
    "# LOL 게임 시나리오\n",
    "K_name = '케이틀린'\n",
    "K_hp = 400\n",
    "K_damage = 50\n",
    "\n",
    "print('\"{0}\"님이 소환사의 협곡에 참여하였습니다.'.format(K_name))\n",
    "print(\"hp : {0}, damage : {1}\".format(K_hp, K_damage))"
   ]
  },
  {
   "cell_type": "code",
   "execution_count": 52,
   "id": "f2c72a97-9450-400c-b71b-4fcf28c4758d",
   "metadata": {},
   "outputs": [
    {
     "name": "stdout",
     "output_type": "stream",
     "text": [
      "\"누누\"님이 소환사의 협곡에 참여하였습니다.\n",
      "hp : 550, damage : 70\n"
     ]
    }
   ],
   "source": [
    "N_name = '누누'\n",
    "N_hp = 550\n",
    "N_damage = 70\n",
    "\n",
    "print('\"{0}\"님이 소환사의 협곡에 참여하였습니다.'.format(N_name))\n",
    "print(\"hp : {0}, damage : {1}\".format(N_hp, N_damage))"
   ]
  },
  {
   "cell_type": "code",
   "execution_count": 48,
   "id": "ba5baf44-aa26-4c06-a2cf-427f9de6f9a8",
   "metadata": {},
   "outputs": [],
   "source": [
    "def attack(name, location, damage):\n",
    "    print(\"{0} : 공격을 {1} 방향으로 실행하였습니다. [Damage : {2}]\"\\\n",
    "          .format(name,location,damage))"
   ]
  },
  {
   "cell_type": "code",
   "execution_count": 53,
   "id": "a8c45cef-b9ac-4de9-90f8-616a393e1ce1",
   "metadata": {},
   "outputs": [
    {
     "name": "stdout",
     "output_type": "stream",
     "text": [
      "케이틀린 : 공격을 왼쪽 방향으로 실행하였습니다. [Damage : 50]\n",
      "누누 : 공격을 오른쪽 방향으로 실행하였습니다. [Damage : 70]\n"
     ]
    }
   ],
   "source": [
    "attack(K_name, \"왼쪽\", K_damage)\n",
    "attack(N_name, \"오른쪽\", N_damage)"
   ]
  },
  {
   "cell_type": "code",
   "execution_count": 54,
   "id": "cb379942-2a36-4adc-a035-2f275c290b80",
   "metadata": {},
   "outputs": [],
   "source": [
    "def game_system():\n",
    "    print(\"<Game System>\")"
   ]
  },
  {
   "cell_type": "code",
   "execution_count": 55,
   "id": "874ce585-d127-4fd5-a73a-c3892b12e4ab",
   "metadata": {},
   "outputs": [],
   "source": [
    "def attack(name, location, damage):\n",
    "    game_system()\n",
    "    print(\"{0} : 공격을 {1} 방향으로 실행하였습니다. [Damage : {2}]\"\\\n",
    "          .format(name,location,damage))"
   ]
  },
  {
   "cell_type": "code",
   "execution_count": 56,
   "id": "f2a867ba-b698-4eca-970e-13eaf9ad2b8b",
   "metadata": {},
   "outputs": [
    {
     "name": "stdout",
     "output_type": "stream",
     "text": [
      "<Game System>\n",
      "케이틀린 : 공격을 왼쪽 방향으로 실행하였습니다. [Damage : 50]\n",
      "<Game System>\n",
      "누누 : 공격을 오른쪽 방향으로 실행하였습니다. [Damage : 70]\n"
     ]
    }
   ],
   "source": [
    "attack(K_name, \"왼쪽\", K_damage)\n",
    "attack(N_name, \"오른쪽\", N_damage)"
   ]
  },
  {
   "cell_type": "markdown",
   "id": "a02ce3ab-c904-4a61-9cf5-5a51fb8cd486",
   "metadata": {},
   "source": [
    "## 가중치나 편향값 초기화"
   ]
  },
  {
   "cell_type": "code",
   "execution_count": 60,
   "id": "d95ef3b0-112d-40e9-84ce-602a6a881e62",
   "metadata": {},
   "outputs": [],
   "source": [
    "import numpy as np\n",
    "# 이 함수는 파라미터(가중치[세타1], 편향[세타0])를 초기화 시켜주는 함수입니다.\n",
    "\n",
    "RND_mean = 0\n",
    "RND_std = 1\n",
    "\n",
    "input_cnt = 10 # 독립 변수의 수\n",
    "output_cnt = 1 # 종속 변수의 수\n",
    "\n",
    "def model_init():\n",
    "    global weight, bias # 전역 변수 선언\n",
    "    weight = np.random.normal(RND_mean, RND_std, [input_cnt, output_cnt]) \n",
    "    bias = np.random.normal(RND_mean, RND_std,[output_cnt])\n",
    "\n",
    "model_init()"
   ]
  },
  {
   "cell_type": "code",
   "execution_count": 61,
   "id": "56c50aa0-dfcd-4d41-9912-fba65d3b1da8",
   "metadata": {},
   "outputs": [
    {
     "data": {
      "text/plain": [
       "array([[ 0.22239961],\n",
       "       [-1.443217  ],\n",
       "       [-0.75635231],\n",
       "       [ 0.81645401],\n",
       "       [ 0.75044476],\n",
       "       [-0.45594693],\n",
       "       [ 1.18962227],\n",
       "       [-1.69061683],\n",
       "       [-1.35639905],\n",
       "       [-1.23243451]])"
      ]
     },
     "execution_count": 61,
     "metadata": {},
     "output_type": "execute_result"
    }
   ],
   "source": [
    "weight"
   ]
  },
  {
   "cell_type": "code",
   "execution_count": 62,
   "id": "3975f9fb-8a41-413b-9601-6f74d3319780",
   "metadata": {},
   "outputs": [],
   "source": [
    "def model_init_return():\n",
    "    weight = np.random.normal(RND_mean, RND_std, [input_cnt, output_cnt]) \n",
    "    bias = np.random.normal(RND_mean, RND_std,[output_cnt])\n",
    "    return weight, bias"
   ]
  },
  {
   "cell_type": "code",
   "execution_count": 79,
   "id": "9fba2dc0-84fe-4504-96f8-acd9d8fabfe1",
   "metadata": {},
   "outputs": [],
   "source": [
    "def import_data():\n",
    "    import csv\n",
    "    global data\n",
    "    with open('data/abalone_mini.csv') as csvfile:\n",
    "        csv_reader = csv.reader(csvfile)\n",
    "        #print(type(csv_reader))\n",
    "\n",
    "        rows = []\n",
    "        for row in csv_reader:\n",
    "            rows.append(row)\n",
    "\n",
    "        #print(rows)\n",
    "\n",
    "        data = np.zeros([5,11])\n",
    "\n",
    "        for n,row in enumerate(rows):\n",
    "            #print(row)\n",
    "            if row[0] == 'I':data[n,0] = 1\n",
    "            elif row[0] == 'M':data[n,1] = 1\n",
    "            elif row[0] == 'F':data[n,2] = 1\n",
    "\n",
    "            data[n, 3:] = row[1:]\n",
    "        "
   ]
  },
  {
   "cell_type": "code",
   "execution_count": 88,
   "id": "99bdfb2f-0355-4faa-9c14-da0e146f2268",
   "metadata": {},
   "outputs": [],
   "source": [
    "def train_and_test(x):\n",
    "    forward_neuralnet(data[:,:-1])"
   ]
  },
  {
   "cell_type": "code",
   "execution_count": 89,
   "id": "7aad08b6-e69d-462e-aabf-890a52ff81d7",
   "metadata": {},
   "outputs": [],
   "source": [
    "def forward_neuralnet(x):\n",
    "    y = np.matmul(x, weight) + bias\n",
    "    \n",
    "    return y"
   ]
  },
  {
   "cell_type": "code",
   "execution_count": 90,
   "id": "91b10359-0f7a-49e5-bc68-430803697b4b",
   "metadata": {},
   "outputs": [],
   "source": [
    "def main_exec():\n",
    "    data = import_data()\n",
    "    model_init()\n",
    "    y = train_and_test(data)\n",
    "    print(y)"
   ]
  },
  {
   "cell_type": "code",
   "execution_count": 94,
   "id": "9fbe2036-687c-4802-b08a-68dc88f2529f",
   "metadata": {},
   "outputs": [
    {
     "data": {
      "text/plain": [
       "array([[0.    , 1.    , 0.    , 0.455 , 0.365 , 0.095 , 0.514 , 0.2245,\n",
       "        0.101 , 0.15  ],\n",
       "       [0.    , 1.    , 0.    , 0.35  , 0.265 , 0.09  , 0.2255, 0.0995,\n",
       "        0.0485, 0.07  ],\n",
       "       [0.    , 0.    , 1.    , 0.53  , 0.42  , 0.135 , 0.677 , 0.2565,\n",
       "        0.1415, 0.21  ],\n",
       "       [0.    , 1.    , 0.    , 0.44  , 0.365 , 0.125 , 0.516 , 0.2155,\n",
       "        0.114 , 0.155 ],\n",
       "       [1.    , 0.    , 0.    , 0.33  , 0.255 , 0.08  , 0.205 , 0.0895,\n",
       "        0.0395, 0.055 ]])"
      ]
     },
     "execution_count": 94,
     "metadata": {},
     "output_type": "execute_result"
    }
   ],
   "source": [
    "# 독립 변수\n",
    "data[:,:-1]"
   ]
  },
  {
   "cell_type": "code",
   "execution_count": 96,
   "id": "9d2e1b51-19db-4445-826c-1c778fa3238f",
   "metadata": {},
   "outputs": [
    {
     "data": {
      "text/plain": [
       "array([[15.],\n",
       "       [ 7.],\n",
       "       [ 9.],\n",
       "       [10.],\n",
       "       [ 7.]])"
      ]
     },
     "execution_count": 96,
     "metadata": {},
     "output_type": "execute_result"
    }
   ],
   "source": [
    "# 종속 변수\n",
    "data[:,-1:]"
   ]
  },
  {
   "cell_type": "code",
   "execution_count": 97,
   "id": "fab5fec2-8cb7-4cc4-9701-556fc692a273",
   "metadata": {},
   "outputs": [
    {
     "data": {
      "text/plain": [
       "array([[-0.16671613],\n",
       "       [ 0.28968368],\n",
       "       [-1.50675989],\n",
       "       [-0.16765696],\n",
       "       [ 0.03935715]])"
      ]
     },
     "metadata": {},
     "output_type": "display_data"
    }
   ],
   "source": [
    "display(forward_neuralnet(data[:,:-1]))"
   ]
  },
  {
   "cell_type": "code",
   "execution_count": 98,
   "id": "2237b2f9-cd36-4d89-9f20-6fb7d2f93e5d",
   "metadata": {},
   "outputs": [],
   "source": [
    "def forward_postproc(output, y):\n",
    "    print('output : ', output)\n",
    "    print('y :', y)\n",
    "    # difference 편차\n",
    "    diff = (output-y)\n",
    "    print('diff = ', diff)\n",
    "    # NumPy 제곱 매서드\n",
    "    square = np.square(diff)\n",
    "    print('square = ', square)\n",
    "    # NumPy 평균 매서드\n",
    "    loss = np.mean(square)\n",
    "    print('loss = ', loss)\n",
    "    \n",
    "    return loss"
   ]
  },
  {
   "cell_type": "code",
   "execution_count": 99,
   "id": "dfef53c3-5d65-4170-b8cf-f6c4a96870b4",
   "metadata": {},
   "outputs": [
    {
     "name": "stdout",
     "output_type": "stream",
     "text": [
      "output :  [[-0.16671613]\n",
      " [ 0.28968368]\n",
      " [-1.50675989]\n",
      " [-0.16765696]\n",
      " [ 0.03935715]]\n",
      "y : [[15.]\n",
      " [ 7.]\n",
      " [ 9.]\n",
      " [10.]\n",
      " [ 7.]]\n",
      "diff =  [[-15.16671613]\n",
      " [ -6.71031632]\n",
      " [-10.50675989]\n",
      " [-10.16765696]\n",
      " [ -6.96064285]]\n",
      "square =  [[230.02927821]\n",
      " [ 45.02834509]\n",
      " [110.39200332]\n",
      " [103.38124808]\n",
      " [ 48.45054885]]\n",
      "loss =  107.45628471247683\n"
     ]
    },
    {
     "data": {
      "text/plain": [
       "107.45628471247683"
      ]
     },
     "execution_count": 99,
     "metadata": {},
     "output_type": "execute_result"
    }
   ],
   "source": [
    "forward_postproc(forward_neuralnet(data[:,:-1]),data[:,-1:])"
   ]
  },
  {
   "cell_type": "code",
   "execution_count": 100,
   "id": "8f0858d4-ffe2-4b6c-ac02-46aee3f8ad20",
   "metadata": {},
   "outputs": [],
   "source": [
    "def run_train(x, y):\n",
    "    output = forward_neuralnet(x)\n",
    "    cost = forward_postproc(output, y)\n",
    "    \n",
    "    return output, cost"
   ]
  },
  {
   "cell_type": "code",
   "execution_count": 102,
   "id": "8b7970db-e6ce-4814-be51-2326d647bee2",
   "metadata": {},
   "outputs": [
    {
     "name": "stdout",
     "output_type": "stream",
     "text": [
      "output :  [[-0.16671613]\n",
      " [ 0.28968368]\n",
      " [-1.50675989]\n",
      " [-0.16765696]\n",
      " [ 0.03935715]]\n",
      "y : [[15.]\n",
      " [ 7.]\n",
      " [ 9.]\n",
      " [10.]\n",
      " [ 7.]]\n",
      "diff =  [[-15.16671613]\n",
      " [ -6.71031632]\n",
      " [-10.50675989]\n",
      " [-10.16765696]\n",
      " [ -6.96064285]]\n",
      "square =  [[230.02927821]\n",
      " [ 45.02834509]\n",
      " [110.39200332]\n",
      " [103.38124808]\n",
      " [ 48.45054885]]\n",
      "loss =  107.45628471247683\n",
      "(array([[-0.16671613],\n",
      "       [ 0.28968368],\n",
      "       [-1.50675989],\n",
      "       [-0.16765696],\n",
      "       [ 0.03935715]]), 107.45628471247683)\n"
     ]
    }
   ],
   "source": [
    "print(run_train(data[:,:-1], data[:,-1:]))"
   ]
  }
 ],
 "metadata": {
  "kernelspec": {
   "display_name": "Python 3",
   "language": "python",
   "name": "python3"
  },
  "language_info": {
   "codemirror_mode": {
    "name": "ipython",
    "version": 3
   },
   "file_extension": ".py",
   "mimetype": "text/x-python",
   "name": "python",
   "nbconvert_exporter": "python",
   "pygments_lexer": "ipython3",
   "version": "3.8.8"
  }
 },
 "nbformat": 4,
 "nbformat_minor": 5
}
