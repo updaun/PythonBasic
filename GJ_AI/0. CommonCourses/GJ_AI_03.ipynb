{
 "cells": [
  {
   "cell_type": "markdown",
   "id": "dce3bbfc-d312-4e82-a798-b3ed8fdde33b",
   "metadata": {},
   "source": [
    "# Class Exercise"
   ]
  },
  {
   "cell_type": "markdown",
   "id": "fb2b8088-24a8-435b-bf40-c93da70e37d9",
   "metadata": {},
   "source": [
    "## 클래스 명 지정 시에는 가장 앞글자를 대문자로 표기하는 관례가 있다."
   ]
  },
  {
   "cell_type": "markdown",
   "id": "4da00fcc-3322-4b36-98ef-c6dfbc9b25f4",
   "metadata": {},
   "source": [
    "## 클래스 초기화를 하지 않는 방식"
   ]
  },
  {
   "cell_type": "code",
   "execution_count": 1,
   "id": "3b65a0e6-4f9c-4031-8e2a-bda506accb66",
   "metadata": {},
   "outputs": [],
   "source": [
    "class Class_name:\n",
    "    def __init__(self, value_1, value_2):\n",
    "        self.value_1 = value_1\n",
    "        self.value_2 = value_2\n",
    "        \n",
    "    def func_1(self, func_value_1, func_value_2):\n",
    "        code_1 = func_value_1 + func_value_2\n",
    "        \n",
    "        '''\n",
    "        '''"
   ]
  },
  {
   "cell_type": "code",
   "execution_count": 5,
   "id": "1dad7851-1850-40a3-8040-00dc6d55e3fa",
   "metadata": {},
   "outputs": [],
   "source": [
    "class Email:\n",
    "    pass"
   ]
  },
  {
   "cell_type": "code",
   "execution_count": 7,
   "id": "1bd3c20d-0202-46d5-ae2f-e5cfab1fab8c",
   "metadata": {},
   "outputs": [
    {
     "data": {
      "text/plain": [
       "<__main__.Email at 0x16f97651a30>"
      ]
     },
     "execution_count": 7,
     "metadata": {},
     "output_type": "execute_result"
    }
   ],
   "source": [
    "Email()"
   ]
  },
  {
   "cell_type": "code",
   "execution_count": 8,
   "id": "d8dbab31-dd2a-4b57-9a95-c8e108435959",
   "metadata": {},
   "outputs": [],
   "source": [
    "class Email:\n",
    "    sender = ''\n",
    "    \n",
    "    def send_mail(self, recv, subject, contents):\n",
    "        print(\"보낸이 : \" + sender)\n",
    "        print(\"받는이 : \", recv)\n",
    "        print(\"제  목 : \", subject)\n",
    "        print(\"------------ 경 고 문 ------------ : \", contents)\n",
    "        print(\"------ 위 내용을 따르지 않을시 본 사는 책임을 지지 알겠습니다.------\")"
   ]
  },
  {
   "cell_type": "code",
   "execution_count": 22,
   "id": "fde3ecaa-b141-41b8-9f03-3915dc21992a",
   "metadata": {},
   "outputs": [],
   "source": [
    "class Email:\n",
    "    sender = ''\n",
    "    \n",
    "    def send_mail(self, recv, subject, contents):\n",
    "        print(\"보낸이 : \" + self.sender)\n",
    "        print(\"받는이 : \", recv)\n",
    "        print(\"제  목 : \", subject)\n",
    "        print(\"------------ 경 고 문 ------------ \\n \", contents)\n",
    "        print(\"------ 위 내용을 따르지 않을시 본 사는 책임을 지지 알겠습니다.------\")"
   ]
  },
  {
   "cell_type": "code",
   "execution_count": 23,
   "id": "ae790800-9d60-4c69-ae25-03025f6003af",
   "metadata": {},
   "outputs": [],
   "source": [
    "import numpy as np"
   ]
  },
  {
   "cell_type": "code",
   "execution_count": 24,
   "id": "b03c26c2-23cd-4d6d-a446-1788d9735f7b",
   "metadata": {},
   "outputs": [
    {
     "data": {
      "text/plain": [
       "0.0"
      ]
     },
     "execution_count": 24,
     "metadata": {},
     "output_type": "execute_result"
    }
   ],
   "source": [
    "np.angle(1)"
   ]
  },
  {
   "cell_type": "code",
   "execution_count": 25,
   "id": "00e68e36-0d22-47d6-9614-690a3508127b",
   "metadata": {},
   "outputs": [],
   "source": [
    "e = Email()"
   ]
  },
  {
   "cell_type": "code",
   "execution_count": 26,
   "id": "f1ad6b99-c576-43e1-baf2-bfd7abb4851b",
   "metadata": {},
   "outputs": [
    {
     "name": "stdout",
     "output_type": "stream",
     "text": [
      "보낸이 : \n",
      "받는이 :  ai_bot@gmail.com\n",
      "제  목 :  경고장\n",
      "------------ 경 고 문 ------------ \n",
      "  귀하는 ...\n",
      "------ 위 내용을 따르지 않을시 본 사는 책임을 지지 알겠습니다.------\n"
     ]
    }
   ],
   "source": [
    "e.send_mail('ai_bot@gmail.com', '경고장', '귀하는 ...')"
   ]
  },
  {
   "cell_type": "code",
   "execution_count": 27,
   "id": "a737611a-97fa-40ad-a008-37b03ce549af",
   "metadata": {},
   "outputs": [],
   "source": [
    "e.sender = 'ai_bot_Bul@Bul.com'"
   ]
  },
  {
   "cell_type": "code",
   "execution_count": 28,
   "id": "28d75378-acdb-4b5d-9dd0-ca2e965782b8",
   "metadata": {},
   "outputs": [
    {
     "name": "stdout",
     "output_type": "stream",
     "text": [
      "보낸이 : ai_bot_Bul@Bul.com\n",
      "받는이 :  ai_bot@gmail.com\n",
      "제  목 :  경고장\n",
      "------------ 경 고 문 ------------ \n",
      "  귀하는 ...\n",
      "------ 위 내용을 따르지 않을시 본 사는 책임을 지지 알겠습니다.------\n"
     ]
    }
   ],
   "source": [
    "e.send_mail('ai_bot@gmail.com', '경고장', '귀하는 ...')"
   ]
  },
  {
   "cell_type": "code",
   "execution_count": 29,
   "id": "24803994-3a23-4b4e-ac04-48a7df65ea83",
   "metadata": {},
   "outputs": [],
   "source": [
    "recv_list = ['ai_bot1@gmail.com',\n",
    "             'ai_bot2@gmail.com',\n",
    "             'ai_bot3@gmail.com']"
   ]
  },
  {
   "cell_type": "code",
   "execution_count": 30,
   "id": "93258a8b-3e9d-4f0f-b928-9160542f2f54",
   "metadata": {},
   "outputs": [
    {
     "name": "stdout",
     "output_type": "stream",
     "text": [
      "보낸이 : ai_bot_Bul@Bul.com\n",
      "받는이 :  ai_bot1@gmail.com\n",
      "제  목 :  경고장\n",
      "------------ 경 고 문 ------------ \n",
      "  귀하는 ...\n",
      "------ 위 내용을 따르지 않을시 본 사는 책임을 지지 알겠습니다.------\n",
      "보낸이 : ai_bot_Bul@Bul.com\n",
      "받는이 :  ai_bot2@gmail.com\n",
      "제  목 :  경고장\n",
      "------------ 경 고 문 ------------ \n",
      "  귀하는 ...\n",
      "------ 위 내용을 따르지 않을시 본 사는 책임을 지지 알겠습니다.------\n",
      "보낸이 : ai_bot_Bul@Bul.com\n",
      "받는이 :  ai_bot3@gmail.com\n",
      "제  목 :  경고장\n",
      "------------ 경 고 문 ------------ \n",
      "  귀하는 ...\n",
      "------ 위 내용을 따르지 않을시 본 사는 책임을 지지 알겠습니다.------\n"
     ]
    }
   ],
   "source": [
    "for recv in recv_list:\n",
    "    e.send_mail(recv, '경고장', '귀하는 ...')"
   ]
  },
  {
   "cell_type": "code",
   "execution_count": 2,
   "id": "d2ee19d6-6a82-4bf0-807a-63f9eedfee55",
   "metadata": {},
   "outputs": [],
   "source": [
    "%run email_class.ipynb"
   ]
  },
  {
   "cell_type": "code",
   "execution_count": 4,
   "id": "41822967-6d70-49ca-8ff6-6eefc9e33f3b",
   "metadata": {},
   "outputs": [],
   "source": [
    "e = Email()\n",
    "e.sender = 'ai_bot_Bul@Bul.com'\n",
    "\n",
    "recv_list = ['ai_bot1@gmail.com',\n",
    "             'ai_bot2@gmail.com',\n",
    "             'ai_bot3@gmail.com']"
   ]
  },
  {
   "cell_type": "code",
   "execution_count": 5,
   "id": "fa8547af-deef-42da-99a5-53c2c9508675",
   "metadata": {},
   "outputs": [
    {
     "name": "stdout",
     "output_type": "stream",
     "text": [
      "보낸이 : ai_bot_Bul@Bul.com\n",
      "받는이 :  ai_bot1@gmail.com\n",
      "제  목 :  경고장\n",
      "------------ 경 고 문 ------------ \n",
      "  귀하는 ...\n",
      "------ 위 내용을 따르지 않을시 본 사는 책임을 지지 알겠습니다.------\n",
      "보낸이 : ai_bot_Bul@Bul.com\n",
      "받는이 :  ai_bot2@gmail.com\n",
      "제  목 :  경고장\n",
      "------------ 경 고 문 ------------ \n",
      "  귀하는 ...\n",
      "------ 위 내용을 따르지 않을시 본 사는 책임을 지지 알겠습니다.------\n",
      "보낸이 : ai_bot_Bul@Bul.com\n",
      "받는이 :  ai_bot3@gmail.com\n",
      "제  목 :  경고장\n",
      "------------ 경 고 문 ------------ \n",
      "  귀하는 ...\n",
      "------ 위 내용을 따르지 않을시 본 사는 책임을 지지 알겠습니다.------\n"
     ]
    }
   ],
   "source": [
    "for recv in recv_list:\n",
    "    e.send_mail(recv, '경고장', '귀하는 ...')"
   ]
  },
  {
   "cell_type": "markdown",
   "id": "1a56141d-2427-4969-9439-128ea55bcc71",
   "metadata": {},
   "source": [
    "## py file"
   ]
  },
  {
   "cell_type": "code",
   "execution_count": null,
   "id": "ac731b7b-5536-4c5c-87de-c6376733d66c",
   "metadata": {},
   "outputs": [],
   "source": [
    "# 클래스 import\n",
    "from email_class import Email\n",
    "\n",
    "e = Email()\n",
    "e.sender = 'ai_bot_Bul@Bul.com'\n",
    "\n",
    "recv_list = ['ai_bot1@gmail.com',\n",
    "             'ai_bot2@gmail.com',\n",
    "             'ai_bot3@gmail.com']\n",
    "\n",
    "for recv in recv_list:\n",
    "    e.send_mail(recv, '경고장', '귀하는 ...')"
   ]
  },
  {
   "cell_type": "markdown",
   "id": "7502aa19-48c8-4cbc-8bde-e6ddccc5c2ae",
   "metadata": {},
   "source": [
    "## 클래스 초기화를 하는 방식"
   ]
  },
  {
   "cell_type": "code",
   "execution_count": 7,
   "id": "4daee778-1e46-4955-928f-23c7e96dce15",
   "metadata": {},
   "outputs": [],
   "source": [
    "class Unit:\n",
    "    def __init__(self, name, hp, damage):\n",
    "        # instance value\n",
    "        self.name = name\n",
    "        self.hp = hp\n",
    "        self.damage = damage\n",
    "        \n",
    "        print(\"{0} Enter The Game\".format(self.name))\n",
    "        print(\"hp:{0}, damage:{1}\".format(self.hp, self.damage))"
   ]
  },
  {
   "cell_type": "code",
   "execution_count": 8,
   "id": "f018fca2-c793-4c46-bbca-8004cc9ed8b1",
   "metadata": {},
   "outputs": [
    {
     "name": "stdout",
     "output_type": "stream",
     "text": [
      "희원 Enter The Game\n",
      "hp:500, damage:70\n",
      "수연 Enter The Game\n",
      "hp:400, damage:80\n"
     ]
    }
   ],
   "source": [
    "Unit_1 = Unit(\"희원\", 500, 70)\n",
    "Unit_2 = Unit(\"수연\", 400, 80)"
   ]
  },
  {
   "cell_type": "code",
   "execution_count": 9,
   "id": "f7ce5977-0c60-445b-9d7e-9595b88b0d4e",
   "metadata": {},
   "outputs": [
    {
     "ename": "TypeError",
     "evalue": "__init__() missing 1 required positional argument: 'damage'",
     "output_type": "error",
     "traceback": [
      "\u001b[1;31m---------------------------------------------------------------------------\u001b[0m",
      "\u001b[1;31mTypeError\u001b[0m                                 Traceback (most recent call last)",
      "\u001b[1;32m<ipython-input-9-0177d5eae418>\u001b[0m in \u001b[0;36m<module>\u001b[1;34m\u001b[0m\n\u001b[1;32m----> 1\u001b[1;33m \u001b[0mUnit_1\u001b[0m \u001b[1;33m=\u001b[0m \u001b[0mUnit\u001b[0m\u001b[1;33m(\u001b[0m\u001b[1;34m\"희원\"\u001b[0m\u001b[1;33m,\u001b[0m \u001b[1;36m70\u001b[0m\u001b[1;33m)\u001b[0m\u001b[1;33m\u001b[0m\u001b[1;33m\u001b[0m\u001b[0m\n\u001b[0m",
      "\u001b[1;31mTypeError\u001b[0m: __init__() missing 1 required positional argument: 'damage'"
     ]
    }
   ],
   "source": [
    "# 변수가 부족한 경우\n",
    "Unit_1 = Unit(\"희원\", 70)"
   ]
  },
  {
   "cell_type": "code",
   "execution_count": 10,
   "id": "25a33fd3-7688-448e-bf1a-67bfe685624a",
   "metadata": {},
   "outputs": [
    {
     "ename": "TypeError",
     "evalue": "__init__() takes 4 positional arguments but 5 were given",
     "output_type": "error",
     "traceback": [
      "\u001b[1;31m---------------------------------------------------------------------------\u001b[0m",
      "\u001b[1;31mTypeError\u001b[0m                                 Traceback (most recent call last)",
      "\u001b[1;32m<ipython-input-10-de42fcbabaed>\u001b[0m in \u001b[0;36m<module>\u001b[1;34m\u001b[0m\n\u001b[1;32m----> 1\u001b[1;33m \u001b[0mUnit_1\u001b[0m \u001b[1;33m=\u001b[0m \u001b[0mUnit\u001b[0m\u001b[1;33m(\u001b[0m\u001b[1;34m\"희원\"\u001b[0m\u001b[1;33m,\u001b[0m \u001b[1;36m500\u001b[0m\u001b[1;33m,\u001b[0m \u001b[1;36m70\u001b[0m\u001b[1;33m,\u001b[0m \u001b[1;36m30\u001b[0m\u001b[1;33m)\u001b[0m\u001b[1;33m\u001b[0m\u001b[1;33m\u001b[0m\u001b[0m\n\u001b[0m",
      "\u001b[1;31mTypeError\u001b[0m: __init__() takes 4 positional arguments but 5 were given"
     ]
    }
   ],
   "source": [
    "# 변수가 초과한 경우\n",
    "Unit_1 = Unit(\"희원\", 500, 70, 30)"
   ]
  },
  {
   "cell_type": "code",
   "execution_count": 11,
   "id": "e09eb7b2-6af3-41ec-8fb4-ab911a2044a0",
   "metadata": {},
   "outputs": [
    {
     "name": "stdout",
     "output_type": "stream",
     "text": [
      "희원 Enter The Game\n",
      "hp:500, damage:70\n"
     ]
    }
   ],
   "source": [
    "Unit_1 = Unit(\"희원\", 500, 70)\n",
    "# 인스턴스 추가\n",
    "Unit_1.impossible_to_attack = True"
   ]
  },
  {
   "cell_type": "code",
   "execution_count": 12,
   "id": "2f9187eb-3961-4b5e-a010-e085d56975e7",
   "metadata": {},
   "outputs": [
    {
     "ename": "SyntaxError",
     "evalue": "invalid syntax (<ipython-input-12-476f4a3a568b>, line 1)",
     "output_type": "error",
     "traceback": [
      "\u001b[1;36m  File \u001b[1;32m\"<ipython-input-12-476f4a3a568b>\"\u001b[1;36m, line \u001b[1;32m1\u001b[0m\n\u001b[1;33m    if Unit_1.impossible_to_attack = True:\u001b[0m\n\u001b[1;37m                                   ^\u001b[0m\n\u001b[1;31mSyntaxError\u001b[0m\u001b[1;31m:\u001b[0m invalid syntax\n"
     ]
    }
   ],
   "source": [
    "if Unit_1.impossible_to_attack == True:\n",
    "    print(\"현재 공격 불가능 상태\")"
   ]
  },
  {
   "cell_type": "code",
   "execution_count": 13,
   "id": "fb153407-0066-4941-a359-9fca89ddd1b3",
   "metadata": {},
   "outputs": [],
   "source": [
    "Unit_1.impossible_to_attack = False"
   ]
  },
  {
   "cell_type": "code",
   "execution_count": 14,
   "id": "fac5854e-904a-488c-a2a2-0a351e2e0d73",
   "metadata": {},
   "outputs": [
    {
     "name": "stdout",
     "output_type": "stream",
     "text": [
      "공격 가능 상태\n"
     ]
    }
   ],
   "source": [
    "if Unit_1.impossible_to_attack == True:\n",
    "    print(\"현재 공격 불가능 상태\")\n",
    "else:\n",
    "    print(\"공격 가능 상태\")"
   ]
  },
  {
   "cell_type": "code",
   "execution_count": 32,
   "id": "0307a4b2-0278-4ac8-8a51-cd0a4adf853d",
   "metadata": {},
   "outputs": [],
   "source": [
    "class Attack_Unit:\n",
    "    def __init__(self, name, hp, damage):\n",
    "        self.name = name\n",
    "        self.hp = hp\n",
    "        self.damage = damage\n",
    "        \n",
    "    def attack(self, location):\n",
    "        print(\"{0} : {1} 방향으로 공격을 수행하였습니다. [데미지 : {2}]\"\n",
    "              .format(self.name, location, self.damage))\n",
    "        \n",
    "    def damaged(self, damage):\n",
    "        print(\"{0} : 공격을 받았습니다. 데미지 정보 [{1}]\".\n",
    "              format(self.name, damage))\n",
    "        self.hp -= damage\n",
    "        print(\"{0} : 현재 남은 HP는 {1} 입니다.\".\n",
    "              format(self.name, self.hp))\n",
    "        if self.hp <= 0:\n",
    "            print(\"{0} : 게임이 종료되었습니다.\".format(self.name))\n",
    "            print(\"이용해 주셔서 감사합니다.\")"
   ]
  },
  {
   "cell_type": "code",
   "execution_count": 33,
   "id": "269aa8fe-e958-43d5-8900-c2ec2721f964",
   "metadata": {},
   "outputs": [],
   "source": [
    "Unit_1 = Attack_Unit(\"희원\", 500, 100)"
   ]
  },
  {
   "cell_type": "code",
   "execution_count": 34,
   "id": "130eaefb-5a47-41fb-9b5c-533f827c536f",
   "metadata": {},
   "outputs": [
    {
     "name": "stdout",
     "output_type": "stream",
     "text": [
      "희원 : 11시 방향으로 공격을 수행하였습니다. [데미지 : 100]\n"
     ]
    }
   ],
   "source": [
    "Unit_1.attack(\"11시\")"
   ]
  },
  {
   "cell_type": "code",
   "execution_count": 35,
   "id": "97b54d41-219d-4802-a83f-e752d5b784ce",
   "metadata": {},
   "outputs": [
    {
     "name": "stdout",
     "output_type": "stream",
     "text": [
      "희원 : 공격을 받았습니다. 데미지 정보 [70]\n",
      "희원 : 현재 남은 HP는 430 입니다.\n",
      "희원 : 공격을 받았습니다. 데미지 정보 [100]\n",
      "희원 : 현재 남은 HP는 330 입니다.\n",
      "희원 : 공격을 받았습니다. 데미지 정보 [200]\n",
      "희원 : 현재 남은 HP는 130 입니다.\n",
      "희원 : 공격을 받았습니다. 데미지 정보 [300]\n",
      "희원 : 현재 남은 HP는 -170 입니다.\n",
      "희원 : 게임이 종료되었습니다.\n",
      "이용해 주셔서 감사합니다.\n"
     ]
    }
   ],
   "source": [
    "Unit_1.damaged(70)\n",
    "Unit_1.damaged(100)\n",
    "Unit_1.damaged(200)\n",
    "Unit_1.damaged(300)"
   ]
  },
  {
   "cell_type": "markdown",
   "id": "adffb307-2667-4ed8-8c88-b13934bbee4e",
   "metadata": {},
   "source": [
    "## Inheritance Exercise"
   ]
  },
  {
   "cell_type": "markdown",
   "id": "c1fb4eb7-f62e-4e3b-9b5b-58a7fcbb7abd",
   "metadata": {},
   "source": [
    "## 상속 하는 첫 번째 방법"
   ]
  },
  {
   "cell_type": "code",
   "execution_count": 36,
   "id": "e616ddd1-424d-43a2-b15c-9a6c1ae9a6b0",
   "metadata": {},
   "outputs": [],
   "source": [
    "class Unit():\n",
    "    def __init__(self, name, hp):\n",
    "        self.name = name\n",
    "        self.hp = hp"
   ]
  },
  {
   "cell_type": "code",
   "execution_count": 37,
   "id": "32ba48a0-5fa7-4863-aff9-aa29f7195ddf",
   "metadata": {},
   "outputs": [],
   "source": [
    "# 상속 하는 첫 번째 방법\n",
    "class AttackUnit(Unit):\n",
    "    def __init__(self, name, hp, damage):\n",
    "        # Unit 상속 선언\n",
    "        Unit.__init__(self, name, hp)\n",
    "        self.damage = damage\n",
    "        \n",
    "    def attack(self, location): \n",
    "        print(\"{0} : Attack to the {1}.[Damage {2}] \"\\\n",
    "              .format(self.name, location, self.damage))\n",
    "\n",
    "    def damaged(self, damage): \n",
    "        print(\"{0} : {1} Damaged .\".format(self.name, damage))\n",
    "        self.hp -= damage \n",
    "        print(\"{0} : HP {1}\".format(self.name, self.hp))\n",
    "        if self.hp <= 0:\n",
    "            print(\"{0} : Game Over.\".format(self.name))"
   ]
  },
  {
   "cell_type": "code",
   "execution_count": 38,
   "id": "add4f21f-2e85-4f93-be76-8cc8f5bb5a7e",
   "metadata": {},
   "outputs": [],
   "source": [
    "Unit_3 = AttackUnit(\"솔아\", 300, 20)"
   ]
  },
  {
   "cell_type": "code",
   "execution_count": 39,
   "id": "2fa7ebd3-2b82-428a-8947-bedf9657326b",
   "metadata": {},
   "outputs": [
    {
     "name": "stdout",
     "output_type": "stream",
     "text": [
      "솔아 : Attack to the 3시.[Damage 20] \n"
     ]
    }
   ],
   "source": [
    "Unit_3.attack(\"3시\")"
   ]
  },
  {
   "cell_type": "code",
   "execution_count": 40,
   "id": "33a23d39-b43a-4f87-b7c8-496ffaab233d",
   "metadata": {},
   "outputs": [
    {
     "name": "stdout",
     "output_type": "stream",
     "text": [
      "솔아 : 100 Damaged .\n",
      "솔아 : HP 200\n",
      "솔아 : 100 Damaged .\n",
      "솔아 : HP 100\n",
      "솔아 : 100 Damaged .\n",
      "솔아 : HP 0\n",
      "솔아 : Game Over.\n"
     ]
    }
   ],
   "source": [
    "Unit_3.damaged(100)\n",
    "Unit_3.damaged(100)\n",
    "Unit_3.damaged(100)"
   ]
  },
  {
   "cell_type": "code",
   "execution_count": 42,
   "id": "4ed400c9-4c4f-4f2c-913c-8cfea873d574",
   "metadata": {},
   "outputs": [],
   "source": [
    "class Jungle:\n",
    "    def __init__(self, dash_speed):\n",
    "        self.dash_speed = dash_speed\n",
    "    def dash(self, name, location):\n",
    "        print(\"{0} : 회피기능을 실행하였다. {1}. [speed - {2}]\".\\\n",
    "        format(name, location, self.dash_speed))"
   ]
  },
  {
   "cell_type": "code",
   "execution_count": 43,
   "id": "bf1298fe-9954-4341-a400-11238070d53d",
   "metadata": {},
   "outputs": [
    {
     "name": "stdout",
     "output_type": "stream",
     "text": [
      "Red_monster : 회피기능을 실행하였다. Right. [speed - 10]\n"
     ]
    }
   ],
   "source": [
    "NPC_1 = Jungle(10)\n",
    "NPC_1.dash(\"Red_monster\", \"Right\")"
   ]
  },
  {
   "cell_type": "code",
   "execution_count": 44,
   "id": "92c8fccf-813b-4220-ba57-b63ae1798d79",
   "metadata": {},
   "outputs": [],
   "source": [
    "class JungleAttackUnit(AttackUnit, Jungle):\n",
    "    def __init__(self, name, hp, damage, dash_speed):\n",
    "        AttackUnit.__init__(self, name, hp, damage)\n",
    "        Jungle.__init__(self, dash_speed)"
   ]
  },
  {
   "cell_type": "code",
   "execution_count": 46,
   "id": "8a1f0c56-49cd-44d3-9687-432652cd3975",
   "metadata": {},
   "outputs": [],
   "source": [
    "NPC_2 = JungleAttackUnit(\"NPC_2\", 5000, 1000, 10)"
   ]
  },
  {
   "cell_type": "code",
   "execution_count": 47,
   "id": "f5a54629-c8da-4cbe-be2b-7e2b37b26f41",
   "metadata": {},
   "outputs": [
    {
     "name": "stdout",
     "output_type": "stream",
     "text": [
      "NPC_2 : 회피기능을 실행하였다. Down. [speed - 10]\n"
     ]
    }
   ],
   "source": [
    "NPC_2.dash(NPC_2.name, \"Down\")"
   ]
  },
  {
   "cell_type": "code",
   "execution_count": 49,
   "id": "82c264cc-8d8b-4177-86c3-8c9672755615",
   "metadata": {},
   "outputs": [
    {
     "name": "stdout",
     "output_type": "stream",
     "text": [
      "NPC_2 : Attack to the Right.[Damage 1000] \n"
     ]
    }
   ],
   "source": [
    "NPC_2.attack(\"Right\")"
   ]
  },
  {
   "cell_type": "code",
   "execution_count": 50,
   "id": "30f5a7d2-df4d-4f5a-8748-3a93a58bef2e",
   "metadata": {},
   "outputs": [
    {
     "name": "stdout",
     "output_type": "stream",
     "text": [
      "NPC_2 : 2000 Damaged .\n",
      "NPC_2 : HP 3000\n",
      "NPC_2 : 2000 Damaged .\n",
      "NPC_2 : HP 1000\n",
      "NPC_2 : 2000 Damaged .\n",
      "NPC_2 : HP -1000\n",
      "NPC_2 : Game Over.\n"
     ]
    }
   ],
   "source": [
    "NPC_2.damaged(2000)\n",
    "NPC_2.damaged(2000)\n",
    "NPC_2.damaged(2000)"
   ]
  },
  {
   "cell_type": "markdown",
   "id": "2c14000d-c864-4025-ab1d-0e350dba4bd3",
   "metadata": {},
   "source": [
    "## 상속 하는 두 번째 방법"
   ]
  },
  {
   "cell_type": "code",
   "execution_count": 51,
   "id": "3b96e937-0891-4eba-86b5-1921c1f14884",
   "metadata": {},
   "outputs": [],
   "source": [
    "class Unit:\n",
    "    def __init__(self, name, hp):\n",
    "        self.name = name\n",
    "        self.hp = hp\n",
    "        \n",
    "class AttackUnit(Unit):\n",
    "    def __init__(self, name, hp, damage):\n",
    "        # super 메서드 활용하여 상속\n",
    "        super(AttackUnit, self).__init__(name, hp)\n",
    "        self.damage = damage"
   ]
  },
  {
   "cell_type": "code",
   "execution_count": 58,
   "id": "08602263-570d-40a1-a621-ce427c4277bd",
   "metadata": {},
   "outputs": [],
   "source": [
    "def outline_attack(self, location): \n",
    "    print(\"{0} : Attack to the {1}.[Damage {2}] \"\\\n",
    "          .format(self.name, location, self.damage))\n",
    "# 함수 내용이 동일한 것을 다른 이름으로 클래스에 추가    \n",
    "AttackUnit.attack   = outline_attack\n",
    "AttackUnit.attack_2 = outline_attack"
   ]
  },
  {
   "cell_type": "code",
   "execution_count": 56,
   "id": "3b7fe722-939d-4da8-9cc1-ea3bfd965f90",
   "metadata": {},
   "outputs": [],
   "source": [
    "BOSS_UNIT = AttackUnit(\"재화\", 9999, 9999)"
   ]
  },
  {
   "cell_type": "code",
   "execution_count": 54,
   "id": "a91b2f48-f03b-4ab4-b85a-155c821eece6",
   "metadata": {},
   "outputs": [
    {
     "name": "stdout",
     "output_type": "stream",
     "text": [
      "재화 : Attack to the UP.[Damage 9999] \n"
     ]
    }
   ],
   "source": [
    "BOSS_UNIT.attack(\"UP\")"
   ]
  },
  {
   "cell_type": "code",
   "execution_count": 57,
   "id": "ec487a04-a1eb-491e-81cd-d37acdb8ab82",
   "metadata": {},
   "outputs": [
    {
     "name": "stdout",
     "output_type": "stream",
     "text": [
      "재화 : Attack to the DOWN.[Damage 9999] \n"
     ]
    }
   ],
   "source": [
    "BOSS_UNIT.attack_2(\"DOWN\")"
   ]
  },
  {
   "cell_type": "markdown",
   "id": "cd101d68-7cad-419a-924b-3e196f9a420f",
   "metadata": {},
   "source": [
    "# 예외처리"
   ]
  },
  {
   "cell_type": "markdown",
   "id": "80728263-0cfa-4906-b9d8-c8bf239df8cc",
   "metadata": {},
   "source": [
    "## try except 구문의 기본구조"
   ]
  },
  {
   "cell_type": "code",
   "execution_count": 60,
   "id": "105aee03-5b43-4d11-a2a2-ce4f083a4f41",
   "metadata": {},
   "outputs": [
    {
     "name": "stdout",
     "output_type": "stream",
     "text": [
      "나눗셈 전용 계산기 입니다.\n"
     ]
    },
    {
     "name": "stdin",
     "output_type": "stream",
     "text": [
      "첫 번째 값을 입력해줘요. 10\n",
      "첫 번째 값을 입력해줘요. 3\n"
     ]
    },
    {
     "name": "stdout",
     "output_type": "stream",
     "text": [
      "10/3 = 3\n"
     ]
    }
   ],
   "source": [
    "print(\"나눗셈 전용 계산기 입니다.\")\n",
    "num1 = int(input(\"첫 번째 값을 입력해줘요.\"))\n",
    "num2 = int(input(\"첫 번째 값을 입력해줘요.\"))\n",
    "\n",
    "print(\"{0}/{1} = {2}\".format(num1, num2, int(num1/num2)))"
   ]
  },
  {
   "cell_type": "code",
   "execution_count": 61,
   "id": "5354502a-17f4-45d1-b24a-a5e30d7fc868",
   "metadata": {},
   "outputs": [
    {
     "name": "stdout",
     "output_type": "stream",
     "text": [
      "나눗셈 전용 계산기 입니다.\n"
     ]
    },
    {
     "name": "stdin",
     "output_type": "stream",
     "text": [
      "첫 번째 값을 입력해줘요. 10\n",
      "첫 번째 값을 입력해줘요. 0\n"
     ]
    },
    {
     "ename": "ZeroDivisionError",
     "evalue": "division by zero",
     "output_type": "error",
     "traceback": [
      "\u001b[1;31m---------------------------------------------------------------------------\u001b[0m",
      "\u001b[1;31mZeroDivisionError\u001b[0m                         Traceback (most recent call last)",
      "\u001b[1;32m<ipython-input-61-5f580f79bed8>\u001b[0m in \u001b[0;36m<module>\u001b[1;34m\u001b[0m\n\u001b[0;32m      3\u001b[0m \u001b[0mnum2\u001b[0m \u001b[1;33m=\u001b[0m \u001b[0mint\u001b[0m\u001b[1;33m(\u001b[0m\u001b[0minput\u001b[0m\u001b[1;33m(\u001b[0m\u001b[1;34m\"첫 번째 값을 입력해줘요.\"\u001b[0m\u001b[1;33m)\u001b[0m\u001b[1;33m)\u001b[0m\u001b[1;33m\u001b[0m\u001b[1;33m\u001b[0m\u001b[0m\n\u001b[0;32m      4\u001b[0m \u001b[1;33m\u001b[0m\u001b[0m\n\u001b[1;32m----> 5\u001b[1;33m \u001b[0mprint\u001b[0m\u001b[1;33m(\u001b[0m\u001b[1;34m\"{0}/{1} = {2}\"\u001b[0m\u001b[1;33m.\u001b[0m\u001b[0mformat\u001b[0m\u001b[1;33m(\u001b[0m\u001b[0mnum1\u001b[0m\u001b[1;33m,\u001b[0m \u001b[0mnum2\u001b[0m\u001b[1;33m,\u001b[0m \u001b[0mint\u001b[0m\u001b[1;33m(\u001b[0m\u001b[0mnum1\u001b[0m\u001b[1;33m/\u001b[0m\u001b[0mnum2\u001b[0m\u001b[1;33m)\u001b[0m\u001b[1;33m)\u001b[0m\u001b[1;33m)\u001b[0m\u001b[1;33m\u001b[0m\u001b[1;33m\u001b[0m\u001b[0m\n\u001b[0m",
      "\u001b[1;31mZeroDivisionError\u001b[0m: division by zero"
     ]
    }
   ],
   "source": [
    "print(\"나눗셈 전용 계산기 입니다.\")\n",
    "num1 = int(input(\"첫 번째 값을 입력해줘요.\"))\n",
    "num2 = int(input(\"첫 번째 값을 입력해줘요.\"))\n",
    "\n",
    "print(\"{0}/{1} = {2}\".format(num1, num2, int(num1/num2)))"
   ]
  },
  {
   "cell_type": "code",
   "execution_count": 63,
   "id": "e76cf5c4-74c1-44c6-823d-c4a6163b55e8",
   "metadata": {},
   "outputs": [
    {
     "name": "stdout",
     "output_type": "stream",
     "text": [
      "나눗셈 전용 계산기 입니다.\n"
     ]
    },
    {
     "name": "stdin",
     "output_type": "stream",
     "text": [
      "첫 번째 값을 입력해줘요. 10\n",
      "첫 번째 값을 입력해줘요. \n"
     ]
    },
    {
     "ename": "ValueError",
     "evalue": "invalid literal for int() with base 10: ''",
     "output_type": "error",
     "traceback": [
      "\u001b[1;31m---------------------------------------------------------------------------\u001b[0m",
      "\u001b[1;31mValueError\u001b[0m                                Traceback (most recent call last)",
      "\u001b[1;32m<ipython-input-63-5f580f79bed8>\u001b[0m in \u001b[0;36m<module>\u001b[1;34m\u001b[0m\n\u001b[0;32m      1\u001b[0m \u001b[0mprint\u001b[0m\u001b[1;33m(\u001b[0m\u001b[1;34m\"나눗셈 전용 계산기 입니다.\"\u001b[0m\u001b[1;33m)\u001b[0m\u001b[1;33m\u001b[0m\u001b[1;33m\u001b[0m\u001b[0m\n\u001b[0;32m      2\u001b[0m \u001b[0mnum1\u001b[0m \u001b[1;33m=\u001b[0m \u001b[0mint\u001b[0m\u001b[1;33m(\u001b[0m\u001b[0minput\u001b[0m\u001b[1;33m(\u001b[0m\u001b[1;34m\"첫 번째 값을 입력해줘요.\"\u001b[0m\u001b[1;33m)\u001b[0m\u001b[1;33m)\u001b[0m\u001b[1;33m\u001b[0m\u001b[1;33m\u001b[0m\u001b[0m\n\u001b[1;32m----> 3\u001b[1;33m \u001b[0mnum2\u001b[0m \u001b[1;33m=\u001b[0m \u001b[0mint\u001b[0m\u001b[1;33m(\u001b[0m\u001b[0minput\u001b[0m\u001b[1;33m(\u001b[0m\u001b[1;34m\"첫 번째 값을 입력해줘요.\"\u001b[0m\u001b[1;33m)\u001b[0m\u001b[1;33m)\u001b[0m\u001b[1;33m\u001b[0m\u001b[1;33m\u001b[0m\u001b[0m\n\u001b[0m\u001b[0;32m      4\u001b[0m \u001b[1;33m\u001b[0m\u001b[0m\n\u001b[0;32m      5\u001b[0m \u001b[0mprint\u001b[0m\u001b[1;33m(\u001b[0m\u001b[1;34m\"{0}/{1} = {2}\"\u001b[0m\u001b[1;33m.\u001b[0m\u001b[0mformat\u001b[0m\u001b[1;33m(\u001b[0m\u001b[0mnum1\u001b[0m\u001b[1;33m,\u001b[0m \u001b[0mnum2\u001b[0m\u001b[1;33m,\u001b[0m \u001b[0mint\u001b[0m\u001b[1;33m(\u001b[0m\u001b[0mnum1\u001b[0m\u001b[1;33m/\u001b[0m\u001b[0mnum2\u001b[0m\u001b[1;33m)\u001b[0m\u001b[1;33m)\u001b[0m\u001b[1;33m)\u001b[0m\u001b[1;33m\u001b[0m\u001b[1;33m\u001b[0m\u001b[0m\n",
      "\u001b[1;31mValueError\u001b[0m: invalid literal for int() with base 10: ''"
     ]
    }
   ],
   "source": [
    "print(\"나눗셈 전용 계산기 입니다.\")\n",
    "num1 = int(input(\"첫 번째 값을 입력해줘요.\"))\n",
    "num2 = int(input(\"첫 번째 값을 입력해줘요.\"))\n",
    "\n",
    "print(\"{0}/{1} = {2}\".format(num1, num2, int(num1/num2)))"
   ]
  },
  {
   "cell_type": "code",
   "execution_count": 65,
   "id": "46ef1858-a6ee-4f9e-a4b4-f4dec45fa1f7",
   "metadata": {},
   "outputs": [
    {
     "name": "stdout",
     "output_type": "stream",
     "text": [
      "나눗셈 전용 계산기 입니다.\n"
     ]
    },
    {
     "name": "stdin",
     "output_type": "stream",
     "text": [
      "첫 번째 값을 입력해줘요. 10\n",
      "첫 번째 값을 입력해줘요. 십\n"
     ]
    },
    {
     "ename": "ValueError",
     "evalue": "invalid literal for int() with base 10: '십'",
     "output_type": "error",
     "traceback": [
      "\u001b[1;31m---------------------------------------------------------------------------\u001b[0m",
      "\u001b[1;31mValueError\u001b[0m                                Traceback (most recent call last)",
      "\u001b[1;32m<ipython-input-65-ce9586f8563c>\u001b[0m in \u001b[0;36m<module>\u001b[1;34m\u001b[0m\n\u001b[0;32m      2\u001b[0m     \u001b[0mprint\u001b[0m\u001b[1;33m(\u001b[0m\u001b[1;34m\"나눗셈 전용 계산기 입니다.\"\u001b[0m\u001b[1;33m)\u001b[0m\u001b[1;33m\u001b[0m\u001b[1;33m\u001b[0m\u001b[0m\n\u001b[0;32m      3\u001b[0m     \u001b[0mnum1\u001b[0m \u001b[1;33m=\u001b[0m \u001b[0mint\u001b[0m\u001b[1;33m(\u001b[0m\u001b[0minput\u001b[0m\u001b[1;33m(\u001b[0m\u001b[1;34m\"첫 번째 값을 입력해줘요.\"\u001b[0m\u001b[1;33m)\u001b[0m\u001b[1;33m)\u001b[0m\u001b[1;33m\u001b[0m\u001b[1;33m\u001b[0m\u001b[0m\n\u001b[1;32m----> 4\u001b[1;33m     \u001b[0mnum2\u001b[0m \u001b[1;33m=\u001b[0m \u001b[0mint\u001b[0m\u001b[1;33m(\u001b[0m\u001b[0minput\u001b[0m\u001b[1;33m(\u001b[0m\u001b[1;34m\"첫 번째 값을 입력해줘요.\"\u001b[0m\u001b[1;33m)\u001b[0m\u001b[1;33m)\u001b[0m\u001b[1;33m\u001b[0m\u001b[1;33m\u001b[0m\u001b[0m\n\u001b[0m\u001b[0;32m      5\u001b[0m \u001b[1;33m\u001b[0m\u001b[0m\n\u001b[0;32m      6\u001b[0m     \u001b[0mprint\u001b[0m\u001b[1;33m(\u001b[0m\u001b[1;34m\"{0}/{1} = {2}\"\u001b[0m\u001b[1;33m.\u001b[0m\u001b[0mformat\u001b[0m\u001b[1;33m(\u001b[0m\u001b[0mnum1\u001b[0m\u001b[1;33m,\u001b[0m \u001b[0mnum2\u001b[0m\u001b[1;33m,\u001b[0m \u001b[0mint\u001b[0m\u001b[1;33m(\u001b[0m\u001b[0mnum1\u001b[0m\u001b[1;33m/\u001b[0m\u001b[0mnum2\u001b[0m\u001b[1;33m)\u001b[0m\u001b[1;33m)\u001b[0m\u001b[1;33m)\u001b[0m\u001b[1;33m\u001b[0m\u001b[1;33m\u001b[0m\u001b[0m\n",
      "\u001b[1;31mValueError\u001b[0m: invalid literal for int() with base 10: '십'"
     ]
    }
   ],
   "source": [
    "try:\n",
    "    print(\"나눗셈 전용 계산기 입니다.\")\n",
    "    num1 = int(input(\"첫 번째 값을 입력해줘요.\"))\n",
    "    num2 = int(input(\"첫 번째 값을 입력해줘요.\"))\n",
    "\n",
    "    print(\"{0}/{1} = {2}\".format(num1, num2, int(num1/num2)))\n",
    "except ZeroDivisionError:\n",
    "    print(\"-\"*40)\n",
    "    print(\"손님 0으로 나누시면 곤란합니다. ^^;;\")\n",
    "    print(\"-\"*40)"
   ]
  },
  {
   "cell_type": "code",
   "execution_count": 67,
   "id": "ed3145c6-5c01-4469-96e5-4ff7445d2dfe",
   "metadata": {},
   "outputs": [
    {
     "name": "stdout",
     "output_type": "stream",
     "text": [
      "나눗셈 전용 계산기 입니다.\n"
     ]
    },
    {
     "name": "stdin",
     "output_type": "stream",
     "text": [
      "첫 번째 값을 입력해줘요. 10\n",
      "첫 번째 값을 입력해줘요. wjs\n"
     ]
    },
    {
     "name": "stdout",
     "output_type": "stream",
     "text": [
      "----------------------------------------\n",
      "손님 문자는 곤란해요. 숫자 사용합시다!\n",
      "----------------------------------------\n"
     ]
    }
   ],
   "source": [
    "try:\n",
    "    print(\"나눗셈 전용 계산기 입니다.\")\n",
    "    num1 = int(input(\"첫 번째 값을 입력해줘요.\"))\n",
    "    num2 = int(input(\"첫 번째 값을 입력해줘요.\"))\n",
    "\n",
    "    print(\"{0}/{1} = {2}\".format(num1, num2, int(num1/num2)))\n",
    "except ZeroDivisionError:\n",
    "    print(\"-\"*40)\n",
    "    print(\"손님 0으로 나누시면 곤란합니다. ^^;;\")\n",
    "    print(\"-\"*40)\n",
    "except ValueError:\n",
    "    print(\"-\"*40)\n",
    "    print(\"손님 문자는 곤란해요. 숫자 사용합시다!\")\n",
    "    print(\"-\"*40)"
   ]
  },
  {
   "cell_type": "code",
   "execution_count": null,
   "id": "709bf7c2-ff93-4724-9b38-dcbc12293209",
   "metadata": {},
   "outputs": [],
   "source": [
    "try:\n",
    "    print(\"나눗셈 전용 계산기 입니다.\")\n",
    "    num1 = int(input(\"첫 번째 값을 입력해줘요.\"))\n",
    "    num2 = int(input(\"첫 번째 값을 입력해줘요.\"))\n",
    "\n",
    "    print(\"{0}/{1} = {2}\".format(num1, num2, int(num1/num2)))\n",
    "except ZeroDivisionError as zero_e:\n",
    "    print(\"-\"*40)\n",
    "    print(\"손님 0으로 나누시면 곤란합니다. ^^;;\")\n",
    "    print(\"-\"*40)\n",
    "except ValueError as val_e:\n",
    "    print(\"-\"*40)\n",
    "    print(\"손님 문자는 곤란해요. 숫자 사용합시다!\")\n",
    "    print(\"-\"*40)\n",
    "except Exception as all_e:\n",
    "    print(\"-\"*40)\n",
    "    print(\"알수 없는 에러가 발생했습니다.\")\n",
    "    print(\"에러 코드\", type(all_e))\n",
    "    print(\"-\"*40)\n",
    "    print(\"에러 내용\", all_e)"
   ]
  },
  {
   "cell_type": "markdown",
   "id": "c4bec577-a763-4f4a-bfb1-f181165a6722",
   "metadata": {},
   "source": [
    "## Beer Calculator"
   ]
  },
  {
   "cell_type": "code",
   "execution_count": 79,
   "id": "2912517b-281c-48bf-8a95-669c4faff837",
   "metadata": {},
   "outputs": [
    {
     "name": "stdout",
     "output_type": "stream",
     "text": [
      "==================================================\n",
      "맥주 마트에 오신 것을 환영합니다~! (종료 : 9999 입력)\n",
      "==================================================\n"
     ]
    },
    {
     "name": "stdin",
     "output_type": "stream",
     "text": [
      "맥주를 살 돈이 얼마나 있나요? 100\n"
     ]
    },
    {
     "name": "stdout",
     "output_type": "stream",
     "text": [
      "맥주 가격은 10$ 입니다.\n",
      "맥주를 10병 구매하실 수 있어요!\n",
      "==================================================\n",
      "맥주 마트에 오신 것을 환영합니다~! (종료 : 9999 입력)\n",
      "==================================================\n"
     ]
    },
    {
     "name": "stdin",
     "output_type": "stream",
     "text": [
      "맥주를 살 돈이 얼마나 있나요? 0\n"
     ]
    },
    {
     "name": "stdout",
     "output_type": "stream",
     "text": [
      "맥주 가격은 10$ 입니다.\n",
      "돈이 모자라네요.. 아쉽습니다.\n",
      "==================================================\n",
      "맥주 마트에 오신 것을 환영합니다~! (종료 : 9999 입력)\n",
      "==================================================\n"
     ]
    },
    {
     "name": "stdin",
     "output_type": "stream",
     "text": [
      "맥주를 살 돈이 얼마나 있나요? ㄷㄱㅈ\n"
     ]
    },
    {
     "name": "stdout",
     "output_type": "stream",
     "text": [
      "숫자로 입력해주세요!\n",
      "==================================================\n",
      "맥주 마트에 오신 것을 환영합니다~! (종료 : 9999 입력)\n",
      "==================================================\n"
     ]
    },
    {
     "ename": "KeyboardInterrupt",
     "evalue": "Interrupted by user",
     "output_type": "error",
     "traceback": [
      "\u001b[1;31m---------------------------------------------------------------------------\u001b[0m",
      "\u001b[1;31mKeyboardInterrupt\u001b[0m                         Traceback (most recent call last)",
      "\u001b[1;32m<ipython-input-79-6eef98e8c5c5>\u001b[0m in \u001b[0;36m<module>\u001b[1;34m\u001b[0m\n\u001b[0;32m      5\u001b[0m         \u001b[0mprint\u001b[0m\u001b[1;33m(\u001b[0m\u001b[1;34m\"=\"\u001b[0m\u001b[1;33m*\u001b[0m\u001b[1;36m50\u001b[0m\u001b[1;33m)\u001b[0m\u001b[1;33m\u001b[0m\u001b[1;33m\u001b[0m\u001b[0m\n\u001b[0;32m      6\u001b[0m \u001b[1;33m\u001b[0m\u001b[0m\n\u001b[1;32m----> 7\u001b[1;33m         \u001b[0mcost\u001b[0m \u001b[1;33m=\u001b[0m \u001b[0mint\u001b[0m\u001b[1;33m(\u001b[0m\u001b[0minput\u001b[0m\u001b[1;33m(\u001b[0m\u001b[1;34m\"맥주를 살 돈이 얼마나 있나요?\"\u001b[0m\u001b[1;33m)\u001b[0m\u001b[1;33m)\u001b[0m\u001b[1;33m\u001b[0m\u001b[1;33m\u001b[0m\u001b[0m\n\u001b[0m\u001b[0;32m      8\u001b[0m         \u001b[1;32mif\u001b[0m \u001b[0mcost\u001b[0m \u001b[1;33m==\u001b[0m \u001b[1;36m9999\u001b[0m\u001b[1;33m:\u001b[0m\u001b[1;33m\u001b[0m\u001b[1;33m\u001b[0m\u001b[0m\n\u001b[0;32m      9\u001b[0m             \u001b[0mprint\u001b[0m\u001b[1;33m(\u001b[0m\u001b[1;34m\"프로그램을 종료합니다!\"\u001b[0m\u001b[1;33m)\u001b[0m\u001b[1;33m\u001b[0m\u001b[1;33m\u001b[0m\u001b[0m\n",
      "\u001b[1;32m~\\anaconda3\\lib\\site-packages\\ipykernel\\kernelbase.py\u001b[0m in \u001b[0;36mraw_input\u001b[1;34m(self, prompt)\u001b[0m\n\u001b[0;32m    858\u001b[0m                 \u001b[1;34m\"raw_input was called, but this frontend does not support input requests.\"\u001b[0m\u001b[1;33m\u001b[0m\u001b[1;33m\u001b[0m\u001b[0m\n\u001b[0;32m    859\u001b[0m             )\n\u001b[1;32m--> 860\u001b[1;33m         return self._input_request(str(prompt),\n\u001b[0m\u001b[0;32m    861\u001b[0m             \u001b[0mself\u001b[0m\u001b[1;33m.\u001b[0m\u001b[0m_parent_ident\u001b[0m\u001b[1;33m,\u001b[0m\u001b[1;33m\u001b[0m\u001b[1;33m\u001b[0m\u001b[0m\n\u001b[0;32m    862\u001b[0m             \u001b[0mself\u001b[0m\u001b[1;33m.\u001b[0m\u001b[0m_parent_header\u001b[0m\u001b[1;33m,\u001b[0m\u001b[1;33m\u001b[0m\u001b[1;33m\u001b[0m\u001b[0m\n",
      "\u001b[1;32m~\\anaconda3\\lib\\site-packages\\ipykernel\\kernelbase.py\u001b[0m in \u001b[0;36m_input_request\u001b[1;34m(self, prompt, ident, parent, password)\u001b[0m\n\u001b[0;32m    902\u001b[0m             \u001b[1;32mexcept\u001b[0m \u001b[0mKeyboardInterrupt\u001b[0m\u001b[1;33m:\u001b[0m\u001b[1;33m\u001b[0m\u001b[1;33m\u001b[0m\u001b[0m\n\u001b[0;32m    903\u001b[0m                 \u001b[1;31m# re-raise KeyboardInterrupt, to truncate traceback\u001b[0m\u001b[1;33m\u001b[0m\u001b[1;33m\u001b[0m\u001b[1;33m\u001b[0m\u001b[0m\n\u001b[1;32m--> 904\u001b[1;33m                 \u001b[1;32mraise\u001b[0m \u001b[0mKeyboardInterrupt\u001b[0m\u001b[1;33m(\u001b[0m\u001b[1;34m\"Interrupted by user\"\u001b[0m\u001b[1;33m)\u001b[0m \u001b[1;32mfrom\u001b[0m \u001b[1;32mNone\u001b[0m\u001b[1;33m\u001b[0m\u001b[1;33m\u001b[0m\u001b[0m\n\u001b[0m\u001b[0;32m    905\u001b[0m             \u001b[1;32mexcept\u001b[0m \u001b[0mException\u001b[0m \u001b[1;32mas\u001b[0m \u001b[0me\u001b[0m\u001b[1;33m:\u001b[0m\u001b[1;33m\u001b[0m\u001b[1;33m\u001b[0m\u001b[0m\n\u001b[0;32m    906\u001b[0m                 \u001b[0mself\u001b[0m\u001b[1;33m.\u001b[0m\u001b[0mlog\u001b[0m\u001b[1;33m.\u001b[0m\u001b[0mwarning\u001b[0m\u001b[1;33m(\u001b[0m\u001b[1;34m\"Invalid Message:\"\u001b[0m\u001b[1;33m,\u001b[0m \u001b[0mexc_info\u001b[0m\u001b[1;33m=\u001b[0m\u001b[1;32mTrue\u001b[0m\u001b[1;33m)\u001b[0m\u001b[1;33m\u001b[0m\u001b[1;33m\u001b[0m\u001b[0m\n",
      "\u001b[1;31mKeyboardInterrupt\u001b[0m: Interrupted by user"
     ]
    }
   ],
   "source": [
    "while True:\n",
    "    try:\n",
    "        print(\"=\"*50)\n",
    "        print(\"맥주 마트에 오신 것을 환영합니다~! (종료 : 9999 입력)\")\n",
    "        print(\"=\"*50)\n",
    "\n",
    "        cost = int(input(\"맥주를 살 돈이 얼마나 있나요?\"))\n",
    "        if cost == 9999:\n",
    "            print(\"프로그램을 종료합니다!\")\n",
    "            break\n",
    "        beer_cost = 10\n",
    "        beer_count = int(cost/beer_cost)\n",
    "        print(\"맥주 가격은 \"+str(beer_cost)+\"$ 입니다.\")\n",
    "\n",
    "        if cost <= beer_cost:\n",
    "            print(\"돈이 모자라네요.. 아쉽습니다.\")\n",
    "        else:\n",
    "            print(\"맥주를 {0}병 구매하실 수 있어요!\".format(beer_count))\n",
    "    except ValueError:\n",
    "        print(\"숫자로 입력해주세요!\")\n",
    "    except Exception as all_e:\n",
    "        print('에러코드 : ', type(all_e))\n",
    "        print('에러내용 : ', all_e)"
   ]
  },
  {
   "cell_type": "markdown",
   "id": "da47f5ae-ad10-42b3-96e4-e02b7a05276e",
   "metadata": {},
   "source": [
    "## Raise"
   ]
  },
  {
   "cell_type": "code",
   "execution_count": 88,
   "id": "6badc299-b7df-48a3-8525-8741f39fe988",
   "metadata": {},
   "outputs": [
    {
     "name": "stdout",
     "output_type": "stream",
     "text": [
      "인공지능 모델 0.0.1_V\n",
      "--------------------\n"
     ]
    },
    {
     "name": "stdin",
     "output_type": "stream",
     "text": [
      "학습률을 입력하세요. (※ 4이하의 값으로 설정하세요.) 3\n",
      "학습 횟수를 결정하여 주세요. (※ 10이하의 값으로 설정하세요.) 3\n"
     ]
    },
    {
     "name": "stdout",
     "output_type": "stream",
     "text": [
      "학습 알고리즘을 동작 시키겠습니다.\n",
      "Epoch - 1 lr - 3.0\n",
      "Epoch - 2 lr - 3.0\n",
      "Epoch - 3 lr - 3.0\n",
      "학습이 모두 완료되었습니다.\n",
      "이용해 주셔서 감사합니다.\n",
      "여기는 인공지능 사관학교 입니다.\n"
     ]
    }
   ],
   "source": [
    "import time\n",
    "\n",
    "try:\n",
    "    print(\"인공지능 모델 0.0.1_V\")\n",
    "    print(\"--------------------\")\n",
    "    num1 = float(input(\"학습률을 입력하세요. (※ 4이하의 값으로 설정하세요.)\"))\n",
    "    num2 = int(input(\"학습 횟수를 결정하여 주세요. (※ 10이하의 값으로 설정하세요.)\"))\n",
    "    if num1 > 4 or num2 > 10:\n",
    "        raise ValueError\n",
    "    print(\"학습 알고리즘을 동작 시키겠습니다.\")\n",
    "    \n",
    "    for i in range(num2):\n",
    "        print(\"Epoch - {0} lr - {1}\".format(i+1, num1))\n",
    "        time.sleep(0.5)\n",
    "    print(\"학습이 모두 완료되었습니다.\")\n",
    "        \n",
    "except ValueError as val_e:\n",
    "    print(\"죄송합니다. 하이퍼 파라미터 값을 체크해주세요.\")\n",
    "    print(\"※\", type(val_e))\n",
    "# 무조건 실행\n",
    "finally:\n",
    "    print(\"이용해 주셔서 감사합니다.\")\n",
    "    print(\"여기는 인공지능 사관학교 입니다.\")"
   ]
  },
  {
   "cell_type": "code",
   "execution_count": null,
   "id": "e3819437-7392-4f67-b312-5015fcb0a343",
   "metadata": {},
   "outputs": [],
   "source": []
  }
 ],
 "metadata": {
  "kernelspec": {
   "display_name": "Python 3",
   "language": "python",
   "name": "python3"
  },
  "language_info": {
   "codemirror_mode": {
    "name": "ipython",
    "version": 3
   },
   "file_extension": ".py",
   "mimetype": "text/x-python",
   "name": "python",
   "nbconvert_exporter": "python",
   "pygments_lexer": "ipython3",
   "version": "3.8.8"
  }
 },
 "nbformat": 4,
 "nbformat_minor": 5
}
