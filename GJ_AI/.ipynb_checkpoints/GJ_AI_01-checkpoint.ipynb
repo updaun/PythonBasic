{
 "cells": [
  {
   "cell_type": "code",
   "execution_count": 1,
   "id": "9c9eccb0-f9a2-4961-bb68-be0f307a59bb",
   "metadata": {},
   "outputs": [],
   "source": [
    "import os"
   ]
  },
  {
   "cell_type": "code",
   "execution_count": 2,
   "id": "91fedbe5-3a40-4588-b8d8-1f7f191e45fe",
   "metadata": {},
   "outputs": [
    {
     "name": "stdout",
     "output_type": "stream",
     "text": [
      "C:\\Users\\jdu\\Desktop\\Projects\\PythonBasic\\GJ_AI\n"
     ]
    }
   ],
   "source": [
    "print(os.getcwd())"
   ]
  },
  {
   "cell_type": "code",
   "execution_count": 1,
   "id": "318e843f-5ca9-4201-be05-aa201488b3f7",
   "metadata": {},
   "outputs": [],
   "source": [
    "import numpy as np"
   ]
  },
  {
   "cell_type": "code",
   "execution_count": 2,
   "id": "bb715656-c380-4c08-929e-8fb73ac66a9f",
   "metadata": {},
   "outputs": [],
   "source": [
    "import pandas as pd"
   ]
  },
  {
   "cell_type": "code",
   "execution_count": 3,
   "id": "5225a925-0a61-4e98-8caa-72ddcb15adb9",
   "metadata": {},
   "outputs": [],
   "source": [
    "import tensorflow as tf"
   ]
  },
  {
   "cell_type": "code",
   "execution_count": 4,
   "id": "dc591f96-0ace-49c8-aef3-e9838f2243ef",
   "metadata": {},
   "outputs": [
    {
     "data": {
      "text/plain": [
       "'2.5.0'"
      ]
     },
     "execution_count": 4,
     "metadata": {},
     "output_type": "execute_result"
    }
   ],
   "source": [
    "tf.__version__"
   ]
  },
  {
   "cell_type": "markdown",
   "id": "0d7f5049-58e9-41e5-8e55-b7928881e4c0",
   "metadata": {},
   "source": [
    "# World Cup Predict"
   ]
  },
  {
   "cell_type": "code",
   "execution_count": 6,
   "id": "c495640e-eff2-404d-b8d0-f6baf0be4d6a",
   "metadata": {},
   "outputs": [
    {
     "name": "stdout",
     "output_type": "stream",
     "text": [
      "MSE :  18.666666666666668\n"
     ]
    }
   ],
   "source": [
    "AI = [15,12,18]\n",
    "Total = [21,10,14]\n",
    "sum = 0\n",
    "for i in range(len(AI)):\n",
    "    sum = (Total[i] - AI[i]) ** 2 +sum\n",
    "answer = sum / len(AI)\n",
    "print('MSE : ',answer)"
   ]
  },
  {
   "cell_type": "markdown",
   "id": "3c8c0593-e27c-4e10-a8df-61adbeedaf22",
   "metadata": {},
   "source": [
    "## formating!"
   ]
  },
  {
   "cell_type": "code",
   "execution_count": 15,
   "id": "cf7eda79-4bc8-4979-8107-eee7dcd8cf6b",
   "metadata": {},
   "outputs": [
    {
     "name": "stdout",
     "output_type": "stream",
     "text": [
      "learning_rate=0.001\n"
     ]
    }
   ],
   "source": [
    "# '{인덱스0}, {인덱스1}'.format(값0, 값1)\n",
    "\n",
    "learning_rate = 0.001\n",
    "\n",
    "print('learning_rate={}'.format(learning_rate))"
   ]
  },
  {
   "cell_type": "code",
   "execution_count": 23,
   "id": "797d46dc-f61d-4c49-bf51-6890584f8cd4",
   "metadata": {},
   "outputs": [
    {
     "name": "stdout",
     "output_type": "stream",
     "text": [
      "learning_rate=   0.00100\n"
     ]
    }
   ],
   "source": [
    "#{:10.5f} 앞은 자리수 확보, 뒤는 소수점 자리 \n",
    "learning_rate = 0.001\n",
    "\n",
    "print('learning_rate={:10.5f}'.format(learning_rate))"
   ]
  },
  {
   "cell_type": "markdown",
   "id": "9141ab22-93ed-4d6b-a1fd-ae6380e801a8",
   "metadata": {},
   "source": [
    "## find function!!\n",
    "### 못 찾으면 -1 을 반환한다!"
   ]
  },
  {
   "cell_type": "code",
   "execution_count": 24,
   "id": "c4ce314a-47fa-48a7-94ce-4134b203442d",
   "metadata": {},
   "outputs": [
    {
     "name": "stdout",
     "output_type": "stream",
     "text": [
      "C :  False\n",
      "D :  True\n"
     ]
    }
   ],
   "source": [
    "User_C = \"Give me some drugs\"\n",
    "User_D = \"see you tomorrow~\"\n",
    "C = User_C.find('drugs') == -1\n",
    "D = User_D.find('drugs') == -1\n",
    "print('C : ',C)\n",
    "print('D : ',D)"
   ]
  },
  {
   "cell_type": "markdown",
   "id": "c2b56fdf-5021-42e1-bde7-e2b05222ae2a",
   "metadata": {},
   "source": [
    "## index function!"
   ]
  },
  {
   "cell_type": "code",
   "execution_count": 25,
   "id": "9556e52e-9b21-4506-b57a-7e77b849f543",
   "metadata": {},
   "outputs": [
    {
     "ename": "ValueError",
     "evalue": "substring not found",
     "output_type": "error",
     "traceback": [
      "\u001b[1;31m---------------------------------------------------------------------------\u001b[0m",
      "\u001b[1;31mValueError\u001b[0m                                Traceback (most recent call last)",
      "\u001b[1;32m<ipython-input-25-e21c87a0f858>\u001b[0m in \u001b[0;36m<module>\u001b[1;34m\u001b[0m\n\u001b[0;32m      1\u001b[0m \u001b[0mdata\u001b[0m \u001b[1;33m=\u001b[0m \u001b[1;34m'Hello Artificial Intelligence'\u001b[0m\u001b[1;33m\u001b[0m\u001b[1;33m\u001b[0m\u001b[0m\n\u001b[1;32m----> 2\u001b[1;33m \u001b[0mdo_index\u001b[0m \u001b[1;33m=\u001b[0m \u001b[0mdata\u001b[0m\u001b[1;33m.\u001b[0m\u001b[0mindex\u001b[0m\u001b[1;33m(\u001b[0m\u001b[1;34m'drugs'\u001b[0m\u001b[1;33m)\u001b[0m\u001b[1;33m\u001b[0m\u001b[1;33m\u001b[0m\u001b[0m\n\u001b[0m\u001b[0;32m      3\u001b[0m \u001b[0mprint\u001b[0m\u001b[1;33m(\u001b[0m\u001b[0mdo_index\u001b[0m\u001b[1;33m)\u001b[0m\u001b[1;33m\u001b[0m\u001b[1;33m\u001b[0m\u001b[0m\n",
      "\u001b[1;31mValueError\u001b[0m: substring not found"
     ]
    }
   ],
   "source": [
    "data = 'Hello Artificial Intelligence'\n",
    "do_index = data.index('drugs')\n",
    "print(do_index)"
   ]
  },
  {
   "cell_type": "markdown",
   "id": "ee7f6cb2-8a2b-4f2e-88ed-a19da830a10c",
   "metadata": {},
   "source": [
    "## join function!!!"
   ]
  },
  {
   "cell_type": "code",
   "execution_count": 26,
   "id": "ae160479-d1b3-4c97-bb36-d5f1f31c911e",
   "metadata": {},
   "outputs": [
    {
     "name": "stdout",
     "output_type": "stream",
     "text": [
      "a,b,c,d,e,f\n"
     ]
    }
   ],
   "source": [
    "sep_key = ','\n",
    "data = sep_key.join('abcdef')\n",
    "print(data)"
   ]
  },
  {
   "cell_type": "code",
   "execution_count": 27,
   "id": "1e7cbe98-8dad-49d8-8ed7-d440e5c5970e",
   "metadata": {},
   "outputs": [
    {
     "name": "stdout",
     "output_type": "stream",
     "text": [
      "My Skills :  AI★Deep learning★Python★JAVA\n"
     ]
    }
   ],
   "source": [
    "sep_key = '★'\n",
    "data = ['AI','Deep learning', 'Python', 'JAVA']\n",
    "\n",
    "skills = sep_key.join(data)\n",
    "print(\"My Skills : \",skills)"
   ]
  },
  {
   "cell_type": "markdown",
   "id": "b004cb21-5fb3-4f28-9598-c9a5e50e8d55",
   "metadata": {},
   "source": [
    "## replace!"
   ]
  },
  {
   "cell_type": "code",
   "execution_count": 39,
   "id": "9d9d3589-464a-4023-a429-5ef57e01f561",
   "metadata": {},
   "outputs": [
    {
     "name": "stdout",
     "output_type": "stream",
     "text": [
      "i can do it\n"
     ]
    }
   ],
   "source": [
    "data = 'you can do it'\n",
    "replaced = data.replace('you','i')\n",
    "print(replaced)"
   ]
  },
  {
   "cell_type": "code",
   "execution_count": 40,
   "id": "0ee1bc4c-bd50-4a85-8d39-7fbc9884498d",
   "metadata": {},
   "outputs": [
    {
     "name": "stdin",
     "output_type": "stream",
     "text": [
      " 10\n",
      " 1.547\n"
     ]
    },
    {
     "name": "stdout",
     "output_type": "stream",
     "text": [
      "epoch : 10\n",
      "loss : 1.547\n",
      "----------Model_1 Training End----------\n"
     ]
    }
   ],
   "source": [
    "epoch = input()\n",
    "loss = input()\n",
    "\n",
    "model = 'Model_1'\n",
    "result = 'epoch : ' + epoch + '\\nloss : ' + loss\n",
    "print(result)\n",
    "\n",
    "print(\"-\" * 10 + model + \" Training End\" + \"-\" * 10)"
   ]
  },
  {
   "cell_type": "code",
   "execution_count": 41,
   "id": "80afc4ce-91d0-4948-9bf9-039d3d0b86ae",
   "metadata": {},
   "outputs": [
    {
     "name": "stdout",
     "output_type": "stream",
     "text": [
      "EPOCH : 10\n",
      "LOSS FUNCTION : 1.547\n",
      "----------Model_1 Training End----------\n"
     ]
    }
   ],
   "source": [
    "result = result.replace('epoch','EPOCH')\n",
    "result = result.replace('loss','LOSS FUNCTION')\n",
    "\n",
    "print(result)\n",
    "\n",
    "print(\"-\" * 10 + model + \" Training End\" + \"-\" * 10)"
   ]
  },
  {
   "cell_type": "code",
   "execution_count": 56,
   "id": "a6cd4e14-83c7-410d-999d-b8702600f26d",
   "metadata": {},
   "outputs": [
    {
     "name": "stdout",
     "output_type": "stream",
     "text": [
      "Epock  1\n",
      "train_model_acc = 89.123, train_model_loss = 0.014\n",
      "test_model_acc = 90.125, test_model_loss = 0.002\n"
     ]
    }
   ],
   "source": [
    "epoch = 1\n",
    "\n",
    "train_model_acc = 89.123\n",
    "test_model_acc = 90.125\n",
    "\n",
    "train_model_loss = 0.014\n",
    "test_model_loss = 0.002\n",
    "\n",
    "print('Epock ', epoch)\n",
    "train = 'train_model_acc = {:0.3f}, train_model_loss = {:0.3f}'.format(train_model_acc, train_model_loss)\n",
    "print(train)\n",
    "test = 'test_model_acc = {:0.3f}, test_model_loss = {:0.3f}'.format(test_model_acc, test_model_loss)\n",
    "print(test)"
   ]
  },
  {
   "cell_type": "code",
   "execution_count": 58,
   "id": "d27a32c5-5f0e-4082-bcd7-dae885839ff0",
   "metadata": {},
   "outputs": [
    {
     "name": "stdout",
     "output_type": "stream",
     "text": [
      "Train Model Acc = 89.123, Train Model Loss = 0.014 \n",
      "Test model acc = 90.125, test model loss = 0.002\n"
     ]
    }
   ],
   "source": [
    "train = train.replace(\"_\",\" \")\n",
    "train_list = train.split(\" \")\n",
    "train_new = []\n",
    "train_fin = ''\n",
    "for i in train_list:\n",
    "    train_new.append(i.capitalize())\n",
    "for i in train_new:\n",
    "    train_fin = train_fin + i +' '\n",
    "print(train_fin)\n",
    "\n",
    "test = test.replace(\"_\",\" \")\n",
    "test = test.capitalize()\n",
    "print(test)"
   ]
  },
  {
   "cell_type": "code",
   "execution_count": 82,
   "id": "c593b7e3-7d8a-468b-97f9-9a8caa3a3c1a",
   "metadata": {},
   "outputs": [
    {
     "data": {
      "text/html": [
       "<div>\n",
       "<style scoped>\n",
       "    .dataframe tbody tr th:only-of-type {\n",
       "        vertical-align: middle;\n",
       "    }\n",
       "\n",
       "    .dataframe tbody tr th {\n",
       "        vertical-align: top;\n",
       "    }\n",
       "\n",
       "    .dataframe thead th {\n",
       "        text-align: right;\n",
       "    }\n",
       "</style>\n",
       "<table border=\"1\" class=\"dataframe\">\n",
       "  <thead>\n",
       "    <tr style=\"text-align: right;\">\n",
       "      <th></th>\n",
       "      <th>0</th>\n",
       "      <th>1</th>\n",
       "      <th>2</th>\n",
       "      <th>3</th>\n",
       "      <th>4</th>\n",
       "      <th>5</th>\n",
       "      <th>6</th>\n",
       "      <th>7</th>\n",
       "      <th>8</th>\n",
       "      <th>9</th>\n",
       "      <th>10</th>\n",
       "      <th>11</th>\n",
       "      <th>12</th>\n",
       "      <th>13</th>\n",
       "      <th>14</th>\n",
       "      <th>15</th>\n",
       "      <th>16</th>\n",
       "    </tr>\n",
       "  </thead>\n",
       "  <tbody>\n",
       "    <tr>\n",
       "      <th>words</th>\n",
       "      <td>!</td>\n",
       "      <td>?</td>\n",
       "      <td>ai</td>\n",
       "      <td>are</td>\n",
       "      <td>bot.</td>\n",
       "      <td>doing</td>\n",
       "      <td>for</td>\n",
       "      <td>hi,</td>\n",
       "      <td>i'm</td>\n",
       "      <td>is</td>\n",
       "      <td>math</td>\n",
       "      <td>now?</td>\n",
       "      <td>oh</td>\n",
       "      <td>studing</td>\n",
       "      <td>what</td>\n",
       "      <td>you</td>\n",
       "      <td>~</td>\n",
       "    </tr>\n",
       "    <tr>\n",
       "      <th>counts</th>\n",
       "      <td>1</td>\n",
       "      <td>1</td>\n",
       "      <td>3</td>\n",
       "      <td>1</td>\n",
       "      <td>1</td>\n",
       "      <td>1</td>\n",
       "      <td>1</td>\n",
       "      <td>1</td>\n",
       "      <td>2</td>\n",
       "      <td>1</td>\n",
       "      <td>1</td>\n",
       "      <td>1</td>\n",
       "      <td>1</td>\n",
       "      <td>1</td>\n",
       "      <td>2</td>\n",
       "      <td>1</td>\n",
       "      <td>1</td>\n",
       "    </tr>\n",
       "  </tbody>\n",
       "</table>\n",
       "</div>"
      ],
      "text/plain": [
       "       0  1   2    3     4      5    6    7    8   9     10    11  12  \\\n",
       "words   !  ?  ai  are  bot.  doing  for  hi,  i'm  is  math  now?  oh   \n",
       "counts  1  1   3    1     1      1    1    1    2   1     1     1   1   \n",
       "\n",
       "             13    14   15 16  \n",
       "words   studing  what  you  ~  \n",
       "counts        1     2    1  1  "
      ]
     },
     "execution_count": 82,
     "metadata": {},
     "output_type": "execute_result"
    }
   ],
   "source": [
    "row_1 = \"HI, I'm AI BOT.\"\n",
    "row_2 = 'What are you doing now?'\n",
    "row_3 = \"I'm studing ai for math\"\n",
    "row_4 = \"oh ~ ! what is ai ?\" \n",
    "\n",
    "row_1 = row_1.lower()\n",
    "row_2 = row_2.lower()\n",
    "row_3 = row_3.lower()\n",
    "row_4 = row_4.lower()\n",
    "\n",
    "row_1 = row_1.split(' ')\n",
    "row_2 = row_2.split(' ')\n",
    "row_3 = row_3.split(' ')\n",
    "row_4 = row_4.split(' ')\n",
    "\n",
    "test = []\n",
    "for i in row_1:\n",
    "    test.append(i)\n",
    "for i in row_2:\n",
    "    test.append(i)\n",
    "for i in row_3:\n",
    "    test.append(i)\n",
    "for i in row_4:\n",
    "    test.append(i)\n",
    "\n",
    "test_set = sorted(set(test))\n",
    "    \n",
    "count = []\n",
    "for i in test_set:\n",
    "    count.append(test.count(i))\n",
    "    \n",
    "test_list = list(test_set)\n",
    "\n",
    "import pandas as pd\n",
    "\n",
    "df = pd.DataFrame({'words':test_list, 'counts':count})\n",
    "df.T"
   ]
  },
  {
   "cell_type": "code",
   "execution_count": null,
   "id": "04e08ddd-0390-48f8-9481-9a0d2b4e7950",
   "metadata": {},
   "outputs": [],
   "source": []
  }
 ],
 "metadata": {
  "kernelspec": {
   "display_name": "Python 3",
   "language": "python",
   "name": "python3"
  },
  "language_info": {
   "codemirror_mode": {
    "name": "ipython",
    "version": 3
   },
   "file_extension": ".py",
   "mimetype": "text/x-python",
   "name": "python",
   "nbconvert_exporter": "python",
   "pygments_lexer": "ipython3",
   "version": "3.8.10"
  }
 },
 "nbformat": 4,
 "nbformat_minor": 5
}
