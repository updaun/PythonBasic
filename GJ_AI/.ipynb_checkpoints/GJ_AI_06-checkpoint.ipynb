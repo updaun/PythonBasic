{
 "cells": [
  {
   "cell_type": "markdown",
   "id": "9352d034-6458-4291-a41c-89e9ee952ffb",
   "metadata": {},
   "source": [
    "# NumPy"
   ]
  },
  {
   "cell_type": "code",
   "execution_count": 55,
   "id": "6d671696-e414-4110-a1ad-cc275ab9138c",
   "metadata": {},
   "outputs": [],
   "source": [
    "import numpy as np"
   ]
  },
  {
   "cell_type": "code",
   "execution_count": 16,
   "id": "aa053673-cba6-44fc-8cf4-95fbee0d7e45",
   "metadata": {},
   "outputs": [
    {
     "data": {
      "text/plain": [
       "array([0, 1, 2, 3, 4])"
      ]
     },
     "metadata": {},
     "output_type": "display_data"
    }
   ],
   "source": [
    "a = np.array([0,1,2,3,4])\n",
    "display(a)"
   ]
  },
  {
   "cell_type": "code",
   "execution_count": 17,
   "id": "638469e7-c3dd-42a4-87a9-7b35dd9c9579",
   "metadata": {},
   "outputs": [
    {
     "name": "stdout",
     "output_type": "stream",
     "text": [
      "(5,)\n"
     ]
    }
   ],
   "source": [
    "print(a.shape)"
   ]
  },
  {
   "cell_type": "code",
   "execution_count": 18,
   "id": "c896dce5-97c9-424f-b517-b38bddd3d930",
   "metadata": {},
   "outputs": [
    {
     "name": "stdout",
     "output_type": "stream",
     "text": [
      "<class 'numpy.ndarray'>\n"
     ]
    }
   ],
   "source": [
    "# numpy.ndarray = n demension = n 차원\n",
    "print(type(a))"
   ]
  },
  {
   "cell_type": "code",
   "execution_count": 19,
   "id": "14bf9c24-6bb6-49c4-ab75-da76405b93ef",
   "metadata": {},
   "outputs": [
    {
     "name": "stdout",
     "output_type": "stream",
     "text": [
      "(3, 4)\n",
      "[[0.455 0.365 0.095 0.123]\n",
      " [0.35  0.265 0.09  0.15 ]\n",
      " [0.44  0.365 0.125 0.157]]\n"
     ]
    }
   ],
   "source": [
    "# 행 - 3개, 열 - 4개\n",
    "D_2 = np.array([[0.455, 0.365, 0.095,0.123],\n",
    "               [0.35, 0.265, 0.09,0.15],\n",
    "               [0.44, 0.365, 0.125, 0.157]])\n",
    "print(D_2.shape)\n",
    "print(D_2)"
   ]
  },
  {
   "cell_type": "code",
   "execution_count": 20,
   "id": "3b862e40-0b11-4d9b-8b9d-865cc13c1503",
   "metadata": {},
   "outputs": [
    {
     "name": "stdout",
     "output_type": "stream",
     "text": [
      "D_2.ndim :  2\n",
      "a.ndim :  1\n"
     ]
    }
   ],
   "source": [
    "# .ndim : 차원 수 구하기\n",
    "print(\"D_2.ndim : \", D_2.ndim)\n",
    "print(\"a.ndim : \", a.ndim)"
   ]
  },
  {
   "cell_type": "code",
   "execution_count": 21,
   "id": "04f7dcff-a74a-470f-a743-fb943446dbc1",
   "metadata": {},
   "outputs": [],
   "source": [
    "D_3 = np.array([[[0,1,2],\n",
    "                [3,4,5]],\n",
    "               [[6,7,8],\n",
    "               [9,10,11]]])"
   ]
  },
  {
   "cell_type": "code",
   "execution_count": 22,
   "id": "2127d06e-86d9-43c7-bd46-a8c3893fe776",
   "metadata": {},
   "outputs": [
    {
     "name": "stdout",
     "output_type": "stream",
     "text": [
      "[[[ 0  1  2]\n",
      "  [ 3  4  5]]\n",
      "\n",
      " [[ 6  7  8]\n",
      "  [ 9 10 11]]]\n"
     ]
    }
   ],
   "source": [
    "print(D_3)"
   ]
  },
  {
   "cell_type": "code",
   "execution_count": 23,
   "id": "ea4d2c12-f159-432b-87d4-bf5b5e2ad764",
   "metadata": {},
   "outputs": [
    {
     "name": "stdout",
     "output_type": "stream",
     "text": [
      "D_3.ndim :  3\n",
      "np.shape(D_3) :  (2, 2, 3)\n"
     ]
    }
   ],
   "source": [
    "print(\"D_3.ndim : \", D_3.ndim)\n",
    "print(\"np.shape(D_3) : \", np.shape(D_3))"
   ]
  },
  {
   "cell_type": "markdown",
   "id": "eabd7059-850b-41b6-9518-ab024f95955d",
   "metadata": {},
   "source": [
    "## Fashion_Mnist"
   ]
  },
  {
   "cell_type": "code",
   "execution_count": 24,
   "id": "94df07d9-2912-4998-a803-0f696cbf761a",
   "metadata": {},
   "outputs": [
    {
     "name": "stdout",
     "output_type": "stream",
     "text": [
      "2.5.0\n"
     ]
    }
   ],
   "source": [
    "import tensorflow as tf\n",
    "print(tf.__version__)"
   ]
  },
  {
   "cell_type": "code",
   "execution_count": 25,
   "id": "001bad09-a013-44ee-9f15-c959ccd1e4b5",
   "metadata": {},
   "outputs": [],
   "source": [
    "fashion_mnist = tf.keras.datasets.fashion_mnist"
   ]
  },
  {
   "cell_type": "code",
   "execution_count": 26,
   "id": "464f5906-a573-43e2-8104-4a7dedcaf370",
   "metadata": {},
   "outputs": [
    {
     "name": "stdout",
     "output_type": "stream",
     "text": [
      "60000 10000\n"
     ]
    }
   ],
   "source": [
    "(train_X, train_Y), (test_X, test_Y) = fashion_mnist.load_data()\n",
    "print(len(train_X), len(test_X))"
   ]
  },
  {
   "cell_type": "code",
   "execution_count": 38,
   "id": "fcd354af-ab18-4c56-a948-422481f0706a",
   "metadata": {},
   "outputs": [
    {
     "data": {
      "image/png": "[encoded data removed]",
      "text/plain": [
       "<Figure size 432x288 with 2 Axes>"
      ]
     },
     "metadata": {
      "needs_background": "light"
     },
     "output_type": "display_data"
    }
   ],
   "source": [
    "import matplotlib.pyplot as plt\n",
    "\n",
    "plt.imshow(train_X[3], cmap='gray') # 'pink' 도 가능\n",
    "plt.colorbar() # 우측에 나와 있는 Bar\n",
    "plt.show()"
   ]
  },
  {
   "cell_type": "code",
   "execution_count": 39,
   "id": "4571ad73-f496-4b18-875c-62b9cf3acb69",
   "metadata": {},
   "outputs": [
    {
     "data": {
      "text/plain": [
       "array([[  0,   0,   0,   0,   0,   0,   0,   0,  33,  96, 175, 156,  64,\n",
       "         14,  54, 137, 204, 194, 102,   0,   0,   0,   0,   0,   0,   0,\n",
       "          0,   0],\n",
       "       [  0,   0,   0,   0,   0,   0,  73, 186, 177, 183, 175, 188, 232,\n",
       "        255, 223, 219, 194, 179, 186, 213, 146,   0,   0,   0,   0,   0,\n",
       "          0,   0],\n",
       "       [  0,   0,   0,   0,   0,  35, 163, 140, 150, 152, 150, 146, 175,\n",
       "        175, 173, 171, 156, 152, 148, 129, 156, 140,   0,   0,   0,   0,\n",
       "          0,   0],\n",
       "       [  0,   0,   0,   0,   0, 150, 142, 140, 152, 160, 156, 146, 142,\n",
       "        127, 135, 133, 140, 140, 137, 133, 125, 169,  75,   0,   0,   0,\n",
       "          0,   0],\n",
       "       [  0,   0,   0,   0,   0,  54, 167, 146, 129, 142, 137, 137, 131,\n",
       "        148, 148, 133, 131, 131, 131, 125, 140, 140,   0,   0,   0,   0,\n",
       "          0,   0],\n",
       "       [  0,   0,   0,   0,   0,   0, 110, 188, 133, 146, 152, 133, 125,\n",
       "        127, 119, 129, 133, 119, 140, 131, 150,  14,   0,   0,   0,   0,\n",
       "          0,   0],\n",
       "       [  0,   0,   0,   0,   0,   0,   0, 221, 158, 137, 135, 123, 110,\n",
       "        110, 114, 108, 112, 117, 127, 142,  77,   0,   0,   0,   0,   0,\n",
       "          0,   0],\n",
       "       [  0,   0,   0,   0,   0,   4,   0,  25, 158, 137, 125, 119, 119,\n",
       "        110, 117, 117, 110, 119, 127, 144,   0,   0,   0,   0,   0,   0,\n",
       "          0,   0],\n",
       "       [  0,   0,   0,   0,   0,   0,   0,   0, 123, 156, 129, 112, 110,\n",
       "        102, 112, 100, 121, 117, 129, 114,   0,   0,   0,   0,   0,   0,\n",
       "          0,   0],\n",
       "       [  0,   0,   0,   0,   0,   0,   0,   0, 125, 169, 127, 119, 106,\n",
       "        108, 104,  94, 121, 114, 129,  91,   0,   0,   0,   0,   0,   0,\n",
       "          0,   0],\n",
       "       [  0,   0,   0,   0,   0,   0,   2,   0,  98, 171, 129, 112, 104,\n",
       "        114, 106, 102, 112, 104, 133,  64,   0,   4,   0,   0,   0,   0,\n",
       "          0,   0],\n",
       "       [  0,   0,   0,   0,   0,   0,   2,   0,  66, 173, 135, 129,  98,\n",
       "        100, 119, 102, 108,  98, 135,  60,   0,   4,   0,   0,   0,   0,\n",
       "          0,   0],\n",
       "       [  0,   0,   0,   0,   0,   0,   2,   0,  56, 171, 135, 127, 100,\n",
       "        108, 117,  85, 106, 110, 135,  66,   0,   4,   0,   0,   0,   0,\n",
       "          0,   0],\n",
       "       [  0,   0,   0,   0,   0,   0,   0,   0,  52, 150, 129, 110, 100,\n",
       "         91, 102,  94,  83, 104, 123,  66,   0,   4,   0,   0,   0,   0,\n",
       "          0,   0],\n",
       "       [  0,   0,   0,   0,   0,   0,   2,   0,  66, 167, 140, 148, 148,\n",
       "        127, 137, 152, 146, 146, 148,  96,   0,   0,   0,   0,   0,   0,\n",
       "          0,   0],\n",
       "       [  0,   0,   0,   0,   0,   0,   0,   0,  45, 123,  94, 104,  96,\n",
       "        119, 121, 106,  98, 112,  87, 114,   0,   0,   0,   0,   0,   0,\n",
       "          0,   0],\n",
       "       [  0,   0,   0,   0,   0,   0,   0,   0, 106,  89,  58,  50,  37,\n",
       "         50,  66,  56,  50,  75,  75, 137,  22,   0,   2,   0,   0,   0,\n",
       "          0,   0],\n",
       "       [  0,   0,   0,   0,   0,   2,   0,  29, 148, 114, 106, 125,  89,\n",
       "        100, 133, 117, 131, 131, 131, 125, 112,   0,   0,   0,   0,   0,\n",
       "          0,   0],\n",
       "       [  0,   0,   0,   0,   0,   0,   0, 100, 106, 114,  91, 137,  62,\n",
       "        102, 131,  89, 135, 112, 131, 108, 135,  37,   0,   0,   0,   0,\n",
       "          0,   0],\n",
       "       [  0,   0,   0,   0,   0,   0,   0, 146, 100, 108,  98, 144,  62,\n",
       "        106, 131,  87, 133, 104, 160, 117, 121,  68,   0,   0,   0,   0,\n",
       "          0,   0],\n",
       "       [  0,   0,   0,   0,   0,   0,  33, 121, 108,  96, 100, 140,  71,\n",
       "        106, 127,  85, 140, 104, 150, 140, 114,  89,   0,   0,   0,   0,\n",
       "          0,   0],\n",
       "       [  0,   0,   0,   0,   0,   0,  62, 119, 112, 102, 110, 137,  75,\n",
       "        106, 144,  81, 144, 108, 117, 154, 117, 104,  18,   0,   0,   0,\n",
       "          0,   0],\n",
       "       [  0,   0,   0,   0,   0,   0,  66, 121, 102, 112, 117, 131,  73,\n",
       "        104, 156,  77, 137, 135,  83, 179, 129, 121,  35,   0,   0,   0,\n",
       "          0,   0],\n",
       "       [  0,   0,   0,   0,   0,   0,  85, 127,  81, 125, 133, 119,  79,\n",
       "        100, 169,  83, 129, 175,  60, 163, 135, 146,  39,   0,   0,   0,\n",
       "          0,   0],\n",
       "       [  0,   0,   0,   0,   0,   0, 106, 129,  62, 140, 144, 108,  85,\n",
       "         83, 158,  85, 129, 175,  48, 146, 133, 135,  64,   0,   0,   0,\n",
       "          0,   0],\n",
       "       [  0,   0,   0,   0,   0,   0, 117, 119,  79, 140, 152, 102,  89,\n",
       "        110, 137,  96, 150, 196,  83, 144, 135, 133,  77,   0,   0,   0,\n",
       "          0,   0],\n",
       "       [  0,   0,   0,   0,   0,   0, 154, 121,  87, 140, 154, 112,  94,\n",
       "         52, 142, 100,  83, 152,  85, 160, 133, 100,  12,   0,   0,   0,\n",
       "          0,   0],\n",
       "       [  0,   0,   0,   0,   0,   0,   4,   0,   2,   0,  35,   4,  33,\n",
       "          0,   0,   0,   0,   0,   0,   0,   0,   0,   0,   0,   0,   0,\n",
       "          0,   0]], dtype=uint8)"
      ]
     },
     "execution_count": 39,
     "metadata": {},
     "output_type": "execute_result"
    }
   ],
   "source": [
    "train_X[3]"
   ]
  },
  {
   "cell_type": "code",
   "execution_count": 40,
   "id": "a396a0d6-bcf5-4b6d-b921-d6ea3715b7b8",
   "metadata": {},
   "outputs": [
    {
     "name": "stdout",
     "output_type": "stream",
     "text": [
      "train_Y[3] :  3\n"
     ]
    }
   ],
   "source": [
    "print(\"train_Y[3] : \", train_Y[3]) # 3 : dress"
   ]
  },
  {
   "cell_type": "code",
   "execution_count": 41,
   "id": "ca44d380-f63d-4479-ab65-c21086f614d7",
   "metadata": {},
   "outputs": [
    {
     "name": "stdout",
     "output_type": "stream",
     "text": [
      "train_Y[2] :  0\n"
     ]
    }
   ],
   "source": [
    "print(\"train_Y[2] : \", train_Y[2]) # 0 : T-shits"
   ]
  },
  {
   "cell_type": "code",
   "execution_count": 42,
   "id": "1d4194bb-886c-4db7-931f-b7cf5b390d60",
   "metadata": {},
   "outputs": [
    {
     "name": "stdout",
     "output_type": "stream",
     "text": [
      "train_X[3].shape :  (28, 28)\n",
      "train_X[3].ndim :  2\n"
     ]
    }
   ],
   "source": [
    "print(\"train_X[3].shape : \", train_X[3].shape)\n",
    "print(\"train_X[3].ndim : \", train_X[3].ndim) # 데이터의 개수 포함시 차원이 1 증가"
   ]
  },
  {
   "cell_type": "code",
   "execution_count": 43,
   "id": "49be1684-fac7-4b4b-a044-feabd64d11ce",
   "metadata": {},
   "outputs": [],
   "source": [
    "train_X_flat = train_X[0].flatten()"
   ]
  },
  {
   "cell_type": "code",
   "execution_count": 44,
   "id": "fd4f2ef2-5bc7-4139-a298-850fd86453b4",
   "metadata": {},
   "outputs": [
    {
     "data": {
      "text/plain": [
       "(784,)"
      ]
     },
     "execution_count": 44,
     "metadata": {},
     "output_type": "execute_result"
    }
   ],
   "source": [
    "train_X_flat.shape"
   ]
  },
  {
   "cell_type": "code",
   "execution_count": 45,
   "id": "003dba9c-06c1-4def-8834-59d05d617e1c",
   "metadata": {},
   "outputs": [
    {
     "data": {
      "text/plain": [
       "1"
      ]
     },
     "execution_count": 45,
     "metadata": {},
     "output_type": "execute_result"
    }
   ],
   "source": [
    "train_X_flat.ndim"
   ]
  },
  {
   "cell_type": "code",
   "execution_count": 47,
   "id": "f46818f8-0b39-439c-ad46-8cf00f87381a",
   "metadata": {},
   "outputs": [
    {
     "data": {
      "text/plain": [
       "array([  0,   0,   0,   0,   0,   0,   0,   0,   0,   0,   0,   0,   0,\n",
       "         0,   0,   0,   0,   0,   0,   0,   0,   0,   0,   0,   0,   0,\n",
       "         0,   0,   0,   0,   0,   0,   0,   0,   0,   0,   0,   0,   0,\n",
       "         0,   0,   0,   0,   0,   0,   0,   0,   0,   0,   0,   0,   0,\n",
       "         0,   0,   0,   0,   0,   0,   0,   0,   0,   0,   0,   0,   0,\n",
       "         0,   0,   0,   0,   0,   0,   0,   0,   0,   0,   0,   0,   0,\n",
       "         0,   0,   0,   0,   0,   0,   0,   0,   0,   0,   0,   0,   0,\n",
       "         0,   0,   0,   0,   0,   1,   0,   0,  13,  73,   0,   0,   1,\n",
       "         4,   0,   0,   0,   0,   1,   1,   0,   0,   0,   0,   0,   0,\n",
       "         0,   0,   0,   0,   0,   0,   0,   3,   0,  36, 136, 127,  62,\n",
       "        54,   0,   0,   0,   1,   3,   4,   0,   0,   3,   0,   0,   0,\n",
       "         0,   0,   0,   0,   0,   0,   0,   0,   0,   6,   0, 102, 204,\n",
       "       176, 134, 144, 123,  23,   0,   0,   0,   0,  12,  10,   0,   0,\n",
       "         0,   0,   0,   0,   0,   0,   0,   0,   0,   0,   0,   0,   0,\n",
       "       155, 236, 207, 178, 107, 156, 161, 109,  64,  23,  77, 130,  72,\n",
       "        15,   0,   0,   0,   0,   0,   0,   0,   0,   0,   0,   0,   1,\n",
       "         0,  69, 207, 223, 218, 216, 216, 163, 127, 121, 122, 146, 141,\n",
       "        88, 172,  66,   0,   0,   0,   0,   0,   0,   0,   0,   0,   1,\n",
       "         1,   1,   0, 200, 232, 232, 233, 229, 223, 223, 215, 213, 164,\n",
       "       127, 123, 196, 229,   0,   0,   0,   0,   0,   0,   0,   0,   0,\n",
       "         0,   0,   0,   0,   0, 183, 225, 216, 223, 228, 235, 227, 224,\n",
       "       222, 224, 221, 223, 245, 173,   0,   0,   0,   0,   0,   0,   0,\n",
       "         0,   0,   0,   0,   0,   0,   0, 193, 228, 218, 213, 198, 180,\n",
       "       212, 210, 211, 213, 223, 220, 243, 202,   0,   0,   0,   0,   0,\n",
       "         0,   0,   0,   0,   0,   1,   3,   0,  12, 219, 220, 212, 218,\n",
       "       192, 169, 227, 208, 218, 224, 212, 226, 197, 209,  52,   0,   0,\n",
       "         0,   0,   0,   0,   0,   0,   0,   0,   6,   0,  99, 244, 222,\n",
       "       220, 218, 203, 198, 221, 215, 213, 222, 220, 245, 119, 167,  56,\n",
       "         0,   0,   0,   0,   0,   0,   0,   0,   0,   4,   0,   0,  55,\n",
       "       236, 228, 230, 228, 240, 232, 213, 218, 223, 234, 217, 217, 209,\n",
       "        92,   0,   0,   0,   1,   4,   6,   7,   2,   0,   0,   0,   0,\n",
       "         0, 237, 226, 217, 223, 222, 219, 222, 221, 216, 223, 229, 215,\n",
       "       218, 255,  77,   0,   0,   3,   0,   0,   0,   0,   0,   0,   0,\n",
       "        62, 145, 204, 228, 207, 213, 221, 218, 208, 211, 218, 224, 223,\n",
       "       219, 215, 224, 244, 159,   0,   0,   0,   0,   0,  18,  44,  82,\n",
       "       107, 189, 228, 220, 222, 217, 226, 200, 205, 211, 230, 224, 234,\n",
       "       176, 188, 250, 248, 233, 238, 215,   0,   0,  57, 187, 208, 224,\n",
       "       221, 224, 208, 204, 214, 208, 209, 200, 159, 245, 193, 206, 223,\n",
       "       255, 255, 221, 234, 221, 211, 220, 232, 246,   0,   3, 202, 228,\n",
       "       224, 221, 211, 211, 214, 205, 205, 205, 220, 240,  80, 150, 255,\n",
       "       229, 221, 188, 154, 191, 210, 204, 209, 222, 228, 225,   0,  98,\n",
       "       233, 198, 210, 222, 229, 229, 234, 249, 220, 194, 215, 217, 241,\n",
       "        65,  73, 106, 117, 168, 219, 221, 215, 217, 223, 223, 224, 229,\n",
       "        29,  75, 204, 212, 204, 193, 205, 211, 225, 216, 185, 197, 206,\n",
       "       198, 213, 240, 195, 227, 245, 239, 223, 218, 212, 209, 222, 220,\n",
       "       221, 230,  67,  48, 203, 183, 194, 213, 197, 185, 190, 194, 192,\n",
       "       202, 214, 219, 221, 220, 236, 225, 216, 199, 206, 186, 181, 177,\n",
       "       172, 181, 205, 206, 115,   0, 122, 219, 193, 179, 171, 183, 196,\n",
       "       204, 210, 213, 207, 211, 210, 200, 196, 194, 191, 195, 191, 198,\n",
       "       192, 176, 156, 167, 177, 210,  92,   0,   0,  74, 189, 212, 191,\n",
       "       175, 172, 175, 181, 185, 188, 189, 188, 193, 198, 204, 209, 210,\n",
       "       210, 211, 188, 188, 194, 192, 216, 170,   0,   2,   0,   0,   0,\n",
       "        66, 200, 222, 237, 239, 242, 246, 243, 244, 221, 220, 193, 191,\n",
       "       179, 182, 182, 181, 176, 166, 168,  99,  58,   0,   0,   0,   0,\n",
       "         0,   0,   0,   0,   0,  40,  61,  44,  72,  41,  35,   0,   0,\n",
       "         0,   0,   0,   0,   0,   0,   0,   0,   0,   0,   0,   0,   0,\n",
       "         0,   0,   0,   0,   0,   0,   0,   0,   0,   0,   0,   0,   0,\n",
       "         0,   0,   0,   0,   0,   0,   0,   0,   0,   0,   0,   0,   0,\n",
       "         0,   0,   0,   0,   0,   0,   0,   0,   0,   0,   0,   0,   0,\n",
       "         0,   0,   0,   0,   0,   0,   0,   0,   0,   0,   0,   0,   0,\n",
       "         0,   0,   0,   0], dtype=uint8)"
      ]
     },
     "execution_count": 47,
     "metadata": {},
     "output_type": "execute_result"
    }
   ],
   "source": [
    "train_X_flat"
   ]
  },
  {
   "cell_type": "code",
   "execution_count": 52,
   "id": "5e62177a-37a2-4f34-8233-48e5cc05a7e0",
   "metadata": {},
   "outputs": [
    {
     "name": "stdout",
     "output_type": "stream",
     "text": [
      "input_cnt :  784\n"
     ]
    }
   ],
   "source": [
    "input_cnt = len(train_X_flat)\n",
    "print(\"input_cnt : \", input_cnt)"
   ]
  },
  {
   "cell_type": "code",
   "execution_count": 53,
   "id": "073546b1-e9ca-4b90-9d2f-6e21456369ba",
   "metadata": {},
   "outputs": [
    {
     "name": "stdout",
     "output_type": "stream",
     "text": [
      "output_cnt :  10\n"
     ]
    }
   ],
   "source": [
    "output_cnt = len(set(train_Y))\n",
    "print(\"output_cnt : \", output_cnt)"
   ]
  },
  {
   "cell_type": "code",
   "execution_count": 56,
   "id": "546c4419-afd4-4b2e-8e81-df25f9c97bc9",
   "metadata": {},
   "outputs": [],
   "source": [
    "weight = np.random.normal(0, 1, [input_cnt, output_cnt])\n",
    "bias = np.random.normal(0, 1, [output_cnt])\n",
    "\n",
    "parameter ={'w' : weight, 'b' : bias}"
   ]
  },
  {
   "cell_type": "code",
   "execution_count": 57,
   "id": "ce8f76ac-f7bf-420b-80b7-4cb86131651e",
   "metadata": {},
   "outputs": [
    {
     "data": {
      "text/plain": [
       "(784, 10)"
      ]
     },
     "execution_count": 57,
     "metadata": {},
     "output_type": "execute_result"
    }
   ],
   "source": [
    "parameter['w'].shape"
   ]
  },
  {
   "cell_type": "code",
   "execution_count": 59,
   "id": "f567cad8-6069-466a-bfae-3eaa78465f70",
   "metadata": {},
   "outputs": [
    {
     "data": {
      "text/plain": [
       "1"
      ]
     },
     "execution_count": 59,
     "metadata": {},
     "output_type": "execute_result"
    }
   ],
   "source": [
    "parameter['b'].ndim"
   ]
  },
  {
   "cell_type": "code",
   "execution_count": 60,
   "id": "289254af-6798-4734-a063-44f50947347a",
   "metadata": {},
   "outputs": [],
   "source": [
    "import pandas as pd"
   ]
  },
  {
   "cell_type": "code",
   "execution_count": 61,
   "id": "c78ede01-5bc1-4a3b-837b-5552f7aed53e",
   "metadata": {},
   "outputs": [],
   "source": [
    "df_w = pd.DataFrame(parameter['w'],\n",
    "            columns=['w1','w2','w3','w4','w5','w6','w7','w8','w9','w10'])"
   ]
  },
  {
   "cell_type": "code",
   "execution_count": 62,
   "id": "d0806112-ff6b-48d4-8762-9a7d6af991de",
   "metadata": {},
   "outputs": [],
   "source": [
    "df_b = pd.DataFrame(parameter['b'], columns=['b'])"
   ]
  },
  {
   "cell_type": "code",
   "execution_count": 63,
   "id": "472b6de1-3e9c-46a6-a8ff-94d3dda101a1",
   "metadata": {},
   "outputs": [],
   "source": [
    "df_input = pd.DataFrame(train_X_flat, columns=['input_data'])"
   ]
  },
  {
   "cell_type": "code",
   "execution_count": 65,
   "id": "32fe6b30-b8ff-43a3-ab86-df302dfbf398",
   "metadata": {},
   "outputs": [],
   "source": [
    "# 데이터 프레임 결합\n",
    "df_data = pd.concat([df_input, df_w, df_b], axis = 1)"
   ]
  },
  {
   "cell_type": "code",
   "execution_count": 67,
   "id": "bf1b8692-ece4-4bd2-8414-ded8ba9d4495",
   "metadata": {},
   "outputs": [
    {
     "data": {
      "text/html": [
       "<div>\n",
       "<style scoped>\n",
       "    .dataframe tbody tr th:only-of-type {\n",
       "        vertical-align: middle;\n",
       "    }\n",
       "\n",
       "    .dataframe tbody tr th {\n",
       "        vertical-align: top;\n",
       "    }\n",
       "\n",
       "    .dataframe thead th {\n",
       "        text-align: right;\n",
       "    }\n",
       "</style>\n",
       "<table border=\"1\" class=\"dataframe\">\n",
       "  <thead>\n",
       "    <tr style=\"text-align: right;\">\n",
       "      <th></th>\n",
       "      <th>input_data</th>\n",
       "      <th>w1</th>\n",
       "      <th>w2</th>\n",
       "      <th>w3</th>\n",
       "      <th>w4</th>\n",
       "      <th>w5</th>\n",
       "      <th>w6</th>\n",
       "      <th>w7</th>\n",
       "      <th>w8</th>\n",
       "      <th>w9</th>\n",
       "      <th>w10</th>\n",
       "      <th>b</th>\n",
       "    </tr>\n",
       "  </thead>\n",
       "  <tbody>\n",
       "    <tr>\n",
       "      <th>0</th>\n",
       "      <td>0</td>\n",
       "      <td>-0.046705</td>\n",
       "      <td>-0.074126</td>\n",
       "      <td>0.384028</td>\n",
       "      <td>-1.499821</td>\n",
       "      <td>-0.866588</td>\n",
       "      <td>1.497176</td>\n",
       "      <td>1.732293</td>\n",
       "      <td>0.300914</td>\n",
       "      <td>-0.760770</td>\n",
       "      <td>-0.060739</td>\n",
       "      <td>-1.033988</td>\n",
       "    </tr>\n",
       "    <tr>\n",
       "      <th>1</th>\n",
       "      <td>0</td>\n",
       "      <td>-1.804818</td>\n",
       "      <td>-2.441985</td>\n",
       "      <td>0.709208</td>\n",
       "      <td>-1.824087</td>\n",
       "      <td>0.904886</td>\n",
       "      <td>0.236392</td>\n",
       "      <td>-0.746442</td>\n",
       "      <td>0.136857</td>\n",
       "      <td>-0.599372</td>\n",
       "      <td>0.783338</td>\n",
       "      <td>0.573470</td>\n",
       "    </tr>\n",
       "    <tr>\n",
       "      <th>2</th>\n",
       "      <td>0</td>\n",
       "      <td>-0.278780</td>\n",
       "      <td>0.133693</td>\n",
       "      <td>-0.202941</td>\n",
       "      <td>-0.163649</td>\n",
       "      <td>-1.202723</td>\n",
       "      <td>-0.095395</td>\n",
       "      <td>1.200415</td>\n",
       "      <td>-0.097350</td>\n",
       "      <td>-1.005277</td>\n",
       "      <td>-0.732916</td>\n",
       "      <td>0.044460</td>\n",
       "    </tr>\n",
       "    <tr>\n",
       "      <th>3</th>\n",
       "      <td>0</td>\n",
       "      <td>0.413626</td>\n",
       "      <td>-0.100519</td>\n",
       "      <td>-0.276738</td>\n",
       "      <td>-1.083958</td>\n",
       "      <td>-1.332491</td>\n",
       "      <td>-0.655808</td>\n",
       "      <td>-0.404382</td>\n",
       "      <td>1.115980</td>\n",
       "      <td>-0.493798</td>\n",
       "      <td>-1.467738</td>\n",
       "      <td>0.238086</td>\n",
       "    </tr>\n",
       "    <tr>\n",
       "      <th>4</th>\n",
       "      <td>0</td>\n",
       "      <td>0.401233</td>\n",
       "      <td>-0.812328</td>\n",
       "      <td>-2.100764</td>\n",
       "      <td>1.638965</td>\n",
       "      <td>-0.787407</td>\n",
       "      <td>-0.290561</td>\n",
       "      <td>0.545064</td>\n",
       "      <td>-0.028408</td>\n",
       "      <td>1.004240</td>\n",
       "      <td>-0.200364</td>\n",
       "      <td>0.324069</td>\n",
       "    </tr>\n",
       "    <tr>\n",
       "      <th>...</th>\n",
       "      <td>...</td>\n",
       "      <td>...</td>\n",
       "      <td>...</td>\n",
       "      <td>...</td>\n",
       "      <td>...</td>\n",
       "      <td>...</td>\n",
       "      <td>...</td>\n",
       "      <td>...</td>\n",
       "      <td>...</td>\n",
       "      <td>...</td>\n",
       "      <td>...</td>\n",
       "      <td>...</td>\n",
       "    </tr>\n",
       "    <tr>\n",
       "      <th>779</th>\n",
       "      <td>0</td>\n",
       "      <td>1.152456</td>\n",
       "      <td>-0.406843</td>\n",
       "      <td>1.502181</td>\n",
       "      <td>1.510806</td>\n",
       "      <td>-0.143596</td>\n",
       "      <td>-1.508312</td>\n",
       "      <td>-1.273550</td>\n",
       "      <td>0.950319</td>\n",
       "      <td>-0.308280</td>\n",
       "      <td>-0.846392</td>\n",
       "      <td>NaN</td>\n",
       "    </tr>\n",
       "    <tr>\n",
       "      <th>780</th>\n",
       "      <td>0</td>\n",
       "      <td>-0.735801</td>\n",
       "      <td>0.374951</td>\n",
       "      <td>-1.700254</td>\n",
       "      <td>0.556571</td>\n",
       "      <td>1.369843</td>\n",
       "      <td>0.995649</td>\n",
       "      <td>0.149940</td>\n",
       "      <td>-0.735660</td>\n",
       "      <td>-0.474698</td>\n",
       "      <td>0.968430</td>\n",
       "      <td>NaN</td>\n",
       "    </tr>\n",
       "    <tr>\n",
       "      <th>781</th>\n",
       "      <td>0</td>\n",
       "      <td>-1.564271</td>\n",
       "      <td>1.439842</td>\n",
       "      <td>1.262434</td>\n",
       "      <td>-0.096765</td>\n",
       "      <td>0.241638</td>\n",
       "      <td>0.652035</td>\n",
       "      <td>-0.006580</td>\n",
       "      <td>-1.200736</td>\n",
       "      <td>0.953519</td>\n",
       "      <td>-0.418202</td>\n",
       "      <td>NaN</td>\n",
       "    </tr>\n",
       "    <tr>\n",
       "      <th>782</th>\n",
       "      <td>0</td>\n",
       "      <td>-0.738724</td>\n",
       "      <td>1.017201</td>\n",
       "      <td>0.369926</td>\n",
       "      <td>-1.310980</td>\n",
       "      <td>-0.105096</td>\n",
       "      <td>0.193278</td>\n",
       "      <td>-0.815503</td>\n",
       "      <td>0.981557</td>\n",
       "      <td>1.169102</td>\n",
       "      <td>0.018489</td>\n",
       "      <td>NaN</td>\n",
       "    </tr>\n",
       "    <tr>\n",
       "      <th>783</th>\n",
       "      <td>0</td>\n",
       "      <td>-0.777128</td>\n",
       "      <td>0.039120</td>\n",
       "      <td>-0.887515</td>\n",
       "      <td>-0.082817</td>\n",
       "      <td>-0.997099</td>\n",
       "      <td>1.045280</td>\n",
       "      <td>-1.789494</td>\n",
       "      <td>0.118557</td>\n",
       "      <td>0.065381</td>\n",
       "      <td>-1.024688</td>\n",
       "      <td>NaN</td>\n",
       "    </tr>\n",
       "  </tbody>\n",
       "</table>\n",
       "<p>784 rows × 12 columns</p>\n",
       "</div>"
      ],
      "text/plain": [
       "     input_data        w1        w2        w3        w4        w5        w6  \\\n",
       "0             0 -0.046705 -0.074126  0.384028 -1.499821 -0.866588  1.497176   \n",
       "1             0 -1.804818 -2.441985  0.709208 -1.824087  0.904886  0.236392   \n",
       "2             0 -0.278780  0.133693 -0.202941 -0.163649 -1.202723 -0.095395   \n",
       "3             0  0.413626 -0.100519 -0.276738 -1.083958 -1.332491 -0.655808   \n",
       "4             0  0.401233 -0.812328 -2.100764  1.638965 -0.787407 -0.290561   \n",
       "..          ...       ...       ...       ...       ...       ...       ...   \n",
       "779           0  1.152456 -0.406843  1.502181  1.510806 -0.143596 -1.508312   \n",
       "780           0 -0.735801  0.374951 -1.700254  0.556571  1.369843  0.995649   \n",
       "781           0 -1.564271  1.439842  1.262434 -0.096765  0.241638  0.652035   \n",
       "782           0 -0.738724  1.017201  0.369926 -1.310980 -0.105096  0.193278   \n",
       "783           0 -0.777128  0.039120 -0.887515 -0.082817 -0.997099  1.045280   \n",
       "\n",
       "           w7        w8        w9       w10         b  \n",
       "0    1.732293  0.300914 -0.760770 -0.060739 -1.033988  \n",
       "1   -0.746442  0.136857 -0.599372  0.783338  0.573470  \n",
       "2    1.200415 -0.097350 -1.005277 -0.732916  0.044460  \n",
       "3   -0.404382  1.115980 -0.493798 -1.467738  0.238086  \n",
       "4    0.545064 -0.028408  1.004240 -0.200364  0.324069  \n",
       "..        ...       ...       ...       ...       ...  \n",
       "779 -1.273550  0.950319 -0.308280 -0.846392       NaN  \n",
       "780  0.149940 -0.735660 -0.474698  0.968430       NaN  \n",
       "781 -0.006580 -1.200736  0.953519 -0.418202       NaN  \n",
       "782 -0.815503  0.981557  1.169102  0.018489       NaN  \n",
       "783 -1.789494  0.118557  0.065381 -1.024688       NaN  \n",
       "\n",
       "[784 rows x 12 columns]"
      ]
     },
     "metadata": {},
     "output_type": "display_data"
    }
   ],
   "source": [
    "display(df_data)"
   ]
  },
  {
   "cell_type": "code",
   "execution_count": 68,
   "id": "b86af32b-b971-48bf-a0f6-1332a10032ac",
   "metadata": {},
   "outputs": [
    {
     "data": {
      "text/plain": [
       "-2282.769606398315"
      ]
     },
     "execution_count": 68,
     "metadata": {},
     "output_type": "execute_result"
    }
   ],
   "source": [
    "y_hat_1 = np.matmul(df_data['input_data'], df_data['w1']) + df_data['b'][0]\n",
    "y_hat_1"
   ]
  },
  {
   "cell_type": "code",
   "execution_count": 69,
   "id": "b8622f73-2d2e-4646-a20a-be89b8c532d5",
   "metadata": {},
   "outputs": [],
   "source": [
    "y_hat_2 = np.matmul(df_data['input_data'], df_data['w2']) + df_data['b'][1]\n",
    "y_hat_3 = np.matmul(df_data['input_data'], df_data['w3']) + df_data['b'][2]\n",
    "y_hat_4 = np.matmul(df_data['input_data'], df_data['w4']) + df_data['b'][3]\n",
    "y_hat_5 = np.matmul(df_data['input_data'], df_data['w5']) + df_data['b'][4]\n",
    "y_hat_6 = np.matmul(df_data['input_data'], df_data['w6']) + df_data['b'][5]\n",
    "y_hat_7 = np.matmul(df_data['input_data'], df_data['w7']) + df_data['b'][6]\n",
    "y_hat_8 = np.matmul(df_data['input_data'], df_data['w8']) + df_data['b'][7]\n",
    "y_hat_9 = np.matmul(df_data['input_data'], df_data['w9']) + df_data['b'][8]\n",
    "y_hat_10 = np.matmul(df_data['input_data'], df_data['w10']) + df_data['b'][9]"
   ]
  },
  {
   "cell_type": "code",
   "execution_count": 73,
   "id": "ef0d7509-b0cb-476b-8efe-7b1a1d4096ef",
   "metadata": {},
   "outputs": [
    {
     "name": "stdout",
     "output_type": "stream",
     "text": [
      "-2282.769606398315\n",
      "912.9585940122129\n",
      "1811.0575280852033\n",
      "-115.41755960101156\n",
      "320.09955181063015\n",
      "-1713.8713873474223\n",
      "-2358.496816788437\n",
      "6238.384274808205\n",
      "235.44560774386164\n",
      "468.26020443350643\n"
     ]
    }
   ],
   "source": [
    "print(y_hat_1)\n",
    "print(y_hat_2)\n",
    "print(y_hat_3)\n",
    "print(y_hat_4)\n",
    "print(y_hat_5)\n",
    "print(y_hat_6)\n",
    "print(y_hat_7)\n",
    "print(y_hat_8)\n",
    "print(y_hat_9)\n",
    "print(y_hat_10)"
   ]
  },
  {
   "cell_type": "code",
   "execution_count": 70,
   "id": "095b8ded-5682-48c6-afe2-c097d507cc99",
   "metadata": {},
   "outputs": [
    {
     "name": "stdout",
     "output_type": "stream",
     "text": [
      "[-2282.7696064    912.95859401  1811.05752809  -115.4175596\n",
      "   320.09955181 -1713.87138735 -2358.49681679  6238.38427481\n",
      "   235.44560774   468.26020443]\n"
     ]
    }
   ],
   "source": [
    "y_hat_total = np.matmul(df_data['input_data'], parameter['w']) + parameter['b']\n",
    "print(y_hat_total)"
   ]
  },
  {
   "cell_type": "markdown",
   "id": "2fd00081-93a5-4dcf-b3ad-54a28c265e78",
   "metadata": {},
   "source": [
    "## 왜 Softmax를 사용하느냐?"
   ]
  },
  {
   "cell_type": "code",
   "execution_count": 78,
   "id": "646c030f-0d76-43a3-a652-3d3ed0f31400",
   "metadata": {},
   "outputs": [
    {
     "name": "stdout",
     "output_type": "stream",
     "text": [
      "1.0\n",
      "2.718281828459045\n",
      "7.38905609893065\n",
      "20.085536923187668\n",
      "54.598150033144236\n",
      "148.4131591025766\n",
      "403.4287934927351\n",
      "1096.6331584284585\n",
      "2980.9579870417283\n",
      "8103.083927575384\n",
      "22026.465794806718\n"
     ]
    }
   ],
   "source": [
    "for i in range(11):\n",
    "    n = np.exp(1 * i)\n",
    "    print(n)"
   ]
  },
  {
   "cell_type": "code",
   "execution_count": 79,
   "id": "bd997aee-be36-4118-aed6-9bd745ef9d1d",
   "metadata": {},
   "outputs": [
    {
     "data": {
      "text/plain": [
       "2.718281828459045"
      ]
     },
     "execution_count": 79,
     "metadata": {},
     "output_type": "execute_result"
    }
   ],
   "source": [
    "np.exp(1)"
   ]
  },
  {
   "cell_type": "code",
   "execution_count": 80,
   "id": "32d92e57-ac51-4479-870a-8542b4bafead",
   "metadata": {},
   "outputs": [
    {
     "data": {
      "text/plain": [
       "22026.465794806718"
      ]
     },
     "execution_count": 80,
     "metadata": {},
     "output_type": "execute_result"
    }
   ],
   "source": [
    "np.exp(10)"
   ]
  },
  {
   "cell_type": "code",
   "execution_count": 81,
   "id": "9cd1132d-8c09-4389-9e42-4f2c4bb937a1",
   "metadata": {},
   "outputs": [
    {
     "data": {
      "text/plain": [
       "2.6881171418161356e+43"
      ]
     },
     "execution_count": 81,
     "metadata": {},
     "output_type": "execute_result"
    }
   ],
   "source": [
    "np.exp(100)"
   ]
  },
  {
   "cell_type": "code",
   "execution_count": 82,
   "id": "dfa4eed8-492d-42a2-ad36-30ecac6b90cd",
   "metadata": {},
   "outputs": [
    {
     "name": "stderr",
     "output_type": "stream",
     "text": [
      "<ipython-input-82-47a6eab891c2>:1: RuntimeWarning: overflow encountered in exp\n",
      "  np.exp(1000)\n"
     ]
    },
    {
     "data": {
      "text/plain": [
       "inf"
      ]
     },
     "execution_count": 82,
     "metadata": {},
     "output_type": "execute_result"
    }
   ],
   "source": [
    "np.exp(1000)"
   ]
  },
  {
   "cell_type": "code",
   "execution_count": 88,
   "id": "8079948e-410c-4958-9283-c16ebdb0e4d9",
   "metadata": {},
   "outputs": [
    {
     "name": "stdout",
     "output_type": "stream",
     "text": [
      "7.389\n",
      "2.718\n",
      "3.32\n",
      "2.014\n"
     ]
    }
   ],
   "source": [
    "print(np.round(np.exp(2), 3))\n",
    "print(np.round(np.exp(1), 3))\n",
    "print(np.round(np.exp(1.2), 3))\n",
    "print(np.round(np.exp(0.7), 3))"
   ]
  },
  {
   "cell_type": "code",
   "execution_count": 98,
   "id": "590dc5ba-340c-44d7-a0a0-0138fa781dec",
   "metadata": {},
   "outputs": [],
   "source": [
    "korea_hat = 2\n",
    "china_hat = 1\n",
    "use_hat = 1.2\n",
    "russia_hat = 0.7"
   ]
  },
  {
   "cell_type": "code",
   "execution_count": 99,
   "id": "081dc01c-3505-46f6-8d1f-c3cd765f33e2",
   "metadata": {},
   "outputs": [
    {
     "name": "stdout",
     "output_type": "stream",
     "text": [
      "2.718\n"
     ]
    }
   ],
   "source": [
    "print(round(np.exp(korea_hat-china_hat),3))"
   ]
  },
  {
   "cell_type": "code",
   "execution_count": 100,
   "id": "6d63ec20-45bb-4806-8d32-801856910086",
   "metadata": {},
   "outputs": [],
   "source": [
    "korea_e = np.exp(korea_hat)\n",
    "china_e = np.exp(china_hat)\n",
    "use_e = np.exp(use_hat)\n",
    "russia_e = np.exp(russia_hat)"
   ]
  },
  {
   "cell_type": "code",
   "execution_count": 101,
   "id": "3a4aa2b0-c45d-4c61-99da-00f8ef66e711",
   "metadata": {},
   "outputs": [
    {
     "name": "stdout",
     "output_type": "stream",
     "text": [
      "47.85\n"
     ]
    }
   ],
   "source": [
    "korea_win_p = korea_e / (korea_e + china_e + use_e + russia_e)\n",
    "print(round(korea_win_p * 100, 2))"
   ]
  },
  {
   "cell_type": "code",
   "execution_count": 103,
   "id": "bca4d974-f765-4280-b1ac-aeb38125a424",
   "metadata": {},
   "outputs": [],
   "source": [
    "def win_P(country_name, country_e):\n",
    "    country_name = str(country_name)\n",
    "    win_p = country_e / (korea_e + china_e + use_e + russia_e)\n",
    "    win_p = np.round(win_p,2)\n",
    "    print(\"{0} : {1} %\".format(country_name, win_p*100))\n",
    "    \n",
    "    return win_p"
   ]
  },
  {
   "cell_type": "code",
   "execution_count": 104,
   "id": "fb77f4b2-9190-4fd4-a939-ae71fd69a7a6",
   "metadata": {},
   "outputs": [
    {
     "name": "stdout",
     "output_type": "stream",
     "text": [
      "KOREA : 48.0 %\n",
      "CHINA : 18.0 %\n",
      "USE : 22.0 %\n",
      "RUSSIA : 13.0 %\n"
     ]
    }
   ],
   "source": [
    "dataset = ['KOREA', 'CHINA','USE','RUSSIA']\n",
    "dataset_e = [korea_e, china_e, use_e, russia_e]\n",
    "\n",
    "dataset_row = []\n",
    "for i in range(len(dataset)):\n",
    "    dataset_row.append(win_P(dataset[i], dataset_e[i]))"
   ]
  },
  {
   "cell_type": "code",
   "execution_count": 105,
   "id": "32ccadcd-766e-4eed-812e-fa852ff91be8",
   "metadata": {},
   "outputs": [
    {
     "data": {
      "text/plain": [
       "[0.48, 0.18, 0.22, 0.13]"
      ]
     },
     "execution_count": 105,
     "metadata": {},
     "output_type": "execute_result"
    }
   ],
   "source": [
    "dataset_row"
   ]
  },
  {
   "cell_type": "code",
   "execution_count": 106,
   "id": "6e958a75-51a2-431e-8a32-8d3ff9c1c502",
   "metadata": {},
   "outputs": [
    {
     "data": {
      "text/plain": [
       "0"
      ]
     },
     "execution_count": 106,
     "metadata": {},
     "output_type": "execute_result"
    }
   ],
   "source": [
    "np.argmax(dataset_row)"
   ]
  },
  {
   "cell_type": "code",
   "execution_count": 107,
   "id": "fcdb5a32-d5ad-406a-b71f-81a9f6aa94b1",
   "metadata": {},
   "outputs": [],
   "source": [
    "def pred_label(dataset_row):\n",
    "    if np.argmax(dataset_row) == 0:\n",
    "        print(\"Pred - KOREA\")\n",
    "    if np.argmax(dataset_row) == 1:\n",
    "        print(\"Pred - CHINA\")\n",
    "    if np.argmax(dataset_row) == 2:\n",
    "        print(\"Pred - USE\")\n",
    "    if np.argmax(dataset_row) == 3:\n",
    "        print(\"Pred - RUSSIA\")"
   ]
  },
  {
   "cell_type": "code",
   "execution_count": 108,
   "id": "20aed796-f7d3-4e87-8f43-b56c8221a7d4",
   "metadata": {},
   "outputs": [
    {
     "name": "stdout",
     "output_type": "stream",
     "text": [
      "Pred - KOREA\n"
     ]
    }
   ],
   "source": [
    "pred_label(dataset_row)"
   ]
  },
  {
   "cell_type": "code",
   "execution_count": null,
   "id": "7b5d0fe8-9ce4-49e2-8a38-53c6ee8de3e1",
   "metadata": {},
   "outputs": [],
   "source": []
  }
 ],
 "metadata": {
  "kernelspec": {
   "display_name": "Python 3",
   "language": "python",
   "name": "python3"
  },
  "language_info": {
   "codemirror_mode": {
    "name": "ipython",
    "version": 3
   },
   "file_extension": ".py",
   "mimetype": "text/x-python",
   "name": "python",
   "nbconvert_exporter": "python",
   "pygments_lexer": "ipython3",
   "version": "3.8.10"
  }
 },
 "nbformat": 4,
 "nbformat_minor": 5
}
