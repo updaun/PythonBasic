{
 "cells": [
  {
   "cell_type": "markdown",
   "id": "dce3bbfc-d312-4e82-a798-b3ed8fdde33b",
   "metadata": {},
   "source": [
    "# email_class"
   ]
  },
  {
   "cell_type": "code",
   "execution_count": 22,
   "id": "fde3ecaa-b141-41b8-9f03-3915dc21992a",
   "metadata": {},
   "outputs": [],
   "source": [
    "class Email:\n",
    "    sender = ''\n",
    "    \n",
    "    def send_mail(self, recv, subject, contents):\n",
    "        print(\"보낸이 : \" + self.sender)\n",
    "        print(\"받는이 : \", recv)\n",
    "        print(\"제  목 : \", subject)\n",
    "        print(\"------------ 경 고 문 ------------ \\n \", contents)\n",
    "        print(\"------ 위 내용을 따르지 않을시 본 사는 책임을 지지 알겠습니다.------\")"
   ]
  }
 ],
 "metadata": {
  "kernelspec": {
   "display_name": "Python 3",
   "language": "python",
   "name": "python3"
  },
  "language_info": {
   "codemirror_mode": {
    "name": "ipython",
    "version": 3
   },
   "file_extension": ".py",
   "mimetype": "text/x-python",
   "name": "python",
   "nbconvert_exporter": "python",
   "pygments_lexer": "ipython3",
   "version": "3.8.8"
  }
 },
 "nbformat": 4,
 "nbformat_minor": 5
}
