{
 "cells": [
  {
   "cell_type": "markdown",
   "id": "e77f864d-18c1-4c09-b24b-181530c6c8c8",
   "metadata": {},
   "source": [
    "## input output cnt 개념 이해하기"
   ]
  },
  {
   "cell_type": "code",
   "execution_count": 1,
   "id": "032bc145-d66d-490c-9a89-7370dd2415c4",
   "metadata": {},
   "outputs": [],
   "source": [
    "# XOR 문제에서의 input output cnt\n",
    "\n",
    "# 값이 변화하는 매개변수의 개수 (0,0), (0,1), (1,0), (1,1), 매개변수는 2개\n",
    "input_cnt = 2\n",
    "# 추론하는 값이 0인지 1인지 확인하므로 매개변수는 1개\n",
    "output_cnt = 1"
   ]
  },
  {
   "cell_type": "markdown",
   "id": "3fc5a124-bb73-49bc-9531-e53138530671",
   "metadata": {},
   "source": [
    "## 무작위로 가중치 생성하는 방법"
   ]
  },
  {
   "cell_type": "code",
   "execution_count": 24,
   "id": "5e1b77fc-1fe9-45cf-ae07-e7ea7b306f07",
   "metadata": {},
   "outputs": [
    {
     "name": "stdout",
     "output_type": "stream",
     "text": [
      "input_x: \n",
      " [[ 0.12  1.02  4.1 ]\n",
      " [ 0.15  5.12 12.2 ]]\n",
      "\n",
      "input_x_shape:  (2, 3)\n",
      "\n",
      "theta_1: \n",
      " [[-1.74976547]\n",
      " [ 0.3426804 ]\n",
      " [ 1.1530358 ]]\n",
      "\n",
      "theta_1_shape:  (3, 1)\n",
      "\n",
      "theta_0:  [-0.25243604]\n",
      "\n",
      "y_hat: \n",
      " [[ 4.61457291]\n",
      " [15.3066596 ]]\n",
      "\n",
      "label_y: \n",
      " [[5], [3]]\n"
     ]
    }
   ],
   "source": [
    "import numpy as np\n",
    "\n",
    "input_cnt = 3\n",
    "output_cnt = 1\n",
    "\n",
    "# 학습 데이터(임의)\n",
    "input_x = [[0.12, 1.02, 4.1],[0.15,5.12,12.2]] \n",
    "\n",
    "# 종속 변수(임의)\n",
    "label_y = [[5],[3]]\n",
    "input_x_shape = np.array(input_x)\n",
    "print(\"input_x: \\n\", input_x_shape)\n",
    "print(\"\\ninput_x_shape: \", input_x_shape.shape)\n",
    "\n",
    "np.random.seed(seed=100)\n",
    "\n",
    "# 정규분포 중에 값을 랜덤으로 생성,  loc(평균값), scale(표준편차), size(몇 개 생성?)\n",
    "theta_1 = np.random.normal(loc = 0, scale = 1, size = [input_cnt, output_cnt]) \n",
    "print(\"\\ntheta_1: \\n\", theta_1)\n",
    "print(\"\\ntheta_1_shape: \", theta_1.shape)\n",
    "# theta_0 = np.random.normal(loc = 0, scale = 1, [output_cnt])\n",
    "theta_0 = np.random.normal(0, 1, [output_cnt])\n",
    "print(\"\\ntheta_0: \", theta_0)\n",
    "\n",
    "# 행렬 곱 연산을 빠르게 할 수 있는 도구\n",
    "y_hat = np.matmul(input_x, theta_1) + theta_0\n",
    "print(\"\\ny_hat: \\n\", y_hat)\n",
    "print(\"\\nlabel_y: \\n\", label_y)\n",
    "# y_hat과 label_y이 비슷해지기 위한 가중치를 조정"
   ]
  },
  {
   "cell_type": "markdown",
   "id": "ca01c104-1efb-4ee3-9ee3-fc5df4f5937b",
   "metadata": {},
   "source": [
    "## Loss Funtion : MSE"
   ]
  },
  {
   "cell_type": "code",
   "execution_count": 25,
   "id": "853e004d-a6bb-43dd-9b92-d65ec03f45f3",
   "metadata": {},
   "outputs": [
    {
     "name": "stdout",
     "output_type": "stream",
     "text": [
      "theta_0 :  [-0.25243604]\n",
      "theta_1 :  [[-1.74976547]\n",
      " [ 0.3426804 ]\n",
      " [ 1.1530358 ]]\n",
      "mse :  [75.80121226]\n"
     ]
    }
   ],
   "source": [
    "y_hat[0]\n",
    "\n",
    "a = (y_hat[0]-label_y[0])**2\n",
    "b = (y_hat[1]-label_y[1])**2\n",
    "\n",
    "\n",
    "print(\"theta_0 : \" , theta_0)\n",
    "print(\"theta_1 : \" , theta_1)\n",
    "\n",
    "mse = (a+b)/2\n",
    "\n",
    "print(\"mse : \" , mse)"
   ]
  },
  {
   "cell_type": "markdown",
   "id": "e870b0b7-5b1d-4fec-bf25-98d90a34d6f7",
   "metadata": {},
   "source": [
    "## Dict를 활용한 매개변수 관리"
   ]
  },
  {
   "cell_type": "code",
   "execution_count": 26,
   "id": "d3b7dd5c-854f-464b-b2f4-de37802d0818",
   "metadata": {},
   "outputs": [
    {
     "name": "stdout",
     "output_type": "stream",
     "text": [
      "input_x_shape:  (2, 3)\n",
      "theta_1_shape:  (3, 1)\n"
     ]
    }
   ],
   "source": [
    "import numpy as np\n",
    "\n",
    "input_cnt = 3\n",
    "output_cnt = 1\n",
    "\n",
    "input_x = [[0.12, 1.02, 4.1],[0.15,5.12,12.2]] \n",
    "label_y = [[5],[3]]\n",
    "input_x_shape = np.array(input_x)\n",
    "print(\"input_x_shape: \", input_x_shape.shape)\n",
    "\n",
    "theta_1 = np.random.normal(loc = 0, scale = 1, size = [input_cnt, output_cnt]) \n",
    "print(\"theta_1_shape: \", theta_1.shape)\n",
    "theta_0 = np.random.normal(0, 1, [output_cnt])\n",
    "\n",
    "# ------------------------------------------------------------------\n",
    "# dictionary parameter management\n",
    "# ------------------------------------------------------------------\n",
    "\n",
    "# w : weight, b : bias\n",
    "parameter = {'w' : theta_1, 'b' : theta_0}\n",
    "\n",
    "y_hat = np.matmul(input_x, parameter['w']) + parameter['b'] \n",
    "\n",
    "# ------------------------------------------------------------------\n"
   ]
  },
  {
   "cell_type": "code",
   "execution_count": null,
   "id": "bed0f9ee-8e50-4f90-a775-117fa496c888",
   "metadata": {},
   "outputs": [],
   "source": []
  }
 ],
 "metadata": {
  "kernelspec": {
   "display_name": "Python 3",
   "language": "python",
   "name": "python3"
  },
  "language_info": {
   "codemirror_mode": {
    "name": "ipython",
    "version": 3
   },
   "file_extension": ".py",
   "mimetype": "text/x-python",
   "name": "python",
   "nbconvert_exporter": "python",
   "pygments_lexer": "ipython3",
   "version": "3.8.8"
  }
 },
 "nbformat": 4,
 "nbformat_minor": 5
}
