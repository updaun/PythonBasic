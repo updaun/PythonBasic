{
 "cells": [
  {
   "cell_type": "markdown",
   "metadata": {
    "id": "46J5cXjhu7Ef"
   },
   "source": [
    "# 문제 정의 : 서울시 유동인구 분석   \n",
    "   \n",
    "- DataSet 구성\n",
    "    1. 일자 : 유동 인구를 수집한 날짜( 2020/04/01 ~ 2020/04/30 )\n",
    "    2. 시간 : 유동 인구를 수집한 시간( 0시 ~ 23시, 1시간 단위 수집 )\n",
    "    3. 연령대 : 유동 인구를 수집한 연령대( 20대 ~ 70대 )\n",
    "    4. 시 : 유동 인구를 수집한 시( 서울시 )\n",
    "    5. 구 : 유동 인구를 수집한 구( 서울 25개구 )\n",
    "    6. 유동인구수"
   ]
  },
  {
   "cell_type": "markdown",
   "metadata": {
    "id": "VRguuxMyu7Eg"
   },
   "source": [
    "# 2. 수집한 DataSet을 DataFrame으로 생성되는 과정에 대한 정리"
   ]
  },
  {
   "cell_type": "markdown",
   "metadata": {
    "id": "wZQkUPG4u7Eg"
   },
   "source": [
    "\n",
    "## 2.1 NumPy / Pandas import"
   ]
  },
  {
   "cell_type": "code",
   "execution_count": 1,
   "metadata": {
    "id": "6q-ClKNwu7Eh"
   },
   "outputs": [],
   "source": [
    "import numpy as np # NumPy\n",
    "import pandas as pd # Pandas\n",
    "\n",
    "# IPython( jupyter notebook ) 디스플레이 설정 변경\n",
    "# 출력할 열의 개수 한도 설정\n",
    "pd.set_option( 'display.max_columns', 20 )\n",
    "# 출력할 열의 너비 설정\n",
    "pd.set_option( 'display.max_colwidth', 20 )\n",
    "# 유니코드 사용 너비 조정\n",
    "pd.set_option( 'display.unicode.east_asian_width', True )\n",
    "\n",
    "# 경고( warnings ) 메시지 출력 방지\n",
    "import warnings\n",
    "warnings.filterwarnings( 'ignore' )"
   ]
  },
  {
   "cell_type": "markdown",
   "metadata": {
    "id": "Vfi2DLDru7Eh"
   },
   "source": [
    "## 2.2 데이터 읽기( Floating_Population_2004.csv )"
   ]
  },
  {
   "cell_type": "code",
   "execution_count": 2,
   "metadata": {
    "id": "ITHSxZrOu7Ei"
   },
   "outputs": [],
   "source": [
    "df = pd.read_csv( 'Floating_Population_2004.csv', encoding = 'utf-8' )"
   ]
  },
  {
   "cell_type": "markdown",
   "metadata": {
    "id": "m-Yf_yByu7Ei"
   },
   "source": [
    "## 2.3 읽은 데이터 확인"
   ]
  },
  {
   "cell_type": "code",
   "execution_count": 3,
   "metadata": {
    "id": "zIKVuZPRu7Ei",
    "outputId": "dae547b4-3c19-4623-e476-73c15abffacb"
   },
   "outputs": [
    {
     "data": {
      "text/plain": [
       "(216000, 7)"
      ]
     },
     "execution_count": 3,
     "metadata": {},
     "output_type": "execute_result"
    }
   ],
   "source": [
    "df.shape"
   ]
  },
  {
   "cell_type": "code",
   "execution_count": 4,
   "metadata": {
    "id": "ImaPSXIbu7Ek",
    "outputId": "60cc0cc8-75ed-486d-e217-bb672fca8777"
   },
   "outputs": [
    {
     "data": {
      "text/html": [
       "<div>\n",
       "<style scoped>\n",
       "    .dataframe tbody tr th:only-of-type {\n",
       "        vertical-align: middle;\n",
       "    }\n",
       "\n",
       "    .dataframe tbody tr th {\n",
       "        vertical-align: top;\n",
       "    }\n",
       "\n",
       "    .dataframe thead th {\n",
       "        text-align: right;\n",
       "    }\n",
       "</style>\n",
       "<table border=\"1\" class=\"dataframe\">\n",
       "  <thead>\n",
       "    <tr style=\"text-align: right;\">\n",
       "      <th></th>\n",
       "      <th>일자</th>\n",
       "      <th>시간(1시간단위)</th>\n",
       "      <th>연령대(10세단위)</th>\n",
       "      <th>성별</th>\n",
       "      <th>시</th>\n",
       "      <th>군구</th>\n",
       "      <th>유동인구수</th>\n",
       "    </tr>\n",
       "  </thead>\n",
       "  <tbody>\n",
       "    <tr>\n",
       "      <th>0</th>\n",
       "      <td>20200401</td>\n",
       "      <td>0</td>\n",
       "      <td>20</td>\n",
       "      <td>남성</td>\n",
       "      <td>서울</td>\n",
       "      <td>도봉구</td>\n",
       "      <td>21490</td>\n",
       "    </tr>\n",
       "    <tr>\n",
       "      <th>1</th>\n",
       "      <td>20200401</td>\n",
       "      <td>0</td>\n",
       "      <td>30</td>\n",
       "      <td>여성</td>\n",
       "      <td>서울</td>\n",
       "      <td>동대문구</td>\n",
       "      <td>27260</td>\n",
       "    </tr>\n",
       "    <tr>\n",
       "      <th>2</th>\n",
       "      <td>20200401</td>\n",
       "      <td>0</td>\n",
       "      <td>50</td>\n",
       "      <td>남성</td>\n",
       "      <td>서울</td>\n",
       "      <td>구로구</td>\n",
       "      <td>35670</td>\n",
       "    </tr>\n",
       "    <tr>\n",
       "      <th>3</th>\n",
       "      <td>20200401</td>\n",
       "      <td>1</td>\n",
       "      <td>30</td>\n",
       "      <td>여성</td>\n",
       "      <td>서울</td>\n",
       "      <td>강남구</td>\n",
       "      <td>52380</td>\n",
       "    </tr>\n",
       "    <tr>\n",
       "      <th>4</th>\n",
       "      <td>20200401</td>\n",
       "      <td>1</td>\n",
       "      <td>40</td>\n",
       "      <td>남성</td>\n",
       "      <td>서울</td>\n",
       "      <td>동대문구</td>\n",
       "      <td>28420</td>\n",
       "    </tr>\n",
       "  </tbody>\n",
       "</table>\n",
       "</div>"
      ],
      "text/plain": [
       "       일자  시간(1시간단위)  연령대(10세단위)  성별    시      군구  \\\n",
       "0  20200401                0                20  남성  서울    도봉구   \n",
       "1  20200401                0                30  여성  서울  동대문구   \n",
       "2  20200401                0                50  남성  서울    구로구   \n",
       "3  20200401                1                30  여성  서울    강남구   \n",
       "4  20200401                1                40  남성  서울  동대문구   \n",
       "\n",
       "   유동인구수  \n",
       "0       21490  \n",
       "1       27260  \n",
       "2       35670  \n",
       "3       52380  \n",
       "4       28420  "
      ]
     },
     "execution_count": 4,
     "metadata": {},
     "output_type": "execute_result"
    }
   ],
   "source": [
    "df.head()"
   ]
  },
  {
   "cell_type": "code",
   "execution_count": 5,
   "metadata": {
    "id": "hHt4-G74u7Ek",
    "outputId": "eca0029b-8804-4462-8b87-78488cd41f4d"
   },
   "outputs": [
    {
     "data": {
      "text/html": [
       "<div>\n",
       "<style scoped>\n",
       "    .dataframe tbody tr th:only-of-type {\n",
       "        vertical-align: middle;\n",
       "    }\n",
       "\n",
       "    .dataframe tbody tr th {\n",
       "        vertical-align: top;\n",
       "    }\n",
       "\n",
       "    .dataframe thead th {\n",
       "        text-align: right;\n",
       "    }\n",
       "</style>\n",
       "<table border=\"1\" class=\"dataframe\">\n",
       "  <thead>\n",
       "    <tr style=\"text-align: right;\">\n",
       "      <th></th>\n",
       "      <th>일자</th>\n",
       "      <th>시간(1시간단위)</th>\n",
       "      <th>연령대(10세단위)</th>\n",
       "      <th>성별</th>\n",
       "      <th>시</th>\n",
       "      <th>군구</th>\n",
       "      <th>유동인구수</th>\n",
       "    </tr>\n",
       "  </thead>\n",
       "  <tbody>\n",
       "    <tr>\n",
       "      <th>215995</th>\n",
       "      <td>20200430</td>\n",
       "      <td>22</td>\n",
       "      <td>40</td>\n",
       "      <td>여성</td>\n",
       "      <td>서울</td>\n",
       "      <td>성동구</td>\n",
       "      <td>22150</td>\n",
       "    </tr>\n",
       "    <tr>\n",
       "      <th>215996</th>\n",
       "      <td>20200430</td>\n",
       "      <td>22</td>\n",
       "      <td>50</td>\n",
       "      <td>여성</td>\n",
       "      <td>서울</td>\n",
       "      <td>서대문구</td>\n",
       "      <td>23270</td>\n",
       "    </tr>\n",
       "    <tr>\n",
       "      <th>215997</th>\n",
       "      <td>20200430</td>\n",
       "      <td>23</td>\n",
       "      <td>20</td>\n",
       "      <td>여성</td>\n",
       "      <td>서울</td>\n",
       "      <td>용산구</td>\n",
       "      <td>18570</td>\n",
       "    </tr>\n",
       "    <tr>\n",
       "      <th>215998</th>\n",
       "      <td>20200430</td>\n",
       "      <td>23</td>\n",
       "      <td>30</td>\n",
       "      <td>여성</td>\n",
       "      <td>서울</td>\n",
       "      <td>서대문구</td>\n",
       "      <td>21100</td>\n",
       "    </tr>\n",
       "    <tr>\n",
       "      <th>215999</th>\n",
       "      <td>20200430</td>\n",
       "      <td>23</td>\n",
       "      <td>40</td>\n",
       "      <td>남성</td>\n",
       "      <td>서울</td>\n",
       "      <td>강남구</td>\n",
       "      <td>45730</td>\n",
       "    </tr>\n",
       "  </tbody>\n",
       "</table>\n",
       "</div>"
      ],
      "text/plain": [
       "            일자  시간(1시간단위)  연령대(10세단위)  성별    시      군구  \\\n",
       "215995  20200430               22                40  여성  서울    성동구   \n",
       "215996  20200430               22                50  여성  서울  서대문구   \n",
       "215997  20200430               23                20  여성  서울    용산구   \n",
       "215998  20200430               23                30  여성  서울  서대문구   \n",
       "215999  20200430               23                40  남성  서울    강남구   \n",
       "\n",
       "        유동인구수  \n",
       "215995       22150  \n",
       "215996       23270  \n",
       "215997       18570  \n",
       "215998       21100  \n",
       "215999       45730  "
      ]
     },
     "execution_count": 5,
     "metadata": {},
     "output_type": "execute_result"
    }
   ],
   "source": [
    "df.tail()"
   ]
  },
  {
   "cell_type": "markdown",
   "metadata": {
    "id": "RIj9eVn7u7Ek"
   },
   "source": [
    "## 2.4 DataFrame에 대한 정보"
   ]
  },
  {
   "cell_type": "code",
   "execution_count": 6,
   "metadata": {
    "id": "ThHc4Lrsu7El",
    "outputId": "9b140670-62c0-46cb-dcf3-6a708647f1d1"
   },
   "outputs": [
    {
     "name": "stdout",
     "output_type": "stream",
     "text": [
      "<class 'pandas.core.frame.DataFrame'>\n",
      "RangeIndex: 216000 entries, 0 to 215999\n",
      "Data columns (total 7 columns):\n",
      " #   Column      Non-Null Count   Dtype \n",
      "---  ------      --------------   ----- \n",
      " 0   일자          216000 non-null  int64 \n",
      " 1   시간(1시간단위)   216000 non-null  int64 \n",
      " 2   연령대(10세단위)  216000 non-null  int64 \n",
      " 3   성별          216000 non-null  object\n",
      " 4   시           216000 non-null  object\n",
      " 5   군구          216000 non-null  object\n",
      " 6   유동인구수       216000 non-null  int64 \n",
      "dtypes: int64(4), object(3)\n",
      "memory usage: 11.5+ MB\n"
     ]
    }
   ],
   "source": [
    "df.info()"
   ]
  },
  {
   "cell_type": "code",
   "execution_count": 7,
   "metadata": {
    "id": "0UjjzIvku7El",
    "outputId": "b4874f49-dc1f-40e7-82d6-da713f1cea75"
   },
   "outputs": [
    {
     "data": {
      "text/plain": [
       "일자                 int64\n",
       "시간(1시간단위)      int64\n",
       "연령대(10세단위)     int64\n",
       "성별                object\n",
       "시                  object\n",
       "군구                object\n",
       "유동인구수           int64\n",
       "dtype: object"
      ]
     },
     "execution_count": 7,
     "metadata": {},
     "output_type": "execute_result"
    }
   ],
   "source": [
    "df.dtypes"
   ]
  },
  {
   "cell_type": "markdown",
   "metadata": {
    "id": "a4gwZ-fru7El"
   },
   "source": [
    "## 2.5 DataFrame에 대한 가공"
   ]
  },
  {
   "cell_type": "markdown",
   "metadata": {
    "id": "Q25cqDF8u7El"
   },
   "source": [
    "### 2.5.1 불필요한 행( 변수 ) 삭제"
   ]
  },
  {
   "cell_type": "code",
   "execution_count": 8,
   "metadata": {
    "id": "yAuPZaueu7Em"
   },
   "outputs": [],
   "source": [
    "df.drop( '시', axis = 1, inplace = True )"
   ]
  },
  {
   "cell_type": "code",
   "execution_count": 9,
   "metadata": {
    "id": "e_enOve-u7Em",
    "outputId": "e2df4fc2-1451-4794-8e54-f9f10cef311f"
   },
   "outputs": [
    {
     "name": "stdout",
     "output_type": "stream",
     "text": [
      "<class 'pandas.core.frame.DataFrame'>\n",
      "RangeIndex: 216000 entries, 0 to 215999\n",
      "Data columns (total 6 columns):\n",
      " #   Column      Non-Null Count   Dtype \n",
      "---  ------      --------------   ----- \n",
      " 0   일자          216000 non-null  int64 \n",
      " 1   시간(1시간단위)   216000 non-null  int64 \n",
      " 2   연령대(10세단위)  216000 non-null  int64 \n",
      " 3   성별          216000 non-null  object\n",
      " 4   군구          216000 non-null  object\n",
      " 5   유동인구수       216000 non-null  int64 \n",
      "dtypes: int64(4), object(2)\n",
      "memory usage: 9.9+ MB\n"
     ]
    }
   ],
   "source": [
    "df.info()"
   ]
  },
  {
   "cell_type": "code",
   "execution_count": 10,
   "metadata": {
    "id": "txHvXIDxu7Em",
    "outputId": "a51d894d-b89f-4cc6-ae25-604db0c5acb7"
   },
   "outputs": [
    {
     "data": {
      "text/html": [
       "<div>\n",
       "<style scoped>\n",
       "    .dataframe tbody tr th:only-of-type {\n",
       "        vertical-align: middle;\n",
       "    }\n",
       "\n",
       "    .dataframe tbody tr th {\n",
       "        vertical-align: top;\n",
       "    }\n",
       "\n",
       "    .dataframe thead th {\n",
       "        text-align: right;\n",
       "    }\n",
       "</style>\n",
       "<table border=\"1\" class=\"dataframe\">\n",
       "  <thead>\n",
       "    <tr style=\"text-align: right;\">\n",
       "      <th></th>\n",
       "      <th>일자</th>\n",
       "      <th>시간(1시간단위)</th>\n",
       "      <th>연령대(10세단위)</th>\n",
       "      <th>성별</th>\n",
       "      <th>군구</th>\n",
       "      <th>유동인구수</th>\n",
       "    </tr>\n",
       "  </thead>\n",
       "  <tbody>\n",
       "    <tr>\n",
       "      <th>0</th>\n",
       "      <td>20200401</td>\n",
       "      <td>0</td>\n",
       "      <td>20</td>\n",
       "      <td>남성</td>\n",
       "      <td>도봉구</td>\n",
       "      <td>21490</td>\n",
       "    </tr>\n",
       "    <tr>\n",
       "      <th>1</th>\n",
       "      <td>20200401</td>\n",
       "      <td>0</td>\n",
       "      <td>30</td>\n",
       "      <td>여성</td>\n",
       "      <td>동대문구</td>\n",
       "      <td>27260</td>\n",
       "    </tr>\n",
       "    <tr>\n",
       "      <th>2</th>\n",
       "      <td>20200401</td>\n",
       "      <td>0</td>\n",
       "      <td>50</td>\n",
       "      <td>남성</td>\n",
       "      <td>구로구</td>\n",
       "      <td>35670</td>\n",
       "    </tr>\n",
       "    <tr>\n",
       "      <th>3</th>\n",
       "      <td>20200401</td>\n",
       "      <td>1</td>\n",
       "      <td>30</td>\n",
       "      <td>여성</td>\n",
       "      <td>강남구</td>\n",
       "      <td>52380</td>\n",
       "    </tr>\n",
       "    <tr>\n",
       "      <th>4</th>\n",
       "      <td>20200401</td>\n",
       "      <td>1</td>\n",
       "      <td>40</td>\n",
       "      <td>남성</td>\n",
       "      <td>동대문구</td>\n",
       "      <td>28420</td>\n",
       "    </tr>\n",
       "  </tbody>\n",
       "</table>\n",
       "</div>"
      ],
      "text/plain": [
       "       일자  시간(1시간단위)  연령대(10세단위)  성별      군구  유동인구수\n",
       "0  20200401                0                20  남성    도봉구       21490\n",
       "1  20200401                0                30  여성  동대문구       27260\n",
       "2  20200401                0                50  남성    구로구       35670\n",
       "3  20200401                1                30  여성    강남구       52380\n",
       "4  20200401                1                40  남성  동대문구       28420"
      ]
     },
     "execution_count": 10,
     "metadata": {},
     "output_type": "execute_result"
    }
   ],
   "source": [
    "df.head()"
   ]
  },
  {
   "cell_type": "markdown",
   "metadata": {
    "id": "QUE0D3eru7Em"
   },
   "source": [
    "### 2.5.2 열( 변수 ) 이름 변경"
   ]
  },
  {
   "cell_type": "code",
   "execution_count": 11,
   "metadata": {
    "id": "YKlprf8Bu7En"
   },
   "outputs": [],
   "source": [
    "column_name = [ 'date', 'time', 'age', 'gender', 'gu', 'move_population' ]\n",
    "df.columns = column_name"
   ]
  },
  {
   "cell_type": "code",
   "execution_count": 12,
   "metadata": {
    "id": "o4a7gYjhu7En",
    "outputId": "c088eff8-0bce-41e8-ce22-7723c241317d"
   },
   "outputs": [
    {
     "data": {
      "text/html": [
       "<div>\n",
       "<style scoped>\n",
       "    .dataframe tbody tr th:only-of-type {\n",
       "        vertical-align: middle;\n",
       "    }\n",
       "\n",
       "    .dataframe tbody tr th {\n",
       "        vertical-align: top;\n",
       "    }\n",
       "\n",
       "    .dataframe thead th {\n",
       "        text-align: right;\n",
       "    }\n",
       "</style>\n",
       "<table border=\"1\" class=\"dataframe\">\n",
       "  <thead>\n",
       "    <tr style=\"text-align: right;\">\n",
       "      <th></th>\n",
       "      <th>date</th>\n",
       "      <th>time</th>\n",
       "      <th>age</th>\n",
       "      <th>gender</th>\n",
       "      <th>gu</th>\n",
       "      <th>move_population</th>\n",
       "    </tr>\n",
       "  </thead>\n",
       "  <tbody>\n",
       "    <tr>\n",
       "      <th>0</th>\n",
       "      <td>20200401</td>\n",
       "      <td>0</td>\n",
       "      <td>20</td>\n",
       "      <td>남성</td>\n",
       "      <td>도봉구</td>\n",
       "      <td>21490</td>\n",
       "    </tr>\n",
       "    <tr>\n",
       "      <th>1</th>\n",
       "      <td>20200401</td>\n",
       "      <td>0</td>\n",
       "      <td>30</td>\n",
       "      <td>여성</td>\n",
       "      <td>동대문구</td>\n",
       "      <td>27260</td>\n",
       "    </tr>\n",
       "    <tr>\n",
       "      <th>2</th>\n",
       "      <td>20200401</td>\n",
       "      <td>0</td>\n",
       "      <td>50</td>\n",
       "      <td>남성</td>\n",
       "      <td>구로구</td>\n",
       "      <td>35670</td>\n",
       "    </tr>\n",
       "    <tr>\n",
       "      <th>3</th>\n",
       "      <td>20200401</td>\n",
       "      <td>1</td>\n",
       "      <td>30</td>\n",
       "      <td>여성</td>\n",
       "      <td>강남구</td>\n",
       "      <td>52380</td>\n",
       "    </tr>\n",
       "    <tr>\n",
       "      <th>4</th>\n",
       "      <td>20200401</td>\n",
       "      <td>1</td>\n",
       "      <td>40</td>\n",
       "      <td>남성</td>\n",
       "      <td>동대문구</td>\n",
       "      <td>28420</td>\n",
       "    </tr>\n",
       "  </tbody>\n",
       "</table>\n",
       "</div>"
      ],
      "text/plain": [
       "       date  time  age gender        gu  move_population\n",
       "0  20200401     0   20   남성    도봉구            21490\n",
       "1  20200401     0   30   여성  동대문구            27260\n",
       "2  20200401     0   50   남성    구로구            35670\n",
       "3  20200401     1   30   여성    강남구            52380\n",
       "4  20200401     1   40   남성  동대문구            28420"
      ]
     },
     "execution_count": 12,
     "metadata": {},
     "output_type": "execute_result"
    }
   ],
   "source": [
    "df.head()"
   ]
  },
  {
   "cell_type": "markdown",
   "metadata": {
    "id": "igVZv9NLu7En"
   },
   "source": [
    "### 2.5.3 날짜, 시간, 성별, 연령대, 구 목록 생성( 중복 data 배제 방법 )"
   ]
  },
  {
   "cell_type": "code",
   "execution_count": 13,
   "metadata": {
    "id": "Gjkp7Yi_u7En",
    "outputId": "ce7c6bea-4c58-4ee5-cbcf-2752f0d77fac"
   },
   "outputs": [
    {
     "name": "stdout",
     "output_type": "stream",
     "text": [
      "데이터 수집일 :\n",
      "20200401\n",
      "20200402\n",
      "20200403\n",
      "20200404\n",
      "20200405\n",
      "20200406\n",
      "20200407\n",
      "20200408\n",
      "20200409\n",
      "20200410\n",
      "20200411\n",
      "20200412\n",
      "20200413\n",
      "20200414\n",
      "20200415\n",
      "20200416\n",
      "20200417\n",
      "20200418\n",
      "20200419\n",
      "20200420\n",
      "20200421\n",
      "20200422\n",
      "20200423\n",
      "20200424\n",
      "20200425\n",
      "20200426\n",
      "20200427\n",
      "20200428\n",
      "20200429\n",
      "20200430\n",
      "\n",
      "데이터 수집 일수 : 30일\n"
     ]
    }
   ],
   "source": [
    "# 데이터 수집 일자 날짜 목록 생성\n",
    "date_list = df.date.unique()\n",
    "\n",
    "print( '데이터 수집일 :' )\n",
    "for date in date_list:\n",
    "    print( f'{date}' )\n",
    "print( f'\\n데이터 수집 일수 : {date_list.size}일' )"
   ]
  },
  {
   "cell_type": "code",
   "execution_count": 14,
   "metadata": {
    "id": "6BFElTS3u7Eo",
    "outputId": "72d66c49-48af-4457-9b16-65dea7ff4ec3"
   },
   "outputs": [
    {
     "name": "stdout",
     "output_type": "stream",
     "text": [
      "데이터 수집 시간 :\n",
      "0\n",
      "1\n",
      "2\n",
      "3\n",
      "4\n",
      "5\n",
      "6\n",
      "7\n",
      "8\n",
      "9\n",
      "10\n",
      "12\n",
      "13\n",
      "14\n",
      "15\n",
      "16\n",
      "17\n",
      "18\n",
      "19\n",
      "20\n",
      "21\n",
      "22\n",
      "23\n",
      "11\n",
      "\n",
      "데이터 수집 시간 수 : 24시간\n"
     ]
    }
   ],
   "source": [
    "# 데이터 수집 시간 목록 생성\n",
    "time_list = df.time.unique()\n",
    "\n",
    "print( '데이터 수집 시간 :' )\n",
    "for time in time_list:\n",
    "    print( f'{time}' )\n",
    "print( f'\\n데이터 수집 시간 수 : {time_list.size}시간' )"
   ]
  },
  {
   "cell_type": "code",
   "execution_count": 15,
   "metadata": {
    "id": "efsfs51Vu7Eo",
    "outputId": "ef0a4d71-5696-4768-ae4b-80e8a4cd4e21"
   },
   "outputs": [
    {
     "name": "stdout",
     "output_type": "stream",
     "text": [
      "데이터 수집 성별 :\n",
      "남성\n",
      "여성\n",
      "\n",
      "데이터 수집 성별 분류 : 2부류\n"
     ]
    }
   ],
   "source": [
    "# 데이터 수집 성별 목록 생성\n",
    "gender_list = df.gender.unique()\n",
    "\n",
    "print( '데이터 수집 성별 :' )\n",
    "for gender in gender_list:\n",
    "    print( f'{gender}')\n",
    "print( f'\\n데이터 수집 성별 분류 : {gender_list.size}부류' )"
   ]
  },
  {
   "cell_type": "code",
   "execution_count": 17,
   "metadata": {
    "id": "oUlR9kdsu7Ep",
    "outputId": "94da2bde-1363-4a54-c413-cefe128e6ffd"
   },
   "outputs": [
    {
     "name": "stdout",
     "output_type": "stream",
     "text": [
      "데이터 수집 연령대 :\n",
      "20\n",
      "30\n",
      "50\n",
      "40\n",
      "70\n",
      "60\n",
      "\n",
      "데이터 수집 연령대 종류 : 6연령대\n"
     ]
    }
   ],
   "source": [
    "# 데이터 수집 연령대 목록 생성\n",
    "age_list = df.age.unique()\n",
    "\n",
    "print( '데이터 수집 연령대 :' )\n",
    "for age in age_list:\n",
    "    print( f'{age}' )\n",
    "print( f'\\n데이터 수집 연령대 종류 : {age_list.size}연령대' )"
   ]
  },
  {
   "cell_type": "code",
   "execution_count": 18,
   "metadata": {
    "id": "HBGRRniGu7Ep",
    "outputId": "85c8bb9f-e776-4198-c9a2-331aa7ac6e1e"
   },
   "outputs": [
    {
     "name": "stdout",
     "output_type": "stream",
     "text": [
      "데이터 수집 서울시 구 :\n",
      "     도봉구\n",
      "    동대문구\n",
      "     구로구\n",
      "     강남구\n",
      "     성동구\n",
      "     강서구\n",
      "     금천구\n",
      "     관악구\n",
      "     중랑구\n",
      "     강북구\n",
      "     종로구\n",
      "    영등포구\n",
      "     용산구\n",
      "     광진구\n",
      "     노원구\n",
      "     양천구\n",
      "      중구\n",
      "     마포구\n",
      "     동작구\n",
      "    서대문구\n",
      "     송파구\n",
      "     은평구\n",
      "     강동구\n",
      "     서초구\n",
      "     성북구\n",
      "\n",
      "데이터 수집 서울시 구 : 25개구\n"
     ]
    }
   ],
   "source": [
    "# 데이터 수집 서울시 구 목록 생성\n",
    "gu_list = df.gu.unique()\n",
    "\n",
    "print( '데이터 수집 서울시 구 :' )\n",
    "for gu in gu_list:\n",
    "    print( f'{gu:>8s}' )\n",
    "print( f'\\n데이터 수집 서울시 구 : {gu_list.size}개구'.format( gu_list.size ) )"
   ]
  },
  {
   "cell_type": "markdown",
   "metadata": {
    "id": "kEPPPOBau7Ep"
   },
   "source": [
    "# 3. 기본 통계 분석"
   ]
  },
  {
   "cell_type": "markdown",
   "metadata": {
    "id": "2p_SaZknu7Ep"
   },
   "source": [
    "## 3.1 Data 요약 정보"
   ]
  },
  {
   "cell_type": "code",
   "execution_count": null,
   "metadata": {
    "id": "1dig0JDhu7Eq",
    "outputId": "427e9518-3c76-40a7-cf59-b3f66a31beb5"
   },
   "outputs": [
    {
     "data": {
      "text/html": [
       "<div>\n",
       "<style scoped>\n",
       "    .dataframe tbody tr th:only-of-type {\n",
       "        vertical-align: middle;\n",
       "    }\n",
       "\n",
       "    .dataframe tbody tr th {\n",
       "        vertical-align: top;\n",
       "    }\n",
       "\n",
       "    .dataframe thead th {\n",
       "        text-align: right;\n",
       "    }\n",
       "</style>\n",
       "<table border=\"1\" class=\"dataframe\">\n",
       "  <thead>\n",
       "    <tr style=\"text-align: right;\">\n",
       "      <th></th>\n",
       "      <th>date</th>\n",
       "      <th>time</th>\n",
       "      <th>age</th>\n",
       "      <th>move_population</th>\n",
       "    </tr>\n",
       "  </thead>\n",
       "  <tbody>\n",
       "    <tr>\n",
       "      <th>count</th>\n",
       "      <td>216000.00</td>\n",
       "      <td>216000.00</td>\n",
       "      <td>216000.00</td>\n",
       "      <td>216000.00</td>\n",
       "    </tr>\n",
       "    <tr>\n",
       "      <th>mean</th>\n",
       "      <td>20200415.50</td>\n",
       "      <td>11.50</td>\n",
       "      <td>45.00</td>\n",
       "      <td>27267.77</td>\n",
       "    </tr>\n",
       "    <tr>\n",
       "      <th>std</th>\n",
       "      <td>8.66</td>\n",
       "      <td>6.92</td>\n",
       "      <td>17.08</td>\n",
       "      <td>12480.43</td>\n",
       "    </tr>\n",
       "    <tr>\n",
       "      <th>min</th>\n",
       "      <td>20200401.00</td>\n",
       "      <td>0.00</td>\n",
       "      <td>20.00</td>\n",
       "      <td>4380.00</td>\n",
       "    </tr>\n",
       "    <tr>\n",
       "      <th>25%</th>\n",
       "      <td>20200408.00</td>\n",
       "      <td>5.75</td>\n",
       "      <td>30.00</td>\n",
       "      <td>18070.00</td>\n",
       "    </tr>\n",
       "    <tr>\n",
       "      <th>50%</th>\n",
       "      <td>20200415.50</td>\n",
       "      <td>11.50</td>\n",
       "      <td>45.00</td>\n",
       "      <td>25470.00</td>\n",
       "    </tr>\n",
       "    <tr>\n",
       "      <th>75%</th>\n",
       "      <td>20200423.00</td>\n",
       "      <td>17.25</td>\n",
       "      <td>60.00</td>\n",
       "      <td>34090.00</td>\n",
       "    </tr>\n",
       "    <tr>\n",
       "      <th>max</th>\n",
       "      <td>20200430.00</td>\n",
       "      <td>23.00</td>\n",
       "      <td>70.00</td>\n",
       "      <td>120640.00</td>\n",
       "    </tr>\n",
       "  </tbody>\n",
       "</table>\n",
       "</div>"
      ],
      "text/plain": [
       "              date       time        age  move_population\n",
       "count    216000.00  216000.00  216000.00        216000.00\n",
       "mean   20200415.50      11.50      45.00         27267.77\n",
       "std           8.66       6.92      17.08         12480.43\n",
       "min    20200401.00       0.00      20.00          4380.00\n",
       "25%    20200408.00       5.75      30.00         18070.00\n",
       "50%    20200415.50      11.50      45.00         25470.00\n",
       "75%    20200423.00      17.25      60.00         34090.00\n",
       "max    20200430.00      23.00      70.00        120640.00"
      ]
     },
     "execution_count": 78,
     "metadata": {
      "tags": []
     },
     "output_type": "execute_result"
    }
   ],
   "source": [
    "df.describe().round( 2 )"
   ]
  },
  {
   "cell_type": "markdown",
   "metadata": {
    "id": "gmkeXzHiu7Eq"
   },
   "source": [
    "## 3.2 요약 통계 결과 정보"
   ]
  },
  {
   "cell_type": "code",
   "execution_count": 26,
   "metadata": {
    "id": "xfRhpvfju7Eq",
    "outputId": "0cbcee55-3701-4c22-c0e4-75d514bbfd66"
   },
   "outputs": [
    {
     "name": "stdout",
     "output_type": "stream",
     "text": [
      "총 data 수                :     216000건\n",
      "총 유동인구 수              : 5889837540명\n",
      "\n",
      "평균 유동인구 수             :   27267.77명\n",
      "유동 인구에 대한 분산         : 155761043.81\n",
      "유동 인구에 대한 표준편차      :   12480.43\n",
      "\n",
      "일 최소 유동인구 수          :    4380.00명\n",
      "유동 인구에 대한 1사분위수     :   18070.00명\n",
      "유동 인구에 대한 2사분위수     :   25470.00명\n",
      "유동 인구에 대한 3사분위수     :   34090.00명\n",
      "일 최대 유동인구 수          :  120640.00명\n"
     ]
    }
   ],
   "source": [
    "print( f'총 data 수                : {df.date.count():10}건' )\n",
    "print( f'총 유동인구 수              : {df.move_population.sum():10}명' )\n",
    "print( f'\\n평균 유동인구 수             : {df.move_population.mean():10.2f}명' )\n",
    "print( f'유동 인구에 대한 분산         : {df.move_population.var():10.2f}' )\n",
    "print( f'유동 인구에 대한 표준편차      : {df.move_population.std():10.2f}' )\n",
    "print( f'\\n일 최소 유동인구 수          : {df.move_population.min():10.2f}명' )\n",
    "print( f'유동 인구에 대한 1사분위수     : {df.move_population.quantile( 0.25 ):10.2f}명' )\n",
    "print( f'유동 인구에 대한 2사분위수     : {df.move_population.quantile( 0.50 ):10.2f}명' )\n",
    "print( f'유동 인구에 대한 3사분위수     : {df.move_population.quantile( 0.75 ):10.2f}명' )\n",
    "print( f'일 최대 유동인구 수          : {df.move_population.max():10.2f}명' )"
   ]
  },
  {
   "cell_type": "markdown",
   "metadata": {
    "id": "nym2UTTfu7Eq"
   },
   "source": [
    "# 4. EDA"
   ]
  },
  {
   "cell_type": "markdown",
   "metadata": {
    "id": "G7JBwm4Mu7Er"
   },
   "source": [
    "## 4.1 날짜별 유동 인구 분석"
   ]
  },
  {
   "cell_type": "code",
   "execution_count": 27,
   "metadata": {
    "id": "HcPBXn_xu7Er"
   },
   "outputs": [],
   "source": [
    "date_population = []\n",
    "for i in range( date_list.size ):\n",
    "    mask = date_list[ i ] == df.date\n",
    "    result = df.loc[ mask ]\n",
    "    date_population.append( result.move_population.sum() )"
   ]
  },
  {
   "cell_type": "code",
   "execution_count": 28,
   "metadata": {
    "id": "TLL-KWp1u7Er"
   },
   "outputs": [],
   "source": [
    "s = pd.Series( date_population, index = date_list )\n",
    "\n",
    "daily_mean = s.mean()\n",
    "daily_max = s.max()\n",
    "daily_max_index = s.argmax()\n",
    "daily_min = s.min()\n",
    "daily_min_index = s.argmin()"
   ]
  },
  {
   "cell_type": "code",
   "execution_count": 29,
   "metadata": {
    "id": "U3UKKw92u7Er",
    "outputId": "60da6db4-fbb6-408e-ad55-9c524d6876f4"
   },
   "outputs": [
    {
     "name": "stdout",
     "output_type": "stream",
     "text": [
      "( 20200401일 ) 총 유동인구는 [ 200208500명 ]\n",
      "( 20200402일 ) 총 유동인구는 [ 199791200명 ]\n",
      "( 20200403일 ) 총 유동인구는 [ 199136720명 ]\n",
      "( 20200404일 ) 총 유동인구는 [ 191161060명 ]\n",
      "( 20200405일 ) 총 유동인구는 [ 189696320명 ]\n",
      "( 20200406일 ) 총 유동인구는 [ 199919630명 ]\n",
      "( 20200407일 ) 총 유동인구는 [ 199803760명 ]\n",
      "( 20200408일 ) 총 유동인구는 [ 199655110명 ]\n",
      "( 20200409일 ) 총 유동인구는 [ 199541470명 ]\n",
      "( 20200410일 ) 총 유동인구는 [ 199091080명 ]\n",
      "( 20200411일 ) 총 유동인구는 [ 191032010명 ]\n",
      "( 20200412일 ) 총 유동인구는 [ 189643560명 ]\n",
      "( 20200413일 ) 총 유동인구는 [ 199241850명 ]\n",
      "( 20200414일 ) 총 유동인구는 [ 199278710명 ]\n",
      "( 20200415일 ) 총 유동인구는 [ 192381520명 ]\n",
      "( 20200416일 ) 총 유동인구는 [ 199059920명 ]\n",
      "( 20200417일 ) 총 유동인구는 [ 199406670명 ]\n",
      "( 20200418일 ) 총 유동인구는 [ 190872120명 ]\n",
      "( 20200419일 ) 총 유동인구는 [ 189951850명 ]\n",
      "( 20200420일 ) 총 유동인구는 [ 199629090명 ]\n",
      "( 20200421일 ) 총 유동인구는 [ 199479870명 ]\n",
      "( 20200422일 ) 총 유동인구는 [ 199512800명 ]\n",
      "( 20200423일 ) 총 유동인구는 [ 199370110명 ]\n",
      "( 20200424일 ) 총 유동인구는 [ 199139940명 ]\n",
      "( 20200425일 ) 총 유동인구는 [ 191227460명 ]\n",
      "( 20200426일 ) 총 유동인구는 [ 189159070명 ]\n",
      "( 20200427일 ) 총 유동인구는 [ 199196700명 ]\n",
      "( 20200428일 ) 총 유동인구는 [ 199080570명 ]\n",
      "( 20200429일 ) 총 유동인구는 [ 198499910명 ]\n",
      "( 20200430일 ) 총 유동인구는 [ 186668960명 ]\n"
     ]
    }
   ],
   "source": [
    "for date in date_list:\n",
    "    print( f'( {date}일 ) 총 유동인구는 [ {s[ date ]:8d}명 ]'  )"
   ]
  },
  {
   "cell_type": "code",
   "execution_count": 30,
   "metadata": {
    "id": "M_y6sNIXu7Es",
    "outputId": "bf7cbc1d-2b95-4288-bf31-fedc3f4fc369"
   },
   "outputs": [
    {
     "name": "stdout",
     "output_type": "stream",
     "text": [
      "일 평균 유동 인구수       : [ 196327918.00명 ]\n",
      "\n",
      "유동 인구수가 가장 많은날 : 20200401 [ 200208500.00명 ]\n",
      "유동 인구수가 가장 적은날 : 20200430 [ 186668960.00명 ]\n"
     ]
    }
   ],
   "source": [
    "print( f'일 평균 유동 인구수       : [ {daily_mean:10.2f}명 ]\\n' )\n",
    "print( f'유동 인구수가 가장 많은날 : {date_list[ daily_max_index ]} [ {daily_max:10.2f}명 ]' )\n",
    "print( f'유동 인구수가 가장 적은날 : {date_list[ daily_min_index ]} [ {daily_min:10.2f}명 ]' )"
   ]
  },
  {
   "cell_type": "code",
   "execution_count": 31,
   "metadata": {
    "id": "BChQ0KDju7Es",
    "outputId": "1f8b9dae-9c9a-4623-b1b0-2e1f09a621f1"
   },
   "outputs": [
    {
     "name": "stdout",
     "output_type": "stream",
     "text": [
      "유동 인구수가 가장 적은 날 정보 : 20200426/ 3시 연령( 70대 ) 성별( 남성 ) 중구        [     4380명 ]\n",
      "유동 인구수가 가장 많은 날 정보 : 20200428/14시 연령( 30대 ) 성별( 여성 ) 강남구      [   120640명 ]\n"
     ]
    }
   ],
   "source": [
    "index = df.move_population.idxmin()\n",
    "print( '유동 인구수가 가장 적은 날 정보 : {}/{:2d}시 연령( {}대 ) 성별( {} ) {:<8s}  [ {:8d}명 ]'.format( df.loc[ index, 'date' ], \n",
    "                                                                                                          df.loc[ index, 'time' ],\n",
    "                                                                                                          df.loc[ index, 'age' ],\n",
    "                                                                                                          df.loc[ index, 'gender' ],\n",
    "                                                                                                          df.loc[ index, 'gu' ].strip(),\n",
    "                                                                                                          df.loc[ index, 'move_population' ] ) )\n",
    "index = df.move_population.idxmax()\n",
    "print( '유동 인구수가 가장 많은 날 정보 : {}/{:2d}시 연령( {}대 ) 성별( {} ) {:<8s} [ {:8d}명 ]'.format( df.loc[ index, 'date' ], \n",
    "                                                                                                         df.loc[ index, 'time' ],\n",
    "                                                                                                         df.loc[ index, 'age' ],\n",
    "                                                                                                         df.loc[ index, 'gender' ],\n",
    "                                                                                                         df.loc[ index, 'gu' ].strip(),\n",
    "                                                                                                         df.loc[ index, 'move_population' ] ) )"
   ]
  },
  {
   "cell_type": "markdown",
   "metadata": {
    "id": "x1Iq4lk_u7Et"
   },
   "source": [
    "## 4.2 성별 유동 인구 분석"
   ]
  },
  {
   "cell_type": "code",
   "execution_count": 32,
   "metadata": {
    "id": "0fw6mMH8u7Et"
   },
   "outputs": [],
   "source": [
    "gender_population = []\n",
    "for i in range( gender_list.size ):\n",
    "    mask = gender_list[ i ] == df.gender\n",
    "    result = df.loc[ mask ]\n",
    "    gender_population.append( result.move_population.sum() )"
   ]
  },
  {
   "cell_type": "code",
   "execution_count": 33,
   "metadata": {
    "id": "v0aruNXCu7Et"
   },
   "outputs": [],
   "source": [
    "s = pd.Series( gender_population, index = gender_list )"
   ]
  },
  {
   "cell_type": "code",
   "execution_count": 34,
   "metadata": {
    "id": "WvqTvzoXu7Eu",
    "outputId": "7801da85-8cee-4b63-fd55-2ed5ec7be93d"
   },
   "outputs": [
    {
     "name": "stdout",
     "output_type": "stream",
     "text": [
      "( 남성 ) 총 유동인구는 [ 2851648900명 ]\n",
      "( 여성 ) 총 유동인구는 [ 3038188640명 ]\n"
     ]
    }
   ],
   "source": [
    "for gender in gender_list:\n",
    "    print( f'( {gender} ) 총 유동인구는 [ {s[ gender ]:10d}명 ]' )"
   ]
  },
  {
   "cell_type": "markdown",
   "metadata": {
    "id": "5GtPk_Pfu7Eu"
   },
   "source": [
    "## 4.3 연령대별 유동 인구 분석"
   ]
  },
  {
   "cell_type": "code",
   "execution_count": 38,
   "metadata": {
    "id": "_8BHC7M8u7Eu"
   },
   "outputs": [],
   "source": [
    "age_population = []\n",
    "for i in range( age_list.size ):\n",
    "    mask = age_list[ i ] == df.age\n",
    "    result = df.loc[ mask ]\n",
    "    age_population.append( result.move_population.sum() )"
   ]
  },
  {
   "cell_type": "code",
   "execution_count": 39,
   "metadata": {
    "id": "FAR_DgnAu7Eu"
   },
   "outputs": [],
   "source": [
    "s = pd.Series( age_population, index = age_list )"
   ]
  },
  {
   "cell_type": "code",
   "execution_count": 40,
   "metadata": {
    "id": "9Uf4zDuvu7Ev",
    "outputId": "e11e76e2-4de2-41b5-9dd0-77c1990e9fcf"
   },
   "outputs": [
    {
     "name": "stdout",
     "output_type": "stream",
     "text": [
      "( 20대 ) 총 유동인구는 [ 1089342970명 ]\n",
      "( 30대 ) 총 유동인구는 [ 1211368990명 ]\n",
      "( 50대 ) 총 유동인구는 [ 1124325220명 ]\n",
      "( 40대 ) 총 유동인구는 [ 1204134560명 ]\n",
      "( 70대 ) 총 유동인구는 [  542005390명 ]\n",
      "( 60대 ) 총 유동인구는 [  718660410명 ]\n"
     ]
    }
   ],
   "source": [
    "for age in age_list:\n",
    "    print( f'( {age}대 ) 총 유동인구는 [ {s[ age ]:>10d}명 ]' )"
   ]
  },
  {
   "cell_type": "code",
   "execution_count": 41,
   "metadata": {},
   "outputs": [
    {
     "name": "stdout",
     "output_type": "stream",
     "text": [
      "( 30대 ) [ 1211368990명 ]\n",
      "( 40대 ) [ 1204134560명 ]\n",
      "( 50대 ) [ 1124325220명 ]\n",
      "( 20대 ) [ 1089342970명 ]\n",
      "( 60대 ) [  718660410명 ]\n",
      "( 70대 ) [  542005390명 ]\n"
     ]
    }
   ],
   "source": [
    "s.sort_values( ascending = False, inplace = True )\n",
    "s_ages = s.index\n",
    "s_values = s.values\n",
    "\n",
    "for n, v in zip( s_ages, s_values ):\n",
    "    print( f'( {n}대 ) [ {v:10}명 ]' )"
   ]
  },
  {
   "cell_type": "markdown",
   "metadata": {},
   "source": [
    "## 4.4 구별 유동 인구 분석"
   ]
  },
  {
   "cell_type": "code",
   "execution_count": 42,
   "metadata": {},
   "outputs": [],
   "source": [
    "gu_population = []\n",
    "for i in range( gu_list.size ):\n",
    "    mask = gu_list[ i ] == df.gu\n",
    "    result = df.loc[ mask ]\n",
    "    gu_population.append( result.move_population.sum() )"
   ]
  },
  {
   "cell_type": "code",
   "execution_count": 43,
   "metadata": {},
   "outputs": [],
   "source": [
    "s = pd.Series( gu_population, index = gu_list )"
   ]
  },
  {
   "cell_type": "code",
   "execution_count": 44,
   "metadata": {},
   "outputs": [
    {
     "name": "stdout",
     "output_type": "stream",
     "text": [
      "(  도봉구 ) 총 유동인구는 [  172730720명 ]\n",
      "( 동대문구 ) 총 유동인구는 [  209673270명 ]\n",
      "(  구로구 ) 총 유동인구는 [  252685600명 ]\n",
      "(  강남구 ) 총 유동인구는 [  415479300명 ]\n",
      "(  성동구 ) 총 유동인구는 [  184605390명 ]\n",
      "(  강서구 ) 총 유동인구는 [  316538320명 ]\n",
      "(  금천구 ) 총 유동인구는 [  162236340명 ]\n",
      "(  관악구 ) 총 유동인구는 [  285422490명 ]\n",
      "(  중랑구 ) 총 유동인구는 [  210660150명 ]\n",
      "(  강북구 ) 총 유동인구는 [  171437740명 ]\n",
      "(  종로구 ) 총 유동인구는 [  152183320명 ]\n",
      "( 영등포구 ) 총 유동인구는 [  280428050명 ]\n",
      "(  용산구 ) 총 유동인구는 [  151474540명 ]\n",
      "(  광진구 ) 총 유동인구는 [  205584150명 ]\n",
      "(  노원구 ) 총 유동인구는 [  286372000명 ]\n",
      "(  양천구 ) 총 유동인구는 [  235960940명 ]\n",
      "(   중구 ) 총 유동인구는 [  152646440명 ]\n",
      "(  마포구 ) 총 유동인구는 [  245660870명 ]\n",
      "(  동작구 ) 총 유동인구는 [  224537120명 ]\n",
      "( 서대문구 ) 총 유동인구는 [  182865220명 ]\n",
      "(  송파구 ) 총 유동인구는 [  372279240명 ]\n",
      "(  은평구 ) 총 유동인구는 [  241684780명 ]\n",
      "(  강동구 ) 총 유동인구는 [  239157350명 ]\n",
      "(  서초구 ) 총 유동인구는 [  293867470명 ]\n",
      "(  성북구 ) 총 유동인구는 [  243666730명 ]\n"
     ]
    }
   ],
   "source": [
    "for gu in gu_list:\n",
    "    print( f'( {gu:>4} ) 총 유동인구는 [ {s[ gu ]:>10d}명 ]'  )"
   ]
  },
  {
   "cell_type": "code",
   "execution_count": 45,
   "metadata": {},
   "outputs": [
    {
     "name": "stdout",
     "output_type": "stream",
     "text": [
      "(   강남구 ) [  415479300명 ]\n",
      "(   송파구 ) [  372279240명 ]\n",
      "(   강서구 ) [  316538320명 ]\n",
      "(   서초구 ) [  293867470명 ]\n",
      "(   노원구 ) [  286372000명 ]\n",
      "(   관악구 ) [  285422490명 ]\n",
      "(  영등포구 ) [  280428050명 ]\n",
      "(   구로구 ) [  252685600명 ]\n",
      "(   마포구 ) [  245660870명 ]\n",
      "(   성북구 ) [  243666730명 ]\n",
      "(   은평구 ) [  241684780명 ]\n",
      "(   강동구 ) [  239157350명 ]\n",
      "(   양천구 ) [  235960940명 ]\n",
      "(   동작구 ) [  224537120명 ]\n",
      "(   중랑구 ) [  210660150명 ]\n",
      "(  동대문구 ) [  209673270명 ]\n",
      "(   광진구 ) [  205584150명 ]\n",
      "(   성동구 ) [  184605390명 ]\n",
      "(  서대문구 ) [  182865220명 ]\n",
      "(   도봉구 ) [  172730720명 ]\n",
      "(   강북구 ) [  171437740명 ]\n",
      "(   금천구 ) [  162236340명 ]\n",
      "(    중구 ) [  152646440명 ]\n",
      "(   종로구 ) [  152183320명 ]\n",
      "(   용산구 ) [  151474540명 ]\n"
     ]
    }
   ],
   "source": [
    "s.sort_values( ascending = False, inplace = True )\n",
    "s_names = s.index\n",
    "s_values = s.values\n",
    "\n",
    "for n, v in zip( s_names, s_values ):\n",
    "    print( f'( {n:>5} ) [ {v:10}명 ]' )"
   ]
  },
  {
   "cell_type": "code",
   "execution_count": null,
   "metadata": {},
   "outputs": [],
   "source": []
  }
 ],
 "metadata": {
  "colab": {
   "name": "Pandas_training.ipynb",
   "provenance": []
  },
  "kernelspec": {
   "display_name": "Python 3",
   "language": "python",
   "name": "python3"
  },
  "language_info": {
   "codemirror_mode": {
    "name": "ipython",
    "version": 3
   },
   "file_extension": ".py",
   "mimetype": "text/x-python",
   "name": "python",
   "nbconvert_exporter": "python",
   "pygments_lexer": "ipython3",
   "version": "3.8.5"
  }
 },
 "nbformat": 4,
 "nbformat_minor": 1
}
