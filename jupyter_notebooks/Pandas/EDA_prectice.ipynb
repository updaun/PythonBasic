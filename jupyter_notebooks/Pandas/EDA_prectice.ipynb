{
 "cells": [
  {
   "cell_type": "code",
   "execution_count": 2,
   "metadata": {},
   "outputs": [],
   "source": [
    "import numpy as np # NumPy\n",
    "import pandas as pd # Pandas\n",
    "\n",
    "# IPython( jupyter notebook ) 디스플레이 설정 변경\n",
    "# 출력할 열의 개수 한도 설정\n",
    "pd.set_option( 'display.max_columns', 20 )\n",
    "# 출력할 열의 너비 설정\n",
    "pd.set_option( 'display.max_colwidth', 20 )\n",
    "# 유니코드 사용 너비 조정\n",
    "pd.set_option( 'display.unicode.east_asian_width', True )\n",
    "\n",
    "# 경고( warnings ) 메시지 출력 방지\n",
    "import warnings\n",
    "warnings.filterwarnings( 'ignore' )"
   ]
  },
  {
   "cell_type": "markdown",
   "metadata": {},
   "source": [
    "## EDA 실습\n",
    "### 문제 정의  : 서울시 유동인구 데이터에 대한 EDA"
   ]
  },
  {
   "cell_type": "markdown",
   "metadata": {},
   "source": [
    "# 문제 정의 : 서울시 유동인구 분석   \n",
    "   \n",
    "- DataSet 구성\n",
    "    1. 일자 : 유동 인구를 수집한 날짜( 2020/04/01 ~ 2020/04/30 )\n",
    "    2. 시간 : 유동 인구를 수집한 시간( 0시 ~ 23시, 1시간 단위 수집 )\n",
    "    3. 연령대 : 유동 인구를 수집한 연령대( 20대 ~ 70대 )\n",
    "    4. 시 : 유동 인구를 수집한 시( 서울시 )\n",
    "    5. 구 : 유동 인구를 수집한 구( 서울 25개구 )\n",
    "    6. 유동인구수"
   ]
  },
  {
   "cell_type": "markdown",
   "metadata": {},
   "source": [
    "### 1. 수집한 데이터셋 데이터프레임 생성"
   ]
  },
  {
   "cell_type": "code",
   "execution_count": 5,
   "metadata": {},
   "outputs": [],
   "source": [
    "df = pd.read_csv('../NumPy/Floating_Population_2004.csv', encoding = 'utf-8')"
   ]
  },
  {
   "cell_type": "markdown",
   "metadata": {},
   "source": [
    "## 2. 데이터프레임 확인"
   ]
  },
  {
   "cell_type": "code",
   "execution_count": 6,
   "metadata": {},
   "outputs": [
    {
     "data": {
      "text/html": [
       "<div>\n",
       "<style scoped>\n",
       "    .dataframe tbody tr th:only-of-type {\n",
       "        vertical-align: middle;\n",
       "    }\n",
       "\n",
       "    .dataframe tbody tr th {\n",
       "        vertical-align: top;\n",
       "    }\n",
       "\n",
       "    .dataframe thead th {\n",
       "        text-align: right;\n",
       "    }\n",
       "</style>\n",
       "<table border=\"1\" class=\"dataframe\">\n",
       "  <thead>\n",
       "    <tr style=\"text-align: right;\">\n",
       "      <th></th>\n",
       "      <th>일자</th>\n",
       "      <th>시간(1시간단위)</th>\n",
       "      <th>연령대(10세단위)</th>\n",
       "      <th>성별</th>\n",
       "      <th>시</th>\n",
       "      <th>군구</th>\n",
       "      <th>유동인구수</th>\n",
       "    </tr>\n",
       "  </thead>\n",
       "  <tbody>\n",
       "    <tr>\n",
       "      <th>0</th>\n",
       "      <td>20200401</td>\n",
       "      <td>0</td>\n",
       "      <td>20</td>\n",
       "      <td>남성</td>\n",
       "      <td>서울</td>\n",
       "      <td>도봉구</td>\n",
       "      <td>21490</td>\n",
       "    </tr>\n",
       "    <tr>\n",
       "      <th>1</th>\n",
       "      <td>20200401</td>\n",
       "      <td>0</td>\n",
       "      <td>30</td>\n",
       "      <td>여성</td>\n",
       "      <td>서울</td>\n",
       "      <td>동대문구</td>\n",
       "      <td>27260</td>\n",
       "    </tr>\n",
       "    <tr>\n",
       "      <th>2</th>\n",
       "      <td>20200401</td>\n",
       "      <td>0</td>\n",
       "      <td>50</td>\n",
       "      <td>남성</td>\n",
       "      <td>서울</td>\n",
       "      <td>구로구</td>\n",
       "      <td>35670</td>\n",
       "    </tr>\n",
       "    <tr>\n",
       "      <th>3</th>\n",
       "      <td>20200401</td>\n",
       "      <td>1</td>\n",
       "      <td>30</td>\n",
       "      <td>여성</td>\n",
       "      <td>서울</td>\n",
       "      <td>강남구</td>\n",
       "      <td>52380</td>\n",
       "    </tr>\n",
       "    <tr>\n",
       "      <th>4</th>\n",
       "      <td>20200401</td>\n",
       "      <td>1</td>\n",
       "      <td>40</td>\n",
       "      <td>남성</td>\n",
       "      <td>서울</td>\n",
       "      <td>동대문구</td>\n",
       "      <td>28420</td>\n",
       "    </tr>\n",
       "  </tbody>\n",
       "</table>\n",
       "</div>"
      ],
      "text/plain": [
       "       일자  시간(1시간단위)  연령대(10세단위)  성별    시      군구  \\\n",
       "0  20200401                0                20  남성  서울    도봉구   \n",
       "1  20200401                0                30  여성  서울  동대문구   \n",
       "2  20200401                0                50  남성  서울    구로구   \n",
       "3  20200401                1                30  여성  서울    강남구   \n",
       "4  20200401                1                40  남성  서울  동대문구   \n",
       "\n",
       "   유동인구수  \n",
       "0       21490  \n",
       "1       27260  \n",
       "2       35670  \n",
       "3       52380  \n",
       "4       28420  "
      ]
     },
     "execution_count": 6,
     "metadata": {},
     "output_type": "execute_result"
    }
   ],
   "source": [
    "df.head()"
   ]
  },
  {
   "cell_type": "code",
   "execution_count": 4,
   "metadata": {},
   "outputs": [
    {
     "data": {
      "text/html": [
       "<div>\n",
       "<style scoped>\n",
       "    .dataframe tbody tr th:only-of-type {\n",
       "        vertical-align: middle;\n",
       "    }\n",
       "\n",
       "    .dataframe tbody tr th {\n",
       "        vertical-align: top;\n",
       "    }\n",
       "\n",
       "    .dataframe thead th {\n",
       "        text-align: right;\n",
       "    }\n",
       "</style>\n",
       "<table border=\"1\" class=\"dataframe\">\n",
       "  <thead>\n",
       "    <tr style=\"text-align: right;\">\n",
       "      <th></th>\n",
       "      <th>일자</th>\n",
       "      <th>시간(1시간단위)</th>\n",
       "      <th>연령대(10세단위)</th>\n",
       "      <th>성별</th>\n",
       "      <th>시</th>\n",
       "      <th>군구</th>\n",
       "      <th>유동인구수</th>\n",
       "    </tr>\n",
       "  </thead>\n",
       "  <tbody>\n",
       "    <tr>\n",
       "      <th>215995</th>\n",
       "      <td>20200430</td>\n",
       "      <td>22</td>\n",
       "      <td>40</td>\n",
       "      <td>여성</td>\n",
       "      <td>서울</td>\n",
       "      <td>성동구</td>\n",
       "      <td>22150</td>\n",
       "    </tr>\n",
       "    <tr>\n",
       "      <th>215996</th>\n",
       "      <td>20200430</td>\n",
       "      <td>22</td>\n",
       "      <td>50</td>\n",
       "      <td>여성</td>\n",
       "      <td>서울</td>\n",
       "      <td>서대문구</td>\n",
       "      <td>23270</td>\n",
       "    </tr>\n",
       "    <tr>\n",
       "      <th>215997</th>\n",
       "      <td>20200430</td>\n",
       "      <td>23</td>\n",
       "      <td>20</td>\n",
       "      <td>여성</td>\n",
       "      <td>서울</td>\n",
       "      <td>용산구</td>\n",
       "      <td>18570</td>\n",
       "    </tr>\n",
       "    <tr>\n",
       "      <th>215998</th>\n",
       "      <td>20200430</td>\n",
       "      <td>23</td>\n",
       "      <td>30</td>\n",
       "      <td>여성</td>\n",
       "      <td>서울</td>\n",
       "      <td>서대문구</td>\n",
       "      <td>21100</td>\n",
       "    </tr>\n",
       "    <tr>\n",
       "      <th>215999</th>\n",
       "      <td>20200430</td>\n",
       "      <td>23</td>\n",
       "      <td>40</td>\n",
       "      <td>남성</td>\n",
       "      <td>서울</td>\n",
       "      <td>강남구</td>\n",
       "      <td>45730</td>\n",
       "    </tr>\n",
       "  </tbody>\n",
       "</table>\n",
       "</div>"
      ],
      "text/plain": [
       "            일자  시간(1시간단위)  연령대(10세단위)  성별    시      군구  \\\n",
       "215995  20200430               22                40  여성  서울    성동구   \n",
       "215996  20200430               22                50  여성  서울  서대문구   \n",
       "215997  20200430               23                20  여성  서울    용산구   \n",
       "215998  20200430               23                30  여성  서울  서대문구   \n",
       "215999  20200430               23                40  남성  서울    강남구   \n",
       "\n",
       "        유동인구수  \n",
       "215995       22150  \n",
       "215996       23270  \n",
       "215997       18570  \n",
       "215998       21100  \n",
       "215999       45730  "
      ]
     },
     "execution_count": 4,
     "metadata": {},
     "output_type": "execute_result"
    }
   ],
   "source": [
    "df.tail()"
   ]
  },
  {
   "cell_type": "markdown",
   "metadata": {},
   "source": [
    "## 3. 데이터프레임 구조 확인"
   ]
  },
  {
   "cell_type": "code",
   "execution_count": 5,
   "metadata": {},
   "outputs": [
    {
     "data": {
      "text/plain": [
       "(216000, 7)"
      ]
     },
     "execution_count": 5,
     "metadata": {},
     "output_type": "execute_result"
    }
   ],
   "source": [
    "df.shape"
   ]
  },
  {
   "cell_type": "markdown",
   "metadata": {},
   "source": [
    "## 4. 데이터프레임 기본 정보 확인"
   ]
  },
  {
   "cell_type": "code",
   "execution_count": 6,
   "metadata": {},
   "outputs": [
    {
     "name": "stdout",
     "output_type": "stream",
     "text": [
      "<class 'pandas.core.frame.DataFrame'>\n",
      "RangeIndex: 216000 entries, 0 to 215999\n",
      "Data columns (total 7 columns):\n",
      " #   Column      Non-Null Count   Dtype \n",
      "---  ------      --------------   ----- \n",
      " 0   일자          216000 non-null  int64 \n",
      " 1   시간(1시간단위)   216000 non-null  int64 \n",
      " 2   연령대(10세단위)  216000 non-null  int64 \n",
      " 3   성별          216000 non-null  object\n",
      " 4   시           216000 non-null  object\n",
      " 5   군구          216000 non-null  object\n",
      " 6   유동인구수       216000 non-null  int64 \n",
      "dtypes: int64(4), object(3)\n",
      "memory usage: 11.5+ MB\n"
     ]
    }
   ],
   "source": [
    "df.info()"
   ]
  },
  {
   "cell_type": "code",
   "execution_count": 7,
   "metadata": {},
   "outputs": [
    {
     "data": {
      "text/plain": [
       "일자                 int64\n",
       "시간(1시간단위)      int64\n",
       "연령대(10세단위)     int64\n",
       "성별                object\n",
       "시                  object\n",
       "군구                object\n",
       "유동인구수           int64\n",
       "dtype: object"
      ]
     },
     "execution_count": 7,
     "metadata": {},
     "output_type": "execute_result"
    }
   ],
   "source": [
    "df.dtypes"
   ]
  },
  {
   "cell_type": "code",
   "execution_count": 8,
   "metadata": {},
   "outputs": [
    {
     "data": {
      "text/plain": [
       "Index(['일자', '시간(1시간단위)', '연령대(10세단위)', '성별', '시', '군구',\n",
       "       '유동인구수'], dtype='object')"
      ]
     },
     "execution_count": 8,
     "metadata": {},
     "output_type": "execute_result"
    }
   ],
   "source": [
    "df.columns"
   ]
  },
  {
   "cell_type": "code",
   "execution_count": 9,
   "metadata": {},
   "outputs": [
    {
     "data": {
      "text/plain": [
       "RangeIndex(start=0, stop=216000, step=1)"
      ]
     },
     "execution_count": 9,
     "metadata": {},
     "output_type": "execute_result"
    }
   ],
   "source": [
    "df.index"
   ]
  },
  {
   "cell_type": "markdown",
   "metadata": {},
   "source": [
    "###  불필요 행(변수) 삭제"
   ]
  },
  {
   "cell_type": "code",
   "execution_count": 7,
   "metadata": {},
   "outputs": [],
   "source": [
    "df.drop( '시', axis = 1, inplace = True )"
   ]
  },
  {
   "cell_type": "code",
   "execution_count": 8,
   "metadata": {},
   "outputs": [
    {
     "data": {
      "text/html": [
       "<div>\n",
       "<style scoped>\n",
       "    .dataframe tbody tr th:only-of-type {\n",
       "        vertical-align: middle;\n",
       "    }\n",
       "\n",
       "    .dataframe tbody tr th {\n",
       "        vertical-align: top;\n",
       "    }\n",
       "\n",
       "    .dataframe thead th {\n",
       "        text-align: right;\n",
       "    }\n",
       "</style>\n",
       "<table border=\"1\" class=\"dataframe\">\n",
       "  <thead>\n",
       "    <tr style=\"text-align: right;\">\n",
       "      <th></th>\n",
       "      <th>일자</th>\n",
       "      <th>시간(1시간단위)</th>\n",
       "      <th>연령대(10세단위)</th>\n",
       "      <th>성별</th>\n",
       "      <th>군구</th>\n",
       "      <th>유동인구수</th>\n",
       "    </tr>\n",
       "  </thead>\n",
       "  <tbody>\n",
       "    <tr>\n",
       "      <th>0</th>\n",
       "      <td>20200401</td>\n",
       "      <td>0</td>\n",
       "      <td>20</td>\n",
       "      <td>남성</td>\n",
       "      <td>도봉구</td>\n",
       "      <td>21490</td>\n",
       "    </tr>\n",
       "    <tr>\n",
       "      <th>1</th>\n",
       "      <td>20200401</td>\n",
       "      <td>0</td>\n",
       "      <td>30</td>\n",
       "      <td>여성</td>\n",
       "      <td>동대문구</td>\n",
       "      <td>27260</td>\n",
       "    </tr>\n",
       "    <tr>\n",
       "      <th>2</th>\n",
       "      <td>20200401</td>\n",
       "      <td>0</td>\n",
       "      <td>50</td>\n",
       "      <td>남성</td>\n",
       "      <td>구로구</td>\n",
       "      <td>35670</td>\n",
       "    </tr>\n",
       "    <tr>\n",
       "      <th>3</th>\n",
       "      <td>20200401</td>\n",
       "      <td>1</td>\n",
       "      <td>30</td>\n",
       "      <td>여성</td>\n",
       "      <td>강남구</td>\n",
       "      <td>52380</td>\n",
       "    </tr>\n",
       "    <tr>\n",
       "      <th>4</th>\n",
       "      <td>20200401</td>\n",
       "      <td>1</td>\n",
       "      <td>40</td>\n",
       "      <td>남성</td>\n",
       "      <td>동대문구</td>\n",
       "      <td>28420</td>\n",
       "    </tr>\n",
       "  </tbody>\n",
       "</table>\n",
       "</div>"
      ],
      "text/plain": [
       "       일자  시간(1시간단위)  연령대(10세단위)  성별      군구  유동인구수\n",
       "0  20200401                0                20  남성    도봉구       21490\n",
       "1  20200401                0                30  여성  동대문구       27260\n",
       "2  20200401                0                50  남성    구로구       35670\n",
       "3  20200401                1                30  여성    강남구       52380\n",
       "4  20200401                1                40  남성  동대문구       28420"
      ]
     },
     "execution_count": 8,
     "metadata": {},
     "output_type": "execute_result"
    }
   ],
   "source": [
    "df.head()"
   ]
  },
  {
   "cell_type": "markdown",
   "metadata": {},
   "source": [
    "## 5. 변수 이름 변경"
   ]
  },
  {
   "cell_type": "code",
   "execution_count": 10,
   "metadata": {},
   "outputs": [],
   "source": [
    "df.rename( columns = {'시간(1시간단위)':'시간', '연령대(10세단위)':'연령대'}, inplace = True)"
   ]
  },
  {
   "cell_type": "code",
   "execution_count": 11,
   "metadata": {},
   "outputs": [
    {
     "name": "stdout",
     "output_type": "stream",
     "text": [
      "<class 'pandas.core.frame.DataFrame'>\n",
      "RangeIndex: 216000 entries, 0 to 215999\n",
      "Data columns (total 7 columns):\n",
      " #   Column  Non-Null Count   Dtype \n",
      "---  ------  --------------   ----- \n",
      " 0   일자      216000 non-null  int64 \n",
      " 1   시간      216000 non-null  int64 \n",
      " 2   연령대     216000 non-null  int64 \n",
      " 3   성별      216000 non-null  object\n",
      " 4   시       216000 non-null  object\n",
      " 5   군구      216000 non-null  object\n",
      " 6   유동인구수   216000 non-null  int64 \n",
      "dtypes: int64(4), object(3)\n",
      "memory usage: 11.5+ MB\n"
     ]
    }
   ],
   "source": [
    "df.info()"
   ]
  },
  {
   "cell_type": "code",
   "execution_count": 12,
   "metadata": {},
   "outputs": [
    {
     "data": {
      "text/plain": [
       "Index(['일자', '시간', '연령대', '성별', '시', '군구', '유동인구수'], dtype='object')"
      ]
     },
     "execution_count": 12,
     "metadata": {},
     "output_type": "execute_result"
    }
   ],
   "source": [
    "df.columns"
   ]
  },
  {
   "cell_type": "code",
   "execution_count": 16,
   "metadata": {},
   "outputs": [],
   "source": [
    "df.rename( columns = {'일자':'date',\n",
    "                      '시간':'time',\n",
    "                      '연령대':'age',\n",
    "                      '성별':'gender',\n",
    "                      '시':'city',\n",
    "                      '군구':'town',\n",
    "                      '유동인구수':'people',\n",
    "                     }, inplace = True)"
   ]
  },
  {
   "cell_type": "code",
   "execution_count": 17,
   "metadata": {},
   "outputs": [
    {
     "data": {
      "text/plain": [
       "Index(['date', 'time', 'age', 'gender', 'city', 'town', 'people'], dtype='object')"
      ]
     },
     "execution_count": 17,
     "metadata": {},
     "output_type": "execute_result"
    }
   ],
   "source": [
    "df.columns"
   ]
  },
  {
   "cell_type": "markdown",
   "metadata": {},
   "source": [
    "## 6. 기초 통계 분석\n",
    "\n",
    "### 6.1 데이터 요약 통계"
   ]
  },
  {
   "cell_type": "code",
   "execution_count": 18,
   "metadata": {},
   "outputs": [
    {
     "data": {
      "text/html": [
       "<div>\n",
       "<style scoped>\n",
       "    .dataframe tbody tr th:only-of-type {\n",
       "        vertical-align: middle;\n",
       "    }\n",
       "\n",
       "    .dataframe tbody tr th {\n",
       "        vertical-align: top;\n",
       "    }\n",
       "\n",
       "    .dataframe thead th {\n",
       "        text-align: right;\n",
       "    }\n",
       "</style>\n",
       "<table border=\"1\" class=\"dataframe\">\n",
       "  <thead>\n",
       "    <tr style=\"text-align: right;\">\n",
       "      <th></th>\n",
       "      <th>date</th>\n",
       "      <th>time</th>\n",
       "      <th>age</th>\n",
       "      <th>people</th>\n",
       "    </tr>\n",
       "  </thead>\n",
       "  <tbody>\n",
       "    <tr>\n",
       "      <th>count</th>\n",
       "      <td>216000.0</td>\n",
       "      <td>216000.0</td>\n",
       "      <td>216000.0</td>\n",
       "      <td>216000.0</td>\n",
       "    </tr>\n",
       "    <tr>\n",
       "      <th>mean</th>\n",
       "      <td>20200415.5</td>\n",
       "      <td>11.5</td>\n",
       "      <td>45.0</td>\n",
       "      <td>27267.8</td>\n",
       "    </tr>\n",
       "    <tr>\n",
       "      <th>std</th>\n",
       "      <td>8.7</td>\n",
       "      <td>6.9</td>\n",
       "      <td>17.1</td>\n",
       "      <td>12480.4</td>\n",
       "    </tr>\n",
       "    <tr>\n",
       "      <th>min</th>\n",
       "      <td>20200401.0</td>\n",
       "      <td>0.0</td>\n",
       "      <td>20.0</td>\n",
       "      <td>4380.0</td>\n",
       "    </tr>\n",
       "    <tr>\n",
       "      <th>25%</th>\n",
       "      <td>20200408.0</td>\n",
       "      <td>5.8</td>\n",
       "      <td>30.0</td>\n",
       "      <td>18070.0</td>\n",
       "    </tr>\n",
       "    <tr>\n",
       "      <th>50%</th>\n",
       "      <td>20200415.5</td>\n",
       "      <td>11.5</td>\n",
       "      <td>45.0</td>\n",
       "      <td>25470.0</td>\n",
       "    </tr>\n",
       "    <tr>\n",
       "      <th>75%</th>\n",
       "      <td>20200423.0</td>\n",
       "      <td>17.2</td>\n",
       "      <td>60.0</td>\n",
       "      <td>34090.0</td>\n",
       "    </tr>\n",
       "    <tr>\n",
       "      <th>max</th>\n",
       "      <td>20200430.0</td>\n",
       "      <td>23.0</td>\n",
       "      <td>70.0</td>\n",
       "      <td>120640.0</td>\n",
       "    </tr>\n",
       "  </tbody>\n",
       "</table>\n",
       "</div>"
      ],
      "text/plain": [
       "             date      time       age    people\n",
       "count    216000.0  216000.0  216000.0  216000.0\n",
       "mean   20200415.5      11.5      45.0   27267.8\n",
       "std           8.7       6.9      17.1   12480.4\n",
       "min    20200401.0       0.0      20.0    4380.0\n",
       "25%    20200408.0       5.8      30.0   18070.0\n",
       "50%    20200415.5      11.5      45.0   25470.0\n",
       "75%    20200423.0      17.2      60.0   34090.0\n",
       "max    20200430.0      23.0      70.0  120640.0"
      ]
     },
     "execution_count": 18,
     "metadata": {},
     "output_type": "execute_result"
    }
   ],
   "source": [
    "df.describe().round(1)"
   ]
  },
  {
   "cell_type": "code",
   "execution_count": 20,
   "metadata": {},
   "outputs": [
    {
     "name": "stdout",
     "output_type": "stream",
     "text": [
      "평균 유동인구               : 27267.77명\n",
      "최소 유동인구               : 4380.00명\n",
      "최고 유동인구               : 120640.00명\n",
      "유동인구에 대한 표준 편차   : 12480.43\n",
      "유동인구에 대한 1사분위수   : 18070.00명\n",
      "유동인구에 대한 2사분위수   : 25470.00명\n",
      "유동인구에 대한 3사분위수   : 34090.00명\n"
     ]
    }
   ],
   "source": [
    "print( f'평균 유동인구               : {df.people.mean():6.2f}명' )\n",
    "print( f'최소 유동인구               : {df.people.min():6.2f}명' )\n",
    "print( f'최고 유동인구               : {df.people.max():6.2f}명' )\n",
    "print( f'유동인구에 대한 표준 편차   : {df.people.std():6.2f}' )\n",
    "print( f'유동인구에 대한 1사분위수   : {df.people.quantile( 0.25 ):6.2f}명' )\n",
    "print( f'유동인구에 대한 2사분위수   : {df.people.quantile( 0.50 ):6.2f}명' )\n",
    "print( f'유동인구에 대한 3사분위수   : {df.people.quantile( 0.75 ):6.2f}명' )"
   ]
  },
  {
   "cell_type": "markdown",
   "metadata": {},
   "source": [
    "## 7. 탐색적 데이터 분석( EDA )\n",
    "\n",
    "### 7.1 유동인구순 정렬"
   ]
  },
  {
   "cell_type": "code",
   "execution_count": 21,
   "metadata": {},
   "outputs": [
    {
     "data": {
      "text/html": [
       "<div>\n",
       "<style scoped>\n",
       "    .dataframe tbody tr th:only-of-type {\n",
       "        vertical-align: middle;\n",
       "    }\n",
       "\n",
       "    .dataframe tbody tr th {\n",
       "        vertical-align: top;\n",
       "    }\n",
       "\n",
       "    .dataframe thead th {\n",
       "        text-align: right;\n",
       "    }\n",
       "</style>\n",
       "<table border=\"1\" class=\"dataframe\">\n",
       "  <thead>\n",
       "    <tr style=\"text-align: right;\">\n",
       "      <th></th>\n",
       "      <th>date</th>\n",
       "      <th>time</th>\n",
       "      <th>age</th>\n",
       "      <th>gender</th>\n",
       "      <th>city</th>\n",
       "      <th>town</th>\n",
       "      <th>people</th>\n",
       "    </tr>\n",
       "  </thead>\n",
       "  <tbody>\n",
       "    <tr>\n",
       "      <th>98155</th>\n",
       "      <td>20200428</td>\n",
       "      <td>14</td>\n",
       "      <td>30</td>\n",
       "      <td>여성</td>\n",
       "      <td>서울</td>\n",
       "      <td>강남구</td>\n",
       "      <td>120640</td>\n",
       "    </tr>\n",
       "    <tr>\n",
       "      <th>71673</th>\n",
       "      <td>20200428</td>\n",
       "      <td>13</td>\n",
       "      <td>30</td>\n",
       "      <td>여성</td>\n",
       "      <td>서울</td>\n",
       "      <td>강남구</td>\n",
       "      <td>120090</td>\n",
       "    </tr>\n",
       "    <tr>\n",
       "      <th>113462</th>\n",
       "      <td>20200428</td>\n",
       "      <td>15</td>\n",
       "      <td>30</td>\n",
       "      <td>여성</td>\n",
       "      <td>서울</td>\n",
       "      <td>강남구</td>\n",
       "      <td>119920</td>\n",
       "    </tr>\n",
       "    <tr>\n",
       "      <th>137043</th>\n",
       "      <td>20200427</td>\n",
       "      <td>14</td>\n",
       "      <td>30</td>\n",
       "      <td>남성</td>\n",
       "      <td>서울</td>\n",
       "      <td>강남구</td>\n",
       "      <td>119760</td>\n",
       "    </tr>\n",
       "    <tr>\n",
       "      <th>43472</th>\n",
       "      <td>20200428</td>\n",
       "      <td>15</td>\n",
       "      <td>30</td>\n",
       "      <td>남성</td>\n",
       "      <td>서울</td>\n",
       "      <td>강남구</td>\n",
       "      <td>119740</td>\n",
       "    </tr>\n",
       "    <tr>\n",
       "      <th>...</th>\n",
       "      <td>...</td>\n",
       "      <td>...</td>\n",
       "      <td>...</td>\n",
       "      <td>...</td>\n",
       "      <td>...</td>\n",
       "      <td>...</td>\n",
       "      <td>...</td>\n",
       "    </tr>\n",
       "    <tr>\n",
       "      <th>84722</th>\n",
       "      <td>20200426</td>\n",
       "      <td>2</td>\n",
       "      <td>70</td>\n",
       "      <td>남성</td>\n",
       "      <td>서울</td>\n",
       "      <td>중구</td>\n",
       "      <td>4430</td>\n",
       "    </tr>\n",
       "    <tr>\n",
       "      <th>50517</th>\n",
       "      <td>20200405</td>\n",
       "      <td>4</td>\n",
       "      <td>70</td>\n",
       "      <td>남성</td>\n",
       "      <td>서울</td>\n",
       "      <td>중구</td>\n",
       "      <td>4420</td>\n",
       "    </tr>\n",
       "    <tr>\n",
       "      <th>170924</th>\n",
       "      <td>20200412</td>\n",
       "      <td>4</td>\n",
       "      <td>70</td>\n",
       "      <td>남성</td>\n",
       "      <td>서울</td>\n",
       "      <td>중구</td>\n",
       "      <td>4390</td>\n",
       "    </tr>\n",
       "    <tr>\n",
       "      <th>211226</th>\n",
       "      <td>20200426</td>\n",
       "      <td>4</td>\n",
       "      <td>70</td>\n",
       "      <td>남성</td>\n",
       "      <td>서울</td>\n",
       "      <td>중구</td>\n",
       "      <td>4390</td>\n",
       "    </tr>\n",
       "    <tr>\n",
       "      <th>82486</th>\n",
       "      <td>20200426</td>\n",
       "      <td>3</td>\n",
       "      <td>70</td>\n",
       "      <td>남성</td>\n",
       "      <td>서울</td>\n",
       "      <td>중구</td>\n",
       "      <td>4380</td>\n",
       "    </tr>\n",
       "  </tbody>\n",
       "</table>\n",
       "<p>216000 rows × 7 columns</p>\n",
       "</div>"
      ],
      "text/plain": [
       "            date  time  age gender  city    town  people\n",
       "98155   20200428    14   30   여성  서울  강남구  120640\n",
       "71673   20200428    13   30   여성  서울  강남구  120090\n",
       "113462  20200428    15   30   여성  서울  강남구  119920\n",
       "137043  20200427    14   30   남성  서울  강남구  119760\n",
       "43472   20200428    15   30   남성  서울  강남구  119740\n",
       "...          ...   ...  ...    ...   ...     ...     ...\n",
       "84722   20200426     2   70   남성  서울    중구    4430\n",
       "50517   20200405     4   70   남성  서울    중구    4420\n",
       "170924  20200412     4   70   남성  서울    중구    4390\n",
       "211226  20200426     4   70   남성  서울    중구    4390\n",
       "82486   20200426     3   70   남성  서울    중구    4380\n",
       "\n",
       "[216000 rows x 7 columns]"
      ]
     },
     "execution_count": 21,
     "metadata": {},
     "output_type": "execute_result"
    }
   ],
   "source": [
    "df.sort_values( by = 'people', ascending = False )"
   ]
  },
  {
   "cell_type": "markdown",
   "metadata": {},
   "source": [
    "### 7.2 시간대별 유동인구수"
   ]
  },
  {
   "cell_type": "code",
   "execution_count": null,
   "metadata": {},
   "outputs": [],
   "source": []
  }
 ],
 "metadata": {
  "kernelspec": {
   "display_name": "Python 3",
   "language": "python",
   "name": "python3"
  },
  "language_info": {
   "codemirror_mode": {
    "name": "ipython",
    "version": 3
   },
   "file_extension": ".py",
   "mimetype": "text/x-python",
   "name": "python",
   "nbconvert_exporter": "python",
   "pygments_lexer": "ipython3",
   "version": "3.8.5"
  }
 },
 "nbformat": 4,
 "nbformat_minor": 4
}
