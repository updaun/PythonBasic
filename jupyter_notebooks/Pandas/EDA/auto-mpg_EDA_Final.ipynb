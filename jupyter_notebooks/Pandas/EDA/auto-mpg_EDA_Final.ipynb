{
 "cells": [
  {
   "cell_type": "markdown",
   "metadata": {
    "id": "m2HJROxxjXt3"
   },
   "source": [
    "# 'auto-mpg.csv'에 대한 EDA를 수행 합니다."
   ]
  },
  {
   "cell_type": "markdown",
   "metadata": {
    "id": "AMKGFAVsjXt5"
   },
   "source": [
    "# 문제 정의 : 자동차 연비 분석"
   ]
  },
  {
   "cell_type": "markdown",
   "metadata": {
    "id": "MvrLHMXzjXt5"
   },
   "source": [
    "## DataSet 구성\n",
    "\n",
    "    1. mpg : 연비\n",
    "    2. cylinders : 실린더수\n",
    "    3. displacement : 배기량\n",
    "    4. horsepower : 마력\n",
    "    5. weight : 중량\n",
    "    6. acceleration : 가속력\n",
    "    7. model year : 출시년도\n",
    "    8. origin : 출시국가\n",
    "    9. name : 모델 이름"
   ]
  },
  {
   "cell_type": "code",
   "execution_count": 2,
   "metadata": {
    "executionInfo": {
     "elapsed": 788,
     "status": "ok",
     "timestamp": 1622416789177,
     "user": {
      "displayName": "OuSeoung LEE",
      "photoUrl": "",
      "userId": "04718254206241101663"
     },
     "user_tz": -540
    },
    "id": "gGG00vG7jXt6"
   },
   "outputs": [],
   "source": [
    "import numpy as np\n",
    "import pandas as pd\n",
    "import matplotlib.pyplot as plt\n",
    "import seaborn as sns\n",
    "\n",
    "%matplotlib inline\n",
    "\n",
    "# matplotlib 한글 폰트 오류 문제 해결 - windows\n",
    "#from matplotlib import font_manager, rc\n",
    "#font_path = \"C:\\\\Windows\\\\Fonts\\\\malgun.ttf\" # 폰트 파일 위치\n",
    "#font_name = font_manager.FontProperties( fname = font_path ).get_name()\n",
    "#rc( 'font', family = font_name )\n",
    "\n",
    "# matplotlib 한글 폰트 오류 문제 해결 - mac \n",
    "from matplotlib import rc\n",
    "rc( 'font', family = 'AppleGothic' )\n",
    "\n",
    "# IPython 디스플레이 설정 변경 - 출력할 최대 열의 개수\n",
    "pd.set_option( 'display.max_columns', 20 ) # 출력할 열의 개수 한도\n",
    "pd.set_option( 'display.max_colwidth', 20 ) # 출력할 열의 너비\n",
    "pd.set_option( 'display.unicode.east_asian_width', True ) # 유니코드 사용 너비 조정\n",
    "\n",
    "import warnings\n",
    "warnings.filterwarnings('ignore')"
   ]
  },
  {
   "cell_type": "code",
   "execution_count": 4,
   "metadata": {
    "colab": {
     "base_uri": "https://localhost:8080/"
    },
    "executionInfo": {
     "elapsed": 21518,
     "status": "ok",
     "timestamp": 1622416844461,
     "user": {
      "displayName": "OuSeoung LEE",
      "photoUrl": "",
      "userId": "04718254206241101663"
     },
     "user_tz": -540
    },
    "id": "ffC1AoLzlAXj",
    "outputId": "abba4fd0-2867-4c1b-bcf4-b45022ff9549"
   },
   "outputs": [
    {
     "name": "stdout",
     "output_type": "stream",
     "text": [
      "Mounted at /content/drive\n"
     ]
    }
   ],
   "source": [
    "from google.colab import drive\n",
    "drive.mount( '/content/drive' )"
   ]
  },
  {
   "cell_type": "markdown",
   "metadata": {
    "id": "5inzG6yajXt6"
   },
   "source": [
    "## 데이터 수집\n",
    "\n",
    "- DataFrame 생성\n",
    "- DataFrame 기본 정보 확인"
   ]
  },
  {
   "cell_type": "code",
   "execution_count": 5,
   "metadata": {
    "executionInfo": {
     "elapsed": 779,
     "status": "ok",
     "timestamp": 1622416876598,
     "user": {
      "displayName": "OuSeoung LEE",
      "photoUrl": "",
      "userId": "04718254206241101663"
     },
     "user_tz": -540
    },
    "id": "OBbLQEWTjXt6"
   },
   "outputs": [],
   "source": [
    "df = pd.read_csv( '/content/drive/MyDrive/Colab Notebooks/202104AI_B_Workspace/auto-mpg.csv', \n",
    "                  header = None )\n",
    "\n",
    "# 열 이름 지정\n",
    "df.columns = [ 'mpg', 'cylinders', 'displacement', 'horsepower', 'weight',\n",
    "               'acceleration', 'model year', 'origin', 'name' ]"
   ]
  },
  {
   "cell_type": "code",
   "execution_count": 6,
   "metadata": {
    "colab": {
     "base_uri": "https://localhost:8080/",
     "height": 204
    },
    "executionInfo": {
     "elapsed": 391,
     "status": "ok",
     "timestamp": 1622416878194,
     "user": {
      "displayName": "OuSeoung LEE",
      "photoUrl": "",
      "userId": "04718254206241101663"
     },
     "user_tz": -540
    },
    "id": "aVrwO-E3jXt7",
    "outputId": "f41d01f4-94f9-45c2-fe53-99fc9a7278ac"
   },
   "outputs": [
    {
     "data": {
      "text/html": [
       "<div>\n",
       "<style scoped>\n",
       "    .dataframe tbody tr th:only-of-type {\n",
       "        vertical-align: middle;\n",
       "    }\n",
       "\n",
       "    .dataframe tbody tr th {\n",
       "        vertical-align: top;\n",
       "    }\n",
       "\n",
       "    .dataframe thead th {\n",
       "        text-align: right;\n",
       "    }\n",
       "</style>\n",
       "<table border=\"1\" class=\"dataframe\">\n",
       "  <thead>\n",
       "    <tr style=\"text-align: right;\">\n",
       "      <th></th>\n",
       "      <th>mpg</th>\n",
       "      <th>cylinders</th>\n",
       "      <th>displacement</th>\n",
       "      <th>horsepower</th>\n",
       "      <th>weight</th>\n",
       "      <th>acceleration</th>\n",
       "      <th>model year</th>\n",
       "      <th>origin</th>\n",
       "      <th>name</th>\n",
       "    </tr>\n",
       "  </thead>\n",
       "  <tbody>\n",
       "    <tr>\n",
       "      <th>0</th>\n",
       "      <td>18.0</td>\n",
       "      <td>8</td>\n",
       "      <td>307.0</td>\n",
       "      <td>130.0</td>\n",
       "      <td>3504.0</td>\n",
       "      <td>12.0</td>\n",
       "      <td>70</td>\n",
       "      <td>1</td>\n",
       "      <td>chevrolet chevel...</td>\n",
       "    </tr>\n",
       "    <tr>\n",
       "      <th>1</th>\n",
       "      <td>15.0</td>\n",
       "      <td>8</td>\n",
       "      <td>350.0</td>\n",
       "      <td>165.0</td>\n",
       "      <td>3693.0</td>\n",
       "      <td>11.5</td>\n",
       "      <td>70</td>\n",
       "      <td>1</td>\n",
       "      <td>buick skylark 320</td>\n",
       "    </tr>\n",
       "    <tr>\n",
       "      <th>2</th>\n",
       "      <td>18.0</td>\n",
       "      <td>8</td>\n",
       "      <td>318.0</td>\n",
       "      <td>150.0</td>\n",
       "      <td>3436.0</td>\n",
       "      <td>11.0</td>\n",
       "      <td>70</td>\n",
       "      <td>1</td>\n",
       "      <td>plymouth satellite</td>\n",
       "    </tr>\n",
       "    <tr>\n",
       "      <th>3</th>\n",
       "      <td>16.0</td>\n",
       "      <td>8</td>\n",
       "      <td>304.0</td>\n",
       "      <td>150.0</td>\n",
       "      <td>3433.0</td>\n",
       "      <td>12.0</td>\n",
       "      <td>70</td>\n",
       "      <td>1</td>\n",
       "      <td>amc rebel sst</td>\n",
       "    </tr>\n",
       "    <tr>\n",
       "      <th>4</th>\n",
       "      <td>17.0</td>\n",
       "      <td>8</td>\n",
       "      <td>302.0</td>\n",
       "      <td>140.0</td>\n",
       "      <td>3449.0</td>\n",
       "      <td>10.5</td>\n",
       "      <td>70</td>\n",
       "      <td>1</td>\n",
       "      <td>ford torino</td>\n",
       "    </tr>\n",
       "  </tbody>\n",
       "</table>\n",
       "</div>"
      ],
      "text/plain": [
       "    mpg  cylinders  displacement horsepower  weight  acceleration  model year  \\\n",
       "0  18.0          8         307.0      130.0  3504.0          12.0          70   \n",
       "1  15.0          8         350.0      165.0  3693.0          11.5          70   \n",
       "2  18.0          8         318.0      150.0  3436.0          11.0          70   \n",
       "3  16.0          8         304.0      150.0  3433.0          12.0          70   \n",
       "4  17.0          8         302.0      140.0  3449.0          10.5          70   \n",
       "\n",
       "   origin                 name  \n",
       "0       1  chevrolet chevel...  \n",
       "1       1    buick skylark 320  \n",
       "2       1   plymouth satellite  \n",
       "3       1        amc rebel sst  \n",
       "4       1          ford torino  "
      ]
     },
     "execution_count": 6,
     "metadata": {
      "tags": []
     },
     "output_type": "execute_result"
    }
   ],
   "source": [
    "df.head()"
   ]
  },
  {
   "cell_type": "code",
   "execution_count": 7,
   "metadata": {
    "colab": {
     "base_uri": "https://localhost:8080/"
    },
    "executionInfo": {
     "elapsed": 336,
     "status": "ok",
     "timestamp": 1622416880601,
     "user": {
      "displayName": "OuSeoung LEE",
      "photoUrl": "",
      "userId": "04718254206241101663"
     },
     "user_tz": -540
    },
    "id": "2aidBhG4jXt8",
    "outputId": "32212731-dd47-424e-a623-d262dfebc89e"
   },
   "outputs": [
    {
     "name": "stdout",
     "output_type": "stream",
     "text": [
      "<class 'pandas.core.frame.DataFrame'>\n",
      "RangeIndex: 398 entries, 0 to 397\n",
      "Data columns (total 9 columns):\n",
      " #   Column        Non-Null Count  Dtype  \n",
      "---  ------        --------------  -----  \n",
      " 0   mpg           398 non-null    float64\n",
      " 1   cylinders     398 non-null    int64  \n",
      " 2   displacement  398 non-null    float64\n",
      " 3   horsepower    398 non-null    object \n",
      " 4   weight        398 non-null    float64\n",
      " 5   acceleration  398 non-null    float64\n",
      " 6   model year    398 non-null    int64  \n",
      " 7   origin        398 non-null    int64  \n",
      " 8   name          398 non-null    object \n",
      "dtypes: float64(4), int64(3), object(2)\n",
      "memory usage: 28.1+ KB\n"
     ]
    }
   ],
   "source": [
    "df.info()"
   ]
  },
  {
   "cell_type": "code",
   "execution_count": 8,
   "metadata": {
    "colab": {
     "base_uri": "https://localhost:8080/"
    },
    "executionInfo": {
     "elapsed": 4,
     "status": "ok",
     "timestamp": 1622416881891,
     "user": {
      "displayName": "OuSeoung LEE",
      "photoUrl": "",
      "userId": "04718254206241101663"
     },
     "user_tz": -540
    },
    "id": "Wjqx0edwjXt8",
    "outputId": "7c03ef55-21b5-488d-eeee-6f8a5ccbdd6f"
   },
   "outputs": [
    {
     "data": {
      "text/plain": [
       "(398, 9)"
      ]
     },
     "execution_count": 8,
     "metadata": {
      "tags": []
     },
     "output_type": "execute_result"
    }
   ],
   "source": [
    "df.shape"
   ]
  },
  {
   "cell_type": "code",
   "execution_count": 9,
   "metadata": {
    "colab": {
     "base_uri": "https://localhost:8080/"
    },
    "executionInfo": {
     "elapsed": 5,
     "status": "ok",
     "timestamp": 1622416883043,
     "user": {
      "displayName": "OuSeoung LEE",
      "photoUrl": "",
      "userId": "04718254206241101663"
     },
     "user_tz": -540
    },
    "id": "90r_Gu4wjXt8",
    "outputId": "50bcc948-4ee4-4c1d-99fa-db5a3604488f"
   },
   "outputs": [
    {
     "data": {
      "text/plain": [
       "mpg             float64\n",
       "cylinders         int64\n",
       "displacement    float64\n",
       "horsepower       object\n",
       "weight          float64\n",
       "acceleration    float64\n",
       "model year        int64\n",
       "origin            int64\n",
       "name             object\n",
       "dtype: object"
      ]
     },
     "execution_count": 9,
     "metadata": {
      "tags": []
     },
     "output_type": "execute_result"
    }
   ],
   "source": [
    "df.dtypes"
   ]
  },
  {
   "cell_type": "code",
   "execution_count": 10,
   "metadata": {
    "colab": {
     "base_uri": "https://localhost:8080/",
     "height": 297
    },
    "executionInfo": {
     "elapsed": 5,
     "status": "ok",
     "timestamp": 1622416884520,
     "user": {
      "displayName": "OuSeoung LEE",
      "photoUrl": "",
      "userId": "04718254206241101663"
     },
     "user_tz": -540
    },
    "id": "YMEY0fh3jXt8",
    "outputId": "5f17acf7-8347-4737-bf98-7d7dccadb91f"
   },
   "outputs": [
    {
     "data": {
      "text/html": [
       "<div>\n",
       "<style scoped>\n",
       "    .dataframe tbody tr th:only-of-type {\n",
       "        vertical-align: middle;\n",
       "    }\n",
       "\n",
       "    .dataframe tbody tr th {\n",
       "        vertical-align: top;\n",
       "    }\n",
       "\n",
       "    .dataframe thead th {\n",
       "        text-align: right;\n",
       "    }\n",
       "</style>\n",
       "<table border=\"1\" class=\"dataframe\">\n",
       "  <thead>\n",
       "    <tr style=\"text-align: right;\">\n",
       "      <th></th>\n",
       "      <th>mpg</th>\n",
       "      <th>cylinders</th>\n",
       "      <th>displacement</th>\n",
       "      <th>weight</th>\n",
       "      <th>acceleration</th>\n",
       "      <th>model year</th>\n",
       "      <th>origin</th>\n",
       "    </tr>\n",
       "  </thead>\n",
       "  <tbody>\n",
       "    <tr>\n",
       "      <th>count</th>\n",
       "      <td>398.000000</td>\n",
       "      <td>398.000000</td>\n",
       "      <td>398.000000</td>\n",
       "      <td>398.000000</td>\n",
       "      <td>398.000000</td>\n",
       "      <td>398.000000</td>\n",
       "      <td>398.000000</td>\n",
       "    </tr>\n",
       "    <tr>\n",
       "      <th>mean</th>\n",
       "      <td>23.514573</td>\n",
       "      <td>5.454774</td>\n",
       "      <td>193.425879</td>\n",
       "      <td>2970.424623</td>\n",
       "      <td>15.568090</td>\n",
       "      <td>76.010050</td>\n",
       "      <td>1.572864</td>\n",
       "    </tr>\n",
       "    <tr>\n",
       "      <th>std</th>\n",
       "      <td>7.815984</td>\n",
       "      <td>1.701004</td>\n",
       "      <td>104.269838</td>\n",
       "      <td>846.841774</td>\n",
       "      <td>2.757689</td>\n",
       "      <td>3.697627</td>\n",
       "      <td>0.802055</td>\n",
       "    </tr>\n",
       "    <tr>\n",
       "      <th>min</th>\n",
       "      <td>9.000000</td>\n",
       "      <td>3.000000</td>\n",
       "      <td>68.000000</td>\n",
       "      <td>1613.000000</td>\n",
       "      <td>8.000000</td>\n",
       "      <td>70.000000</td>\n",
       "      <td>1.000000</td>\n",
       "    </tr>\n",
       "    <tr>\n",
       "      <th>25%</th>\n",
       "      <td>17.500000</td>\n",
       "      <td>4.000000</td>\n",
       "      <td>104.250000</td>\n",
       "      <td>2223.750000</td>\n",
       "      <td>13.825000</td>\n",
       "      <td>73.000000</td>\n",
       "      <td>1.000000</td>\n",
       "    </tr>\n",
       "    <tr>\n",
       "      <th>50%</th>\n",
       "      <td>23.000000</td>\n",
       "      <td>4.000000</td>\n",
       "      <td>148.500000</td>\n",
       "      <td>2803.500000</td>\n",
       "      <td>15.500000</td>\n",
       "      <td>76.000000</td>\n",
       "      <td>1.000000</td>\n",
       "    </tr>\n",
       "    <tr>\n",
       "      <th>75%</th>\n",
       "      <td>29.000000</td>\n",
       "      <td>8.000000</td>\n",
       "      <td>262.000000</td>\n",
       "      <td>3608.000000</td>\n",
       "      <td>17.175000</td>\n",
       "      <td>79.000000</td>\n",
       "      <td>2.000000</td>\n",
       "    </tr>\n",
       "    <tr>\n",
       "      <th>max</th>\n",
       "      <td>46.600000</td>\n",
       "      <td>8.000000</td>\n",
       "      <td>455.000000</td>\n",
       "      <td>5140.000000</td>\n",
       "      <td>24.800000</td>\n",
       "      <td>82.000000</td>\n",
       "      <td>3.000000</td>\n",
       "    </tr>\n",
       "  </tbody>\n",
       "</table>\n",
       "</div>"
      ],
      "text/plain": [
       "              mpg   cylinders  displacement       weight  acceleration  \\\n",
       "count  398.000000  398.000000    398.000000   398.000000    398.000000   \n",
       "mean    23.514573    5.454774    193.425879  2970.424623     15.568090   \n",
       "std      7.815984    1.701004    104.269838   846.841774      2.757689   \n",
       "min      9.000000    3.000000     68.000000  1613.000000      8.000000   \n",
       "25%     17.500000    4.000000    104.250000  2223.750000     13.825000   \n",
       "50%     23.000000    4.000000    148.500000  2803.500000     15.500000   \n",
       "75%     29.000000    8.000000    262.000000  3608.000000     17.175000   \n",
       "max     46.600000    8.000000    455.000000  5140.000000     24.800000   \n",
       "\n",
       "       model year      origin  \n",
       "count  398.000000  398.000000  \n",
       "mean    76.010050    1.572864  \n",
       "std      3.697627    0.802055  \n",
       "min     70.000000    1.000000  \n",
       "25%     73.000000    1.000000  \n",
       "50%     76.000000    1.000000  \n",
       "75%     79.000000    2.000000  \n",
       "max     82.000000    3.000000  "
      ]
     },
     "execution_count": 10,
     "metadata": {
      "tags": []
     },
     "output_type": "execute_result"
    }
   ],
   "source": [
    "df.describe()"
   ]
  },
  {
   "cell_type": "markdown",
   "metadata": {
    "id": "VL3mAIskjXt9"
   },
   "source": [
    "## 데이터 전처리"
   ]
  },
  {
   "cell_type": "markdown",
   "metadata": {
    "id": "-ibMNOgijXt9"
   },
   "source": [
    "### horsepower 변수 자료형 변경( object -> float )"
   ]
  },
  {
   "cell_type": "code",
   "execution_count": 11,
   "metadata": {
    "colab": {
     "base_uri": "https://localhost:8080/"
    },
    "executionInfo": {
     "elapsed": 302,
     "status": "ok",
     "timestamp": 1622416887604,
     "user": {
      "displayName": "OuSeoung LEE",
      "photoUrl": "",
      "userId": "04718254206241101663"
     },
     "user_tz": -540
    },
    "id": "TKkDEVGSjXt9",
    "outputId": "93d5bc5f-3357-48be-f9fc-a509461370ae"
   },
   "outputs": [
    {
     "data": {
      "text/plain": [
       "array(['130.0', '165.0', '150.0', '140.0', '198.0', '220.0', '215.0',\n",
       "       '225.0', '190.0', '170.0', '160.0', '95.00', '97.00', '85.00',\n",
       "       '88.00', '46.00', '87.00', '90.00', '113.0', '200.0', '210.0',\n",
       "       '193.0', '?', '100.0', '105.0', '175.0', '153.0', '180.0', '110.0',\n",
       "       '72.00', '86.00', '70.00', '76.00', '65.00', '69.00', '60.00',\n",
       "       '80.00', '54.00', '208.0', '155.0', '112.0', '92.00', '145.0',\n",
       "       '137.0', '158.0', '167.0', '94.00', '107.0', '230.0', '49.00',\n",
       "       '75.00', '91.00', '122.0', '67.00', '83.00', '78.00', '52.00',\n",
       "       '61.00', '93.00', '148.0', '129.0', '96.00', '71.00', '98.00',\n",
       "       '115.0', '53.00', '81.00', '79.00', '120.0', '152.0', '102.0',\n",
       "       '108.0', '68.00', '58.00', '149.0', '89.00', '63.00', '48.00',\n",
       "       '66.00', '139.0', '103.0', '125.0', '133.0', '138.0', '135.0',\n",
       "       '142.0', '77.00', '62.00', '132.0', '84.00', '64.00', '74.00',\n",
       "       '116.0', '82.00'], dtype=object)"
      ]
     },
     "execution_count": 11,
     "metadata": {
      "tags": []
     },
     "output_type": "execute_result"
    }
   ],
   "source": [
    "df[ 'horsepower' ].unique()"
   ]
  },
  {
   "cell_type": "code",
   "execution_count": 12,
   "metadata": {
    "executionInfo": {
     "elapsed": 2,
     "status": "ok",
     "timestamp": 1622416889069,
     "user": {
      "displayName": "OuSeoung LEE",
      "photoUrl": "",
      "userId": "04718254206241101663"
     },
     "user_tz": -540
    },
    "id": "FqTplAwAjXt9"
   },
   "outputs": [],
   "source": [
    "df[ 'horsepower' ].replace( '?', np.nan, inplace = True ) # '?'를 np.nan으로 변경\n",
    "df.dropna( subset = [ 'horsepower' ], axis = 0, inplace = True ) # 누락 데이터 행 삭제\n",
    "df[ 'horsepower' ] = df[ 'horsepower' ].astype( 'float' ) # 문자열을 실수형으로 변환"
   ]
  },
  {
   "cell_type": "markdown",
   "metadata": {
    "id": "KE50roIejXt-"
   },
   "source": [
    "### mpg에 대한 kpl( kilometer per liter ) 변수 추가"
   ]
  },
  {
   "cell_type": "code",
   "execution_count": 13,
   "metadata": {
    "executionInfo": {
     "elapsed": 2,
     "status": "ok",
     "timestamp": 1622416890916,
     "user": {
      "displayName": "OuSeoung LEE",
      "photoUrl": "",
      "userId": "04718254206241101663"
     },
     "user_tz": -540
    },
    "id": "p6rfDzupjXt-"
   },
   "outputs": [],
   "source": [
    "# kpl( kilometer per liter ) 단위 변수 추가\n",
    "mpg_to_kpl = 1.60934 / 3.7541\n",
    "\n",
    "# 데이터 표준화를 위한 변수 추가\n",
    "df[ 'kpl' ] = df[ 'mpg' ] * mpg_to_kpl"
   ]
  },
  {
   "cell_type": "code",
   "execution_count": 14,
   "metadata": {
    "colab": {
     "base_uri": "https://localhost:8080/",
     "height": 204
    },
    "executionInfo": {
     "elapsed": 5,
     "status": "ok",
     "timestamp": 1622416892187,
     "user": {
      "displayName": "OuSeoung LEE",
      "photoUrl": "",
      "userId": "04718254206241101663"
     },
     "user_tz": -540
    },
    "id": "EVXB-E1tjXt-",
    "outputId": "ed5c9ccf-4c38-49d4-cc26-5a476a71a20a"
   },
   "outputs": [
    {
     "data": {
      "text/html": [
       "<div>\n",
       "<style scoped>\n",
       "    .dataframe tbody tr th:only-of-type {\n",
       "        vertical-align: middle;\n",
       "    }\n",
       "\n",
       "    .dataframe tbody tr th {\n",
       "        vertical-align: top;\n",
       "    }\n",
       "\n",
       "    .dataframe thead th {\n",
       "        text-align: right;\n",
       "    }\n",
       "</style>\n",
       "<table border=\"1\" class=\"dataframe\">\n",
       "  <thead>\n",
       "    <tr style=\"text-align: right;\">\n",
       "      <th></th>\n",
       "      <th>mpg</th>\n",
       "      <th>cylinders</th>\n",
       "      <th>displacement</th>\n",
       "      <th>horsepower</th>\n",
       "      <th>weight</th>\n",
       "      <th>acceleration</th>\n",
       "      <th>model year</th>\n",
       "      <th>origin</th>\n",
       "      <th>name</th>\n",
       "      <th>kpl</th>\n",
       "    </tr>\n",
       "  </thead>\n",
       "  <tbody>\n",
       "    <tr>\n",
       "      <th>0</th>\n",
       "      <td>18.0</td>\n",
       "      <td>8</td>\n",
       "      <td>307.0</td>\n",
       "      <td>130.0</td>\n",
       "      <td>3504.0</td>\n",
       "      <td>12.0</td>\n",
       "      <td>70</td>\n",
       "      <td>1</td>\n",
       "      <td>chevrolet chevel...</td>\n",
       "      <td>7.716395</td>\n",
       "    </tr>\n",
       "    <tr>\n",
       "      <th>1</th>\n",
       "      <td>15.0</td>\n",
       "      <td>8</td>\n",
       "      <td>350.0</td>\n",
       "      <td>165.0</td>\n",
       "      <td>3693.0</td>\n",
       "      <td>11.5</td>\n",
       "      <td>70</td>\n",
       "      <td>1</td>\n",
       "      <td>buick skylark 320</td>\n",
       "      <td>6.430330</td>\n",
       "    </tr>\n",
       "    <tr>\n",
       "      <th>2</th>\n",
       "      <td>18.0</td>\n",
       "      <td>8</td>\n",
       "      <td>318.0</td>\n",
       "      <td>150.0</td>\n",
       "      <td>3436.0</td>\n",
       "      <td>11.0</td>\n",
       "      <td>70</td>\n",
       "      <td>1</td>\n",
       "      <td>plymouth satellite</td>\n",
       "      <td>7.716395</td>\n",
       "    </tr>\n",
       "    <tr>\n",
       "      <th>3</th>\n",
       "      <td>16.0</td>\n",
       "      <td>8</td>\n",
       "      <td>304.0</td>\n",
       "      <td>150.0</td>\n",
       "      <td>3433.0</td>\n",
       "      <td>12.0</td>\n",
       "      <td>70</td>\n",
       "      <td>1</td>\n",
       "      <td>amc rebel sst</td>\n",
       "      <td>6.859018</td>\n",
       "    </tr>\n",
       "    <tr>\n",
       "      <th>4</th>\n",
       "      <td>17.0</td>\n",
       "      <td>8</td>\n",
       "      <td>302.0</td>\n",
       "      <td>140.0</td>\n",
       "      <td>3449.0</td>\n",
       "      <td>10.5</td>\n",
       "      <td>70</td>\n",
       "      <td>1</td>\n",
       "      <td>ford torino</td>\n",
       "      <td>7.287707</td>\n",
       "    </tr>\n",
       "  </tbody>\n",
       "</table>\n",
       "</div>"
      ],
      "text/plain": [
       "    mpg  cylinders  displacement  horsepower  weight  acceleration  \\\n",
       "0  18.0          8         307.0       130.0  3504.0          12.0   \n",
       "1  15.0          8         350.0       165.0  3693.0          11.5   \n",
       "2  18.0          8         318.0       150.0  3436.0          11.0   \n",
       "3  16.0          8         304.0       150.0  3433.0          12.0   \n",
       "4  17.0          8         302.0       140.0  3449.0          10.5   \n",
       "\n",
       "   model year  origin                 name       kpl  \n",
       "0          70       1  chevrolet chevel...  7.716395  \n",
       "1          70       1    buick skylark 320  6.430330  \n",
       "2          70       1   plymouth satellite  7.716395  \n",
       "3          70       1        amc rebel sst  6.859018  \n",
       "4          70       1          ford torino  7.287707  "
      ]
     },
     "execution_count": 14,
     "metadata": {
      "tags": []
     },
     "output_type": "execute_result"
    }
   ],
   "source": [
    "df.head()"
   ]
  },
  {
   "cell_type": "markdown",
   "metadata": {
    "id": "TgiWDcYZjXt-"
   },
   "source": [
    "### origin 내용을 국가명으로 변경 및 타입 변환( int64 -> category )"
   ]
  },
  {
   "cell_type": "code",
   "execution_count": 15,
   "metadata": {
    "colab": {
     "base_uri": "https://localhost:8080/"
    },
    "executionInfo": {
     "elapsed": 292,
     "status": "ok",
     "timestamp": 1622416894274,
     "user": {
      "displayName": "OuSeoung LEE",
      "photoUrl": "",
      "userId": "04718254206241101663"
     },
     "user_tz": -540
    },
    "id": "atkLbWRgjXt-",
    "outputId": "0bd34fa9-0783-44b5-cfa0-be0211cd5d6b"
   },
   "outputs": [
    {
     "name": "stdout",
     "output_type": "stream",
     "text": [
      "int64\n",
      "\n",
      "[1 3 2]\n"
     ]
    }
   ],
   "source": [
    "print( df[ 'origin' ].dtypes )\n",
    "print()\n",
    "print( df[ 'origin' ].unique() )"
   ]
  },
  {
   "cell_type": "code",
   "execution_count": 16,
   "metadata": {
    "executionInfo": {
     "elapsed": 2,
     "status": "ok",
     "timestamp": 1622416895651,
     "user": {
      "displayName": "OuSeoung LEE",
      "photoUrl": "",
      "userId": "04718254206241101663"
     },
     "user_tz": -540
    },
    "id": "bX318A0KjXt_"
   },
   "outputs": [],
   "source": [
    "df[ 'origin' ].replace( { 1: 'USA', 2: 'EU', 3: 'JPN' }, inplace = True )"
   ]
  },
  {
   "cell_type": "code",
   "execution_count": 17,
   "metadata": {
    "executionInfo": {
     "elapsed": 3,
     "status": "ok",
     "timestamp": 1622416896651,
     "user": {
      "displayName": "OuSeoung LEE",
      "photoUrl": "",
      "userId": "04718254206241101663"
     },
     "user_tz": -540
    },
    "id": "LGFLWqRXjXt_"
   },
   "outputs": [],
   "source": [
    "df[ 'origin' ] = df[ 'origin' ].astype( 'category' ) # 'origin'변수를 범주형으로 변환"
   ]
  },
  {
   "cell_type": "code",
   "execution_count": 18,
   "metadata": {
    "colab": {
     "base_uri": "https://localhost:8080/"
    },
    "executionInfo": {
     "elapsed": 3,
     "status": "ok",
     "timestamp": 1622416897422,
     "user": {
      "displayName": "OuSeoung LEE",
      "photoUrl": "",
      "userId": "04718254206241101663"
     },
     "user_tz": -540
    },
    "id": "11x0IOUujXt_",
    "outputId": "f3cad9e2-7bb2-469a-e82a-874770463833"
   },
   "outputs": [
    {
     "name": "stdout",
     "output_type": "stream",
     "text": [
      "category\n",
      "\n",
      "['USA', 'JPN', 'EU']\n",
      "Categories (3, object): ['USA', 'JPN', 'EU']\n"
     ]
    }
   ],
   "source": [
    "print( df[ 'origin' ].dtypes )\n",
    "print()\n",
    "print( df[ 'origin' ].unique() )"
   ]
  },
  {
   "cell_type": "markdown",
   "metadata": {
    "id": "vEl_3uuIjXt_"
   },
   "source": [
    "### model year 변수 타입 변경( int64 -> category )"
   ]
  },
  {
   "cell_type": "code",
   "execution_count": 19,
   "metadata": {
    "colab": {
     "base_uri": "https://localhost:8080/"
    },
    "executionInfo": {
     "elapsed": 2,
     "status": "ok",
     "timestamp": 1622416899327,
     "user": {
      "displayName": "OuSeoung LEE",
      "photoUrl": "",
      "userId": "04718254206241101663"
     },
     "user_tz": -540
    },
    "id": "jYPOcdzgjXt_",
    "outputId": "66943c94-2b1c-4c28-94cb-59d008bc688b"
   },
   "outputs": [
    {
     "data": {
      "text/plain": [
       "CategoricalDtype(categories=[70, 71, 72, 73, 74, 75, 76, 77, 78, 79, 80, 81, 82], ordered=False)"
      ]
     },
     "execution_count": 19,
     "metadata": {
      "tags": []
     },
     "output_type": "execute_result"
    }
   ],
   "source": [
    "df[ 'model year' ] = df[ 'model year' ].astype( 'category' )\n",
    "df[ 'model year' ].dtypes"
   ]
  },
  {
   "cell_type": "markdown",
   "metadata": {
    "id": "-pIhPyQ4jXt_"
   },
   "source": [
    "### cylinders 변수 타입 변경( int64 -> category )"
   ]
  },
  {
   "cell_type": "code",
   "execution_count": 20,
   "metadata": {
    "colab": {
     "base_uri": "https://localhost:8080/"
    },
    "executionInfo": {
     "elapsed": 3,
     "status": "ok",
     "timestamp": 1622416901254,
     "user": {
      "displayName": "OuSeoung LEE",
      "photoUrl": "",
      "userId": "04718254206241101663"
     },
     "user_tz": -540
    },
    "id": "nbWT-chKjXuA",
    "outputId": "2c1d8ee0-4a9f-42d3-819a-79947920426b"
   },
   "outputs": [
    {
     "data": {
      "text/plain": [
       "CategoricalDtype(categories=[3, 4, 5, 6, 8], ordered=False)"
      ]
     },
     "execution_count": 20,
     "metadata": {
      "tags": []
     },
     "output_type": "execute_result"
    }
   ],
   "source": [
    "df[ 'cylinders' ] = df[ 'cylinders' ].astype( 'category' )\n",
    "df[ 'cylinders' ].dtypes"
   ]
  },
  {
   "cell_type": "code",
   "execution_count": 21,
   "metadata": {
    "colab": {
     "base_uri": "https://localhost:8080/",
     "height": 297
    },
    "executionInfo": {
     "elapsed": 6,
     "status": "ok",
     "timestamp": 1622416903130,
     "user": {
      "displayName": "OuSeoung LEE",
      "photoUrl": "",
      "userId": "04718254206241101663"
     },
     "user_tz": -540
    },
    "id": "sv6LpI5SjXuA",
    "outputId": "1ccf48a1-8aa9-433a-cb22-f58348f8f063"
   },
   "outputs": [
    {
     "data": {
      "text/html": [
       "<div>\n",
       "<style scoped>\n",
       "    .dataframe tbody tr th:only-of-type {\n",
       "        vertical-align: middle;\n",
       "    }\n",
       "\n",
       "    .dataframe tbody tr th {\n",
       "        vertical-align: top;\n",
       "    }\n",
       "\n",
       "    .dataframe thead th {\n",
       "        text-align: right;\n",
       "    }\n",
       "</style>\n",
       "<table border=\"1\" class=\"dataframe\">\n",
       "  <thead>\n",
       "    <tr style=\"text-align: right;\">\n",
       "      <th></th>\n",
       "      <th>mpg</th>\n",
       "      <th>displacement</th>\n",
       "      <th>horsepower</th>\n",
       "      <th>weight</th>\n",
       "      <th>acceleration</th>\n",
       "      <th>kpl</th>\n",
       "    </tr>\n",
       "  </thead>\n",
       "  <tbody>\n",
       "    <tr>\n",
       "      <th>count</th>\n",
       "      <td>392.000000</td>\n",
       "      <td>392.000000</td>\n",
       "      <td>392.000000</td>\n",
       "      <td>392.000000</td>\n",
       "      <td>392.000000</td>\n",
       "      <td>392.000000</td>\n",
       "    </tr>\n",
       "    <tr>\n",
       "      <th>mean</th>\n",
       "      <td>23.445918</td>\n",
       "      <td>194.411990</td>\n",
       "      <td>104.469388</td>\n",
       "      <td>2977.584184</td>\n",
       "      <td>15.541327</td>\n",
       "      <td>10.050999</td>\n",
       "    </tr>\n",
       "    <tr>\n",
       "      <th>std</th>\n",
       "      <td>7.805007</td>\n",
       "      <td>104.644004</td>\n",
       "      <td>38.491160</td>\n",
       "      <td>849.402560</td>\n",
       "      <td>2.758864</td>\n",
       "      <td>3.345918</td>\n",
       "    </tr>\n",
       "    <tr>\n",
       "      <th>min</th>\n",
       "      <td>9.000000</td>\n",
       "      <td>68.000000</td>\n",
       "      <td>46.000000</td>\n",
       "      <td>1613.000000</td>\n",
       "      <td>8.000000</td>\n",
       "      <td>3.858198</td>\n",
       "    </tr>\n",
       "    <tr>\n",
       "      <th>25%</th>\n",
       "      <td>17.000000</td>\n",
       "      <td>105.000000</td>\n",
       "      <td>75.000000</td>\n",
       "      <td>2225.250000</td>\n",
       "      <td>13.775000</td>\n",
       "      <td>7.287707</td>\n",
       "    </tr>\n",
       "    <tr>\n",
       "      <th>50%</th>\n",
       "      <td>22.750000</td>\n",
       "      <td>151.000000</td>\n",
       "      <td>93.500000</td>\n",
       "      <td>2803.500000</td>\n",
       "      <td>15.500000</td>\n",
       "      <td>9.752666</td>\n",
       "    </tr>\n",
       "    <tr>\n",
       "      <th>75%</th>\n",
       "      <td>29.000000</td>\n",
       "      <td>275.750000</td>\n",
       "      <td>126.000000</td>\n",
       "      <td>3614.750000</td>\n",
       "      <td>17.025000</td>\n",
       "      <td>12.431970</td>\n",
       "    </tr>\n",
       "    <tr>\n",
       "      <th>max</th>\n",
       "      <td>46.600000</td>\n",
       "      <td>455.000000</td>\n",
       "      <td>230.000000</td>\n",
       "      <td>5140.000000</td>\n",
       "      <td>24.800000</td>\n",
       "      <td>19.976890</td>\n",
       "    </tr>\n",
       "  </tbody>\n",
       "</table>\n",
       "</div>"
      ],
      "text/plain": [
       "              mpg  displacement  horsepower       weight  acceleration  \\\n",
       "count  392.000000    392.000000  392.000000   392.000000    392.000000   \n",
       "mean    23.445918    194.411990  104.469388  2977.584184     15.541327   \n",
       "std      7.805007    104.644004   38.491160   849.402560      2.758864   \n",
       "min      9.000000     68.000000   46.000000  1613.000000      8.000000   \n",
       "25%     17.000000    105.000000   75.000000  2225.250000     13.775000   \n",
       "50%     22.750000    151.000000   93.500000  2803.500000     15.500000   \n",
       "75%     29.000000    275.750000  126.000000  3614.750000     17.025000   \n",
       "max     46.600000    455.000000  230.000000  5140.000000     24.800000   \n",
       "\n",
       "              kpl  \n",
       "count  392.000000  \n",
       "mean    10.050999  \n",
       "std      3.345918  \n",
       "min      3.858198  \n",
       "25%      7.287707  \n",
       "50%      9.752666  \n",
       "75%     12.431970  \n",
       "max     19.976890  "
      ]
     },
     "execution_count": 21,
     "metadata": {
      "tags": []
     },
     "output_type": "execute_result"
    }
   ],
   "source": [
    "df.describe()"
   ]
  },
  {
   "cell_type": "markdown",
   "metadata": {
    "id": "jE6i2hXZjXuA"
   },
   "source": [
    "### 결측치 확인"
   ]
  },
  {
   "cell_type": "code",
   "execution_count": 22,
   "metadata": {
    "colab": {
     "base_uri": "https://localhost:8080/"
    },
    "executionInfo": {
     "elapsed": 283,
     "status": "ok",
     "timestamp": 1622416905493,
     "user": {
      "displayName": "OuSeoung LEE",
      "photoUrl": "",
      "userId": "04718254206241101663"
     },
     "user_tz": -540
    },
    "id": "KxJ6FXtzjXuA",
    "outputId": "32b8e8c3-daa7-4bb4-ad95-15b2f2462902"
   },
   "outputs": [
    {
     "data": {
      "text/plain": [
       "mpg             0\n",
       "cylinders       0\n",
       "displacement    0\n",
       "horsepower      0\n",
       "weight          0\n",
       "acceleration    0\n",
       "model year      0\n",
       "origin          0\n",
       "name            0\n",
       "kpl             0\n",
       "dtype: int64"
      ]
     },
     "execution_count": 22,
     "metadata": {
      "tags": []
     },
     "output_type": "execute_result"
    }
   ],
   "source": [
    "df.isnull().sum()"
   ]
  },
  {
   "cell_type": "markdown",
   "metadata": {
    "id": "rHNA0ZJajXuA"
   },
   "source": [
    "### 이상치 확인"
   ]
  },
  {
   "cell_type": "code",
   "execution_count": 23,
   "metadata": {
    "colab": {
     "base_uri": "https://localhost:8080/",
     "height": 282
    },
    "executionInfo": {
     "elapsed": 312,
     "status": "ok",
     "timestamp": 1622416907522,
     "user": {
      "displayName": "OuSeoung LEE",
      "photoUrl": "",
      "userId": "04718254206241101663"
     },
     "user_tz": -540
    },
    "id": "IfAQ_WoZjXuB",
    "outputId": "c1b70cbe-3f89-4837-92bd-66f36cf6d2aa"
   },
   "outputs": [
    {
     "data": {
      "text/plain": [
       "<matplotlib.axes._subplots.AxesSubplot at 0x7f2c91017890>"
      ]
     },
     "execution_count": 23,
     "metadata": {
      "tags": []
     },
     "output_type": "execute_result"
    },
    {
     "name": "stderr",
     "output_type": "stream",
     "text": [
      "findfont: Font family ['AppleGothic'] not found. Falling back to DejaVu Sans.\n"
     ]
    },
    {
     "data": {
      "image/png": "[encoded data removed]",
      "text/plain": [
       "<Figure size 432x288 with 1 Axes>"
      ]
     },
     "metadata": {
      "needs_background": "light",
      "tags": []
     },
     "output_type": "display_data"
    }
   ],
   "source": [
    "df[ [ 'mpg', 'displacement', 'horsepower', 'weight', 'acceleration' ] ].plot( kind = 'box' )"
   ]
  },
  {
   "cell_type": "markdown",
   "metadata": {
    "id": "B7yL9k4djXuB"
   },
   "source": [
    "## EDA"
   ]
  },
  {
   "cell_type": "markdown",
   "metadata": {
    "id": "ultX1mnkjXuB"
   },
   "source": [
    "### 연비"
   ]
  },
  {
   "cell_type": "code",
   "execution_count": 24,
   "metadata": {
    "colab": {
     "base_uri": "https://localhost:8080/"
    },
    "executionInfo": {
     "elapsed": 4,
     "status": "ok",
     "timestamp": 1622416910695,
     "user": {
      "displayName": "OuSeoung LEE",
      "photoUrl": "",
      "userId": "04718254206241101663"
     },
     "user_tz": -540
    },
    "id": "c3KberWTjXuB",
    "outputId": "bee935b4-f561-4d16-ee7e-c177c400b777"
   },
   "outputs": [
    {
     "name": "stdout",
     "output_type": "stream",
     "text": [
      "평균 연비 :  23.45 mpg (  10.05 kpl )\n",
      "최고 연비 :  46.60 mpg (  19.98 kpl )\n",
      "최소 연비 :   9.00 mpg (   3.86 kpl )\n"
     ]
    }
   ],
   "source": [
    "print( '평균 연비 : {:6.2f} mpg ( {:6.2f} kpl )'.format( df[ 'mpg' ].mean(), \n",
    "                                                        df[ 'kpl'].mean() ) )\n",
    "print( '최고 연비 : {:6.2f} mpg ( {:6.2f} kpl )'.format( df[ 'mpg' ].max(),\n",
    "                                                        df[ 'kpl'].max()) )\n",
    "print( '최소 연비 : {:6.2f} mpg ( {:6.2f} kpl )'.format( df[ 'mpg' ].min(),\n",
    "                                                        df[ 'kpl'].min()) )"
   ]
  },
  {
   "cell_type": "markdown",
   "metadata": {
    "id": "PNv-9hPTjXuB"
   },
   "source": [
    "### 최고 연비 모델"
   ]
  },
  {
   "cell_type": "code",
   "execution_count": 25,
   "metadata": {
    "colab": {
     "base_uri": "https://localhost:8080/",
     "height": 80
    },
    "executionInfo": {
     "elapsed": 284,
     "status": "ok",
     "timestamp": 1622416912665,
     "user": {
      "displayName": "OuSeoung LEE",
      "photoUrl": "",
      "userId": "04718254206241101663"
     },
     "user_tz": -540
    },
    "id": "3XIWzo5OjXuB",
    "outputId": "7920965e-6a85-4203-c470-677cfb072b57"
   },
   "outputs": [
    {
     "data": {
      "text/html": [
       "<div>\n",
       "<style scoped>\n",
       "    .dataframe tbody tr th:only-of-type {\n",
       "        vertical-align: middle;\n",
       "    }\n",
       "\n",
       "    .dataframe tbody tr th {\n",
       "        vertical-align: top;\n",
       "    }\n",
       "\n",
       "    .dataframe thead th {\n",
       "        text-align: right;\n",
       "    }\n",
       "</style>\n",
       "<table border=\"1\" class=\"dataframe\">\n",
       "  <thead>\n",
       "    <tr style=\"text-align: right;\">\n",
       "      <th></th>\n",
       "      <th>mpg</th>\n",
       "      <th>cylinders</th>\n",
       "      <th>displacement</th>\n",
       "      <th>horsepower</th>\n",
       "      <th>weight</th>\n",
       "      <th>acceleration</th>\n",
       "      <th>model year</th>\n",
       "      <th>origin</th>\n",
       "      <th>name</th>\n",
       "      <th>kpl</th>\n",
       "    </tr>\n",
       "  </thead>\n",
       "  <tbody>\n",
       "    <tr>\n",
       "      <th>322</th>\n",
       "      <td>46.6</td>\n",
       "      <td>4</td>\n",
       "      <td>86.0</td>\n",
       "      <td>65.0</td>\n",
       "      <td>2110.0</td>\n",
       "      <td>17.9</td>\n",
       "      <td>80</td>\n",
       "      <td>JPN</td>\n",
       "      <td>mazda glc</td>\n",
       "      <td>19.97689</td>\n",
       "    </tr>\n",
       "  </tbody>\n",
       "</table>\n",
       "</div>"
      ],
      "text/plain": [
       "      mpg cylinders  displacement  horsepower  weight  acceleration  \\\n",
       "322  46.6         4          86.0        65.0  2110.0          17.9   \n",
       "\n",
       "    model year origin       name       kpl  \n",
       "322         80    JPN  mazda glc  19.97689  "
      ]
     },
     "execution_count": 25,
     "metadata": {
      "tags": []
     },
     "output_type": "execute_result"
    }
   ],
   "source": [
    "df[ df.mpg >= df.mpg.max() ]"
   ]
  },
  {
   "cell_type": "markdown",
   "metadata": {
    "id": "tDiP3iqtjXuC"
   },
   "source": [
    "### 최소 연비 모델"
   ]
  },
  {
   "cell_type": "code",
   "execution_count": 26,
   "metadata": {
    "colab": {
     "base_uri": "https://localhost:8080/",
     "height": 80
    },
    "executionInfo": {
     "elapsed": 381,
     "status": "ok",
     "timestamp": 1622416914645,
     "user": {
      "displayName": "OuSeoung LEE",
      "photoUrl": "",
      "userId": "04718254206241101663"
     },
     "user_tz": -540
    },
    "id": "cLgDZvvZjXuC",
    "outputId": "f5a51ef6-89ea-40a6-dfa8-17f1e3dbccb2"
   },
   "outputs": [
    {
     "data": {
      "text/html": [
       "<div>\n",
       "<style scoped>\n",
       "    .dataframe tbody tr th:only-of-type {\n",
       "        vertical-align: middle;\n",
       "    }\n",
       "\n",
       "    .dataframe tbody tr th {\n",
       "        vertical-align: top;\n",
       "    }\n",
       "\n",
       "    .dataframe thead th {\n",
       "        text-align: right;\n",
       "    }\n",
       "</style>\n",
       "<table border=\"1\" class=\"dataframe\">\n",
       "  <thead>\n",
       "    <tr style=\"text-align: right;\">\n",
       "      <th></th>\n",
       "      <th>mpg</th>\n",
       "      <th>cylinders</th>\n",
       "      <th>displacement</th>\n",
       "      <th>horsepower</th>\n",
       "      <th>weight</th>\n",
       "      <th>acceleration</th>\n",
       "      <th>model year</th>\n",
       "      <th>origin</th>\n",
       "      <th>name</th>\n",
       "      <th>kpl</th>\n",
       "    </tr>\n",
       "  </thead>\n",
       "  <tbody>\n",
       "    <tr>\n",
       "      <th>28</th>\n",
       "      <td>9.0</td>\n",
       "      <td>8</td>\n",
       "      <td>304.0</td>\n",
       "      <td>193.0</td>\n",
       "      <td>4732.0</td>\n",
       "      <td>18.5</td>\n",
       "      <td>70</td>\n",
       "      <td>USA</td>\n",
       "      <td>hi 1200d</td>\n",
       "      <td>3.858198</td>\n",
       "    </tr>\n",
       "  </tbody>\n",
       "</table>\n",
       "</div>"
      ],
      "text/plain": [
       "    mpg cylinders  displacement  horsepower  weight  acceleration model year  \\\n",
       "28  9.0         8         304.0       193.0  4732.0          18.5         70   \n",
       "\n",
       "   origin      name       kpl  \n",
       "28    USA  hi 1200d  3.858198  "
      ]
     },
     "execution_count": 26,
     "metadata": {
      "tags": []
     },
     "output_type": "execute_result"
    }
   ],
   "source": [
    "df[ df.mpg <= df.mpg.min() ]"
   ]
  },
  {
   "cell_type": "markdown",
   "metadata": {
    "id": "qvztztacjXuC"
   },
   "source": [
    "### 연비 분포"
   ]
  },
  {
   "cell_type": "code",
   "execution_count": 27,
   "metadata": {
    "colab": {
     "base_uri": "https://localhost:8080/",
     "height": 282
    },
    "executionInfo": {
     "elapsed": 310,
     "status": "ok",
     "timestamp": 1622416916826,
     "user": {
      "displayName": "OuSeoung LEE",
      "photoUrl": "",
      "userId": "04718254206241101663"
     },
     "user_tz": -540
    },
    "id": "r1T32N9PjXuC",
    "outputId": "519ed357-24de-4a92-b261-a6b7cdb646b9"
   },
   "outputs": [
    {
     "data": {
      "text/plain": [
       "<matplotlib.axes._subplots.AxesSubplot at 0x7f2c90f4a090>"
      ]
     },
     "execution_count": 27,
     "metadata": {
      "tags": []
     },
     "output_type": "execute_result"
    },
    {
     "data": {
      "image/png": "[encoded data removed]",
      "text/plain": [
       "<Figure size 432x288 with 1 Axes>"
      ]
     },
     "metadata": {
      "needs_background": "light",
      "tags": []
     },
     "output_type": "display_data"
    }
   ],
   "source": [
    "df.mpg.plot( kind = 'hist' )"
   ]
  },
  {
   "cell_type": "markdown",
   "metadata": {
    "id": "ErtMRh04jXuC"
   },
   "source": [
    "### 마력"
   ]
  },
  {
   "cell_type": "code",
   "execution_count": 28,
   "metadata": {
    "colab": {
     "base_uri": "https://localhost:8080/"
    },
    "executionInfo": {
     "elapsed": 452,
     "status": "ok",
     "timestamp": 1622416918904,
     "user": {
      "displayName": "OuSeoung LEE",
      "photoUrl": "",
      "userId": "04718254206241101663"
     },
     "user_tz": -540
    },
    "id": "JLsylve-jXuC",
    "outputId": "a901e61d-2d6a-4d0d-bc4f-2ebb2964d949"
   },
   "outputs": [
    {
     "name": "stdout",
     "output_type": "stream",
     "text": [
      "평균 마력 : 104.47\n",
      "최고 마력 : 230.00\n",
      "최소 마력 :  46.00\n"
     ]
    }
   ],
   "source": [
    "print( '평균 마력 : {:6.2f}'.format( df[ 'horsepower' ].mean() ) )\n",
    "print( '최고 마력 : {:6.2f}'.format( df[ 'horsepower' ].max() ) )\n",
    "print( '최소 마력 : {:6.2f}'.format( df[ 'horsepower' ].min() ) )"
   ]
  },
  {
   "cell_type": "markdown",
   "metadata": {
    "id": "RJf4IJFJjXuD"
   },
   "source": [
    "### 최고 마력 모델"
   ]
  },
  {
   "cell_type": "code",
   "execution_count": 29,
   "metadata": {
    "colab": {
     "base_uri": "https://localhost:8080/",
     "height": 80
    },
    "executionInfo": {
     "elapsed": 5,
     "status": "ok",
     "timestamp": 1622416921545,
     "user": {
      "displayName": "OuSeoung LEE",
      "photoUrl": "",
      "userId": "04718254206241101663"
     },
     "user_tz": -540
    },
    "id": "lnYN2SLNjXuD",
    "outputId": "e2da68d4-6267-49b4-9234-e45bc2e1fe9b"
   },
   "outputs": [
    {
     "data": {
      "text/html": [
       "<div>\n",
       "<style scoped>\n",
       "    .dataframe tbody tr th:only-of-type {\n",
       "        vertical-align: middle;\n",
       "    }\n",
       "\n",
       "    .dataframe tbody tr th {\n",
       "        vertical-align: top;\n",
       "    }\n",
       "\n",
       "    .dataframe thead th {\n",
       "        text-align: right;\n",
       "    }\n",
       "</style>\n",
       "<table border=\"1\" class=\"dataframe\">\n",
       "  <thead>\n",
       "    <tr style=\"text-align: right;\">\n",
       "      <th></th>\n",
       "      <th>mpg</th>\n",
       "      <th>cylinders</th>\n",
       "      <th>displacement</th>\n",
       "      <th>horsepower</th>\n",
       "      <th>weight</th>\n",
       "      <th>acceleration</th>\n",
       "      <th>model year</th>\n",
       "      <th>origin</th>\n",
       "      <th>name</th>\n",
       "      <th>kpl</th>\n",
       "    </tr>\n",
       "  </thead>\n",
       "  <tbody>\n",
       "    <tr>\n",
       "      <th>116</th>\n",
       "      <td>16.0</td>\n",
       "      <td>8</td>\n",
       "      <td>400.0</td>\n",
       "      <td>230.0</td>\n",
       "      <td>4278.0</td>\n",
       "      <td>9.5</td>\n",
       "      <td>73</td>\n",
       "      <td>USA</td>\n",
       "      <td>pontiac grand prix</td>\n",
       "      <td>6.859018</td>\n",
       "    </tr>\n",
       "  </tbody>\n",
       "</table>\n",
       "</div>"
      ],
      "text/plain": [
       "      mpg cylinders  displacement  horsepower  weight  acceleration  \\\n",
       "116  16.0         8         400.0       230.0  4278.0           9.5   \n",
       "\n",
       "    model year origin                name       kpl  \n",
       "116         73    USA  pontiac grand prix  6.859018  "
      ]
     },
     "execution_count": 29,
     "metadata": {
      "tags": []
     },
     "output_type": "execute_result"
    }
   ],
   "source": [
    "df[ df.horsepower >= df.horsepower.max() ]"
   ]
  },
  {
   "cell_type": "markdown",
   "metadata": {
    "id": "K8-Kyw3ojXuD"
   },
   "source": [
    "### 최소 마력 모델"
   ]
  },
  {
   "cell_type": "code",
   "execution_count": 30,
   "metadata": {
    "colab": {
     "base_uri": "https://localhost:8080/",
     "height": 111
    },
    "executionInfo": {
     "elapsed": 291,
     "status": "ok",
     "timestamp": 1622416923909,
     "user": {
      "displayName": "OuSeoung LEE",
      "photoUrl": "",
      "userId": "04718254206241101663"
     },
     "user_tz": -540
    },
    "id": "047G1y3VjXuD",
    "outputId": "b8d1a8a7-5b94-4b06-e7d0-741063f431c3"
   },
   "outputs": [
    {
     "data": {
      "text/html": [
       "<div>\n",
       "<style scoped>\n",
       "    .dataframe tbody tr th:only-of-type {\n",
       "        vertical-align: middle;\n",
       "    }\n",
       "\n",
       "    .dataframe tbody tr th {\n",
       "        vertical-align: top;\n",
       "    }\n",
       "\n",
       "    .dataframe thead th {\n",
       "        text-align: right;\n",
       "    }\n",
       "</style>\n",
       "<table border=\"1\" class=\"dataframe\">\n",
       "  <thead>\n",
       "    <tr style=\"text-align: right;\">\n",
       "      <th></th>\n",
       "      <th>mpg</th>\n",
       "      <th>cylinders</th>\n",
       "      <th>displacement</th>\n",
       "      <th>horsepower</th>\n",
       "      <th>weight</th>\n",
       "      <th>acceleration</th>\n",
       "      <th>model year</th>\n",
       "      <th>origin</th>\n",
       "      <th>name</th>\n",
       "      <th>kpl</th>\n",
       "    </tr>\n",
       "  </thead>\n",
       "  <tbody>\n",
       "    <tr>\n",
       "      <th>19</th>\n",
       "      <td>26.0</td>\n",
       "      <td>4</td>\n",
       "      <td>97.0</td>\n",
       "      <td>46.0</td>\n",
       "      <td>1835.0</td>\n",
       "      <td>20.5</td>\n",
       "      <td>70</td>\n",
       "      <td>EU</td>\n",
       "      <td>volkswagen 1131 ...</td>\n",
       "      <td>11.145904</td>\n",
       "    </tr>\n",
       "    <tr>\n",
       "      <th>102</th>\n",
       "      <td>26.0</td>\n",
       "      <td>4</td>\n",
       "      <td>97.0</td>\n",
       "      <td>46.0</td>\n",
       "      <td>1950.0</td>\n",
       "      <td>21.0</td>\n",
       "      <td>73</td>\n",
       "      <td>EU</td>\n",
       "      <td>volkswagen super...</td>\n",
       "      <td>11.145904</td>\n",
       "    </tr>\n",
       "  </tbody>\n",
       "</table>\n",
       "</div>"
      ],
      "text/plain": [
       "      mpg cylinders  displacement  horsepower  weight  acceleration  \\\n",
       "19   26.0         4          97.0        46.0  1835.0          20.5   \n",
       "102  26.0         4          97.0        46.0  1950.0          21.0   \n",
       "\n",
       "    model year origin                 name        kpl  \n",
       "19          70     EU  volkswagen 1131 ...  11.145904  \n",
       "102         73     EU  volkswagen super...  11.145904  "
      ]
     },
     "execution_count": 30,
     "metadata": {
      "tags": []
     },
     "output_type": "execute_result"
    }
   ],
   "source": [
    "df[ df.horsepower <= df.horsepower.min() ]"
   ]
  },
  {
   "cell_type": "markdown",
   "metadata": {
    "id": "5RnINq95jXuD"
   },
   "source": [
    "### 마력 분포"
   ]
  },
  {
   "cell_type": "code",
   "execution_count": 31,
   "metadata": {
    "colab": {
     "base_uri": "https://localhost:8080/",
     "height": 282
    },
    "executionInfo": {
     "elapsed": 457,
     "status": "ok",
     "timestamp": 1622416926024,
     "user": {
      "displayName": "OuSeoung LEE",
      "photoUrl": "",
      "userId": "04718254206241101663"
     },
     "user_tz": -540
    },
    "id": "93sY4L4kjXuD",
    "outputId": "968efe3b-3ab3-4751-8c1a-fd9512148640"
   },
   "outputs": [
    {
     "data": {
      "text/plain": [
       "<matplotlib.axes._subplots.AxesSubplot at 0x7f2c90a23890>"
      ]
     },
     "execution_count": 31,
     "metadata": {
      "tags": []
     },
     "output_type": "execute_result"
    },
    {
     "data": {
      "image/png": "[encoded data removed]",
      "text/plain": [
       "<Figure size 432x288 with 1 Axes>"
      ]
     },
     "metadata": {
      "needs_background": "light",
      "tags": []
     },
     "output_type": "display_data"
    }
   ],
   "source": [
    "df.horsepower.plot( kind = 'hist' )"
   ]
  },
  {
   "cell_type": "markdown",
   "metadata": {
    "id": "_lzPM5-KjXuE"
   },
   "source": [
    "### 마력에 따른 출력 구분"
   ]
  },
  {
   "cell_type": "code",
   "execution_count": 32,
   "metadata": {
    "executionInfo": {
     "elapsed": 298,
     "status": "ok",
     "timestamp": 1622416928171,
     "user": {
      "displayName": "OuSeoung LEE",
      "photoUrl": "",
      "userId": "04718254206241101663"
     },
     "user_tz": -540
    },
    "id": "3uCNBf-6jXuE"
   },
   "outputs": [],
   "source": [
    "count, bin_dividers = np.histogram( df[ 'horsepower' ], bins = 3 )\n",
    "\n",
    "bin_names = [ '저출력', '보통출력', '고출력' ]\n",
    "\n",
    "df[ 'hp_bin' ] = pd.cut( x = df[ 'horsepower' ],\n",
    "                         bins = bin_dividers,\n",
    "                         labels = bin_names,\n",
    "                         include_lowest = True )"
   ]
  },
  {
   "cell_type": "code",
   "execution_count": 33,
   "metadata": {
    "colab": {
     "base_uri": "https://localhost:8080/"
    },
    "executionInfo": {
     "elapsed": 3,
     "status": "ok",
     "timestamp": 1622416931378,
     "user": {
      "displayName": "OuSeoung LEE",
      "photoUrl": "",
      "userId": "04718254206241101663"
     },
     "user_tz": -540
    },
    "id": "x1EY6U6EjXuE",
    "outputId": "47909d61-e5d1-4277-9439-d6bdfdab3ba7"
   },
   "outputs": [
    {
     "data": {
      "text/plain": [
       "저출력      257\n",
       "보통출력    103\n",
       "고출력       32\n",
       "Name: hp_bin, dtype: int64"
      ]
     },
     "execution_count": 33,
     "metadata": {
      "tags": []
     },
     "output_type": "execute_result"
    }
   ],
   "source": [
    "df.hp_bin.value_counts()"
   ]
  },
  {
   "cell_type": "code",
   "execution_count": 34,
   "metadata": {
    "colab": {
     "base_uri": "https://localhost:8080/",
     "height": 282
    },
    "executionInfo": {
     "elapsed": 304,
     "status": "ok",
     "timestamp": 1622416933126,
     "user": {
      "displayName": "OuSeoung LEE",
      "photoUrl": "",
      "userId": "04718254206241101663"
     },
     "user_tz": -540
    },
    "id": "UWGLRP12jXuE",
    "outputId": "b393c553-387d-40b0-8070-1147827a4b38"
   },
   "outputs": [
    {
     "data": {
      "text/plain": [
       "<matplotlib.axes._subplots.AxesSubplot at 0x7f2c9095bcd0>"
      ]
     },
     "execution_count": 34,
     "metadata": {
      "tags": []
     },
     "output_type": "execute_result"
    },
    {
     "data": {
      "image/png": "[encoded data removed]",
      "text/plain": [
       "<Figure size 432x288 with 1 Axes>"
      ]
     },
     "metadata": {
      "needs_background": "light",
      "tags": []
     },
     "output_type": "display_data"
    }
   ],
   "source": [
    "df.hp_bin.value_counts().plot( kind = 'barh' )"
   ]
  },
  {
   "cell_type": "markdown",
   "metadata": {
    "id": "-P16yqbtjXuE"
   },
   "source": [
    "### 중량"
   ]
  },
  {
   "cell_type": "code",
   "execution_count": 35,
   "metadata": {
    "colab": {
     "base_uri": "https://localhost:8080/"
    },
    "executionInfo": {
     "elapsed": 3,
     "status": "ok",
     "timestamp": 1622416935703,
     "user": {
      "displayName": "OuSeoung LEE",
      "photoUrl": "",
      "userId": "04718254206241101663"
     },
     "user_tz": -540
    },
    "id": "x03Jil11jXuE",
    "outputId": "8b0921b6-cde3-4688-e0f0-db999b24199a"
   },
   "outputs": [
    {
     "name": "stdout",
     "output_type": "stream",
     "text": [
      "평균 중량 : 2977.58\n",
      "최고 중량 : 5140.00\n",
      "최소 중량 : 1613.00\n"
     ]
    }
   ],
   "source": [
    "print( '평균 중량 : {:6.2f}'.format( df[ 'weight' ].mean() ) )\n",
    "print( '최고 중량 : {:6.2f}'.format( df[ 'weight' ].max() ) )\n",
    "print( '최소 중량 : {:6.2f}'.format( df[ 'weight' ].min() ) )"
   ]
  },
  {
   "cell_type": "markdown",
   "metadata": {
    "id": "p1G956objXuF"
   },
   "source": [
    "### 최고 중량 모델"
   ]
  },
  {
   "cell_type": "code",
   "execution_count": 36,
   "metadata": {
    "colab": {
     "base_uri": "https://localhost:8080/",
     "height": 80
    },
    "executionInfo": {
     "elapsed": 292,
     "status": "ok",
     "timestamp": 1622416938011,
     "user": {
      "displayName": "OuSeoung LEE",
      "photoUrl": "",
      "userId": "04718254206241101663"
     },
     "user_tz": -540
    },
    "id": "fbvSTmX9jXuF",
    "outputId": "b4103a00-fff6-459c-faa8-af9d35100e41"
   },
   "outputs": [
    {
     "data": {
      "text/html": [
       "<div>\n",
       "<style scoped>\n",
       "    .dataframe tbody tr th:only-of-type {\n",
       "        vertical-align: middle;\n",
       "    }\n",
       "\n",
       "    .dataframe tbody tr th {\n",
       "        vertical-align: top;\n",
       "    }\n",
       "\n",
       "    .dataframe thead th {\n",
       "        text-align: right;\n",
       "    }\n",
       "</style>\n",
       "<table border=\"1\" class=\"dataframe\">\n",
       "  <thead>\n",
       "    <tr style=\"text-align: right;\">\n",
       "      <th></th>\n",
       "      <th>mpg</th>\n",
       "      <th>cylinders</th>\n",
       "      <th>displacement</th>\n",
       "      <th>horsepower</th>\n",
       "      <th>weight</th>\n",
       "      <th>acceleration</th>\n",
       "      <th>model year</th>\n",
       "      <th>origin</th>\n",
       "      <th>name</th>\n",
       "      <th>kpl</th>\n",
       "      <th>hp_bin</th>\n",
       "    </tr>\n",
       "  </thead>\n",
       "  <tbody>\n",
       "    <tr>\n",
       "      <th>44</th>\n",
       "      <td>13.0</td>\n",
       "      <td>8</td>\n",
       "      <td>400.0</td>\n",
       "      <td>175.0</td>\n",
       "      <td>5140.0</td>\n",
       "      <td>12.0</td>\n",
       "      <td>71</td>\n",
       "      <td>USA</td>\n",
       "      <td>pontiac safari (sw)</td>\n",
       "      <td>5.572952</td>\n",
       "      <td>고출력</td>\n",
       "    </tr>\n",
       "  </tbody>\n",
       "</table>\n",
       "</div>"
      ],
      "text/plain": [
       "     mpg cylinders  displacement  horsepower  weight  acceleration model year  \\\n",
       "44  13.0         8         400.0       175.0  5140.0          12.0         71   \n",
       "\n",
       "   origin                 name       kpl  hp_bin  \n",
       "44    USA  pontiac safari (sw)  5.572952  고출력  "
      ]
     },
     "execution_count": 36,
     "metadata": {
      "tags": []
     },
     "output_type": "execute_result"
    }
   ],
   "source": [
    "df[ df.weight >= df.weight.max() ]"
   ]
  },
  {
   "cell_type": "markdown",
   "metadata": {
    "id": "sYCKgv7TjXuF"
   },
   "source": [
    "### 최소 중량 모델"
   ]
  },
  {
   "cell_type": "code",
   "execution_count": 37,
   "metadata": {
    "colab": {
     "base_uri": "https://localhost:8080/",
     "height": 80
    },
    "executionInfo": {
     "elapsed": 290,
     "status": "ok",
     "timestamp": 1622416939989,
     "user": {
      "displayName": "OuSeoung LEE",
      "photoUrl": "",
      "userId": "04718254206241101663"
     },
     "user_tz": -540
    },
    "id": "9yLUNnUxjXuF",
    "outputId": "a931f560-df11-4620-fc40-7002fe519c3f"
   },
   "outputs": [
    {
     "data": {
      "text/html": [
       "<div>\n",
       "<style scoped>\n",
       "    .dataframe tbody tr th:only-of-type {\n",
       "        vertical-align: middle;\n",
       "    }\n",
       "\n",
       "    .dataframe tbody tr th {\n",
       "        vertical-align: top;\n",
       "    }\n",
       "\n",
       "    .dataframe thead th {\n",
       "        text-align: right;\n",
       "    }\n",
       "</style>\n",
       "<table border=\"1\" class=\"dataframe\">\n",
       "  <thead>\n",
       "    <tr style=\"text-align: right;\">\n",
       "      <th></th>\n",
       "      <th>mpg</th>\n",
       "      <th>cylinders</th>\n",
       "      <th>displacement</th>\n",
       "      <th>horsepower</th>\n",
       "      <th>weight</th>\n",
       "      <th>acceleration</th>\n",
       "      <th>model year</th>\n",
       "      <th>origin</th>\n",
       "      <th>name</th>\n",
       "      <th>kpl</th>\n",
       "      <th>hp_bin</th>\n",
       "    </tr>\n",
       "  </thead>\n",
       "  <tbody>\n",
       "    <tr>\n",
       "      <th>54</th>\n",
       "      <td>35.0</td>\n",
       "      <td>4</td>\n",
       "      <td>72.0</td>\n",
       "      <td>69.0</td>\n",
       "      <td>1613.0</td>\n",
       "      <td>18.0</td>\n",
       "      <td>71</td>\n",
       "      <td>JPN</td>\n",
       "      <td>datsun 1200</td>\n",
       "      <td>15.004102</td>\n",
       "      <td>저출력</td>\n",
       "    </tr>\n",
       "  </tbody>\n",
       "</table>\n",
       "</div>"
      ],
      "text/plain": [
       "     mpg cylinders  displacement  horsepower  weight  acceleration model year  \\\n",
       "54  35.0         4          72.0        69.0  1613.0          18.0         71   \n",
       "\n",
       "   origin         name        kpl  hp_bin  \n",
       "54    JPN  datsun 1200  15.004102  저출력  "
      ]
     },
     "execution_count": 37,
     "metadata": {
      "tags": []
     },
     "output_type": "execute_result"
    }
   ],
   "source": [
    "df[ df.weight <= df.weight.min() ]"
   ]
  },
  {
   "cell_type": "markdown",
   "metadata": {
    "id": "hK2psDAcjXuF"
   },
   "source": [
    "### 중량 분포"
   ]
  },
  {
   "cell_type": "code",
   "execution_count": 38,
   "metadata": {
    "colab": {
     "base_uri": "https://localhost:8080/",
     "height": 282
    },
    "executionInfo": {
     "elapsed": 764,
     "status": "ok",
     "timestamp": 1622416942463,
     "user": {
      "displayName": "OuSeoung LEE",
      "photoUrl": "",
      "userId": "04718254206241101663"
     },
     "user_tz": -540
    },
    "id": "c-lEcqtJjXuF",
    "outputId": "78797327-f3cc-46a5-d64a-83554750a38a"
   },
   "outputs": [
    {
     "data": {
      "text/plain": [
       "<matplotlib.axes._subplots.AxesSubplot at 0x7f2c923f8650>"
      ]
     },
     "execution_count": 38,
     "metadata": {
      "tags": []
     },
     "output_type": "execute_result"
    },
    {
     "data": {
      "image/png": "[encoded data removed]",
      "text/plain": [
       "<Figure size 432x288 with 1 Axes>"
      ]
     },
     "metadata": {
      "needs_background": "light",
      "tags": []
     },
     "output_type": "display_data"
    }
   ],
   "source": [
    "df.weight.plot( kind = 'hist' )"
   ]
  },
  {
   "cell_type": "markdown",
   "metadata": {
    "id": "XjYIvGZ_jXuF"
   },
   "source": [
    "### 배기량"
   ]
  },
  {
   "cell_type": "code",
   "execution_count": 39,
   "metadata": {
    "colab": {
     "base_uri": "https://localhost:8080/"
    },
    "executionInfo": {
     "elapsed": 396,
     "status": "ok",
     "timestamp": 1622416944250,
     "user": {
      "displayName": "OuSeoung LEE",
      "photoUrl": "",
      "userId": "04718254206241101663"
     },
     "user_tz": -540
    },
    "id": "w8qcmY9KjXuG",
    "outputId": "b1a7b48d-c606-47e7-eee8-b46b599ce0e1"
   },
   "outputs": [
    {
     "name": "stdout",
     "output_type": "stream",
     "text": [
      "평균 배기량 : 194.41\n",
      "최고 배기량 : 455.00\n",
      "최소 배기량 :  68.00\n"
     ]
    }
   ],
   "source": [
    "print( '평균 배기량 : {:6.2f}'.format( df[ 'displacement' ].mean() ) )\n",
    "print( '최고 배기량 : {:6.2f}'.format( df[ 'displacement' ].max() ) )\n",
    "print( '최소 배기량 : {:6.2f}'.format( df[ 'displacement' ].min() ) )"
   ]
  },
  {
   "cell_type": "markdown",
   "metadata": {
    "id": "N0hFSxKsjXuG"
   },
   "source": [
    "### 최고 배기량 모델"
   ]
  },
  {
   "cell_type": "code",
   "execution_count": 40,
   "metadata": {
    "colab": {
     "base_uri": "https://localhost:8080/",
     "height": 142
    },
    "executionInfo": {
     "elapsed": 5,
     "status": "ok",
     "timestamp": 1622416945441,
     "user": {
      "displayName": "OuSeoung LEE",
      "photoUrl": "",
      "userId": "04718254206241101663"
     },
     "user_tz": -540
    },
    "id": "pLaCrgVIjXuG",
    "outputId": "8e009f8b-1996-4256-cc04-7cb79a45f7eb"
   },
   "outputs": [
    {
     "data": {
      "text/html": [
       "<div>\n",
       "<style scoped>\n",
       "    .dataframe tbody tr th:only-of-type {\n",
       "        vertical-align: middle;\n",
       "    }\n",
       "\n",
       "    .dataframe tbody tr th {\n",
       "        vertical-align: top;\n",
       "    }\n",
       "\n",
       "    .dataframe thead th {\n",
       "        text-align: right;\n",
       "    }\n",
       "</style>\n",
       "<table border=\"1\" class=\"dataframe\">\n",
       "  <thead>\n",
       "    <tr style=\"text-align: right;\">\n",
       "      <th></th>\n",
       "      <th>mpg</th>\n",
       "      <th>cylinders</th>\n",
       "      <th>displacement</th>\n",
       "      <th>horsepower</th>\n",
       "      <th>weight</th>\n",
       "      <th>acceleration</th>\n",
       "      <th>model year</th>\n",
       "      <th>origin</th>\n",
       "      <th>name</th>\n",
       "      <th>kpl</th>\n",
       "      <th>hp_bin</th>\n",
       "    </tr>\n",
       "  </thead>\n",
       "  <tbody>\n",
       "    <tr>\n",
       "      <th>8</th>\n",
       "      <td>14.0</td>\n",
       "      <td>8</td>\n",
       "      <td>455.0</td>\n",
       "      <td>225.0</td>\n",
       "      <td>4425.0</td>\n",
       "      <td>10.0</td>\n",
       "      <td>70</td>\n",
       "      <td>USA</td>\n",
       "      <td>pontiac catalina</td>\n",
       "      <td>6.001641</td>\n",
       "      <td>고출력</td>\n",
       "    </tr>\n",
       "    <tr>\n",
       "      <th>13</th>\n",
       "      <td>14.0</td>\n",
       "      <td>8</td>\n",
       "      <td>455.0</td>\n",
       "      <td>225.0</td>\n",
       "      <td>3086.0</td>\n",
       "      <td>10.0</td>\n",
       "      <td>70</td>\n",
       "      <td>USA</td>\n",
       "      <td>buick estate wag...</td>\n",
       "      <td>6.001641</td>\n",
       "      <td>고출력</td>\n",
       "    </tr>\n",
       "    <tr>\n",
       "      <th>95</th>\n",
       "      <td>12.0</td>\n",
       "      <td>8</td>\n",
       "      <td>455.0</td>\n",
       "      <td>225.0</td>\n",
       "      <td>4951.0</td>\n",
       "      <td>11.0</td>\n",
       "      <td>73</td>\n",
       "      <td>USA</td>\n",
       "      <td>buick electra 22...</td>\n",
       "      <td>5.144264</td>\n",
       "      <td>고출력</td>\n",
       "    </tr>\n",
       "  </tbody>\n",
       "</table>\n",
       "</div>"
      ],
      "text/plain": [
       "     mpg cylinders  displacement  horsepower  weight  acceleration model year  \\\n",
       "8   14.0         8         455.0       225.0  4425.0          10.0         70   \n",
       "13  14.0         8         455.0       225.0  3086.0          10.0         70   \n",
       "95  12.0         8         455.0       225.0  4951.0          11.0         73   \n",
       "\n",
       "   origin                 name       kpl  hp_bin  \n",
       "8     USA     pontiac catalina  6.001641  고출력  \n",
       "13    USA  buick estate wag...  6.001641  고출력  \n",
       "95    USA  buick electra 22...  5.144264  고출력  "
      ]
     },
     "execution_count": 40,
     "metadata": {
      "tags": []
     },
     "output_type": "execute_result"
    }
   ],
   "source": [
    "df[ df.displacement >= df.displacement.max() ]"
   ]
  },
  {
   "cell_type": "markdown",
   "metadata": {
    "id": "YVn34R2ajXuG"
   },
   "source": [
    "### 최소 배기량 모델"
   ]
  },
  {
   "cell_type": "code",
   "execution_count": 41,
   "metadata": {
    "colab": {
     "base_uri": "https://localhost:8080/",
     "height": 80
    },
    "executionInfo": {
     "elapsed": 430,
     "status": "ok",
     "timestamp": 1622416947538,
     "user": {
      "displayName": "OuSeoung LEE",
      "photoUrl": "",
      "userId": "04718254206241101663"
     },
     "user_tz": -540
    },
    "id": "HMOPsQKcjXuG",
    "outputId": "f338bdf8-56d2-4f7a-97cf-4814a19d23f7"
   },
   "outputs": [
    {
     "data": {
      "text/html": [
       "<div>\n",
       "<style scoped>\n",
       "    .dataframe tbody tr th:only-of-type {\n",
       "        vertical-align: middle;\n",
       "    }\n",
       "\n",
       "    .dataframe tbody tr th {\n",
       "        vertical-align: top;\n",
       "    }\n",
       "\n",
       "    .dataframe thead th {\n",
       "        text-align: right;\n",
       "    }\n",
       "</style>\n",
       "<table border=\"1\" class=\"dataframe\">\n",
       "  <thead>\n",
       "    <tr style=\"text-align: right;\">\n",
       "      <th></th>\n",
       "      <th>mpg</th>\n",
       "      <th>cylinders</th>\n",
       "      <th>displacement</th>\n",
       "      <th>horsepower</th>\n",
       "      <th>weight</th>\n",
       "      <th>acceleration</th>\n",
       "      <th>model year</th>\n",
       "      <th>origin</th>\n",
       "      <th>name</th>\n",
       "      <th>kpl</th>\n",
       "      <th>hp_bin</th>\n",
       "    </tr>\n",
       "  </thead>\n",
       "  <tbody>\n",
       "    <tr>\n",
       "      <th>117</th>\n",
       "      <td>29.0</td>\n",
       "      <td>4</td>\n",
       "      <td>68.0</td>\n",
       "      <td>49.0</td>\n",
       "      <td>1867.0</td>\n",
       "      <td>19.5</td>\n",
       "      <td>73</td>\n",
       "      <td>EU</td>\n",
       "      <td>fiat 128</td>\n",
       "      <td>12.43197</td>\n",
       "      <td>저출력</td>\n",
       "    </tr>\n",
       "  </tbody>\n",
       "</table>\n",
       "</div>"
      ],
      "text/plain": [
       "      mpg cylinders  displacement  horsepower  weight  acceleration  \\\n",
       "117  29.0         4          68.0        49.0  1867.0          19.5   \n",
       "\n",
       "    model year origin      name       kpl  hp_bin  \n",
       "117         73     EU  fiat 128  12.43197  저출력  "
      ]
     },
     "execution_count": 41,
     "metadata": {
      "tags": []
     },
     "output_type": "execute_result"
    }
   ],
   "source": [
    "df[ df.displacement <= df.displacement.min() ]"
   ]
  },
  {
   "cell_type": "markdown",
   "metadata": {
    "id": "rBsvsJ3pjXuG"
   },
   "source": [
    "### 배기량 분포"
   ]
  },
  {
   "cell_type": "code",
   "execution_count": 42,
   "metadata": {
    "colab": {
     "base_uri": "https://localhost:8080/",
     "height": 282
    },
    "executionInfo": {
     "elapsed": 5,
     "status": "ok",
     "timestamp": 1622416949038,
     "user": {
      "displayName": "OuSeoung LEE",
      "photoUrl": "",
      "userId": "04718254206241101663"
     },
     "user_tz": -540
    },
    "id": "6COwlTwNjXuH",
    "outputId": "30d20d34-3fda-407a-8962-3eab3a12433d"
   },
   "outputs": [
    {
     "data": {
      "text/plain": [
       "<matplotlib.axes._subplots.AxesSubplot at 0x7f2c90a14650>"
      ]
     },
     "execution_count": 42,
     "metadata": {
      "tags": []
     },
     "output_type": "execute_result"
    },
    {
     "data": {
      "image/png": "[encoded data removed]",
      "text/plain": [
       "<Figure size 432x288 with 1 Axes>"
      ]
     },
     "metadata": {
      "needs_background": "light",
      "tags": []
     },
     "output_type": "display_data"
    }
   ],
   "source": [
    "df.displacement.plot( kind = 'hist' )"
   ]
  },
  {
   "cell_type": "markdown",
   "metadata": {
    "id": "QaN5OQOYjXuH"
   },
   "source": [
    "### 가속력"
   ]
  },
  {
   "cell_type": "code",
   "execution_count": 43,
   "metadata": {
    "colab": {
     "base_uri": "https://localhost:8080/"
    },
    "executionInfo": {
     "elapsed": 300,
     "status": "ok",
     "timestamp": 1622416951368,
     "user": {
      "displayName": "OuSeoung LEE",
      "photoUrl": "",
      "userId": "04718254206241101663"
     },
     "user_tz": -540
    },
    "id": "oMsOZ5lgjXuH",
    "outputId": "db1f3f04-7825-4b4a-e5ee-262a9aa120fb"
   },
   "outputs": [
    {
     "name": "stdout",
     "output_type": "stream",
     "text": [
      "평균 가속력 :  15.54\n",
      "최고 가속력 :  24.80\n",
      "최소 가속력 :   8.00\n"
     ]
    }
   ],
   "source": [
    "print( '평균 가속력 : {:6.2f}'.format( df[ 'acceleration' ].mean() ) )\n",
    "print( '최고 가속력 : {:6.2f}'.format( df[ 'acceleration' ].max() ) )\n",
    "print( '최소 가속력 : {:6.2f}'.format( df[ 'acceleration' ].min() ) )"
   ]
  },
  {
   "cell_type": "markdown",
   "metadata": {
    "id": "SnOttT1mjXuH"
   },
   "source": [
    "### 최고 가속력 모델"
   ]
  },
  {
   "cell_type": "code",
   "execution_count": 44,
   "metadata": {
    "colab": {
     "base_uri": "https://localhost:8080/",
     "height": 80
    },
    "executionInfo": {
     "elapsed": 297,
     "status": "ok",
     "timestamp": 1622416953464,
     "user": {
      "displayName": "OuSeoung LEE",
      "photoUrl": "",
      "userId": "04718254206241101663"
     },
     "user_tz": -540
    },
    "id": "3CvcX9EOjXuH",
    "outputId": "b393d027-636f-4e62-8fef-06749bd808e0"
   },
   "outputs": [
    {
     "data": {
      "text/html": [
       "<div>\n",
       "<style scoped>\n",
       "    .dataframe tbody tr th:only-of-type {\n",
       "        vertical-align: middle;\n",
       "    }\n",
       "\n",
       "    .dataframe tbody tr th {\n",
       "        vertical-align: top;\n",
       "    }\n",
       "\n",
       "    .dataframe thead th {\n",
       "        text-align: right;\n",
       "    }\n",
       "</style>\n",
       "<table border=\"1\" class=\"dataframe\">\n",
       "  <thead>\n",
       "    <tr style=\"text-align: right;\">\n",
       "      <th></th>\n",
       "      <th>mpg</th>\n",
       "      <th>cylinders</th>\n",
       "      <th>displacement</th>\n",
       "      <th>horsepower</th>\n",
       "      <th>weight</th>\n",
       "      <th>acceleration</th>\n",
       "      <th>model year</th>\n",
       "      <th>origin</th>\n",
       "      <th>name</th>\n",
       "      <th>kpl</th>\n",
       "      <th>hp_bin</th>\n",
       "    </tr>\n",
       "  </thead>\n",
       "  <tbody>\n",
       "    <tr>\n",
       "      <th>299</th>\n",
       "      <td>27.2</td>\n",
       "      <td>4</td>\n",
       "      <td>141.0</td>\n",
       "      <td>71.0</td>\n",
       "      <td>3190.0</td>\n",
       "      <td>24.8</td>\n",
       "      <td>79</td>\n",
       "      <td>EU</td>\n",
       "      <td>peugeot 504</td>\n",
       "      <td>11.660331</td>\n",
       "      <td>저출력</td>\n",
       "    </tr>\n",
       "  </tbody>\n",
       "</table>\n",
       "</div>"
      ],
      "text/plain": [
       "      mpg cylinders  displacement  horsepower  weight  acceleration  \\\n",
       "299  27.2         4         141.0        71.0  3190.0          24.8   \n",
       "\n",
       "    model year origin         name        kpl  hp_bin  \n",
       "299         79     EU  peugeot 504  11.660331  저출력  "
      ]
     },
     "execution_count": 44,
     "metadata": {
      "tags": []
     },
     "output_type": "execute_result"
    }
   ],
   "source": [
    "df[ df.acceleration >= df.acceleration.max() ]"
   ]
  },
  {
   "cell_type": "markdown",
   "metadata": {
    "id": "dg43-5rzjXuI"
   },
   "source": [
    "### 최소 가속력 모델"
   ]
  },
  {
   "cell_type": "code",
   "execution_count": 45,
   "metadata": {
    "colab": {
     "base_uri": "https://localhost:8080/",
     "height": 80
    },
    "executionInfo": {
     "elapsed": 287,
     "status": "ok",
     "timestamp": 1622416955421,
     "user": {
      "displayName": "OuSeoung LEE",
      "photoUrl": "",
      "userId": "04718254206241101663"
     },
     "user_tz": -540
    },
    "id": "M5hhn_3LjXuI",
    "outputId": "50511f62-2336-4a15-f0b9-456072a9e6e6"
   },
   "outputs": [
    {
     "data": {
      "text/html": [
       "<div>\n",
       "<style scoped>\n",
       "    .dataframe tbody tr th:only-of-type {\n",
       "        vertical-align: middle;\n",
       "    }\n",
       "\n",
       "    .dataframe tbody tr th {\n",
       "        vertical-align: top;\n",
       "    }\n",
       "\n",
       "    .dataframe thead th {\n",
       "        text-align: right;\n",
       "    }\n",
       "</style>\n",
       "<table border=\"1\" class=\"dataframe\">\n",
       "  <thead>\n",
       "    <tr style=\"text-align: right;\">\n",
       "      <th></th>\n",
       "      <th>mpg</th>\n",
       "      <th>cylinders</th>\n",
       "      <th>displacement</th>\n",
       "      <th>horsepower</th>\n",
       "      <th>weight</th>\n",
       "      <th>acceleration</th>\n",
       "      <th>model year</th>\n",
       "      <th>origin</th>\n",
       "      <th>name</th>\n",
       "      <th>kpl</th>\n",
       "      <th>hp_bin</th>\n",
       "    </tr>\n",
       "  </thead>\n",
       "  <tbody>\n",
       "    <tr>\n",
       "      <th>11</th>\n",
       "      <td>14.0</td>\n",
       "      <td>8</td>\n",
       "      <td>340.0</td>\n",
       "      <td>160.0</td>\n",
       "      <td>3609.0</td>\n",
       "      <td>8.0</td>\n",
       "      <td>70</td>\n",
       "      <td>USA</td>\n",
       "      <td>plymouth 'cuda 340</td>\n",
       "      <td>6.001641</td>\n",
       "      <td>보통출력</td>\n",
       "    </tr>\n",
       "  </tbody>\n",
       "</table>\n",
       "</div>"
      ],
      "text/plain": [
       "     mpg cylinders  displacement  horsepower  weight  acceleration model year  \\\n",
       "11  14.0         8         340.0       160.0  3609.0           8.0         70   \n",
       "\n",
       "   origin                name       kpl    hp_bin  \n",
       "11    USA  plymouth 'cuda 340  6.001641  보통출력  "
      ]
     },
     "execution_count": 45,
     "metadata": {
      "tags": []
     },
     "output_type": "execute_result"
    }
   ],
   "source": [
    "df[ df.acceleration <= df.acceleration.min() ]"
   ]
  },
  {
   "cell_type": "markdown",
   "metadata": {
    "id": "N2wV723_jXuI"
   },
   "source": [
    "### 가속력 분포"
   ]
  },
  {
   "cell_type": "code",
   "execution_count": 46,
   "metadata": {
    "colab": {
     "base_uri": "https://localhost:8080/",
     "height": 282
    },
    "executionInfo": {
     "elapsed": 367,
     "status": "ok",
     "timestamp": 1622416957372,
     "user": {
      "displayName": "OuSeoung LEE",
      "photoUrl": "",
      "userId": "04718254206241101663"
     },
     "user_tz": -540
    },
    "id": "EVB2kTVdjXuI",
    "outputId": "a12b2adb-94d5-40a2-e9e4-916e3796dbec"
   },
   "outputs": [
    {
     "data": {
      "text/plain": [
       "<matplotlib.axes._subplots.AxesSubplot at 0x7f2c90845a10>"
      ]
     },
     "execution_count": 46,
     "metadata": {
      "tags": []
     },
     "output_type": "execute_result"
    },
    {
     "data": {
      "image/png": "[encoded data removed]",
      "text/plain": [
       "<Figure size 432x288 with 1 Axes>"
      ]
     },
     "metadata": {
      "needs_background": "light",
      "tags": []
     },
     "output_type": "display_data"
    }
   ],
   "source": [
    "df.acceleration.plot( kind = 'hist' )"
   ]
  },
  {
   "cell_type": "markdown",
   "metadata": {
    "id": "NQTb5FMijXuI"
   },
   "source": [
    "### 실린더수"
   ]
  },
  {
   "cell_type": "code",
   "execution_count": 47,
   "metadata": {
    "colab": {
     "base_uri": "https://localhost:8080/"
    },
    "executionInfo": {
     "elapsed": 317,
     "status": "ok",
     "timestamp": 1622416959414,
     "user": {
      "displayName": "OuSeoung LEE",
      "photoUrl": "",
      "userId": "04718254206241101663"
     },
     "user_tz": -540
    },
    "id": "I0jEMFo2jXuI",
    "outputId": "b73ca9da-9aac-4913-813a-b0ab4916ff47"
   },
   "outputs": [
    {
     "data": {
      "text/plain": [
       "4    199\n",
       "8    103\n",
       "6     83\n",
       "3      4\n",
       "5      3\n",
       "Name: cylinders, dtype: int64"
      ]
     },
     "execution_count": 47,
     "metadata": {
      "tags": []
     },
     "output_type": "execute_result"
    }
   ],
   "source": [
    "df.cylinders.value_counts()"
   ]
  },
  {
   "cell_type": "code",
   "execution_count": 48,
   "metadata": {
    "colab": {
     "base_uri": "https://localhost:8080/",
     "height": 279
    },
    "executionInfo": {
     "elapsed": 300,
     "status": "ok",
     "timestamp": 1622416961333,
     "user": {
      "displayName": "OuSeoung LEE",
      "photoUrl": "",
      "userId": "04718254206241101663"
     },
     "user_tz": -540
    },
    "id": "jJSvhHMxjXuJ",
    "outputId": "6812bae4-6049-4ef4-b82a-987ad79cabfe"
   },
   "outputs": [
    {
     "data": {
      "text/plain": [
       "<matplotlib.axes._subplots.AxesSubplot at 0x7f2c907bc5d0>"
      ]
     },
     "execution_count": 48,
     "metadata": {
      "tags": []
     },
     "output_type": "execute_result"
    },
    {
     "data": {
      "image/png": "[encoded data removed]",
      "text/plain": [
       "<Figure size 432x288 with 1 Axes>"
      ]
     },
     "metadata": {
      "needs_background": "light",
      "tags": []
     },
     "output_type": "display_data"
    }
   ],
   "source": [
    "df.cylinders.value_counts().plot( kind = 'bar' )"
   ]
  },
  {
   "cell_type": "markdown",
   "metadata": {
    "id": "g_bURjEqjXuJ"
   },
   "source": [
    "### 출시년도"
   ]
  },
  {
   "cell_type": "code",
   "execution_count": 49,
   "metadata": {
    "colab": {
     "base_uri": "https://localhost:8080/"
    },
    "executionInfo": {
     "elapsed": 280,
     "status": "ok",
     "timestamp": 1622416963411,
     "user": {
      "displayName": "OuSeoung LEE",
      "photoUrl": "",
      "userId": "04718254206241101663"
     },
     "user_tz": -540
    },
    "id": "DV9wy2u-jXuJ",
    "outputId": "dff1ef7f-c134-483e-ec51-97de44530abc"
   },
   "outputs": [
    {
     "data": {
      "text/plain": [
       "73    40\n",
       "78    36\n",
       "76    34\n",
       "82    30\n",
       "75    30\n",
       "79    29\n",
       "70    29\n",
       "81    28\n",
       "77    28\n",
       "72    28\n",
       "80    27\n",
       "71    27\n",
       "74    26\n",
       "Name: model year, dtype: int64"
      ]
     },
     "execution_count": 49,
     "metadata": {
      "tags": []
     },
     "output_type": "execute_result"
    }
   ],
   "source": [
    "df[ 'model year' ].value_counts()"
   ]
  },
  {
   "cell_type": "code",
   "execution_count": 50,
   "metadata": {
    "colab": {
     "base_uri": "https://localhost:8080/",
     "height": 285
    },
    "executionInfo": {
     "elapsed": 6,
     "status": "ok",
     "timestamp": 1622416964804,
     "user": {
      "displayName": "OuSeoung LEE",
      "photoUrl": "",
      "userId": "04718254206241101663"
     },
     "user_tz": -540
    },
    "id": "G7LpdIvfjXuJ",
    "outputId": "9962c1be-ab79-456d-b609-1cae8eec71fe"
   },
   "outputs": [
    {
     "data": {
      "text/plain": [
       "<matplotlib.axes._subplots.AxesSubplot at 0x7f2c90717590>"
      ]
     },
     "execution_count": 50,
     "metadata": {
      "tags": []
     },
     "output_type": "execute_result"
    },
    {
     "data": {
      "image/png": "[encoded data removed]",
      "text/plain": [
       "<Figure size 432x288 with 1 Axes>"
      ]
     },
     "metadata": {
      "needs_background": "light",
      "tags": []
     },
     "output_type": "display_data"
    }
   ],
   "source": [
    "df[ 'model year' ].value_counts().plot( kind = 'bar' )"
   ]
  },
  {
   "cell_type": "markdown",
   "metadata": {
    "id": "c3a6PEg6jXuJ"
   },
   "source": [
    "### 출시 국가"
   ]
  },
  {
   "cell_type": "code",
   "execution_count": 51,
   "metadata": {
    "colab": {
     "base_uri": "https://localhost:8080/"
    },
    "executionInfo": {
     "elapsed": 285,
     "status": "ok",
     "timestamp": 1622416967079,
     "user": {
      "displayName": "OuSeoung LEE",
      "photoUrl": "",
      "userId": "04718254206241101663"
     },
     "user_tz": -540
    },
    "id": "X5bIAwBOjXuJ",
    "outputId": "9fccde29-9a7f-43a7-c1f7-2b786d77673d"
   },
   "outputs": [
    {
     "data": {
      "text/plain": [
       "USA    245\n",
       "JPN     79\n",
       "EU      68\n",
       "Name: origin, dtype: int64"
      ]
     },
     "execution_count": 51,
     "metadata": {
      "tags": []
     },
     "output_type": "execute_result"
    }
   ],
   "source": [
    "df.origin.value_counts()"
   ]
  },
  {
   "cell_type": "code",
   "execution_count": 52,
   "metadata": {
    "colab": {
     "base_uri": "https://localhost:8080/",
     "height": 293
    },
    "executionInfo": {
     "elapsed": 533,
     "status": "ok",
     "timestamp": 1622416969140,
     "user": {
      "displayName": "OuSeoung LEE",
      "photoUrl": "",
      "userId": "04718254206241101663"
     },
     "user_tz": -540
    },
    "id": "tbW-TOa6jXuK",
    "outputId": "2c754b05-7666-46ec-b946-7893119c820c"
   },
   "outputs": [
    {
     "data": {
      "text/plain": [
       "<matplotlib.axes._subplots.AxesSubplot at 0x7f2c907390d0>"
      ]
     },
     "execution_count": 52,
     "metadata": {
      "tags": []
     },
     "output_type": "execute_result"
    },
    {
     "data": {
      "image/png": "[encoded data removed]",
      "text/plain": [
       "<Figure size 432x288 with 1 Axes>"
      ]
     },
     "metadata": {
      "needs_background": "light",
      "tags": []
     },
     "output_type": "display_data"
    }
   ],
   "source": [
    "df.origin.value_counts().plot( kind = 'bar' )"
   ]
  },
  {
   "cell_type": "markdown",
   "metadata": {
    "id": "MpuVEhpsjXuK"
   },
   "source": [
    "### 출시국가별 통계"
   ]
  },
  {
   "cell_type": "code",
   "execution_count": 53,
   "metadata": {
    "colab": {
     "base_uri": "https://localhost:8080/",
     "height": 173
    },
    "executionInfo": {
     "elapsed": 287,
     "status": "ok",
     "timestamp": 1622416971502,
     "user": {
      "displayName": "OuSeoung LEE",
      "photoUrl": "",
      "userId": "04718254206241101663"
     },
     "user_tz": -540
    },
    "id": "bzQI9-OZjXuK",
    "outputId": "83261f8f-86b0-4d82-d485-5b844b147c6d"
   },
   "outputs": [
    {
     "data": {
      "text/html": [
       "<div>\n",
       "<style scoped>\n",
       "    .dataframe tbody tr th:only-of-type {\n",
       "        vertical-align: middle;\n",
       "    }\n",
       "\n",
       "    .dataframe tbody tr th {\n",
       "        vertical-align: top;\n",
       "    }\n",
       "\n",
       "    .dataframe thead th {\n",
       "        text-align: right;\n",
       "    }\n",
       "</style>\n",
       "<table border=\"1\" class=\"dataframe\">\n",
       "  <thead>\n",
       "    <tr style=\"text-align: right;\">\n",
       "      <th></th>\n",
       "      <th>mpg</th>\n",
       "      <th>displacement</th>\n",
       "      <th>horsepower</th>\n",
       "      <th>weight</th>\n",
       "      <th>acceleration</th>\n",
       "      <th>kpl</th>\n",
       "    </tr>\n",
       "    <tr>\n",
       "      <th>origin</th>\n",
       "      <th></th>\n",
       "      <th></th>\n",
       "      <th></th>\n",
       "      <th></th>\n",
       "      <th></th>\n",
       "      <th></th>\n",
       "    </tr>\n",
       "  </thead>\n",
       "  <tbody>\n",
       "    <tr>\n",
       "      <th>EU</th>\n",
       "      <td>27.602941</td>\n",
       "      <td>109.632353</td>\n",
       "      <td>80.558824</td>\n",
       "      <td>2433.470588</td>\n",
       "      <td>16.794118</td>\n",
       "      <td>11.833067</td>\n",
       "    </tr>\n",
       "    <tr>\n",
       "      <th>JPN</th>\n",
       "      <td>30.450633</td>\n",
       "      <td>102.708861</td>\n",
       "      <td>79.835443</td>\n",
       "      <td>2221.227848</td>\n",
       "      <td>16.172152</td>\n",
       "      <td>13.053840</td>\n",
       "    </tr>\n",
       "    <tr>\n",
       "      <th>USA</th>\n",
       "      <td>20.033469</td>\n",
       "      <td>247.512245</td>\n",
       "      <td>119.048980</td>\n",
       "      <td>3372.489796</td>\n",
       "      <td>14.990204</td>\n",
       "      <td>8.588121</td>\n",
       "    </tr>\n",
       "  </tbody>\n",
       "</table>\n",
       "</div>"
      ],
      "text/plain": [
       "              mpg  displacement  horsepower       weight  acceleration  \\\n",
       "origin                                                                   \n",
       "EU      27.602941    109.632353   80.558824  2433.470588     16.794118   \n",
       "JPN     30.450633    102.708861   79.835443  2221.227848     16.172152   \n",
       "USA     20.033469    247.512245  119.048980  3372.489796     14.990204   \n",
       "\n",
       "              kpl  \n",
       "origin             \n",
       "EU      11.833067  \n",
       "JPN     13.053840  \n",
       "USA      8.588121  "
      ]
     },
     "execution_count": 53,
     "metadata": {
      "tags": []
     },
     "output_type": "execute_result"
    }
   ],
   "source": [
    "grouped = df.groupby( [ 'origin' ] )\n",
    "average = grouped.mean()\n",
    "average"
   ]
  },
  {
   "cell_type": "code",
   "execution_count": 54,
   "metadata": {
    "colab": {
     "base_uri": "https://localhost:8080/",
     "height": 308
    },
    "executionInfo": {
     "elapsed": 502,
     "status": "ok",
     "timestamp": 1622416973401,
     "user": {
      "displayName": "OuSeoung LEE",
      "photoUrl": "",
      "userId": "04718254206241101663"
     },
     "user_tz": -540
    },
    "id": "8BQen6WIjXuK",
    "outputId": "9cb55ffb-9994-4d18-914d-4617ee82a515"
   },
   "outputs": [
    {
     "data": {
      "text/plain": [
       "<matplotlib.axes._subplots.AxesSubplot at 0x7f2c905dccd0>"
      ]
     },
     "execution_count": 54,
     "metadata": {
      "tags": []
     },
     "output_type": "execute_result"
    },
    {
     "data": {
      "image/png": "[encoded data removed]",
      "text/plain": [
       "<Figure size 432x288 with 1 Axes>"
      ]
     },
     "metadata": {
      "needs_background": "light",
      "tags": []
     },
     "output_type": "display_data"
    }
   ],
   "source": [
    "average.plot( kind = 'bar' )"
   ]
  },
  {
   "cell_type": "markdown",
   "metadata": {
    "id": "PWGph7jbjXuK"
   },
   "source": [
    "### 출시 년도별 통계"
   ]
  },
  {
   "cell_type": "code",
   "execution_count": 55,
   "metadata": {
    "colab": {
     "base_uri": "https://localhost:8080/",
     "height": 483
    },
    "executionInfo": {
     "elapsed": 461,
     "status": "ok",
     "timestamp": 1622416975746,
     "user": {
      "displayName": "OuSeoung LEE",
      "photoUrl": "",
      "userId": "04718254206241101663"
     },
     "user_tz": -540
    },
    "id": "usuqVhHMjXuL",
    "outputId": "2073070d-a58f-4be8-edef-b1eabb5243d1"
   },
   "outputs": [
    {
     "data": {
      "text/html": [
       "<div>\n",
       "<style scoped>\n",
       "    .dataframe tbody tr th:only-of-type {\n",
       "        vertical-align: middle;\n",
       "    }\n",
       "\n",
       "    .dataframe tbody tr th {\n",
       "        vertical-align: top;\n",
       "    }\n",
       "\n",
       "    .dataframe thead th {\n",
       "        text-align: right;\n",
       "    }\n",
       "</style>\n",
       "<table border=\"1\" class=\"dataframe\">\n",
       "  <thead>\n",
       "    <tr style=\"text-align: right;\">\n",
       "      <th></th>\n",
       "      <th>mpg</th>\n",
       "      <th>displacement</th>\n",
       "      <th>horsepower</th>\n",
       "      <th>weight</th>\n",
       "      <th>acceleration</th>\n",
       "      <th>kpl</th>\n",
       "    </tr>\n",
       "    <tr>\n",
       "      <th>model year</th>\n",
       "      <th></th>\n",
       "      <th></th>\n",
       "      <th></th>\n",
       "      <th></th>\n",
       "      <th></th>\n",
       "      <th></th>\n",
       "    </tr>\n",
       "  </thead>\n",
       "  <tbody>\n",
       "    <tr>\n",
       "      <th>70</th>\n",
       "      <td>17.689655</td>\n",
       "      <td>281.413793</td>\n",
       "      <td>147.827586</td>\n",
       "      <td>3372.793103</td>\n",
       "      <td>12.948276</td>\n",
       "      <td>7.583354</td>\n",
       "    </tr>\n",
       "    <tr>\n",
       "      <th>71</th>\n",
       "      <td>21.111111</td>\n",
       "      <td>213.888889</td>\n",
       "      <td>107.037037</td>\n",
       "      <td>3030.592593</td>\n",
       "      <td>15.000000</td>\n",
       "      <td>9.050093</td>\n",
       "    </tr>\n",
       "    <tr>\n",
       "      <th>72</th>\n",
       "      <td>18.714286</td>\n",
       "      <td>218.375000</td>\n",
       "      <td>120.178571</td>\n",
       "      <td>3237.714286</td>\n",
       "      <td>15.125000</td>\n",
       "      <td>8.022602</td>\n",
       "    </tr>\n",
       "    <tr>\n",
       "      <th>73</th>\n",
       "      <td>17.100000</td>\n",
       "      <td>256.875000</td>\n",
       "      <td>130.475000</td>\n",
       "      <td>3419.025000</td>\n",
       "      <td>14.312500</td>\n",
       "      <td>7.330576</td>\n",
       "    </tr>\n",
       "    <tr>\n",
       "      <th>74</th>\n",
       "      <td>22.769231</td>\n",
       "      <td>170.653846</td>\n",
       "      <td>94.230769</td>\n",
       "      <td>2878.038462</td>\n",
       "      <td>16.173077</td>\n",
       "      <td>9.760910</td>\n",
       "    </tr>\n",
       "    <tr>\n",
       "      <th>75</th>\n",
       "      <td>20.266667</td>\n",
       "      <td>205.533333</td>\n",
       "      <td>101.066667</td>\n",
       "      <td>3176.800000</td>\n",
       "      <td>16.050000</td>\n",
       "      <td>8.688090</td>\n",
       "    </tr>\n",
       "    <tr>\n",
       "      <th>76</th>\n",
       "      <td>21.573529</td>\n",
       "      <td>197.794118</td>\n",
       "      <td>101.117647</td>\n",
       "      <td>3078.735294</td>\n",
       "      <td>15.941176</td>\n",
       "      <td>9.248327</td>\n",
       "    </tr>\n",
       "    <tr>\n",
       "      <th>77</th>\n",
       "      <td>23.375000</td>\n",
       "      <td>191.392857</td>\n",
       "      <td>105.071429</td>\n",
       "      <td>2997.357143</td>\n",
       "      <td>15.435714</td>\n",
       "      <td>10.020597</td>\n",
       "    </tr>\n",
       "    <tr>\n",
       "      <th>78</th>\n",
       "      <td>24.061111</td>\n",
       "      <td>177.805556</td>\n",
       "      <td>99.694444</td>\n",
       "      <td>2861.805556</td>\n",
       "      <td>15.805556</td>\n",
       "      <td>10.314725</td>\n",
       "    </tr>\n",
       "    <tr>\n",
       "      <th>79</th>\n",
       "      <td>25.093103</td>\n",
       "      <td>206.689655</td>\n",
       "      <td>101.206897</td>\n",
       "      <td>3055.344828</td>\n",
       "      <td>15.813793</td>\n",
       "      <td>10.757128</td>\n",
       "    </tr>\n",
       "    <tr>\n",
       "      <th>80</th>\n",
       "      <td>33.803704</td>\n",
       "      <td>116.074074</td>\n",
       "      <td>77.481481</td>\n",
       "      <td>2441.592593</td>\n",
       "      <td>17.018519</td>\n",
       "      <td>14.491264</td>\n",
       "    </tr>\n",
       "    <tr>\n",
       "      <th>81</th>\n",
       "      <td>30.185714</td>\n",
       "      <td>136.571429</td>\n",
       "      <td>81.035714</td>\n",
       "      <td>2530.178571</td>\n",
       "      <td>16.325000</td>\n",
       "      <td>12.940273</td>\n",
       "    </tr>\n",
       "    <tr>\n",
       "      <th>82</th>\n",
       "      <td>32.000000</td>\n",
       "      <td>128.133333</td>\n",
       "      <td>81.466667</td>\n",
       "      <td>2434.166667</td>\n",
       "      <td>16.510000</td>\n",
       "      <td>13.718036</td>\n",
       "    </tr>\n",
       "  </tbody>\n",
       "</table>\n",
       "</div>"
      ],
      "text/plain": [
       "                  mpg  displacement  horsepower       weight  acceleration  \\\n",
       "model year                                                                   \n",
       "70          17.689655    281.413793  147.827586  3372.793103     12.948276   \n",
       "71          21.111111    213.888889  107.037037  3030.592593     15.000000   \n",
       "72          18.714286    218.375000  120.178571  3237.714286     15.125000   \n",
       "73          17.100000    256.875000  130.475000  3419.025000     14.312500   \n",
       "74          22.769231    170.653846   94.230769  2878.038462     16.173077   \n",
       "75          20.266667    205.533333  101.066667  3176.800000     16.050000   \n",
       "76          21.573529    197.794118  101.117647  3078.735294     15.941176   \n",
       "77          23.375000    191.392857  105.071429  2997.357143     15.435714   \n",
       "78          24.061111    177.805556   99.694444  2861.805556     15.805556   \n",
       "79          25.093103    206.689655  101.206897  3055.344828     15.813793   \n",
       "80          33.803704    116.074074   77.481481  2441.592593     17.018519   \n",
       "81          30.185714    136.571429   81.035714  2530.178571     16.325000   \n",
       "82          32.000000    128.133333   81.466667  2434.166667     16.510000   \n",
       "\n",
       "                  kpl  \n",
       "model year             \n",
       "70           7.583354  \n",
       "71           9.050093  \n",
       "72           8.022602  \n",
       "73           7.330576  \n",
       "74           9.760910  \n",
       "75           8.688090  \n",
       "76           9.248327  \n",
       "77          10.020597  \n",
       "78          10.314725  \n",
       "79          10.757128  \n",
       "80          14.491264  \n",
       "81          12.940273  \n",
       "82          13.718036  "
      ]
     },
     "execution_count": 55,
     "metadata": {
      "tags": []
     },
     "output_type": "execute_result"
    }
   ],
   "source": [
    "grouped = df.groupby( [ 'model year' ] )\n",
    "average = grouped.mean()\n",
    "average"
   ]
  },
  {
   "cell_type": "code",
   "execution_count": 56,
   "metadata": {
    "colab": {
     "base_uri": "https://localhost:8080/",
     "height": 282
    },
    "executionInfo": {
     "elapsed": 745,
     "status": "ok",
     "timestamp": 1622416977818,
     "user": {
      "displayName": "OuSeoung LEE",
      "photoUrl": "",
      "userId": "04718254206241101663"
     },
     "user_tz": -540
    },
    "id": "85Mv8HBojXuL",
    "outputId": "dcf742e3-ad36-4f81-8624-c31b0de27a18"
   },
   "outputs": [
    {
     "data": {
      "text/plain": [
       "<matplotlib.axes._subplots.AxesSubplot at 0x7f2c90581cd0>"
      ]
     },
     "execution_count": 56,
     "metadata": {
      "tags": []
     },
     "output_type": "execute_result"
    },
    {
     "data": {
      "image/png": "[encoded data removed]",
      "text/plain": [
       "<Figure size 432x288 with 1 Axes>"
      ]
     },
     "metadata": {
      "needs_background": "light",
      "tags": []
     },
     "output_type": "display_data"
    }
   ],
   "source": [
    "average.plot( kind = 'barh' )"
   ]
  },
  {
   "cell_type": "markdown",
   "metadata": {
    "id": "pojY_e0gjXuL"
   },
   "source": [
    "### 모델 출시 국가 및 출시년도 통계"
   ]
  },
  {
   "cell_type": "code",
   "execution_count": 57,
   "metadata": {
    "colab": {
     "base_uri": "https://localhost:8080/",
     "height": 1000
    },
    "executionInfo": {
     "elapsed": 298,
     "status": "ok",
     "timestamp": 1622416980193,
     "user": {
      "displayName": "OuSeoung LEE",
      "photoUrl": "",
      "userId": "04718254206241101663"
     },
     "user_tz": -540
    },
    "id": "gryIXhfsjXuL",
    "outputId": "0cd21c83-7da3-42c2-f97f-bac8aa5befa3"
   },
   "outputs": [
    {
     "data": {
      "text/html": [
       "<div>\n",
       "<style scoped>\n",
       "    .dataframe tbody tr th:only-of-type {\n",
       "        vertical-align: middle;\n",
       "    }\n",
       "\n",
       "    .dataframe tbody tr th {\n",
       "        vertical-align: top;\n",
       "    }\n",
       "\n",
       "    .dataframe thead th {\n",
       "        text-align: right;\n",
       "    }\n",
       "</style>\n",
       "<table border=\"1\" class=\"dataframe\">\n",
       "  <thead>\n",
       "    <tr style=\"text-align: right;\">\n",
       "      <th></th>\n",
       "      <th></th>\n",
       "      <th>mpg</th>\n",
       "      <th>displacement</th>\n",
       "      <th>horsepower</th>\n",
       "      <th>weight</th>\n",
       "      <th>acceleration</th>\n",
       "      <th>kpl</th>\n",
       "    </tr>\n",
       "    <tr>\n",
       "      <th>origin</th>\n",
       "      <th>model year</th>\n",
       "      <th></th>\n",
       "      <th></th>\n",
       "      <th></th>\n",
       "      <th></th>\n",
       "      <th></th>\n",
       "      <th></th>\n",
       "    </tr>\n",
       "  </thead>\n",
       "  <tbody>\n",
       "    <tr>\n",
       "      <th rowspan=\"13\" valign=\"top\">EU</th>\n",
       "      <th>70</th>\n",
       "      <td>25.200000</td>\n",
       "      <td>107.800000</td>\n",
       "      <td>86.200000</td>\n",
       "      <td>2309.200000</td>\n",
       "      <td>16.500000</td>\n",
       "      <td>10.802954</td>\n",
       "    </tr>\n",
       "    <tr>\n",
       "      <th>71</th>\n",
       "      <td>28.750000</td>\n",
       "      <td>95.000000</td>\n",
       "      <td>74.000000</td>\n",
       "      <td>2024.000000</td>\n",
       "      <td>16.750000</td>\n",
       "      <td>12.324798</td>\n",
       "    </tr>\n",
       "    <tr>\n",
       "      <th>72</th>\n",
       "      <td>22.000000</td>\n",
       "      <td>111.000000</td>\n",
       "      <td>79.600000</td>\n",
       "      <td>2573.200000</td>\n",
       "      <td>18.700000</td>\n",
       "      <td>9.431150</td>\n",
       "    </tr>\n",
       "    <tr>\n",
       "      <th>73</th>\n",
       "      <td>24.000000</td>\n",
       "      <td>105.000000</td>\n",
       "      <td>81.857143</td>\n",
       "      <td>2335.714286</td>\n",
       "      <td>16.428571</td>\n",
       "      <td>10.288527</td>\n",
       "    </tr>\n",
       "    <tr>\n",
       "      <th>74</th>\n",
       "      <td>27.000000</td>\n",
       "      <td>93.166667</td>\n",
       "      <td>74.166667</td>\n",
       "      <td>2139.333333</td>\n",
       "      <td>15.333333</td>\n",
       "      <td>11.574593</td>\n",
       "    </tr>\n",
       "    <tr>\n",
       "      <th>75</th>\n",
       "      <td>24.500000</td>\n",
       "      <td>109.500000</td>\n",
       "      <td>89.500000</td>\n",
       "      <td>2571.166667</td>\n",
       "      <td>15.083333</td>\n",
       "      <td>10.502872</td>\n",
       "    </tr>\n",
       "    <tr>\n",
       "      <th>76</th>\n",
       "      <td>24.250000</td>\n",
       "      <td>116.125000</td>\n",
       "      <td>87.625000</td>\n",
       "      <td>2611.000000</td>\n",
       "      <td>16.050000</td>\n",
       "      <td>10.395699</td>\n",
       "    </tr>\n",
       "    <tr>\n",
       "      <th>77</th>\n",
       "      <td>29.250000</td>\n",
       "      <td>98.500000</td>\n",
       "      <td>81.000000</td>\n",
       "      <td>2138.750000</td>\n",
       "      <td>15.000000</td>\n",
       "      <td>12.539143</td>\n",
       "    </tr>\n",
       "    <tr>\n",
       "      <th>78</th>\n",
       "      <td>24.950000</td>\n",
       "      <td>126.166667</td>\n",
       "      <td>99.166667</td>\n",
       "      <td>2691.666667</td>\n",
       "      <td>16.233333</td>\n",
       "      <td>10.695781</td>\n",
       "    </tr>\n",
       "    <tr>\n",
       "      <th>79</th>\n",
       "      <td>30.450000</td>\n",
       "      <td>126.000000</td>\n",
       "      <td>72.000000</td>\n",
       "      <td>2693.750000</td>\n",
       "      <td>18.400000</td>\n",
       "      <td>13.053569</td>\n",
       "    </tr>\n",
       "    <tr>\n",
       "      <th>80</th>\n",
       "      <td>36.837500</td>\n",
       "      <td>106.625000</td>\n",
       "      <td>66.750000</td>\n",
       "      <td>2412.125000</td>\n",
       "      <td>18.500000</td>\n",
       "      <td>15.791818</td>\n",
       "    </tr>\n",
       "    <tr>\n",
       "      <th>81</th>\n",
       "      <td>30.600000</td>\n",
       "      <td>130.333333</td>\n",
       "      <td>76.666667</td>\n",
       "      <td>2860.000000</td>\n",
       "      <td>18.066667</td>\n",
       "      <td>13.117872</td>\n",
       "    </tr>\n",
       "    <tr>\n",
       "      <th>82</th>\n",
       "      <td>40.000000</td>\n",
       "      <td>101.000000</td>\n",
       "      <td>63.000000</td>\n",
       "      <td>2055.000000</td>\n",
       "      <td>19.950000</td>\n",
       "      <td>17.147545</td>\n",
       "    </tr>\n",
       "    <tr>\n",
       "      <th rowspan=\"13\" valign=\"top\">JPN</th>\n",
       "      <th>70</th>\n",
       "      <td>25.500000</td>\n",
       "      <td>105.000000</td>\n",
       "      <td>91.500000</td>\n",
       "      <td>2251.000000</td>\n",
       "      <td>14.750000</td>\n",
       "      <td>10.931560</td>\n",
       "    </tr>\n",
       "    <tr>\n",
       "      <th>71</th>\n",
       "      <td>29.500000</td>\n",
       "      <td>88.250000</td>\n",
       "      <td>79.250000</td>\n",
       "      <td>1936.000000</td>\n",
       "      <td>16.375000</td>\n",
       "      <td>12.646315</td>\n",
       "    </tr>\n",
       "    <tr>\n",
       "      <th>72</th>\n",
       "      <td>24.200000</td>\n",
       "      <td>99.400000</td>\n",
       "      <td>93.800000</td>\n",
       "      <td>2300.400000</td>\n",
       "      <td>15.400000</td>\n",
       "      <td>10.374265</td>\n",
       "    </tr>\n",
       "    <tr>\n",
       "      <th>73</th>\n",
       "      <td>20.000000</td>\n",
       "      <td>107.750000</td>\n",
       "      <td>98.500000</td>\n",
       "      <td>2397.250000</td>\n",
       "      <td>15.625000</td>\n",
       "      <td>8.573773</td>\n",
       "    </tr>\n",
       "    <tr>\n",
       "      <th>74</th>\n",
       "      <td>29.333333</td>\n",
       "      <td>89.500000</td>\n",
       "      <td>72.500000</td>\n",
       "      <td>2053.000000</td>\n",
       "      <td>17.666667</td>\n",
       "      <td>12.574867</td>\n",
       "    </tr>\n",
       "    <tr>\n",
       "      <th>75</th>\n",
       "      <td>27.500000</td>\n",
       "      <td>110.250000</td>\n",
       "      <td>80.250000</td>\n",
       "      <td>2303.250000</td>\n",
       "      <td>16.000000</td>\n",
       "      <td>11.788937</td>\n",
       "    </tr>\n",
       "    <tr>\n",
       "      <th>76</th>\n",
       "      <td>28.000000</td>\n",
       "      <td>107.250000</td>\n",
       "      <td>76.500000</td>\n",
       "      <td>2217.500000</td>\n",
       "      <td>16.575000</td>\n",
       "      <td>12.003282</td>\n",
       "    </tr>\n",
       "    <tr>\n",
       "      <th>77</th>\n",
       "      <td>27.416667</td>\n",
       "      <td>100.500000</td>\n",
       "      <td>81.166667</td>\n",
       "      <td>2295.833333</td>\n",
       "      <td>16.316667</td>\n",
       "      <td>11.753213</td>\n",
       "    </tr>\n",
       "    <tr>\n",
       "      <th>78</th>\n",
       "      <td>29.687500</td>\n",
       "      <td>107.250000</td>\n",
       "      <td>79.250000</td>\n",
       "      <td>2221.250000</td>\n",
       "      <td>16.200000</td>\n",
       "      <td>12.726694</td>\n",
       "    </tr>\n",
       "    <tr>\n",
       "      <th>79</th>\n",
       "      <td>32.950000</td>\n",
       "      <td>85.500000</td>\n",
       "      <td>65.000000</td>\n",
       "      <td>1997.500000</td>\n",
       "      <td>17.200000</td>\n",
       "      <td>14.125290</td>\n",
       "    </tr>\n",
       "    <tr>\n",
       "      <th>80</th>\n",
       "      <td>35.400000</td>\n",
       "      <td>104.615385</td>\n",
       "      <td>78.846154</td>\n",
       "      <td>2290.307692</td>\n",
       "      <td>16.015385</td>\n",
       "      <td>15.175578</td>\n",
       "    </tr>\n",
       "    <tr>\n",
       "      <th>81</th>\n",
       "      <td>32.958333</td>\n",
       "      <td>107.500000</td>\n",
       "      <td>78.333333</td>\n",
       "      <td>2269.166667</td>\n",
       "      <td>16.183333</td>\n",
       "      <td>14.128863</td>\n",
       "    </tr>\n",
       "    <tr>\n",
       "      <th>82</th>\n",
       "      <td>34.888889</td>\n",
       "      <td>103.777778</td>\n",
       "      <td>74.000000</td>\n",
       "      <td>2132.777778</td>\n",
       "      <td>15.833333</td>\n",
       "      <td>14.956470</td>\n",
       "    </tr>\n",
       "    <tr>\n",
       "      <th rowspan=\"13\" valign=\"top\">USA</th>\n",
       "      <th>70</th>\n",
       "      <td>15.272727</td>\n",
       "      <td>336.909091</td>\n",
       "      <td>166.954545</td>\n",
       "      <td>3716.500000</td>\n",
       "      <td>11.977273</td>\n",
       "      <td>6.547245</td>\n",
       "    </tr>\n",
       "    <tr>\n",
       "      <th>71</th>\n",
       "      <td>17.736842</td>\n",
       "      <td>265.368421</td>\n",
       "      <td>119.842105</td>\n",
       "      <td>3472.947368</td>\n",
       "      <td>14.342105</td>\n",
       "      <td>7.603583</td>\n",
       "    </tr>\n",
       "    <tr>\n",
       "      <th>72</th>\n",
       "      <td>16.277778</td>\n",
       "      <td>281.250000</td>\n",
       "      <td>138.777778</td>\n",
       "      <td>3682.666667</td>\n",
       "      <td>14.055556</td>\n",
       "      <td>6.978098</td>\n",
       "    </tr>\n",
       "    <tr>\n",
       "      <th>73</th>\n",
       "      <td>15.034483</td>\n",
       "      <td>314.103448</td>\n",
       "      <td>146.620690</td>\n",
       "      <td>3821.448276</td>\n",
       "      <td>13.620690</td>\n",
       "      <td>6.445112</td>\n",
       "    </tr>\n",
       "    <tr>\n",
       "      <th>74</th>\n",
       "      <td>18.142857</td>\n",
       "      <td>238.642857</td>\n",
       "      <td>112.142857</td>\n",
       "      <td>3548.214286</td>\n",
       "      <td>15.892857</td>\n",
       "      <td>7.777637</td>\n",
       "    </tr>\n",
       "    <tr>\n",
       "      <th>75</th>\n",
       "      <td>17.550000</td>\n",
       "      <td>253.400000</td>\n",
       "      <td>108.700000</td>\n",
       "      <td>3533.200000</td>\n",
       "      <td>16.350000</td>\n",
       "      <td>7.523486</td>\n",
       "    </tr>\n",
       "    <tr>\n",
       "      <th>76</th>\n",
       "      <td>19.431818</td>\n",
       "      <td>243.954545</td>\n",
       "      <td>110.500000</td>\n",
       "      <td>3405.409091</td>\n",
       "      <td>15.786364</td>\n",
       "      <td>8.330200</td>\n",
       "    </tr>\n",
       "    <tr>\n",
       "      <th>77</th>\n",
       "      <td>20.722222</td>\n",
       "      <td>242.333333</td>\n",
       "      <td>118.388889</td>\n",
       "      <td>3422.000000</td>\n",
       "      <td>15.238889</td>\n",
       "      <td>8.883381</td>\n",
       "    </tr>\n",
       "    <tr>\n",
       "      <th>78</th>\n",
       "      <td>21.772727</td>\n",
       "      <td>217.545455</td>\n",
       "      <td>107.272727</td>\n",
       "      <td>3141.136364</td>\n",
       "      <td>15.545455</td>\n",
       "      <td>9.333721</td>\n",
       "    </tr>\n",
       "    <tr>\n",
       "      <th>79</th>\n",
       "      <td>23.478261</td>\n",
       "      <td>231.260870</td>\n",
       "      <td>109.434783</td>\n",
       "      <td>3210.217391</td>\n",
       "      <td>15.243478</td>\n",
       "      <td>10.064864</td>\n",
       "    </tr>\n",
       "    <tr>\n",
       "      <th>80</th>\n",
       "      <td>26.300000</td>\n",
       "      <td>153.500000</td>\n",
       "      <td>88.833333</td>\n",
       "      <td>2808.666667</td>\n",
       "      <td>17.216667</td>\n",
       "      <td>11.274511</td>\n",
       "    </tr>\n",
       "    <tr>\n",
       "      <th>81</th>\n",
       "      <td>27.530769</td>\n",
       "      <td>164.846154</td>\n",
       "      <td>84.538462</td>\n",
       "      <td>2695.000000</td>\n",
       "      <td>16.053846</td>\n",
       "      <td>11.802128</td>\n",
       "    </tr>\n",
       "    <tr>\n",
       "      <th>82</th>\n",
       "      <td>29.789474</td>\n",
       "      <td>142.526316</td>\n",
       "      <td>86.947368</td>\n",
       "      <td>2616.842105</td>\n",
       "      <td>16.468421</td>\n",
       "      <td>12.770409</td>\n",
       "    </tr>\n",
       "  </tbody>\n",
       "</table>\n",
       "</div>"
      ],
      "text/plain": [
       "                         mpg  displacement  horsepower       weight  \\\n",
       "origin model year                                                     \n",
       "EU     70          25.200000    107.800000   86.200000  2309.200000   \n",
       "       71          28.750000     95.000000   74.000000  2024.000000   \n",
       "       72          22.000000    111.000000   79.600000  2573.200000   \n",
       "       73          24.000000    105.000000   81.857143  2335.714286   \n",
       "       74          27.000000     93.166667   74.166667  2139.333333   \n",
       "       75          24.500000    109.500000   89.500000  2571.166667   \n",
       "       76          24.250000    116.125000   87.625000  2611.000000   \n",
       "       77          29.250000     98.500000   81.000000  2138.750000   \n",
       "       78          24.950000    126.166667   99.166667  2691.666667   \n",
       "       79          30.450000    126.000000   72.000000  2693.750000   \n",
       "       80          36.837500    106.625000   66.750000  2412.125000   \n",
       "       81          30.600000    130.333333   76.666667  2860.000000   \n",
       "       82          40.000000    101.000000   63.000000  2055.000000   \n",
       "JPN    70          25.500000    105.000000   91.500000  2251.000000   \n",
       "       71          29.500000     88.250000   79.250000  1936.000000   \n",
       "       72          24.200000     99.400000   93.800000  2300.400000   \n",
       "       73          20.000000    107.750000   98.500000  2397.250000   \n",
       "       74          29.333333     89.500000   72.500000  2053.000000   \n",
       "       75          27.500000    110.250000   80.250000  2303.250000   \n",
       "       76          28.000000    107.250000   76.500000  2217.500000   \n",
       "       77          27.416667    100.500000   81.166667  2295.833333   \n",
       "       78          29.687500    107.250000   79.250000  2221.250000   \n",
       "       79          32.950000     85.500000   65.000000  1997.500000   \n",
       "       80          35.400000    104.615385   78.846154  2290.307692   \n",
       "       81          32.958333    107.500000   78.333333  2269.166667   \n",
       "       82          34.888889    103.777778   74.000000  2132.777778   \n",
       "USA    70          15.272727    336.909091  166.954545  3716.500000   \n",
       "       71          17.736842    265.368421  119.842105  3472.947368   \n",
       "       72          16.277778    281.250000  138.777778  3682.666667   \n",
       "       73          15.034483    314.103448  146.620690  3821.448276   \n",
       "       74          18.142857    238.642857  112.142857  3548.214286   \n",
       "       75          17.550000    253.400000  108.700000  3533.200000   \n",
       "       76          19.431818    243.954545  110.500000  3405.409091   \n",
       "       77          20.722222    242.333333  118.388889  3422.000000   \n",
       "       78          21.772727    217.545455  107.272727  3141.136364   \n",
       "       79          23.478261    231.260870  109.434783  3210.217391   \n",
       "       80          26.300000    153.500000   88.833333  2808.666667   \n",
       "       81          27.530769    164.846154   84.538462  2695.000000   \n",
       "       82          29.789474    142.526316   86.947368  2616.842105   \n",
       "\n",
       "                   acceleration        kpl  \n",
       "origin model year                           \n",
       "EU     70             16.500000  10.802954  \n",
       "       71             16.750000  12.324798  \n",
       "       72             18.700000   9.431150  \n",
       "       73             16.428571  10.288527  \n",
       "       74             15.333333  11.574593  \n",
       "       75             15.083333  10.502872  \n",
       "       76             16.050000  10.395699  \n",
       "       77             15.000000  12.539143  \n",
       "       78             16.233333  10.695781  \n",
       "       79             18.400000  13.053569  \n",
       "       80             18.500000  15.791818  \n",
       "       81             18.066667  13.117872  \n",
       "       82             19.950000  17.147545  \n",
       "JPN    70             14.750000  10.931560  \n",
       "       71             16.375000  12.646315  \n",
       "       72             15.400000  10.374265  \n",
       "       73             15.625000   8.573773  \n",
       "       74             17.666667  12.574867  \n",
       "       75             16.000000  11.788937  \n",
       "       76             16.575000  12.003282  \n",
       "       77             16.316667  11.753213  \n",
       "       78             16.200000  12.726694  \n",
       "       79             17.200000  14.125290  \n",
       "       80             16.015385  15.175578  \n",
       "       81             16.183333  14.128863  \n",
       "       82             15.833333  14.956470  \n",
       "USA    70             11.977273   6.547245  \n",
       "       71             14.342105   7.603583  \n",
       "       72             14.055556   6.978098  \n",
       "       73             13.620690   6.445112  \n",
       "       74             15.892857   7.777637  \n",
       "       75             16.350000   7.523486  \n",
       "       76             15.786364   8.330200  \n",
       "       77             15.238889   8.883381  \n",
       "       78             15.545455   9.333721  \n",
       "       79             15.243478  10.064864  \n",
       "       80             17.216667  11.274511  \n",
       "       81             16.053846  11.802128  \n",
       "       82             16.468421  12.770409  "
      ]
     },
     "execution_count": 57,
     "metadata": {
      "tags": []
     },
     "output_type": "execute_result"
    }
   ],
   "source": [
    "grouped = df.groupby( [ 'origin', 'model year' ] )\n",
    "average = grouped.mean()\n",
    "average"
   ]
  },
  {
   "cell_type": "markdown",
   "metadata": {
    "id": "vbfzZQJSjXuL"
   },
   "source": [
    "### 연비, 배기량, 마력, 중량, 가속력간 관계"
   ]
  },
  {
   "cell_type": "code",
   "execution_count": 58,
   "metadata": {
    "colab": {
     "base_uri": "https://localhost:8080/",
     "height": 204
    },
    "executionInfo": {
     "elapsed": 287,
     "status": "ok",
     "timestamp": 1622416982357,
     "user": {
      "displayName": "OuSeoung LEE",
      "photoUrl": "",
      "userId": "04718254206241101663"
     },
     "user_tz": -540
    },
    "id": "uVUKnb3ljXuL",
    "outputId": "a882b734-2b9a-4aba-e4eb-a626e646d084"
   },
   "outputs": [
    {
     "data": {
      "text/html": [
       "<div>\n",
       "<style scoped>\n",
       "    .dataframe tbody tr th:only-of-type {\n",
       "        vertical-align: middle;\n",
       "    }\n",
       "\n",
       "    .dataframe tbody tr th {\n",
       "        vertical-align: top;\n",
       "    }\n",
       "\n",
       "    .dataframe thead th {\n",
       "        text-align: right;\n",
       "    }\n",
       "</style>\n",
       "<table border=\"1\" class=\"dataframe\">\n",
       "  <thead>\n",
       "    <tr style=\"text-align: right;\">\n",
       "      <th></th>\n",
       "      <th>mpg</th>\n",
       "      <th>displacement</th>\n",
       "      <th>horsepower</th>\n",
       "      <th>weight</th>\n",
       "      <th>acceleration</th>\n",
       "    </tr>\n",
       "  </thead>\n",
       "  <tbody>\n",
       "    <tr>\n",
       "      <th>mpg</th>\n",
       "      <td>1.000000</td>\n",
       "      <td>-0.805127</td>\n",
       "      <td>-0.778427</td>\n",
       "      <td>-0.832244</td>\n",
       "      <td>0.423329</td>\n",
       "    </tr>\n",
       "    <tr>\n",
       "      <th>displacement</th>\n",
       "      <td>-0.805127</td>\n",
       "      <td>1.000000</td>\n",
       "      <td>0.897257</td>\n",
       "      <td>0.932994</td>\n",
       "      <td>-0.543800</td>\n",
       "    </tr>\n",
       "    <tr>\n",
       "      <th>horsepower</th>\n",
       "      <td>-0.778427</td>\n",
       "      <td>0.897257</td>\n",
       "      <td>1.000000</td>\n",
       "      <td>0.864538</td>\n",
       "      <td>-0.689196</td>\n",
       "    </tr>\n",
       "    <tr>\n",
       "      <th>weight</th>\n",
       "      <td>-0.832244</td>\n",
       "      <td>0.932994</td>\n",
       "      <td>0.864538</td>\n",
       "      <td>1.000000</td>\n",
       "      <td>-0.416839</td>\n",
       "    </tr>\n",
       "    <tr>\n",
       "      <th>acceleration</th>\n",
       "      <td>0.423329</td>\n",
       "      <td>-0.543800</td>\n",
       "      <td>-0.689196</td>\n",
       "      <td>-0.416839</td>\n",
       "      <td>1.000000</td>\n",
       "    </tr>\n",
       "  </tbody>\n",
       "</table>\n",
       "</div>"
      ],
      "text/plain": [
       "                   mpg  displacement  horsepower    weight  acceleration\n",
       "mpg           1.000000     -0.805127   -0.778427 -0.832244      0.423329\n",
       "displacement -0.805127      1.000000    0.897257  0.932994     -0.543800\n",
       "horsepower   -0.778427      0.897257    1.000000  0.864538     -0.689196\n",
       "weight       -0.832244      0.932994    0.864538  1.000000     -0.416839\n",
       "acceleration  0.423329     -0.543800   -0.689196 -0.416839      1.000000"
      ]
     },
     "execution_count": 58,
     "metadata": {
      "tags": []
     },
     "output_type": "execute_result"
    }
   ],
   "source": [
    "df[ [ 'mpg', 'displacement', 'horsepower', 'weight', 'acceleration' ] ].corr()"
   ]
  },
  {
   "cell_type": "code",
   "execution_count": 59,
   "metadata": {
    "colab": {
     "base_uri": "https://localhost:8080/",
     "height": 296
    },
    "executionInfo": {
     "elapsed": 6,
     "status": "ok",
     "timestamp": 1622416983772,
     "user": {
      "displayName": "OuSeoung LEE",
      "photoUrl": "",
      "userId": "04718254206241101663"
     },
     "user_tz": -540
    },
    "id": "AX3NHMASjXuM",
    "outputId": "bb49f657-d410-43b2-fbdb-d89f7478d5ac"
   },
   "outputs": [
    {
     "data": {
      "text/plain": [
       "<matplotlib.axes._subplots.AxesSubplot at 0x7f2c9038aa10>"
      ]
     },
     "execution_count": 59,
     "metadata": {
      "tags": []
     },
     "output_type": "execute_result"
    },
    {
     "data": {
      "image/png": "[encoded data removed]",
      "text/plain": [
       "<Figure size 432x288 with 1 Axes>"
      ]
     },
     "metadata": {
      "needs_background": "light",
      "tags": []
     },
     "output_type": "display_data"
    }
   ],
   "source": [
    "df.plot( x = 'horsepower', y = 'mpg', kind = 'scatter' )"
   ]
  },
  {
   "cell_type": "code",
   "execution_count": 60,
   "metadata": {
    "colab": {
     "base_uri": "https://localhost:8080/",
     "height": 296
    },
    "executionInfo": {
     "elapsed": 676,
     "status": "ok",
     "timestamp": 1622416985663,
     "user": {
      "displayName": "OuSeoung LEE",
      "photoUrl": "",
      "userId": "04718254206241101663"
     },
     "user_tz": -540
    },
    "id": "OH-UVaU3jXuM",
    "outputId": "5bdfe546-d812-4965-9d06-cb63b5fd814d"
   },
   "outputs": [
    {
     "data": {
      "text/plain": [
       "<matplotlib.axes._subplots.AxesSubplot at 0x7f2c9030ec90>"
      ]
     },
     "execution_count": 60,
     "metadata": {
      "tags": []
     },
     "output_type": "execute_result"
    },
    {
     "data": {
      "image/png": "[encoded data removed]",
      "text/plain": [
       "<Figure size 432x288 with 1 Axes>"
      ]
     },
     "metadata": {
      "needs_background": "light",
      "tags": []
     },
     "output_type": "display_data"
    }
   ],
   "source": [
    "df.plot( x = 'weight', y = 'mpg', kind = 'scatter' )"
   ]
  },
  {
   "cell_type": "code",
   "execution_count": 61,
   "metadata": {
    "colab": {
     "base_uri": "https://localhost:8080/",
     "height": 296
    },
    "executionInfo": {
     "elapsed": 751,
     "status": "ok",
     "timestamp": 1622416987686,
     "user": {
      "displayName": "OuSeoung LEE",
      "photoUrl": "",
      "userId": "04718254206241101663"
     },
     "user_tz": -540
    },
    "id": "jNdz_lYLjXuM",
    "outputId": "664b2a7c-f34b-43f6-e5c1-5b41c8c90cba"
   },
   "outputs": [
    {
     "data": {
      "text/plain": [
       "<matplotlib.axes._subplots.AxesSubplot at 0x7f2c9036a2d0>"
      ]
     },
     "execution_count": 61,
     "metadata": {
      "tags": []
     },
     "output_type": "execute_result"
    },
    {
     "data": {
      "image/png": "[encoded data removed]",
      "text/plain": [
       "<Figure size 432x288 with 1 Axes>"
      ]
     },
     "metadata": {
      "needs_background": "light",
      "tags": []
     },
     "output_type": "display_data"
    }
   ],
   "source": [
    "df.plot( x = 'displacement', y = 'mpg', kind = 'scatter' )"
   ]
  },
  {
   "cell_type": "code",
   "execution_count": 62,
   "metadata": {
    "colab": {
     "base_uri": "https://localhost:8080/",
     "height": 296
    },
    "executionInfo": {
     "elapsed": 563,
     "status": "ok",
     "timestamp": 1622416989369,
     "user": {
      "displayName": "OuSeoung LEE",
      "photoUrl": "",
      "userId": "04718254206241101663"
     },
     "user_tz": -540
    },
    "id": "VCYo3aK5jXuM",
    "outputId": "1af2ab47-d427-47be-e617-6627c66d7bbb"
   },
   "outputs": [
    {
     "data": {
      "text/plain": [
       "<matplotlib.axes._subplots.AxesSubplot at 0x7f2c905e1a90>"
      ]
     },
     "execution_count": 62,
     "metadata": {
      "tags": []
     },
     "output_type": "execute_result"
    },
    {
     "data": {
      "image/png": "[encoded data removed]",
      "text/plain": [
       "<Figure size 432x288 with 1 Axes>"
      ]
     },
     "metadata": {
      "needs_background": "light",
      "tags": []
     },
     "output_type": "display_data"
    }
   ],
   "source": [
    "df.plot( x = 'acceleration', y = 'mpg', kind = 'scatter' )"
   ]
  },
  {
   "cell_type": "code",
   "execution_count": 63,
   "metadata": {
    "colab": {
     "base_uri": "https://localhost:8080/",
     "height": 296
    },
    "executionInfo": {
     "elapsed": 528,
     "status": "ok",
     "timestamp": 1622416991171,
     "user": {
      "displayName": "OuSeoung LEE",
      "photoUrl": "",
      "userId": "04718254206241101663"
     },
     "user_tz": -540
    },
    "id": "AoPN3i5WjXuM",
    "outputId": "b15a2154-fcb8-4e91-d4c5-323115106d7a"
   },
   "outputs": [
    {
     "data": {
      "text/plain": [
       "<matplotlib.axes._subplots.AxesSubplot at 0x7f2c908261d0>"
      ]
     },
     "execution_count": 63,
     "metadata": {
      "tags": []
     },
     "output_type": "execute_result"
    },
    {
     "data": {
      "image/png": "[encoded data removed]",
      "text/plain": [
       "<Figure size 432x288 with 1 Axes>"
      ]
     },
     "metadata": {
      "needs_background": "light",
      "tags": []
     },
     "output_type": "display_data"
    }
   ],
   "source": [
    "df.plot( x = 'weight', y = 'horsepower', kind = 'scatter' )"
   ]
  },
  {
   "cell_type": "code",
   "execution_count": 64,
   "metadata": {
    "colab": {
     "base_uri": "https://localhost:8080/",
     "height": 296
    },
    "executionInfo": {
     "elapsed": 359,
     "status": "ok",
     "timestamp": 1622416992696,
     "user": {
      "displayName": "OuSeoung LEE",
      "photoUrl": "",
      "userId": "04718254206241101663"
     },
     "user_tz": -540
    },
    "id": "tDVWjg5GjXuM",
    "outputId": "5e361145-66c4-4fbd-cb2f-bdf0733a925d"
   },
   "outputs": [
    {
     "data": {
      "text/plain": [
       "<matplotlib.axes._subplots.AxesSubplot at 0x7f2c9036a310>"
      ]
     },
     "execution_count": 64,
     "metadata": {
      "tags": []
     },
     "output_type": "execute_result"
    },
    {
     "data": {
      "image/png": "[encoded data removed]",
      "text/plain": [
       "<Figure size 432x288 with 1 Axes>"
      ]
     },
     "metadata": {
      "needs_background": "light",
      "tags": []
     },
     "output_type": "display_data"
    }
   ],
   "source": [
    "df.plot( x = 'displacement', y = 'horsepower', kind = 'scatter' )"
   ]
  },
  {
   "cell_type": "code",
   "execution_count": 65,
   "metadata": {
    "colab": {
     "base_uri": "https://localhost:8080/",
     "height": 296
    },
    "executionInfo": {
     "elapsed": 687,
     "status": "ok",
     "timestamp": 1622416994740,
     "user": {
      "displayName": "OuSeoung LEE",
      "photoUrl": "",
      "userId": "04718254206241101663"
     },
     "user_tz": -540
    },
    "id": "1PRAdHeFjXuN",
    "outputId": "8f35aa5b-ff3f-4913-bd44-bbb2d82bb2a6"
   },
   "outputs": [
    {
     "data": {
      "text/plain": [
       "<matplotlib.axes._subplots.AxesSubplot at 0x7f2c90116ed0>"
      ]
     },
     "execution_count": 65,
     "metadata": {
      "tags": []
     },
     "output_type": "execute_result"
    },
    {
     "data": {
      "image/png": "[encoded data removed]",
      "text/plain": [
       "<Figure size 432x288 with 1 Axes>"
      ]
     },
     "metadata": {
      "needs_background": "light",
      "tags": []
     },
     "output_type": "display_data"
    }
   ],
   "source": [
    "df.plot( x = 'acceleration', y = 'horsepower', kind = 'scatter' )"
   ]
  },
  {
   "cell_type": "code",
   "execution_count": 67,
   "metadata": {
    "colab": {
     "base_uri": "https://localhost:8080/",
     "height": 1000
    },
    "executionInfo": {
     "elapsed": 16219,
     "status": "ok",
     "timestamp": 1622417058440,
     "user": {
      "displayName": "OuSeoung LEE",
      "photoUrl": "",
      "userId": "04718254206241101663"
     },
     "user_tz": -540
    },
    "id": "07eHO0USjXuN",
    "outputId": "87bc8c2f-67a4-464c-f903-d3270a87e151"
   },
   "outputs": [
    {
     "data": {
      "text/plain": [
       "<seaborn.axisgrid.PairGrid at 0x7f2c86b9a050>"
      ]
     },
     "execution_count": 67,
     "metadata": {
      "tags": []
     },
     "output_type": "execute_result"
    },
    {
     "data": {
      "image/png": "[encoded data removed]",
      "text/plain": [
       "<Figure size 1080x1080 with 42 Axes>"
      ]
     },
     "metadata": {
      "needs_background": "light",
      "tags": []
     },
     "output_type": "display_data"
    }
   ],
   "source": [
    "sns.pairplot( df )"
   ]
  },
  {
   "cell_type": "code",
   "execution_count": null,
   "metadata": {
    "id": "Hdk-z4XBkuJz"
   },
   "outputs": [],
   "source": []
  }
 ],
 "metadata": {
  "colab": {
   "collapsed_sections": [],
   "name": "auto-mpg_EDA_Fina.ipynb",
   "provenance": [
    {
     "file_id": "1FAHm-gsn30RQd5AI1rZavgVtY0Hd2e4G",
     "timestamp": 1622416400148
    }
   ]
  },
  "kernelspec": {
   "display_name": "Python 3",
   "language": "python",
   "name": "python3"
  },
  "language_info": {
   "codemirror_mode": {
    "name": "ipython",
    "version": 3
   },
   "file_extension": ".py",
   "mimetype": "text/x-python",
   "name": "python",
   "nbconvert_exporter": "python",
   "pygments_lexer": "ipython3",
   "version": "3.8.5"
  }
 },
 "nbformat": 4,
 "nbformat_minor": 4
}
