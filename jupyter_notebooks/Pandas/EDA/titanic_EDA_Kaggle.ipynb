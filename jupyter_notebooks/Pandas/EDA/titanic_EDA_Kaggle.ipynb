{
 "cells": [
  {
   "cell_type": "markdown",
   "id": "72711030",
   "metadata": {
    "id": "preceding-toddler",
    "papermill": {
     "duration": 0.056712,
     "end_time": "2021-05-30T18:06:13.912793",
     "exception": false,
     "start_time": "2021-05-30T18:06:13.856081",
     "status": "completed"
    },
    "tags": []
   },
   "source": [
    "# Titanic.csv"
   ]
  },
  {
   "cell_type": "code",
   "execution_count": 6,
   "id": "9ecd1483",
   "metadata": {
    "execution": {
     "iopub.execute_input": "2021-05-30T18:06:14.038330Z",
     "iopub.status.busy": "2021-05-30T18:06:14.037705Z",
     "iopub.status.idle": "2021-05-30T18:06:14.739852Z",
     "shell.execute_reply": "2021-05-30T18:06:14.739004Z"
    },
    "executionInfo": {
     "elapsed": 1214,
     "status": "ok",
     "timestamp": 1622417427526,
     "user": {
      "displayName": "OuSeoung LEE",
      "photoUrl": "",
      "userId": "04718254206241101663"
     },
     "user_tz": -540
    },
    "id": "herbal-jewel",
    "papermill": {
     "duration": 0.769497,
     "end_time": "2021-05-30T18:06:14.740020",
     "exception": false,
     "start_time": "2021-05-30T18:06:13.970523",
     "status": "completed"
    },
    "tags": []
   },
   "outputs": [],
   "source": [
    "import numpy as np\n",
    "import pandas as pd\n",
    "import matplotlib.pyplot as plt\n",
    "import seaborn as sns\n",
    "import warnings\n",
    "warnings.filterwarnings('ignore')\n",
    "from collections import Counter"
   ]
  },
  {
   "cell_type": "code",
   "execution_count": 8,
   "id": "f02f9b05",
   "metadata": {
    "colab": {
     "base_uri": "https://localhost:8080/",
     "height": 255
    },
    "execution": {
     "iopub.execute_input": "2021-05-30T18:06:15.014802Z",
     "iopub.status.busy": "2021-05-30T18:06:15.013623Z",
     "iopub.status.idle": "2021-05-30T18:06:15.035745Z",
     "shell.execute_reply": "2021-05-30T18:06:15.035216Z",
     "shell.execute_reply.started": "2021-05-30T17:56:10.626440Z"
    },
    "executionInfo": {
     "elapsed": 5,
     "status": "ok",
     "timestamp": 1622417684819,
     "user": {
      "displayName": "OuSeoung LEE",
      "photoUrl": "",
      "userId": "04718254206241101663"
     },
     "user_tz": -540
    },
    "id": "acute-purchase",
    "outputId": "0ae89874-8058-4711-b77d-7d4cf6ff9369",
    "papermill": {
     "duration": 0.086296,
     "end_time": "2021-05-30T18:06:15.035919",
     "exception": false,
     "start_time": "2021-05-30T18:06:14.949623",
     "status": "completed"
    },
    "tags": []
   },
   "outputs": [
    {
     "data": {
      "text/html": [
       "<div>\n",
       "<style scoped>\n",
       "    .dataframe tbody tr th:only-of-type {\n",
       "        vertical-align: middle;\n",
       "    }\n",
       "\n",
       "    .dataframe tbody tr th {\n",
       "        vertical-align: top;\n",
       "    }\n",
       "\n",
       "    .dataframe thead th {\n",
       "        text-align: right;\n",
       "    }\n",
       "</style>\n",
       "<table border=\"1\" class=\"dataframe\">\n",
       "  <thead>\n",
       "    <tr style=\"text-align: right;\">\n",
       "      <th></th>\n",
       "      <th>PassengerId</th>\n",
       "      <th>Survived</th>\n",
       "      <th>Pclass</th>\n",
       "      <th>Name</th>\n",
       "      <th>Sex</th>\n",
       "      <th>Age</th>\n",
       "      <th>SibSp</th>\n",
       "      <th>Parch</th>\n",
       "      <th>Ticket</th>\n",
       "      <th>Fare</th>\n",
       "      <th>Cabin</th>\n",
       "      <th>Embarked</th>\n",
       "    </tr>\n",
       "  </thead>\n",
       "  <tbody>\n",
       "    <tr>\n",
       "      <th>0</th>\n",
       "      <td>1</td>\n",
       "      <td>0</td>\n",
       "      <td>3</td>\n",
       "      <td>Braund, Mr. Owen Harris</td>\n",
       "      <td>male</td>\n",
       "      <td>22.0</td>\n",
       "      <td>1</td>\n",
       "      <td>0</td>\n",
       "      <td>A/5 21171</td>\n",
       "      <td>7.2500</td>\n",
       "      <td>NaN</td>\n",
       "      <td>S</td>\n",
       "    </tr>\n",
       "    <tr>\n",
       "      <th>1</th>\n",
       "      <td>2</td>\n",
       "      <td>1</td>\n",
       "      <td>1</td>\n",
       "      <td>Cumings, Mrs. John Bradley (Florence Briggs Th...</td>\n",
       "      <td>female</td>\n",
       "      <td>38.0</td>\n",
       "      <td>1</td>\n",
       "      <td>0</td>\n",
       "      <td>PC 17599</td>\n",
       "      <td>71.2833</td>\n",
       "      <td>C85</td>\n",
       "      <td>C</td>\n",
       "    </tr>\n",
       "    <tr>\n",
       "      <th>2</th>\n",
       "      <td>3</td>\n",
       "      <td>1</td>\n",
       "      <td>3</td>\n",
       "      <td>Heikkinen, Miss. Laina</td>\n",
       "      <td>female</td>\n",
       "      <td>26.0</td>\n",
       "      <td>0</td>\n",
       "      <td>0</td>\n",
       "      <td>STON/O2. 3101282</td>\n",
       "      <td>7.9250</td>\n",
       "      <td>NaN</td>\n",
       "      <td>S</td>\n",
       "    </tr>\n",
       "    <tr>\n",
       "      <th>3</th>\n",
       "      <td>4</td>\n",
       "      <td>1</td>\n",
       "      <td>1</td>\n",
       "      <td>Futrelle, Mrs. Jacques Heath (Lily May Peel)</td>\n",
       "      <td>female</td>\n",
       "      <td>35.0</td>\n",
       "      <td>1</td>\n",
       "      <td>0</td>\n",
       "      <td>113803</td>\n",
       "      <td>53.1000</td>\n",
       "      <td>C123</td>\n",
       "      <td>S</td>\n",
       "    </tr>\n",
       "    <tr>\n",
       "      <th>4</th>\n",
       "      <td>5</td>\n",
       "      <td>0</td>\n",
       "      <td>3</td>\n",
       "      <td>Allen, Mr. William Henry</td>\n",
       "      <td>male</td>\n",
       "      <td>35.0</td>\n",
       "      <td>0</td>\n",
       "      <td>0</td>\n",
       "      <td>373450</td>\n",
       "      <td>8.0500</td>\n",
       "      <td>NaN</td>\n",
       "      <td>S</td>\n",
       "    </tr>\n",
       "  </tbody>\n",
       "</table>\n",
       "</div>"
      ],
      "text/plain": [
       "   PassengerId  Survived  Pclass  \\\n",
       "0            1         0       3   \n",
       "1            2         1       1   \n",
       "2            3         1       3   \n",
       "3            4         1       1   \n",
       "4            5         0       3   \n",
       "\n",
       "                                                Name     Sex   Age  SibSp  \\\n",
       "0                            Braund, Mr. Owen Harris    male  22.0      1   \n",
       "1  Cumings, Mrs. John Bradley (Florence Briggs Th...  female  38.0      1   \n",
       "2                             Heikkinen, Miss. Laina  female  26.0      0   \n",
       "3       Futrelle, Mrs. Jacques Heath (Lily May Peel)  female  35.0      1   \n",
       "4                           Allen, Mr. William Henry    male  35.0      0   \n",
       "\n",
       "   Parch            Ticket     Fare Cabin Embarked  \n",
       "0      0         A/5 21171   7.2500   NaN        S  \n",
       "1      0          PC 17599  71.2833   C85        C  \n",
       "2      0  STON/O2. 3101282   7.9250   NaN        S  \n",
       "3      0            113803  53.1000  C123        S  \n",
       "4      0            373450   8.0500   NaN        S  "
      ]
     },
     "execution_count": 8,
     "metadata": {},
     "output_type": "execute_result"
    }
   ],
   "source": [
    "train.head()"
   ]
  },
  {
   "cell_type": "markdown",
   "id": "197c9495",
   "metadata": {
    "id": "unique-colorado",
    "papermill": {
     "duration": 0.059375,
     "end_time": "2021-05-30T18:06:15.154712",
     "exception": false,
     "start_time": "2021-05-30T18:06:15.095337",
     "status": "completed"
    },
    "tags": []
   },
   "source": [
    "# Types of features in titanic\n",
    "\n",
    "**Categorical**: is a collection of information that is divided into groups.\n",
    "Eg. Embarked (C = Cherbourg; Q = Queenstown; S = Southampton)\n",
    "\n",
    "**Ordinal**: They are similar to categorical features but they have an order.\n",
    "Eg. Pclass (1, 2, 3)\n",
    "\n",
    "**Binary**: A categrorical feature which has only 2 types of categories.Which is often represted as 0 and 1.\n",
    "Eg: Sex (Male/Female)\n",
    "\n",
    "**Continuous**: They can take up any value between the minimum and maximum values in a column.\n",
    "Eg. Age, Fare\n",
    "\n",
    "**Count**: They represent the count of a variable.\n",
    "Eg. SibSp, Parch"
   ]
  },
  {
   "cell_type": "code",
   "execution_count": 9,
   "id": "54647127",
   "metadata": {
    "colab": {
     "base_uri": "https://localhost:8080/",
     "height": 297
    },
    "execution": {
     "iopub.execute_input": "2021-05-30T18:06:15.407171Z",
     "iopub.status.busy": "2021-05-30T18:06:15.406601Z",
     "iopub.status.idle": "2021-05-30T18:06:15.438889Z",
     "shell.execute_reply": "2021-05-30T18:06:15.439391Z",
     "shell.execute_reply.started": "2021-05-30T17:56:11.321386Z"
    },
    "executionInfo": {
     "elapsed": 432,
     "status": "ok",
     "timestamp": 1622417688839,
     "user": {
      "displayName": "OuSeoung LEE",
      "photoUrl": "",
      "userId": "04718254206241101663"
     },
     "user_tz": -540
    },
    "id": "signal-milan",
    "outputId": "3757ecc6-fc53-46b1-cb6d-6579ed5c4052",
    "papermill": {
     "duration": 0.093373,
     "end_time": "2021-05-30T18:06:15.439536",
     "exception": false,
     "start_time": "2021-05-30T18:06:15.346163",
     "status": "completed"
    },
    "tags": []
   },
   "outputs": [
    {
     "data": {
      "text/html": [
       "<div>\n",
       "<style scoped>\n",
       "    .dataframe tbody tr th:only-of-type {\n",
       "        vertical-align: middle;\n",
       "    }\n",
       "\n",
       "    .dataframe tbody tr th {\n",
       "        vertical-align: top;\n",
       "    }\n",
       "\n",
       "    .dataframe thead th {\n",
       "        text-align: right;\n",
       "    }\n",
       "</style>\n",
       "<table border=\"1\" class=\"dataframe\">\n",
       "  <thead>\n",
       "    <tr style=\"text-align: right;\">\n",
       "      <th></th>\n",
       "      <th>PassengerId</th>\n",
       "      <th>Survived</th>\n",
       "      <th>Pclass</th>\n",
       "      <th>Age</th>\n",
       "      <th>SibSp</th>\n",
       "      <th>Parch</th>\n",
       "      <th>Fare</th>\n",
       "    </tr>\n",
       "  </thead>\n",
       "  <tbody>\n",
       "    <tr>\n",
       "      <th>count</th>\n",
       "      <td>891.000000</td>\n",
       "      <td>891.000000</td>\n",
       "      <td>891.000000</td>\n",
       "      <td>714.000000</td>\n",
       "      <td>891.000000</td>\n",
       "      <td>891.000000</td>\n",
       "      <td>891.000000</td>\n",
       "    </tr>\n",
       "    <tr>\n",
       "      <th>mean</th>\n",
       "      <td>446.000000</td>\n",
       "      <td>0.383838</td>\n",
       "      <td>2.308642</td>\n",
       "      <td>29.699118</td>\n",
       "      <td>0.523008</td>\n",
       "      <td>0.381594</td>\n",
       "      <td>32.204208</td>\n",
       "    </tr>\n",
       "    <tr>\n",
       "      <th>std</th>\n",
       "      <td>257.353842</td>\n",
       "      <td>0.486592</td>\n",
       "      <td>0.836071</td>\n",
       "      <td>14.526497</td>\n",
       "      <td>1.102743</td>\n",
       "      <td>0.806057</td>\n",
       "      <td>49.693429</td>\n",
       "    </tr>\n",
       "    <tr>\n",
       "      <th>min</th>\n",
       "      <td>1.000000</td>\n",
       "      <td>0.000000</td>\n",
       "      <td>1.000000</td>\n",
       "      <td>0.420000</td>\n",
       "      <td>0.000000</td>\n",
       "      <td>0.000000</td>\n",
       "      <td>0.000000</td>\n",
       "    </tr>\n",
       "    <tr>\n",
       "      <th>25%</th>\n",
       "      <td>223.500000</td>\n",
       "      <td>0.000000</td>\n",
       "      <td>2.000000</td>\n",
       "      <td>20.125000</td>\n",
       "      <td>0.000000</td>\n",
       "      <td>0.000000</td>\n",
       "      <td>7.910400</td>\n",
       "    </tr>\n",
       "    <tr>\n",
       "      <th>50%</th>\n",
       "      <td>446.000000</td>\n",
       "      <td>0.000000</td>\n",
       "      <td>3.000000</td>\n",
       "      <td>28.000000</td>\n",
       "      <td>0.000000</td>\n",
       "      <td>0.000000</td>\n",
       "      <td>14.454200</td>\n",
       "    </tr>\n",
       "    <tr>\n",
       "      <th>75%</th>\n",
       "      <td>668.500000</td>\n",
       "      <td>1.000000</td>\n",
       "      <td>3.000000</td>\n",
       "      <td>38.000000</td>\n",
       "      <td>1.000000</td>\n",
       "      <td>0.000000</td>\n",
       "      <td>31.000000</td>\n",
       "    </tr>\n",
       "    <tr>\n",
       "      <th>max</th>\n",
       "      <td>891.000000</td>\n",
       "      <td>1.000000</td>\n",
       "      <td>3.000000</td>\n",
       "      <td>80.000000</td>\n",
       "      <td>8.000000</td>\n",
       "      <td>6.000000</td>\n",
       "      <td>512.329200</td>\n",
       "    </tr>\n",
       "  </tbody>\n",
       "</table>\n",
       "</div>"
      ],
      "text/plain": [
       "       PassengerId    Survived      Pclass         Age       SibSp  \\\n",
       "count   891.000000  891.000000  891.000000  714.000000  891.000000   \n",
       "mean    446.000000    0.383838    2.308642   29.699118    0.523008   \n",
       "std     257.353842    0.486592    0.836071   14.526497    1.102743   \n",
       "min       1.000000    0.000000    1.000000    0.420000    0.000000   \n",
       "25%     223.500000    0.000000    2.000000   20.125000    0.000000   \n",
       "50%     446.000000    0.000000    3.000000   28.000000    0.000000   \n",
       "75%     668.500000    1.000000    3.000000   38.000000    1.000000   \n",
       "max     891.000000    1.000000    3.000000   80.000000    8.000000   \n",
       "\n",
       "            Parch        Fare  \n",
       "count  891.000000  891.000000  \n",
       "mean     0.381594   32.204208  \n",
       "std      0.806057   49.693429  \n",
       "min      0.000000    0.000000  \n",
       "25%      0.000000    7.910400  \n",
       "50%      0.000000   14.454200  \n",
       "75%      0.000000   31.000000  \n",
       "max      6.000000  512.329200  "
      ]
     },
     "execution_count": 9,
     "metadata": {},
     "output_type": "execute_result"
    }
   ],
   "source": [
    "train.describe()"
   ]
  },
  {
   "cell_type": "markdown",
   "id": "8aae8b70",
   "metadata": {
    "id": "provincial-yugoslavia",
    "papermill": {
     "duration": 0.060283,
     "end_time": "2021-05-30T18:06:15.561017",
     "exception": false,
     "start_time": "2021-05-30T18:06:15.500734",
     "status": "completed"
    },
    "tags": []
   },
   "source": [
    "Above,we can see that the age of passengers ranges between 0.4 to 80 years.And 38% of the people survived \n",
    "whose records are mentioned in this training set."
   ]
  },
  {
   "cell_type": "markdown",
   "id": "8eeffc68",
   "metadata": {
    "id": "compressed-fields",
    "papermill": {
     "duration": 0.058956,
     "end_time": "2021-05-30T18:06:15.679899",
     "exception": false,
     "start_time": "2021-05-30T18:06:15.620943",
     "status": "completed"
    },
    "tags": []
   },
   "source": [
    "<h1><center>Titanic EDA</center></h1>"
   ]
  },
  {
   "cell_type": "code",
   "execution_count": 45,
   "id": "60b27481",
   "metadata": {},
   "outputs": [
    {
     "name": "stdout",
     "output_type": "stream",
     "text": [
      "<class 'pandas.core.frame.DataFrame'>\n",
      "RangeIndex: 891 entries, 0 to 890\n",
      "Data columns (total 12 columns):\n",
      " #   Column       Non-Null Count  Dtype  \n",
      "---  ------       --------------  -----  \n",
      " 0   PassengerId  891 non-null    int64  \n",
      " 1   Survived     891 non-null    int64  \n",
      " 2   Pclass       891 non-null    int64  \n",
      " 3   Name         891 non-null    object \n",
      " 4   Sex          891 non-null    object \n",
      " 5   Age          714 non-null    float64\n",
      " 6   SibSp        891 non-null    int64  \n",
      " 7   Parch        891 non-null    int64  \n",
      " 8   Ticket       891 non-null    object \n",
      " 9   Fare         891 non-null    float64\n",
      " 10  Cabin        204 non-null    object \n",
      " 11  Embarked     889 non-null    object \n",
      "dtypes: float64(2), int64(5), object(5)\n",
      "memory usage: 83.7+ KB\n"
     ]
    }
   ],
   "source": [
    "titanic = pd.read_csv('../data/titanic.csv')\n",
    "titanic.info()"
   ]
  },
  {
   "cell_type": "markdown",
   "id": "c3b90214",
   "metadata": {},
   "source": [
    "### \"타이타닉의 승객은 20대가 가장 많다.\""
   ]
  },
  {
   "cell_type": "code",
   "execution_count": 46,
   "id": "8ae89796",
   "metadata": {},
   "outputs": [
    {
     "data": {
      "text/plain": [
       "<AxesSubplot:ylabel='Frequency'>"
      ]
     },
     "execution_count": 46,
     "metadata": {},
     "output_type": "execute_result"
    },
    {
     "data": {
      "image/png": "[encoded data removed]",
      "text/plain": [
       "<Figure size 432x288 with 1 Axes>"
      ]
     },
     "metadata": {
      "needs_background": "light"
     },
     "output_type": "display_data"
    }
   ],
   "source": [
    "# 나이 분포\n",
    "titanic.plot(kind='hist', y='Age', bins=30)"
   ]
  },
  {
   "cell_type": "markdown",
   "id": "5eb36ebc",
   "metadata": {},
   "source": [
    "### \"가장 높은 요금을 낸 사람은 30대이다.\""
   ]
  },
  {
   "cell_type": "code",
   "execution_count": 47,
   "id": "c947ce09",
   "metadata": {},
   "outputs": [
    {
     "data": {
      "text/plain": [
       "<AxesSubplot:xlabel='Age', ylabel='Fare'>"
      ]
     },
     "execution_count": 47,
     "metadata": {},
     "output_type": "execute_result"
    },
    {
     "data": {
      "image/png": "[encoded data removed]",
      "text/plain": [
       "<Figure size 432x288 with 1 Axes>"
      ]
     },
     "metadata": {
      "needs_background": "light"
     },
     "output_type": "display_data"
    }
   ],
   "source": [
    "# 나이별 요금 분포\n",
    "titanic.plot(kind='scatter', x='Age', y='Fare')"
   ]
  },
  {
   "cell_type": "markdown",
   "id": "96869e88",
   "metadata": {},
   "source": [
    "### \"사망자가 생존자보다 더 많다.\""
   ]
  },
  {
   "cell_type": "code",
   "execution_count": 48,
   "id": "a668d75a",
   "metadata": {},
   "outputs": [
    {
     "data": {
      "text/plain": [
       "0    549\n",
       "1    342\n",
       "Name: Survived, dtype: int64"
      ]
     },
     "execution_count": 48,
     "metadata": {},
     "output_type": "execute_result"
    }
   ],
   "source": [
    "titanic['Survived'].value_counts()"
   ]
  },
  {
   "cell_type": "markdown",
   "id": "dba88696",
   "metadata": {},
   "source": [
    "### \"1등실, 2등실, 3등실 중 가장 많은 사람이 탑승한 곳은 3등실이다.\""
   ]
  },
  {
   "cell_type": "code",
   "execution_count": 49,
   "id": "fb6a5034",
   "metadata": {},
   "outputs": [
    {
     "data": {
      "text/plain": [
       "3    491\n",
       "1    216\n",
       "2    184\n",
       "Name: Pclass, dtype: int64"
      ]
     },
     "execution_count": 49,
     "metadata": {},
     "output_type": "execute_result"
    }
   ],
   "source": [
    "titanic['Pclass'].value_counts()"
   ]
  },
  {
   "cell_type": "markdown",
   "id": "b256a9ea",
   "metadata": {},
   "source": [
    "### \"가장 생존율이 높은 객실 등급은 1등실이다.\""
   ]
  },
  {
   "cell_type": "code",
   "execution_count": 50,
   "id": "7973dfa8",
   "metadata": {},
   "outputs": [
    {
     "data": {
      "text/plain": [
       "<AxesSubplot:xlabel='Pclass', ylabel='Survived'>"
      ]
     },
     "execution_count": 50,
     "metadata": {},
     "output_type": "execute_result"
    },
    {
     "data": {
      "image/png": "[encoded data removed]",
      "text/plain": [
       "<Figure size 432x288 with 1 Axes>"
      ]
     },
     "metadata": {
      "needs_background": "light"
     },
     "output_type": "display_data"
    }
   ],
   "source": [
    "# 객실 등급별 생존율 분포\n",
    "titanic.plot(kind='scatter', x='Pclass', y='Survived')"
   ]
  },
  {
   "cell_type": "code",
   "execution_count": 51,
   "id": "2a8c0b5c",
   "metadata": {},
   "outputs": [
    {
     "data": {
      "text/plain": [
       "<AxesSubplot:xlabel='Pclass', ylabel='Survived'>"
      ]
     },
     "execution_count": 51,
     "metadata": {},
     "output_type": "execute_result"
    },
    {
     "data": {
      "image/png": "[encoded data removed]",
      "text/plain": [
       "<Figure size 432x288 with 1 Axes>"
      ]
     },
     "metadata": {
      "needs_background": "light"
     },
     "output_type": "display_data"
    }
   ],
   "source": [
    "# 객실 등급별 생존율 분포\n",
    "sns.kdeplot(titanic['Pclass'], titanic['Survived'])"
   ]
  },
  {
   "cell_type": "markdown",
   "id": "6f824d2f",
   "metadata": {},
   "source": [
    "### \"나이가 어릴수록 생존율이 높다고 보기 어렵다.\""
   ]
  },
  {
   "cell_type": "code",
   "execution_count": 52,
   "id": "d131365e",
   "metadata": {},
   "outputs": [
    {
     "data": {
      "text/plain": [
       "<AxesSubplot:xlabel='Survived', ylabel='Age'>"
      ]
     },
     "execution_count": 52,
     "metadata": {},
     "output_type": "execute_result"
    },
    {
     "data": {
      "image/png": "[encoded data removed]",
      "text/plain": [
       "<Figure size 432x288 with 1 Axes>"
      ]
     },
     "metadata": {
      "needs_background": "light"
     },
     "output_type": "display_data"
    }
   ],
   "source": [
    "# 생존 여부에 따른 나이 분포\n",
    "sns.stripplot(data=titanic, x=\"Survived\", y=\"Age\")"
   ]
  },
  {
   "cell_type": "code",
   "execution_count": 53,
   "id": "a5a9490f",
   "metadata": {},
   "outputs": [
    {
     "data": {
      "text/plain": [
       "<AxesSubplot:xlabel='Survived', ylabel='Age'>"
      ]
     },
     "execution_count": 53,
     "metadata": {},
     "output_type": "execute_result"
    },
    {
     "data": {
      "image/png": "[encoded data removed]",
      "text/plain": [
       "<Figure size 432x288 with 1 Axes>"
      ]
     },
     "metadata": {
      "needs_background": "light"
     },
     "output_type": "display_data"
    }
   ],
   "source": [
    "# 생존 여부에 따른 나이 분포\n",
    "sns.violinplot(data=titanic, x=\"Survived\", y=\"Age\")"
   ]
  },
  {
   "cell_type": "markdown",
   "id": "ca5dc166",
   "metadata": {},
   "source": [
    "### \"나이보다 성별이 생존율에 더 많은 영향을 미친다.\""
   ]
  },
  {
   "cell_type": "code",
   "execution_count": 54,
   "id": "3022b734",
   "metadata": {},
   "outputs": [
    {
     "data": {
      "text/plain": [
       "<AxesSubplot:xlabel='Survived', ylabel='Age'>"
      ]
     },
     "execution_count": 54,
     "metadata": {},
     "output_type": "execute_result"
    },
    {
     "data": {
      "image/png": "[encoded data removed]",
      "text/plain": [
       "<Figure size 432x288 with 1 Axes>"
      ]
     },
     "metadata": {
      "needs_background": "light"
     },
     "output_type": "display_data"
    }
   ],
   "source": [
    "# 생존 여부에 따른 나이 및 성별 분포\n",
    "sns.stripplot(data=titanic, x=\"Survived\", y=\"Age\", hue=\"Sex\")"
   ]
  },
  {
   "cell_type": "code",
   "execution_count": 10,
   "id": "5c898154",
   "metadata": {
    "colab": {
     "base_uri": "https://localhost:8080/",
     "height": 400
    },
    "execution": {
     "iopub.execute_input": "2021-05-30T18:06:15.800373Z",
     "iopub.status.busy": "2021-05-30T18:06:15.799815Z",
     "iopub.status.idle": "2021-05-30T18:06:16.067159Z",
     "shell.execute_reply": "2021-05-30T18:06:16.066621Z",
     "shell.execute_reply.started": "2021-05-30T17:56:12.201495Z"
    },
    "executionInfo": {
     "elapsed": 451,
     "status": "ok",
     "timestamp": 1622417692332,
     "user": {
      "displayName": "OuSeoung LEE",
      "photoUrl": "",
      "userId": "04718254206241101663"
     },
     "user_tz": -540
    },
    "id": "raised-comparison",
    "outputId": "66ddc431-ad0e-4832-d37b-7978d4d30983",
    "papermill": {
     "duration": 0.328862,
     "end_time": "2021-05-30T18:06:16.067286",
     "exception": false,
     "start_time": "2021-05-30T18:06:15.738424",
     "status": "completed"
    },
    "tags": []
   },
   "outputs": [
    {
     "data": {
      "text/plain": [
       "<seaborn.axisgrid.FacetGrid at 0x127d5c14100>"
      ]
     },
     "execution_count": 10,
     "metadata": {},
     "output_type": "execute_result"
    },
    {
     "data": {
      "image/png": "[encoded data removed]",
      "text/plain": [
       "<Figure size 430.5x360 with 1 Axes>"
      ]
     },
     "metadata": {
      "needs_background": "light"
     },
     "output_type": "display_data"
    }
   ],
   "source": [
    "sns.catplot(x='Pclass', data=train,kind='count', hue='Sex',palette='rocket')"
   ]
  },
  {
   "cell_type": "markdown",
   "id": "a4c909a5",
   "metadata": {
    "id": "dated-spiritual",
    "papermill": {
     "duration": 0.059251,
     "end_time": "2021-05-30T18:06:16.187605",
     "exception": false,
     "start_time": "2021-05-30T18:06:16.128354",
     "status": "completed"
    },
    "tags": []
   },
   "source": [
    "Class 3 males are more than 2x of women."
   ]
  },
  {
   "cell_type": "code",
   "execution_count": 11,
   "id": "05be2516",
   "metadata": {
    "colab": {
     "base_uri": "https://localhost:8080/",
     "height": 400
    },
    "execution": {
     "iopub.execute_input": "2021-05-30T18:06:16.315816Z",
     "iopub.status.busy": "2021-05-30T18:06:16.314970Z",
     "iopub.status.idle": "2021-05-30T18:06:16.463761Z",
     "shell.execute_reply": "2021-05-30T18:06:16.463033Z",
     "shell.execute_reply.started": "2021-05-30T17:56:12.771251Z"
    },
    "executionInfo": {
     "elapsed": 563,
     "status": "ok",
     "timestamp": 1622417694913,
     "user": {
      "displayName": "OuSeoung LEE",
      "photoUrl": "",
      "userId": "04718254206241101663"
     },
     "user_tz": -540
    },
    "id": "moving-africa",
    "outputId": "7e13ea63-ec6e-4e14-ed54-ec5a77a4f9f5",
    "papermill": {
     "duration": 0.214845,
     "end_time": "2021-05-30T18:06:16.463964",
     "exception": false,
     "start_time": "2021-05-30T18:06:16.249119",
     "status": "completed"
    },
    "tags": []
   },
   "outputs": [
    {
     "data": {
      "text/plain": [
       "<seaborn.axisgrid.FacetGrid at 0x127d0ff6370>"
      ]
     },
     "execution_count": 11,
     "metadata": {},
     "output_type": "execute_result"
    },
    {
     "data": {
      "image/png": "[encoded data removed]",
      "text/plain": [
       "<Figure size 360x360 with 1 Axes>"
      ]
     },
     "metadata": {
      "needs_background": "light"
     },
     "output_type": "display_data"
    }
   ],
   "source": [
    "sns.catplot(x = 'Sex',data=train, kind='count',palette='rocket')"
   ]
  },
  {
   "cell_type": "markdown",
   "id": "2eb36183",
   "metadata": {
    "id": "molecular-timeline",
    "papermill": {
     "duration": 0.070545,
     "end_time": "2021-05-30T18:06:16.597532",
     "exception": false,
     "start_time": "2021-05-30T18:06:16.526987",
     "status": "completed"
    },
    "tags": []
   },
   "source": [
    "The number of male passengers are almost 2x of female passengers appox."
   ]
  },
  {
   "cell_type": "code",
   "execution_count": 12,
   "id": "2d05223a",
   "metadata": {
    "colab": {
     "base_uri": "https://localhost:8080/",
     "height": 296
    },
    "execution": {
     "iopub.execute_input": "2021-05-30T18:06:16.742709Z",
     "iopub.status.busy": "2021-05-30T18:06:16.742129Z",
     "iopub.status.idle": "2021-05-30T18:06:16.949343Z",
     "shell.execute_reply": "2021-05-30T18:06:16.949824Z",
     "shell.execute_reply.started": "2021-05-30T17:56:13.281481Z"
    },
    "executionInfo": {
     "elapsed": 506,
     "status": "ok",
     "timestamp": 1622417697277,
     "user": {
      "displayName": "OuSeoung LEE",
      "photoUrl": "",
      "userId": "04718254206241101663"
     },
     "user_tz": -540
    },
    "id": "intensive-paradise",
    "outputId": "1736dda2-db11-4ac3-a385-af7f099ba55d",
    "papermill": {
     "duration": 0.272086,
     "end_time": "2021-05-30T18:06:16.950012",
     "exception": false,
     "start_time": "2021-05-30T18:06:16.677926",
     "status": "completed"
    },
    "tags": []
   },
   "outputs": [
    {
     "data": {
      "text/plain": [
       "<AxesSubplot:xlabel='Pclass', ylabel='Survived'>"
      ]
     },
     "execution_count": 12,
     "metadata": {},
     "output_type": "execute_result"
    },
    {
     "data": {
      "image/png": "[encoded data removed]",
      "text/plain": [
       "<Figure size 432x288 with 1 Axes>"
      ]
     },
     "metadata": {
      "needs_background": "light"
     },
     "output_type": "display_data"
    }
   ],
   "source": [
    "sns.barplot(x='Pclass', y='Survived', data=train,palette='rocket')"
   ]
  },
  {
   "cell_type": "markdown",
   "id": "1cd99158",
   "metadata": {
    "id": "hindu-teacher",
    "papermill": {
     "duration": 0.061322,
     "end_time": "2021-05-30T18:06:17.073053",
     "exception": false,
     "start_time": "2021-05-30T18:06:17.011731",
     "status": "completed"
    },
    "tags": []
   },
   "source": [
    "Here,we can see that person in class 1 has the higher chances of survival.Where as person in class 3 has lower chance."
   ]
  },
  {
   "cell_type": "code",
   "execution_count": 13,
   "id": "6c70a323",
   "metadata": {
    "colab": {
     "base_uri": "https://localhost:8080/",
     "height": 400
    },
    "execution": {
     "iopub.execute_input": "2021-05-30T18:06:17.199330Z",
     "iopub.status.busy": "2021-05-30T18:06:17.198739Z",
     "iopub.status.idle": "2021-05-30T18:06:17.414620Z",
     "shell.execute_reply": "2021-05-30T18:06:17.415009Z",
     "shell.execute_reply.started": "2021-05-30T17:56:13.802154Z"
    },
    "executionInfo": {
     "elapsed": 605,
     "status": "ok",
     "timestamp": 1622417699949,
     "user": {
      "displayName": "OuSeoung LEE",
      "photoUrl": "",
      "userId": "04718254206241101663"
     },
     "user_tz": -540
    },
    "id": "coordinate-blanket",
    "outputId": "48fb3c96-1dde-438f-93b3-884ca8057f37",
    "papermill": {
     "duration": 0.280593,
     "end_time": "2021-05-30T18:06:17.415155",
     "exception": false,
     "start_time": "2021-05-30T18:06:17.134562",
     "status": "completed"
    },
    "tags": []
   },
   "outputs": [
    {
     "data": {
      "text/plain": [
       "<seaborn.axisgrid.FacetGrid at 0x127d605dfd0>"
      ]
     },
     "execution_count": 13,
     "metadata": {},
     "output_type": "execute_result"
    },
    {
     "data": {
      "image/png": "[encoded data removed]",
      "text/plain": [
       "<Figure size 430.5x360 with 1 Axes>"
      ]
     },
     "metadata": {
      "needs_background": "light"
     },
     "output_type": "display_data"
    }
   ],
   "source": [
    "sns.catplot(x ='Survived',data=train, kind='count',hue='Sex',palette='rocket')"
   ]
  },
  {
   "cell_type": "markdown",
   "id": "c6113ece",
   "metadata": {
    "id": "pleasant-honduras",
    "papermill": {
     "duration": 0.06175,
     "end_time": "2021-05-30T18:06:17.539472",
     "exception": false,
     "start_time": "2021-05-30T18:06:17.477722",
     "status": "completed"
    },
    "tags": []
   },
   "source": [
    "Despite the ship being male dominated.The survival rate of women is higher.As we can see that large number of women survived despite being minorities."
   ]
  },
  {
   "cell_type": "code",
   "execution_count": 14,
   "id": "81eaef70",
   "metadata": {
    "colab": {
     "base_uri": "https://localhost:8080/",
     "height": 400
    },
    "execution": {
     "iopub.execute_input": "2021-05-30T18:06:17.671690Z",
     "iopub.status.busy": "2021-05-30T18:06:17.668886Z",
     "iopub.status.idle": "2021-05-30T18:06:17.977525Z",
     "shell.execute_reply": "2021-05-30T18:06:17.976801Z",
     "shell.execute_reply.started": "2021-05-30T17:56:14.291289Z"
    },
    "executionInfo": {
     "elapsed": 499,
     "status": "ok",
     "timestamp": 1622417702493,
     "user": {
      "displayName": "OuSeoung LEE",
      "photoUrl": "",
      "userId": "04718254206241101663"
     },
     "user_tz": -540
    },
    "id": "hundred-pocket",
    "outputId": "5642fadc-5d0d-4a7d-e192-a04dbf79d35c",
    "papermill": {
     "duration": 0.375788,
     "end_time": "2021-05-30T18:06:17.977686",
     "exception": false,
     "start_time": "2021-05-30T18:06:17.601898",
     "status": "completed"
    },
    "tags": []
   },
   "outputs": [
    {
     "data": {
      "text/plain": [
       "<seaborn.axisgrid.FacetGrid at 0x127d611f3a0>"
      ]
     },
     "execution_count": 14,
     "metadata": {},
     "output_type": "execute_result"
    },
    {
     "data": {
      "image/png": "[encoded data removed]",
      "text/plain": [
       "<Figure size 430.5x360 with 1 Axes>"
      ]
     },
     "metadata": {
      "needs_background": "light"
     },
     "output_type": "display_data"
    }
   ],
   "source": [
    "sns.catplot(x='Pclass', data=train,kind='count', hue='Sex',palette='rocket')"
   ]
  },
  {
   "cell_type": "markdown",
   "id": "81715332",
   "metadata": {
    "id": "earned-restaurant",
    "papermill": {
     "duration": 0.06538,
     "end_time": "2021-05-30T18:06:18.112412",
     "exception": false,
     "start_time": "2021-05-30T18:06:18.047032",
     "status": "completed"
    },
    "tags": []
   },
   "source": [
    "In class 3 males are more than 2x of women."
   ]
  },
  {
   "cell_type": "code",
   "execution_count": 15,
   "id": "08ffda7e",
   "metadata": {
    "colab": {
     "base_uri": "https://localhost:8080/",
     "height": 296
    },
    "execution": {
     "iopub.execute_input": "2021-05-30T18:06:18.248813Z",
     "iopub.status.busy": "2021-05-30T18:06:18.247915Z",
     "iopub.status.idle": "2021-05-30T18:06:18.379661Z",
     "shell.execute_reply": "2021-05-30T18:06:18.378892Z",
     "shell.execute_reply.started": "2021-05-30T17:56:14.791607Z"
    },
    "executionInfo": {
     "elapsed": 577,
     "status": "ok",
     "timestamp": 1622417705124,
     "user": {
      "displayName": "OuSeoung LEE",
      "photoUrl": "",
      "userId": "04718254206241101663"
     },
     "user_tz": -540
    },
    "id": "informal-specialist",
    "outputId": "0943a27f-365e-4b3e-d0f6-65f827c20803",
    "papermill": {
     "duration": 0.20147,
     "end_time": "2021-05-30T18:06:18.379793",
     "exception": false,
     "start_time": "2021-05-30T18:06:18.178323",
     "status": "completed"
    },
    "tags": []
   },
   "outputs": [
    {
     "data": {
      "text/plain": [
       "<AxesSubplot:xlabel='Survived', ylabel='Age'>"
      ]
     },
     "execution_count": 15,
     "metadata": {},
     "output_type": "execute_result"
    },
    {
     "data": {
      "image/png": "[encoded data removed]",
      "text/plain": [
       "<Figure size 432x288 with 1 Axes>"
      ]
     },
     "metadata": {
      "needs_background": "light"
     },
     "output_type": "display_data"
    }
   ],
   "source": [
    "#Age\n",
    "sns.boxplot(x='Survived',y='Age',data=train,palette='winter')"
   ]
  },
  {
   "cell_type": "markdown",
   "id": "a84b90ad",
   "metadata": {
    "id": "unavailable-precipitation",
    "papermill": {
     "duration": 0.065162,
     "end_time": "2021-05-30T18:06:18.512716",
     "exception": false,
     "start_time": "2021-05-30T18:06:18.447554",
     "status": "completed"
    },
    "tags": []
   },
   "source": [
    "The average age of people seems to almost same for survived and dead.however we can observe some outliers"
   ]
  },
  {
   "cell_type": "code",
   "execution_count": 16,
   "id": "4e17a68b",
   "metadata": {
    "colab": {
     "base_uri": "https://localhost:8080/",
     "height": 386
    },
    "execution": {
     "iopub.execute_input": "2021-05-30T18:06:18.651199Z",
     "iopub.status.busy": "2021-05-30T18:06:18.650310Z",
     "iopub.status.idle": "2021-05-30T18:06:18.921824Z",
     "shell.execute_reply": "2021-05-30T18:06:18.922302Z",
     "shell.execute_reply.started": "2021-05-30T17:56:15.891787Z"
    },
    "executionInfo": {
     "elapsed": 463,
     "status": "ok",
     "timestamp": 1622417707601,
     "user": {
      "displayName": "OuSeoung LEE",
      "photoUrl": "",
      "userId": "04718254206241101663"
     },
     "user_tz": -540
    },
    "id": "tired-postage",
    "outputId": "27f25152-2cbc-47cb-ea7f-767b31f8e405",
    "papermill": {
     "duration": 0.344931,
     "end_time": "2021-05-30T18:06:18.922483",
     "exception": false,
     "start_time": "2021-05-30T18:06:18.577552",
     "status": "completed"
    },
    "tags": []
   },
   "outputs": [
    {
     "data": {
      "text/plain": [
       "<seaborn.axisgrid.FacetGrid at 0x127d61f9040>"
      ]
     },
     "execution_count": 16,
     "metadata": {},
     "output_type": "execute_result"
    },
    {
     "data": {
      "image/png": "[encoded data removed]",
      "text/plain": [
       "<Figure size 360x360 with 1 Axes>"
      ]
     },
     "metadata": {
      "needs_background": "light"
     },
     "output_type": "display_data"
    }
   ],
   "source": [
    "sns.displot(train['Age'].dropna(),kde=False,color='darkred',bins=40)"
   ]
  },
  {
   "cell_type": "markdown",
   "id": "15276258",
   "metadata": {
    "id": "favorite-growing",
    "papermill": {
     "duration": 0.065728,
     "end_time": "2021-05-30T18:06:19.054762",
     "exception": false,
     "start_time": "2021-05-30T18:06:18.989034",
     "status": "completed"
    },
    "tags": []
   },
   "source": [
    "Age distrubution in titanic traning dataset"
   ]
  },
  {
   "cell_type": "code",
   "execution_count": 17,
   "id": "774e3fbc",
   "metadata": {
    "colab": {
     "base_uri": "https://localhost:8080/",
     "height": 1000
    },
    "execution": {
     "iopub.execute_input": "2021-05-30T18:06:19.196778Z",
     "iopub.status.busy": "2021-05-30T18:06:19.194288Z",
     "iopub.status.idle": "2021-05-30T18:06:20.785340Z",
     "shell.execute_reply": "2021-05-30T18:06:20.785759Z",
     "shell.execute_reply.started": "2021-05-30T17:56:16.351024Z"
    },
    "executionInfo": {
     "elapsed": 2336,
     "status": "ok",
     "timestamp": 1622417712384,
     "user": {
      "displayName": "OuSeoung LEE",
      "photoUrl": "",
      "userId": "04718254206241101663"
     },
     "user_tz": -540
    },
    "id": "fixed-marketing",
    "outputId": "d4b01c5d-6aa5-4c5c-da36-fdc93b7b0e75",
    "papermill": {
     "duration": 1.66562,
     "end_time": "2021-05-30T18:06:20.785952",
     "exception": false,
     "start_time": "2021-05-30T18:06:19.120332",
     "status": "completed"
    },
    "tags": []
   },
   "outputs": [
    {
     "data": {
      "text/plain": [
       "<AxesSubplot:xlabel='count', ylabel='Age'>"
      ]
     },
     "execution_count": 17,
     "metadata": {},
     "output_type": "execute_result"
    },
    {
     "data": {
      "image/png": "[encoded data removed]",
      "text/plain": [
       "<Figure size 1440x2160 with 1 Axes>"
      ]
     },
     "metadata": {
      "needs_background": "light"
     },
     "output_type": "display_data"
    }
   ],
   "source": [
    "#Survival and dead distribution with respect to age\n",
    "plt.figure(figsize=(20, 30))\n",
    "sns.countplot(y = \"Age\",hue=\"Survived\", data=train)"
   ]
  },
  {
   "cell_type": "code",
   "execution_count": 18,
   "id": "b99a6c07",
   "metadata": {
    "colab": {
     "base_uri": "https://localhost:8080/",
     "height": 1000
    },
    "execution": {
     "iopub.execute_input": "2021-05-30T18:06:20.958480Z",
     "iopub.status.busy": "2021-05-30T18:06:20.940432Z",
     "iopub.status.idle": "2021-05-30T18:06:22.097902Z",
     "shell.execute_reply": "2021-05-30T18:06:22.098363Z",
     "shell.execute_reply.started": "2021-05-30T17:56:18.007273Z"
    },
    "executionInfo": {
     "elapsed": 1933,
     "status": "ok",
     "timestamp": 1622417717838,
     "user": {
      "displayName": "OuSeoung LEE",
      "photoUrl": "",
      "userId": "04718254206241101663"
     },
     "user_tz": -540
    },
    "id": "wireless-while",
    "outputId": "b105e23c-710b-4575-ce0d-2fd5462a97fa",
    "papermill": {
     "duration": 1.245742,
     "end_time": "2021-05-30T18:06:22.098533",
     "exception": false,
     "start_time": "2021-05-30T18:06:20.852791",
     "status": "completed"
    },
    "tags": []
   },
   "outputs": [
    {
     "data": {
      "text/plain": [
       "<seaborn.axisgrid.FacetGrid at 0x127d7215280>"
      ]
     },
     "execution_count": 18,
     "metadata": {},
     "output_type": "execute_result"
    },
    {
     "data": {
      "image/png": "[encoded data removed]",
      "text/plain": [
       "<Figure size 646.5x1080 with 3 Axes>"
      ]
     },
     "metadata": {
      "needs_background": "light"
     },
     "output_type": "display_data"
    }
   ],
   "source": [
    "FacetGrid = sns.FacetGrid(train, row='Embarked', size=5, aspect=1.6)\n",
    "FacetGrid.map(sns.pointplot, 'Pclass', 'Survived', 'Sex', palette=None,  order=None, hue_order=None )\n",
    "FacetGrid.add_legend()"
   ]
  },
  {
   "cell_type": "markdown",
   "id": "0c1fed6a",
   "metadata": {
    "id": "statistical-system",
    "papermill": {
     "duration": 0.067593,
     "end_time": "2021-05-30T18:06:22.235333",
     "exception": false,
     "start_time": "2021-05-30T18:06:22.167740",
     "status": "completed"
    },
    "tags": []
   },
   "source": [
    "Women on port Q and S has higher probability of surviving,Same cannot be said for the women on port C.The probability of men surviving is lower on port Q and S and it is higher in C."
   ]
  },
  {
   "cell_type": "code",
   "execution_count": 19,
   "id": "6e9d52f6",
   "metadata": {
    "colab": {
     "base_uri": "https://localhost:8080/"
    },
    "execution": {
     "iopub.execute_input": "2021-05-30T18:06:22.375757Z",
     "iopub.status.busy": "2021-05-30T18:06:22.374916Z",
     "iopub.status.idle": "2021-05-30T18:06:22.383567Z",
     "shell.execute_reply": "2021-05-30T18:06:22.383106Z",
     "shell.execute_reply.started": "2021-05-30T17:56:19.397600Z"
    },
    "executionInfo": {
     "elapsed": 419,
     "status": "ok",
     "timestamp": 1622417720929,
     "user": {
      "displayName": "OuSeoung LEE",
      "photoUrl": "",
      "userId": "04718254206241101663"
     },
     "user_tz": -540
    },
    "id": "historic-baseline",
    "outputId": "6322d69c-a98e-44e6-e2e9-2d624545d639",
    "papermill": {
     "duration": 0.080309,
     "end_time": "2021-05-30T18:06:22.383686",
     "exception": false,
     "start_time": "2021-05-30T18:06:22.303377",
     "status": "completed"
    },
    "tags": []
   },
   "outputs": [
    {
     "name": "stdout",
     "output_type": "stream",
     "text": [
      "0    608\n",
      "1    209\n",
      "2     28\n",
      "4     18\n",
      "3     16\n",
      "8      7\n",
      "5      5\n",
      "Name: SibSp, dtype: int64\n"
     ]
    }
   ],
   "source": [
    "print(train[\"SibSp\"].value_counts())"
   ]
  },
  {
   "cell_type": "code",
   "execution_count": 20,
   "id": "3cb2e080",
   "metadata": {
    "colab": {
     "base_uri": "https://localhost:8080/",
     "height": 279
    },
    "execution": {
     "iopub.execute_input": "2021-05-30T18:06:22.530139Z",
     "iopub.status.busy": "2021-05-30T18:06:22.529542Z",
     "iopub.status.idle": "2021-05-30T18:06:22.722785Z",
     "shell.execute_reply": "2021-05-30T18:06:22.723263Z",
     "shell.execute_reply.started": "2021-05-30T17:56:19.408818Z"
    },
    "executionInfo": {
     "elapsed": 463,
     "status": "ok",
     "timestamp": 1622417723738,
     "user": {
      "displayName": "OuSeoung LEE",
      "photoUrl": "",
      "userId": "04718254206241101663"
     },
     "user_tz": -540
    },
    "id": "august-salon",
    "outputId": "d4c73864-aba0-496c-ab54-beb9ad41f0c5",
    "papermill": {
     "duration": 0.268305,
     "end_time": "2021-05-30T18:06:22.723438",
     "exception": false,
     "start_time": "2021-05-30T18:06:22.455133",
     "status": "completed"
    },
    "tags": []
   },
   "outputs": [
    {
     "data": {
      "image/png": "[encoded data removed]",
      "text/plain": [
       "<Figure size 432x288 with 1 Axes>"
      ]
     },
     "metadata": {
      "needs_background": "light"
     },
     "output_type": "display_data"
    }
   ],
   "source": [
    "ax = sns.countplot(x = \"SibSp\",hue=\"Survived\", data=train,palette='rocket')"
   ]
  },
  {
   "cell_type": "markdown",
   "id": "e0d0ec1e",
   "metadata": {
    "id": "wanted-freight",
    "papermill": {
     "duration": 0.069263,
     "end_time": "2021-05-30T18:06:22.862049",
     "exception": false,
     "start_time": "2021-05-30T18:06:22.792786",
     "status": "completed"
    },
    "tags": []
   },
   "source": [
    "From the above plot we can see that people with 0 and 1 Sibsp(Sibling or spouse) has greater chance of survival.Maybe because of sibsp with 0 or 1 were present in greater number."
   ]
  },
  {
   "cell_type": "markdown",
   "id": "b8d6af02",
   "metadata": {
    "id": "chief-brief",
    "papermill": {
     "duration": 0.06935,
     "end_time": "2021-05-30T18:06:23.000373",
     "exception": false,
     "start_time": "2021-05-30T18:06:22.931023",
     "status": "completed"
    },
    "tags": []
   },
   "source": [
    "<h1><center>Handling Missing values and imputing it</center></h1>"
   ]
  },
  {
   "cell_type": "code",
   "execution_count": 21,
   "id": "aedc1be2",
   "metadata": {
    "colab": {
     "base_uri": "https://localhost:8080/",
     "height": 333
    },
    "execution": {
     "iopub.execute_input": "2021-05-30T18:06:23.147061Z",
     "iopub.status.busy": "2021-05-30T18:06:23.143339Z",
     "iopub.status.idle": "2021-05-30T18:06:23.281575Z",
     "shell.execute_reply": "2021-05-30T18:06:23.282320Z",
     "shell.execute_reply.started": "2021-05-30T17:56:19.639304Z"
    },
    "executionInfo": {
     "elapsed": 646,
     "status": "ok",
     "timestamp": 1622417727530,
     "user": {
      "displayName": "OuSeoung LEE",
      "photoUrl": "",
      "userId": "04718254206241101663"
     },
     "user_tz": -540
    },
    "id": "likely-trick",
    "outputId": "29478222-2c1c-437c-bd5a-492fb2102b7c",
    "papermill": {
     "duration": 0.211784,
     "end_time": "2021-05-30T18:06:23.282477",
     "exception": false,
     "start_time": "2021-05-30T18:06:23.070693",
     "status": "completed"
    },
    "tags": []
   },
   "outputs": [
    {
     "data": {
      "text/plain": [
       "<AxesSubplot:>"
      ]
     },
     "execution_count": 21,
     "metadata": {},
     "output_type": "execute_result"
    },
    {
     "data": {
      "image/png": "[encoded data removed]",
      "text/plain": [
       "<Figure size 432x288 with 1 Axes>"
      ]
     },
     "metadata": {
      "needs_background": "light"
     },
     "output_type": "display_data"
    }
   ],
   "source": [
    "sns.heatmap(train.isnull(),yticklabels=False,cbar=False,cmap=\"viridis\")"
   ]
  },
  {
   "cell_type": "markdown",
   "id": "833f9f84",
   "metadata": {
    "id": "alpine-christianity",
    "papermill": {
     "duration": 0.069962,
     "end_time": "2021-05-30T18:06:23.423126",
     "exception": false,
     "start_time": "2021-05-30T18:06:23.353164",
     "status": "completed"
    },
    "tags": []
   },
   "source": [
    "All the yellow lines that we see are missing values.We can see that majority of values are missing in cabin and age."
   ]
  },
  {
   "cell_type": "code",
   "execution_count": 22,
   "id": "c1b5e50b",
   "metadata": {
    "colab": {
     "base_uri": "https://localhost:8080/"
    },
    "execution": {
     "iopub.execute_input": "2021-05-30T18:06:23.575230Z",
     "iopub.status.busy": "2021-05-30T18:06:23.574545Z",
     "iopub.status.idle": "2021-05-30T18:06:23.577890Z",
     "shell.execute_reply": "2021-05-30T18:06:23.577475Z",
     "shell.execute_reply.started": "2021-05-30T17:56:19.809671Z"
    },
    "executionInfo": {
     "elapsed": 424,
     "status": "ok",
     "timestamp": 1622417731917,
     "user": {
      "displayName": "OuSeoung LEE",
      "photoUrl": "",
      "userId": "04718254206241101663"
     },
     "user_tz": -540
    },
    "id": "latin-testament",
    "outputId": "e8f622ab-5078-4276-cf1a-ec2865752d86",
    "papermill": {
     "duration": 0.083466,
     "end_time": "2021-05-30T18:06:23.578041",
     "exception": false,
     "start_time": "2021-05-30T18:06:23.494575",
     "status": "completed"
    },
    "tags": []
   },
   "outputs": [
    {
     "data": {
      "text/plain": [
       "Cabin          687\n",
       "Age            177\n",
       "Embarked         2\n",
       "Fare             0\n",
       "Ticket           0\n",
       "Parch            0\n",
       "SibSp            0\n",
       "Sex              0\n",
       "Name             0\n",
       "Pclass           0\n",
       "Survived         0\n",
       "PassengerId      0\n",
       "dtype: int64"
      ]
     },
     "execution_count": 22,
     "metadata": {},
     "output_type": "execute_result"
    }
   ],
   "source": [
    "total = train.isnull().sum().sort_values(ascending=False)\n",
    "total"
   ]
  },
  {
   "cell_type": "markdown",
   "id": "3c478c0b",
   "metadata": {
    "id": "smooth-causing",
    "papermill": {
     "duration": 0.072626,
     "end_time": "2021-05-30T18:06:23.724239",
     "exception": false,
     "start_time": "2021-05-30T18:06:23.651613",
     "status": "completed"
    },
    "tags": []
   },
   "source": [
    "These are the following missing values."
   ]
  },
  {
   "cell_type": "code",
   "execution_count": 23,
   "id": "61aecb9f",
   "metadata": {
    "colab": {
     "base_uri": "https://localhost:8080/",
     "height": 255
    },
    "execution": {
     "iopub.execute_input": "2021-05-30T18:06:23.884212Z",
     "iopub.status.busy": "2021-05-30T18:06:23.883265Z",
     "iopub.status.idle": "2021-05-30T18:06:23.886747Z",
     "shell.execute_reply": "2021-05-30T18:06:23.887270Z",
     "shell.execute_reply.started": "2021-05-30T17:56:19.822739Z"
    },
    "executionInfo": {
     "elapsed": 5,
     "status": "ok",
     "timestamp": 1622417734886,
     "user": {
      "displayName": "OuSeoung LEE",
      "photoUrl": "",
      "userId": "04718254206241101663"
     },
     "user_tz": -540
    },
    "id": "generous-auction",
    "outputId": "6bc28961-cd01-4ee3-9b65-1ce7182f3a54",
    "papermill": {
     "duration": 0.091064,
     "end_time": "2021-05-30T18:06:23.887448",
     "exception": false,
     "start_time": "2021-05-30T18:06:23.796384",
     "status": "completed"
    },
    "tags": []
   },
   "outputs": [
    {
     "data": {
      "text/html": [
       "<div>\n",
       "<style scoped>\n",
       "    .dataframe tbody tr th:only-of-type {\n",
       "        vertical-align: middle;\n",
       "    }\n",
       "\n",
       "    .dataframe tbody tr th {\n",
       "        vertical-align: top;\n",
       "    }\n",
       "\n",
       "    .dataframe thead th {\n",
       "        text-align: right;\n",
       "    }\n",
       "</style>\n",
       "<table border=\"1\" class=\"dataframe\">\n",
       "  <thead>\n",
       "    <tr style=\"text-align: right;\">\n",
       "      <th></th>\n",
       "      <th>PassengerId</th>\n",
       "      <th>Survived</th>\n",
       "      <th>Pclass</th>\n",
       "      <th>Name</th>\n",
       "      <th>Sex</th>\n",
       "      <th>Age</th>\n",
       "      <th>SibSp</th>\n",
       "      <th>Parch</th>\n",
       "      <th>Ticket</th>\n",
       "      <th>Fare</th>\n",
       "      <th>Cabin</th>\n",
       "      <th>Embarked</th>\n",
       "    </tr>\n",
       "  </thead>\n",
       "  <tbody>\n",
       "    <tr>\n",
       "      <th>0</th>\n",
       "      <td>1</td>\n",
       "      <td>0</td>\n",
       "      <td>3</td>\n",
       "      <td>Braund, Mr. Owen Harris</td>\n",
       "      <td>male</td>\n",
       "      <td>22.0</td>\n",
       "      <td>1</td>\n",
       "      <td>0</td>\n",
       "      <td>A/5 21171</td>\n",
       "      <td>7.2500</td>\n",
       "      <td>NaN</td>\n",
       "      <td>S</td>\n",
       "    </tr>\n",
       "    <tr>\n",
       "      <th>1</th>\n",
       "      <td>2</td>\n",
       "      <td>1</td>\n",
       "      <td>1</td>\n",
       "      <td>Cumings, Mrs. John Bradley (Florence Briggs Th...</td>\n",
       "      <td>female</td>\n",
       "      <td>38.0</td>\n",
       "      <td>1</td>\n",
       "      <td>0</td>\n",
       "      <td>PC 17599</td>\n",
       "      <td>71.2833</td>\n",
       "      <td>C85</td>\n",
       "      <td>C</td>\n",
       "    </tr>\n",
       "    <tr>\n",
       "      <th>2</th>\n",
       "      <td>3</td>\n",
       "      <td>1</td>\n",
       "      <td>3</td>\n",
       "      <td>Heikkinen, Miss. Laina</td>\n",
       "      <td>female</td>\n",
       "      <td>26.0</td>\n",
       "      <td>0</td>\n",
       "      <td>0</td>\n",
       "      <td>STON/O2. 3101282</td>\n",
       "      <td>7.9250</td>\n",
       "      <td>NaN</td>\n",
       "      <td>S</td>\n",
       "    </tr>\n",
       "    <tr>\n",
       "      <th>3</th>\n",
       "      <td>4</td>\n",
       "      <td>1</td>\n",
       "      <td>1</td>\n",
       "      <td>Futrelle, Mrs. Jacques Heath (Lily May Peel)</td>\n",
       "      <td>female</td>\n",
       "      <td>35.0</td>\n",
       "      <td>1</td>\n",
       "      <td>0</td>\n",
       "      <td>113803</td>\n",
       "      <td>53.1000</td>\n",
       "      <td>C123</td>\n",
       "      <td>S</td>\n",
       "    </tr>\n",
       "    <tr>\n",
       "      <th>4</th>\n",
       "      <td>5</td>\n",
       "      <td>0</td>\n",
       "      <td>3</td>\n",
       "      <td>Allen, Mr. William Henry</td>\n",
       "      <td>male</td>\n",
       "      <td>35.0</td>\n",
       "      <td>0</td>\n",
       "      <td>0</td>\n",
       "      <td>373450</td>\n",
       "      <td>8.0500</td>\n",
       "      <td>NaN</td>\n",
       "      <td>S</td>\n",
       "    </tr>\n",
       "  </tbody>\n",
       "</table>\n",
       "</div>"
      ],
      "text/plain": [
       "   PassengerId  Survived  Pclass  \\\n",
       "0            1         0       3   \n",
       "1            2         1       1   \n",
       "2            3         1       3   \n",
       "3            4         1       1   \n",
       "4            5         0       3   \n",
       "\n",
       "                                                Name     Sex   Age  SibSp  \\\n",
       "0                            Braund, Mr. Owen Harris    male  22.0      1   \n",
       "1  Cumings, Mrs. John Bradley (Florence Briggs Th...  female  38.0      1   \n",
       "2                             Heikkinen, Miss. Laina  female  26.0      0   \n",
       "3       Futrelle, Mrs. Jacques Heath (Lily May Peel)  female  35.0      1   \n",
       "4                           Allen, Mr. William Henry    male  35.0      0   \n",
       "\n",
       "   Parch            Ticket     Fare Cabin Embarked  \n",
       "0      0         A/5 21171   7.2500   NaN        S  \n",
       "1      0          PC 17599  71.2833   C85        C  \n",
       "2      0  STON/O2. 3101282   7.9250   NaN        S  \n",
       "3      0            113803  53.1000  C123        S  \n",
       "4      0            373450   8.0500   NaN        S  "
      ]
     },
     "execution_count": 23,
     "metadata": {},
     "output_type": "execute_result"
    }
   ],
   "source": [
    "train.head()"
   ]
  },
  {
   "cell_type": "code",
   "execution_count": 24,
   "id": "ed6d13c9",
   "metadata": {
    "execution": {
     "iopub.execute_input": "2021-05-30T18:06:24.038918Z",
     "iopub.status.busy": "2021-05-30T18:06:24.037805Z",
     "iopub.status.idle": "2021-05-30T18:06:24.040143Z",
     "shell.execute_reply": "2021-05-30T18:06:24.040750Z",
     "shell.execute_reply.started": "2021-05-30T17:56:19.853222Z"
    },
    "executionInfo": {
     "elapsed": 428,
     "status": "ok",
     "timestamp": 1622417738347,
     "user": {
      "displayName": "OuSeoung LEE",
      "photoUrl": "",
      "userId": "04718254206241101663"
     },
     "user_tz": -540
    },
    "id": "selective-wedding",
    "papermill": {
     "duration": 0.082608,
     "end_time": "2021-05-30T18:06:24.040958",
     "exception": false,
     "start_time": "2021-05-30T18:06:23.958350",
     "status": "completed"
    },
    "tags": []
   },
   "outputs": [],
   "source": [
    "train.drop(['Name','Ticket','Cabin','Fare'],axis=1,inplace=True)"
   ]
  },
  {
   "cell_type": "code",
   "execution_count": 25,
   "id": "2853d87a",
   "metadata": {
    "colab": {
     "base_uri": "https://localhost:8080/",
     "height": 419
    },
    "execution": {
     "iopub.execute_input": "2021-05-30T18:06:24.193451Z",
     "iopub.status.busy": "2021-05-30T18:06:24.192613Z",
     "iopub.status.idle": "2021-05-30T18:06:24.209732Z",
     "shell.execute_reply": "2021-05-30T18:06:24.210216Z",
     "shell.execute_reply.started": "2021-05-30T17:56:19.866188Z"
    },
    "executionInfo": {
     "elapsed": 440,
     "status": "ok",
     "timestamp": 1622417742355,
     "user": {
      "displayName": "OuSeoung LEE",
      "photoUrl": "",
      "userId": "04718254206241101663"
     },
     "user_tz": -540
    },
    "id": "corrected-seeker",
    "outputId": "3ea8706a-b8ef-4fe7-fded-761a984a6672",
    "papermill": {
     "duration": 0.093463,
     "end_time": "2021-05-30T18:06:24.210358",
     "exception": false,
     "start_time": "2021-05-30T18:06:24.116895",
     "status": "completed"
    },
    "tags": []
   },
   "outputs": [
    {
     "data": {
      "text/html": [
       "<div>\n",
       "<style scoped>\n",
       "    .dataframe tbody tr th:only-of-type {\n",
       "        vertical-align: middle;\n",
       "    }\n",
       "\n",
       "    .dataframe tbody tr th {\n",
       "        vertical-align: top;\n",
       "    }\n",
       "\n",
       "    .dataframe thead th {\n",
       "        text-align: right;\n",
       "    }\n",
       "</style>\n",
       "<table border=\"1\" class=\"dataframe\">\n",
       "  <thead>\n",
       "    <tr style=\"text-align: right;\">\n",
       "      <th></th>\n",
       "      <th>PassengerId</th>\n",
       "      <th>Survived</th>\n",
       "      <th>Pclass</th>\n",
       "      <th>Sex</th>\n",
       "      <th>Age</th>\n",
       "      <th>SibSp</th>\n",
       "      <th>Parch</th>\n",
       "      <th>Embarked</th>\n",
       "    </tr>\n",
       "  </thead>\n",
       "  <tbody>\n",
       "    <tr>\n",
       "      <th>0</th>\n",
       "      <td>1</td>\n",
       "      <td>0</td>\n",
       "      <td>3</td>\n",
       "      <td>male</td>\n",
       "      <td>22.0</td>\n",
       "      <td>1</td>\n",
       "      <td>0</td>\n",
       "      <td>S</td>\n",
       "    </tr>\n",
       "    <tr>\n",
       "      <th>1</th>\n",
       "      <td>2</td>\n",
       "      <td>1</td>\n",
       "      <td>1</td>\n",
       "      <td>female</td>\n",
       "      <td>38.0</td>\n",
       "      <td>1</td>\n",
       "      <td>0</td>\n",
       "      <td>C</td>\n",
       "    </tr>\n",
       "    <tr>\n",
       "      <th>2</th>\n",
       "      <td>3</td>\n",
       "      <td>1</td>\n",
       "      <td>3</td>\n",
       "      <td>female</td>\n",
       "      <td>26.0</td>\n",
       "      <td>0</td>\n",
       "      <td>0</td>\n",
       "      <td>S</td>\n",
       "    </tr>\n",
       "    <tr>\n",
       "      <th>3</th>\n",
       "      <td>4</td>\n",
       "      <td>1</td>\n",
       "      <td>1</td>\n",
       "      <td>female</td>\n",
       "      <td>35.0</td>\n",
       "      <td>1</td>\n",
       "      <td>0</td>\n",
       "      <td>S</td>\n",
       "    </tr>\n",
       "    <tr>\n",
       "      <th>4</th>\n",
       "      <td>5</td>\n",
       "      <td>0</td>\n",
       "      <td>3</td>\n",
       "      <td>male</td>\n",
       "      <td>35.0</td>\n",
       "      <td>0</td>\n",
       "      <td>0</td>\n",
       "      <td>S</td>\n",
       "    </tr>\n",
       "    <tr>\n",
       "      <th>...</th>\n",
       "      <td>...</td>\n",
       "      <td>...</td>\n",
       "      <td>...</td>\n",
       "      <td>...</td>\n",
       "      <td>...</td>\n",
       "      <td>...</td>\n",
       "      <td>...</td>\n",
       "      <td>...</td>\n",
       "    </tr>\n",
       "    <tr>\n",
       "      <th>886</th>\n",
       "      <td>887</td>\n",
       "      <td>0</td>\n",
       "      <td>2</td>\n",
       "      <td>male</td>\n",
       "      <td>27.0</td>\n",
       "      <td>0</td>\n",
       "      <td>0</td>\n",
       "      <td>S</td>\n",
       "    </tr>\n",
       "    <tr>\n",
       "      <th>887</th>\n",
       "      <td>888</td>\n",
       "      <td>1</td>\n",
       "      <td>1</td>\n",
       "      <td>female</td>\n",
       "      <td>19.0</td>\n",
       "      <td>0</td>\n",
       "      <td>0</td>\n",
       "      <td>S</td>\n",
       "    </tr>\n",
       "    <tr>\n",
       "      <th>888</th>\n",
       "      <td>889</td>\n",
       "      <td>0</td>\n",
       "      <td>3</td>\n",
       "      <td>female</td>\n",
       "      <td>NaN</td>\n",
       "      <td>1</td>\n",
       "      <td>2</td>\n",
       "      <td>S</td>\n",
       "    </tr>\n",
       "    <tr>\n",
       "      <th>889</th>\n",
       "      <td>890</td>\n",
       "      <td>1</td>\n",
       "      <td>1</td>\n",
       "      <td>male</td>\n",
       "      <td>26.0</td>\n",
       "      <td>0</td>\n",
       "      <td>0</td>\n",
       "      <td>C</td>\n",
       "    </tr>\n",
       "    <tr>\n",
       "      <th>890</th>\n",
       "      <td>891</td>\n",
       "      <td>0</td>\n",
       "      <td>3</td>\n",
       "      <td>male</td>\n",
       "      <td>32.0</td>\n",
       "      <td>0</td>\n",
       "      <td>0</td>\n",
       "      <td>Q</td>\n",
       "    </tr>\n",
       "  </tbody>\n",
       "</table>\n",
       "<p>891 rows × 8 columns</p>\n",
       "</div>"
      ],
      "text/plain": [
       "     PassengerId  Survived  Pclass     Sex   Age  SibSp  Parch Embarked\n",
       "0              1         0       3    male  22.0      1      0        S\n",
       "1              2         1       1  female  38.0      1      0        C\n",
       "2              3         1       3  female  26.0      0      0        S\n",
       "3              4         1       1  female  35.0      1      0        S\n",
       "4              5         0       3    male  35.0      0      0        S\n",
       "..           ...       ...     ...     ...   ...    ...    ...      ...\n",
       "886          887         0       2    male  27.0      0      0        S\n",
       "887          888         1       1  female  19.0      0      0        S\n",
       "888          889         0       3  female   NaN      1      2        S\n",
       "889          890         1       1    male  26.0      0      0        C\n",
       "890          891         0       3    male  32.0      0      0        Q\n",
       "\n",
       "[891 rows x 8 columns]"
      ]
     },
     "execution_count": 25,
     "metadata": {},
     "output_type": "execute_result"
    }
   ],
   "source": [
    "train"
   ]
  },
  {
   "cell_type": "markdown",
   "id": "90128902",
   "metadata": {
    "id": "indoor-attachment",
    "papermill": {
     "duration": 0.071187,
     "end_time": "2021-05-30T18:06:24.353869",
     "exception": false,
     "start_time": "2021-05-30T18:06:24.282682",
     "status": "completed"
    },
    "tags": []
   },
   "source": [
    "**Relation ship between PCLASS and AGE**"
   ]
  },
  {
   "cell_type": "code",
   "execution_count": 26,
   "id": "38ee9de5",
   "metadata": {
    "colab": {
     "base_uri": "https://localhost:8080/",
     "height": 296
    },
    "execution": {
     "iopub.execute_input": "2021-05-30T18:06:24.502754Z",
     "iopub.status.busy": "2021-05-30T18:06:24.501904Z",
     "iopub.status.idle": "2021-05-30T18:06:24.652577Z",
     "shell.execute_reply": "2021-05-30T18:06:24.653105Z",
     "shell.execute_reply.started": "2021-05-30T17:56:21.112599Z"
    },
    "executionInfo": {
     "elapsed": 451,
     "status": "ok",
     "timestamp": 1622417748501,
     "user": {
      "displayName": "OuSeoung LEE",
      "photoUrl": "",
      "userId": "04718254206241101663"
     },
     "user_tz": -540
    },
    "id": "basic-lesbian",
    "outputId": "1ad834cf-3691-44b2-c384-2a38cfde4872",
    "papermill": {
     "duration": 0.227536,
     "end_time": "2021-05-30T18:06:24.653264",
     "exception": false,
     "start_time": "2021-05-30T18:06:24.425728",
     "status": "completed"
    },
    "tags": []
   },
   "outputs": [
    {
     "data": {
      "text/plain": [
       "<AxesSubplot:xlabel='Pclass', ylabel='Age'>"
      ]
     },
     "execution_count": 26,
     "metadata": {},
     "output_type": "execute_result"
    },
    {
     "data": {
      "image/png": "[encoded data removed]",
      "text/plain": [
       "<Figure size 432x288 with 1 Axes>"
      ]
     },
     "metadata": {
      "needs_background": "light"
     },
     "output_type": "display_data"
    }
   ],
   "source": [
    "sns.boxplot(x='Pclass',y='Age',data=train)"
   ]
  },
  {
   "cell_type": "markdown",
   "id": "5551717d",
   "metadata": {
    "id": "positive-receiver",
    "papermill": {
     "duration": 0.072184,
     "end_time": "2021-05-30T18:06:24.802570",
     "exception": false,
     "start_time": "2021-05-30T18:06:24.730386",
     "status": "completed"
    },
    "tags": []
   },
   "source": [
    "Filling up mean values for null."
   ]
  },
  {
   "cell_type": "code",
   "execution_count": 27,
   "id": "25d3c01a",
   "metadata": {
    "execution": {
     "iopub.execute_input": "2021-05-30T18:06:25.246043Z",
     "iopub.status.busy": "2021-05-30T18:06:25.245237Z",
     "iopub.status.idle": "2021-05-30T18:06:25.250020Z",
     "shell.execute_reply": "2021-05-30T18:06:25.250559Z",
     "shell.execute_reply.started": "2021-05-30T17:56:23.981448Z"
    },
    "executionInfo": {
     "elapsed": 540,
     "status": "ok",
     "timestamp": 1622417753761,
     "user": {
      "displayName": "OuSeoung LEE",
      "photoUrl": "",
      "userId": "04718254206241101663"
     },
     "user_tz": -540
    },
    "id": "constant-aggregate",
    "papermill": {
     "duration": 0.081516,
     "end_time": "2021-05-30T18:06:25.250704",
     "exception": false,
     "start_time": "2021-05-30T18:06:25.169188",
     "status": "completed"
    },
    "tags": []
   },
   "outputs": [],
   "source": [
    "def impute_age_train(cols):\n",
    "    Age=cols[0]\n",
    "    Pclass=cols[1]\n",
    "    \n",
    "    if pd.isnull(Age):\n",
    "        if Pclass == 1:\n",
    "            return 37\n",
    "        elif Pclass == 2:\n",
    "            return 29\n",
    "        else :\n",
    "            return 24\n",
    "    else:\n",
    "        return Age"
   ]
  },
  {
   "cell_type": "code",
   "execution_count": 28,
   "id": "325cde3e",
   "metadata": {
    "execution": {
     "iopub.execute_input": "2021-05-30T18:06:25.399925Z",
     "iopub.status.busy": "2021-05-30T18:06:25.399152Z",
     "iopub.status.idle": "2021-05-30T18:06:25.403756Z",
     "shell.execute_reply": "2021-05-30T18:06:25.404358Z",
     "shell.execute_reply.started": "2021-05-30T17:56:24.752065Z"
    },
    "executionInfo": {
     "elapsed": 2,
     "status": "ok",
     "timestamp": 1622417755247,
     "user": {
      "displayName": "OuSeoung LEE",
      "photoUrl": "",
      "userId": "04718254206241101663"
     },
     "user_tz": -540
    },
    "id": "hazardous-pennsylvania",
    "papermill": {
     "duration": 0.081055,
     "end_time": "2021-05-30T18:06:25.404527",
     "exception": false,
     "start_time": "2021-05-30T18:06:25.323472",
     "status": "completed"
    },
    "tags": []
   },
   "outputs": [],
   "source": [
    "def impute_age_test(cols):\n",
    "    Age=cols[0]\n",
    "    Pclass=cols[1]\n",
    "    \n",
    "    if pd.isnull(Age):\n",
    "        if Pclass == 1:\n",
    "            return 42\n",
    "        elif Pclass == 2:\n",
    "            return 27\n",
    "        else :\n",
    "            return 25\n",
    "    else:\n",
    "        return Age"
   ]
  },
  {
   "cell_type": "code",
   "execution_count": 29,
   "id": "9250bbab",
   "metadata": {
    "execution": {
     "iopub.execute_input": "2021-05-30T18:06:25.555578Z",
     "iopub.status.busy": "2021-05-30T18:06:25.554611Z",
     "iopub.status.idle": "2021-05-30T18:06:25.581740Z",
     "shell.execute_reply": "2021-05-30T18:06:25.582195Z",
     "shell.execute_reply.started": "2021-05-30T17:56:26.731533Z"
    },
    "executionInfo": {
     "elapsed": 4,
     "status": "ok",
     "timestamp": 1622417756545,
     "user": {
      "displayName": "OuSeoung LEE",
      "photoUrl": "",
      "userId": "04718254206241101663"
     },
     "user_tz": -540
    },
    "id": "italic-career",
    "papermill": {
     "duration": 0.103941,
     "end_time": "2021-05-30T18:06:25.582344",
     "exception": false,
     "start_time": "2021-05-30T18:06:25.478403",
     "status": "completed"
    },
    "tags": []
   },
   "outputs": [],
   "source": [
    "train['Age']=train[['Age','Pclass']].apply(impute_age_train,axis=1)"
   ]
  },
  {
   "cell_type": "code",
   "execution_count": 30,
   "id": "63ffb3f8",
   "metadata": {
    "colab": {
     "base_uri": "https://localhost:8080/"
    },
    "execution": {
     "iopub.execute_input": "2021-05-30T18:06:25.742080Z",
     "iopub.status.busy": "2021-05-30T18:06:25.741449Z",
     "iopub.status.idle": "2021-05-30T18:06:25.744167Z",
     "shell.execute_reply": "2021-05-30T18:06:25.744622Z",
     "shell.execute_reply.started": "2021-05-30T17:56:27.581361Z"
    },
    "executionInfo": {
     "elapsed": 3,
     "status": "ok",
     "timestamp": 1622417758486,
     "user": {
      "displayName": "OuSeoung LEE",
      "photoUrl": "",
      "userId": "04718254206241101663"
     },
     "user_tz": -540
    },
    "id": "failing-semiconductor",
    "outputId": "cbf704d1-a6c2-4d83-b5aa-80ec231ad7dc",
    "papermill": {
     "duration": 0.086539,
     "end_time": "2021-05-30T18:06:25.744769",
     "exception": false,
     "start_time": "2021-05-30T18:06:25.658230",
     "status": "completed"
    },
    "tags": []
   },
   "outputs": [
    {
     "data": {
      "text/plain": [
       "count     889\n",
       "unique      3\n",
       "top         S\n",
       "freq      644\n",
       "Name: Embarked, dtype: object"
      ]
     },
     "execution_count": 30,
     "metadata": {},
     "output_type": "execute_result"
    }
   ],
   "source": [
    "train['Embarked'].describe()"
   ]
  },
  {
   "cell_type": "markdown",
   "id": "f9f9ac12",
   "metadata": {
    "id": "spanish-lodge",
    "papermill": {
     "duration": 0.073705,
     "end_time": "2021-05-30T18:06:25.892296",
     "exception": false,
     "start_time": "2021-05-30T18:06:25.818591",
     "status": "completed"
    },
    "tags": []
   },
   "source": [
    "S is common in Embarked.We will fill null values with it."
   ]
  },
  {
   "cell_type": "code",
   "execution_count": 31,
   "id": "99649da7",
   "metadata": {
    "execution": {
     "iopub.execute_input": "2021-05-30T18:06:26.047145Z",
     "iopub.status.busy": "2021-05-30T18:06:26.045942Z",
     "iopub.status.idle": "2021-05-30T18:06:26.048406Z",
     "shell.execute_reply": "2021-05-30T18:06:26.048944Z",
     "shell.execute_reply.started": "2021-05-30T17:56:30.116451Z"
    },
    "executionInfo": {
     "elapsed": 538,
     "status": "ok",
     "timestamp": 1622417761952,
     "user": {
      "displayName": "OuSeoung LEE",
      "photoUrl": "",
      "userId": "04718254206241101663"
     },
     "user_tz": -540
    },
    "id": "caring-interest",
    "papermill": {
     "duration": 0.082096,
     "end_time": "2021-05-30T18:06:26.049111",
     "exception": false,
     "start_time": "2021-05-30T18:06:25.967015",
     "status": "completed"
    },
    "tags": []
   },
   "outputs": [],
   "source": [
    "common='S'\n",
    "train['Embarked'] = train['Embarked'].fillna(common)"
   ]
  },
  {
   "cell_type": "code",
   "execution_count": 32,
   "id": "88d3ae66",
   "metadata": {
    "colab": {
     "base_uri": "https://localhost:8080/"
    },
    "execution": {
     "iopub.execute_input": "2021-05-30T18:06:26.206746Z",
     "iopub.status.busy": "2021-05-30T18:06:26.206000Z",
     "iopub.status.idle": "2021-05-30T18:06:26.209708Z",
     "shell.execute_reply": "2021-05-30T18:06:26.209160Z",
     "shell.execute_reply.started": "2021-05-30T17:56:30.381516Z"
    },
    "executionInfo": {
     "elapsed": 4,
     "status": "ok",
     "timestamp": 1622417763225,
     "user": {
      "displayName": "OuSeoung LEE",
      "photoUrl": "",
      "userId": "04718254206241101663"
     },
     "user_tz": -540
    },
    "id": "level-mention",
    "outputId": "f798fdff-73bb-4643-9ce0-38efaa1ab728",
    "papermill": {
     "duration": 0.08566,
     "end_time": "2021-05-30T18:06:26.209839",
     "exception": false,
     "start_time": "2021-05-30T18:06:26.124179",
     "status": "completed"
    },
    "tags": []
   },
   "outputs": [
    {
     "data": {
      "text/plain": [
       "PassengerId    0\n",
       "Survived       0\n",
       "Pclass         0\n",
       "Sex            0\n",
       "Age            0\n",
       "SibSp          0\n",
       "Parch          0\n",
       "Embarked       0\n",
       "dtype: int64"
      ]
     },
     "execution_count": 32,
     "metadata": {},
     "output_type": "execute_result"
    }
   ],
   "source": [
    "train.isnull().sum()\n"
   ]
  },
  {
   "cell_type": "markdown",
   "id": "9a64ac01",
   "metadata": {
    "id": "immediate-times",
    "papermill": {
     "duration": 0.073314,
     "end_time": "2021-05-30T18:06:26.358950",
     "exception": false,
     "start_time": "2021-05-30T18:06:26.285636",
     "status": "completed"
    },
    "tags": []
   },
   "source": [
    "# Catogorical features"
   ]
  },
  {
   "cell_type": "code",
   "execution_count": 33,
   "id": "9a9692db",
   "metadata": {
    "colab": {
     "base_uri": "https://localhost:8080/",
     "height": 204
    },
    "execution": {
     "iopub.execute_input": "2021-05-30T18:06:26.514218Z",
     "iopub.status.busy": "2021-05-30T18:06:26.513647Z",
     "iopub.status.idle": "2021-05-30T18:06:26.520696Z",
     "shell.execute_reply": "2021-05-30T18:06:26.521193Z",
     "shell.execute_reply.started": "2021-05-30T17:56:30.781518Z"
    },
    "executionInfo": {
     "elapsed": 411,
     "status": "ok",
     "timestamp": 1622417766403,
     "user": {
      "displayName": "OuSeoung LEE",
      "photoUrl": "",
      "userId": "04718254206241101663"
     },
     "user_tz": -540
    },
    "id": "unavailable-champagne",
    "outputId": "41140d81-0a31-4d1d-e19c-62f7c91f0a61",
    "papermill": {
     "duration": 0.0877,
     "end_time": "2021-05-30T18:06:26.521326",
     "exception": false,
     "start_time": "2021-05-30T18:06:26.433626",
     "status": "completed"
    },
    "tags": []
   },
   "outputs": [
    {
     "data": {
      "text/html": [
       "<div>\n",
       "<style scoped>\n",
       "    .dataframe tbody tr th:only-of-type {\n",
       "        vertical-align: middle;\n",
       "    }\n",
       "\n",
       "    .dataframe tbody tr th {\n",
       "        vertical-align: top;\n",
       "    }\n",
       "\n",
       "    .dataframe thead th {\n",
       "        text-align: right;\n",
       "    }\n",
       "</style>\n",
       "<table border=\"1\" class=\"dataframe\">\n",
       "  <thead>\n",
       "    <tr style=\"text-align: right;\">\n",
       "      <th></th>\n",
       "      <th>Q</th>\n",
       "      <th>S</th>\n",
       "    </tr>\n",
       "  </thead>\n",
       "  <tbody>\n",
       "    <tr>\n",
       "      <th>0</th>\n",
       "      <td>0</td>\n",
       "      <td>1</td>\n",
       "    </tr>\n",
       "    <tr>\n",
       "      <th>1</th>\n",
       "      <td>0</td>\n",
       "      <td>0</td>\n",
       "    </tr>\n",
       "    <tr>\n",
       "      <th>2</th>\n",
       "      <td>0</td>\n",
       "      <td>1</td>\n",
       "    </tr>\n",
       "    <tr>\n",
       "      <th>3</th>\n",
       "      <td>0</td>\n",
       "      <td>1</td>\n",
       "    </tr>\n",
       "    <tr>\n",
       "      <th>4</th>\n",
       "      <td>0</td>\n",
       "      <td>1</td>\n",
       "    </tr>\n",
       "  </tbody>\n",
       "</table>\n",
       "</div>"
      ],
      "text/plain": [
       "   Q  S\n",
       "0  0  1\n",
       "1  0  0\n",
       "2  0  1\n",
       "3  0  1\n",
       "4  0  1"
      ]
     },
     "execution_count": 33,
     "metadata": {},
     "output_type": "execute_result"
    }
   ],
   "source": [
    "Embarked = pd.get_dummies(train['Embarked'],drop_first=True)\n",
    "Embarked.head()"
   ]
  },
  {
   "cell_type": "code",
   "execution_count": 34,
   "id": "7bee9516",
   "metadata": {
    "execution": {
     "iopub.execute_input": "2021-05-30T18:06:26.676181Z",
     "iopub.status.busy": "2021-05-30T18:06:26.675564Z",
     "iopub.status.idle": "2021-05-30T18:06:26.685188Z",
     "shell.execute_reply": "2021-05-30T18:06:26.684673Z",
     "shell.execute_reply.started": "2021-05-30T17:56:31.273856Z"
    },
    "executionInfo": {
     "elapsed": 3,
     "status": "ok",
     "timestamp": 1622417767833,
     "user": {
      "displayName": "OuSeoung LEE",
      "photoUrl": "",
      "userId": "04718254206241101663"
     },
     "user_tz": -540
    },
    "id": "exact-repeat",
    "papermill": {
     "duration": 0.086771,
     "end_time": "2021-05-30T18:06:26.685313",
     "exception": false,
     "start_time": "2021-05-30T18:06:26.598542",
     "status": "completed"
    },
    "tags": []
   },
   "outputs": [],
   "source": [
    "#Converting values\n",
    "train['Sex']=train['Sex'].map({'male':0,'female':1})\n",
    "train.drop(['Embarked'],axis=1,inplace=True)"
   ]
  },
  {
   "cell_type": "code",
   "execution_count": 35,
   "id": "1abdc68d",
   "metadata": {
    "colab": {
     "base_uri": "https://localhost:8080/",
     "height": 419
    },
    "execution": {
     "iopub.execute_input": "2021-05-30T18:06:26.846463Z",
     "iopub.status.busy": "2021-05-30T18:06:26.845708Z",
     "iopub.status.idle": "2021-05-30T18:06:26.849330Z",
     "shell.execute_reply": "2021-05-30T18:06:26.849753Z",
     "shell.execute_reply.started": "2021-05-30T17:56:31.311342Z"
    },
    "executionInfo": {
     "elapsed": 413,
     "status": "ok",
     "timestamp": 1622417770631,
     "user": {
      "displayName": "OuSeoung LEE",
      "photoUrl": "",
      "userId": "04718254206241101663"
     },
     "user_tz": -540
    },
    "id": "false-preserve",
    "outputId": "2735a915-97c1-4f8d-8e9b-9cdcc4012dcd",
    "papermill": {
     "duration": 0.090151,
     "end_time": "2021-05-30T18:06:26.849904",
     "exception": false,
     "start_time": "2021-05-30T18:06:26.759753",
     "status": "completed"
    },
    "tags": []
   },
   "outputs": [
    {
     "data": {
      "text/html": [
       "<div>\n",
       "<style scoped>\n",
       "    .dataframe tbody tr th:only-of-type {\n",
       "        vertical-align: middle;\n",
       "    }\n",
       "\n",
       "    .dataframe tbody tr th {\n",
       "        vertical-align: top;\n",
       "    }\n",
       "\n",
       "    .dataframe thead th {\n",
       "        text-align: right;\n",
       "    }\n",
       "</style>\n",
       "<table border=\"1\" class=\"dataframe\">\n",
       "  <thead>\n",
       "    <tr style=\"text-align: right;\">\n",
       "      <th></th>\n",
       "      <th>PassengerId</th>\n",
       "      <th>Survived</th>\n",
       "      <th>Pclass</th>\n",
       "      <th>Sex</th>\n",
       "      <th>Age</th>\n",
       "      <th>SibSp</th>\n",
       "      <th>Parch</th>\n",
       "    </tr>\n",
       "  </thead>\n",
       "  <tbody>\n",
       "    <tr>\n",
       "      <th>0</th>\n",
       "      <td>1</td>\n",
       "      <td>0</td>\n",
       "      <td>3</td>\n",
       "      <td>0</td>\n",
       "      <td>22.0</td>\n",
       "      <td>1</td>\n",
       "      <td>0</td>\n",
       "    </tr>\n",
       "    <tr>\n",
       "      <th>1</th>\n",
       "      <td>2</td>\n",
       "      <td>1</td>\n",
       "      <td>1</td>\n",
       "      <td>1</td>\n",
       "      <td>38.0</td>\n",
       "      <td>1</td>\n",
       "      <td>0</td>\n",
       "    </tr>\n",
       "    <tr>\n",
       "      <th>2</th>\n",
       "      <td>3</td>\n",
       "      <td>1</td>\n",
       "      <td>3</td>\n",
       "      <td>1</td>\n",
       "      <td>26.0</td>\n",
       "      <td>0</td>\n",
       "      <td>0</td>\n",
       "    </tr>\n",
       "    <tr>\n",
       "      <th>3</th>\n",
       "      <td>4</td>\n",
       "      <td>1</td>\n",
       "      <td>1</td>\n",
       "      <td>1</td>\n",
       "      <td>35.0</td>\n",
       "      <td>1</td>\n",
       "      <td>0</td>\n",
       "    </tr>\n",
       "    <tr>\n",
       "      <th>4</th>\n",
       "      <td>5</td>\n",
       "      <td>0</td>\n",
       "      <td>3</td>\n",
       "      <td>0</td>\n",
       "      <td>35.0</td>\n",
       "      <td>0</td>\n",
       "      <td>0</td>\n",
       "    </tr>\n",
       "    <tr>\n",
       "      <th>...</th>\n",
       "      <td>...</td>\n",
       "      <td>...</td>\n",
       "      <td>...</td>\n",
       "      <td>...</td>\n",
       "      <td>...</td>\n",
       "      <td>...</td>\n",
       "      <td>...</td>\n",
       "    </tr>\n",
       "    <tr>\n",
       "      <th>886</th>\n",
       "      <td>887</td>\n",
       "      <td>0</td>\n",
       "      <td>2</td>\n",
       "      <td>0</td>\n",
       "      <td>27.0</td>\n",
       "      <td>0</td>\n",
       "      <td>0</td>\n",
       "    </tr>\n",
       "    <tr>\n",
       "      <th>887</th>\n",
       "      <td>888</td>\n",
       "      <td>1</td>\n",
       "      <td>1</td>\n",
       "      <td>1</td>\n",
       "      <td>19.0</td>\n",
       "      <td>0</td>\n",
       "      <td>0</td>\n",
       "    </tr>\n",
       "    <tr>\n",
       "      <th>888</th>\n",
       "      <td>889</td>\n",
       "      <td>0</td>\n",
       "      <td>3</td>\n",
       "      <td>1</td>\n",
       "      <td>24.0</td>\n",
       "      <td>1</td>\n",
       "      <td>2</td>\n",
       "    </tr>\n",
       "    <tr>\n",
       "      <th>889</th>\n",
       "      <td>890</td>\n",
       "      <td>1</td>\n",
       "      <td>1</td>\n",
       "      <td>0</td>\n",
       "      <td>26.0</td>\n",
       "      <td>0</td>\n",
       "      <td>0</td>\n",
       "    </tr>\n",
       "    <tr>\n",
       "      <th>890</th>\n",
       "      <td>891</td>\n",
       "      <td>0</td>\n",
       "      <td>3</td>\n",
       "      <td>0</td>\n",
       "      <td>32.0</td>\n",
       "      <td>0</td>\n",
       "      <td>0</td>\n",
       "    </tr>\n",
       "  </tbody>\n",
       "</table>\n",
       "<p>891 rows × 7 columns</p>\n",
       "</div>"
      ],
      "text/plain": [
       "     PassengerId  Survived  Pclass  Sex   Age  SibSp  Parch\n",
       "0              1         0       3    0  22.0      1      0\n",
       "1              2         1       1    1  38.0      1      0\n",
       "2              3         1       3    1  26.0      0      0\n",
       "3              4         1       1    1  35.0      1      0\n",
       "4              5         0       3    0  35.0      0      0\n",
       "..           ...       ...     ...  ...   ...    ...    ...\n",
       "886          887         0       2    0  27.0      0      0\n",
       "887          888         1       1    1  19.0      0      0\n",
       "888          889         0       3    1  24.0      1      2\n",
       "889          890         1       1    0  26.0      0      0\n",
       "890          891         0       3    0  32.0      0      0\n",
       "\n",
       "[891 rows x 7 columns]"
      ]
     },
     "execution_count": 35,
     "metadata": {},
     "output_type": "execute_result"
    }
   ],
   "source": [
    "train"
   ]
  },
  {
   "cell_type": "code",
   "execution_count": 36,
   "id": "3492e26e",
   "metadata": {
    "colab": {
     "base_uri": "https://localhost:8080/",
     "height": 204
    },
    "execution": {
     "iopub.execute_input": "2021-05-30T18:06:27.182841Z",
     "iopub.status.busy": "2021-05-30T18:06:27.182036Z",
     "iopub.status.idle": "2021-05-30T18:06:27.185345Z",
     "shell.execute_reply": "2021-05-30T18:06:27.185768Z",
     "shell.execute_reply.started": "2021-05-30T17:56:31.771521Z"
    },
    "executionInfo": {
     "elapsed": 421,
     "status": "ok",
     "timestamp": 1622417777465,
     "user": {
      "displayName": "OuSeoung LEE",
      "photoUrl": "",
      "userId": "04718254206241101663"
     },
     "user_tz": -540
    },
    "id": "functioning-accuracy",
    "outputId": "edd21c97-7586-42d6-a5ea-6a7beb743504",
    "papermill": {
     "duration": 0.092133,
     "end_time": "2021-05-30T18:06:27.185923",
     "exception": false,
     "start_time": "2021-05-30T18:06:27.093790",
     "status": "completed"
    },
    "tags": []
   },
   "outputs": [
    {
     "data": {
      "text/html": [
       "<div>\n",
       "<style scoped>\n",
       "    .dataframe tbody tr th:only-of-type {\n",
       "        vertical-align: middle;\n",
       "    }\n",
       "\n",
       "    .dataframe tbody tr th {\n",
       "        vertical-align: top;\n",
       "    }\n",
       "\n",
       "    .dataframe thead th {\n",
       "        text-align: right;\n",
       "    }\n",
       "</style>\n",
       "<table border=\"1\" class=\"dataframe\">\n",
       "  <thead>\n",
       "    <tr style=\"text-align: right;\">\n",
       "      <th></th>\n",
       "      <th>PassengerId</th>\n",
       "      <th>Survived</th>\n",
       "      <th>Pclass</th>\n",
       "      <th>Sex</th>\n",
       "      <th>Age</th>\n",
       "      <th>SibSp</th>\n",
       "      <th>Parch</th>\n",
       "      <th>Q</th>\n",
       "      <th>S</th>\n",
       "    </tr>\n",
       "  </thead>\n",
       "  <tbody>\n",
       "    <tr>\n",
       "      <th>0</th>\n",
       "      <td>1</td>\n",
       "      <td>0</td>\n",
       "      <td>3</td>\n",
       "      <td>0</td>\n",
       "      <td>22.0</td>\n",
       "      <td>1</td>\n",
       "      <td>0</td>\n",
       "      <td>0</td>\n",
       "      <td>1</td>\n",
       "    </tr>\n",
       "    <tr>\n",
       "      <th>1</th>\n",
       "      <td>2</td>\n",
       "      <td>1</td>\n",
       "      <td>1</td>\n",
       "      <td>1</td>\n",
       "      <td>38.0</td>\n",
       "      <td>1</td>\n",
       "      <td>0</td>\n",
       "      <td>0</td>\n",
       "      <td>0</td>\n",
       "    </tr>\n",
       "    <tr>\n",
       "      <th>2</th>\n",
       "      <td>3</td>\n",
       "      <td>1</td>\n",
       "      <td>3</td>\n",
       "      <td>1</td>\n",
       "      <td>26.0</td>\n",
       "      <td>0</td>\n",
       "      <td>0</td>\n",
       "      <td>0</td>\n",
       "      <td>1</td>\n",
       "    </tr>\n",
       "    <tr>\n",
       "      <th>3</th>\n",
       "      <td>4</td>\n",
       "      <td>1</td>\n",
       "      <td>1</td>\n",
       "      <td>1</td>\n",
       "      <td>35.0</td>\n",
       "      <td>1</td>\n",
       "      <td>0</td>\n",
       "      <td>0</td>\n",
       "      <td>1</td>\n",
       "    </tr>\n",
       "    <tr>\n",
       "      <th>4</th>\n",
       "      <td>5</td>\n",
       "      <td>0</td>\n",
       "      <td>3</td>\n",
       "      <td>0</td>\n",
       "      <td>35.0</td>\n",
       "      <td>0</td>\n",
       "      <td>0</td>\n",
       "      <td>0</td>\n",
       "      <td>1</td>\n",
       "    </tr>\n",
       "  </tbody>\n",
       "</table>\n",
       "</div>"
      ],
      "text/plain": [
       "   PassengerId  Survived  Pclass  Sex   Age  SibSp  Parch  Q  S\n",
       "0            1         0       3    0  22.0      1      0  0  1\n",
       "1            2         1       1    1  38.0      1      0  0  0\n",
       "2            3         1       3    1  26.0      0      0  0  1\n",
       "3            4         1       1    1  35.0      1      0  0  1\n",
       "4            5         0       3    0  35.0      0      0  0  1"
      ]
     },
     "execution_count": 36,
     "metadata": {},
     "output_type": "execute_result"
    }
   ],
   "source": [
    "train = pd.concat([train,Embarked],axis=1)\n",
    "train.head()"
   ]
  },
  {
   "cell_type": "code",
   "execution_count": 37,
   "id": "debe4393",
   "metadata": {
    "execution": {
     "iopub.execute_input": "2021-05-30T18:06:27.340202Z",
     "iopub.status.busy": "2021-05-30T18:06:27.339441Z",
     "iopub.status.idle": "2021-05-30T18:06:27.348973Z",
     "shell.execute_reply": "2021-05-30T18:06:27.349432Z",
     "shell.execute_reply.started": "2021-05-30T17:56:32.021872Z"
    },
    "executionInfo": {
     "elapsed": 425,
     "status": "ok",
     "timestamp": 1622417781663,
     "user": {
      "displayName": "OuSeoung LEE",
      "photoUrl": "",
      "userId": "04718254206241101663"
     },
     "user_tz": -540
    },
    "id": "sharp-twelve",
    "papermill": {
     "duration": 0.087604,
     "end_time": "2021-05-30T18:06:27.349567",
     "exception": false,
     "start_time": "2021-05-30T18:06:27.261963",
     "status": "completed"
    },
    "tags": []
   },
   "outputs": [],
   "source": [
    "train.loc[train['Age'] <= 16, 'Age'] = 0\n",
    "train.loc[(train['Age'] > 16) & (train['Age'] <= 32), 'Age'] = 1\n",
    "train.loc[(train['Age'] > 32) & (train['Age'] <= 48), 'Age'] = 2\n",
    "train.loc[(train['Age'] > 48) & (train['Age'] <= 64), 'Age'] = 3\n",
    "train.loc[ train['Age'] > 64, 'Age'] = 4"
   ]
  },
  {
   "cell_type": "code",
   "execution_count": 38,
   "id": "093d8971",
   "metadata": {
    "execution": {
     "iopub.execute_input": "2021-05-30T18:06:27.733615Z",
     "iopub.status.busy": "2021-05-30T18:06:27.733051Z",
     "iopub.status.idle": "2021-05-30T18:06:27.735653Z",
     "shell.execute_reply": "2021-05-30T18:06:27.735234Z",
     "shell.execute_reply.started": "2021-05-30T17:56:32.511412Z"
    },
    "executionInfo": {
     "elapsed": 2,
     "status": "ok",
     "timestamp": 1622417783529,
     "user": {
      "displayName": "OuSeoung LEE",
      "photoUrl": "",
      "userId": "04718254206241101663"
     },
     "user_tz": -540
    },
    "id": "taken-tissue",
    "papermill": {
     "duration": 0.132587,
     "end_time": "2021-05-30T18:06:27.735784",
     "exception": false,
     "start_time": "2021-05-30T18:06:27.603197",
     "status": "completed"
    },
    "tags": []
   },
   "outputs": [],
   "source": [
    "train= train.drop(\"PassengerId\", axis = 1)"
   ]
  },
  {
   "cell_type": "code",
   "execution_count": 39,
   "id": "39073fd5",
   "metadata": {
    "id": "DsLauyzsorgX"
   },
   "outputs": [
    {
     "data": {
      "text/html": [
       "<div>\n",
       "<style scoped>\n",
       "    .dataframe tbody tr th:only-of-type {\n",
       "        vertical-align: middle;\n",
       "    }\n",
       "\n",
       "    .dataframe tbody tr th {\n",
       "        vertical-align: top;\n",
       "    }\n",
       "\n",
       "    .dataframe thead th {\n",
       "        text-align: right;\n",
       "    }\n",
       "</style>\n",
       "<table border=\"1\" class=\"dataframe\">\n",
       "  <thead>\n",
       "    <tr style=\"text-align: right;\">\n",
       "      <th></th>\n",
       "      <th>Survived</th>\n",
       "      <th>Pclass</th>\n",
       "      <th>Sex</th>\n",
       "      <th>Age</th>\n",
       "      <th>SibSp</th>\n",
       "      <th>Parch</th>\n",
       "      <th>Q</th>\n",
       "      <th>S</th>\n",
       "    </tr>\n",
       "  </thead>\n",
       "  <tbody>\n",
       "    <tr>\n",
       "      <th>0</th>\n",
       "      <td>0</td>\n",
       "      <td>3</td>\n",
       "      <td>0</td>\n",
       "      <td>1.0</td>\n",
       "      <td>1</td>\n",
       "      <td>0</td>\n",
       "      <td>0</td>\n",
       "      <td>1</td>\n",
       "    </tr>\n",
       "    <tr>\n",
       "      <th>1</th>\n",
       "      <td>1</td>\n",
       "      <td>1</td>\n",
       "      <td>1</td>\n",
       "      <td>2.0</td>\n",
       "      <td>1</td>\n",
       "      <td>0</td>\n",
       "      <td>0</td>\n",
       "      <td>0</td>\n",
       "    </tr>\n",
       "    <tr>\n",
       "      <th>2</th>\n",
       "      <td>1</td>\n",
       "      <td>3</td>\n",
       "      <td>1</td>\n",
       "      <td>1.0</td>\n",
       "      <td>0</td>\n",
       "      <td>0</td>\n",
       "      <td>0</td>\n",
       "      <td>1</td>\n",
       "    </tr>\n",
       "    <tr>\n",
       "      <th>3</th>\n",
       "      <td>1</td>\n",
       "      <td>1</td>\n",
       "      <td>1</td>\n",
       "      <td>2.0</td>\n",
       "      <td>1</td>\n",
       "      <td>0</td>\n",
       "      <td>0</td>\n",
       "      <td>1</td>\n",
       "    </tr>\n",
       "    <tr>\n",
       "      <th>4</th>\n",
       "      <td>0</td>\n",
       "      <td>3</td>\n",
       "      <td>0</td>\n",
       "      <td>2.0</td>\n",
       "      <td>0</td>\n",
       "      <td>0</td>\n",
       "      <td>0</td>\n",
       "      <td>1</td>\n",
       "    </tr>\n",
       "    <tr>\n",
       "      <th>...</th>\n",
       "      <td>...</td>\n",
       "      <td>...</td>\n",
       "      <td>...</td>\n",
       "      <td>...</td>\n",
       "      <td>...</td>\n",
       "      <td>...</td>\n",
       "      <td>...</td>\n",
       "      <td>...</td>\n",
       "    </tr>\n",
       "    <tr>\n",
       "      <th>886</th>\n",
       "      <td>0</td>\n",
       "      <td>2</td>\n",
       "      <td>0</td>\n",
       "      <td>1.0</td>\n",
       "      <td>0</td>\n",
       "      <td>0</td>\n",
       "      <td>0</td>\n",
       "      <td>1</td>\n",
       "    </tr>\n",
       "    <tr>\n",
       "      <th>887</th>\n",
       "      <td>1</td>\n",
       "      <td>1</td>\n",
       "      <td>1</td>\n",
       "      <td>1.0</td>\n",
       "      <td>0</td>\n",
       "      <td>0</td>\n",
       "      <td>0</td>\n",
       "      <td>1</td>\n",
       "    </tr>\n",
       "    <tr>\n",
       "      <th>888</th>\n",
       "      <td>0</td>\n",
       "      <td>3</td>\n",
       "      <td>1</td>\n",
       "      <td>1.0</td>\n",
       "      <td>1</td>\n",
       "      <td>2</td>\n",
       "      <td>0</td>\n",
       "      <td>1</td>\n",
       "    </tr>\n",
       "    <tr>\n",
       "      <th>889</th>\n",
       "      <td>1</td>\n",
       "      <td>1</td>\n",
       "      <td>0</td>\n",
       "      <td>1.0</td>\n",
       "      <td>0</td>\n",
       "      <td>0</td>\n",
       "      <td>0</td>\n",
       "      <td>0</td>\n",
       "    </tr>\n",
       "    <tr>\n",
       "      <th>890</th>\n",
       "      <td>0</td>\n",
       "      <td>3</td>\n",
       "      <td>0</td>\n",
       "      <td>1.0</td>\n",
       "      <td>0</td>\n",
       "      <td>0</td>\n",
       "      <td>1</td>\n",
       "      <td>0</td>\n",
       "    </tr>\n",
       "  </tbody>\n",
       "</table>\n",
       "<p>891 rows × 8 columns</p>\n",
       "</div>"
      ],
      "text/plain": [
       "     Survived  Pclass  Sex  Age  SibSp  Parch  Q  S\n",
       "0           0       3    0  1.0      1      0  0  1\n",
       "1           1       1    1  2.0      1      0  0  0\n",
       "2           1       3    1  1.0      0      0  0  1\n",
       "3           1       1    1  2.0      1      0  0  1\n",
       "4           0       3    0  2.0      0      0  0  1\n",
       "..        ...     ...  ...  ...    ...    ... .. ..\n",
       "886         0       2    0  1.0      0      0  0  1\n",
       "887         1       1    1  1.0      0      0  0  1\n",
       "888         0       3    1  1.0      1      2  0  1\n",
       "889         1       1    0  1.0      0      0  0  0\n",
       "890         0       3    0  1.0      0      0  1  0\n",
       "\n",
       "[891 rows x 8 columns]"
      ]
     },
     "execution_count": 39,
     "metadata": {},
     "output_type": "execute_result"
    }
   ],
   "source": [
    "train"
   ]
  },
  {
   "cell_type": "code",
   "execution_count": null,
   "id": "8fc2b290",
   "metadata": {},
   "outputs": [],
   "source": []
  },
  {
   "cell_type": "code",
   "execution_count": null,
   "id": "dddd3779",
   "metadata": {},
   "outputs": [],
   "source": []
  },
  {
   "cell_type": "code",
   "execution_count": null,
   "id": "f70e7b91",
   "metadata": {},
   "outputs": [],
   "source": []
  }
 ],
 "metadata": {
  "colab": {
   "collapsed_sections": [],
   "name": "titanic_EDA_Kaggle.ipynb",
   "provenance": []
  },
  "kernelspec": {
   "display_name": "Python 3",
   "language": "python",
   "name": "python3"
  },
  "language_info": {
   "codemirror_mode": {
    "name": "ipython",
    "version": 3
   },
   "file_extension": ".py",
   "mimetype": "text/x-python",
   "name": "python",
   "nbconvert_exporter": "python",
   "pygments_lexer": "ipython3",
   "version": "3.8.8"
  },
  "papermill": {
   "default_parameters": {},
   "duration": 39.541341,
   "end_time": "2021-05-30T18:06:46.659568",
   "environment_variables": {},
   "exception": null,
   "input_path": "__notebook__.ipynb",
   "output_path": "__notebook__.ipynb",
   "parameters": {},
   "start_time": "2021-05-30T18:06:07.118227",
   "version": "2.3.3"
  }
 },
 "nbformat": 4,
 "nbformat_minor": 5
}
