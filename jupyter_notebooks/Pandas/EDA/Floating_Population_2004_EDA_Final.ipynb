{
 "cells": [
  {
   "cell_type": "markdown",
   "metadata": {
    "id": "m77VClK5x87H"
   },
   "source": [
    "# Floating_Population_2004.csv에 대한 EDA"
   ]
  },
  {
   "cell_type": "markdown",
   "metadata": {
    "id": "UYZKHGqJx87J"
   },
   "source": [
    "# 문제 정의 : 2004년 서울시 유동인구 분석"
   ]
  },
  {
   "cell_type": "markdown",
   "metadata": {
    "id": "OQboWus3x87K"
   },
   "source": [
    "## DataSet 구성\n",
    "\n",
    "1. 일자 : 유동 인구를 수집한 날짜( 2020/04/01 ~ 2020/04/30 )\n",
    "2. 시간 : 유동 인구를 수집한 시간( 0시 ~ 23시, 1시간 단위 수집 )\n",
    "3. 연령대 : 유동 인구를 수집한 연령대( 20대 ~ 70대 )\n",
    "4. 시 : 유동 인구를 수집한 시( 서울시 )\n",
    "5. 구 : 유동 인구를 수집한 구( 서울 25개구 )\n",
    "6. 유동인구수"
   ]
  },
  {
   "cell_type": "code",
   "execution_count": 95,
   "metadata": {
    "executionInfo": {
     "elapsed": 418,
     "status": "ok",
     "timestamp": 1622188374208,
     "user": {
      "displayName": "OuSeoung LEE",
      "photoUrl": "",
      "userId": "04718254206241101663"
     },
     "user_tz": -540
    },
    "id": "wy_6O_zYx87L"
   },
   "outputs": [],
   "source": [
    "import numpy as np\n",
    "import pandas as pd\n",
    "import matplotlib.pyplot as plt\n",
    "import seaborn as sns\n",
    "\n",
    "%matplotlib inline\n",
    "\n",
    "# matplotlib 한글 폰트 오류 문제 해결 - windows\n",
    "#from matplotlib import font_manager, rc\n",
    "#font_path = \"C:\\\\Windows\\\\Fonts\\\\malgun.ttf\" # 폰트 파일 위치\n",
    "#font_name = font_manager.FontProperties( fname = font_path ).get_name()\n",
    "#rc( 'font', family = font_name )\n",
    "\n",
    "# matplotlib 한글 폰트 오류 문제 해결 - mac \n",
    "from matplotlib import rc\n",
    "rc( 'font', family = 'AppleGothic' )\n",
    "\n",
    "# IPython 디스플레이 설정 변경 - 출력할 최대 열의 개수\n",
    "pd.set_option( 'display.max_columns', 20 ) # 출력할 열의 개수 한도\n",
    "pd.set_option( 'display.max_colwidth', 20 ) # 출력할 열의 너비\n",
    "pd.set_option( 'display.unicode.east_asian_width', True ) # 유니코드 사용 너비 조정\n",
    "\n",
    "import warnings\n",
    "warnings.filterwarnings('ignore')"
   ]
  },
  {
   "cell_type": "code",
   "execution_count": 96,
   "metadata": {
    "colab": {
     "base_uri": "https://localhost:8080/"
    },
    "executionInfo": {
     "elapsed": 414,
     "status": "ok",
     "timestamp": 1622188376406,
     "user": {
      "displayName": "OuSeoung LEE",
      "photoUrl": "",
      "userId": "04718254206241101663"
     },
     "user_tz": -540
    },
    "id": "GTUrkuRu6E5L",
    "outputId": "750c2ab0-0b17-4244-9e30-af29d2d2786e"
   },
   "outputs": [
    {
     "name": "stdout",
     "output_type": "stream",
     "text": [
      "Drive already mounted at /content/drive; to attempt to forcibly remount, call drive.mount(\"/content/drive\", force_remount=True).\n"
     ]
    }
   ],
   "source": [
    "from google.colab import drive\n",
    "drive.mount( '/content/drive' )"
   ]
  },
  {
   "cell_type": "markdown",
   "metadata": {
    "id": "UBPFCKYtx87M"
   },
   "source": [
    "## 데이터 수집\n",
    "\n",
    "- DataFrame 생성\n",
    "- DataFrame 기본 정보 확인"
   ]
  },
  {
   "cell_type": "code",
   "execution_count": 124,
   "metadata": {
    "executionInfo": {
     "elapsed": 280,
     "status": "ok",
     "timestamp": 1622188627217,
     "user": {
      "displayName": "OuSeoung LEE",
      "photoUrl": "",
      "userId": "04718254206241101663"
     },
     "user_tz": -540
    },
    "id": "6shQxFJEx87M"
   },
   "outputs": [],
   "source": [
    "df = pd.read_csv( '/content/drive/MyDrive/Colab Notebooks/202104AI_B_Workspace/Floating_Population_2004.csv', \n",
    "                  encoding = 'utf-8' )"
   ]
  },
  {
   "cell_type": "code",
   "execution_count": 125,
   "metadata": {
    "colab": {
     "base_uri": "https://localhost:8080/",
     "height": 204
    },
    "executionInfo": {
     "elapsed": 6,
     "status": "ok",
     "timestamp": 1622188628557,
     "user": {
      "displayName": "OuSeoung LEE",
      "photoUrl": "",
      "userId": "04718254206241101663"
     },
     "user_tz": -540
    },
    "id": "h6Ek08RDx87M",
    "outputId": "8a24bf12-3030-413a-9bbf-a41bbf4a0216"
   },
   "outputs": [
    {
     "data": {
      "text/html": [
       "<div>\n",
       "<style scoped>\n",
       "    .dataframe tbody tr th:only-of-type {\n",
       "        vertical-align: middle;\n",
       "    }\n",
       "\n",
       "    .dataframe tbody tr th {\n",
       "        vertical-align: top;\n",
       "    }\n",
       "\n",
       "    .dataframe thead th {\n",
       "        text-align: right;\n",
       "    }\n",
       "</style>\n",
       "<table border=\"1\" class=\"dataframe\">\n",
       "  <thead>\n",
       "    <tr style=\"text-align: right;\">\n",
       "      <th></th>\n",
       "      <th>일자</th>\n",
       "      <th>시간(1시간단위)</th>\n",
       "      <th>연령대(10세단위)</th>\n",
       "      <th>성별</th>\n",
       "      <th>시</th>\n",
       "      <th>군구</th>\n",
       "      <th>유동인구수</th>\n",
       "    </tr>\n",
       "  </thead>\n",
       "  <tbody>\n",
       "    <tr>\n",
       "      <th>0</th>\n",
       "      <td>20200401</td>\n",
       "      <td>0</td>\n",
       "      <td>20</td>\n",
       "      <td>남성</td>\n",
       "      <td>서울</td>\n",
       "      <td>도봉구</td>\n",
       "      <td>21490</td>\n",
       "    </tr>\n",
       "    <tr>\n",
       "      <th>1</th>\n",
       "      <td>20200401</td>\n",
       "      <td>0</td>\n",
       "      <td>30</td>\n",
       "      <td>여성</td>\n",
       "      <td>서울</td>\n",
       "      <td>동대문구</td>\n",
       "      <td>27260</td>\n",
       "    </tr>\n",
       "    <tr>\n",
       "      <th>2</th>\n",
       "      <td>20200401</td>\n",
       "      <td>0</td>\n",
       "      <td>50</td>\n",
       "      <td>남성</td>\n",
       "      <td>서울</td>\n",
       "      <td>구로구</td>\n",
       "      <td>35670</td>\n",
       "    </tr>\n",
       "    <tr>\n",
       "      <th>3</th>\n",
       "      <td>20200401</td>\n",
       "      <td>1</td>\n",
       "      <td>30</td>\n",
       "      <td>여성</td>\n",
       "      <td>서울</td>\n",
       "      <td>강남구</td>\n",
       "      <td>52380</td>\n",
       "    </tr>\n",
       "    <tr>\n",
       "      <th>4</th>\n",
       "      <td>20200401</td>\n",
       "      <td>1</td>\n",
       "      <td>40</td>\n",
       "      <td>남성</td>\n",
       "      <td>서울</td>\n",
       "      <td>동대문구</td>\n",
       "      <td>28420</td>\n",
       "    </tr>\n",
       "  </tbody>\n",
       "</table>\n",
       "</div>"
      ],
      "text/plain": [
       "       일자  시간(1시간단위)  연령대(10세단위)  성별    시      군구  \\\n",
       "0  20200401                0                20  남성  서울    도봉구   \n",
       "1  20200401                0                30  여성  서울  동대문구   \n",
       "2  20200401                0                50  남성  서울    구로구   \n",
       "3  20200401                1                30  여성  서울    강남구   \n",
       "4  20200401                1                40  남성  서울  동대문구   \n",
       "\n",
       "   유동인구수  \n",
       "0       21490  \n",
       "1       27260  \n",
       "2       35670  \n",
       "3       52380  \n",
       "4       28420  "
      ]
     },
     "execution_count": 125,
     "metadata": {
      "tags": []
     },
     "output_type": "execute_result"
    }
   ],
   "source": [
    "df.head()"
   ]
  },
  {
   "cell_type": "code",
   "execution_count": 126,
   "metadata": {
    "colab": {
     "base_uri": "https://localhost:8080/",
     "height": 204
    },
    "executionInfo": {
     "elapsed": 448,
     "status": "ok",
     "timestamp": 1622188630292,
     "user": {
      "displayName": "OuSeoung LEE",
      "photoUrl": "",
      "userId": "04718254206241101663"
     },
     "user_tz": -540
    },
    "id": "G-8qOoldx87O",
    "outputId": "23ba6145-6ba3-4d6a-c53c-3a990d0a3f46"
   },
   "outputs": [
    {
     "data": {
      "text/html": [
       "<div>\n",
       "<style scoped>\n",
       "    .dataframe tbody tr th:only-of-type {\n",
       "        vertical-align: middle;\n",
       "    }\n",
       "\n",
       "    .dataframe tbody tr th {\n",
       "        vertical-align: top;\n",
       "    }\n",
       "\n",
       "    .dataframe thead th {\n",
       "        text-align: right;\n",
       "    }\n",
       "</style>\n",
       "<table border=\"1\" class=\"dataframe\">\n",
       "  <thead>\n",
       "    <tr style=\"text-align: right;\">\n",
       "      <th></th>\n",
       "      <th>일자</th>\n",
       "      <th>시간(1시간단위)</th>\n",
       "      <th>연령대(10세단위)</th>\n",
       "      <th>성별</th>\n",
       "      <th>시</th>\n",
       "      <th>군구</th>\n",
       "      <th>유동인구수</th>\n",
       "    </tr>\n",
       "  </thead>\n",
       "  <tbody>\n",
       "    <tr>\n",
       "      <th>215995</th>\n",
       "      <td>20200430</td>\n",
       "      <td>22</td>\n",
       "      <td>40</td>\n",
       "      <td>여성</td>\n",
       "      <td>서울</td>\n",
       "      <td>성동구</td>\n",
       "      <td>22150</td>\n",
       "    </tr>\n",
       "    <tr>\n",
       "      <th>215996</th>\n",
       "      <td>20200430</td>\n",
       "      <td>22</td>\n",
       "      <td>50</td>\n",
       "      <td>여성</td>\n",
       "      <td>서울</td>\n",
       "      <td>서대문구</td>\n",
       "      <td>23270</td>\n",
       "    </tr>\n",
       "    <tr>\n",
       "      <th>215997</th>\n",
       "      <td>20200430</td>\n",
       "      <td>23</td>\n",
       "      <td>20</td>\n",
       "      <td>여성</td>\n",
       "      <td>서울</td>\n",
       "      <td>용산구</td>\n",
       "      <td>18570</td>\n",
       "    </tr>\n",
       "    <tr>\n",
       "      <th>215998</th>\n",
       "      <td>20200430</td>\n",
       "      <td>23</td>\n",
       "      <td>30</td>\n",
       "      <td>여성</td>\n",
       "      <td>서울</td>\n",
       "      <td>서대문구</td>\n",
       "      <td>21100</td>\n",
       "    </tr>\n",
       "    <tr>\n",
       "      <th>215999</th>\n",
       "      <td>20200430</td>\n",
       "      <td>23</td>\n",
       "      <td>40</td>\n",
       "      <td>남성</td>\n",
       "      <td>서울</td>\n",
       "      <td>강남구</td>\n",
       "      <td>45730</td>\n",
       "    </tr>\n",
       "  </tbody>\n",
       "</table>\n",
       "</div>"
      ],
      "text/plain": [
       "            일자  시간(1시간단위)  연령대(10세단위)  성별    시      군구  \\\n",
       "215995  20200430               22                40  여성  서울    성동구   \n",
       "215996  20200430               22                50  여성  서울  서대문구   \n",
       "215997  20200430               23                20  여성  서울    용산구   \n",
       "215998  20200430               23                30  여성  서울  서대문구   \n",
       "215999  20200430               23                40  남성  서울    강남구   \n",
       "\n",
       "        유동인구수  \n",
       "215995       22150  \n",
       "215996       23270  \n",
       "215997       18570  \n",
       "215998       21100  \n",
       "215999       45730  "
      ]
     },
     "execution_count": 126,
     "metadata": {
      "tags": []
     },
     "output_type": "execute_result"
    }
   ],
   "source": [
    "df.tail()"
   ]
  },
  {
   "cell_type": "code",
   "execution_count": 127,
   "metadata": {
    "colab": {
     "base_uri": "https://localhost:8080/"
    },
    "executionInfo": {
     "elapsed": 473,
     "status": "ok",
     "timestamp": 1622188632522,
     "user": {
      "displayName": "OuSeoung LEE",
      "photoUrl": "",
      "userId": "04718254206241101663"
     },
     "user_tz": -540
    },
    "id": "waDIEWgkx87O",
    "outputId": "4c5cf1d7-20e8-4620-dd2d-70d45c81a92c"
   },
   "outputs": [
    {
     "name": "stdout",
     "output_type": "stream",
     "text": [
      "<class 'pandas.core.frame.DataFrame'>\n",
      "RangeIndex: 216000 entries, 0 to 215999\n",
      "Data columns (total 7 columns):\n",
      " #   Column      Non-Null Count   Dtype \n",
      "---  ------      --------------   ----- \n",
      " 0   일자          216000 non-null  int64 \n",
      " 1   시간(1시간단위)   216000 non-null  int64 \n",
      " 2   연령대(10세단위)  216000 non-null  int64 \n",
      " 3   성별          216000 non-null  object\n",
      " 4   시           216000 non-null  object\n",
      " 5   군구          216000 non-null  object\n",
      " 6   유동인구수       216000 non-null  int64 \n",
      "dtypes: int64(4), object(3)\n",
      "memory usage: 11.5+ MB\n"
     ]
    }
   ],
   "source": [
    "df.info()"
   ]
  },
  {
   "cell_type": "code",
   "execution_count": 128,
   "metadata": {
    "colab": {
     "base_uri": "https://localhost:8080/"
    },
    "executionInfo": {
     "elapsed": 4,
     "status": "ok",
     "timestamp": 1622188633599,
     "user": {
      "displayName": "OuSeoung LEE",
      "photoUrl": "",
      "userId": "04718254206241101663"
     },
     "user_tz": -540
    },
    "id": "aRi5eCDAx87O",
    "outputId": "70e22052-6ad8-40d8-b938-1b4b465ae777"
   },
   "outputs": [
    {
     "data": {
      "text/plain": [
       "(216000, 7)"
      ]
     },
     "execution_count": 128,
     "metadata": {
      "tags": []
     },
     "output_type": "execute_result"
    }
   ],
   "source": [
    "df.shape"
   ]
  },
  {
   "cell_type": "code",
   "execution_count": 129,
   "metadata": {
    "colab": {
     "base_uri": "https://localhost:8080/"
    },
    "executionInfo": {
     "elapsed": 273,
     "status": "ok",
     "timestamp": 1622188635183,
     "user": {
      "displayName": "OuSeoung LEE",
      "photoUrl": "",
      "userId": "04718254206241101663"
     },
     "user_tz": -540
    },
    "id": "YNpjKcplx87P",
    "outputId": "32a0eaff-cc67-46da-b65e-3354089642e2"
   },
   "outputs": [
    {
     "data": {
      "text/plain": [
       "일자                 int64\n",
       "시간(1시간단위)      int64\n",
       "연령대(10세단위)     int64\n",
       "성별                object\n",
       "시                  object\n",
       "군구                object\n",
       "유동인구수           int64\n",
       "dtype: object"
      ]
     },
     "execution_count": 129,
     "metadata": {
      "tags": []
     },
     "output_type": "execute_result"
    }
   ],
   "source": [
    "df.dtypes"
   ]
  },
  {
   "cell_type": "markdown",
   "metadata": {
    "id": "lZsmMQoBx87P"
   },
   "source": [
    "## 데이터 전처리"
   ]
  },
  {
   "cell_type": "markdown",
   "metadata": {
    "id": "NZiMRrz9x87P"
   },
   "source": [
    "### 불필요한 변수 삭제 - 서울시 데이터이므로 '시' 변수 삭제"
   ]
  },
  {
   "cell_type": "code",
   "execution_count": 130,
   "metadata": {
    "executionInfo": {
     "elapsed": 312,
     "status": "ok",
     "timestamp": 1622188637910,
     "user": {
      "displayName": "OuSeoung LEE",
      "photoUrl": "",
      "userId": "04718254206241101663"
     },
     "user_tz": -540
    },
    "id": "bguurTgix87P"
   },
   "outputs": [],
   "source": [
    "df.drop( '시', axis = 1, inplace = True )"
   ]
  },
  {
   "cell_type": "code",
   "execution_count": 131,
   "metadata": {
    "colab": {
     "base_uri": "https://localhost:8080/",
     "height": 204
    },
    "executionInfo": {
     "elapsed": 4,
     "status": "ok",
     "timestamp": 1622188639028,
     "user": {
      "displayName": "OuSeoung LEE",
      "photoUrl": "",
      "userId": "04718254206241101663"
     },
     "user_tz": -540
    },
    "id": "Hq92FKfhx87Q",
    "outputId": "592798e9-7a21-460c-e07f-88ca5a64f50b"
   },
   "outputs": [
    {
     "data": {
      "text/html": [
       "<div>\n",
       "<style scoped>\n",
       "    .dataframe tbody tr th:only-of-type {\n",
       "        vertical-align: middle;\n",
       "    }\n",
       "\n",
       "    .dataframe tbody tr th {\n",
       "        vertical-align: top;\n",
       "    }\n",
       "\n",
       "    .dataframe thead th {\n",
       "        text-align: right;\n",
       "    }\n",
       "</style>\n",
       "<table border=\"1\" class=\"dataframe\">\n",
       "  <thead>\n",
       "    <tr style=\"text-align: right;\">\n",
       "      <th></th>\n",
       "      <th>일자</th>\n",
       "      <th>시간(1시간단위)</th>\n",
       "      <th>연령대(10세단위)</th>\n",
       "      <th>성별</th>\n",
       "      <th>군구</th>\n",
       "      <th>유동인구수</th>\n",
       "    </tr>\n",
       "  </thead>\n",
       "  <tbody>\n",
       "    <tr>\n",
       "      <th>0</th>\n",
       "      <td>20200401</td>\n",
       "      <td>0</td>\n",
       "      <td>20</td>\n",
       "      <td>남성</td>\n",
       "      <td>도봉구</td>\n",
       "      <td>21490</td>\n",
       "    </tr>\n",
       "    <tr>\n",
       "      <th>1</th>\n",
       "      <td>20200401</td>\n",
       "      <td>0</td>\n",
       "      <td>30</td>\n",
       "      <td>여성</td>\n",
       "      <td>동대문구</td>\n",
       "      <td>27260</td>\n",
       "    </tr>\n",
       "    <tr>\n",
       "      <th>2</th>\n",
       "      <td>20200401</td>\n",
       "      <td>0</td>\n",
       "      <td>50</td>\n",
       "      <td>남성</td>\n",
       "      <td>구로구</td>\n",
       "      <td>35670</td>\n",
       "    </tr>\n",
       "    <tr>\n",
       "      <th>3</th>\n",
       "      <td>20200401</td>\n",
       "      <td>1</td>\n",
       "      <td>30</td>\n",
       "      <td>여성</td>\n",
       "      <td>강남구</td>\n",
       "      <td>52380</td>\n",
       "    </tr>\n",
       "    <tr>\n",
       "      <th>4</th>\n",
       "      <td>20200401</td>\n",
       "      <td>1</td>\n",
       "      <td>40</td>\n",
       "      <td>남성</td>\n",
       "      <td>동대문구</td>\n",
       "      <td>28420</td>\n",
       "    </tr>\n",
       "  </tbody>\n",
       "</table>\n",
       "</div>"
      ],
      "text/plain": [
       "       일자  시간(1시간단위)  연령대(10세단위)  성별      군구  유동인구수\n",
       "0  20200401                0                20  남성    도봉구       21490\n",
       "1  20200401                0                30  여성  동대문구       27260\n",
       "2  20200401                0                50  남성    구로구       35670\n",
       "3  20200401                1                30  여성    강남구       52380\n",
       "4  20200401                1                40  남성  동대문구       28420"
      ]
     },
     "execution_count": 131,
     "metadata": {
      "tags": []
     },
     "output_type": "execute_result"
    }
   ],
   "source": [
    "df.head()"
   ]
  },
  {
   "cell_type": "code",
   "execution_count": 132,
   "metadata": {
    "colab": {
     "base_uri": "https://localhost:8080/"
    },
    "executionInfo": {
     "elapsed": 4,
     "status": "ok",
     "timestamp": 1622188640623,
     "user": {
      "displayName": "OuSeoung LEE",
      "photoUrl": "",
      "userId": "04718254206241101663"
     },
     "user_tz": -540
    },
    "id": "drXQhmv3x87Q",
    "outputId": "3832accc-5524-4c48-860e-400ee96f0dc9"
   },
   "outputs": [
    {
     "name": "stdout",
     "output_type": "stream",
     "text": [
      "<class 'pandas.core.frame.DataFrame'>\n",
      "RangeIndex: 216000 entries, 0 to 215999\n",
      "Data columns (total 6 columns):\n",
      " #   Column      Non-Null Count   Dtype \n",
      "---  ------      --------------   ----- \n",
      " 0   일자          216000 non-null  int64 \n",
      " 1   시간(1시간단위)   216000 non-null  int64 \n",
      " 2   연령대(10세단위)  216000 non-null  int64 \n",
      " 3   성별          216000 non-null  object\n",
      " 4   군구          216000 non-null  object\n",
      " 5   유동인구수       216000 non-null  int64 \n",
      "dtypes: int64(4), object(2)\n",
      "memory usage: 9.9+ MB\n"
     ]
    }
   ],
   "source": [
    "df.info()"
   ]
  },
  {
   "cell_type": "markdown",
   "metadata": {
    "id": "p51QFZzJx87Q"
   },
   "source": [
    "### 변수 이름 변경"
   ]
  },
  {
   "cell_type": "code",
   "execution_count": 133,
   "metadata": {
    "colab": {
     "base_uri": "https://localhost:8080/",
     "height": 204
    },
    "executionInfo": {
     "elapsed": 414,
     "status": "ok",
     "timestamp": 1622188643266,
     "user": {
      "displayName": "OuSeoung LEE",
      "photoUrl": "",
      "userId": "04718254206241101663"
     },
     "user_tz": -540
    },
    "id": "4cISph9Sx87R",
    "outputId": "5bbcd0e4-dd87-4e34-855e-0786d1031e72"
   },
   "outputs": [
    {
     "data": {
      "text/html": [
       "<div>\n",
       "<style scoped>\n",
       "    .dataframe tbody tr th:only-of-type {\n",
       "        vertical-align: middle;\n",
       "    }\n",
       "\n",
       "    .dataframe tbody tr th {\n",
       "        vertical-align: top;\n",
       "    }\n",
       "\n",
       "    .dataframe thead th {\n",
       "        text-align: right;\n",
       "    }\n",
       "</style>\n",
       "<table border=\"1\" class=\"dataframe\">\n",
       "  <thead>\n",
       "    <tr style=\"text-align: right;\">\n",
       "      <th></th>\n",
       "      <th>일자</th>\n",
       "      <th>단위시간</th>\n",
       "      <th>연령대</th>\n",
       "      <th>성별</th>\n",
       "      <th>구</th>\n",
       "      <th>유동인구수</th>\n",
       "    </tr>\n",
       "  </thead>\n",
       "  <tbody>\n",
       "    <tr>\n",
       "      <th>0</th>\n",
       "      <td>20200401</td>\n",
       "      <td>0</td>\n",
       "      <td>20</td>\n",
       "      <td>남성</td>\n",
       "      <td>도봉구</td>\n",
       "      <td>21490</td>\n",
       "    </tr>\n",
       "    <tr>\n",
       "      <th>1</th>\n",
       "      <td>20200401</td>\n",
       "      <td>0</td>\n",
       "      <td>30</td>\n",
       "      <td>여성</td>\n",
       "      <td>동대문구</td>\n",
       "      <td>27260</td>\n",
       "    </tr>\n",
       "    <tr>\n",
       "      <th>2</th>\n",
       "      <td>20200401</td>\n",
       "      <td>0</td>\n",
       "      <td>50</td>\n",
       "      <td>남성</td>\n",
       "      <td>구로구</td>\n",
       "      <td>35670</td>\n",
       "    </tr>\n",
       "    <tr>\n",
       "      <th>3</th>\n",
       "      <td>20200401</td>\n",
       "      <td>1</td>\n",
       "      <td>30</td>\n",
       "      <td>여성</td>\n",
       "      <td>강남구</td>\n",
       "      <td>52380</td>\n",
       "    </tr>\n",
       "    <tr>\n",
       "      <th>4</th>\n",
       "      <td>20200401</td>\n",
       "      <td>1</td>\n",
       "      <td>40</td>\n",
       "      <td>남성</td>\n",
       "      <td>동대문구</td>\n",
       "      <td>28420</td>\n",
       "    </tr>\n",
       "  </tbody>\n",
       "</table>\n",
       "</div>"
      ],
      "text/plain": [
       "       일자  단위시간  연령대  성별        구  유동인구수\n",
       "0  20200401         0      20  남성    도봉구       21490\n",
       "1  20200401         0      30  여성  동대문구       27260\n",
       "2  20200401         0      50  남성    구로구       35670\n",
       "3  20200401         1      30  여성    강남구       52380\n",
       "4  20200401         1      40  남성  동대문구       28420"
      ]
     },
     "execution_count": 133,
     "metadata": {
      "tags": []
     },
     "output_type": "execute_result"
    }
   ],
   "source": [
    "df.rename( columns = { '시간(1시간단위)': '단위시간', \n",
    "                       '연령대(10세단위)': '연령대',\n",
    "                       '군구': '구' }, inplace = True )\n",
    "df.head()"
   ]
  },
  {
   "cell_type": "code",
   "execution_count": 134,
   "metadata": {
    "colab": {
     "base_uri": "https://localhost:8080/"
    },
    "executionInfo": {
     "elapsed": 316,
     "status": "ok",
     "timestamp": 1622188646070,
     "user": {
      "displayName": "OuSeoung LEE",
      "photoUrl": "",
      "userId": "04718254206241101663"
     },
     "user_tz": -540
    },
    "id": "wnIYL7Cjx87R",
    "outputId": "4543acd2-dcc6-46d2-a2d5-b8770ed5d21b"
   },
   "outputs": [
    {
     "name": "stdout",
     "output_type": "stream",
     "text": [
      "<class 'pandas.core.frame.DataFrame'>\n",
      "RangeIndex: 216000 entries, 0 to 215999\n",
      "Data columns (total 6 columns):\n",
      " #   Column  Non-Null Count   Dtype \n",
      "---  ------  --------------   ----- \n",
      " 0   일자      216000 non-null  int64 \n",
      " 1   단위시간    216000 non-null  int64 \n",
      " 2   연령대     216000 non-null  int64 \n",
      " 3   성별      216000 non-null  object\n",
      " 4   구       216000 non-null  object\n",
      " 5   유동인구수   216000 non-null  int64 \n",
      "dtypes: int64(4), object(2)\n",
      "memory usage: 9.9+ MB\n"
     ]
    }
   ],
   "source": [
    "df.info()"
   ]
  },
  {
   "cell_type": "markdown",
   "metadata": {
    "id": "Yyqanubfx87R"
   },
   "source": [
    "### 타입 변환"
   ]
  },
  {
   "cell_type": "markdown",
   "metadata": {
    "id": "Tg_JCi4bx87R"
   },
   "source": [
    "#### 범주형 타입으로 변환"
   ]
  },
  {
   "cell_type": "code",
   "execution_count": 135,
   "metadata": {
    "executionInfo": {
     "elapsed": 363,
     "status": "ok",
     "timestamp": 1622188650065,
     "user": {
      "displayName": "OuSeoung LEE",
      "photoUrl": "",
      "userId": "04718254206241101663"
     },
     "user_tz": -540
    },
    "id": "rQHMalgPx87S"
   },
   "outputs": [],
   "source": [
    "df[ '단위시간' ] = df[ '단위시간' ].astype( 'category' )\n",
    "df[ '연령대' ] = df[ '연령대' ].astype( 'category' )\n",
    "df[ '성별' ] = df[ '성별' ].astype( 'category' )\n",
    "df[ '구' ] = df[ '구' ].astype( 'category' )"
   ]
  },
  {
   "cell_type": "code",
   "execution_count": 136,
   "metadata": {
    "colab": {
     "base_uri": "https://localhost:8080/"
    },
    "executionInfo": {
     "elapsed": 3,
     "status": "ok",
     "timestamp": 1622188651370,
     "user": {
      "displayName": "OuSeoung LEE",
      "photoUrl": "",
      "userId": "04718254206241101663"
     },
     "user_tz": -540
    },
    "id": "s6ECVNhNx87S",
    "outputId": "10480ad8-11fd-4d77-bc51-addce0f2c80b"
   },
   "outputs": [
    {
     "data": {
      "text/plain": [
       "0    0\n",
       "1    0\n",
       "2    0\n",
       "3    1\n",
       "4    1\n",
       "Name: 단위시간, dtype: category\n",
       "Categories (24, int64): [0, 1, 2, 3, ..., 20, 21, 22, 23]"
      ]
     },
     "execution_count": 136,
     "metadata": {
      "tags": []
     },
     "output_type": "execute_result"
    }
   ],
   "source": [
    "df[ '단위시간' ].head()"
   ]
  },
  {
   "cell_type": "code",
   "execution_count": 137,
   "metadata": {
    "colab": {
     "base_uri": "https://localhost:8080/"
    },
    "executionInfo": {
     "elapsed": 2,
     "status": "ok",
     "timestamp": 1622188651833,
     "user": {
      "displayName": "OuSeoung LEE",
      "photoUrl": "",
      "userId": "04718254206241101663"
     },
     "user_tz": -540
    },
    "id": "RILxmqeVx87S",
    "outputId": "e487d1e5-a721-43cc-e1e5-1dd5f1c6bfe7"
   },
   "outputs": [
    {
     "data": {
      "text/plain": [
       "0    남성\n",
       "1    여성\n",
       "2    남성\n",
       "3    여성\n",
       "4    남성\n",
       "Name: 성별, dtype: category\n",
       "Categories (2, object): ['남성', '여성']"
      ]
     },
     "execution_count": 137,
     "metadata": {
      "tags": []
     },
     "output_type": "execute_result"
    }
   ],
   "source": [
    "df[ '성별' ].head()"
   ]
  },
  {
   "cell_type": "code",
   "execution_count": 138,
   "metadata": {
    "colab": {
     "base_uri": "https://localhost:8080/"
    },
    "executionInfo": {
     "elapsed": 3,
     "status": "ok",
     "timestamp": 1622188652653,
     "user": {
      "displayName": "OuSeoung LEE",
      "photoUrl": "",
      "userId": "04718254206241101663"
     },
     "user_tz": -540
    },
    "id": "tHbi6xKtx87S",
    "outputId": "c31b8e84-6c76-4603-b08f-4fe910177fc1"
   },
   "outputs": [
    {
     "data": {
      "text/plain": [
       "0    20\n",
       "1    30\n",
       "2    50\n",
       "3    30\n",
       "4    40\n",
       "Name: 연령대, dtype: category\n",
       "Categories (6, int64): [20, 30, 40, 50, 60, 70]"
      ]
     },
     "execution_count": 138,
     "metadata": {
      "tags": []
     },
     "output_type": "execute_result"
    }
   ],
   "source": [
    "df[ '연령대' ].head()"
   ]
  },
  {
   "cell_type": "code",
   "execution_count": 139,
   "metadata": {
    "colab": {
     "base_uri": "https://localhost:8080/"
    },
    "executionInfo": {
     "elapsed": 3,
     "status": "ok",
     "timestamp": 1622188653183,
     "user": {
      "displayName": "OuSeoung LEE",
      "photoUrl": "",
      "userId": "04718254206241101663"
     },
     "user_tz": -540
    },
    "id": "_yuMGTb0x87T",
    "outputId": "0705398c-5383-4835-b0b3-05b9d5467917"
   },
   "outputs": [
    {
     "data": {
      "text/plain": [
       "0      도봉구\n",
       "1    동대문구\n",
       "2      구로구\n",
       "3      강남구\n",
       "4    동대문구\n",
       "Name: 구, dtype: category\n",
       "Categories (25, object): ['강남구', '강동구', '강북구', '강서구', ..., '은평구', '종로구', '중구', '중랑구']"
      ]
     },
     "execution_count": 139,
     "metadata": {
      "tags": []
     },
     "output_type": "execute_result"
    }
   ],
   "source": [
    "df[ '구' ].head()"
   ]
  },
  {
   "cell_type": "markdown",
   "metadata": {
    "id": "mbrRYhG_-V93"
   },
   "source": [
    "#### 정수형인 일자를 문자형으로 변환"
   ]
  },
  {
   "cell_type": "code",
   "execution_count": 140,
   "metadata": {
    "colab": {
     "base_uri": "https://localhost:8080/"
    },
    "executionInfo": {
     "elapsed": 283,
     "status": "ok",
     "timestamp": 1622188656658,
     "user": {
      "displayName": "OuSeoung LEE",
      "photoUrl": "",
      "userId": "04718254206241101663"
     },
     "user_tz": -540
    },
    "id": "6ZPpTi-8-Z_o",
    "outputId": "a6fa8ba5-f119-40af-cb79-5379d142dfa0"
   },
   "outputs": [
    {
     "data": {
      "text/plain": [
       "일자            object\n",
       "단위시간      category\n",
       "연령대        category\n",
       "성별          category\n",
       "구            category\n",
       "유동인구수       int64\n",
       "dtype: object"
      ]
     },
     "execution_count": 140,
     "metadata": {
      "tags": []
     },
     "output_type": "execute_result"
    }
   ],
   "source": [
    "df[ '일자' ] = df[ '일자' ].astype( 'str' )\n",
    "df.dtypes"
   ]
  },
  {
   "cell_type": "markdown",
   "metadata": {
    "id": "qPfmxABex87V"
   },
   "source": [
    "### 결측치 확인"
   ]
  },
  {
   "cell_type": "code",
   "execution_count": 141,
   "metadata": {
    "colab": {
     "base_uri": "https://localhost:8080/"
    },
    "executionInfo": {
     "elapsed": 511,
     "status": "ok",
     "timestamp": 1622188659381,
     "user": {
      "displayName": "OuSeoung LEE",
      "photoUrl": "",
      "userId": "04718254206241101663"
     },
     "user_tz": -540
    },
    "id": "Wi2JRFOHx87V",
    "outputId": "aed8fd52-4fbe-4ed4-f430-ecba92af4578"
   },
   "outputs": [
    {
     "data": {
      "text/plain": [
       "일자          0\n",
       "단위시간      0\n",
       "연령대        0\n",
       "성별          0\n",
       "구            0\n",
       "유동인구수    0\n",
       "dtype: int64"
      ]
     },
     "execution_count": 141,
     "metadata": {
      "tags": []
     },
     "output_type": "execute_result"
    }
   ],
   "source": [
    "df.isnull().sum( axis = 0 )"
   ]
  },
  {
   "cell_type": "markdown",
   "metadata": {
    "id": "6GTo3aJ0x87V"
   },
   "source": [
    "### 이상치 확인"
   ]
  },
  {
   "cell_type": "code",
   "execution_count": 142,
   "metadata": {
    "colab": {
     "base_uri": "https://localhost:8080/",
     "height": 302
    },
    "executionInfo": {
     "elapsed": 303,
     "status": "ok",
     "timestamp": 1622188661517,
     "user": {
      "displayName": "OuSeoung LEE",
      "photoUrl": "",
      "userId": "04718254206241101663"
     },
     "user_tz": -540
    },
    "id": "cETLzTIBx87V",
    "outputId": "6c66d614-61af-4e8e-b3bb-64d5443d9e5f"
   },
   "outputs": [
    {
     "data": {
      "text/plain": [
       "<matplotlib.axes._subplots.AxesSubplot at 0x7fca5d81c550>"
      ]
     },
     "execution_count": 142,
     "metadata": {
      "tags": []
     },
     "output_type": "execute_result"
    },
    {
     "data": {
      "image/png": "[encoded data removed]",
      "text/plain": [
       "<Figure size 432x288 with 1 Axes>"
      ]
     },
     "metadata": {
      "tags": []
     },
     "output_type": "display_data"
    }
   ],
   "source": [
    "sns.set_theme( style = 'ticks', palette = 'pastel' )\n",
    "\n",
    "sns.boxplot( x = df[ '유동인구수' ] )"
   ]
  },
  {
   "cell_type": "markdown",
   "metadata": {
    "id": "pUDy2suhx87W"
   },
   "source": [
    "- 이상치에 대한 처리가 의미없음"
   ]
  },
  {
   "cell_type": "markdown",
   "metadata": {
    "id": "p4FnU0yGx87W"
   },
   "source": [
    "## EDA"
   ]
  },
  {
   "cell_type": "markdown",
   "metadata": {
    "id": "N4I10C35x87W"
   },
   "source": [
    "###  조사기간"
   ]
  },
  {
   "cell_type": "code",
   "execution_count": 143,
   "metadata": {
    "colab": {
     "base_uri": "https://localhost:8080/"
    },
    "executionInfo": {
     "elapsed": 462,
     "status": "ok",
     "timestamp": 1622188665921,
     "user": {
      "displayName": "OuSeoung LEE",
      "photoUrl": "",
      "userId": "04718254206241101663"
     },
     "user_tz": -540
    },
    "id": "sGKyhDPDx87W",
    "outputId": "08342372-7f9b-4660-91fb-6d4ffeed2f4c"
   },
   "outputs": [
    {
     "name": "stdout",
     "output_type": "stream",
     "text": [
      "20200401\t\n",
      "20200402\t\n",
      "20200403\t\n",
      "20200404\t\n",
      "20200405\t\n",
      "20200406\t\n",
      "20200407\t\n",
      "20200408\t\n",
      "20200409\t\n",
      "20200410\t\n",
      "20200411\t\n",
      "20200412\t\n",
      "20200413\t\n",
      "20200414\t\n",
      "20200415\t\n",
      "20200416\t\n",
      "20200417\t\n",
      "20200418\t\n",
      "20200419\t\n",
      "20200420\t\n",
      "20200421\t\n",
      "20200422\t\n",
      "20200423\t\n",
      "20200424\t\n",
      "20200425\t\n",
      "20200426\t\n",
      "20200427\t\n",
      "20200428\t\n",
      "20200429\t\n",
      "20200430\t\n",
      "\n",
      "조사 기간 : 총30일\n"
     ]
    }
   ],
   "source": [
    "date_list = list( df.일자.unique() )\n",
    "for v in date_list:\n",
    "    print( f'{v}\\t' )\n",
    "print( f'\\n조사 기간 : 총{len( date_list)}일' )"
   ]
  },
  {
   "cell_type": "markdown",
   "metadata": {
    "id": "OdY_H28Xx87X"
   },
   "source": [
    "### 조사 시간대"
   ]
  },
  {
   "cell_type": "code",
   "execution_count": 144,
   "metadata": {
    "colab": {
     "base_uri": "https://localhost:8080/"
    },
    "executionInfo": {
     "elapsed": 397,
     "status": "ok",
     "timestamp": 1622188667972,
     "user": {
      "displayName": "OuSeoung LEE",
      "photoUrl": "",
      "userId": "04718254206241101663"
     },
     "user_tz": -540
    },
    "id": "TZK-KmSHx87X",
    "outputId": "12f1c0bd-3724-4ea5-a80f-e52e19e9b2af"
   },
   "outputs": [
    {
     "name": "stdout",
     "output_type": "stream",
     "text": [
      "0\t\n",
      "1\t\n",
      "2\t\n",
      "3\t\n",
      "4\t\n",
      "5\t\n",
      "6\t\n",
      "7\t\n",
      "8\t\n",
      "9\t\n",
      "10\t\n",
      "11\t\n",
      "12\t\n",
      "13\t\n",
      "14\t\n",
      "15\t\n",
      "16\t\n",
      "17\t\n",
      "18\t\n",
      "19\t\n",
      "20\t\n",
      "21\t\n",
      "22\t\n",
      "23\t\n",
      "\n",
      "조사 시간 : 총24시간\n"
     ]
    }
   ],
   "source": [
    "time_list = list( df.단위시간.unique() )\n",
    "time_list = sorted( time_list )\n",
    "for v in time_list:\n",
    "    print( f'{v}\\t' )\n",
    "print( f'\\n조사 시간 : 총{len( time_list )}시간' )"
   ]
  },
  {
   "cell_type": "markdown",
   "metadata": {
    "id": "aBDRBqeox87X"
   },
   "source": [
    "### 조사 성별"
   ]
  },
  {
   "cell_type": "code",
   "execution_count": 145,
   "metadata": {
    "colab": {
     "base_uri": "https://localhost:8080/"
    },
    "executionInfo": {
     "elapsed": 2,
     "status": "ok",
     "timestamp": 1622188669635,
     "user": {
      "displayName": "OuSeoung LEE",
      "photoUrl": "",
      "userId": "04718254206241101663"
     },
     "user_tz": -540
    },
    "id": "FE334BE3x87X",
    "outputId": "1173afd7-e447-40e5-fcc6-b8aa52c67709"
   },
   "outputs": [
    {
     "name": "stdout",
     "output_type": "stream",
     "text": [
      "남성\t\n",
      "여성\t\n",
      "\n",
      "조사 성별 : 2\n"
     ]
    }
   ],
   "source": [
    "gender_list = list( df.성별.unique() )\n",
    "for v in gender_list:\n",
    "    print( f'{v}\\t' )\n",
    "print( f'\\n조사 성별 : {len( gender_list )}' )"
   ]
  },
  {
   "cell_type": "markdown",
   "metadata": {
    "id": "MPyW50nUx87X"
   },
   "source": [
    "### 조사 연령"
   ]
  },
  {
   "cell_type": "code",
   "execution_count": 146,
   "metadata": {
    "colab": {
     "base_uri": "https://localhost:8080/"
    },
    "executionInfo": {
     "elapsed": 278,
     "status": "ok",
     "timestamp": 1622188671742,
     "user": {
      "displayName": "OuSeoung LEE",
      "photoUrl": "",
      "userId": "04718254206241101663"
     },
     "user_tz": -540
    },
    "id": "RtoQWSJ6x87Y",
    "outputId": "ed6b16c4-8e6c-4004-ec5f-b0b75746fbed"
   },
   "outputs": [
    {
     "name": "stdout",
     "output_type": "stream",
     "text": [
      "20\t\n",
      "30\t\n",
      "50\t\n",
      "40\t\n",
      "70\t\n",
      "60\t\n",
      "\n",
      "조사 연령대 : 6\n"
     ]
    }
   ],
   "source": [
    "age_list = list( df.연령대.unique() )\n",
    "for v in age_list:\n",
    "    print( f'{v}\\t' )\n",
    "print( f'\\n조사 연령대 : {len( age_list )}' )"
   ]
  },
  {
   "cell_type": "markdown",
   "metadata": {
    "id": "omHlC5-Rx87Y"
   },
   "source": [
    "### 조사 구"
   ]
  },
  {
   "cell_type": "code",
   "execution_count": 147,
   "metadata": {
    "colab": {
     "base_uri": "https://localhost:8080/"
    },
    "executionInfo": {
     "elapsed": 3,
     "status": "ok",
     "timestamp": 1622188673437,
     "user": {
      "displayName": "OuSeoung LEE",
      "photoUrl": "",
      "userId": "04718254206241101663"
     },
     "user_tz": -540
    },
    "id": "1YTmMA9-x87Y",
    "outputId": "f0d50cbf-e744-40b9-885f-2804d75e0640"
   },
   "outputs": [
    {
     "name": "stdout",
     "output_type": "stream",
     "text": [
      "도봉구\t\n",
      "동대문구\t\n",
      "구로구\t\n",
      "강남구\t\n",
      "성동구\t\n",
      "강서구\t\n",
      "금천구\t\n",
      "관악구\t\n",
      "중랑구\t\n",
      "강북구\t\n",
      "종로구\t\n",
      "영등포구\t\n",
      "용산구\t\n",
      "광진구\t\n",
      "노원구\t\n",
      "양천구\t\n",
      "중구\t\n",
      "마포구\t\n",
      "동작구\t\n",
      "서대문구\t\n",
      "송파구\t\n",
      "은평구\t\n",
      "강동구\t\n",
      "서초구\t\n",
      "성북구\t\n",
      "\n",
      "조사 구 : 총25개구\n"
     ]
    }
   ],
   "source": [
    "gu_list = list( df.구.unique() )\n",
    "for v in gu_list:\n",
    "    print( f'{v}\\t' )\n",
    "print( f'\\n조사 구 : 총{len( gu_list )}개구' )"
   ]
  },
  {
   "cell_type": "markdown",
   "metadata": {
    "id": "apCj1Zp6x87Y"
   },
   "source": [
    "### EDA를 위한 사용자 정의 함수"
   ]
  },
  {
   "cell_type": "code",
   "execution_count": 148,
   "metadata": {
    "executionInfo": {
     "elapsed": 282,
     "status": "ok",
     "timestamp": 1622188675649,
     "user": {
      "displayName": "OuSeoung LEE",
      "photoUrl": "",
      "userId": "04718254206241101663"
     },
     "user_tz": -540
    },
    "id": "cIh1Z1zAx87Z"
   },
   "outputs": [],
   "source": [
    "#********************************\n",
    "# 특정 변수 내용에 대한 집계함수\n",
    "#\n",
    "# 인수 : list, 변수\n",
    "# return : Series 객체\n",
    "#********************************\n",
    "def func_aggregate( l, v ):\n",
    "    population = []\n",
    "    for i in range( len( l ) ):\n",
    "        mask = l[ i ] == v\n",
    "        result = df.loc[ mask ]\n",
    "        population.append( result.유동인구수.sum() )\n",
    "\n",
    "    s = pd.Series( population, index = l )\n",
    "    \n",
    "    return s"
   ]
  },
  {
   "cell_type": "markdown",
   "metadata": {
    "id": "0rRX-N_Hx87Z"
   },
   "source": [
    "## 유동인구 요약 통계"
   ]
  },
  {
   "cell_type": "code",
   "execution_count": 149,
   "metadata": {
    "colab": {
     "base_uri": "https://localhost:8080/",
     "height": 297
    },
    "executionInfo": {
     "elapsed": 411,
     "status": "ok",
     "timestamp": 1622188678715,
     "user": {
      "displayName": "OuSeoung LEE",
      "photoUrl": "",
      "userId": "04718254206241101663"
     },
     "user_tz": -540
    },
    "id": "zqQ1pZpwx87Z",
    "outputId": "3fc0a228-9e1d-4aea-c6b2-73e0791d4ea5"
   },
   "outputs": [
    {
     "data": {
      "text/html": [
       "<div>\n",
       "<style scoped>\n",
       "    .dataframe tbody tr th:only-of-type {\n",
       "        vertical-align: middle;\n",
       "    }\n",
       "\n",
       "    .dataframe tbody tr th {\n",
       "        vertical-align: top;\n",
       "    }\n",
       "\n",
       "    .dataframe thead th {\n",
       "        text-align: right;\n",
       "    }\n",
       "</style>\n",
       "<table border=\"1\" class=\"dataframe\">\n",
       "  <thead>\n",
       "    <tr style=\"text-align: right;\">\n",
       "      <th></th>\n",
       "      <th>유동인구수</th>\n",
       "    </tr>\n",
       "  </thead>\n",
       "  <tbody>\n",
       "    <tr>\n",
       "      <th>count</th>\n",
       "      <td>216000.00</td>\n",
       "    </tr>\n",
       "    <tr>\n",
       "      <th>mean</th>\n",
       "      <td>27267.77</td>\n",
       "    </tr>\n",
       "    <tr>\n",
       "      <th>std</th>\n",
       "      <td>12480.43</td>\n",
       "    </tr>\n",
       "    <tr>\n",
       "      <th>min</th>\n",
       "      <td>4380.00</td>\n",
       "    </tr>\n",
       "    <tr>\n",
       "      <th>25%</th>\n",
       "      <td>18070.00</td>\n",
       "    </tr>\n",
       "    <tr>\n",
       "      <th>50%</th>\n",
       "      <td>25470.00</td>\n",
       "    </tr>\n",
       "    <tr>\n",
       "      <th>75%</th>\n",
       "      <td>34090.00</td>\n",
       "    </tr>\n",
       "    <tr>\n",
       "      <th>max</th>\n",
       "      <td>120640.00</td>\n",
       "    </tr>\n",
       "  </tbody>\n",
       "</table>\n",
       "</div>"
      ],
      "text/plain": [
       "       유동인구수\n",
       "count   216000.00\n",
       "mean     27267.77\n",
       "std      12480.43\n",
       "min       4380.00\n",
       "25%      18070.00\n",
       "50%      25470.00\n",
       "75%      34090.00\n",
       "max     120640.00"
      ]
     },
     "execution_count": 149,
     "metadata": {
      "tags": []
     },
     "output_type": "execute_result"
    }
   ],
   "source": [
    "df.describe().round( 2 )"
   ]
  },
  {
   "cell_type": "markdown",
   "metadata": {
    "id": "ddiyptb2x87Z"
   },
   "source": [
    "### 2004년 4월 서울시 평균 유동 인구수"
   ]
  },
  {
   "cell_type": "code",
   "execution_count": 150,
   "metadata": {
    "colab": {
     "base_uri": "https://localhost:8080/"
    },
    "executionInfo": {
     "elapsed": 380,
     "status": "ok",
     "timestamp": 1622193262397,
     "user": {
      "displayName": "OuSeoung LEE",
      "photoUrl": "",
      "userId": "04718254206241101663"
     },
     "user_tz": -540
    },
    "id": "u7avlW7Bx87Z",
    "outputId": "0758d619-9938-4368-cbaf-97eb05ce756e"
   },
   "outputs": [
    {
     "name": "stdout",
     "output_type": "stream",
     "text": [
      "2004년 4월 서울시 평균 유동 인구수 : 27267.77명\n"
     ]
    }
   ],
   "source": [
    "print( f'2004년 4월 서울시 평균 유동 인구수 : {round( df.유동인구수.mean(), 2 )}명' )"
   ]
  },
  {
   "cell_type": "markdown",
   "metadata": {
    "id": "da7lLoQqx87a"
   },
   "source": [
    "### 2004년 4월중 가장 유동 인구수가 많은 날"
   ]
  },
  {
   "cell_type": "code",
   "execution_count": 151,
   "metadata": {
    "colab": {
     "base_uri": "https://localhost:8080/"
    },
    "executionInfo": {
     "elapsed": 953,
     "status": "ok",
     "timestamp": 1622193265327,
     "user": {
      "displayName": "OuSeoung LEE",
      "photoUrl": "",
      "userId": "04718254206241101663"
     },
     "user_tz": -540
    },
    "id": "yrSY9pCfx87a",
    "outputId": "8e0683d3-fc99-4aec-f60f-2f33b56a634a"
   },
   "outputs": [
    {
     "name": "stdout",
     "output_type": "stream",
     "text": [
      "[ 2020/04/01 ] 총 유동인구는 : 200208500명\n"
     ]
    }
   ],
   "source": [
    "date_s = func_aggregate( date_list, df.일자 )\n",
    "daily_max = date_s.max()\n",
    "date = date_s.index[ date_s.argmax() ]\n",
    "print( f'[ {date[ :4 ]}/{date[ 4:6 ]}/{date[ 6: ]} ] 총 유동인구는 : {daily_max:8d}명' )"
   ]
  },
  {
   "cell_type": "markdown",
   "metadata": {
    "id": "grqFXcDox87a"
   },
   "source": [
    "### 2004년 4월 서울시 일 최대 유동 날짜, 지역, 유동 인구수"
   ]
  },
  {
   "cell_type": "code",
   "execution_count": 152,
   "metadata": {
    "colab": {
     "base_uri": "https://localhost:8080/"
    },
    "executionInfo": {
     "elapsed": 616,
     "status": "ok",
     "timestamp": 1622193271510,
     "user": {
      "displayName": "OuSeoung LEE",
      "photoUrl": "",
      "userId": "04718254206241101663"
     },
     "user_tz": -540
    },
    "id": "HBmsA45hx87a",
    "outputId": "19120ab3-88a8-4dc4-8e60-6de93dbe3704"
   },
   "outputs": [
    {
     "name": "stdout",
     "output_type": "stream",
     "text": [
      "2004년 4월 서울시 일 최대 유동인구수 : 120640명\n"
     ]
    }
   ],
   "source": [
    "max_population = df.유동인구수.max()\n",
    "print( f'2004년 4월 서울시 일 최대 유동인구수 : {round( max_population, 2 )}명' )"
   ]
  },
  {
   "cell_type": "code",
   "execution_count": 153,
   "metadata": {
    "colab": {
     "base_uri": "https://localhost:8080/",
     "height": 80
    },
    "executionInfo": {
     "elapsed": 6,
     "status": "ok",
     "timestamp": 1622193272644,
     "user": {
      "displayName": "OuSeoung LEE",
      "photoUrl": "",
      "userId": "04718254206241101663"
     },
     "user_tz": -540
    },
    "id": "jEXPIPBvx87b",
    "outputId": "076ba134-8f97-4e32-fe18-0320853a1ddc"
   },
   "outputs": [
    {
     "data": {
      "text/html": [
       "<div>\n",
       "<style scoped>\n",
       "    .dataframe tbody tr th:only-of-type {\n",
       "        vertical-align: middle;\n",
       "    }\n",
       "\n",
       "    .dataframe tbody tr th {\n",
       "        vertical-align: top;\n",
       "    }\n",
       "\n",
       "    .dataframe thead th {\n",
       "        text-align: right;\n",
       "    }\n",
       "</style>\n",
       "<table border=\"1\" class=\"dataframe\">\n",
       "  <thead>\n",
       "    <tr style=\"text-align: right;\">\n",
       "      <th></th>\n",
       "      <th>일자</th>\n",
       "      <th>단위시간</th>\n",
       "      <th>연령대</th>\n",
       "      <th>성별</th>\n",
       "      <th>구</th>\n",
       "      <th>유동인구수</th>\n",
       "    </tr>\n",
       "  </thead>\n",
       "  <tbody>\n",
       "    <tr>\n",
       "      <th>98155</th>\n",
       "      <td>20200428</td>\n",
       "      <td>14</td>\n",
       "      <td>30</td>\n",
       "      <td>여성</td>\n",
       "      <td>강남구</td>\n",
       "      <td>120640</td>\n",
       "    </tr>\n",
       "  </tbody>\n",
       "</table>\n",
       "</div>"
      ],
      "text/plain": [
       "           일자 단위시간 연령대  성별      구  유동인구수\n",
       "98155  20200428       14     30  여성  강남구      120640"
      ]
     },
     "execution_count": 153,
     "metadata": {
      "tags": []
     },
     "output_type": "execute_result"
    }
   ],
   "source": [
    "df[ df.유동인구수 >= max_population ]"
   ]
  },
  {
   "cell_type": "markdown",
   "metadata": {
    "id": "dRa29D6Zx87b"
   },
   "source": [
    "### 2004년 4월중 가장 유동 인구수가 적은 날"
   ]
  },
  {
   "cell_type": "code",
   "execution_count": 154,
   "metadata": {
    "colab": {
     "base_uri": "https://localhost:8080/"
    },
    "executionInfo": {
     "elapsed": 284,
     "status": "ok",
     "timestamp": 1622193277960,
     "user": {
      "displayName": "OuSeoung LEE",
      "photoUrl": "",
      "userId": "04718254206241101663"
     },
     "user_tz": -540
    },
    "id": "7NJUTSsfx87b",
    "outputId": "0ded1a30-ef17-4614-cfe9-e7b6ba279809"
   },
   "outputs": [
    {
     "name": "stdout",
     "output_type": "stream",
     "text": [
      "[ 2020/04/30 ] 총 유동인구는 : 186668960명\n"
     ]
    }
   ],
   "source": [
    "daily_min = date_s.min()\n",
    "date = date_s.index[ date_s.argmin() ]\n",
    "print( f'[ {date[ :4 ]}/{date[ 4:6 ]}/{date[ 6: ]} ] 총 유동인구는 : {daily_min:8d}명' )"
   ]
  },
  {
   "cell_type": "markdown",
   "metadata": {
    "id": "g9XVuupFx87b"
   },
   "source": [
    "### 2004년 4월 서울시 일 최소 유동 날짜, 지역, 유동 인구수"
   ]
  },
  {
   "cell_type": "code",
   "execution_count": 155,
   "metadata": {
    "colab": {
     "base_uri": "https://localhost:8080/"
    },
    "executionInfo": {
     "elapsed": 269,
     "status": "ok",
     "timestamp": 1622193280962,
     "user": {
      "displayName": "OuSeoung LEE",
      "photoUrl": "",
      "userId": "04718254206241101663"
     },
     "user_tz": -540
    },
    "id": "rqrhUOo1x87b",
    "outputId": "81aa38bd-95ee-4928-f8a1-726e56ea6809"
   },
   "outputs": [
    {
     "name": "stdout",
     "output_type": "stream",
     "text": [
      "2004년 4월 서울시 일 최소 유동인구수 : 4380명\n"
     ]
    }
   ],
   "source": [
    "min_population = df.유동인구수.min()\n",
    "print( f'2004년 4월 서울시 일 최소 유동인구수 : {round( min_population, 2 )}명' )"
   ]
  },
  {
   "cell_type": "code",
   "execution_count": 156,
   "metadata": {
    "colab": {
     "base_uri": "https://localhost:8080/",
     "height": 80
    },
    "executionInfo": {
     "elapsed": 872,
     "status": "ok",
     "timestamp": 1622193310243,
     "user": {
      "displayName": "OuSeoung LEE",
      "photoUrl": "",
      "userId": "04718254206241101663"
     },
     "user_tz": -540
    },
    "id": "k9kVmYl5x87c",
    "outputId": "1bd50b57-68de-4a8b-9e1b-b4ea021f7fd9"
   },
   "outputs": [
    {
     "data": {
      "text/html": [
       "<div>\n",
       "<style scoped>\n",
       "    .dataframe tbody tr th:only-of-type {\n",
       "        vertical-align: middle;\n",
       "    }\n",
       "\n",
       "    .dataframe tbody tr th {\n",
       "        vertical-align: top;\n",
       "    }\n",
       "\n",
       "    .dataframe thead th {\n",
       "        text-align: right;\n",
       "    }\n",
       "</style>\n",
       "<table border=\"1\" class=\"dataframe\">\n",
       "  <thead>\n",
       "    <tr style=\"text-align: right;\">\n",
       "      <th></th>\n",
       "      <th>일자</th>\n",
       "      <th>단위시간</th>\n",
       "      <th>연령대</th>\n",
       "      <th>성별</th>\n",
       "      <th>구</th>\n",
       "      <th>유동인구수</th>\n",
       "    </tr>\n",
       "  </thead>\n",
       "  <tbody>\n",
       "    <tr>\n",
       "      <th>82486</th>\n",
       "      <td>20200426</td>\n",
       "      <td>3</td>\n",
       "      <td>70</td>\n",
       "      <td>남성</td>\n",
       "      <td>중구</td>\n",
       "      <td>4380</td>\n",
       "    </tr>\n",
       "  </tbody>\n",
       "</table>\n",
       "</div>"
      ],
      "text/plain": [
       "           일자 단위시간 연령대  성별    구  유동인구수\n",
       "82486  20200426        3     70  남성  중구        4380"
      ]
     },
     "execution_count": 156,
     "metadata": {
      "tags": []
     },
     "output_type": "execute_result"
    }
   ],
   "source": [
    "df[ df.유동인구수 <= min_population ]"
   ]
  },
  {
   "cell_type": "markdown",
   "metadata": {
    "id": "rrQgP2gAx87c"
   },
   "source": [
    "### 2004년 4월 일자별 유동인구수"
   ]
  },
  {
   "cell_type": "code",
   "execution_count": 157,
   "metadata": {
    "colab": {
     "base_uri": "https://localhost:8080/"
    },
    "executionInfo": {
     "elapsed": 303,
     "status": "ok",
     "timestamp": 1622193314540,
     "user": {
      "displayName": "OuSeoung LEE",
      "photoUrl": "",
      "userId": "04718254206241101663"
     },
     "user_tz": -540
    },
    "id": "LL7vxTIrx87c",
    "outputId": "cab39f95-c75d-4a37-98d2-9652f2eb1b88"
   },
   "outputs": [
    {
     "name": "stdout",
     "output_type": "stream",
     "text": [
      "[ 2020/04/01 ] 총 유동인구는 : 200208500명\n",
      "[ 2020/04/02 ] 총 유동인구는 : 199791200명\n",
      "[ 2020/04/03 ] 총 유동인구는 : 199136720명\n",
      "[ 2020/04/04 ] 총 유동인구는 : 191161060명\n",
      "[ 2020/04/05 ] 총 유동인구는 : 189696320명\n",
      "[ 2020/04/06 ] 총 유동인구는 : 199919630명\n",
      "[ 2020/04/07 ] 총 유동인구는 : 199803760명\n",
      "[ 2020/04/08 ] 총 유동인구는 : 199655110명\n",
      "[ 2020/04/09 ] 총 유동인구는 : 199541470명\n",
      "[ 2020/04/10 ] 총 유동인구는 : 199091080명\n",
      "[ 2020/04/11 ] 총 유동인구는 : 191032010명\n",
      "[ 2020/04/12 ] 총 유동인구는 : 189643560명\n",
      "[ 2020/04/13 ] 총 유동인구는 : 199241850명\n",
      "[ 2020/04/14 ] 총 유동인구는 : 199278710명\n",
      "[ 2020/04/15 ] 총 유동인구는 : 192381520명\n",
      "[ 2020/04/16 ] 총 유동인구는 : 199059920명\n",
      "[ 2020/04/17 ] 총 유동인구는 : 199406670명\n",
      "[ 2020/04/18 ] 총 유동인구는 : 190872120명\n",
      "[ 2020/04/19 ] 총 유동인구는 : 189951850명\n",
      "[ 2020/04/20 ] 총 유동인구는 : 199629090명\n",
      "[ 2020/04/21 ] 총 유동인구는 : 199479870명\n",
      "[ 2020/04/22 ] 총 유동인구는 : 199512800명\n",
      "[ 2020/04/23 ] 총 유동인구는 : 199370110명\n",
      "[ 2020/04/24 ] 총 유동인구는 : 199139940명\n",
      "[ 2020/04/25 ] 총 유동인구는 : 191227460명\n",
      "[ 2020/04/26 ] 총 유동인구는 : 189159070명\n",
      "[ 2020/04/27 ] 총 유동인구는 : 199196700명\n",
      "[ 2020/04/28 ] 총 유동인구는 : 199080570명\n",
      "[ 2020/04/29 ] 총 유동인구는 : 198499910명\n",
      "[ 2020/04/30 ] 총 유동인구는 : 186668960명\n"
     ]
    }
   ],
   "source": [
    "for date in date_list:\n",
    "    print( f'[ {date[:4]}/{date[ 4:6 ]}/{date[ 6: ]} ] 총 유동인구는 : {date_s[ date ]:8d}명' )"
   ]
  },
  {
   "cell_type": "code",
   "execution_count": 158,
   "metadata": {
    "colab": {
     "base_uri": "https://localhost:8080/",
     "height": 539
    },
    "executionInfo": {
     "elapsed": 934,
     "status": "ok",
     "timestamp": 1622193321367,
     "user": {
      "displayName": "OuSeoung LEE",
      "photoUrl": "",
      "userId": "04718254206241101663"
     },
     "user_tz": -540
    },
    "id": "7p5gr5irx87c",
    "outputId": "93077221-1e91-4365-8fc8-e69640cf695d"
   },
   "outputs": [
    {
     "data": {
      "image/png": "[encoded data removed]",
      "text/plain": [
       "<Figure size 1440x576 with 1 Axes>"
      ]
     },
     "metadata": {
      "tags": []
     },
     "output_type": "display_data"
    }
   ],
   "source": [
    "sns.set_theme( style = 'whitegrid' )\n",
    "\n",
    "ax = date_s.plot( kind = 'bar', figsize = ( 20, 8 ) )\n",
    "ax.set_xticklabels( date_s.index, rotation = 60 )\n",
    "\n",
    "plt.show()"
   ]
  },
  {
   "cell_type": "markdown",
   "metadata": {
    "id": "s_rJamz8x87d"
   },
   "source": [
    "### 2004년 4월 성별 유동인구수"
   ]
  },
  {
   "cell_type": "code",
   "execution_count": 51,
   "metadata": {
    "colab": {
     "base_uri": "https://localhost:8080/"
    },
    "executionInfo": {
     "elapsed": 281,
     "status": "ok",
     "timestamp": 1622172630475,
     "user": {
      "displayName": "OuSeoung LEE",
      "photoUrl": "",
      "userId": "04718254206241101663"
     },
     "user_tz": -540
    },
    "id": "EmQ8ZIy3x87d",
    "outputId": "f283a197-f0f3-4503-bc3d-48853e57844d"
   },
   "outputs": [
    {
     "name": "stdout",
     "output_type": "stream",
     "text": [
      "[ 남성 ] 총 유동인구는 : 2851648900명\n",
      "[ 여성 ] 총 유동인구는 : 3038188640명\n"
     ]
    }
   ],
   "source": [
    "gender_s = func_aggregate( gender_list, df.성별 )\n",
    "\n",
    "for gender in gender_list:\n",
    "    print( f'[ {gender} ] 총 유동인구는 : {gender_s[ gender ]:8d}명'  )"
   ]
  },
  {
   "cell_type": "code",
   "execution_count": 53,
   "metadata": {
    "colab": {
     "base_uri": "https://localhost:8080/",
     "height": 340
    },
    "executionInfo": {
     "elapsed": 316,
     "status": "ok",
     "timestamp": 1622172672712,
     "user": {
      "displayName": "OuSeoung LEE",
      "photoUrl": "",
      "userId": "04718254206241101663"
     },
     "user_tz": -540
    },
    "id": "hrMbDRoAx87d",
    "outputId": "e6dbda04-4a10-4808-e172-adbe6b99574b"
   },
   "outputs": [
    {
     "data": {
      "image/png": "[encoded data removed]",
      "text/plain": [
       "<Figure size 720x360 with 1 Axes>"
      ]
     },
     "metadata": {
      "tags": []
     },
     "output_type": "display_data"
    }
   ],
   "source": [
    "sns.set_theme( style = 'whitegrid' )\n",
    "\n",
    "ax = gender_s.plot( kind = 'bar', figsize = ( 10, 5 ) )\n",
    "ax.set_xticklabels( gender_s.index, rotation = 60 )\n",
    "\n",
    "plt.show()"
   ]
  },
  {
   "cell_type": "markdown",
   "metadata": {
    "id": "KU5GXTw2x87e"
   },
   "source": [
    "### 2004년 4월 연령별 유동인구수"
   ]
  },
  {
   "cell_type": "code",
   "execution_count": 54,
   "metadata": {
    "colab": {
     "base_uri": "https://localhost:8080/"
    },
    "executionInfo": {
     "elapsed": 282,
     "status": "ok",
     "timestamp": 1622172709306,
     "user": {
      "displayName": "OuSeoung LEE",
      "photoUrl": "",
      "userId": "04718254206241101663"
     },
     "user_tz": -540
    },
    "id": "8pSVsPCcx87e",
    "outputId": "ce982343-231f-4fa7-f0f2-ef5c33e1e924"
   },
   "outputs": [
    {
     "name": "stdout",
     "output_type": "stream",
     "text": [
      "[ 20 ] 총 유동인구는 : 1089342970명\n",
      "[ 30 ] 총 유동인구는 : 1211368990명\n",
      "[ 50 ] 총 유동인구는 : 1124325220명\n",
      "[ 40 ] 총 유동인구는 : 1204134560명\n",
      "[ 70 ] 총 유동인구는 : 542005390명\n",
      "[ 60 ] 총 유동인구는 : 718660410명\n"
     ]
    }
   ],
   "source": [
    "age_s = func_aggregate( age_list, df.연령대 )\n",
    "\n",
    "for age in age_list:\n",
    "    print( f'[ {age} ] 총 유동인구는 : {age_s[ age ]:8d}명' )"
   ]
  },
  {
   "cell_type": "code",
   "execution_count": 56,
   "metadata": {
    "colab": {
     "base_uri": "https://localhost:8080/",
     "height": 333
    },
    "executionInfo": {
     "elapsed": 303,
     "status": "ok",
     "timestamp": 1622172733799,
     "user": {
      "displayName": "OuSeoung LEE",
      "photoUrl": "",
      "userId": "04718254206241101663"
     },
     "user_tz": -540
    },
    "id": "Irt8OQLHx87e",
    "outputId": "83040030-f470-4b2f-ebd2-54987a933ea7"
   },
   "outputs": [
    {
     "data": {
      "image/png": "[encoded data removed]",
      "text/plain": [
       "<Figure size 1080x360 with 1 Axes>"
      ]
     },
     "metadata": {
      "tags": []
     },
     "output_type": "display_data"
    }
   ],
   "source": [
    "sns.set_theme( style = 'whitegrid' )\n",
    "\n",
    "ax = age_s.plot( kind = 'bar', figsize = ( 15, 5 ) )\n",
    "ax.set_xticklabels( age_s.index, rotation = 0 )\n",
    "\n",
    "plt.show()"
   ]
  },
  {
   "cell_type": "markdown",
   "metadata": {
    "id": "7gX1ax2-x87e"
   },
   "source": [
    "### 2004년 4월 가장 유동인구가 많은 연령대"
   ]
  },
  {
   "cell_type": "code",
   "execution_count": 57,
   "metadata": {
    "colab": {
     "base_uri": "https://localhost:8080/"
    },
    "executionInfo": {
     "elapsed": 280,
     "status": "ok",
     "timestamp": 1622172757103,
     "user": {
      "displayName": "OuSeoung LEE",
      "photoUrl": "",
      "userId": "04718254206241101663"
     },
     "user_tz": -540
    },
    "id": "uZ2jARTMx87e",
    "outputId": "700a8846-19fa-4ddb-82ec-af6da2e02f9a"
   },
   "outputs": [
    {
     "name": "stdout",
     "output_type": "stream",
     "text": [
      "[ 30대 ] 총 유동인구는 : 1211368990명\n"
     ]
    }
   ],
   "source": [
    "age_max = age_s.idxmax()\n",
    "print( f'[ {age_max}대 ] 총 유동인구는 : {age_s[ age_max ]:8d}명' )"
   ]
  },
  {
   "cell_type": "markdown",
   "metadata": {
    "id": "-cvoKqb0x87f"
   },
   "source": [
    "### 2004년 4월 가장 유동인구가 적은 연령대"
   ]
  },
  {
   "cell_type": "code",
   "execution_count": 58,
   "metadata": {
    "colab": {
     "base_uri": "https://localhost:8080/"
    },
    "executionInfo": {
     "elapsed": 430,
     "status": "ok",
     "timestamp": 1622172780329,
     "user": {
      "displayName": "OuSeoung LEE",
      "photoUrl": "",
      "userId": "04718254206241101663"
     },
     "user_tz": -540
    },
    "id": "jtE2kE8Ux87f",
    "outputId": "e9f0d0bb-95b3-4b53-d4cb-0d53f3ff7c4e"
   },
   "outputs": [
    {
     "name": "stdout",
     "output_type": "stream",
     "text": [
      "[ 70대 ] 총 유동인구는 : 542005390명\n"
     ]
    }
   ],
   "source": [
    "age_min = age_s.idxmin()\n",
    "print( f'[ {age_min}대 ] 총 유동인구는 : {age_s[ age_min ]:8d}명' )"
   ]
  },
  {
   "cell_type": "markdown",
   "metadata": {
    "id": "T2P0Rykyx87f"
   },
   "source": [
    "### 2004년 4월 시간대별 유동인구수"
   ]
  },
  {
   "cell_type": "code",
   "execution_count": 59,
   "metadata": {
    "colab": {
     "base_uri": "https://localhost:8080/"
    },
    "executionInfo": {
     "elapsed": 287,
     "status": "ok",
     "timestamp": 1622172801195,
     "user": {
      "displayName": "OuSeoung LEE",
      "photoUrl": "",
      "userId": "04718254206241101663"
     },
     "user_tz": -540
    },
    "id": "KB1eqD8Gx87f",
    "outputId": "1a75b985-3515-4077-8825-bf84eca9f30c"
   },
   "outputs": [
    {
     "name": "stdout",
     "output_type": "stream",
     "text": [
      "[ 0 시간대 ] 총 유동인구는 : 242193630명\n",
      "[ 1 시간대 ] 총 유동인구는 : 241777860명\n",
      "[ 2 시간대 ] 총 유동인구는 : 241293460명\n",
      "[ 3 시간대 ] 총 유동인구는 : 240629800명\n",
      "[ 4 시간대 ] 총 유동인구는 : 240087530명\n",
      "[ 5 시간대 ] 총 유동인구는 : 239669270명\n",
      "[ 6 시간대 ] 총 유동인구는 : 240212130명\n",
      "[ 7 시간대 ] 총 유동인구는 : 243316690명\n",
      "[ 8 시간대 ] 총 유동인구는 : 247004130명\n",
      "[ 9 시간대 ] 총 유동인구는 : 248900070명\n",
      "[ 10 시간대 ] 총 유동인구는 : 249127080명\n",
      "[ 11 시간대 ] 총 유동인구는 : 248619210명\n",
      "[ 12 시간대 ] 총 유동인구는 : 248505400명\n",
      "[ 13 시간대 ] 총 유동인구는 : 248750400명\n",
      "[ 14 시간대 ] 총 유동인구는 : 249091620명\n",
      "[ 15 시간대 ] 총 유동인구는 : 249459470명\n",
      "[ 16 시간대 ] 총 유동인구는 : 249842610명\n",
      "[ 17 시간대 ] 총 유동인구는 : 249994940명\n",
      "[ 18 시간대 ] 총 유동인구는 : 248587220명\n",
      "[ 19 시간대 ] 총 유동인구는 : 246613060명\n",
      "[ 20 시간대 ] 총 유동인구는 : 245624290명\n",
      "[ 21 시간대 ] 총 유동인구는 : 244744910명\n",
      "[ 22 시간대 ] 총 유동인구는 : 243447240명\n",
      "[ 23 시간대 ] 총 유동인구는 : 242345520명\n"
     ]
    }
   ],
   "source": [
    "time_s = func_aggregate( time_list, df.단위시간 )\n",
    "\n",
    "for time in time_list:\n",
    "    print( f'[ {time} 시간대 ] 총 유동인구는 : {time_s[ time ]:8d}명' )"
   ]
  },
  {
   "cell_type": "code",
   "execution_count": 61,
   "metadata": {
    "colab": {
     "base_uri": "https://localhost:8080/",
     "height": 496
    },
    "executionInfo": {
     "elapsed": 759,
     "status": "ok",
     "timestamp": 1622172825921,
     "user": {
      "displayName": "OuSeoung LEE",
      "photoUrl": "",
      "userId": "04718254206241101663"
     },
     "user_tz": -540
    },
    "id": "VSqKElQXx87g",
    "outputId": "667ea766-189a-40a1-cc91-317732d29ef2"
   },
   "outputs": [
    {
     "data": {
      "image/png": "[encoded data removed]",
      "text/plain": [
       "<Figure size 1440x576 with 1 Axes>"
      ]
     },
     "metadata": {
      "tags": []
     },
     "output_type": "display_data"
    }
   ],
   "source": [
    "sns.set_theme( style = 'whitegrid' )\n",
    "\n",
    "ax = time_s.plot( kind = 'bar', figsize = ( 20, 8 ) )\n",
    "ax.set_xticklabels( time_s.index, rotation = 0 )\n",
    "\n",
    "plt.show()"
   ]
  },
  {
   "cell_type": "markdown",
   "metadata": {
    "id": "WrUZmcGjx87g"
   },
   "source": [
    "### 2004년 4월 가장 유동인구가 많은 시간대"
   ]
  },
  {
   "cell_type": "code",
   "execution_count": 62,
   "metadata": {
    "colab": {
     "base_uri": "https://localhost:8080/"
    },
    "executionInfo": {
     "elapsed": 286,
     "status": "ok",
     "timestamp": 1622172847961,
     "user": {
      "displayName": "OuSeoung LEE",
      "photoUrl": "",
      "userId": "04718254206241101663"
     },
     "user_tz": -540
    },
    "id": "qKWlVrhSx87g",
    "outputId": "a8d72271-e978-4d27-ab13-b15c1b994a33"
   },
   "outputs": [
    {
     "name": "stdout",
     "output_type": "stream",
     "text": [
      "[ 17 시간대 ] 총 유동인구는 : 249994940명\n"
     ]
    }
   ],
   "source": [
    "time_max = time_s.idxmax()\n",
    "print( f'[ {time_max} 시간대 ] 총 유동인구는 : {time_s[ time_max]:8d}명' )"
   ]
  },
  {
   "cell_type": "markdown",
   "metadata": {
    "id": "eJWUVGtGx87g"
   },
   "source": [
    "### 2004년 4월 가장 유동인구가 적은 시간대"
   ]
  },
  {
   "cell_type": "code",
   "execution_count": 63,
   "metadata": {
    "colab": {
     "base_uri": "https://localhost:8080/"
    },
    "executionInfo": {
     "elapsed": 346,
     "status": "ok",
     "timestamp": 1622172870177,
     "user": {
      "displayName": "OuSeoung LEE",
      "photoUrl": "",
      "userId": "04718254206241101663"
     },
     "user_tz": -540
    },
    "id": "f87xPqn1x87g",
    "outputId": "267243d5-77b3-41a8-b2b2-b600f6c6383a"
   },
   "outputs": [
    {
     "name": "stdout",
     "output_type": "stream",
     "text": [
      "[ 5 시간대 ] 총 유동인구는 : 239669270명\n"
     ]
    }
   ],
   "source": [
    "time_min = time_s.idxmin()\n",
    "print( f'[ {time_min} 시간대 ] 총 유동인구는 : {time_s[ time_min ]:8d}명' )"
   ]
  },
  {
   "cell_type": "markdown",
   "metadata": {
    "id": "aKoNY_thx87h"
   },
   "source": [
    "### 2004년 4월 구별 유동인구수"
   ]
  },
  {
   "cell_type": "code",
   "execution_count": 64,
   "metadata": {
    "colab": {
     "base_uri": "https://localhost:8080/"
    },
    "executionInfo": {
     "elapsed": 305,
     "status": "ok",
     "timestamp": 1622172896238,
     "user": {
      "displayName": "OuSeoung LEE",
      "photoUrl": "",
      "userId": "04718254206241101663"
     },
     "user_tz": -540
    },
    "id": "N_cT4jscx87h",
    "outputId": "cfc513be-9dbd-4601-b20a-18ffdfee1eba"
   },
   "outputs": [
    {
     "name": "stdout",
     "output_type": "stream",
     "text": [
      "[ 도봉구   ] 총 유동인구는 : 172730720명\n",
      "[ 동대문구  ] 총 유동인구는 : 209673270명\n",
      "[ 구로구   ] 총 유동인구는 : 252685600명\n",
      "[ 강남구   ] 총 유동인구는 : 415479300명\n",
      "[ 성동구   ] 총 유동인구는 : 184605390명\n",
      "[ 강서구   ] 총 유동인구는 : 316538320명\n",
      "[ 금천구   ] 총 유동인구는 : 162236340명\n",
      "[ 관악구   ] 총 유동인구는 : 285422490명\n",
      "[ 중랑구   ] 총 유동인구는 : 210660150명\n",
      "[ 강북구   ] 총 유동인구는 : 171437740명\n",
      "[ 종로구   ] 총 유동인구는 : 152183320명\n",
      "[ 영등포구  ] 총 유동인구는 : 280428050명\n",
      "[ 용산구   ] 총 유동인구는 : 151474540명\n",
      "[ 광진구   ] 총 유동인구는 : 205584150명\n",
      "[ 노원구   ] 총 유동인구는 : 286372000명\n",
      "[ 양천구   ] 총 유동인구는 : 235960940명\n",
      "[ 중구    ] 총 유동인구는 : 152646440명\n",
      "[ 마포구   ] 총 유동인구는 : 245660870명\n",
      "[ 동작구   ] 총 유동인구는 : 224537120명\n",
      "[ 서대문구  ] 총 유동인구는 : 182865220명\n",
      "[ 송파구   ] 총 유동인구는 : 372279240명\n",
      "[ 은평구   ] 총 유동인구는 : 241684780명\n",
      "[ 강동구   ] 총 유동인구는 : 239157350명\n",
      "[ 서초구   ] 총 유동인구는 : 293867470명\n",
      "[ 성북구   ] 총 유동인구는 : 243666730명\n"
     ]
    }
   ],
   "source": [
    "gu_s = func_aggregate( gu_list, df.구 )\n",
    "\n",
    "for gu in gu_list:\n",
    "    print( f'[ {str.rstrip( gu ):5s} ] 총 유동인구는 : {gu_s[ gu ]:8d}명' )"
   ]
  },
  {
   "cell_type": "code",
   "execution_count": 66,
   "metadata": {
    "colab": {
     "base_uri": "https://localhost:8080/",
     "height": 496
    },
    "executionInfo": {
     "elapsed": 774,
     "status": "ok",
     "timestamp": 1622172961387,
     "user": {
      "displayName": "OuSeoung LEE",
      "photoUrl": "",
      "userId": "04718254206241101663"
     },
     "user_tz": -540
    },
    "id": "vNcz6tAix87h",
    "outputId": "7fc25f48-d8fc-4e46-9687-f250565e91dc"
   },
   "outputs": [
    {
     "data": {
      "image/png": "[encoded data removed]",
      "text/plain": [
       "<Figure size 1080x576 with 1 Axes>"
      ]
     },
     "metadata": {
      "tags": []
     },
     "output_type": "display_data"
    }
   ],
   "source": [
    "sns.set_theme( style = 'whitegrid' )\n",
    "\n",
    "ax = gu_s.plot( kind = 'bar', figsize = ( 15, 8 ) )\n",
    "ax.set_xticklabels( gu_s.index, rotation = 0 )\n",
    "\n",
    "plt.show()"
   ]
  },
  {
   "cell_type": "markdown",
   "metadata": {
    "id": "6XIlAOEhx87h"
   },
   "source": [
    "### 2004년 4월 가장 유동인구가 많은 구"
   ]
  },
  {
   "cell_type": "code",
   "execution_count": 67,
   "metadata": {
    "colab": {
     "base_uri": "https://localhost:8080/"
    },
    "executionInfo": {
     "elapsed": 277,
     "status": "ok",
     "timestamp": 1622172985219,
     "user": {
      "displayName": "OuSeoung LEE",
      "photoUrl": "",
      "userId": "04718254206241101663"
     },
     "user_tz": -540
    },
    "id": "ZyFOPMzXx87h",
    "outputId": "bcb6d706-d927-4c3f-c62d-3f4372e8c466"
   },
   "outputs": [
    {
     "name": "stdout",
     "output_type": "stream",
     "text": [
      "[ 강남구   ] 총 유동인구는 : 415479300명\n"
     ]
    }
   ],
   "source": [
    "gu_max = gu_s.idxmax()\n",
    "print( f'[ {gu_max:5s} ] 총 유동인구는 : {gu_s[ gu_max ]:8d}명' )"
   ]
  },
  {
   "cell_type": "markdown",
   "metadata": {
    "id": "4A1jYWNbx87i"
   },
   "source": [
    "### 2004년 4월 가장 유동인구가 적은 구"
   ]
  },
  {
   "cell_type": "code",
   "execution_count": 68,
   "metadata": {
    "colab": {
     "base_uri": "https://localhost:8080/"
    },
    "executionInfo": {
     "elapsed": 284,
     "status": "ok",
     "timestamp": 1622173009409,
     "user": {
      "displayName": "OuSeoung LEE",
      "photoUrl": "",
      "userId": "04718254206241101663"
     },
     "user_tz": -540
    },
    "id": "x263kSkTx87i",
    "outputId": "7964c4be-33f6-460b-b3d3-ef48489e9cfe"
   },
   "outputs": [
    {
     "name": "stdout",
     "output_type": "stream",
     "text": [
      "[ 용산구   ] 총 유동인구는 : 151474540명\n"
     ]
    }
   ],
   "source": [
    "gu_min = gu_s.idxmin()\n",
    "print( f'[ {gu_min:5s} ] 총 유동인구는 : {gu_s[ gu_min ]:8d}명' )"
   ]
  },
  {
   "cell_type": "markdown",
   "metadata": {
    "id": "C9PIvHUHx87i"
   },
   "source": [
    "### 2004년 4월 일자별 남녀 평균 유동인구"
   ]
  },
  {
   "cell_type": "code",
   "execution_count": 87,
   "metadata": {
    "colab": {
     "base_uri": "https://localhost:8080/",
     "height": 1000
    },
    "executionInfo": {
     "elapsed": 293,
     "status": "ok",
     "timestamp": 1622173736892,
     "user": {
      "displayName": "OuSeoung LEE",
      "photoUrl": "",
      "userId": "04718254206241101663"
     },
     "user_tz": -540
    },
    "id": "cFNiPiNax87i",
    "outputId": "3bcef78f-79bb-4ba6-ce10-4a664c3bfed7"
   },
   "outputs": [
    {
     "data": {
      "text/html": [
       "<div>\n",
       "<style scoped>\n",
       "    .dataframe tbody tr th:only-of-type {\n",
       "        vertical-align: middle;\n",
       "    }\n",
       "\n",
       "    .dataframe tbody tr th {\n",
       "        vertical-align: top;\n",
       "    }\n",
       "\n",
       "    .dataframe thead tr th {\n",
       "        text-align: left;\n",
       "    }\n",
       "\n",
       "    .dataframe thead tr:last-of-type th {\n",
       "        text-align: right;\n",
       "    }\n",
       "</style>\n",
       "<table border=\"1\" class=\"dataframe\">\n",
       "  <thead>\n",
       "    <tr>\n",
       "      <th></th>\n",
       "      <th colspan=\"2\" halign=\"left\">mean</th>\n",
       "    </tr>\n",
       "    <tr>\n",
       "      <th>성별</th>\n",
       "      <th>남성</th>\n",
       "      <th>여성</th>\n",
       "    </tr>\n",
       "    <tr>\n",
       "      <th>일자</th>\n",
       "      <th></th>\n",
       "      <th></th>\n",
       "    </tr>\n",
       "  </thead>\n",
       "  <tbody>\n",
       "    <tr>\n",
       "      <th>20200401</th>\n",
       "      <td>26900.636111</td>\n",
       "      <td>28712.836111</td>\n",
       "    </tr>\n",
       "    <tr>\n",
       "      <th>20200402</th>\n",
       "      <td>26838.577778</td>\n",
       "      <td>28658.977778</td>\n",
       "    </tr>\n",
       "    <tr>\n",
       "      <th>20200403</th>\n",
       "      <td>26782.972222</td>\n",
       "      <td>28532.783333</td>\n",
       "    </tr>\n",
       "    <tr>\n",
       "      <th>20200404</th>\n",
       "      <td>25776.711111</td>\n",
       "      <td>27323.583333</td>\n",
       "    </tr>\n",
       "    <tr>\n",
       "      <th>20200405</th>\n",
       "      <td>25634.172222</td>\n",
       "      <td>27059.250000</td>\n",
       "    </tr>\n",
       "    <tr>\n",
       "      <th>20200406</th>\n",
       "      <td>26933.436111</td>\n",
       "      <td>28599.794444</td>\n",
       "    </tr>\n",
       "    <tr>\n",
       "      <th>20200407</th>\n",
       "      <td>26828.638889</td>\n",
       "      <td>28672.405556</td>\n",
       "    </tr>\n",
       "    <tr>\n",
       "      <th>20200408</th>\n",
       "      <td>26789.225000</td>\n",
       "      <td>28670.527778</td>\n",
       "    </tr>\n",
       "    <tr>\n",
       "      <th>20200409</th>\n",
       "      <td>26782.125000</td>\n",
       "      <td>28646.061111</td>\n",
       "    </tr>\n",
       "    <tr>\n",
       "      <th>20200410</th>\n",
       "      <td>26751.172222</td>\n",
       "      <td>28551.905556</td>\n",
       "    </tr>\n",
       "    <tr>\n",
       "      <th>20200411</th>\n",
       "      <td>25741.205556</td>\n",
       "      <td>27323.241667</td>\n",
       "    </tr>\n",
       "    <tr>\n",
       "      <th>20200412</th>\n",
       "      <td>25623.016667</td>\n",
       "      <td>27055.750000</td>\n",
       "    </tr>\n",
       "    <tr>\n",
       "      <th>20200413</th>\n",
       "      <td>26823.697222</td>\n",
       "      <td>28521.261111</td>\n",
       "    </tr>\n",
       "    <tr>\n",
       "      <th>20200414</th>\n",
       "      <td>26772.969444</td>\n",
       "      <td>28582.227778</td>\n",
       "    </tr>\n",
       "    <tr>\n",
       "      <th>20200415</th>\n",
       "      <td>25830.427778</td>\n",
       "      <td>27608.883333</td>\n",
       "    </tr>\n",
       "    <tr>\n",
       "      <th>20200416</th>\n",
       "      <td>26740.013889</td>\n",
       "      <td>28554.408333</td>\n",
       "    </tr>\n",
       "    <tr>\n",
       "      <th>20200417</th>\n",
       "      <td>26825.030556</td>\n",
       "      <td>28565.711111</td>\n",
       "    </tr>\n",
       "    <tr>\n",
       "      <th>20200418</th>\n",
       "      <td>25707.216667</td>\n",
       "      <td>27312.816667</td>\n",
       "    </tr>\n",
       "    <tr>\n",
       "      <th>20200419</th>\n",
       "      <td>25650.372222</td>\n",
       "      <td>27114.030556</td>\n",
       "    </tr>\n",
       "    <tr>\n",
       "      <th>20200420</th>\n",
       "      <td>26872.186111</td>\n",
       "      <td>28580.338889</td>\n",
       "    </tr>\n",
       "    <tr>\n",
       "      <th>20200421</th>\n",
       "      <td>26756.016667</td>\n",
       "      <td>28655.058333</td>\n",
       "    </tr>\n",
       "    <tr>\n",
       "      <th>20200422</th>\n",
       "      <td>26744.088889</td>\n",
       "      <td>28676.133333</td>\n",
       "    </tr>\n",
       "    <tr>\n",
       "      <th>20200423</th>\n",
       "      <td>26722.702778</td>\n",
       "      <td>28657.883333</td>\n",
       "    </tr>\n",
       "    <tr>\n",
       "      <th>20200424</th>\n",
       "      <td>26726.650000</td>\n",
       "      <td>28590.000000</td>\n",
       "    </tr>\n",
       "    <tr>\n",
       "      <th>20200425</th>\n",
       "      <td>25726.825000</td>\n",
       "      <td>27391.913889</td>\n",
       "    </tr>\n",
       "    <tr>\n",
       "      <th>20200426</th>\n",
       "      <td>25510.430556</td>\n",
       "      <td>27033.755556</td>\n",
       "    </tr>\n",
       "    <tr>\n",
       "      <th>20200427</th>\n",
       "      <td>26782.969444</td>\n",
       "      <td>28549.447222</td>\n",
       "    </tr>\n",
       "    <tr>\n",
       "      <th>20200428</th>\n",
       "      <td>26689.616667</td>\n",
       "      <td>28610.541667</td>\n",
       "    </tr>\n",
       "    <tr>\n",
       "      <th>20200429</th>\n",
       "      <td>26655.030556</td>\n",
       "      <td>28483.833333</td>\n",
       "    </tr>\n",
       "    <tr>\n",
       "      <th>20200430</th>\n",
       "      <td>25206.561111</td>\n",
       "      <td>26645.927778</td>\n",
       "    </tr>\n",
       "  </tbody>\n",
       "</table>\n",
       "</div>"
      ],
      "text/plain": [
       "                  mean              \n",
       "성별              남성          여성\n",
       "일자                                \n",
       "20200401  26900.636111  28712.836111\n",
       "20200402  26838.577778  28658.977778\n",
       "20200403  26782.972222  28532.783333\n",
       "20200404  25776.711111  27323.583333\n",
       "20200405  25634.172222  27059.250000\n",
       "20200406  26933.436111  28599.794444\n",
       "20200407  26828.638889  28672.405556\n",
       "20200408  26789.225000  28670.527778\n",
       "20200409  26782.125000  28646.061111\n",
       "20200410  26751.172222  28551.905556\n",
       "20200411  25741.205556  27323.241667\n",
       "20200412  25623.016667  27055.750000\n",
       "20200413  26823.697222  28521.261111\n",
       "20200414  26772.969444  28582.227778\n",
       "20200415  25830.427778  27608.883333\n",
       "20200416  26740.013889  28554.408333\n",
       "20200417  26825.030556  28565.711111\n",
       "20200418  25707.216667  27312.816667\n",
       "20200419  25650.372222  27114.030556\n",
       "20200420  26872.186111  28580.338889\n",
       "20200421  26756.016667  28655.058333\n",
       "20200422  26744.088889  28676.133333\n",
       "20200423  26722.702778  28657.883333\n",
       "20200424  26726.650000  28590.000000\n",
       "20200425  25726.825000  27391.913889\n",
       "20200426  25510.430556  27033.755556\n",
       "20200427  26782.969444  28549.447222\n",
       "20200428  26689.616667  28610.541667\n",
       "20200429  26655.030556  28483.833333\n",
       "20200430  25206.561111  26645.927778"
      ]
     },
     "execution_count": 87,
     "metadata": {
      "tags": []
     },
     "output_type": "execute_result"
    }
   ],
   "source": [
    "pdf = pd.pivot_table( df,\n",
    "                      index = '일자',\n",
    "                      columns = '성별',\n",
    "                      values = '유동인구수',\n",
    "                      aggfunc = [ 'mean' ] )\n",
    "pdf"
   ]
  },
  {
   "cell_type": "code",
   "execution_count": 88,
   "metadata": {
    "colab": {
     "base_uri": "https://localhost:8080/",
     "height": 659
    },
    "executionInfo": {
     "elapsed": 991,
     "status": "ok",
     "timestamp": 1622173740694,
     "user": {
      "displayName": "OuSeoung LEE",
      "photoUrl": "",
      "userId": "04718254206241101663"
     },
     "user_tz": -540
    },
    "id": "Au4MFU8YDC0n",
    "outputId": "a427c486-2682-4b49-a846-17a80c5a542b"
   },
   "outputs": [
    {
     "data": {
      "image/png": "[encoded data removed]",
      "text/plain": [
       "<Figure size 1440x720 with 1 Axes>"
      ]
     },
     "metadata": {
      "tags": []
     },
     "output_type": "display_data"
    }
   ],
   "source": [
    "sns.set_theme( style = 'whitegrid' )\n",
    "\n",
    "ax = pdf.plot( kind = 'bar', figsize = ( 20, 10 ) )\n",
    "ax.set_xticklabels( pdf.index, rotation = 75 )\n",
    "\n",
    "plt.show()"
   ]
  },
  {
   "cell_type": "markdown",
   "metadata": {
    "id": "IdcPfXP2x87j"
   },
   "source": [
    "### 2004년 4월 일자별 시간대 평균 유동인구"
   ]
  },
  {
   "cell_type": "code",
   "execution_count": 89,
   "metadata": {
    "colab": {
     "base_uri": "https://localhost:8080/",
     "height": 1000
    },
    "executionInfo": {
     "elapsed": 388,
     "status": "ok",
     "timestamp": 1622173748229,
     "user": {
      "displayName": "OuSeoung LEE",
      "photoUrl": "",
      "userId": "04718254206241101663"
     },
     "user_tz": -540
    },
    "id": "xTdyauMLx87j",
    "outputId": "80095fea-b91d-4b82-d92f-c5ee74691ade"
   },
   "outputs": [
    {
     "data": {
      "text/html": [
       "<div>\n",
       "<style scoped>\n",
       "    .dataframe tbody tr th:only-of-type {\n",
       "        vertical-align: middle;\n",
       "    }\n",
       "\n",
       "    .dataframe tbody tr th {\n",
       "        vertical-align: top;\n",
       "    }\n",
       "\n",
       "    .dataframe thead tr th {\n",
       "        text-align: left;\n",
       "    }\n",
       "\n",
       "    .dataframe thead tr:last-of-type th {\n",
       "        text-align: right;\n",
       "    }\n",
       "</style>\n",
       "<table border=\"1\" class=\"dataframe\">\n",
       "  <thead>\n",
       "    <tr>\n",
       "      <th></th>\n",
       "      <th colspan=\"21\" halign=\"left\">mean</th>\n",
       "    </tr>\n",
       "    <tr>\n",
       "      <th>단위시간</th>\n",
       "      <th>0</th>\n",
       "      <th>1</th>\n",
       "      <th>2</th>\n",
       "      <th>3</th>\n",
       "      <th>4</th>\n",
       "      <th>5</th>\n",
       "      <th>6</th>\n",
       "      <th>7</th>\n",
       "      <th>8</th>\n",
       "      <th>9</th>\n",
       "      <th>...</th>\n",
       "      <th>14</th>\n",
       "      <th>15</th>\n",
       "      <th>16</th>\n",
       "      <th>17</th>\n",
       "      <th>18</th>\n",
       "      <th>19</th>\n",
       "      <th>20</th>\n",
       "      <th>21</th>\n",
       "      <th>22</th>\n",
       "      <th>23</th>\n",
       "    </tr>\n",
       "    <tr>\n",
       "      <th>일자</th>\n",
       "      <th></th>\n",
       "      <th></th>\n",
       "      <th></th>\n",
       "      <th></th>\n",
       "      <th></th>\n",
       "      <th></th>\n",
       "      <th></th>\n",
       "      <th></th>\n",
       "      <th></th>\n",
       "      <th></th>\n",
       "      <th></th>\n",
       "      <th></th>\n",
       "      <th></th>\n",
       "      <th></th>\n",
       "      <th></th>\n",
       "      <th></th>\n",
       "      <th></th>\n",
       "      <th></th>\n",
       "      <th></th>\n",
       "      <th></th>\n",
       "      <th></th>\n",
       "    </tr>\n",
       "  </thead>\n",
       "  <tbody>\n",
       "    <tr>\n",
       "      <th>20200401</th>\n",
       "      <td>27145.333333</td>\n",
       "      <td>27098.533333</td>\n",
       "      <td>27046.966667</td>\n",
       "      <td>26976.500000</td>\n",
       "      <td>26917.266667</td>\n",
       "      <td>26895.466667</td>\n",
       "      <td>27022.633333</td>\n",
       "      <td>27556.366667</td>\n",
       "      <td>28144.866667</td>\n",
       "      <td>28457.366667</td>\n",
       "      <td>...</td>\n",
       "      <td>28563.133333</td>\n",
       "      <td>28581.766667</td>\n",
       "      <td>28589.633333</td>\n",
       "      <td>28540.600000</td>\n",
       "      <td>28261.500000</td>\n",
       "      <td>27894.700000</td>\n",
       "      <td>27661.033333</td>\n",
       "      <td>27489.600000</td>\n",
       "      <td>27308.066667</td>\n",
       "      <td>27180.900000</td>\n",
       "    </tr>\n",
       "    <tr>\n",
       "      <th>20200402</th>\n",
       "      <td>27102.800000</td>\n",
       "      <td>27056.000000</td>\n",
       "      <td>27005.900000</td>\n",
       "      <td>26933.800000</td>\n",
       "      <td>26876.766667</td>\n",
       "      <td>26849.866667</td>\n",
       "      <td>26974.100000</td>\n",
       "      <td>27506.233333</td>\n",
       "      <td>28097.833333</td>\n",
       "      <td>28403.466667</td>\n",
       "      <td>...</td>\n",
       "      <td>28465.333333</td>\n",
       "      <td>28492.266667</td>\n",
       "      <td>28507.066667</td>\n",
       "      <td>28463.333333</td>\n",
       "      <td>28181.166667</td>\n",
       "      <td>27823.833333</td>\n",
       "      <td>27627.100000</td>\n",
       "      <td>27479.733333</td>\n",
       "      <td>27292.900000</td>\n",
       "      <td>27153.833333</td>\n",
       "    </tr>\n",
       "    <tr>\n",
       "      <th>20200403</th>\n",
       "      <td>27076.833333</td>\n",
       "      <td>27031.566667</td>\n",
       "      <td>26979.400000</td>\n",
       "      <td>26905.066667</td>\n",
       "      <td>26852.600000</td>\n",
       "      <td>26822.900000</td>\n",
       "      <td>26927.733333</td>\n",
       "      <td>27432.800000</td>\n",
       "      <td>27997.333333</td>\n",
       "      <td>28294.666667</td>\n",
       "      <td>...</td>\n",
       "      <td>28337.100000</td>\n",
       "      <td>28339.366667</td>\n",
       "      <td>28343.833333</td>\n",
       "      <td>28306.800000</td>\n",
       "      <td>28034.566667</td>\n",
       "      <td>27700.100000</td>\n",
       "      <td>27515.766667</td>\n",
       "      <td>27375.833333</td>\n",
       "      <td>27201.900000</td>\n",
       "      <td>27046.933333</td>\n",
       "    </tr>\n",
       "    <tr>\n",
       "      <th>20200404</th>\n",
       "      <td>26947.300000</td>\n",
       "      <td>26886.366667</td>\n",
       "      <td>26828.200000</td>\n",
       "      <td>26747.800000</td>\n",
       "      <td>26675.200000</td>\n",
       "      <td>26586.066667</td>\n",
       "      <td>26487.700000</td>\n",
       "      <td>26433.600000</td>\n",
       "      <td>26497.733333</td>\n",
       "      <td>26532.933333</td>\n",
       "      <td>...</td>\n",
       "      <td>26284.100000</td>\n",
       "      <td>26302.400000</td>\n",
       "      <td>26363.233333</td>\n",
       "      <td>26443.000000</td>\n",
       "      <td>26515.233333</td>\n",
       "      <td>26605.166667</td>\n",
       "      <td>26688.600000</td>\n",
       "      <td>26717.966667</td>\n",
       "      <td>26659.866667</td>\n",
       "      <td>26579.633333</td>\n",
       "    </tr>\n",
       "    <tr>\n",
       "      <th>20200405</th>\n",
       "      <td>26523.866667</td>\n",
       "      <td>26487.233333</td>\n",
       "      <td>26432.200000</td>\n",
       "      <td>26360.066667</td>\n",
       "      <td>26288.333333</td>\n",
       "      <td>26202.700000</td>\n",
       "      <td>26117.200000</td>\n",
       "      <td>26062.266667</td>\n",
       "      <td>26064.466667</td>\n",
       "      <td>26010.600000</td>\n",
       "      <td>...</td>\n",
       "      <td>25911.700000</td>\n",
       "      <td>26078.833333</td>\n",
       "      <td>26288.933333</td>\n",
       "      <td>26504.133333</td>\n",
       "      <td>26687.600000</td>\n",
       "      <td>26856.066667</td>\n",
       "      <td>26999.033333</td>\n",
       "      <td>27074.033333</td>\n",
       "      <td>27079.800000</td>\n",
       "      <td>27039.033333</td>\n",
       "    </tr>\n",
       "    <tr>\n",
       "      <th>20200406</th>\n",
       "      <td>27007.266667</td>\n",
       "      <td>26979.166667</td>\n",
       "      <td>26933.766667</td>\n",
       "      <td>26869.666667</td>\n",
       "      <td>26822.500000</td>\n",
       "      <td>26805.233333</td>\n",
       "      <td>26963.800000</td>\n",
       "      <td>27514.533333</td>\n",
       "      <td>28122.400000</td>\n",
       "      <td>28463.500000</td>\n",
       "      <td>...</td>\n",
       "      <td>28588.233333</td>\n",
       "      <td>28598.966667</td>\n",
       "      <td>28585.500000</td>\n",
       "      <td>28531.300000</td>\n",
       "      <td>28213.333333</td>\n",
       "      <td>27808.133333</td>\n",
       "      <td>27579.766667</td>\n",
       "      <td>27426.533333</td>\n",
       "      <td>27253.800000</td>\n",
       "      <td>27136.133333</td>\n",
       "    </tr>\n",
       "    <tr>\n",
       "      <th>20200407</th>\n",
       "      <td>27068.366667</td>\n",
       "      <td>27028.866667</td>\n",
       "      <td>26974.066667</td>\n",
       "      <td>26902.933333</td>\n",
       "      <td>26841.500000</td>\n",
       "      <td>26820.633333</td>\n",
       "      <td>26961.800000</td>\n",
       "      <td>27514.433333</td>\n",
       "      <td>28113.033333</td>\n",
       "      <td>28420.800000</td>\n",
       "      <td>...</td>\n",
       "      <td>28515.000000</td>\n",
       "      <td>28539.500000</td>\n",
       "      <td>28549.266667</td>\n",
       "      <td>28509.333333</td>\n",
       "      <td>28197.966667</td>\n",
       "      <td>27811.133333</td>\n",
       "      <td>27596.800000</td>\n",
       "      <td>27441.600000</td>\n",
       "      <td>27256.466667</td>\n",
       "      <td>27123.033333</td>\n",
       "    </tr>\n",
       "    <tr>\n",
       "      <th>20200408</th>\n",
       "      <td>27049.366667</td>\n",
       "      <td>27006.833333</td>\n",
       "      <td>26952.866667</td>\n",
       "      <td>26881.366667</td>\n",
       "      <td>26827.966667</td>\n",
       "      <td>26803.700000</td>\n",
       "      <td>26942.966667</td>\n",
       "      <td>27496.633333</td>\n",
       "      <td>28077.766667</td>\n",
       "      <td>28384.266667</td>\n",
       "      <td>...</td>\n",
       "      <td>28476.066667</td>\n",
       "      <td>28503.533333</td>\n",
       "      <td>28519.033333</td>\n",
       "      <td>28475.100000</td>\n",
       "      <td>28190.466667</td>\n",
       "      <td>27823.133333</td>\n",
       "      <td>27612.233333</td>\n",
       "      <td>27446.833333</td>\n",
       "      <td>27250.133333</td>\n",
       "      <td>27114.066667</td>\n",
       "    </tr>\n",
       "    <tr>\n",
       "      <th>20200409</th>\n",
       "      <td>27039.033333</td>\n",
       "      <td>26995.733333</td>\n",
       "      <td>26944.566667</td>\n",
       "      <td>26873.600000</td>\n",
       "      <td>26819.766667</td>\n",
       "      <td>26792.200000</td>\n",
       "      <td>26919.100000</td>\n",
       "      <td>27472.400000</td>\n",
       "      <td>28057.133333</td>\n",
       "      <td>28361.966667</td>\n",
       "      <td>...</td>\n",
       "      <td>28446.466667</td>\n",
       "      <td>28481.266667</td>\n",
       "      <td>28498.766667</td>\n",
       "      <td>28463.966667</td>\n",
       "      <td>28188.533333</td>\n",
       "      <td>27809.433333</td>\n",
       "      <td>27602.100000</td>\n",
       "      <td>27448.466667</td>\n",
       "      <td>27252.100000</td>\n",
       "      <td>27107.833333</td>\n",
       "    </tr>\n",
       "    <tr>\n",
       "      <th>20200410</th>\n",
       "      <td>27029.200000</td>\n",
       "      <td>26986.466667</td>\n",
       "      <td>26933.500000</td>\n",
       "      <td>26861.600000</td>\n",
       "      <td>26811.766667</td>\n",
       "      <td>26792.366667</td>\n",
       "      <td>26910.800000</td>\n",
       "      <td>27447.933333</td>\n",
       "      <td>28018.700000</td>\n",
       "      <td>28315.833333</td>\n",
       "      <td>...</td>\n",
       "      <td>28375.000000</td>\n",
       "      <td>28384.433333</td>\n",
       "      <td>28369.866667</td>\n",
       "      <td>28313.233333</td>\n",
       "      <td>28030.066667</td>\n",
       "      <td>27675.166667</td>\n",
       "      <td>27475.466667</td>\n",
       "      <td>27334.600000</td>\n",
       "      <td>27161.566667</td>\n",
       "      <td>26997.866667</td>\n",
       "    </tr>\n",
       "    <tr>\n",
       "      <th>20200411</th>\n",
       "      <td>26889.966667</td>\n",
       "      <td>26832.033333</td>\n",
       "      <td>26772.066667</td>\n",
       "      <td>26696.733333</td>\n",
       "      <td>26630.500000</td>\n",
       "      <td>26551.400000</td>\n",
       "      <td>26455.300000</td>\n",
       "      <td>26413.233333</td>\n",
       "      <td>26490.566667</td>\n",
       "      <td>26535.900000</td>\n",
       "      <td>...</td>\n",
       "      <td>26278.500000</td>\n",
       "      <td>26303.866667</td>\n",
       "      <td>26377.733333</td>\n",
       "      <td>26454.066667</td>\n",
       "      <td>26499.700000</td>\n",
       "      <td>26579.566667</td>\n",
       "      <td>26651.600000</td>\n",
       "      <td>26666.133333</td>\n",
       "      <td>26613.466667</td>\n",
       "      <td>26523.600000</td>\n",
       "    </tr>\n",
       "    <tr>\n",
       "      <th>20200412</th>\n",
       "      <td>26466.766667</td>\n",
       "      <td>26423.466667</td>\n",
       "      <td>26373.133333</td>\n",
       "      <td>26303.200000</td>\n",
       "      <td>26230.066667</td>\n",
       "      <td>26143.000000</td>\n",
       "      <td>26068.533333</td>\n",
       "      <td>26034.466667</td>\n",
       "      <td>26064.600000</td>\n",
       "      <td>26038.633333</td>\n",
       "      <td>...</td>\n",
       "      <td>25990.700000</td>\n",
       "      <td>26149.900000</td>\n",
       "      <td>26330.533333</td>\n",
       "      <td>26528.166667</td>\n",
       "      <td>26700.233333</td>\n",
       "      <td>26859.900000</td>\n",
       "      <td>26983.966667</td>\n",
       "      <td>27025.900000</td>\n",
       "      <td>27007.633333</td>\n",
       "      <td>26964.700000</td>\n",
       "    </tr>\n",
       "    <tr>\n",
       "      <th>20200413</th>\n",
       "      <td>26932.533333</td>\n",
       "      <td>26900.600000</td>\n",
       "      <td>26854.233333</td>\n",
       "      <td>26788.166667</td>\n",
       "      <td>26735.133333</td>\n",
       "      <td>26711.266667</td>\n",
       "      <td>26866.133333</td>\n",
       "      <td>27406.600000</td>\n",
       "      <td>28023.966667</td>\n",
       "      <td>28362.366667</td>\n",
       "      <td>...</td>\n",
       "      <td>28497.200000</td>\n",
       "      <td>28501.566667</td>\n",
       "      <td>28487.866667</td>\n",
       "      <td>28433.400000</td>\n",
       "      <td>28119.800000</td>\n",
       "      <td>27702.633333</td>\n",
       "      <td>27492.633333</td>\n",
       "      <td>27335.400000</td>\n",
       "      <td>27154.033333</td>\n",
       "      <td>27031.333333</td>\n",
       "    </tr>\n",
       "    <tr>\n",
       "      <th>20200414</th>\n",
       "      <td>26963.800000</td>\n",
       "      <td>26919.366667</td>\n",
       "      <td>26868.733333</td>\n",
       "      <td>26792.866667</td>\n",
       "      <td>26734.600000</td>\n",
       "      <td>26707.900000</td>\n",
       "      <td>26846.066667</td>\n",
       "      <td>27395.133333</td>\n",
       "      <td>27994.266667</td>\n",
       "      <td>28327.366667</td>\n",
       "      <td>...</td>\n",
       "      <td>28416.566667</td>\n",
       "      <td>28444.566667</td>\n",
       "      <td>28453.400000</td>\n",
       "      <td>28417.300000</td>\n",
       "      <td>28196.700000</td>\n",
       "      <td>27822.000000</td>\n",
       "      <td>27628.700000</td>\n",
       "      <td>27480.233333</td>\n",
       "      <td>27288.400000</td>\n",
       "      <td>27117.833333</td>\n",
       "    </tr>\n",
       "    <tr>\n",
       "      <th>20200415</th>\n",
       "      <td>27007.233333</td>\n",
       "      <td>26939.433333</td>\n",
       "      <td>26876.133333</td>\n",
       "      <td>26794.466667</td>\n",
       "      <td>26726.900000</td>\n",
       "      <td>26643.800000</td>\n",
       "      <td>26573.433333</td>\n",
       "      <td>26521.633333</td>\n",
       "      <td>26563.233333</td>\n",
       "      <td>26566.733333</td>\n",
       "      <td>...</td>\n",
       "      <td>26385.866667</td>\n",
       "      <td>26509.066667</td>\n",
       "      <td>26664.000000</td>\n",
       "      <td>26826.100000</td>\n",
       "      <td>26961.766667</td>\n",
       "      <td>27053.866667</td>\n",
       "      <td>27107.733333</td>\n",
       "      <td>27111.400000</td>\n",
       "      <td>27047.733333</td>\n",
       "      <td>26983.800000</td>\n",
       "    </tr>\n",
       "    <tr>\n",
       "      <th>20200416</th>\n",
       "      <td>26939.266667</td>\n",
       "      <td>26908.633333</td>\n",
       "      <td>26862.600000</td>\n",
       "      <td>26798.433333</td>\n",
       "      <td>26747.866667</td>\n",
       "      <td>26721.133333</td>\n",
       "      <td>26853.266667</td>\n",
       "      <td>27382.933333</td>\n",
       "      <td>27975.233333</td>\n",
       "      <td>28282.433333</td>\n",
       "      <td>...</td>\n",
       "      <td>28400.000000</td>\n",
       "      <td>28429.600000</td>\n",
       "      <td>28431.100000</td>\n",
       "      <td>28407.333333</td>\n",
       "      <td>28129.000000</td>\n",
       "      <td>27750.866667</td>\n",
       "      <td>27545.200000</td>\n",
       "      <td>27386.033333</td>\n",
       "      <td>27185.566667</td>\n",
       "      <td>27049.100000</td>\n",
       "    </tr>\n",
       "    <tr>\n",
       "      <th>20200417</th>\n",
       "      <td>26973.433333</td>\n",
       "      <td>26929.200000</td>\n",
       "      <td>26878.366667</td>\n",
       "      <td>26805.900000</td>\n",
       "      <td>26756.233333</td>\n",
       "      <td>26739.166667</td>\n",
       "      <td>26874.133333</td>\n",
       "      <td>27410.566667</td>\n",
       "      <td>28000.533333</td>\n",
       "      <td>28340.033333</td>\n",
       "      <td>...</td>\n",
       "      <td>28560.233333</td>\n",
       "      <td>28550.400000</td>\n",
       "      <td>28524.966667</td>\n",
       "      <td>28455.600000</td>\n",
       "      <td>28154.966667</td>\n",
       "      <td>27728.200000</td>\n",
       "      <td>27502.666667</td>\n",
       "      <td>27345.166667</td>\n",
       "      <td>27156.433333</td>\n",
       "      <td>26997.633333</td>\n",
       "    </tr>\n",
       "    <tr>\n",
       "      <th>20200418</th>\n",
       "      <td>26889.300000</td>\n",
       "      <td>26828.466667</td>\n",
       "      <td>26769.466667</td>\n",
       "      <td>26692.100000</td>\n",
       "      <td>26621.900000</td>\n",
       "      <td>26535.400000</td>\n",
       "      <td>26438.166667</td>\n",
       "      <td>26390.166667</td>\n",
       "      <td>26471.033333</td>\n",
       "      <td>26519.900000</td>\n",
       "      <td>...</td>\n",
       "      <td>26247.033333</td>\n",
       "      <td>26258.133333</td>\n",
       "      <td>26300.700000</td>\n",
       "      <td>26373.966667</td>\n",
       "      <td>26445.500000</td>\n",
       "      <td>26539.333333</td>\n",
       "      <td>26641.666667</td>\n",
       "      <td>26674.633333</td>\n",
       "      <td>26615.266667</td>\n",
       "      <td>26521.933333</td>\n",
       "    </tr>\n",
       "    <tr>\n",
       "      <th>20200419</th>\n",
       "      <td>26461.100000</td>\n",
       "      <td>26418.300000</td>\n",
       "      <td>26366.366667</td>\n",
       "      <td>26294.766667</td>\n",
       "      <td>26224.733333</td>\n",
       "      <td>26132.800000</td>\n",
       "      <td>26050.433333</td>\n",
       "      <td>26006.600000</td>\n",
       "      <td>26038.900000</td>\n",
       "      <td>26023.866667</td>\n",
       "      <td>...</td>\n",
       "      <td>26139.166667</td>\n",
       "      <td>26313.833333</td>\n",
       "      <td>26496.800000</td>\n",
       "      <td>26675.400000</td>\n",
       "      <td>26810.933333</td>\n",
       "      <td>26932.466667</td>\n",
       "      <td>27028.966667</td>\n",
       "      <td>27036.633333</td>\n",
       "      <td>26999.466667</td>\n",
       "      <td>26966.400000</td>\n",
       "    </tr>\n",
       "    <tr>\n",
       "      <th>20200420</th>\n",
       "      <td>26935.466667</td>\n",
       "      <td>26902.000000</td>\n",
       "      <td>26860.000000</td>\n",
       "      <td>26795.000000</td>\n",
       "      <td>26750.133333</td>\n",
       "      <td>26733.733333</td>\n",
       "      <td>26890.433333</td>\n",
       "      <td>27449.433333</td>\n",
       "      <td>28081.533333</td>\n",
       "      <td>28419.333333</td>\n",
       "      <td>...</td>\n",
       "      <td>28615.466667</td>\n",
       "      <td>28626.233333</td>\n",
       "      <td>28614.066667</td>\n",
       "      <td>28546.366667</td>\n",
       "      <td>28222.333333</td>\n",
       "      <td>27758.166667</td>\n",
       "      <td>27524.366667</td>\n",
       "      <td>27358.833333</td>\n",
       "      <td>27176.400000</td>\n",
       "      <td>27059.600000</td>\n",
       "    </tr>\n",
       "    <tr>\n",
       "      <th>20200421</th>\n",
       "      <td>26986.100000</td>\n",
       "      <td>26941.066667</td>\n",
       "      <td>26889.533333</td>\n",
       "      <td>26816.033333</td>\n",
       "      <td>26755.533333</td>\n",
       "      <td>26728.333333</td>\n",
       "      <td>26884.166667</td>\n",
       "      <td>27454.600000</td>\n",
       "      <td>28054.266667</td>\n",
       "      <td>28375.500000</td>\n",
       "      <td>...</td>\n",
       "      <td>28526.300000</td>\n",
       "      <td>28540.600000</td>\n",
       "      <td>28548.566667</td>\n",
       "      <td>28507.266667</td>\n",
       "      <td>28181.900000</td>\n",
       "      <td>27786.466667</td>\n",
       "      <td>27560.300000</td>\n",
       "      <td>27394.000000</td>\n",
       "      <td>27189.300000</td>\n",
       "      <td>27049.133333</td>\n",
       "    </tr>\n",
       "    <tr>\n",
       "      <th>20200422</th>\n",
       "      <td>26971.900000</td>\n",
       "      <td>26926.666667</td>\n",
       "      <td>26874.800000</td>\n",
       "      <td>26799.566667</td>\n",
       "      <td>26747.233333</td>\n",
       "      <td>26726.500000</td>\n",
       "      <td>26876.100000</td>\n",
       "      <td>27440.566667</td>\n",
       "      <td>28044.733333</td>\n",
       "      <td>28371.100000</td>\n",
       "      <td>...</td>\n",
       "      <td>28556.433333</td>\n",
       "      <td>28574.866667</td>\n",
       "      <td>28578.233333</td>\n",
       "      <td>28519.366667</td>\n",
       "      <td>28208.733333</td>\n",
       "      <td>27795.766667</td>\n",
       "      <td>27575.666667</td>\n",
       "      <td>27404.400000</td>\n",
       "      <td>27197.400000</td>\n",
       "      <td>27058.666667</td>\n",
       "    </tr>\n",
       "    <tr>\n",
       "      <th>20200423</th>\n",
       "      <td>26977.633333</td>\n",
       "      <td>26929.966667</td>\n",
       "      <td>26875.133333</td>\n",
       "      <td>26798.733333</td>\n",
       "      <td>26743.666667</td>\n",
       "      <td>26714.033333</td>\n",
       "      <td>26854.000000</td>\n",
       "      <td>27421.866667</td>\n",
       "      <td>28019.100000</td>\n",
       "      <td>28323.133333</td>\n",
       "      <td>...</td>\n",
       "      <td>28477.866667</td>\n",
       "      <td>28505.033333</td>\n",
       "      <td>28518.200000</td>\n",
       "      <td>28494.900000</td>\n",
       "      <td>28197.500000</td>\n",
       "      <td>27816.766667</td>\n",
       "      <td>27600.433333</td>\n",
       "      <td>27427.500000</td>\n",
       "      <td>27221.233333</td>\n",
       "      <td>27062.933333</td>\n",
       "    </tr>\n",
       "    <tr>\n",
       "      <th>20200424</th>\n",
       "      <td>26974.100000</td>\n",
       "      <td>26929.633333</td>\n",
       "      <td>26875.666667</td>\n",
       "      <td>26799.466667</td>\n",
       "      <td>26743.600000</td>\n",
       "      <td>26714.733333</td>\n",
       "      <td>26842.900000</td>\n",
       "      <td>27383.000000</td>\n",
       "      <td>27982.900000</td>\n",
       "      <td>28294.233333</td>\n",
       "      <td>...</td>\n",
       "      <td>28424.333333</td>\n",
       "      <td>28446.200000</td>\n",
       "      <td>28450.566667</td>\n",
       "      <td>28409.933333</td>\n",
       "      <td>28129.166667</td>\n",
       "      <td>27759.466667</td>\n",
       "      <td>27555.300000</td>\n",
       "      <td>27402.433333</td>\n",
       "      <td>27206.400000</td>\n",
       "      <td>27024.366667</td>\n",
       "    </tr>\n",
       "    <tr>\n",
       "      <th>20200425</th>\n",
       "      <td>26906.766667</td>\n",
       "      <td>26840.566667</td>\n",
       "      <td>26773.566667</td>\n",
       "      <td>26688.900000</td>\n",
       "      <td>26615.766667</td>\n",
       "      <td>26526.300000</td>\n",
       "      <td>26426.133333</td>\n",
       "      <td>26366.900000</td>\n",
       "      <td>26438.766667</td>\n",
       "      <td>26508.900000</td>\n",
       "      <td>...</td>\n",
       "      <td>26394.166667</td>\n",
       "      <td>26411.800000</td>\n",
       "      <td>26476.933333</td>\n",
       "      <td>26553.800000</td>\n",
       "      <td>26580.300000</td>\n",
       "      <td>26635.333333</td>\n",
       "      <td>26689.433333</td>\n",
       "      <td>26691.566667</td>\n",
       "      <td>26624.466667</td>\n",
       "      <td>26521.500000</td>\n",
       "    </tr>\n",
       "    <tr>\n",
       "      <th>20200426</th>\n",
       "      <td>26454.266667</td>\n",
       "      <td>26411.333333</td>\n",
       "      <td>26357.933333</td>\n",
       "      <td>26279.233333</td>\n",
       "      <td>26206.233333</td>\n",
       "      <td>26114.233333</td>\n",
       "      <td>26029.800000</td>\n",
       "      <td>25985.066667</td>\n",
       "      <td>26027.300000</td>\n",
       "      <td>26008.966667</td>\n",
       "      <td>...</td>\n",
       "      <td>25830.100000</td>\n",
       "      <td>25977.866667</td>\n",
       "      <td>26162.100000</td>\n",
       "      <td>26385.000000</td>\n",
       "      <td>26573.033333</td>\n",
       "      <td>26753.333333</td>\n",
       "      <td>26894.300000</td>\n",
       "      <td>26964.466667</td>\n",
       "      <td>26948.933333</td>\n",
       "      <td>26904.500000</td>\n",
       "    </tr>\n",
       "    <tr>\n",
       "      <th>20200427</th>\n",
       "      <td>26869.733333</td>\n",
       "      <td>26839.066667</td>\n",
       "      <td>26791.700000</td>\n",
       "      <td>26725.400000</td>\n",
       "      <td>26673.066667</td>\n",
       "      <td>26652.033333</td>\n",
       "      <td>26818.966667</td>\n",
       "      <td>27379.266667</td>\n",
       "      <td>28016.333333</td>\n",
       "      <td>28355.766667</td>\n",
       "      <td>...</td>\n",
       "      <td>28524.466667</td>\n",
       "      <td>28532.000000</td>\n",
       "      <td>28526.900000</td>\n",
       "      <td>28485.766667</td>\n",
       "      <td>28172.266667</td>\n",
       "      <td>27756.800000</td>\n",
       "      <td>27524.066667</td>\n",
       "      <td>27349.100000</td>\n",
       "      <td>27139.600000</td>\n",
       "      <td>26991.533333</td>\n",
       "    </tr>\n",
       "    <tr>\n",
       "      <th>20200428</th>\n",
       "      <td>26909.666667</td>\n",
       "      <td>26864.666667</td>\n",
       "      <td>26808.633333</td>\n",
       "      <td>26732.333333</td>\n",
       "      <td>26670.900000</td>\n",
       "      <td>26647.066667</td>\n",
       "      <td>26795.566667</td>\n",
       "      <td>27380.233333</td>\n",
       "      <td>27997.466667</td>\n",
       "      <td>28315.100000</td>\n",
       "      <td>...</td>\n",
       "      <td>28452.866667</td>\n",
       "      <td>28480.266667</td>\n",
       "      <td>28491.666667</td>\n",
       "      <td>28454.366667</td>\n",
       "      <td>28166.000000</td>\n",
       "      <td>27780.700000</td>\n",
       "      <td>27572.266667</td>\n",
       "      <td>27392.433333</td>\n",
       "      <td>27161.966667</td>\n",
       "      <td>26992.600000</td>\n",
       "    </tr>\n",
       "    <tr>\n",
       "      <th>20200429</th>\n",
       "      <td>26898.066667</td>\n",
       "      <td>26845.066667</td>\n",
       "      <td>26786.900000</td>\n",
       "      <td>26709.833333</td>\n",
       "      <td>26659.000000</td>\n",
       "      <td>26635.433333</td>\n",
       "      <td>26778.033333</td>\n",
       "      <td>27337.366667</td>\n",
       "      <td>27934.200000</td>\n",
       "      <td>28249.233333</td>\n",
       "      <td>...</td>\n",
       "      <td>28369.700000</td>\n",
       "      <td>28371.500000</td>\n",
       "      <td>28350.600000</td>\n",
       "      <td>28298.066667</td>\n",
       "      <td>28029.266667</td>\n",
       "      <td>27667.733333</td>\n",
       "      <td>27447.933333</td>\n",
       "      <td>27231.866667</td>\n",
       "      <td>26985.766667</td>\n",
       "      <td>26746.666667</td>\n",
       "    </tr>\n",
       "    <tr>\n",
       "      <th>20200430</th>\n",
       "      <td>26915.633333</td>\n",
       "      <td>26839.900000</td>\n",
       "      <td>26765.133333</td>\n",
       "      <td>26675.800000</td>\n",
       "      <td>26585.033333</td>\n",
       "      <td>26448.166667</td>\n",
       "      <td>26257.700000</td>\n",
       "      <td>26058.800000</td>\n",
       "      <td>25936.900000</td>\n",
       "      <td>25803.000000</td>\n",
       "      <td>...</td>\n",
       "      <td>25256.300000</td>\n",
       "      <td>25301.933333</td>\n",
       "      <td>25408.633333</td>\n",
       "      <td>25539.500000</td>\n",
       "      <td>25644.533333</td>\n",
       "      <td>25757.300000</td>\n",
       "      <td>25862.533333</td>\n",
       "      <td>25903.033333</td>\n",
       "      <td>25854.733333</td>\n",
       "      <td>25771.300000</td>\n",
       "    </tr>\n",
       "  </tbody>\n",
       "</table>\n",
       "<p>30 rows × 24 columns</p>\n",
       "</div>"
      ],
      "text/plain": [
       "                  mean                                            \\\n",
       "단위시간             0             1             2             3   \n",
       "일자                                                               \n",
       "20200401  27145.333333  27098.533333  27046.966667  26976.500000   \n",
       "20200402  27102.800000  27056.000000  27005.900000  26933.800000   \n",
       "20200403  27076.833333  27031.566667  26979.400000  26905.066667   \n",
       "20200404  26947.300000  26886.366667  26828.200000  26747.800000   \n",
       "20200405  26523.866667  26487.233333  26432.200000  26360.066667   \n",
       "20200406  27007.266667  26979.166667  26933.766667  26869.666667   \n",
       "20200407  27068.366667  27028.866667  26974.066667  26902.933333   \n",
       "20200408  27049.366667  27006.833333  26952.866667  26881.366667   \n",
       "20200409  27039.033333  26995.733333  26944.566667  26873.600000   \n",
       "20200410  27029.200000  26986.466667  26933.500000  26861.600000   \n",
       "20200411  26889.966667  26832.033333  26772.066667  26696.733333   \n",
       "20200412  26466.766667  26423.466667  26373.133333  26303.200000   \n",
       "20200413  26932.533333  26900.600000  26854.233333  26788.166667   \n",
       "20200414  26963.800000  26919.366667  26868.733333  26792.866667   \n",
       "20200415  27007.233333  26939.433333  26876.133333  26794.466667   \n",
       "20200416  26939.266667  26908.633333  26862.600000  26798.433333   \n",
       "20200417  26973.433333  26929.200000  26878.366667  26805.900000   \n",
       "20200418  26889.300000  26828.466667  26769.466667  26692.100000   \n",
       "20200419  26461.100000  26418.300000  26366.366667  26294.766667   \n",
       "20200420  26935.466667  26902.000000  26860.000000  26795.000000   \n",
       "20200421  26986.100000  26941.066667  26889.533333  26816.033333   \n",
       "20200422  26971.900000  26926.666667  26874.800000  26799.566667   \n",
       "20200423  26977.633333  26929.966667  26875.133333  26798.733333   \n",
       "20200424  26974.100000  26929.633333  26875.666667  26799.466667   \n",
       "20200425  26906.766667  26840.566667  26773.566667  26688.900000   \n",
       "20200426  26454.266667  26411.333333  26357.933333  26279.233333   \n",
       "20200427  26869.733333  26839.066667  26791.700000  26725.400000   \n",
       "20200428  26909.666667  26864.666667  26808.633333  26732.333333   \n",
       "20200429  26898.066667  26845.066667  26786.900000  26709.833333   \n",
       "20200430  26915.633333  26839.900000  26765.133333  26675.800000   \n",
       "\n",
       "                                                                  \\\n",
       "단위시간             4             5             6             7   \n",
       "일자                                                               \n",
       "20200401  26917.266667  26895.466667  27022.633333  27556.366667   \n",
       "20200402  26876.766667  26849.866667  26974.100000  27506.233333   \n",
       "20200403  26852.600000  26822.900000  26927.733333  27432.800000   \n",
       "20200404  26675.200000  26586.066667  26487.700000  26433.600000   \n",
       "20200405  26288.333333  26202.700000  26117.200000  26062.266667   \n",
       "20200406  26822.500000  26805.233333  26963.800000  27514.533333   \n",
       "20200407  26841.500000  26820.633333  26961.800000  27514.433333   \n",
       "20200408  26827.966667  26803.700000  26942.966667  27496.633333   \n",
       "20200409  26819.766667  26792.200000  26919.100000  27472.400000   \n",
       "20200410  26811.766667  26792.366667  26910.800000  27447.933333   \n",
       "20200411  26630.500000  26551.400000  26455.300000  26413.233333   \n",
       "20200412  26230.066667  26143.000000  26068.533333  26034.466667   \n",
       "20200413  26735.133333  26711.266667  26866.133333  27406.600000   \n",
       "20200414  26734.600000  26707.900000  26846.066667  27395.133333   \n",
       "20200415  26726.900000  26643.800000  26573.433333  26521.633333   \n",
       "20200416  26747.866667  26721.133333  26853.266667  27382.933333   \n",
       "20200417  26756.233333  26739.166667  26874.133333  27410.566667   \n",
       "20200418  26621.900000  26535.400000  26438.166667  26390.166667   \n",
       "20200419  26224.733333  26132.800000  26050.433333  26006.600000   \n",
       "20200420  26750.133333  26733.733333  26890.433333  27449.433333   \n",
       "20200421  26755.533333  26728.333333  26884.166667  27454.600000   \n",
       "20200422  26747.233333  26726.500000  26876.100000  27440.566667   \n",
       "20200423  26743.666667  26714.033333  26854.000000  27421.866667   \n",
       "20200424  26743.600000  26714.733333  26842.900000  27383.000000   \n",
       "20200425  26615.766667  26526.300000  26426.133333  26366.900000   \n",
       "20200426  26206.233333  26114.233333  26029.800000  25985.066667   \n",
       "20200427  26673.066667  26652.033333  26818.966667  27379.266667   \n",
       "20200428  26670.900000  26647.066667  26795.566667  27380.233333   \n",
       "20200429  26659.000000  26635.433333  26778.033333  27337.366667   \n",
       "20200430  26585.033333  26448.166667  26257.700000  26058.800000   \n",
       "\n",
       "                                      ...                              \\\n",
       "단위시간             8             9  ...            14            15   \n",
       "일자                                  ...                               \n",
       "20200401  28144.866667  28457.366667  ...  28563.133333  28581.766667   \n",
       "20200402  28097.833333  28403.466667  ...  28465.333333  28492.266667   \n",
       "20200403  27997.333333  28294.666667  ...  28337.100000  28339.366667   \n",
       "20200404  26497.733333  26532.933333  ...  26284.100000  26302.400000   \n",
       "20200405  26064.466667  26010.600000  ...  25911.700000  26078.833333   \n",
       "20200406  28122.400000  28463.500000  ...  28588.233333  28598.966667   \n",
       "20200407  28113.033333  28420.800000  ...  28515.000000  28539.500000   \n",
       "20200408  28077.766667  28384.266667  ...  28476.066667  28503.533333   \n",
       "20200409  28057.133333  28361.966667  ...  28446.466667  28481.266667   \n",
       "20200410  28018.700000  28315.833333  ...  28375.000000  28384.433333   \n",
       "20200411  26490.566667  26535.900000  ...  26278.500000  26303.866667   \n",
       "20200412  26064.600000  26038.633333  ...  25990.700000  26149.900000   \n",
       "20200413  28023.966667  28362.366667  ...  28497.200000  28501.566667   \n",
       "20200414  27994.266667  28327.366667  ...  28416.566667  28444.566667   \n",
       "20200415  26563.233333  26566.733333  ...  26385.866667  26509.066667   \n",
       "20200416  27975.233333  28282.433333  ...  28400.000000  28429.600000   \n",
       "20200417  28000.533333  28340.033333  ...  28560.233333  28550.400000   \n",
       "20200418  26471.033333  26519.900000  ...  26247.033333  26258.133333   \n",
       "20200419  26038.900000  26023.866667  ...  26139.166667  26313.833333   \n",
       "20200420  28081.533333  28419.333333  ...  28615.466667  28626.233333   \n",
       "20200421  28054.266667  28375.500000  ...  28526.300000  28540.600000   \n",
       "20200422  28044.733333  28371.100000  ...  28556.433333  28574.866667   \n",
       "20200423  28019.100000  28323.133333  ...  28477.866667  28505.033333   \n",
       "20200424  27982.900000  28294.233333  ...  28424.333333  28446.200000   \n",
       "20200425  26438.766667  26508.900000  ...  26394.166667  26411.800000   \n",
       "20200426  26027.300000  26008.966667  ...  25830.100000  25977.866667   \n",
       "20200427  28016.333333  28355.766667  ...  28524.466667  28532.000000   \n",
       "20200428  27997.466667  28315.100000  ...  28452.866667  28480.266667   \n",
       "20200429  27934.200000  28249.233333  ...  28369.700000  28371.500000   \n",
       "20200430  25936.900000  25803.000000  ...  25256.300000  25301.933333   \n",
       "\n",
       "                                                                  \\\n",
       "단위시간            16            17            18            19   \n",
       "일자                                                               \n",
       "20200401  28589.633333  28540.600000  28261.500000  27894.700000   \n",
       "20200402  28507.066667  28463.333333  28181.166667  27823.833333   \n",
       "20200403  28343.833333  28306.800000  28034.566667  27700.100000   \n",
       "20200404  26363.233333  26443.000000  26515.233333  26605.166667   \n",
       "20200405  26288.933333  26504.133333  26687.600000  26856.066667   \n",
       "20200406  28585.500000  28531.300000  28213.333333  27808.133333   \n",
       "20200407  28549.266667  28509.333333  28197.966667  27811.133333   \n",
       "20200408  28519.033333  28475.100000  28190.466667  27823.133333   \n",
       "20200409  28498.766667  28463.966667  28188.533333  27809.433333   \n",
       "20200410  28369.866667  28313.233333  28030.066667  27675.166667   \n",
       "20200411  26377.733333  26454.066667  26499.700000  26579.566667   \n",
       "20200412  26330.533333  26528.166667  26700.233333  26859.900000   \n",
       "20200413  28487.866667  28433.400000  28119.800000  27702.633333   \n",
       "20200414  28453.400000  28417.300000  28196.700000  27822.000000   \n",
       "20200415  26664.000000  26826.100000  26961.766667  27053.866667   \n",
       "20200416  28431.100000  28407.333333  28129.000000  27750.866667   \n",
       "20200417  28524.966667  28455.600000  28154.966667  27728.200000   \n",
       "20200418  26300.700000  26373.966667  26445.500000  26539.333333   \n",
       "20200419  26496.800000  26675.400000  26810.933333  26932.466667   \n",
       "20200420  28614.066667  28546.366667  28222.333333  27758.166667   \n",
       "20200421  28548.566667  28507.266667  28181.900000  27786.466667   \n",
       "20200422  28578.233333  28519.366667  28208.733333  27795.766667   \n",
       "20200423  28518.200000  28494.900000  28197.500000  27816.766667   \n",
       "20200424  28450.566667  28409.933333  28129.166667  27759.466667   \n",
       "20200425  26476.933333  26553.800000  26580.300000  26635.333333   \n",
       "20200426  26162.100000  26385.000000  26573.033333  26753.333333   \n",
       "20200427  28526.900000  28485.766667  28172.266667  27756.800000   \n",
       "20200428  28491.666667  28454.366667  28166.000000  27780.700000   \n",
       "20200429  28350.600000  28298.066667  28029.266667  27667.733333   \n",
       "20200430  25408.633333  25539.500000  25644.533333  25757.300000   \n",
       "\n",
       "                                                                  \n",
       "단위시간            20            21            22            23  \n",
       "일자                                                              \n",
       "20200401  27661.033333  27489.600000  27308.066667  27180.900000  \n",
       "20200402  27627.100000  27479.733333  27292.900000  27153.833333  \n",
       "20200403  27515.766667  27375.833333  27201.900000  27046.933333  \n",
       "20200404  26688.600000  26717.966667  26659.866667  26579.633333  \n",
       "20200405  26999.033333  27074.033333  27079.800000  27039.033333  \n",
       "20200406  27579.766667  27426.533333  27253.800000  27136.133333  \n",
       "20200407  27596.800000  27441.600000  27256.466667  27123.033333  \n",
       "20200408  27612.233333  27446.833333  27250.133333  27114.066667  \n",
       "20200409  27602.100000  27448.466667  27252.100000  27107.833333  \n",
       "20200410  27475.466667  27334.600000  27161.566667  26997.866667  \n",
       "20200411  26651.600000  26666.133333  26613.466667  26523.600000  \n",
       "20200412  26983.966667  27025.900000  27007.633333  26964.700000  \n",
       "20200413  27492.633333  27335.400000  27154.033333  27031.333333  \n",
       "20200414  27628.700000  27480.233333  27288.400000  27117.833333  \n",
       "20200415  27107.733333  27111.400000  27047.733333  26983.800000  \n",
       "20200416  27545.200000  27386.033333  27185.566667  27049.100000  \n",
       "20200417  27502.666667  27345.166667  27156.433333  26997.633333  \n",
       "20200418  26641.666667  26674.633333  26615.266667  26521.933333  \n",
       "20200419  27028.966667  27036.633333  26999.466667  26966.400000  \n",
       "20200420  27524.366667  27358.833333  27176.400000  27059.600000  \n",
       "20200421  27560.300000  27394.000000  27189.300000  27049.133333  \n",
       "20200422  27575.666667  27404.400000  27197.400000  27058.666667  \n",
       "20200423  27600.433333  27427.500000  27221.233333  27062.933333  \n",
       "20200424  27555.300000  27402.433333  27206.400000  27024.366667  \n",
       "20200425  26689.433333  26691.566667  26624.466667  26521.500000  \n",
       "20200426  26894.300000  26964.466667  26948.933333  26904.500000  \n",
       "20200427  27524.066667  27349.100000  27139.600000  26991.533333  \n",
       "20200428  27572.266667  27392.433333  27161.966667  26992.600000  \n",
       "20200429  27447.933333  27231.866667  26985.766667  26746.666667  \n",
       "20200430  25862.533333  25903.033333  25854.733333  25771.300000  \n",
       "\n",
       "[30 rows x 24 columns]"
      ]
     },
     "execution_count": 89,
     "metadata": {
      "tags": []
     },
     "output_type": "execute_result"
    }
   ],
   "source": [
    "pdf = pd.pivot_table( df,\n",
    "                      index = '일자',\n",
    "                      columns = '단위시간',\n",
    "                      values = '유동인구수',\n",
    "                      aggfunc = [ 'mean' ] )\n",
    "pdf"
   ]
  },
  {
   "cell_type": "code",
   "execution_count": 94,
   "metadata": {
    "colab": {
     "base_uri": "https://localhost:8080/",
     "height": 549
    },
    "executionInfo": {
     "elapsed": 2978,
     "status": "ok",
     "timestamp": 1622173794673,
     "user": {
      "displayName": "OuSeoung LEE",
      "photoUrl": "",
      "userId": "04718254206241101663"
     },
     "user_tz": -540
    },
    "id": "6edkxofFFkZn",
    "outputId": "df088f44-891b-41f5-bf93-5fc1aceac933"
   },
   "outputs": [
    {
     "data": {
      "image/png": "[encoded data removed]",
      "text/plain": [
       "<Figure size 2160x720 with 1 Axes>"
      ]
     },
     "metadata": {
      "tags": []
     },
     "output_type": "display_data"
    }
   ],
   "source": [
    "sns.set_theme( style = 'whitegrid' )\n",
    "\n",
    "ax = pdf.plot( kind = 'bar', figsize = ( 30, 10 ) )\n",
    "ax.set_xticklabels( pdf.index, rotation = 75 )\n",
    "\n",
    "plt.show()"
   ]
  },
  {
   "cell_type": "code",
   "execution_count": null,
   "metadata": {
    "id": "iGVgf8dvx87j"
   },
   "outputs": [],
   "source": []
  }
 ],
 "metadata": {
  "colab": {
   "collapsed_sections": [],
   "name": "Floating_Population_2004_EDA_Final.ipynb",
   "provenance": [
    {
     "file_id": "1qoVyUS7cUJTWvY_YvvG69aIAInvcrZld",
     "timestamp": 1622168574130
    }
   ]
  },
  "kernelspec": {
   "display_name": "Python 3",
   "language": "python",
   "name": "python3"
  },
  "language_info": {
   "codemirror_mode": {
    "name": "ipython",
    "version": 3
   },
   "file_extension": ".py",
   "mimetype": "text/x-python",
   "name": "python",
   "nbconvert_exporter": "python",
   "pygments_lexer": "ipython3",
   "version": "3.8.5"
  }
 },
 "nbformat": 4,
 "nbformat_minor": 4
}
