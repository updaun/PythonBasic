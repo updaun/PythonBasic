{
 "cells": [
  {
   "cell_type": "markdown",
   "metadata": {},
   "source": [
    "# 함수(function)\n",
    "## 함수 호출"
   ]
  },
  {
   "cell_type": "code",
   "execution_count": 1,
   "metadata": {},
   "outputs": [
    {
     "name": "stdout",
     "output_type": "stream",
     "text": [
      "이름을 입력하세요 : jdu\n",
      "name = jdu\n"
     ]
    }
   ],
   "source": [
    "# 내장함수 호출\n",
    "# input()\n",
    "name = input(\"이름을 입력하세요 : \")\n",
    "\n",
    "# print()\n",
    "print(f'name = {name}')"
   ]
  },
  {
   "cell_type": "markdown",
   "metadata": {},
   "source": [
    "### 사용자 정의 함수(User Define Function)"
   ]
  },
  {
   "cell_type": "code",
   "execution_count": 4,
   "metadata": {},
   "outputs": [],
   "source": [
    "def add(a,b):\n",
    "    return a+b"
   ]
  },
  {
   "cell_type": "code",
   "execution_count": 5,
   "metadata": {},
   "outputs": [
    {
     "data": {
      "text/plain": [
       "<function __main__.add(a, b)>"
      ]
     },
     "execution_count": 5,
     "metadata": {},
     "output_type": "execute_result"
    }
   ],
   "source": [
    "add"
   ]
  },
  {
   "cell_type": "code",
   "execution_count": 6,
   "metadata": {},
   "outputs": [
    {
     "data": {
      "text/plain": [
       "15"
      ]
     },
     "execution_count": 6,
     "metadata": {},
     "output_type": "execute_result"
    }
   ],
   "source": [
    "add(5, 10)"
   ]
  },
  {
   "cell_type": "code",
   "execution_count": 7,
   "metadata": {},
   "outputs": [
    {
     "name": "stdout",
     "output_type": "stream",
     "text": [
      "5+10 = 15\n"
     ]
    }
   ],
   "source": [
    "print(f'5+10 = {add(5,10)}')"
   ]
  },
  {
   "cell_type": "code",
   "execution_count": 8,
   "metadata": {},
   "outputs": [
    {
     "name": "stdout",
     "output_type": "stream",
     "text": [
      "5+10 = 15\n"
     ]
    }
   ],
   "source": [
    "result = add(5,10)\n",
    "\n",
    "print(f'5+10 = {result}')"
   ]
  },
  {
   "cell_type": "markdown",
   "metadata": {},
   "source": [
    "## 함수 종류(유형)\n",
    "\n",
    "### 1. 인수가 없고 return 값도 없는 유형"
   ]
  },
  {
   "cell_type": "code",
   "execution_count": 9,
   "metadata": {},
   "outputs": [],
   "source": [
    "def myprint():\n",
    "    print('함수 유형1 -> myprint()')"
   ]
  },
  {
   "cell_type": "code",
   "execution_count": 10,
   "metadata": {},
   "outputs": [
    {
     "name": "stdout",
     "output_type": "stream",
     "text": [
      "함수 유형1 -> myprint()\n"
     ]
    }
   ],
   "source": [
    "myprint()"
   ]
  },
  {
   "cell_type": "markdown",
   "metadata": {},
   "source": [
    "### 2. 인수가 있고 return 값이 없는 유형"
   ]
  },
  {
   "cell_type": "code",
   "execution_count": 11,
   "metadata": {},
   "outputs": [],
   "source": [
    "def myprint(str):\n",
    "    print('함수 유형2 -> myprint()')\n",
    "    print(f\"인수 : {str}\")"
   ]
  },
  {
   "cell_type": "code",
   "execution_count": 12,
   "metadata": {},
   "outputs": [
    {
     "name": "stdout",
     "output_type": "stream",
     "text": [
      "함수 유형2 -> myprint()\n",
      "인수 : hello, python!!!\n"
     ]
    }
   ],
   "source": [
    "myprint('hello, python!!!')"
   ]
  },
  {
   "cell_type": "code",
   "execution_count": 13,
   "metadata": {},
   "outputs": [
    {
     "name": "stdout",
     "output_type": "stream",
     "text": [
      "함수 유형2 -> myprint()\n",
      "인수 : hello\n",
      "result : None\n"
     ]
    }
   ],
   "source": [
    "result = myprint('hello')\n",
    "\n",
    "print(f'result : {result}')"
   ]
  },
  {
   "cell_type": "code",
   "execution_count": 14,
   "metadata": {},
   "outputs": [
    {
     "name": "stdout",
     "output_type": "stream",
     "text": [
      "함수 유형2 -> myprint()\n",
      "인수 : 15\n"
     ]
    }
   ],
   "source": [
    "myprint(5+10)"
   ]
  },
  {
   "cell_type": "markdown",
   "metadata": {},
   "source": [
    "### 3. 인수가 없고 return값 있는 경우"
   ]
  },
  {
   "cell_type": "code",
   "execution_count": 15,
   "metadata": {},
   "outputs": [],
   "source": [
    "def myfunc():\n",
    "    print('함수 유형 3 -> myfunc()')\n",
    "    return 5+10"
   ]
  },
  {
   "cell_type": "code",
   "execution_count": 16,
   "metadata": {},
   "outputs": [
    {
     "name": "stdout",
     "output_type": "stream",
     "text": [
      "함수 유형 3 -> myfunc()\n",
      "result : 15\n"
     ]
    }
   ],
   "source": [
    "result = myfunc()\n",
    "\n",
    "print(f'result : {result}')"
   ]
  },
  {
   "cell_type": "markdown",
   "metadata": {},
   "source": [
    "### 4. 인수가 있고 return값 있는 유형"
   ]
  },
  {
   "cell_type": "code",
   "execution_count": 17,
   "metadata": {},
   "outputs": [],
   "source": [
    "def add(a,b):\n",
    "    print('함수 유형 4 -> add()')\n",
    "    retValue = a+b\n",
    "    \n",
    "    return retValue"
   ]
  },
  {
   "cell_type": "code",
   "execution_count": 18,
   "metadata": {},
   "outputs": [
    {
     "name": "stdout",
     "output_type": "stream",
     "text": [
      "함수 유형 4 -> add()\n",
      "result : 15\n"
     ]
    }
   ],
   "source": [
    "result = add(5,10)\n",
    "\n",
    "print(f'result : {result}')"
   ]
  },
  {
   "cell_type": "markdown",
   "metadata": {},
   "source": [
    "### return 값"
   ]
  },
  {
   "cell_type": "code",
   "execution_count": 25,
   "metadata": {},
   "outputs": [],
   "source": [
    "def int_divide(a,b):\n",
    "    return a // b\n",
    "\n",
    "def int_remainder(a,b):\n",
    "    return a % b"
   ]
  },
  {
   "cell_type": "code",
   "execution_count": 26,
   "metadata": {},
   "outputs": [
    {
     "name": "stdout",
     "output_type": "stream",
     "text": [
      "10 / 2 = 5\n",
      "10 % 2 = 0\n"
     ]
    }
   ],
   "source": [
    "number1 = 10\n",
    "number2 = 2\n",
    "\n",
    "divide = int_divide(number1, number2)\n",
    "remainder = int_remainder(number1, number2)\n",
    "\n",
    "print(f'{number1} / {number2} = {divide}')\n",
    "print(f'{number1} % {number2} = {remainder}')"
   ]
  },
  {
   "cell_type": "code",
   "execution_count": 27,
   "metadata": {},
   "outputs": [
    {
     "data": {
      "text/plain": [
       "(5, 0)"
      ]
     },
     "execution_count": 27,
     "metadata": {},
     "output_type": "execute_result"
    }
   ],
   "source": [
    "divmod(number1,number2) # 내장 함수"
   ]
  },
  {
   "cell_type": "code",
   "execution_count": 28,
   "metadata": {},
   "outputs": [],
   "source": [
    "def my_divmod(arg1, arg2):\n",
    "    return (arg1//arg2, arg1% arg2)"
   ]
  },
  {
   "cell_type": "code",
   "execution_count": 29,
   "metadata": {},
   "outputs": [
    {
     "data": {
      "text/plain": [
       "(5, 0)"
      ]
     },
     "execution_count": 29,
     "metadata": {},
     "output_type": "execute_result"
    }
   ],
   "source": [
    "my_divmod(number1, number2)"
   ]
  },
  {
   "cell_type": "code",
   "execution_count": 30,
   "metadata": {},
   "outputs": [],
   "source": [
    "def my_divmod(arg1, arg2):\n",
    "    return arg1//arg2, arg1% arg2 # tuple형으로 return"
   ]
  },
  {
   "cell_type": "code",
   "execution_count": 31,
   "metadata": {},
   "outputs": [
    {
     "data": {
      "text/plain": [
       "(5, 0)"
      ]
     },
     "execution_count": 31,
     "metadata": {},
     "output_type": "execute_result"
    }
   ],
   "source": [
    "my_divmod(number1, number2)"
   ]
  },
  {
   "cell_type": "code",
   "execution_count": 32,
   "metadata": {},
   "outputs": [],
   "source": [
    "def my_divmod(arg1, arg2):\n",
    "    divider = arg1//arg2\n",
    "    remainder = arg1% arg2\n",
    "    return divider, remainder # tuple형으로 return"
   ]
  },
  {
   "cell_type": "code",
   "execution_count": 33,
   "metadata": {},
   "outputs": [
    {
     "data": {
      "text/plain": [
       "(5, 0)"
      ]
     },
     "execution_count": 33,
     "metadata": {},
     "output_type": "execute_result"
    }
   ],
   "source": [
    "my_divmod(number1, number2)"
   ]
  },
  {
   "cell_type": "code",
   "execution_count": 36,
   "metadata": {},
   "outputs": [],
   "source": [
    "def my_func(arg):\n",
    "    print(f'\\tmy_func()에 전달된 인수 {arg}')\n",
    "    arg += 10\n",
    "    print(f'\\tmy_func()에 절단된 인수를 변경한 값{arg}')"
   ]
  },
  {
   "cell_type": "code",
   "execution_count": 38,
   "metadata": {},
   "outputs": [
    {
     "name": "stdout",
     "output_type": "stream",
     "text": [
      "함수 호출 전 value -> 10\n",
      "\tmy_func()에 전달된 인수 10\n",
      "\tmy_func()에 절단된 인수를 변경한 값20\n",
      "함수 호출 전 value -> 10\n"
     ]
    }
   ],
   "source": [
    "value = 10\n",
    "print(f'함수 호출 전 value -> {value}')\n",
    "\n",
    "my_func(value)\n",
    "\n",
    "print(f'함수 호출 전 value -> {value}') # 함수 내에서 인수의 변화를 주어도 원본에 영향이 없다"
   ]
  },
  {
   "cell_type": "code",
   "execution_count": 39,
   "metadata": {},
   "outputs": [],
   "source": [
    "def my_func(arg):\n",
    "    print(f'\\tmy_func()에 전달된 인수 {arg}')\n",
    "    arg[0] += 10\n",
    "    print(f'\\tmy_func()에 절단된 인수를 변경한 값{arg}')"
   ]
  },
  {
   "cell_type": "code",
   "execution_count": 41,
   "metadata": {},
   "outputs": [
    {
     "name": "stdout",
     "output_type": "stream",
     "text": [
      "함수 호출 전 value -> [1, 2, 3]\n",
      "\tmy_func()에 전달된 인수 [1, 2, 3]\n",
      "\tmy_func()에 절단된 인수를 변경한 값[11, 2, 3]\n",
      "함수 호출 전 value -> [11, 2, 3]\n"
     ]
    }
   ],
   "source": [
    "value = [1,2,3]\n",
    "print(f'함수 호출 전 value -> {value}')\n",
    "\n",
    "my_func(value)\n",
    "\n",
    "print(f'함수 호출 전 value -> {value}') # 함수 내에서 가변 자료형 인수의 변화를 주면 원본에 영향이 있다"
   ]
  },
  {
   "cell_type": "markdown",
   "metadata": {},
   "source": [
    "### string 변수의 내용을 my_func() 내에서 변화를 주고 싶은 경우"
   ]
  },
  {
   "cell_type": "code",
   "execution_count": 54,
   "metadata": {},
   "outputs": [],
   "source": [
    "def my_func(string, value):\n",
    "    string = f'{string} -> value : {value}'\n",
    "    print(string)"
   ]
  },
  {
   "cell_type": "code",
   "execution_count": 55,
   "metadata": {},
   "outputs": [
    {
     "name": "stdout",
     "output_type": "stream",
     "text": [
      "python -> value : 10\n",
      "python\n"
     ]
    }
   ],
   "source": [
    "string = \"python\" # str : 불변\n",
    "\n",
    "my_func(string, 10)\n",
    "\n",
    "print(string)"
   ]
  },
  {
   "cell_type": "markdown",
   "metadata": {},
   "source": [
    "### string 변수의 내용 변화를 my_func() 함수 return값으로 변화를 준 경우"
   ]
  },
  {
   "cell_type": "code",
   "execution_count": 56,
   "metadata": {},
   "outputs": [],
   "source": [
    "def my_func(string, value):\n",
    "    string = f'{string} -> value : {value}'\n",
    "    print(string)\n",
    "    \n",
    "    return string"
   ]
  },
  {
   "cell_type": "code",
   "execution_count": 57,
   "metadata": {},
   "outputs": [
    {
     "name": "stdout",
     "output_type": "stream",
     "text": [
      "python -> value : 10\n",
      "python -> value : 10\n"
     ]
    }
   ],
   "source": [
    "string = \"python\" # str : 불변\n",
    "\n",
    "string = my_func(string, 10)\n",
    "\n",
    "print(string)"
   ]
  },
  {
   "cell_type": "markdown",
   "metadata": {},
   "source": [
    "## 변수 사용 범위"
   ]
  },
  {
   "cell_type": "code",
   "execution_count": 58,
   "metadata": {},
   "outputs": [],
   "source": [
    "value = 10 # value : 지역 범위"
   ]
  },
  {
   "cell_type": "code",
   "execution_count": 59,
   "metadata": {},
   "outputs": [],
   "source": [
    "def my_func(value): # value : 지역 범위\n",
    "    print(f'\\tmy_func()에 전달된 인수 {value}')\n",
    "    value += 10\n",
    "    print(f'\\tmy_func()에 절단된 인수를 변경한 값{value}')"
   ]
  },
  {
   "cell_type": "code",
   "execution_count": 60,
   "metadata": {},
   "outputs": [
    {
     "name": "stdout",
     "output_type": "stream",
     "text": [
      "함수 호출 전 value -> 10\n",
      "\tmy_func()에 전달된 인수 10\n",
      "\tmy_func()에 절단된 인수를 변경한 값20\n",
      "함수 호출 후 value -> 10\n"
     ]
    }
   ],
   "source": [
    "print(f'함수 호출 전 value -> {value}') \n",
    "\n",
    "my_func(value)\n",
    "\n",
    "print(f'함수 호출 후 value -> {value}') "
   ]
  },
  {
   "cell_type": "markdown",
   "metadata": {},
   "source": [
    "### 전역 범위 변수"
   ]
  },
  {
   "cell_type": "code",
   "execution_count": 63,
   "metadata": {},
   "outputs": [],
   "source": [
    "value = 10"
   ]
  },
  {
   "cell_type": "code",
   "execution_count": 66,
   "metadata": {},
   "outputs": [],
   "source": [
    "def my_func(): \n",
    "    global value\n",
    "    print(f'\\tmy_func()에 전달된 인수 {value}')\n",
    "    value += 10\n",
    "    print(f'\\tmy_func()에 절단된 인수를 변경한 값{value}')"
   ]
  },
  {
   "cell_type": "code",
   "execution_count": 67,
   "metadata": {},
   "outputs": [
    {
     "name": "stdout",
     "output_type": "stream",
     "text": [
      "함수 호출 전 value -> 10\n",
      "\tmy_func()에 전달된 인수 10\n",
      "\tmy_func()에 절단된 인수를 변경한 값20\n",
      "함수 호출 후 value -> 20\n"
     ]
    }
   ],
   "source": [
    "print(f'함수 호출 전 value -> {value}') \n",
    "\n",
    "my_func()\n",
    "\n",
    "print(f'함수 호출 후 value -> {value}') "
   ]
  },
  {
   "cell_type": "markdown",
   "metadata": {},
   "source": [
    "### default 인수"
   ]
  },
  {
   "cell_type": "code",
   "execution_count": 68,
   "metadata": {},
   "outputs": [],
   "source": [
    "# number1 = 5 : number1에 인수가 전달 되지 않으면 5를 기본값으로 사용\n",
    "# number2 = 10 : number2에 인수가 전달 되지 않으면 10을 기본값으로 사용\n",
    "\n",
    "def add(number1 = 5, number2 = 10 ):\n",
    "    return number1 + number2"
   ]
  },
  {
   "cell_type": "code",
   "execution_count": 69,
   "metadata": {},
   "outputs": [
    {
     "data": {
      "text/plain": [
       "20"
      ]
     },
     "execution_count": 69,
     "metadata": {},
     "output_type": "execute_result"
    }
   ],
   "source": [
    "add(10,10)"
   ]
  },
  {
   "cell_type": "code",
   "execution_count": 71,
   "metadata": {},
   "outputs": [
    {
     "data": {
      "text/plain": [
       "125"
      ]
     },
     "execution_count": 71,
     "metadata": {},
     "output_type": "execute_result"
    }
   ],
   "source": [
    "add(115)"
   ]
  },
  {
   "cell_type": "code",
   "execution_count": 72,
   "metadata": {},
   "outputs": [
    {
     "data": {
      "text/plain": [
       "15"
      ]
     },
     "execution_count": 72,
     "metadata": {},
     "output_type": "execute_result"
    }
   ],
   "source": [
    "add()"
   ]
  },
  {
   "cell_type": "code",
   "execution_count": 73,
   "metadata": {},
   "outputs": [],
   "source": [
    "def add(number1, number2 = 10 ):\n",
    "    return number1 + number2"
   ]
  },
  {
   "cell_type": "code",
   "execution_count": 74,
   "metadata": {},
   "outputs": [
    {
     "ename": "SyntaxError",
     "evalue": "non-default argument follows default argument (<ipython-input-74-a75fe20efa9b>, line 1)",
     "output_type": "error",
     "traceback": [
      "\u001b[1;36m  File \u001b[1;32m\"<ipython-input-74-a75fe20efa9b>\"\u001b[1;36m, line \u001b[1;32m1\u001b[0m\n\u001b[1;33m    def add(number1 = 5, number2):\u001b[0m\n\u001b[1;37m            ^\u001b[0m\n\u001b[1;31mSyntaxError\u001b[0m\u001b[1;31m:\u001b[0m non-default argument follows default argument\n"
     ]
    }
   ],
   "source": [
    "def add(number1 = 5, number2):  # default 인수를 오른쪽부터 선언해야한다.\n",
    "    return number1 + number2"
   ]
  },
  {
   "cell_type": "markdown",
   "metadata": {},
   "source": [
    "### keyword 인수"
   ]
  },
  {
   "cell_type": "code",
   "execution_count": 75,
   "metadata": {},
   "outputs": [],
   "source": [
    "def area(height, width):\n",
    "    return height * width"
   ]
  },
  {
   "cell_type": "code",
   "execution_count": 76,
   "metadata": {},
   "outputs": [
    {
     "data": {
      "text/plain": [
       "50"
      ]
     },
     "execution_count": 76,
     "metadata": {},
     "output_type": "execute_result"
    }
   ],
   "source": [
    "area(10, 5)"
   ]
  },
  {
   "cell_type": "code",
   "execution_count": 77,
   "metadata": {},
   "outputs": [
    {
     "data": {
      "text/plain": [
       "50"
      ]
     },
     "execution_count": 77,
     "metadata": {},
     "output_type": "execute_result"
    }
   ],
   "source": [
    "area(width = 5, height = 10)"
   ]
  },
  {
   "cell_type": "code",
   "execution_count": null,
   "metadata": {},
   "outputs": [],
   "source": []
  }
 ],
 "metadata": {
  "kernelspec": {
   "display_name": "Python 3",
   "language": "python",
   "name": "python3"
  },
  "language_info": {
   "codemirror_mode": {
    "name": "ipython",
    "version": 3
   },
   "file_extension": ".py",
   "mimetype": "text/x-python",
   "name": "python",
   "nbconvert_exporter": "python",
   "pygments_lexer": "ipython3",
   "version": "3.8.5"
  }
 },
 "nbformat": 4,
 "nbformat_minor": 4
}
