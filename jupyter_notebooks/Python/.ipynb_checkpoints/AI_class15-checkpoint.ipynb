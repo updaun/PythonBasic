{
 "cells": [
  {
   "cell_type": "markdown",
   "metadata": {},
   "source": [
    "## 함수\n",
    "### 가변 인수"
   ]
  },
  {
   "cell_type": "code",
   "execution_count": 3,
   "metadata": {},
   "outputs": [
    {
     "name": "stdout",
     "output_type": "stream",
     "text": [
      "\n"
     ]
    }
   ],
   "source": [
    "print() # 인수 없음"
   ]
  },
  {
   "cell_type": "code",
   "execution_count": 4,
   "metadata": {},
   "outputs": [
    {
     "name": "stdout",
     "output_type": "stream",
     "text": [
      "hello world\n"
     ]
    }
   ],
   "source": [
    "print(\"hello world\") # 인수 1개"
   ]
  },
  {
   "cell_type": "code",
   "execution_count": 5,
   "metadata": {},
   "outputs": [
    {
     "name": "stdout",
     "output_type": "stream",
     "text": [
      "1 10 hello world\n"
     ]
    }
   ],
   "source": [
    "print(1, 10, 'hello', 'world') # 인수 4개"
   ]
  },
  {
   "cell_type": "markdown",
   "metadata": {},
   "source": [
    "### 가변 인수 정의"
   ]
  },
  {
   "cell_type": "code",
   "execution_count": 6,
   "metadata": {},
   "outputs": [],
   "source": [
    "def my_func(a, *arg):\n",
    "    print(f'a : {type(a)}\\targ : {type(arg)}\\n')\n",
    "    print(f'a : {a}')\n",
    "    for i, v in enumerate(arg):\n",
    "        print(f'[{i:3}] : {v}')"
   ]
  },
  {
   "cell_type": "code",
   "execution_count": 7,
   "metadata": {},
   "outputs": [
    {
     "name": "stdout",
     "output_type": "stream",
     "text": [
      "a : <class 'int'>\targ : <class 'tuple'>\n",
      "\n",
      "a : 5\n"
     ]
    }
   ],
   "source": [
    "my_func(5)"
   ]
  },
  {
   "cell_type": "code",
   "execution_count": 8,
   "metadata": {},
   "outputs": [
    {
     "name": "stdout",
     "output_type": "stream",
     "text": [
      "a : <class 'int'>\targ : <class 'tuple'>\n",
      "\n",
      "a : 5\n",
      "[  0] : 10\n",
      "[  1] : hello\n",
      "[  2] : world\n"
     ]
    }
   ],
   "source": [
    "my_func(5, 10, 'hello', 'world')"
   ]
  },
  {
   "cell_type": "code",
   "execution_count": 9,
   "metadata": {},
   "outputs": [],
   "source": [
    "def my_func(*arg):\n",
    "    for i, v in enumerate(arg):\n",
    "        print(f'[{i:3}] : {v}')"
   ]
  },
  {
   "cell_type": "code",
   "execution_count": 10,
   "metadata": {},
   "outputs": [
    {
     "name": "stdout",
     "output_type": "stream",
     "text": [
      "[  0] : 5\n",
      "[  1] : 10\n",
      "[  2] : hello\n",
      "[  3] : world\n"
     ]
    }
   ],
   "source": [
    "my_func(5, 10, 'hello', 'world')"
   ]
  },
  {
   "cell_type": "markdown",
   "metadata": {},
   "source": [
    "### 키워드 가변 인수"
   ]
  },
  {
   "cell_type": "code",
   "execution_count": 15,
   "metadata": {},
   "outputs": [],
   "source": [
    "def my_func(height, wight, **kw): # kw 키워드 가변 인수\n",
    "    print(f'height : {type(height)}\\t', end='')\n",
    "    print(f'wight : {type(wight)}\\t', end='')\n",
    "    print(f'kw : {type(kw)}\\n')\n",
    "    \n",
    "    print(f'height : {height}\\twight : {wight}\\n')\n",
    "    for k, v in kw.items():\n",
    "        print(f'[{k}] : {v}')"
   ]
  },
  {
   "cell_type": "code",
   "execution_count": 16,
   "metadata": {},
   "outputs": [
    {
     "name": "stdout",
     "output_type": "stream",
     "text": [
      "height : <class 'int'>\twight : <class 'int'>\tkw : <class 'dict'>\n",
      "\n",
      "height : 5\twight : 10\n",
      "\n"
     ]
    }
   ],
   "source": [
    "my_func(height = 5, wight = 10)"
   ]
  },
  {
   "cell_type": "code",
   "execution_count": 17,
   "metadata": {},
   "outputs": [
    {
     "name": "stdout",
     "output_type": "stream",
     "text": [
      "height : <class 'int'>\twight : <class 'int'>\tkw : <class 'dict'>\n",
      "\n",
      "height : 5\twight : 10\n",
      "\n"
     ]
    }
   ],
   "source": [
    "my_func(wight = 10, height = 5)"
   ]
  },
  {
   "cell_type": "code",
   "execution_count": 18,
   "metadata": {},
   "outputs": [
    {
     "name": "stdout",
     "output_type": "stream",
     "text": [
      "height : <class 'int'>\twight : <class 'int'>\tkw : <class 'dict'>\n",
      "\n",
      "height : 5\twight : 10\n",
      "\n",
      "[depth] : 3\n",
      "[dimension] : 3\n"
     ]
    }
   ],
   "source": [
    "my_func(wight = 10, height = 5, depth = 3,  dimension =3)"
   ]
  },
  {
   "cell_type": "markdown",
   "metadata": {},
   "source": [
    "### 가변인수와 키워드 가변인수를 모두 적용한 경우"
   ]
  },
  {
   "cell_type": "code",
   "execution_count": 19,
   "metadata": {},
   "outputs": [],
   "source": [
    "def my_func(a, b, *arg, **kw):\n",
    "    print(a,b)\n",
    "    print(arg)\n",
    "    print(kw)"
   ]
  },
  {
   "cell_type": "code",
   "execution_count": 20,
   "metadata": {},
   "outputs": [
    {
     "name": "stdout",
     "output_type": "stream",
     "text": [
      "5 10\n",
      "()\n",
      "{'height': 5, 'width': 10}\n"
     ]
    }
   ],
   "source": [
    "my_func(5,10, height = 5, width = 10)"
   ]
  },
  {
   "cell_type": "code",
   "execution_count": 21,
   "metadata": {},
   "outputs": [
    {
     "name": "stdout",
     "output_type": "stream",
     "text": [
      "5 10\n",
      "(15, 20)\n",
      "{}\n"
     ]
    }
   ],
   "source": [
    "my_func(5,10,15,20)"
   ]
  },
  {
   "cell_type": "code",
   "execution_count": 22,
   "metadata": {},
   "outputs": [
    {
     "name": "stdout",
     "output_type": "stream",
     "text": [
      "5 10\n",
      "(15, 20)\n",
      "{'width': 10, 'height': 5}\n"
     ]
    }
   ],
   "source": [
    "my_func(5,10,15,20, width = 10, height = 5)"
   ]
  },
  {
   "cell_type": "markdown",
   "metadata": {},
   "source": [
    "### 함수 호출시 tuple / dict 인수 전달"
   ]
  },
  {
   "cell_type": "code",
   "execution_count": 42,
   "metadata": {},
   "outputs": [],
   "source": [
    "def my_func(a,b,c):\n",
    "    print(a,b,c)"
   ]
  },
  {
   "cell_type": "code",
   "execution_count": 36,
   "metadata": {},
   "outputs": [],
   "source": [
    "t = (1,2,3)"
   ]
  },
  {
   "cell_type": "code",
   "execution_count": 37,
   "metadata": {},
   "outputs": [
    {
     "name": "stdout",
     "output_type": "stream",
     "text": [
      "1 2 3\n"
     ]
    }
   ],
   "source": [
    "my_func(*t)"
   ]
  },
  {
   "cell_type": "code",
   "execution_count": 38,
   "metadata": {},
   "outputs": [],
   "source": [
    "def my_func(t):\n",
    "    for v in t:\n",
    "        print(v)"
   ]
  },
  {
   "cell_type": "code",
   "execution_count": 39,
   "metadata": {},
   "outputs": [
    {
     "name": "stdout",
     "output_type": "stream",
     "text": [
      "1\n",
      "2\n",
      "3\n"
     ]
    }
   ],
   "source": [
    "my_func(t)"
   ]
  },
  {
   "cell_type": "code",
   "execution_count": 43,
   "metadata": {},
   "outputs": [
    {
     "name": "stdout",
     "output_type": "stream",
     "text": [
      "1 2 3\n"
     ]
    }
   ],
   "source": [
    "a,b,c = t # tuple unpacking\n",
    "my_func(a,b,c)"
   ]
  },
  {
   "cell_type": "code",
   "execution_count": 44,
   "metadata": {},
   "outputs": [],
   "source": [
    "d = { 'a':1, 'b':2, 'c':3}"
   ]
  },
  {
   "cell_type": "code",
   "execution_count": 45,
   "metadata": {},
   "outputs": [
    {
     "name": "stdout",
     "output_type": "stream",
     "text": [
      "1 2 3\n"
     ]
    }
   ],
   "source": [
    "my_func(**d) # dict를 전달, key에 해당하는 인수에 전달"
   ]
  },
  {
   "cell_type": "markdown",
   "metadata": {},
   "source": [
    "### 모듈"
   ]
  },
  {
   "cell_type": "markdown",
   "metadata": {},
   "source": [
    "### pip list : 현재 설치되어 있는 패키지 목록 확인"
   ]
  },
  {
   "cell_type": "markdown",
   "metadata": {},
   "source": [
    "### conda list : anaconda 배포판에 설치된 패키지 목록 확인"
   ]
  },
  {
   "cell_type": "markdown",
   "metadata": {},
   "source": [
    "## 모듈(module)"
   ]
  },
  {
   "cell_type": "markdown",
   "metadata": {},
   "source": [
    "### 1. 기본 모듈 사용 형식"
   ]
  },
  {
   "cell_type": "code",
   "execution_count": 46,
   "metadata": {},
   "outputs": [],
   "source": [
    "import Modules.mylib"
   ]
  },
  {
   "cell_type": "code",
   "execution_count": 50,
   "metadata": {},
   "outputs": [
    {
     "data": {
      "text/plain": [
       "['__builtins__',\n",
       " '__cached__',\n",
       " '__doc__',\n",
       " '__file__',\n",
       " '__loader__',\n",
       " '__name__',\n",
       " '__package__',\n",
       " '__spec__',\n",
       " 'my_max',\n",
       " 'my_min']"
      ]
     },
     "execution_count": 50,
     "metadata": {},
     "output_type": "execute_result"
    }
   ],
   "source": [
    "dir(Modules.mylib) # dir() : 로드된 모듈에 포함된 애용의 목록 확이 함수"
   ]
  },
  {
   "cell_type": "code",
   "execution_count": 51,
   "metadata": {},
   "outputs": [],
   "source": [
    "l = [5,3,2,1,-9]"
   ]
  },
  {
   "cell_type": "code",
   "execution_count": 53,
   "metadata": {},
   "outputs": [
    {
     "name": "stdout",
     "output_type": "stream",
     "text": [
      "max = 5\n",
      "min = -9\n"
     ]
    }
   ],
   "source": [
    "print(f'max = {Modules.mylib.my_max(l)}')\n",
    "print(f'min = {Modules.mylib.my_min(l)}')"
   ]
  },
  {
   "cell_type": "markdown",
   "metadata": {},
   "source": [
    "### 2. 별명을 붙여서 사용하는 형식"
   ]
  },
  {
   "cell_type": "code",
   "execution_count": 54,
   "metadata": {},
   "outputs": [],
   "source": [
    "import Modules.mylib as my"
   ]
  },
  {
   "cell_type": "code",
   "execution_count": 55,
   "metadata": {},
   "outputs": [
    {
     "name": "stdout",
     "output_type": "stream",
     "text": [
      "max = 5\n",
      "min = -9\n"
     ]
    }
   ],
   "source": [
    "print(f'max = {my.my_max(l)}')\n",
    "print(f'min = {my.my_min(l)}')"
   ]
  },
  {
   "cell_type": "markdown",
   "metadata": {},
   "source": [
    "### 3. 모듈내에 특정 함수를 지정하여 사용하는 형식"
   ]
  },
  {
   "cell_type": "code",
   "execution_count": 56,
   "metadata": {},
   "outputs": [],
   "source": [
    "from Modules.mylib import my_max\n",
    "from Modules.mylib import my_min"
   ]
  },
  {
   "cell_type": "code",
   "execution_count": 57,
   "metadata": {},
   "outputs": [
    {
     "name": "stdout",
     "output_type": "stream",
     "text": [
      "max = 5\n",
      "min = -9\n"
     ]
    }
   ],
   "source": [
    "print(f'max = {my_max(l)}')\n",
    "print(f'min = {my_min(l)}')"
   ]
  },
  {
   "cell_type": "code",
   "execution_count": null,
   "metadata": {},
   "outputs": [],
   "source": []
  }
 ],
 "metadata": {
  "kernelspec": {
   "display_name": "Python 3",
   "language": "python",
   "name": "python3"
  },
  "language_info": {
   "codemirror_mode": {
    "name": "ipython",
    "version": 3
   },
   "file_extension": ".py",
   "mimetype": "text/x-python",
   "name": "python",
   "nbconvert_exporter": "python",
   "pygments_lexer": "ipython3",
   "version": "3.8.5"
  }
 },
 "nbformat": 4,
 "nbformat_minor": 4
}
