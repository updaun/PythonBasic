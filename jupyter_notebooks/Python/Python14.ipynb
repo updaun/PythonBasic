{
 "cells": [
  {
   "cell_type": "markdown",
   "metadata": {},
   "source": [
    "##  파일처리"
   ]
  },
  {
   "cell_type": "markdown",
   "metadata": {},
   "source": [
    "### 파일에 record 쓰기"
   ]
  },
  {
   "cell_type": "code",
   "execution_count": 5,
   "metadata": {},
   "outputs": [
    {
     "name": "stdout",
     "output_type": "stream",
     "text": [
      " 1\n",
      " 2\n",
      " 3\n",
      " 4\n",
      " 5\n",
      " 6\n",
      " 7\n",
      " 8\n",
      " 9\n",
      "10\n"
     ]
    }
   ],
   "source": [
    "# 1. file open\n",
    "f = open(\"./test/test.txt\", 'w')\n",
    "\n",
    "for i in range(1, 11):\n",
    "    print(f'{i:2}')\n",
    "    # 2. file 처리 (record 쓰기) ,  줄바꿈을 넣어서 한줄에 하나의 데이터를 입력하는 것이 좋다.\n",
    "    f.write(f'{i:2}\\n')\n",
    "    \n",
    "# 3. file close\n",
    "f.close()"
   ]
  },
  {
   "cell_type": "code",
   "execution_count": 8,
   "metadata": {},
   "outputs": [
    {
     "name": "stdout",
     "output_type": "stream",
     "text": [
      " 1\n",
      " 2\n",
      " 3\n",
      " 4\n",
      " 5\n",
      " 6\n",
      " 7\n",
      " 8\n",
      " 9\n",
      "10\n"
     ]
    }
   ],
   "source": [
    "# 1. file open\n",
    "f = open(\"./test/test_append.txt\", 'a')\n",
    "\n",
    "for i in range(1, 11):\n",
    "    print(f'{i:2}')\n",
    "    # 2. file 처리 (record 쓰기) ,  줄바꿈을 넣어서 한줄에 하나의 데이터를 입력하는 것이 좋다.\n",
    "    f.write(f'{i:2}\\n')\n",
    "    \n",
    "# 3. file close\n",
    "f.close()"
   ]
  },
  {
   "cell_type": "markdown",
   "metadata": {},
   "source": [
    "### 파일에서 record 읽기"
   ]
  },
  {
   "cell_type": "code",
   "execution_count": 9,
   "metadata": {},
   "outputs": [
    {
     "name": "stdout",
     "output_type": "stream",
     "text": [
      " 1\n",
      "\n",
      " 2\n",
      "\n",
      " 3\n",
      "\n",
      " 4\n",
      "\n",
      " 5\n",
      "\n",
      " 6\n",
      "\n",
      " 7\n",
      "\n",
      " 8\n",
      "\n",
      " 9\n",
      "\n",
      "10\n",
      "\n"
     ]
    }
   ],
   "source": [
    "# 1. file open\n",
    "f = open('./test/test.txt', 'r')\n",
    "\n",
    "# 2. file 처리( record 읽기 )\n",
    "line = f.readline()\n",
    "while line: # EOF가 아닌 동안 반복\n",
    "    print(f'{line:3}')\n",
    "    line = f.readline()\n",
    "    \n",
    "f.close()"
   ]
  },
  {
   "cell_type": "code",
   "execution_count": 10,
   "metadata": {},
   "outputs": [
    {
     "name": "stdout",
     "output_type": "stream",
     "text": [
      " 1\n",
      " 2\n",
      " 3\n",
      " 4\n",
      " 5\n",
      " 6\n",
      " 7\n",
      " 8\n",
      " 9\n",
      "10\n"
     ]
    }
   ],
   "source": [
    "# 1. file open\n",
    "f = open('./test/test.txt', 'r')\n",
    "\n",
    "# 2. file 처리( record 읽기 )\n",
    "line = f.readline() # 한번에 한 record씩 읽는다. 줄바꿈 기준으로 읽는다.\n",
    "while line: # EOF(데이터가 없는 것)가 아닌 동안 반복  End Of File\n",
    "    print(f'{line:3}', end='')\n",
    "    line = f.readline()\n",
    "    \n",
    "f.close()"
   ]
  },
  {
   "cell_type": "code",
   "execution_count": 14,
   "metadata": {},
   "outputs": [
    {
     "name": "stdout",
     "output_type": "stream",
     "text": [
      "[' 1\\n', ' 2\\n', ' 3\\n', ' 4\\n', ' 5\\n', ' 6\\n', ' 7\\n', ' 8\\n', ' 9\\n', '10\\n']\n",
      "<class 'list'>\n"
     ]
    }
   ],
   "source": [
    "f = open(\"./test/test.txt\", 'r')\n",
    "\n",
    "lines = f.readlines() # 리스트로 저장(사용성이 좋음)\n",
    "\n",
    "print(lines) \n",
    "print(type(lines))\n",
    "\n",
    "f.close()"
   ]
  },
  {
   "cell_type": "code",
   "execution_count": 15,
   "metadata": {},
   "outputs": [
    {
     "name": "stdout",
     "output_type": "stream",
     "text": [
      " 1\n",
      " 2\n",
      " 3\n",
      " 4\n",
      " 5\n",
      " 6\n",
      " 7\n",
      " 8\n",
      " 9\n",
      "10\n",
      " \n",
      " <class 'str'>\n"
     ]
    }
   ],
   "source": [
    "f = open(\"./test/test.txt\", 'r')\n",
    "\n",
    "lines = f.read() # 문자열로 저장\n",
    "\n",
    "print(lines, '\\n', type(lines))\n",
    "\n",
    "f.close()"
   ]
  },
  {
   "cell_type": "markdown",
   "metadata": {},
   "source": [
    "### 파일 처리에 대한 예외 처리"
   ]
  },
  {
   "cell_type": "code",
   "execution_count": 16,
   "metadata": {},
   "outputs": [
    {
     "ename": "FileNotFoundError",
     "evalue": "[Errno 2] No such file or directory: './test/test2.txt'",
     "output_type": "error",
     "traceback": [
      "\u001b[1;31m---------------------------------------------------------------------------\u001b[0m",
      "\u001b[1;31mFileNotFoundError\u001b[0m                         Traceback (most recent call last)",
      "\u001b[1;32m<ipython-input-16-ef593cc13c46>\u001b[0m in \u001b[0;36m<module>\u001b[1;34m\u001b[0m\n\u001b[1;32m----> 1\u001b[1;33m \u001b[0mf\u001b[0m \u001b[1;33m=\u001b[0m \u001b[0mopen\u001b[0m\u001b[1;33m(\u001b[0m \u001b[1;34m'./test/test2.txt'\u001b[0m\u001b[1;33m,\u001b[0m \u001b[1;34m'r'\u001b[0m \u001b[1;33m)\u001b[0m\u001b[1;33m\u001b[0m\u001b[1;33m\u001b[0m\u001b[0m\n\u001b[0m\u001b[0;32m      2\u001b[0m \u001b[1;33m\u001b[0m\u001b[0m\n\u001b[0;32m      3\u001b[0m \u001b[0mlines\u001b[0m \u001b[1;33m=\u001b[0m \u001b[0mf\u001b[0m\u001b[1;33m.\u001b[0m\u001b[0mread\u001b[0m\u001b[1;33m(\u001b[0m\u001b[1;33m)\u001b[0m\u001b[1;33m\u001b[0m\u001b[1;33m\u001b[0m\u001b[0m\n\u001b[0;32m      4\u001b[0m \u001b[1;33m\u001b[0m\u001b[0m\n\u001b[0;32m      5\u001b[0m \u001b[0mprint\u001b[0m\u001b[1;33m(\u001b[0m\u001b[1;34mf'{lines}\\n{type(lines)}'\u001b[0m\u001b[1;33m)\u001b[0m\u001b[1;33m\u001b[0m\u001b[1;33m\u001b[0m\u001b[0m\n",
      "\u001b[1;31mFileNotFoundError\u001b[0m: [Errno 2] No such file or directory: './test/test2.txt'"
     ]
    }
   ],
   "source": [
    "f = open( './test/test2.txt', 'r' ) # 파일이 없어 에러가 발생한다.\n",
    "\n",
    "lines = f.read()\n",
    "\n",
    "print(f'{lines}\\n{type(lines)}')\n",
    "\n",
    "f.close()"
   ]
  },
  {
   "cell_type": "code",
   "execution_count": 18,
   "metadata": {},
   "outputs": [
    {
     "name": "stdout",
     "output_type": "stream",
     "text": [
      "\n",
      "<class 'str'>\n"
     ]
    }
   ],
   "source": [
    "try:\n",
    "    f = open( './test/test2.txt', 'r' ) # 파일이 없어 에러가 발생한다.\n",
    "\n",
    "    lines = f.read()\n",
    "\n",
    "    print(f'{lines}\\n{type(lines)}')\n",
    "except FileNotFoundError as e:\n",
    "    print(e)\n",
    "except Exception as e: # 예외처리 중 최상위(모든 에러를 출력)\n",
    "    print(e)\n",
    "finally:\n",
    "    f.close()\n",
    "    f = open('./test/test2.txt', 'w')\n",
    "    f.close()"
   ]
  },
  {
   "cell_type": "code",
   "execution_count": 19,
   "metadata": {},
   "outputs": [
    {
     "name": "stdout",
     "output_type": "stream",
     "text": [
      " 1\n",
      " 2\n",
      " 3\n",
      " 4\n",
      " 5\n",
      " 6\n",
      " 7\n",
      " 8\n",
      " 9\n",
      "10\n"
     ]
    }
   ],
   "source": [
    "with open('./test/test.txt', 'r') as f:\n",
    "    line = f.readline()\n",
    "    while line:\n",
    "        print(f'{line:3}', end='')\n",
    "        line = f.readline()\n",
    "# 왜 file close()가 없는가?\n",
    "# with문이 자동으로 close를 해준다."
   ]
  },
  {
   "cell_type": "code",
   "execution_count": null,
   "metadata": {},
   "outputs": [],
   "source": []
  }
 ],
 "metadata": {
  "kernelspec": {
   "display_name": "Python 3",
   "language": "python",
   "name": "python3"
  },
  "language_info": {
   "codemirror_mode": {
    "name": "ipython",
    "version": 3
   },
   "file_extension": ".py",
   "mimetype": "text/x-python",
   "name": "python",
   "nbconvert_exporter": "python",
   "pygments_lexer": "ipython3",
   "version": "3.8.5"
  }
 },
 "nbformat": 4,
 "nbformat_minor": 4
}
