{
 "cells": [
  {
   "cell_type": "markdown",
   "metadata": {},
   "source": [
    "# Markdown = Markup Language\n"
   ]
  },
  {
   "cell_type": "markdown",
   "metadata": {},
   "source": [
    "# Markdown 문법이해"
   ]
  },
  {
   "cell_type": "markdown",
   "metadata": {},
   "source": [
    "## 제목 출력 방법\n",
    "\n",
    "# 가장 큰 제목\n",
    "\n",
    "## 두 번째 큰 제목\n",
    "\n",
    "### 세 번째 큰 제목\n",
    "\n",
    "#### 마지막 큰 제목"
   ]
  },
  {
   "cell_type": "markdown",
   "metadata": {},
   "source": [
    "## 목록 형태\n",
    "\n",
    "1. 목록 1\n",
    "2. 목록 2\n",
    "3. 목록 3\n",
    "\n",
    "* 사과\n",
    "    * 바나나\n",
    "        * 망고\n",
    "       \n",
    "- 사과\n",
    "    - 바나나\n",
    "        - 망고"
   ]
  },
  {
   "cell_type": "markdown",
   "metadata": {},
   "source": [
    "## 단어 강조 / 여러줄 문장\n",
    "\n",
    "***파이썬*** 프로그램은 일반적인 프로그래밍 뿐만 아니라  \n",
    "데이터 분석과 머신러닝  \n",
    "딥러닝 알고리즘을 표현할 때도 사용한다.  "
   ]
  },
  {
   "cell_type": "markdown",
   "metadata": {},
   "source": [
    "## 단어 강조 / 여러줄 문장\n",
    "\n",
    "***파이썬*** 프로그램은 일반적인 프로그래밍 뿐만 아니라\n",
    "데이터 분석과 머신러닝\n",
    "딥러닝 알고리즘을 표현할 때도 사용한다."
   ]
  },
  {
   "cell_type": "markdown",
   "metadata": {},
   "source": [
    "## 표 작성 방법\n",
    "|항목1|항목2|항목3|항목4|\n",
    "|:---:|:---|---:|---|\n",
    "|중앙정렬|왼쪽정렬|오른쪽정렬|내용|"
   ]
  },
  {
   "cell_type": "markdown",
   "metadata": {},
   "source": [
    "## 이미지 표시\n",
    "\n",
    "![Alt_text](pug.png)"
   ]
  },
  {
   "cell_type": "markdown",
   "metadata": {},
   "source": [
    "## 이미지 사이즈 조정\n",
    "<img src=\"pug.png\" width=\"100px\" height=\"100px\">"
   ]
  },
  {
   "cell_type": "markdown",
   "metadata": {},
   "source": [
    "## 수식 표현(Tex)\n",
    "\n",
    "$$x = { -b \\pm \\sqrt{ b^2 -4ac } \\over 2a}$$\n",
    "\n",
    "문장중에 수식을 표현할 때는 $X^2 \\times Y_2$ 이와 같이 표현합니다.  \n",
    "\n",
    "\n",
    "달러 하나를 쓰면 문장 중에 쓸 수 있다.  \n",
    "\n",
    "참고 링크 : https://en.wikipedia.org/wiki/Help:Displaying_a_formula#Formatting_using_TeX\n",
    "\n",
    "$$\\vartriangleleft \\ntriangleleft \\vartriangleright \\ntriangleright\t$$\n"
   ]
  },
  {
   "cell_type": "markdown",
   "metadata": {},
   "source": [
    "# 코드 삽입\n",
    "\n",
    "~~~\n",
    "이것은\n",
    "코드 블럭\n",
    "입니다\n",
    "~~~\n",
    "\n",
    "```c\n",
    "void f()\n",
    "    printf(%s,“이것은 c 코드 입니다”);\n",
    "}\n",
    "```\n",
    "\n",
    "\n",
    "```python\n",
    "def hello():\n",
    "    print(\"hello world\")\n",
    "    \n",
    "hello()\n",
    "    \n",
    "}\n",
    "```"
   ]
  }
 ],
 "metadata": {
  "kernelspec": {
   "display_name": "Python 3",
   "language": "python",
   "name": "python3"
  },
  "language_info": {
   "codemirror_mode": {
    "name": "ipython",
    "version": 3
   },
   "file_extension": ".py",
   "mimetype": "text/x-python",
   "name": "python",
   "nbconvert_exporter": "python",
   "pygments_lexer": "ipython3",
   "version": "3.8.5"
  }
 },
 "nbformat": 4,
 "nbformat_minor": 4
}
