{
 "cells": [
  {
   "cell_type": "markdown",
   "metadata": {},
   "source": [
    "### "
   ]
  },
  {
   "cell_type": "markdown",
   "metadata": {},
   "source": [
    "# 산술 내장 함수( 내장 수치 연산 함수 )"
   ]
  },
  {
   "cell_type": "code",
   "execution_count": 108,
   "metadata": {},
   "outputs": [
    {
     "name": "stdout",
     "output_type": "stream",
     "text": [
      "l : [39.515, 62.719, 82.638, 77.376, 53.376, -19.319] -> length : [ 6 ]\n"
     ]
    }
   ],
   "source": [
    "l = [ 39.515, 62.719, 82.638, 77.376, 53.376, -19.319 ]\n",
    "\n",
    "print( f'l : {l} -> length : [ {len( l )} ]' )"
   ]
  },
  {
   "cell_type": "code",
   "execution_count": 109,
   "metadata": {},
   "outputs": [
    {
     "name": "stdout",
     "output_type": "stream",
     "text": [
      "total : 296.305\n"
     ]
    }
   ],
   "source": [
    "# 합 계산\n",
    "total = 0\n",
    "for v in l:\n",
    "    total += v\n",
    "print( f'total : {total}' )"
   ]
  },
  {
   "cell_type": "code",
   "execution_count": 110,
   "metadata": {},
   "outputs": [
    {
     "name": "stdout",
     "output_type": "stream",
     "text": [
      "total : 296.305\n"
     ]
    }
   ],
   "source": [
    "print( f'total : {sum( l )}' )"
   ]
  },
  {
   "cell_type": "code",
   "execution_count": 111,
   "metadata": {},
   "outputs": [
    {
     "name": "stdout",
     "output_type": "stream",
     "text": [
      "max number : 82.638\n",
      "min number : -19.319\n"
     ]
    }
   ],
   "source": [
    "print( f'max number : {max( l )}' )\n",
    "print( f'min number : {min( l )}' )"
   ]
  },
  {
   "cell_type": "code",
   "execution_count": 112,
   "metadata": {},
   "outputs": [
    {
     "name": "stdout",
     "output_type": "stream",
     "text": [
      "39.515 -> 절대값 39.515\n",
      "62.719 -> 절대값 62.719\n",
      "82.638 -> 절대값 82.638\n",
      "77.376 -> 절대값 77.376\n",
      "53.376 -> 절대값 53.376\n",
      "-19.319 -> 절대값 19.319\n"
     ]
    }
   ],
   "source": [
    "for v in l:\n",
    "    print( f'{v} -> 절대값 {abs( v )}' )"
   ]
  },
  {
   "cell_type": "code",
   "execution_count": 113,
   "metadata": {},
   "outputs": [
    {
     "name": "stdout",
     "output_type": "stream",
     "text": [
      "39.5 -> 절대값 39.52\n",
      "62.7 -> 절대값 62.72\n",
      "82.6 -> 절대값 82.64\n",
      "77.4 -> 절대값 77.38\n",
      "53.4 -> 절대값 53.38\n",
      "-19.3 -> 절대값 19.32\n"
     ]
    }
   ],
   "source": [
    "for v in l:\n",
    "    print( f'{round( v, 1 )} -> 절대값 {round( abs( v ), 2 )}' )"
   ]
  },
  {
   "cell_type": "code",
   "execution_count": 2,
   "metadata": {},
   "outputs": [
    {
     "data": {
      "text/plain": [
       "(1, 1)"
      ]
     },
     "execution_count": 2,
     "metadata": {},
     "output_type": "execute_result"
    }
   ],
   "source": [
    "divmod(3,2)"
   ]
  },
  {
   "cell_type": "code",
   "execution_count": 1,
   "metadata": {},
   "outputs": [
    {
     "data": {
      "text/plain": [
       "8"
      ]
     },
     "execution_count": 1,
     "metadata": {},
     "output_type": "execute_result"
    }
   ],
   "source": [
    "pow(2,3)"
   ]
  },
  {
   "cell_type": "markdown",
   "metadata": {},
   "source": [
    "# dict( dictionary )"
   ]
  },
  {
   "cell_type": "markdown",
   "metadata": {},
   "source": [
    "## dict 생성"
   ]
  },
  {
   "cell_type": "markdown",
   "metadata": {},
   "source": [
    "### 빈 dict 생성"
   ]
  },
  {
   "cell_type": "code",
   "execution_count": 3,
   "metadata": {},
   "outputs": [
    {
     "name": "stdout",
     "output_type": "stream",
     "text": [
      "d<<class 'dict'>> : {} -> length : [0]\n"
     ]
    }
   ],
   "source": [
    "d = {}\n",
    "\n",
    "print(f'd<{type(d)}> : {d} -> length : [{len(d)}]')"
   ]
  },
  {
   "cell_type": "markdown",
   "metadata": {},
   "source": [
    "### 초기값을 이용한 dict 생성"
   ]
  },
  {
   "cell_type": "code",
   "execution_count": 5,
   "metadata": {},
   "outputs": [
    {
     "name": "stdout",
     "output_type": "stream",
     "text": [
      "d<<class 'dict'>> : {'sun': 0, 'mon': 1, 'tue': 2, 'wed': 3, 'thu': 4, 'fri': 5, 'sat': 6} -> length : [7]\n"
     ]
    }
   ],
   "source": [
    "d = { 'sun':0, 'mon':1, 'tue':2, 'wed':3,\n",
    "    'thu':4,'fri':5,'sat':6}\n",
    "\n",
    "print(f'd<{type(d)}> : {d} -> length : [{len(d)}]')"
   ]
  },
  {
   "cell_type": "markdown",
   "metadata": {},
   "source": [
    "### dict() 함수를 이용한 형변환"
   ]
  },
  {
   "cell_type": "code",
   "execution_count": 7,
   "metadata": {},
   "outputs": [
    {
     "name": "stdout",
     "output_type": "stream",
     "text": [
      "d<<class 'list'>> : [[0, 'sun'], [1, 'mon'], [2, 'tue']] -> length : [3]\n",
      "d<<class 'dict'>> : {0: 'sun', 1: 'mon', 2: 'tue'} -> length : [3]\n"
     ]
    }
   ],
   "source": [
    "# list -> dict\n",
    "\n",
    "l = [[0,'sun'],[1,'mon'],[2,'tue']]\n",
    "d = dict(l)\n",
    "\n",
    "print(f'd<{type(l)}> : {l} -> length : [{len(l)}]')\n",
    "print(f'd<{type(d)}> : {d} -> length : [{len(d)}]')"
   ]
  },
  {
   "cell_type": "code",
   "execution_count": 9,
   "metadata": {},
   "outputs": [
    {
     "name": "stdout",
     "output_type": "stream",
     "text": [
      "d<<class 'tuple'>> : ((0, 'sun'), (1, 'mon'), (2, 'tue')) -> length : [3]\n",
      "d<<class 'dict'>> : {0: 'sun', 1: 'mon', 2: 'tue'} -> length : [3]\n"
     ]
    }
   ],
   "source": [
    "# tuple -> dict\n",
    "t = ((0,'sun'),(1,'mon'),(2,'tue'))\n",
    "d = dict(t)\n",
    "\n",
    "print(f'd<{type(t)}> : {t} -> length : [{len(t)}]')\n",
    "print(f'd<{type(d)}> : {d} -> length : [{len(d)}]')"
   ]
  },
  {
   "cell_type": "code",
   "execution_count": 10,
   "metadata": {},
   "outputs": [
    {
     "name": "stdout",
     "output_type": "stream",
     "text": [
      "d<<class 'dict'>> : {'zero': 'sun', 'one': 'mon', 'two': 'tue'} -> length : [3]\n"
     ]
    }
   ],
   "source": [
    "d = dict(zero = 'sun', one = 'mon', two = 'tue')\n",
    "print(f'd<{type(d)}> : {d} -> length : [{len(d)}]')"
   ]
  },
  {
   "cell_type": "code",
   "execution_count": 13,
   "metadata": {},
   "outputs": [
    {
     "name": "stdout",
     "output_type": "stream",
     "text": [
      "d<<class 'list'>> : [(0, 'sun'), (1, 'mon'), (2, 'tue')] -> length : [3]\n",
      "d<<class 'dict'>> : {0: 'sun', 1: 'mon', 2: 'tue'} -> length : [3]\n"
     ]
    }
   ],
   "source": [
    "# list -> dict\n",
    "l = [(0,'sun'),(1,'mon'),(2,'tue')]\n",
    "d = dict(l)\n",
    "\n",
    "print(f'd<{type(l)}> : {l} -> length : [{len(l)}]')\n",
    "print(f'd<{type(d)}> : {d} -> length : [{len(d)}]')"
   ]
  },
  {
   "cell_type": "code",
   "execution_count": 14,
   "metadata": {},
   "outputs": [
    {
     "ename": "TypeError",
     "evalue": "cannot convert dictionary update sequence element #0 to a sequence",
     "output_type": "error",
     "traceback": [
      "\u001b[1;31m---------------------------------------------------------------------------\u001b[0m",
      "\u001b[1;31mTypeError\u001b[0m                                 Traceback (most recent call last)",
      "\u001b[1;32m<ipython-input-14-e423cbb76e84>\u001b[0m in \u001b[0;36m<module>\u001b[1;34m\u001b[0m\n\u001b[0;32m      1\u001b[0m \u001b[0ml\u001b[0m \u001b[1;33m=\u001b[0m \u001b[1;33m[\u001b[0m\u001b[1;36m0\u001b[0m\u001b[1;33m,\u001b[0m\u001b[1;34m'sun'\u001b[0m\u001b[1;33m,\u001b[0m\u001b[1;36m1\u001b[0m\u001b[1;33m,\u001b[0m\u001b[1;34m'mon'\u001b[0m\u001b[1;33m,\u001b[0m\u001b[1;36m2\u001b[0m\u001b[1;33m,\u001b[0m\u001b[1;34m'tue'\u001b[0m\u001b[1;33m]\u001b[0m\u001b[1;33m\u001b[0m\u001b[1;33m\u001b[0m\u001b[0m\n\u001b[1;32m----> 2\u001b[1;33m \u001b[0md\u001b[0m \u001b[1;33m=\u001b[0m \u001b[0mdict\u001b[0m\u001b[1;33m(\u001b[0m\u001b[0ml\u001b[0m\u001b[1;33m)\u001b[0m\u001b[1;33m\u001b[0m\u001b[1;33m\u001b[0m\u001b[0m\n\u001b[0m\u001b[0;32m      3\u001b[0m \u001b[1;33m\u001b[0m\u001b[0m\n\u001b[0;32m      4\u001b[0m \u001b[0mprint\u001b[0m\u001b[1;33m(\u001b[0m\u001b[1;34mf'd<{type(l)}> : {l} -> length : [{len(l)}]'\u001b[0m\u001b[1;33m)\u001b[0m\u001b[1;33m\u001b[0m\u001b[1;33m\u001b[0m\u001b[0m\n\u001b[0;32m      5\u001b[0m \u001b[0mprint\u001b[0m\u001b[1;33m(\u001b[0m\u001b[1;34mf'd<{type(d)}> : {d} -> length : [{len(d)}]'\u001b[0m\u001b[1;33m)\u001b[0m\u001b[1;33m\u001b[0m\u001b[1;33m\u001b[0m\u001b[0m\n",
      "\u001b[1;31mTypeError\u001b[0m: cannot convert dictionary update sequence element #0 to a sequence"
     ]
    }
   ],
   "source": [
    "l = [0,'sun',1,'mon',2,'tue']\n",
    "d = dict(l)\n",
    "\n",
    "print(f'd<{type(l)}> : {l} -> length : [{len(l)}]')\n",
    "print(f'd<{type(d)}> : {d} -> length : [{len(d)}]')"
   ]
  },
  {
   "cell_type": "code",
   "execution_count": 18,
   "metadata": {},
   "outputs": [
    {
     "name": "stdout",
     "output_type": "stream",
     "text": [
      "d<<class 'list'>> : [[0, ('sun', 1, 'mon', 2, 'tue')]] -> length : [1]\n",
      "d<<class 'dict'>> : {0: ('sun', 1, 'mon', 2, 'tue')} -> length : [1]\n"
     ]
    }
   ],
   "source": [
    "l = [[0,('sun',1,'mon',2,'tue')]]\n",
    "d = dict(l)\n",
    "\n",
    "print(f'd<{type(l)}> : {l} -> length : [{len(l)}]')\n",
    "print(f'd<{type(d)}> : {d} -> length : [{len(d)}]')"
   ]
  },
  {
   "cell_type": "markdown",
   "metadata": {},
   "source": [
    "### dict 읽기/쓰다/추가"
   ]
  },
  {
   "cell_type": "code",
   "execution_count": 19,
   "metadata": {},
   "outputs": [
    {
     "name": "stdout",
     "output_type": "stream",
     "text": [
      "d<<class 'dict'>> : {'hong': '010-1234-5678', 'kim': '010-2356-5849', 'lee': '010-8585-9235'} -> length : [3]\n"
     ]
    }
   ],
   "source": [
    "d = { 'hong':'010-1234-5678', 'kim':'010-2356-5849',\n",
    "    'lee':'010-8585-9235'}\n",
    "print(f'd<{type(d)}> : {d} -> length : [{len(d)}]')"
   ]
  },
  {
   "cell_type": "code",
   "execution_count": 20,
   "metadata": {},
   "outputs": [
    {
     "data": {
      "text/plain": [
       "'010-1234-5678'"
      ]
     },
     "execution_count": 20,
     "metadata": {},
     "output_type": "execute_result"
    }
   ],
   "source": [
    "d['hong']"
   ]
  },
  {
   "cell_type": "code",
   "execution_count": 21,
   "metadata": {},
   "outputs": [
    {
     "data": {
      "text/plain": [
       "'010-8585-9235'"
      ]
     },
     "execution_count": 21,
     "metadata": {},
     "output_type": "execute_result"
    }
   ],
   "source": [
    "d['lee']"
   ]
  },
  {
   "cell_type": "code",
   "execution_count": 22,
   "metadata": {},
   "outputs": [],
   "source": [
    "d['lee'] = '010-1111-1111'"
   ]
  },
  {
   "cell_type": "code",
   "execution_count": 23,
   "metadata": {},
   "outputs": [
    {
     "data": {
      "text/plain": [
       "'010-1111-1111'"
      ]
     },
     "execution_count": 23,
     "metadata": {},
     "output_type": "execute_result"
    }
   ],
   "source": [
    "d['lee']"
   ]
  },
  {
   "cell_type": "code",
   "execution_count": 24,
   "metadata": {},
   "outputs": [
    {
     "ename": "KeyError",
     "evalue": "'park'",
     "output_type": "error",
     "traceback": [
      "\u001b[1;31m---------------------------------------------------------------------------\u001b[0m",
      "\u001b[1;31mKeyError\u001b[0m                                  Traceback (most recent call last)",
      "\u001b[1;32m<ipython-input-24-15b5c2570cb1>\u001b[0m in \u001b[0;36m<module>\u001b[1;34m\u001b[0m\n\u001b[1;32m----> 1\u001b[1;33m \u001b[0md\u001b[0m\u001b[1;33m[\u001b[0m\u001b[1;34m'park'\u001b[0m\u001b[1;33m]\u001b[0m\u001b[1;33m\u001b[0m\u001b[1;33m\u001b[0m\u001b[0m\n\u001b[0m",
      "\u001b[1;31mKeyError\u001b[0m: 'park'"
     ]
    }
   ],
   "source": [
    "d['park']"
   ]
  },
  {
   "cell_type": "code",
   "execution_count": 27,
   "metadata": {},
   "outputs": [
    {
     "name": "stdout",
     "output_type": "stream",
     "text": [
      "d<<class 'dict'>> : {'hong': '010-1234-5678', 'kim': '010-2356-5849', 'lee': '010-1111-1111', 'pack': '010-1234-1234'} -> length : [4]\n"
     ]
    }
   ],
   "source": [
    "# 값 쓰기 - 존재하지 않는 key를 사용하면 값 추가\n",
    "d['pack']='010-1234-1234'\n",
    "print(f'd<{type(d)}> : {d} -> length : [{len(d)}]')"
   ]
  },
  {
   "cell_type": "markdown",
   "metadata": {},
   "source": [
    "### dict는 key값 중복을 허용하지 않는다."
   ]
  },
  {
   "cell_type": "code",
   "execution_count": 30,
   "metadata": {},
   "outputs": [
    {
     "name": "stdout",
     "output_type": "stream",
     "text": [
      "d<<class 'dict'>> : {'sun': 3, 'mon': 1, 'tue': 2} -> length : [3]\n"
     ]
    }
   ],
   "source": [
    "d = {'sun':0,'mon':1,'tue':2,'sun':3}\n",
    "print(f'd<{type(d)}> : {d} -> length : [{len(d)}]')"
   ]
  },
  {
   "cell_type": "markdown",
   "metadata": {},
   "source": [
    "### 길이 계산 및 포함 유무 확인"
   ]
  },
  {
   "cell_type": "code",
   "execution_count": 31,
   "metadata": {},
   "outputs": [
    {
     "data": {
      "text/plain": [
       "3"
      ]
     },
     "execution_count": 31,
     "metadata": {},
     "output_type": "execute_result"
    }
   ],
   "source": [
    "len(d)"
   ]
  },
  {
   "cell_type": "code",
   "execution_count": 32,
   "metadata": {},
   "outputs": [
    {
     "data": {
      "text/plain": [
       "True"
      ]
     },
     "execution_count": 32,
     "metadata": {},
     "output_type": "execute_result"
    }
   ],
   "source": [
    "'sun' in d"
   ]
  },
  {
   "cell_type": "code",
   "execution_count": 33,
   "metadata": {},
   "outputs": [
    {
     "data": {
      "text/plain": [
       "False"
      ]
     },
     "execution_count": 33,
     "metadata": {},
     "output_type": "execute_result"
    }
   ],
   "source": [
    "'fri' in d"
   ]
  },
  {
   "cell_type": "code",
   "execution_count": 34,
   "metadata": {},
   "outputs": [
    {
     "ename": "TypeError",
     "evalue": "unsupported operand type(s) for +: 'dict' and 'dict'",
     "output_type": "error",
     "traceback": [
      "\u001b[1;31m---------------------------------------------------------------------------\u001b[0m",
      "\u001b[1;31mTypeError\u001b[0m                                 Traceback (most recent call last)",
      "\u001b[1;32m<ipython-input-34-448f918f39c5>\u001b[0m in \u001b[0;36m<module>\u001b[1;34m\u001b[0m\n\u001b[1;32m----> 1\u001b[1;33m \u001b[0md\u001b[0m \u001b[1;33m+\u001b[0m \u001b[1;33m{\u001b[0m\u001b[1;34m'wed'\u001b[0m\u001b[1;33m:\u001b[0m\u001b[1;36m4\u001b[0m\u001b[1;33m,\u001b[0m \u001b[1;34m'thu'\u001b[0m\u001b[1;33m:\u001b[0m\u001b[1;36m5\u001b[0m\u001b[1;33m}\u001b[0m\u001b[1;33m\u001b[0m\u001b[1;33m\u001b[0m\u001b[0m\n\u001b[0m",
      "\u001b[1;31mTypeError\u001b[0m: unsupported operand type(s) for +: 'dict' and 'dict'"
     ]
    }
   ],
   "source": [
    "d + {'wed':4, 'thu':5}"
   ]
  },
  {
   "cell_type": "code",
   "execution_count": 35,
   "metadata": {},
   "outputs": [
    {
     "ename": "TypeError",
     "evalue": "unsupported operand type(s) for *: 'dict' and 'int'",
     "output_type": "error",
     "traceback": [
      "\u001b[1;31m---------------------------------------------------------------------------\u001b[0m",
      "\u001b[1;31mTypeError\u001b[0m                                 Traceback (most recent call last)",
      "\u001b[1;32m<ipython-input-35-c51406b49dcb>\u001b[0m in \u001b[0;36m<module>\u001b[1;34m\u001b[0m\n\u001b[1;32m----> 1\u001b[1;33m \u001b[0md\u001b[0m\u001b[1;33m*\u001b[0m\u001b[1;36m2\u001b[0m\u001b[1;33m\u001b[0m\u001b[1;33m\u001b[0m\u001b[0m\n\u001b[0m",
      "\u001b[1;31mTypeError\u001b[0m: unsupported operand type(s) for *: 'dict' and 'int'"
     ]
    }
   ],
   "source": [
    "d*2"
   ]
  },
  {
   "cell_type": "markdown",
   "metadata": {},
   "source": [
    "## dict 메서드\n",
    "### get()"
   ]
  },
  {
   "cell_type": "code",
   "execution_count": 36,
   "metadata": {},
   "outputs": [
    {
     "data": {
      "text/plain": [
       "3"
      ]
     },
     "execution_count": 36,
     "metadata": {},
     "output_type": "execute_result"
    }
   ],
   "source": [
    "d.get('sun')"
   ]
  },
  {
   "cell_type": "code",
   "execution_count": 37,
   "metadata": {},
   "outputs": [
    {
     "data": {
      "text/plain": [
       "1"
      ]
     },
     "execution_count": 37,
     "metadata": {},
     "output_type": "execute_result"
    }
   ],
   "source": [
    "d.get('mon')"
   ]
  },
  {
   "cell_type": "code",
   "execution_count": 38,
   "metadata": {},
   "outputs": [
    {
     "data": {
      "text/plain": [
       "'not found'"
      ]
     },
     "execution_count": 38,
     "metadata": {},
     "output_type": "execute_result"
    }
   ],
   "source": [
    "d.get('fri', 'not found')"
   ]
  },
  {
   "cell_type": "code",
   "execution_count": 39,
   "metadata": {},
   "outputs": [
    {
     "ename": "KeyError",
     "evalue": "'fri'",
     "output_type": "error",
     "traceback": [
      "\u001b[1;31m---------------------------------------------------------------------------\u001b[0m",
      "\u001b[1;31mKeyError\u001b[0m                                  Traceback (most recent call last)",
      "\u001b[1;32m<ipython-input-39-32cd0a0e0fb1>\u001b[0m in \u001b[0;36m<module>\u001b[1;34m\u001b[0m\n\u001b[1;32m----> 1\u001b[1;33m \u001b[0md\u001b[0m \u001b[1;33m[\u001b[0m\u001b[1;34m'fri'\u001b[0m\u001b[1;33m]\u001b[0m\u001b[1;33m\u001b[0m\u001b[1;33m\u001b[0m\u001b[0m\n\u001b[0m",
      "\u001b[1;31mKeyError\u001b[0m: 'fri'"
     ]
    }
   ],
   "source": [
    "d ['fri']"
   ]
  },
  {
   "cell_type": "code",
   "execution_count": 41,
   "metadata": {},
   "outputs": [],
   "source": [
    "d.get('fri') # 없는데 에러 안남"
   ]
  },
  {
   "cell_type": "code",
   "execution_count": 42,
   "metadata": {},
   "outputs": [
    {
     "data": {
      "text/plain": [
       "'nono'"
      ]
     },
     "execution_count": 42,
     "metadata": {},
     "output_type": "execute_result"
    }
   ],
   "source": [
    "d.get('fri','nono') # 없는데 에러 안남"
   ]
  },
  {
   "cell_type": "markdown",
   "metadata": {},
   "source": [
    "### keys()"
   ]
  },
  {
   "cell_type": "code",
   "execution_count": 46,
   "metadata": {},
   "outputs": [
    {
     "name": "stdout",
     "output_type": "stream",
     "text": [
      "sun\n",
      "mon\n",
      "tue\n",
      "sun\n",
      "mon\n",
      "tue\n"
     ]
    }
   ],
   "source": [
    "keys = d.keys()\n",
    "\n",
    "for v in keys:\n",
    "    print(v)\n",
    "\n",
    "for v in list(keys):\n",
    "    print(v)"
   ]
  },
  {
   "cell_type": "markdown",
   "metadata": {},
   "source": [
    "### values()"
   ]
  },
  {
   "cell_type": "code",
   "execution_count": 47,
   "metadata": {},
   "outputs": [
    {
     "name": "stdout",
     "output_type": "stream",
     "text": [
      "3\n",
      "1\n",
      "2\n",
      "3\n",
      "1\n",
      "2\n"
     ]
    }
   ],
   "source": [
    "values = d.values()\n",
    "\n",
    "for v in values:\n",
    "    print(v)\n",
    "    \n",
    "for v in list(values):\n",
    "    print(v)"
   ]
  },
  {
   "cell_type": "markdown",
   "metadata": {},
   "source": [
    "### items()"
   ]
  },
  {
   "cell_type": "code",
   "execution_count": 49,
   "metadata": {},
   "outputs": [
    {
     "name": "stdout",
     "output_type": "stream",
     "text": [
      "dict_items([('sun', 3), ('mon', 1), ('tue', 2)]) <class 'dict_items'>\n",
      "('sun', 3)\n",
      "('mon', 1)\n",
      "('tue', 2)\n",
      "('sun', 3)\n",
      "('mon', 1)\n",
      "('tue', 2)\n"
     ]
    }
   ],
   "source": [
    "items = d.items()\n",
    "print(items, type(items))\n",
    "\n",
    "for v in items:\n",
    "    print(v)\n",
    "    \n",
    "for v in list(items):\n",
    "    print(v)"
   ]
  },
  {
   "cell_type": "code",
   "execution_count": 51,
   "metadata": {},
   "outputs": [
    {
     "name": "stdout",
     "output_type": "stream",
     "text": [
      "sun 3\n",
      "mon 1\n",
      "tue 2\n"
     ]
    }
   ],
   "source": [
    "for k,v in items:\n",
    "    print(k,v)"
   ]
  },
  {
   "cell_type": "markdown",
   "metadata": {},
   "source": [
    "### update()"
   ]
  },
  {
   "cell_type": "code",
   "execution_count": 52,
   "metadata": {},
   "outputs": [
    {
     "name": "stdout",
     "output_type": "stream",
     "text": [
      "d<<class 'dict'>> : {'sun': 0, 'mon': 1, 'tue': 2} -> length : [3]\n",
      "d<<class 'dict'>> : {'wed': 3, 'tue': 4, 'fri': 5} -> length : [3]\n"
     ]
    }
   ],
   "source": [
    "d1 = {'sun':0,'mon':1,'tue':2}\n",
    "d2 = {'wed':3,'tue':4,'fri':5}\n",
    "\n",
    "print(f'd<{type(d1)}> : {d1} -> length : [{len(d1)}]')\n",
    "print(f'd<{type(d2)}> : {d2} -> length : [{len(d2)}]')"
   ]
  },
  {
   "cell_type": "code",
   "execution_count": 53,
   "metadata": {},
   "outputs": [
    {
     "name": "stdout",
     "output_type": "stream",
     "text": [
      "d<<class 'dict'>> : {'sun': 0, 'mon': 1, 'tue': 4, 'wed': 3, 'fri': 5} -> length : [5]\n"
     ]
    }
   ],
   "source": [
    "d1.update(d2) # 딕셔너리 결합!\n",
    " \n",
    "print(f'd<{type(d1)}> : {d1} -> length : [{len(d1)}]')"
   ]
  },
  {
   "cell_type": "code",
   "execution_count": 54,
   "metadata": {},
   "outputs": [
    {
     "name": "stdout",
     "output_type": "stream",
     "text": [
      "d<<class 'dict'>> : {'sun': 0, 'mon': 1, 'tue': 4, 'wed': 3, 'fri': 5} -> length : [5]\n"
     ]
    }
   ],
   "source": [
    "## 파이썬 3.5부터 추가된 방법\n",
    "\n",
    "d3 = {**d1,**d2}\n",
    "print(f'd<{type(d3)}> : {d3} -> length : [{len(d3)}]')"
   ]
  },
  {
   "cell_type": "markdown",
   "metadata": {},
   "source": [
    "### dict 요소 삭제"
   ]
  },
  {
   "cell_type": "code",
   "execution_count": 55,
   "metadata": {},
   "outputs": [
    {
     "name": "stdout",
     "output_type": "stream",
     "text": [
      "d<<class 'dict'>> : {'sun': 0, 'mon': 1, 'wed': 3, 'fri': 5} -> length : [4]\n"
     ]
    }
   ],
   "source": [
    "del d3['tue']\n",
    "print(f'd<{type(d3)}> : {d3} -> length : [{len(d3)}]')"
   ]
  },
  {
   "cell_type": "code",
   "execution_count": 56,
   "metadata": {},
   "outputs": [
    {
     "name": "stdout",
     "output_type": "stream",
     "text": [
      "d<<class 'dict'>> : {'sun': 0, 'mon': 1, 'wed': 3} -> length : [3]\n"
     ]
    }
   ],
   "source": [
    "del d3['fri']\n",
    "print(f'd<{type(d3)}> : {d3} -> length : [{len(d3)}]')"
   ]
  },
  {
   "cell_type": "code",
   "execution_count": 57,
   "metadata": {},
   "outputs": [
    {
     "name": "stdout",
     "output_type": "stream",
     "text": [
      "d<<class 'dict'>> : {'mon': 1, 'wed': 3} -> length : [2]\n",
      "0\n"
     ]
    }
   ],
   "source": [
    "value = d3.pop('sun') # 삭제한 내용의 갑을 사용 가능\n",
    "\n",
    "print(f'd<{type(d3)}> : {d3} -> length : [{len(d3)}]')\n",
    "print(value) "
   ]
  },
  {
   "cell_type": "code",
   "execution_count": 58,
   "metadata": {},
   "outputs": [
    {
     "name": "stdout",
     "output_type": "stream",
     "text": [
      "d<<class 'dict'>> : {} -> length : [0]\n"
     ]
    }
   ],
   "source": [
    "d3.clear()\n",
    "print(f'd<{type(d3)}> : {d3} -> length : [{len(d3)}]')"
   ]
  },
  {
   "cell_type": "markdown",
   "metadata": {},
   "source": [
    "### dict 복사"
   ]
  },
  {
   "cell_type": "code",
   "execution_count": 59,
   "metadata": {},
   "outputs": [
    {
     "name": "stdout",
     "output_type": "stream",
     "text": [
      "d<<class 'dict'>> : {'sun': 0, 'mon': 1, 'tue': 4, 'wed': 3, 'fri': 5} -> length : [5]\n"
     ]
    }
   ],
   "source": [
    "print(f'd<{type(d1)}> : {d1} -> length : [{len(d1)}]')"
   ]
  },
  {
   "cell_type": "code",
   "execution_count": 61,
   "metadata": {},
   "outputs": [
    {
     "name": "stdout",
     "output_type": "stream",
     "text": [
      "2065300895680 2065300895680\n"
     ]
    }
   ],
   "source": [
    "# dict 치환 - 복사(reference 복사)\n",
    "d_copy = d \n",
    "\n",
    "print(id(d), id(d_copy))"
   ]
  },
  {
   "cell_type": "code",
   "execution_count": 63,
   "metadata": {},
   "outputs": [
    {
     "name": "stdout",
     "output_type": "stream",
     "text": [
      "2065300895680 2065301696384\n"
     ]
    }
   ],
   "source": [
    "d_copy = d.copy()\n",
    "print(id(d), id(d_copy)) # 아이디가 다르다는 것은 다른 메모리 공간에 저장되어 있다는 것을 의미한다."
   ]
  },
  {
   "cell_type": "code",
   "execution_count": 64,
   "metadata": {},
   "outputs": [
    {
     "name": "stdout",
     "output_type": "stream",
     "text": [
      "d<<class 'dict'>> : {'sun': 0, 'week': ['mon', 'tue', 'wed']} -> length : [2]\n"
     ]
    }
   ],
   "source": [
    "d = {'sun':0,'week':['mon','tue','wed']}\n",
    "print(f'd<{type(d)}> : {d} -> length : [{len(d)}]')"
   ]
  },
  {
   "cell_type": "code",
   "execution_count": 66,
   "metadata": {},
   "outputs": [
    {
     "name": "stdout",
     "output_type": "stream",
     "text": [
      "d<<class 'dict'>> : {'sun': 0, 'week': ['mon', 'tue', 'wed']} -> length : [2]\n"
     ]
    }
   ],
   "source": [
    "d_copy = d.copy()\n",
    "print(f'd<{type(d_copy)}> : {d_copy} -> length : [{len(d_copy)}]')"
   ]
  },
  {
   "cell_type": "code",
   "execution_count": 67,
   "metadata": {},
   "outputs": [
    {
     "name": "stdout",
     "output_type": "stream",
     "text": [
      "d<<class 'dict'>> : {'sun': 0, 'week': ['MON', 'tue', 'wed']} -> length : [2]\n",
      "d<<class 'dict'>> : {'sun': 0, 'week': ['MON', 'tue', 'wed']} -> length : [2]\n"
     ]
    }
   ],
   "source": [
    "d_copy['week'][0] = 'MON'\n",
    "\n",
    "print(f'd<{type(d)}> : {d} -> length : [{len(d)}]')\n",
    "print(f'd<{type(d_copy)}> : {d_copy} -> length : [{len(d_copy)}]')"
   ]
  },
  {
   "cell_type": "code",
   "execution_count": 68,
   "metadata": {},
   "outputs": [
    {
     "name": "stdout",
     "output_type": "stream",
     "text": [
      "d<<class 'dict'>> : {'sun': 0, 'week': ['MON', 'tue', 'wed']} -> length : [2]\n",
      "d<<class 'dict'>> : {'sun': 0, 'week': ['MON', 'tue', 'wed']} -> length : [2]\n"
     ]
    }
   ],
   "source": [
    "import copy\n",
    "d_deepcopy = copy.deepcopy(d)\n",
    "\n",
    "print(f'd<{type(d)}> : {d} -> length : [{len(d)}]')\n",
    "print(f'd<{type(d_deepcopy)}> : {d_deepcopy} -> length : [{len(d_deepcopy)}]')"
   ]
  },
  {
   "cell_type": "code",
   "execution_count": 70,
   "metadata": {},
   "outputs": [
    {
     "name": "stdout",
     "output_type": "stream",
     "text": [
      "d<<class 'dict'>> : {'sun': 0, 'week': ['MON', 'tue', 'wed']} -> length : [2]\n",
      "d<<class 'dict'>> : {'sun': 0, 'week': ['Monday', 'tue', 'wed']} -> length : [2]\n"
     ]
    }
   ],
   "source": [
    "d_deepcopy['week'][0] = 'Monday'\n",
    "\n",
    "print(f'd<{type(d)}> : {d} -> length : [{len(d)}]')\n",
    "print(f'd<{type(d_deepcopy)}> : {d_deepcopy} -> length : [{len(d_deepcopy)}]')"
   ]
  },
  {
   "cell_type": "markdown",
   "metadata": {},
   "source": [
    "### dict 순회"
   ]
  },
  {
   "cell_type": "code",
   "execution_count": 71,
   "metadata": {},
   "outputs": [
    {
     "name": "stdout",
     "output_type": "stream",
     "text": [
      "sun\n",
      "week\n"
     ]
    }
   ],
   "source": [
    "for v in d:\n",
    "    print(v)"
   ]
  },
  {
   "cell_type": "code",
   "execution_count": 72,
   "metadata": {},
   "outputs": [
    {
     "name": "stdout",
     "output_type": "stream",
     "text": [
      "sun\n",
      "week\n"
     ]
    }
   ],
   "source": [
    "for v in d.keys():\n",
    "    print(v)"
   ]
  },
  {
   "cell_type": "code",
   "execution_count": 74,
   "metadata": {},
   "outputs": [
    {
     "name": "stdout",
     "output_type": "stream",
     "text": [
      "0\n",
      "['MON', 'tue', 'wed']\n"
     ]
    }
   ],
   "source": [
    "for v in d.values():\n",
    "    print(v)"
   ]
  },
  {
   "cell_type": "code",
   "execution_count": 75,
   "metadata": {},
   "outputs": [
    {
     "name": "stdout",
     "output_type": "stream",
     "text": [
      "('sun', 0)\n",
      "('week', ['MON', 'tue', 'wed'])\n"
     ]
    }
   ],
   "source": [
    "for v in d.items():\n",
    "    print(v)"
   ]
  },
  {
   "cell_type": "code",
   "execution_count": 78,
   "metadata": {},
   "outputs": [
    {
     "name": "stdout",
     "output_type": "stream",
     "text": [
      "sun 0\n",
      "week ['MON', 'tue', 'wed']\n"
     ]
    }
   ],
   "source": [
    "for k,v in d.items():\n",
    "    print(k,v)"
   ]
  },
  {
   "cell_type": "markdown",
   "metadata": {},
   "source": [
    "### dict 비교"
   ]
  },
  {
   "cell_type": "code",
   "execution_count": 85,
   "metadata": {},
   "outputs": [],
   "source": [
    "d1 = {'sun':0,'mon':1,'tue':2}\n",
    "d2 = {'mon':1,'tue':2,'sun':3}\n",
    "d3 = {'sun':1,'mon':2,'tue':3}"
   ]
  },
  {
   "cell_type": "code",
   "execution_count": 86,
   "metadata": {},
   "outputs": [
    {
     "data": {
      "text/plain": [
       "False"
      ]
     },
     "execution_count": 86,
     "metadata": {},
     "output_type": "execute_result"
    }
   ],
   "source": [
    "d1 == d2 "
   ]
  },
  {
   "cell_type": "code",
   "execution_count": 87,
   "metadata": {},
   "outputs": [
    {
     "data": {
      "text/plain": [
       "False"
      ]
     },
     "execution_count": 87,
     "metadata": {},
     "output_type": "execute_result"
    }
   ],
   "source": [
    "d1 == d3"
   ]
  },
  {
   "cell_type": "code",
   "execution_count": 88,
   "metadata": {},
   "outputs": [
    {
     "data": {
      "text/plain": [
       "True"
      ]
     },
     "execution_count": 88,
     "metadata": {},
     "output_type": "execute_result"
    }
   ],
   "source": [
    "d1 != d2"
   ]
  },
  {
   "cell_type": "code",
   "execution_count": 89,
   "metadata": {},
   "outputs": [
    {
     "data": {
      "text/plain": [
       "True"
      ]
     },
     "execution_count": 89,
     "metadata": {},
     "output_type": "execute_result"
    }
   ],
   "source": [
    "d1 != d3"
   ]
  },
  {
   "cell_type": "code",
   "execution_count": 84,
   "metadata": {},
   "outputs": [
    {
     "ename": "TypeError",
     "evalue": "'>' not supported between instances of 'dict' and 'dict'",
     "output_type": "error",
     "traceback": [
      "\u001b[1;31m---------------------------------------------------------------------------\u001b[0m",
      "\u001b[1;31mTypeError\u001b[0m                                 Traceback (most recent call last)",
      "\u001b[1;32m<ipython-input-84-93fca8e036ac>\u001b[0m in \u001b[0;36m<module>\u001b[1;34m\u001b[0m\n\u001b[1;32m----> 1\u001b[1;33m \u001b[0md1\u001b[0m \u001b[1;33m>\u001b[0m \u001b[0md2\u001b[0m\u001b[1;33m\u001b[0m\u001b[1;33m\u001b[0m\u001b[0m\n\u001b[0m",
      "\u001b[1;31mTypeError\u001b[0m: '>' not supported between instances of 'dict' and 'dict'"
     ]
    }
   ],
   "source": [
    "d1 > d2"
   ]
  },
  {
   "cell_type": "markdown",
   "metadata": {},
   "source": [
    "## dict comprehension"
   ]
  },
  {
   "cell_type": "code",
   "execution_count": 90,
   "metadata": {},
   "outputs": [
    {
     "name": "stdout",
     "output_type": "stream",
     "text": [
      "d<<class 'dict'>> : {'l': 1, 'e': 2, 't': 2, 'r': 1, 's': 1} -> length : [5]\n"
     ]
    }
   ],
   "source": [
    "word = 'letters'\n",
    "# 단어의 글자별 빈도수\n",
    "d = {letter:word.count(letter) for letter in word}\n",
    "\n",
    "print(f'd<{type(d)}> : {d} -> length : [{len(d)}]')\n"
   ]
  },
  {
   "cell_type": "code",
   "execution_count": 92,
   "metadata": {},
   "outputs": [
    {
     "name": "stdout",
     "output_type": "stream",
     "text": [
      "d<<class 'dict'>> : {'l': 1, 'e': 2, 't': 2, 'r': 1, 's': 1} -> length : [5]\n"
     ]
    }
   ],
   "source": [
    "# 원래는 for문을 사용하면?\n",
    "\n",
    "d = {}\n",
    "\n",
    "for letter in word:\n",
    "    d[letter] = word.count(letter)\n",
    "    \n",
    "print(f'd<{type(d)}> : {d} -> length : [{len(d)}]')\n"
   ]
  },
  {
   "cell_type": "markdown",
   "metadata": {},
   "source": [
    "### 실습 문제풀이"
   ]
  },
  {
   "cell_type": "code",
   "execution_count": 104,
   "metadata": {},
   "outputs": [
    {
     "name": "stdout",
     "output_type": "stream",
     "text": [
      "[ 1] 학생 이름 입력 : DD\n",
      "[ 1] 학생의 과목 1 점수 입력 : 90\n",
      "[ 1] 학생의 과목 2 점수 입력 : 10\n",
      "[ 2] 학생 이름 입력 : TT\n",
      "[ 2] 학생의 과목 1 점수 입력 : 90\n",
      "[ 2] 학생의 과목 2 점수 입력 : 100\n",
      "DD                     90   10   100  50.0\n",
      "\n",
      "TT                     90  100   190  95.0\n",
      "\n"
     ]
    }
   ],
   "source": [
    "MAX = 2\n",
    "SUBJECT = 2\n",
    "\n",
    "students = {}\n",
    "\n",
    "for i in range(1,MAX+1):\n",
    "    name = input(f'[{i:2}] 학생 이름 입력 : ')\n",
    "    subject1 = int(float(input(f'[{i:2}] 학생의 과목 1 점수 입력 : ')))\n",
    "    subject2 = int(float(input(f'[{i:2}] 학생의 과목 2 점수 입력 : ')))\n",
    "    \n",
    "    total = subject1 + subject2\n",
    "    \n",
    "    average = total/SUBJECT\n",
    "    \n",
    "    students[name] = [subject1, subject2, total, average]\n",
    "    #print(students)\n",
    "\n",
    "\n",
    "for k,v in students.items():\n",
    "    print(f'{k:<20}', end ='')\n",
    "    print(f'{v[0]:5}{v[1]:5}{v[2]:6}{round(v[3], 2):6}')\n",
    "    print()\n",
    "    \n"
   ]
  },
  {
   "cell_type": "code",
   "execution_count": 106,
   "metadata": {},
   "outputs": [
    {
     "name": "stdout",
     "output_type": "stream",
     "text": [
      "검색할 이름을 입력 하세요 :ll\n",
      "Error : ll                   학생에 대한 성적은 없습니다.!!\n"
     ]
    }
   ],
   "source": [
    "search_name = input('검색할 이름을 입력 하세요 :')\n",
    "\n",
    "value = students.get(search_name, 0)\n",
    "\n",
    "if value != 0:\n",
    "    print(f'{search_name:<20}',end='')\n",
    "    print(f'{value[0]:5}{value[1]:5}{value[2]:8} {round(value[3],2)}')\n",
    "else:\n",
    "    print(f'Error : {search_name:<20} 학생에 대한 성적은 없습니다.!!')"
   ]
  },
  {
   "cell_type": "code",
   "execution_count": null,
   "metadata": {},
   "outputs": [],
   "source": []
  }
 ],
 "metadata": {
  "kernelspec": {
   "display_name": "Python 3",
   "language": "python",
   "name": "python3"
  },
  "language_info": {
   "codemirror_mode": {
    "name": "ipython",
    "version": 3
   },
   "file_extension": ".py",
   "mimetype": "text/x-python",
   "name": "python",
   "nbconvert_exporter": "python",
   "pygments_lexer": "ipython3",
   "version": "3.8.5"
  }
 },
 "nbformat": 4,
 "nbformat_minor": 4
}
