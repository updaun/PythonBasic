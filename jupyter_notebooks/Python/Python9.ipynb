{
 "cells": [
  {
   "cell_type": "markdown",
   "metadata": {},
   "source": [
    "# list 매서드"
   ]
  },
  {
   "cell_type": "markdown",
   "metadata": {},
   "source": [
    "## list 복사"
   ]
  },
  {
   "cell_type": "markdown",
   "metadata": {},
   "source": [
    "### copy() 메서드"
   ]
  },
  {
   "cell_type": "code",
   "execution_count": 3,
   "metadata": {},
   "outputs": [
    {
     "name": "stdout",
     "output_type": "stream",
     "text": [
      "[1543032243776]]:[1, 2, 3] -> length 3)\n"
     ]
    }
   ],
   "source": [
    "l = [1,2,3]\n",
    "\n",
    "print(f'[{id(l)}]]:{l} -> length {len(l)})')"
   ]
  },
  {
   "cell_type": "code",
   "execution_count": 4,
   "metadata": {},
   "outputs": [
    {
     "name": "stdout",
     "output_type": "stream",
     "text": [
      "[1543033196608]]:[1, 2, 3] -> length 3)\n"
     ]
    }
   ],
   "source": [
    "l_c1 = l.copy()\n",
    "\n",
    "print(f'[{id(l_c1)}]]:{l_c1} -> length {len(l_c1)})')"
   ]
  },
  {
   "cell_type": "code",
   "execution_count": 5,
   "metadata": {},
   "outputs": [
    {
     "name": "stdout",
     "output_type": "stream",
     "text": [
      "[1543033600448]]:[1, 2, 3] -> length 3)\n"
     ]
    }
   ],
   "source": [
    "l_c2 = list(l)\n",
    "\n",
    "print(f'[{id(l_c2)}]]:{l_c2} -> length {len(l_c2)})')"
   ]
  },
  {
   "cell_type": "code",
   "execution_count": 6,
   "metadata": {},
   "outputs": [
    {
     "name": "stdout",
     "output_type": "stream",
     "text": [
      "[1543033009664]]:[1, 2, 3] -> length 3)\n"
     ]
    }
   ],
   "source": [
    "l_c3 = l[:] # 슬라이싱\n",
    "\n",
    "print(f'[{id(l_c3)}]]:{l_c3} -> length {len(l_c3)})')"
   ]
  },
  {
   "cell_type": "code",
   "execution_count": 7,
   "metadata": {},
   "outputs": [
    {
     "name": "stdout",
     "output_type": "stream",
     "text": [
      "[1543032243776]]:[1, 2, 3] -> length 3)\n",
      "[1543033009664]]:[10, 2, 3] -> length 3)\n"
     ]
    }
   ],
   "source": [
    "l_c3[0] = 10\n",
    "\n",
    "print(f'[{id(l)}]]:{l} -> length {len(l)})')\n",
    "print(f'[{id(l_c3)}]]:{l_c3} -> length {len(l_c3)})')"
   ]
  },
  {
   "cell_type": "markdown",
   "metadata": {},
   "source": [
    "### 얕은 복사(shallow copy)"
   ]
  },
  {
   "cell_type": "code",
   "execution_count": 8,
   "metadata": {},
   "outputs": [
    {
     "name": "stdout",
     "output_type": "stream",
     "text": [
      "[1543033013056]]:[1, 2, 3, [10, 20]] -> length 4)\n"
     ]
    }
   ],
   "source": [
    "l = [1,2,3,[10,20]]\n",
    "\n",
    "print(f'[{id(l)}]]:{l} -> length {len(l)})')"
   ]
  },
  {
   "cell_type": "code",
   "execution_count": 9,
   "metadata": {},
   "outputs": [
    {
     "name": "stdout",
     "output_type": "stream",
     "text": [
      "[1543033013056]]:[1, 2, 3, [10, 20]] -> length 4)\n"
     ]
    }
   ],
   "source": [
    "l_c =l.copy()\n",
    "\n",
    "print(f'[{id(l_c)}]]:{l_c} -> length {len(l_c)})')"
   ]
  },
  {
   "cell_type": "code",
   "execution_count": 10,
   "metadata": {},
   "outputs": [
    {
     "name": "stdout",
     "output_type": "stream",
     "text": [
      "[1543033013056]]:[1, 2, 3, [100, 20]] -> length 4)\n",
      "[1543033014720]]:[1, 2, 3, [100, 20]] -> length 4)\n"
     ]
    }
   ],
   "source": [
    "l_c[3][0] = 100\n",
    "\n",
    "print(f'[{id(l)}]]:{l} -> length {len(l)})')\n",
    "print(f'[{id(l_c)}]]:{l_c} -> length {len(l_c)})')"
   ]
  },
  {
   "cell_type": "markdown",
   "metadata": {},
   "source": [
    "### 깊은 복사(deep copy)"
   ]
  },
  {
   "cell_type": "code",
   "execution_count": 11,
   "metadata": {},
   "outputs": [
    {
     "name": "stdout",
     "output_type": "stream",
     "text": [
      "[1543033008576]]:[1, 2, 3, [10, 20]] -> length 4)\n"
     ]
    }
   ],
   "source": [
    "l = [1,2,3,[10,20]]\n",
    "\n",
    "print(f'[{id(l)}]]:{l} -> length {len(l)})')"
   ]
  },
  {
   "cell_type": "code",
   "execution_count": 13,
   "metadata": {},
   "outputs": [
    {
     "name": "stdout",
     "output_type": "stream",
     "text": [
      "[1543032964544]]:[1, 2, 3, [10, 20]] -> length 4)\n"
     ]
    }
   ],
   "source": [
    "import copy\n",
    "\n",
    "l_c = copy.deepcopy(l)\n",
    "print(f'[{id(l_c)}]]:{l_c} -> length {len(l_c)})')"
   ]
  },
  {
   "cell_type": "code",
   "execution_count": 14,
   "metadata": {},
   "outputs": [
    {
     "name": "stdout",
     "output_type": "stream",
     "text": [
      "[1543033008576]]:[1, 2, 3, [10, 20]] -> length 4)\n",
      "[1543032964544]]:[1, 2, 3, [100, 20]] -> length 4)\n"
     ]
    }
   ],
   "source": [
    "l_c[3][0] = 100\n",
    "\n",
    "print(f'[{id(l)}]]:{l} -> length {len(l)})')\n",
    "print(f'[{id(l_c)}]]:{l_c} -> length {len(l_c)})')"
   ]
  },
  {
   "cell_type": "markdown",
   "metadata": {},
   "source": [
    "### list 비교"
   ]
  },
  {
   "cell_type": "code",
   "execution_count": 17,
   "metadata": {},
   "outputs": [
    {
     "name": "stdout",
     "output_type": "stream",
     "text": [
      "[1543033008576]]:[1, 2, 3, [10, 20]] -> length 4)\n",
      "[1543033197824]]:[1, 2] -> length 2)\n"
     ]
    }
   ],
   "source": [
    "l = [1,2,3]\n",
    "l2 = [1,2]\n",
    "\n",
    "print(f'[{id(l)}]]:{l} -> length {len(l)})')\n",
    "print(f'[{id(l2)}]]:{l2} -> length {len(l2)})')"
   ]
  },
  {
   "cell_type": "code",
   "execution_count": 18,
   "metadata": {},
   "outputs": [
    {
     "data": {
      "text/plain": [
       "False"
      ]
     },
     "execution_count": 18,
     "metadata": {},
     "output_type": "execute_result"
    }
   ],
   "source": [
    "l == l2"
   ]
  },
  {
   "cell_type": "code",
   "execution_count": 19,
   "metadata": {},
   "outputs": [
    {
     "data": {
      "text/plain": [
       "True"
      ]
     },
     "execution_count": 19,
     "metadata": {},
     "output_type": "execute_result"
    }
   ],
   "source": [
    "l > l2"
   ]
  },
  {
   "cell_type": "code",
   "execution_count": 20,
   "metadata": {},
   "outputs": [
    {
     "data": {
      "text/plain": [
       "False"
      ]
     },
     "execution_count": 20,
     "metadata": {},
     "output_type": "execute_result"
    }
   ],
   "source": [
    "l < l2"
   ]
  },
  {
   "cell_type": "code",
   "execution_count": 22,
   "metadata": {},
   "outputs": [
    {
     "name": "stdout",
     "output_type": "stream",
     "text": [
      "[1543032979264]]:[3, 2, 1] -> length 3)\n",
      "[1543032801856]]:[1, 2, 3] -> length 3)\n"
     ]
    }
   ],
   "source": [
    "l3 = [3,2,1]\n",
    "l4 = [1,2,3]\n",
    "\n",
    "print(f'[{id(l3)}]]:{l3} -> length {len(l3)})')\n",
    "print(f'[{id(l4)}]]:{l4} -> length {len(l4)})')"
   ]
  },
  {
   "cell_type": "code",
   "execution_count": 24,
   "metadata": {},
   "outputs": [
    {
     "data": {
      "text/plain": [
       "False"
      ]
     },
     "execution_count": 24,
     "metadata": {},
     "output_type": "execute_result"
    }
   ],
   "source": [
    "l3 == l4"
   ]
  },
  {
   "cell_type": "code",
   "execution_count": 25,
   "metadata": {},
   "outputs": [
    {
     "data": {
      "text/plain": [
       "True"
      ]
     },
     "execution_count": 25,
     "metadata": {},
     "output_type": "execute_result"
    }
   ],
   "source": [
    "l3 > l4"
   ]
  },
  {
   "cell_type": "code",
   "execution_count": 26,
   "metadata": {},
   "outputs": [
    {
     "data": {
      "text/plain": [
       "False"
      ]
     },
     "execution_count": 26,
     "metadata": {},
     "output_type": "execute_result"
    }
   ],
   "source": [
    "l3 < l4"
   ]
  },
  {
   "cell_type": "code",
   "execution_count": 27,
   "metadata": {},
   "outputs": [
    {
     "name": "stdout",
     "output_type": "stream",
     "text": [
      "[1543034000704]]:[1, 2, 3] -> length 3)\n",
      "[1543032244160]]:[10, 20] -> length 2)\n"
     ]
    }
   ],
   "source": [
    "l3 = [1,2,3]\n",
    "l4 = [10,20]\n",
    "\n",
    "print(f'[{id(l3)}]]:{l3} -> length {len(l3)})')\n",
    "print(f'[{id(l4)}]]:{l4} -> length {len(l4)})')"
   ]
  },
  {
   "cell_type": "code",
   "execution_count": 28,
   "metadata": {},
   "outputs": [
    {
     "data": {
      "text/plain": [
       "False"
      ]
     },
     "execution_count": 28,
     "metadata": {},
     "output_type": "execute_result"
    }
   ],
   "source": [
    "l3 == l4"
   ]
  },
  {
   "cell_type": "code",
   "execution_count": 29,
   "metadata": {},
   "outputs": [
    {
     "data": {
      "text/plain": [
       "False"
      ]
     },
     "execution_count": 29,
     "metadata": {},
     "output_type": "execute_result"
    }
   ],
   "source": [
    "l3 > l4"
   ]
  },
  {
   "cell_type": "code",
   "execution_count": 30,
   "metadata": {},
   "outputs": [
    {
     "data": {
      "text/plain": [
       "True"
      ]
     },
     "execution_count": 30,
     "metadata": {},
     "output_type": "execute_result"
    }
   ],
   "source": [
    "l3 < l4"
   ]
  },
  {
   "cell_type": "markdown",
   "metadata": {},
   "source": [
    "### list 순회"
   ]
  },
  {
   "cell_type": "code",
   "execution_count": 37,
   "metadata": {},
   "outputs": [
    {
     "name": "stdout",
     "output_type": "stream",
     "text": [
      "[1543033014720]]:[1, 2, 'apple', 10.5] -> length 4)\n"
     ]
    }
   ],
   "source": [
    "l = [1,2,'apple',10.5]\n",
    "\n",
    "print(f'[{id(l)}]]:{l} -> length {len(l)})')"
   ]
  },
  {
   "cell_type": "code",
   "execution_count": 38,
   "metadata": {},
   "outputs": [
    {
     "name": "stdout",
     "output_type": "stream",
     "text": [
      "[ 0] : 1\n",
      "[ 1] : 2\n",
      "[ 2] : apple\n",
      "[ 3] : 10.5\n"
     ]
    }
   ],
   "source": [
    "for i in range(len(l)):\n",
    "    print(f'[{i:2}] : {l[i]}')"
   ]
  },
  {
   "cell_type": "code",
   "execution_count": 39,
   "metadata": {},
   "outputs": [
    {
     "name": "stdout",
     "output_type": "stream",
     "text": [
      "1\n",
      "2\n",
      "apple\n",
      "10.5\n"
     ]
    }
   ],
   "source": [
    "for v in l:\n",
    "    print(f'{v}')"
   ]
  },
  {
   "cell_type": "code",
   "execution_count": 42,
   "metadata": {},
   "outputs": [
    {
     "name": "stdout",
     "output_type": "stream",
     "text": [
      "[ 0] : 1\n",
      "[ 1] : 2\n",
      "[ 2] : apple\n",
      "[ 3] : 10.5\n"
     ]
    }
   ],
   "source": [
    "i = 0\n",
    "for v in l:\n",
    "    print(f'[{i:2}] : {v}')\n",
    "    i += 1"
   ]
  },
  {
   "cell_type": "markdown",
   "metadata": {},
   "source": [
    "### enumerate() 함수 이용 방법"
   ]
  },
  {
   "cell_type": "code",
   "execution_count": 45,
   "metadata": {},
   "outputs": [
    {
     "name": "stdout",
     "output_type": "stream",
     "text": [
      "<enumerate object at 0x0000016743FFE740>\n",
      "(0, 1)\n",
      "<enumerate object at 0x0000016743FFE740>\n",
      "(1, 2)\n",
      "<enumerate object at 0x0000016743FFE740>\n",
      "(2, 'apple')\n",
      "<enumerate object at 0x0000016743FFE7C0>\n",
      "(3, 10.5)\n"
     ]
    }
   ],
   "source": [
    "for t in enumerate(l): # t로 Tuple을 넘겨준다\n",
    "    print(enumerate(l))\n",
    "    print(f'{t}')"
   ]
  },
  {
   "cell_type": "code",
   "execution_count": 47,
   "metadata": {},
   "outputs": [
    {
     "name": "stdout",
     "output_type": "stream",
     "text": [
      "[ 0] : 1\n",
      "[ 1] : 2\n",
      "[ 2] : apple\n",
      "[ 3] : 10.5\n"
     ]
    }
   ],
   "source": [
    "for i,v in enumerate(l):  # 두 개의 인자에 앞에는 인덱스를 뒤에는 값을 튜플형태로 넣어준다\n",
    "    print(f'[{i:2}] : {v}')"
   ]
  },
  {
   "cell_type": "markdown",
   "metadata": {},
   "source": [
    "### zip() 함수 이용 방법"
   ]
  },
  {
   "cell_type": "code",
   "execution_count": 49,
   "metadata": {},
   "outputs": [
    {
     "name": "stdout",
     "output_type": "stream",
     "text": [
      "hong(010-1234-5678)\n",
      "kim(010-2345-6778)\n",
      "lee(010-3456-5678)\n"
     ]
    }
   ],
   "source": [
    "name = ['hong', 'kim', 'lee', 'park']  # 짧은 쪽에 맞춰짐\n",
    "tel = ['010-1234-5678','010-2345-6778','010-3456-5678']\n",
    "\n",
    "for name, tel in zip(name,tel):\n",
    "    print(f'{name}({tel})')"
   ]
  },
  {
   "cell_type": "markdown",
   "metadata": {},
   "source": [
    "### list comprehension"
   ]
  },
  {
   "cell_type": "markdown",
   "metadata": {},
   "source": [
    "### list에 하나씩 값 추가 방식"
   ]
  },
  {
   "cell_type": "code",
   "execution_count": 51,
   "metadata": {},
   "outputs": [
    {
     "name": "stdout",
     "output_type": "stream",
     "text": [
      "l : [1, 2, 3, 4, 5](5))\n"
     ]
    }
   ],
   "source": [
    "l = []\n",
    "\n",
    "l.append(1)\n",
    "l.append(2)\n",
    "l.append(3)\n",
    "l.append(4)\n",
    "l.append(5)\n",
    "\n",
    "print(f'l : {l}({len(l)}))')"
   ]
  },
  {
   "cell_type": "code",
   "execution_count": 52,
   "metadata": {},
   "outputs": [
    {
     "name": "stdout",
     "output_type": "stream",
     "text": [
      "l : [1, 2, 3, 4, 5](5))\n"
     ]
    }
   ],
   "source": [
    "l = []\n",
    "\n",
    "for i in range(1,6):\n",
    "    l.append(i)\n",
    "    \n",
    "print(f'l : {l}({len(l)}))')"
   ]
  },
  {
   "cell_type": "code",
   "execution_count": 53,
   "metadata": {},
   "outputs": [
    {
     "name": "stdout",
     "output_type": "stream",
     "text": [
      "l : [1, 2, 3, 4, 5](5))\n"
     ]
    }
   ],
   "source": [
    "l = list(range(1,6))\n",
    "\n",
    "print(f'l : {l}({len(l)}))')"
   ]
  },
  {
   "cell_type": "code",
   "execution_count": 54,
   "metadata": {},
   "outputs": [
    {
     "name": "stdout",
     "output_type": "stream",
     "text": [
      "l : [1, 2, 3, 4, 5](5))\n"
     ]
    }
   ],
   "source": [
    "l = [ i for i in range(1,6)]\n",
    "\n",
    "print(f'l : {l}({len(l)}))')"
   ]
  },
  {
   "cell_type": "code",
   "execution_count": 55,
   "metadata": {},
   "outputs": [
    {
     "name": "stdout",
     "output_type": "stream",
     "text": [
      "l : [1, 3, 5, 7, 9, 11, 13, 15, 17, 19, 21, 23, 25, 27, 29, 31, 33, 35, 37, 39, 41, 43, 45, 47, 49, 51, 53, 55, 57, 59, 61, 63, 65, 67, 69, 71, 73, 75, 77, 79, 81, 83, 85, 87, 89, 91, 93, 95, 97, 99](50))\n"
     ]
    }
   ],
   "source": [
    "l = [ i for i in range(1,101, 2)]\n",
    "\n",
    "print(f'l : {l}({len(l)}))')"
   ]
  },
  {
   "cell_type": "code",
   "execution_count": 60,
   "metadata": {},
   "outputs": [
    {
     "name": "stdout",
     "output_type": "stream",
     "text": [
      "l : [(0, 1), (1, 2), (2, 'apple'), (3, 10.5)](4))\n"
     ]
    }
   ],
   "source": [
    "l_o = [1,2,\"apple\",10.5]\n",
    "\n",
    "l = [(x,y) for x,y in enumerate(l_o)]\n",
    "print(f'l : {l}({len(l)}))')"
   ]
  },
  {
   "cell_type": "code",
   "execution_count": 56,
   "metadata": {},
   "outputs": [
    {
     "name": "stdout",
     "output_type": "stream",
     "text": [
      "l : [2, 4, 6, 8, 10](5))\n"
     ]
    }
   ],
   "source": [
    "l = []\n",
    "\n",
    "for i in range(1, 11):\n",
    "    if i % 2 == 0:\n",
    "        l.append(i)\n",
    "        \n",
    "print(f'l : {l}({len(l)}))')"
   ]
  },
  {
   "cell_type": "code",
   "execution_count": 58,
   "metadata": {},
   "outputs": [
    {
     "name": "stdout",
     "output_type": "stream",
     "text": [
      "l : [2, 4, 6, 8, 10](5))\n"
     ]
    }
   ],
   "source": [
    "l = [ i for i in range(1,11) if i % 2 == 0]\n",
    "\n",
    "print(f'l : {l}({len(l)}))')"
   ]
  },
  {
   "cell_type": "markdown",
   "metadata": {},
   "source": [
    "### list comprehension 구구단"
   ]
  },
  {
   "cell_type": "code",
   "execution_count": 63,
   "metadata": {},
   "outputs": [
    {
     "name": "stdout",
     "output_type": "stream",
     "text": [
      "2 x 1 = 2\n",
      "2 x 2 = 4\n",
      "2 x 3 = 6\n",
      "2 x 4 = 8\n",
      "2 x 5 = 10\n",
      "2 x 6 = 12\n",
      "2 x 7 = 14\n",
      "2 x 8 = 16\n",
      "2 x 9 = 18\n",
      "\n",
      "3 x 1 = 3\n",
      "3 x 2 = 6\n",
      "3 x 3 = 9\n",
      "3 x 4 = 12\n",
      "3 x 5 = 15\n",
      "3 x 6 = 18\n",
      "3 x 7 = 21\n",
      "3 x 8 = 24\n",
      "3 x 9 = 27\n",
      "\n",
      "4 x 1 = 4\n",
      "4 x 2 = 8\n",
      "4 x 3 = 12\n",
      "4 x 4 = 16\n",
      "4 x 5 = 20\n",
      "4 x 6 = 24\n",
      "4 x 7 = 28\n",
      "4 x 8 = 32\n",
      "4 x 9 = 36\n",
      "\n",
      "5 x 1 = 5\n",
      "5 x 2 = 10\n",
      "5 x 3 = 15\n",
      "5 x 4 = 20\n",
      "5 x 5 = 25\n",
      "5 x 6 = 30\n",
      "5 x 7 = 35\n",
      "5 x 8 = 40\n",
      "5 x 9 = 45\n",
      "\n",
      "6 x 1 = 6\n",
      "6 x 2 = 12\n",
      "6 x 3 = 18\n",
      "6 x 4 = 24\n",
      "6 x 5 = 30\n",
      "6 x 6 = 36\n",
      "6 x 7 = 42\n",
      "6 x 8 = 48\n",
      "6 x 9 = 54\n",
      "\n",
      "7 x 1 = 7\n",
      "7 x 2 = 14\n",
      "7 x 3 = 21\n",
      "7 x 4 = 28\n",
      "7 x 5 = 35\n",
      "7 x 6 = 42\n",
      "7 x 7 = 49\n",
      "7 x 8 = 56\n",
      "7 x 9 = 63\n",
      "\n",
      "8 x 1 = 8\n",
      "8 x 2 = 16\n",
      "8 x 3 = 24\n",
      "8 x 4 = 32\n",
      "8 x 5 = 40\n",
      "8 x 6 = 48\n",
      "8 x 7 = 56\n",
      "8 x 8 = 64\n",
      "8 x 9 = 72\n",
      "\n",
      "9 x 1 = 9\n",
      "9 x 2 = 18\n",
      "9 x 3 = 27\n",
      "9 x 4 = 36\n",
      "9 x 5 = 45\n",
      "9 x 6 = 54\n",
      "9 x 7 = 63\n",
      "9 x 8 = 72\n",
      "9 x 9 = 81\n",
      "\n"
     ]
    }
   ],
   "source": [
    "for i in range(2,10):\n",
    "    for j in range(1,10):\n",
    "        print(i, \"x\", j, \"=\", i * j)\n",
    "    print()"
   ]
  },
  {
   "cell_type": "code",
   "execution_count": 66,
   "metadata": {},
   "outputs": [
    {
     "name": "stdout",
     "output_type": "stream",
     "text": [
      "2 * 1 = 2\n",
      "2 * 2 = 4\n",
      "2 * 3 = 6\n",
      "2 * 4 = 8\n",
      "2 * 5 = 10\n",
      "2 * 6 = 12\n",
      "2 * 7 = 14\n",
      "2 * 8 = 16\n",
      "2 * 9 = 18\n",
      "3 * 1 = 3\n",
      "3 * 2 = 6\n",
      "3 * 3 = 9\n",
      "3 * 4 = 12\n",
      "3 * 5 = 15\n",
      "3 * 6 = 18\n",
      "3 * 7 = 21\n",
      "3 * 8 = 24\n",
      "3 * 9 = 27\n",
      "4 * 1 = 4\n",
      "4 * 2 = 8\n",
      "4 * 3 = 12\n",
      "4 * 4 = 16\n",
      "4 * 5 = 20\n",
      "4 * 6 = 24\n",
      "4 * 7 = 28\n",
      "4 * 8 = 32\n",
      "4 * 9 = 36\n",
      "5 * 1 = 5\n",
      "5 * 2 = 10\n",
      "5 * 3 = 15\n",
      "5 * 4 = 20\n",
      "5 * 5 = 25\n",
      "5 * 6 = 30\n",
      "5 * 7 = 35\n",
      "5 * 8 = 40\n",
      "5 * 9 = 45\n",
      "6 * 1 = 6\n",
      "6 * 2 = 12\n",
      "6 * 3 = 18\n",
      "6 * 4 = 24\n",
      "6 * 5 = 30\n",
      "6 * 6 = 36\n",
      "6 * 7 = 42\n",
      "6 * 8 = 48\n",
      "6 * 9 = 54\n",
      "7 * 1 = 7\n",
      "7 * 2 = 14\n",
      "7 * 3 = 21\n",
      "7 * 4 = 28\n",
      "7 * 5 = 35\n",
      "7 * 6 = 42\n",
      "7 * 7 = 49\n",
      "7 * 8 = 56\n",
      "7 * 9 = 63\n",
      "8 * 1 = 8\n",
      "8 * 2 = 16\n",
      "8 * 3 = 24\n",
      "8 * 4 = 32\n",
      "8 * 5 = 40\n",
      "8 * 6 = 48\n",
      "8 * 7 = 56\n",
      "8 * 8 = 64\n",
      "8 * 9 = 72\n",
      "9 * 1 = 9\n",
      "9 * 2 = 18\n",
      "9 * 3 = 27\n",
      "9 * 4 = 36\n",
      "9 * 5 = 45\n",
      "9 * 6 = 54\n",
      "9 * 7 = 63\n",
      "9 * 8 = 72\n",
      "9 * 9 = 81\n"
     ]
    }
   ],
   "source": [
    "for x in [ [x, y, x * y] for x in range(2,10,1) for y in range(1, 10, 1) ]:\n",
    "    print(x[0],'*',x[1],'=',x[2])"
   ]
  },
  {
   "cell_type": "code",
   "execution_count": 70,
   "metadata": {},
   "outputs": [
    {
     "name": "stdout",
     "output_type": "stream",
     "text": [
      "[[2, 1, 2], [2, 2, 4], [2, 3, 6], [2, 4, 8], [2, 5, 10], [2, 6, 12], [2, 7, 14], [2, 8, 16], [2, 9, 18], [3, 1, 3], [3, 2, 6], [3, 3, 9], [3, 4, 12], [3, 5, 15], [3, 6, 18], [3, 7, 21], [3, 8, 24], [3, 9, 27], [4, 1, 4], [4, 2, 8], [4, 3, 12], [4, 4, 16], [4, 5, 20], [4, 6, 24], [4, 7, 28], [4, 8, 32], [4, 9, 36], [5, 1, 5], [5, 2, 10], [5, 3, 15], [5, 4, 20], [5, 5, 25], [5, 6, 30], [5, 7, 35], [5, 8, 40], [5, 9, 45], [6, 1, 6], [6, 2, 12], [6, 3, 18], [6, 4, 24], [6, 5, 30], [6, 6, 36], [6, 7, 42], [6, 8, 48], [6, 9, 54], [7, 1, 7], [7, 2, 14], [7, 3, 21], [7, 4, 28], [7, 5, 35], [7, 6, 42], [7, 7, 49], [7, 8, 56], [7, 9, 63], [8, 1, 8], [8, 2, 16], [8, 3, 24], [8, 4, 32], [8, 5, 40], [8, 6, 48], [8, 7, 56], [8, 8, 64], [8, 9, 72], [9, 1, 9], [9, 2, 18], [9, 3, 27], [9, 4, 36], [9, 5, 45], [9, 6, 54], [9, 7, 63], [9, 8, 72], [9, 9, 81]]\n"
     ]
    }
   ],
   "source": [
    "l =  [[x, y, x * y] for x in range(2,10,1) for y in range(1, 10, 1) ]\n",
    "print(l)"
   ]
  },
  {
   "cell_type": "code",
   "execution_count": 71,
   "metadata": {},
   "outputs": [
    {
     "name": "stdout",
     "output_type": "stream",
     "text": [
      "[[(2, 1, 2), (2, 2, 4), (2, 3, 6), (2, 4, 8), (2, 5, 10), (2, 6, 12), (2, 7, 14), (2, 8, 16), (2, 9, 18)], [(3, 1, 3), (3, 2, 6), (3, 3, 9), (3, 4, 12), (3, 5, 15), (3, 6, 18), (3, 7, 21), (3, 8, 24), (3, 9, 27)], [(4, 1, 4), (4, 2, 8), (4, 3, 12), (4, 4, 16), (4, 5, 20), (4, 6, 24), (4, 7, 28), (4, 8, 32), (4, 9, 36)], [(5, 1, 5), (5, 2, 10), (5, 3, 15), (5, 4, 20), (5, 5, 25), (5, 6, 30), (5, 7, 35), (5, 8, 40), (5, 9, 45)], [(6, 1, 6), (6, 2, 12), (6, 3, 18), (6, 4, 24), (6, 5, 30), (6, 6, 36), (6, 7, 42), (6, 8, 48), (6, 9, 54)], [(7, 1, 7), (7, 2, 14), (7, 3, 21), (7, 4, 28), (7, 5, 35), (7, 6, 42), (7, 7, 49), (7, 8, 56), (7, 9, 63)], [(8, 1, 8), (8, 2, 16), (8, 3, 24), (8, 4, 32), (8, 5, 40), (8, 6, 48), (8, 7, 56), (8, 8, 64), (8, 9, 72)], [(9, 1, 9), (9, 2, 18), (9, 3, 27), (9, 4, 36), (9, 5, 45), (9, 6, 54), (9, 7, 63), (9, 8, 72), (9, 9, 81)]]\n",
      "\n",
      " 2 X  1 =  2\n",
      " 2 X  2 =  4\n",
      " 2 X  3 =  6\n",
      " 2 X  4 =  8\n",
      " 2 X  5 = 10\n",
      " 2 X  6 = 12\n",
      " 2 X  7 = 14\n",
      " 2 X  8 = 16\n",
      " 2 X  9 = 18\n",
      "\n",
      " 3 X  1 =  3\n",
      " 3 X  2 =  6\n",
      " 3 X  3 =  9\n",
      " 3 X  4 = 12\n",
      " 3 X  5 = 15\n",
      " 3 X  6 = 18\n",
      " 3 X  7 = 21\n",
      " 3 X  8 = 24\n",
      " 3 X  9 = 27\n",
      "\n",
      " 4 X  1 =  4\n",
      " 4 X  2 =  8\n",
      " 4 X  3 = 12\n",
      " 4 X  4 = 16\n",
      " 4 X  5 = 20\n",
      " 4 X  6 = 24\n",
      " 4 X  7 = 28\n",
      " 4 X  8 = 32\n",
      " 4 X  9 = 36\n",
      "\n",
      " 5 X  1 =  5\n",
      " 5 X  2 = 10\n",
      " 5 X  3 = 15\n",
      " 5 X  4 = 20\n",
      " 5 X  5 = 25\n",
      " 5 X  6 = 30\n",
      " 5 X  7 = 35\n",
      " 5 X  8 = 40\n",
      " 5 X  9 = 45\n",
      "\n",
      " 6 X  1 =  6\n",
      " 6 X  2 = 12\n",
      " 6 X  3 = 18\n",
      " 6 X  4 = 24\n",
      " 6 X  5 = 30\n",
      " 6 X  6 = 36\n",
      " 6 X  7 = 42\n",
      " 6 X  8 = 48\n",
      " 6 X  9 = 54\n",
      "\n",
      " 7 X  1 =  7\n",
      " 7 X  2 = 14\n",
      " 7 X  3 = 21\n",
      " 7 X  4 = 28\n",
      " 7 X  5 = 35\n",
      " 7 X  6 = 42\n",
      " 7 X  7 = 49\n",
      " 7 X  8 = 56\n",
      " 7 X  9 = 63\n",
      "\n",
      " 8 X  1 =  8\n",
      " 8 X  2 = 16\n",
      " 8 X  3 = 24\n",
      " 8 X  4 = 32\n",
      " 8 X  5 = 40\n",
      " 8 X  6 = 48\n",
      " 8 X  7 = 56\n",
      " 8 X  8 = 64\n",
      " 8 X  9 = 72\n",
      "\n",
      " 9 X  1 =  9\n",
      " 9 X  2 = 18\n",
      " 9 X  3 = 27\n",
      " 9 X  4 = 36\n",
      " 9 X  5 = 45\n",
      " 9 X  6 = 54\n",
      " 9 X  7 = 63\n",
      " 9 X  8 = 72\n",
      " 9 X  9 = 81\n",
      "\n"
     ]
    }
   ],
   "source": [
    "l = [] # 전체 구구단표 저장 list\n",
    "\n",
    "for i in range( 2, 10 ):\n",
    "    r = [] # 단을 저장하는 list\n",
    "    for j in range( 1, 10 ):\n",
    "        r.append( ( i, j, i*j ) ) \n",
    "    l.append( r )\n",
    "\n",
    "print( l )\n",
    "print()\n",
    "\n",
    "for row in l:\n",
    "    for column in row:\n",
    "        print( f'{column[ 0 ]:2} X {column[ 1 ]:2} = {column[ 2 ]:2}' )\n",
    "    print()"
   ]
  },
  {
   "cell_type": "code",
   "execution_count": 72,
   "metadata": {},
   "outputs": [
    {
     "name": "stdout",
     "output_type": "stream",
     "text": [
      "[[(2, 1, 2), (3, 1, 3), (4, 1, 4), (5, 1, 5), (6, 1, 6), (7, 1, 7), (8, 1, 8), (9, 1, 9)], [(2, 2, 4), (3, 2, 6), (4, 2, 8), (5, 2, 10), (6, 2, 12), (7, 2, 14), (8, 2, 16), (9, 2, 18)], [(2, 3, 6), (3, 3, 9), (4, 3, 12), (5, 3, 15), (6, 3, 18), (7, 3, 21), (8, 3, 24), (9, 3, 27)], [(2, 4, 8), (3, 4, 12), (4, 4, 16), (5, 4, 20), (6, 4, 24), (7, 4, 28), (8, 4, 32), (9, 4, 36)], [(2, 5, 10), (3, 5, 15), (4, 5, 20), (5, 5, 25), (6, 5, 30), (7, 5, 35), (8, 5, 40), (9, 5, 45)], [(2, 6, 12), (3, 6, 18), (4, 6, 24), (5, 6, 30), (6, 6, 36), (7, 6, 42), (8, 6, 48), (9, 6, 54)], [(2, 7, 14), (3, 7, 21), (4, 7, 28), (5, 7, 35), (6, 7, 42), (7, 7, 49), (8, 7, 56), (9, 7, 63)], [(2, 8, 16), (3, 8, 24), (4, 8, 32), (5, 8, 40), (6, 8, 48), (7, 8, 56), (8, 8, 64), (9, 8, 72)], [(2, 9, 18), (3, 9, 27), (4, 9, 36), (5, 9, 45), (6, 9, 54), (7, 9, 63), (8, 9, 72), (9, 9, 81)]]\n"
     ]
    }
   ],
   "source": [
    "# 0. 구구단표 list 생성\n",
    "multiples = [ [ ( i, j, i * j ) for i in range( 2, 10 ) ] for j in range( 1, 10 ) ]\n",
    "print( multiples )"
   ]
  },
  {
   "cell_type": "code",
   "execution_count": 73,
   "metadata": {},
   "outputs": [
    {
     "name": "stdout",
     "output_type": "stream",
     "text": [
      " 2 X  1 =  2\n",
      " 2 X  2 =  4\n",
      " 2 X  3 =  6\n",
      " 2 X  4 =  8\n",
      " 2 X  5 = 10\n",
      " 2 X  6 = 12\n",
      " 2 X  7 = 14\n",
      " 2 X  8 = 16\n",
      " 2 X  9 = 18\n",
      "\n",
      " 3 X  1 =  3\n",
      " 3 X  2 =  6\n",
      " 3 X  3 =  9\n",
      " 3 X  4 = 12\n",
      " 3 X  5 = 15\n",
      " 3 X  6 = 18\n",
      " 3 X  7 = 21\n",
      " 3 X  8 = 24\n",
      " 3 X  9 = 27\n",
      "\n",
      " 4 X  1 =  4\n",
      " 4 X  2 =  8\n",
      " 4 X  3 = 12\n",
      " 4 X  4 = 16\n",
      " 4 X  5 = 20\n",
      " 4 X  6 = 24\n",
      " 4 X  7 = 28\n",
      " 4 X  8 = 32\n",
      " 4 X  9 = 36\n",
      "\n",
      " 5 X  1 =  5\n",
      " 5 X  2 = 10\n",
      " 5 X  3 = 15\n",
      " 5 X  4 = 20\n",
      " 5 X  5 = 25\n",
      " 5 X  6 = 30\n",
      " 5 X  7 = 35\n",
      " 5 X  8 = 40\n",
      " 5 X  9 = 45\n",
      "\n",
      " 6 X  1 =  6\n",
      " 6 X  2 = 12\n",
      " 6 X  3 = 18\n",
      " 6 X  4 = 24\n",
      " 6 X  5 = 30\n",
      " 6 X  6 = 36\n",
      " 6 X  7 = 42\n",
      " 6 X  8 = 48\n",
      " 6 X  9 = 54\n",
      "\n",
      " 7 X  1 =  7\n",
      " 7 X  2 = 14\n",
      " 7 X  3 = 21\n",
      " 7 X  4 = 28\n",
      " 7 X  5 = 35\n",
      " 7 X  6 = 42\n",
      " 7 X  7 = 49\n",
      " 7 X  8 = 56\n",
      " 7 X  9 = 63\n",
      "\n",
      " 8 X  1 =  8\n",
      " 8 X  2 = 16\n",
      " 8 X  3 = 24\n",
      " 8 X  4 = 32\n",
      " 8 X  5 = 40\n",
      " 8 X  6 = 48\n",
      " 8 X  7 = 56\n",
      " 8 X  8 = 64\n",
      " 8 X  9 = 72\n",
      "\n",
      " 9 X  1 =  9\n",
      " 9 X  2 = 18\n",
      " 9 X  3 = 27\n",
      " 9 X  4 = 36\n",
      " 9 X  5 = 45\n",
      " 9 X  6 = 54\n",
      " 9 X  7 = 63\n",
      " 9 X  8 = 72\n",
      " 9 X  9 = 81\n",
      "\n"
     ]
    }
   ],
   "source": [
    "# 1. 구구단표 출력\n",
    "for j in range( 8 ):\n",
    "    for i in range( len( multiples ) ):\n",
    "        print( f'{multiples[i][j][0]:2} X ', end = '' )\n",
    "        print( f'{multiples[i][j][1]:2} = ', end = '' )\n",
    "        print( f'{multiples[i][j][2]:2}' )\n",
    "    print()"
   ]
  },
  {
   "cell_type": "code",
   "execution_count": null,
   "metadata": {},
   "outputs": [],
   "source": []
  }
 ],
 "metadata": {
  "kernelspec": {
   "display_name": "Python 3",
   "language": "python",
   "name": "python3"
  },
  "language_info": {
   "codemirror_mode": {
    "name": "ipython",
    "version": 3
   },
   "file_extension": ".py",
   "mimetype": "text/x-python",
   "name": "python",
   "nbconvert_exporter": "python",
   "pygments_lexer": "ipython3",
   "version": "3.7.7"
  }
 },
 "nbformat": 4,
 "nbformat_minor": 4
}
