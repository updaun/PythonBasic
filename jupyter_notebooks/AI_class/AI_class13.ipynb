{
 "cells": [
  {
   "cell_type": "markdown",
   "metadata": {},
   "source": [
    "# set"
   ]
  },
  {
   "cell_type": "code",
   "execution_count": 1,
   "metadata": {},
   "outputs": [
    {
     "name": "stdout",
     "output_type": "stream",
     "text": [
      "s <<class 'set'>> -> set() : length [0]\n"
     ]
    }
   ],
   "source": [
    "# 빈 set 생성\n",
    "s = set()\n",
    "\n",
    "print(f's <{type(s)}> -> {s} : length [{len(s)}]')"
   ]
  },
  {
   "cell_type": "code",
   "execution_count": 2,
   "metadata": {},
   "outputs": [
    {
     "name": "stdout",
     "output_type": "stream",
     "text": [
      "s <<class 'set'>> -> {1, 2, 3, 4, 5} : length [5]\n"
     ]
    }
   ],
   "source": [
    "s = {1,2,3,3,4,5}\n",
    "\n",
    "print(f's <{type(s)}> -> {s} : length [{len(s)}]')"
   ]
  },
  {
   "cell_type": "markdown",
   "metadata": {},
   "source": [
    "## set을 사용하는 이유는? 중복 없이 저장한다는 것이다!"
   ]
  },
  {
   "cell_type": "code",
   "execution_count": 4,
   "metadata": {},
   "outputs": [
    {
     "name": "stdout",
     "output_type": "stream",
     "text": [
      "s <<class 'set'>> -> {1, 2, 3, 4, 5} : length [5]\n"
     ]
    }
   ],
   "source": [
    "s = set([1,2,3,3,4,5]) # list를 사용한 set 생성\n",
    "\n",
    "print(f's <{type(s)}> -> {s} : length [{len(s)}]')"
   ]
  },
  {
   "cell_type": "code",
   "execution_count": 5,
   "metadata": {},
   "outputs": [
    {
     "name": "stdout",
     "output_type": "stream",
     "text": [
      "s <<class 'set'>> -> {1, 2, 3, 4, 5} : length [5]\n"
     ]
    }
   ],
   "source": [
    "s = set((1,2,3,3,4,5)) # tuple을 사용한 set 생성\n",
    "\n",
    "print(f's <{type(s)}> -> {s} : length [{len(s)}]')"
   ]
  },
  {
   "cell_type": "code",
   "execution_count": 6,
   "metadata": {},
   "outputs": [
    {
     "name": "stdout",
     "output_type": "stream",
     "text": [
      "s <<class 'set'>> -> {'sun', 'mon', 'tue'} : length [3]\n"
     ]
    }
   ],
   "source": [
    "s = set({'sun':0,'mon':1,'tue':2}) # tuple을 사용한 set 생성\n",
    "\n",
    "print(f's <{type(s)}> -> {s} : length [{len(s)}]')"
   ]
  },
  {
   "cell_type": "code",
   "execution_count": 7,
   "metadata": {},
   "outputs": [
    {
     "ename": "TypeError",
     "evalue": "set expected at most 1 argument, got 2",
     "output_type": "error",
     "traceback": [
      "\u001b[1;31m---------------------------------------------------------------------------\u001b[0m",
      "\u001b[1;31mTypeError\u001b[0m                                 Traceback (most recent call last)",
      "\u001b[1;32m<ipython-input-7-f62d3afb75c3>\u001b[0m in \u001b[0;36m<module>\u001b[1;34m\u001b[0m\n\u001b[1;32m----> 1\u001b[1;33m \u001b[0ms\u001b[0m \u001b[1;33m=\u001b[0m \u001b[0mset\u001b[0m\u001b[1;33m(\u001b[0m\u001b[1;33m[\u001b[0m\u001b[1;36m1\u001b[0m\u001b[1;33m,\u001b[0m\u001b[1;36m2\u001b[0m\u001b[1;33m,\u001b[0m\u001b[1;36m3\u001b[0m\u001b[1;33m]\u001b[0m\u001b[1;33m,\u001b[0m\u001b[1;33m[\u001b[0m\u001b[1;36m3\u001b[0m\u001b[1;33m,\u001b[0m\u001b[1;36m4\u001b[0m\u001b[1;33m,\u001b[0m\u001b[1;36m5\u001b[0m\u001b[1;33m]\u001b[0m\u001b[1;33m)\u001b[0m \u001b[1;31m# list를 사용한 set 생성\u001b[0m\u001b[1;33m\u001b[0m\u001b[1;33m\u001b[0m\u001b[0m\n\u001b[0m\u001b[0;32m      2\u001b[0m \u001b[1;33m\u001b[0m\u001b[0m\n\u001b[0;32m      3\u001b[0m \u001b[0mprint\u001b[0m\u001b[1;33m(\u001b[0m\u001b[1;34mf's <{type(s)}> -> {s} : length [{len(s)}]'\u001b[0m\u001b[1;33m)\u001b[0m\u001b[1;33m\u001b[0m\u001b[1;33m\u001b[0m\u001b[0m\n",
      "\u001b[1;31mTypeError\u001b[0m: set expected at most 1 argument, got 2"
     ]
    }
   ],
   "source": [
    "s = set([1,2,3],[3,4,5]) # list 2개를 사용하여 set을 만들면 에러가 발생한다\n",
    "\n",
    "print(f's <{type(s)}> -> {s} : length [{len(s)}]')"
   ]
  },
  {
   "cell_type": "code",
   "execution_count": 8,
   "metadata": {},
   "outputs": [
    {
     "name": "stdout",
     "output_type": "stream",
     "text": [
      "s <<class 'set'>> -> {1, 2, 3, 4, 5} : length [5]\n"
     ]
    }
   ],
   "source": [
    "s = {1,2,3,4,5}\n",
    "\n",
    "print(f's <{type(s)}> -> {s} : length [{len(s)}]')"
   ]
  },
  {
   "cell_type": "code",
   "execution_count": 9,
   "metadata": {},
   "outputs": [
    {
     "data": {
      "text/plain": [
       "True"
      ]
     },
     "execution_count": 9,
     "metadata": {},
     "output_type": "execute_result"
    }
   ],
   "source": [
    "1 in s"
   ]
  },
  {
   "cell_type": "code",
   "execution_count": 10,
   "metadata": {},
   "outputs": [
    {
     "data": {
      "text/plain": [
       "True"
      ]
     },
     "execution_count": 10,
     "metadata": {},
     "output_type": "execute_result"
    }
   ],
   "source": [
    "5 in s"
   ]
  },
  {
   "cell_type": "code",
   "execution_count": 11,
   "metadata": {},
   "outputs": [
    {
     "data": {
      "text/plain": [
       "False"
      ]
     },
     "execution_count": 11,
     "metadata": {},
     "output_type": "execute_result"
    }
   ],
   "source": [
    "6 in s"
   ]
  },
  {
   "cell_type": "code",
   "execution_count": 16,
   "metadata": {},
   "outputs": [
    {
     "name": "stdout",
     "output_type": "stream",
     "text": [
      "length : 5\n"
     ]
    }
   ],
   "source": [
    "print(f'length : {len(s)}')"
   ]
  },
  {
   "cell_type": "markdown",
   "metadata": {},
   "source": [
    "# 데이터 추가\n",
    "\n",
    "## add()"
   ]
  },
  {
   "cell_type": "code",
   "execution_count": 17,
   "metadata": {},
   "outputs": [
    {
     "name": "stdout",
     "output_type": "stream",
     "text": [
      "s <<class 'set'>> -> {1, 2, 3} : length [3]\n"
     ]
    }
   ],
   "source": [
    "s = {1,2,3}\n",
    "\n",
    "print(f's <{type(s)}> -> {s} : length [{len(s)}]')"
   ]
  },
  {
   "cell_type": "code",
   "execution_count": 18,
   "metadata": {},
   "outputs": [
    {
     "name": "stdout",
     "output_type": "stream",
     "text": [
      "s <<class 'set'>> -> {1, 2, 3, 4} : length [4]\n"
     ]
    }
   ],
   "source": [
    "s.add(4)\n",
    "\n",
    "print(f's <{type(s)}> -> {s} : length [{len(s)}]')"
   ]
  },
  {
   "cell_type": "code",
   "execution_count": 19,
   "metadata": {},
   "outputs": [
    {
     "name": "stdout",
     "output_type": "stream",
     "text": [
      "s <<class 'set'>> -> {1, 2, 3, 4} : length [4]\n"
     ]
    }
   ],
   "source": [
    "s. add(3)\n",
    "\n",
    "print(f's <{type(s)}> -> {s} : length [{len(s)}]')"
   ]
  },
  {
   "cell_type": "code",
   "execution_count": 21,
   "metadata": {},
   "outputs": [
    {
     "name": "stdout",
     "output_type": "stream",
     "text": [
      "s <<class 'set'>> -> {1, 2, 3, 4, (4, 5, 6)} : length [5]\n"
     ]
    }
   ],
   "source": [
    "s.add((4,5,6))\n",
    "\n",
    "print(f's <{type(s)}> -> {s} : length [{len(s)}]')"
   ]
  },
  {
   "cell_type": "code",
   "execution_count": 22,
   "metadata": {},
   "outputs": [
    {
     "ename": "TypeError",
     "evalue": "unhashable type: 'list'",
     "output_type": "error",
     "traceback": [
      "\u001b[1;31m---------------------------------------------------------------------------\u001b[0m",
      "\u001b[1;31mTypeError\u001b[0m                                 Traceback (most recent call last)",
      "\u001b[1;32m<ipython-input-22-0f68cb5be74d>\u001b[0m in \u001b[0;36m<module>\u001b[1;34m\u001b[0m\n\u001b[1;32m----> 1\u001b[1;33m \u001b[0ms\u001b[0m\u001b[1;33m.\u001b[0m\u001b[0madd\u001b[0m\u001b[1;33m(\u001b[0m\u001b[1;33m[\u001b[0m\u001b[1;36m7\u001b[0m\u001b[1;33m,\u001b[0m\u001b[1;36m8\u001b[0m\u001b[1;33m,\u001b[0m\u001b[1;36m9\u001b[0m\u001b[1;33m]\u001b[0m\u001b[1;33m)\u001b[0m\u001b[1;33m\u001b[0m\u001b[1;33m\u001b[0m\u001b[0m\n\u001b[0m\u001b[0;32m      2\u001b[0m \u001b[1;33m\u001b[0m\u001b[0m\n\u001b[0;32m      3\u001b[0m \u001b[0mprint\u001b[0m\u001b[1;33m(\u001b[0m\u001b[1;34mf's <{type(s)}> -> {s} : length [{len(s)}]'\u001b[0m\u001b[1;33m)\u001b[0m\u001b[1;33m\u001b[0m\u001b[1;33m\u001b[0m\u001b[0m\n",
      "\u001b[1;31mTypeError\u001b[0m: unhashable type: 'list'"
     ]
    }
   ],
   "source": [
    "s.add([7,8,9])\n",
    "\n",
    "print(f's <{type(s)}> -> {s} : length [{len(s)}]')"
   ]
  },
  {
   "cell_type": "markdown",
   "metadata": {},
   "source": [
    "### remove()"
   ]
  },
  {
   "cell_type": "code",
   "execution_count": 26,
   "metadata": {},
   "outputs": [
    {
     "name": "stdout",
     "output_type": "stream",
     "text": [
      "s <<class 'set'>> -> {1, 2, 3, 4, 5} : length [5]\n"
     ]
    }
   ],
   "source": [
    "s = {1,2,3,4,5}\n",
    "\n",
    "print(f's <{type(s)}> -> {s} : length [{len(s)}]')"
   ]
  },
  {
   "cell_type": "code",
   "execution_count": 27,
   "metadata": {},
   "outputs": [
    {
     "name": "stdout",
     "output_type": "stream",
     "text": [
      "s <<class 'set'>> -> {1, 2, 3, 4} : length [4]\n"
     ]
    }
   ],
   "source": [
    "s.remove(5)\n",
    "\n",
    "print(f's <{type(s)}> -> {s} : length [{len(s)}]')"
   ]
  },
  {
   "cell_type": "code",
   "execution_count": 28,
   "metadata": {},
   "outputs": [
    {
     "ename": "KeyError",
     "evalue": "5",
     "output_type": "error",
     "traceback": [
      "\u001b[1;31m---------------------------------------------------------------------------\u001b[0m",
      "\u001b[1;31mKeyError\u001b[0m                                  Traceback (most recent call last)",
      "\u001b[1;32m<ipython-input-28-c2a67f3dcf24>\u001b[0m in \u001b[0;36m<module>\u001b[1;34m\u001b[0m\n\u001b[1;32m----> 1\u001b[1;33m \u001b[0ms\u001b[0m\u001b[1;33m.\u001b[0m\u001b[0mremove\u001b[0m\u001b[1;33m(\u001b[0m\u001b[1;36m5\u001b[0m\u001b[1;33m)\u001b[0m\u001b[1;33m\u001b[0m\u001b[1;33m\u001b[0m\u001b[0m\n\u001b[0m\u001b[0;32m      2\u001b[0m \u001b[1;33m\u001b[0m\u001b[0m\n\u001b[0;32m      3\u001b[0m \u001b[0mprint\u001b[0m\u001b[1;33m(\u001b[0m\u001b[1;34mf's <{type(s)}> -> {s} : length [{len(s)}]'\u001b[0m\u001b[1;33m)\u001b[0m\u001b[1;33m\u001b[0m\u001b[1;33m\u001b[0m\u001b[0m\n",
      "\u001b[1;31mKeyError\u001b[0m: 5"
     ]
    }
   ],
   "source": [
    "s.remove(5) # 값이 없으면 에러가 발생한다.\n",
    "\n",
    "print(f's <{type(s)}> -> {s} : length [{len(s)}]')"
   ]
  },
  {
   "cell_type": "markdown",
   "metadata": {},
   "source": [
    "### discard()"
   ]
  },
  {
   "cell_type": "code",
   "execution_count": 29,
   "metadata": {},
   "outputs": [
    {
     "name": "stdout",
     "output_type": "stream",
     "text": [
      "s <<class 'set'>> -> {1, 2, 4} : length [3]\n"
     ]
    }
   ],
   "source": [
    "s.discard(3)\n",
    "\n",
    "print(f's <{type(s)}> -> {s} : length [{len(s)}]')"
   ]
  },
  {
   "cell_type": "code",
   "execution_count": 30,
   "metadata": {},
   "outputs": [
    {
     "name": "stdout",
     "output_type": "stream",
     "text": [
      "s <<class 'set'>> -> {1, 2, 4} : length [3]\n"
     ]
    }
   ],
   "source": [
    "s.discard(5) # 값이 없어도 에러가 발생되지 않음\n",
    "\n",
    "print(f's <{type(s)}> -> {s} : length [{len(s)}]')"
   ]
  },
  {
   "cell_type": "markdown",
   "metadata": {},
   "source": [
    "### pop()"
   ]
  },
  {
   "cell_type": "code",
   "execution_count": 31,
   "metadata": {},
   "outputs": [
    {
     "name": "stdout",
     "output_type": "stream",
     "text": [
      "2\n",
      "s <<class 'set'>> -> {4} : length [1]\n"
     ]
    }
   ],
   "source": [
    "s.pop() # 삭제하고 값을 반환\n",
    "\n",
    "print(s.pop())\n",
    "\n",
    "print(f's <{type(s)}> -> {s} : length [{len(s)}]')"
   ]
  },
  {
   "cell_type": "code",
   "execution_count": 32,
   "metadata": {},
   "outputs": [
    {
     "name": "stdout",
     "output_type": "stream",
     "text": [
      "s <<class 'set'>> -> {1, 2, 3, 4, 5} : length [5]\n"
     ]
    }
   ],
   "source": [
    "s = {1,2,3,4,5}\n",
    "\n",
    "print(f's <{type(s)}> -> {s} : length [{len(s)}]')"
   ]
  },
  {
   "cell_type": "markdown",
   "metadata": {},
   "source": [
    "### clear()"
   ]
  },
  {
   "cell_type": "code",
   "execution_count": 35,
   "metadata": {},
   "outputs": [
    {
     "name": "stdout",
     "output_type": "stream",
     "text": [
      "s <<class 'set'>> -> set() : length [0]\n"
     ]
    }
   ],
   "source": [
    "s.clear()\n",
    "\n",
    "print(f's <{type(s)}> -> {s} : length [{len(s)}]')"
   ]
  },
  {
   "cell_type": "markdown",
   "metadata": {},
   "source": [
    "## 데이터 복사\n",
    "### copy()"
   ]
  },
  {
   "cell_type": "code",
   "execution_count": 37,
   "metadata": {},
   "outputs": [
    {
     "name": "stdout",
     "output_type": "stream",
     "text": [
      "s <<class 'set'>> -> {1, 2, 3} : length [3]\n"
     ]
    }
   ],
   "source": [
    "s = {1, 2, 3}\n",
    "\n",
    "print(f's <{type(s)}> -> {s} : length [{len(s)}]')"
   ]
  },
  {
   "cell_type": "code",
   "execution_count": 38,
   "metadata": {},
   "outputs": [
    {
     "name": "stdout",
     "output_type": "stream",
     "text": [
      "s2 <<class 'set'>> -> {1, 2, 3} : length [3]\n"
     ]
    }
   ],
   "source": [
    "s2 = s.copy()\n",
    "\n",
    "print(f's2 <{type(s2)}> -> {s2} : length [{len(s2)}]')"
   ]
  },
  {
   "cell_type": "markdown",
   "metadata": {},
   "source": [
    "### 집합 연산"
   ]
  },
  {
   "cell_type": "code",
   "execution_count": 39,
   "metadata": {},
   "outputs": [
    {
     "name": "stdout",
     "output_type": "stream",
     "text": [
      "s <<class 'set'>> -> {1, 2, 3, 4, 5, 6} : length [6]\n",
      "s2 <<class 'set'>> -> {4, 5, 6, 7, 8, 9} : length [6]\n"
     ]
    }
   ],
   "source": [
    "# 중복 데이터를 배제하고자 할 때\n",
    "s = {1,2,3,4,5,6}\n",
    "s2 = {4,5,6,7,8,9}\n",
    "\n",
    "print(f's <{type(s)}> -> {s} : length [{len(s)}]')\n",
    "print(f's2 <{type(s2)}> -> {s2} : length [{len(s2)}]')"
   ]
  },
  {
   "cell_type": "markdown",
   "metadata": {},
   "source": [
    "### 교집합(intersection)"
   ]
  },
  {
   "cell_type": "code",
   "execution_count": 40,
   "metadata": {},
   "outputs": [
    {
     "data": {
      "text/plain": [
       "{4, 5, 6}"
      ]
     },
     "execution_count": 40,
     "metadata": {},
     "output_type": "execute_result"
    }
   ],
   "source": [
    "s.intersection(s2)"
   ]
  },
  {
   "cell_type": "code",
   "execution_count": 41,
   "metadata": {},
   "outputs": [
    {
     "data": {
      "text/plain": [
       "{4, 5, 6}"
      ]
     },
     "execution_count": 41,
     "metadata": {},
     "output_type": "execute_result"
    }
   ],
   "source": [
    "s & s2"
   ]
  },
  {
   "cell_type": "code",
   "execution_count": 42,
   "metadata": {},
   "outputs": [
    {
     "name": "stdout",
     "output_type": "stream",
     "text": [
      "s <<class 'set'>> -> {4, 5, 6} : length [3]\n"
     ]
    }
   ],
   "source": [
    "s.intersection_update(s2)\n",
    "\n",
    "print(f's <{type(s)}> -> {s} : length [{len(s)}]')"
   ]
  },
  {
   "cell_type": "markdown",
   "metadata": {},
   "source": [
    "### 합집합(union)"
   ]
  },
  {
   "cell_type": "code",
   "execution_count": 47,
   "metadata": {},
   "outputs": [
    {
     "data": {
      "text/plain": [
       "{1, 2, 3, 4, 5, 6, 7, 8, 9}"
      ]
     },
     "execution_count": 47,
     "metadata": {},
     "output_type": "execute_result"
    }
   ],
   "source": [
    "s = {1,2,3,4,5,6}\n",
    "s2 = {4,5,6,7,8,9}\n",
    "\n",
    "s.union(s2)"
   ]
  },
  {
   "cell_type": "code",
   "execution_count": 48,
   "metadata": {},
   "outputs": [
    {
     "data": {
      "text/plain": [
       "{1, 2, 3, 4, 5, 6, 7, 8, 9}"
      ]
     },
     "execution_count": 48,
     "metadata": {},
     "output_type": "execute_result"
    }
   ],
   "source": [
    "s | s2"
   ]
  },
  {
   "cell_type": "code",
   "execution_count": 49,
   "metadata": {},
   "outputs": [
    {
     "name": "stdout",
     "output_type": "stream",
     "text": [
      "s <<class 'set'>> -> {1, 2, 3, 4, 5, 6, 7, 8, 9} : length [9]\n"
     ]
    }
   ],
   "source": [
    "s.update(s2)\n",
    "\n",
    "print(f's <{type(s)}> -> {s} : length [{len(s)}]')"
   ]
  },
  {
   "cell_type": "markdown",
   "metadata": {},
   "source": [
    "### 차집합(difference)"
   ]
  },
  {
   "cell_type": "code",
   "execution_count": 50,
   "metadata": {},
   "outputs": [
    {
     "data": {
      "text/plain": [
       "{1, 2, 3}"
      ]
     },
     "execution_count": 50,
     "metadata": {},
     "output_type": "execute_result"
    }
   ],
   "source": [
    "s.difference(s2)"
   ]
  },
  {
   "cell_type": "code",
   "execution_count": 51,
   "metadata": {},
   "outputs": [
    {
     "data": {
      "text/plain": [
       "{1, 2, 3}"
      ]
     },
     "execution_count": 51,
     "metadata": {},
     "output_type": "execute_result"
    }
   ],
   "source": [
    "s - s2"
   ]
  },
  {
   "cell_type": "code",
   "execution_count": 52,
   "metadata": {},
   "outputs": [
    {
     "name": "stdout",
     "output_type": "stream",
     "text": [
      "s <<class 'set'>> -> {1, 2, 3} : length [3]\n"
     ]
    }
   ],
   "source": [
    "s.difference_update(s2)\n",
    "\n",
    "print(f's <{type(s)}> -> {s} : length [{len(s)}]')"
   ]
  },
  {
   "cell_type": "markdown",
   "metadata": {},
   "source": [
    "### 대칭차집합(exclusive)"
   ]
  },
  {
   "cell_type": "code",
   "execution_count": 54,
   "metadata": {},
   "outputs": [
    {
     "data": {
      "text/plain": [
       "{1, 2, 3, 7, 8, 9}"
      ]
     },
     "execution_count": 54,
     "metadata": {},
     "output_type": "execute_result"
    }
   ],
   "source": [
    "s = {1,2,3,4,5,6}\n",
    "s2 = {4,5,6,7,8,9}\n",
    "# 교집합을 뺀 나머지\n",
    "s.symmetric_difference(s2)"
   ]
  },
  {
   "cell_type": "code",
   "execution_count": 55,
   "metadata": {},
   "outputs": [
    {
     "data": {
      "text/plain": [
       "{1, 2, 3, 7, 8, 9}"
      ]
     },
     "execution_count": 55,
     "metadata": {},
     "output_type": "execute_result"
    }
   ],
   "source": [
    "s ^ s2"
   ]
  },
  {
   "cell_type": "code",
   "execution_count": 56,
   "metadata": {},
   "outputs": [
    {
     "name": "stdout",
     "output_type": "stream",
     "text": [
      "s <<class 'set'>> -> {1, 2, 3, 7, 8, 9} : length [6]\n"
     ]
    }
   ],
   "source": [
    "s.symmetric_difference_update(s2)\n",
    "\n",
    "print(f's <{type(s)}> -> {s} : length [{len(s)}]')"
   ]
  },
  {
   "cell_type": "markdown",
   "metadata": {},
   "source": [
    "### set 순회"
   ]
  },
  {
   "cell_type": "code",
   "execution_count": 57,
   "metadata": {},
   "outputs": [
    {
     "name": "stdout",
     "output_type": "stream",
     "text": [
      "s <<class 'set'>> -> {1, 2, 3, 4, 5, 6} : length [6]\n"
     ]
    }
   ],
   "source": [
    "s = {1,2,3,4,5,6}\n",
    "\n",
    "print(f's <{type(s)}> -> {s} : length [{len(s)}]')"
   ]
  },
  {
   "cell_type": "code",
   "execution_count": 58,
   "metadata": {},
   "outputs": [
    {
     "name": "stdout",
     "output_type": "stream",
     "text": [
      "1\n",
      "2\n",
      "3\n",
      "4\n",
      "5\n",
      "6\n"
     ]
    }
   ],
   "source": [
    "for v in s:\n",
    "    print(v)"
   ]
  },
  {
   "cell_type": "markdown",
   "metadata": {},
   "source": [
    "### set comprehension"
   ]
  },
  {
   "cell_type": "code",
   "execution_count": 59,
   "metadata": {},
   "outputs": [
    {
     "name": "stdout",
     "output_type": "stream",
     "text": [
      "s <<class 'set'>> -> {1, 2, 3, 4, 5} : length [5]\n"
     ]
    }
   ],
   "source": [
    "s = {v for v in range(1,6)}\n",
    "\n",
    "print(f's <{type(s)}> -> {s} : length [{len(s)}]')"
   ]
  },
  {
   "cell_type": "code",
   "execution_count": 60,
   "metadata": {},
   "outputs": [
    {
     "name": "stdout",
     "output_type": "stream",
     "text": [
      "s <<class 'set'>> -> {1, 2, 3, 4} : length [4]\n"
     ]
    }
   ],
   "source": [
    "s = {v for v in [1,2,3,4,4]}\n",
    "\n",
    "print(f's <{type(s)}> -> {s} : length [{len(s)}]')"
   ]
  },
  {
   "cell_type": "code",
   "execution_count": 61,
   "metadata": {},
   "outputs": [
    {
     "name": "stdout",
     "output_type": "stream",
     "text": [
      "s <<class 'set'>> -> {'t', 'y', 'n', 'p', 'h'} : length [5]\n"
     ]
    }
   ],
   "source": [
    "s = {v for v in 'python' if v not in 'aieou'}\n",
    "\n",
    "print(f's <{type(s)}> -> {s} : length [{len(s)}]')"
   ]
  },
  {
   "cell_type": "code",
   "execution_count": 62,
   "metadata": {},
   "outputs": [
    {
     "name": "stdout",
     "output_type": "stream",
     "text": [
      "d <<class 'dict'>> -> {'l': 1, 'e': 2, 't': 2, 'r': 1, 's': 1} : length [5]\n"
     ]
    }
   ],
   "source": [
    "word = 'letters'\n",
    "\n",
    "d = {letter : word.count(letter) for letter in word} # 반복 : 7번\n",
    "\n",
    "print(f'd <{type(d)}> -> {d} : length [{len(d)}]')"
   ]
  },
  {
   "cell_type": "code",
   "execution_count": 63,
   "metadata": {},
   "outputs": [
    {
     "name": "stdout",
     "output_type": "stream",
     "text": [
      "d <<class 'dict'>> -> {'t': 2, 'l': 1, 'r': 1, 's': 1, 'e': 2} : length [5]\n"
     ]
    }
   ],
   "source": [
    "d = {letter : word.count(letter) for letter in set(word)} # 반복 : 5번\n",
    "\n",
    "print(f'd <{type(d)}> -> {d} : length [{len(d)}]')"
   ]
  },
  {
   "cell_type": "markdown",
   "metadata": {},
   "source": [
    "### 포함 관계 확인 연산"
   ]
  },
  {
   "cell_type": "code",
   "execution_count": 72,
   "metadata": {},
   "outputs": [
    {
     "name": "stdout",
     "output_type": "stream",
     "text": [
      "s <<class 'set'>> -> {1, 2, 3, 4, 5, 6} : length [6]\n",
      "s2 <<class 'set'>> -> {1, 2, 3} : length [3]\n"
     ]
    }
   ],
   "source": [
    "s = {1,2,3,4,5,6}\n",
    "s2 = {1,2,3}\n",
    "\n",
    "print(f's <{type(s)}> -> {s} : length [{len(s)}]')\n",
    "print(f's2 <{type(s2)}> -> {s2} : length [{len(s2)}]')"
   ]
  },
  {
   "cell_type": "code",
   "execution_count": 73,
   "metadata": {},
   "outputs": [
    {
     "data": {
      "text/plain": [
       "True"
      ]
     },
     "execution_count": 73,
     "metadata": {},
     "output_type": "execute_result"
    }
   ],
   "source": [
    "2 in s"
   ]
  },
  {
   "cell_type": "code",
   "execution_count": 75,
   "metadata": {},
   "outputs": [
    {
     "data": {
      "text/plain": [
       "False"
      ]
     },
     "execution_count": 75,
     "metadata": {},
     "output_type": "execute_result"
    }
   ],
   "source": [
    "2 not in s"
   ]
  },
  {
   "cell_type": "code",
   "execution_count": 76,
   "metadata": {},
   "outputs": [
    {
     "data": {
      "text/plain": [
       "True"
      ]
     },
     "execution_count": 76,
     "metadata": {},
     "output_type": "execute_result"
    }
   ],
   "source": [
    "s.issuperset(s2) # a ) b"
   ]
  },
  {
   "cell_type": "code",
   "execution_count": 77,
   "metadata": {},
   "outputs": [
    {
     "data": {
      "text/plain": [
       "True"
      ]
     },
     "execution_count": 77,
     "metadata": {},
     "output_type": "execute_result"
    }
   ],
   "source": [
    "s2.issubset(s) # b ( a"
   ]
  },
  {
   "cell_type": "code",
   "execution_count": 78,
   "metadata": {},
   "outputs": [
    {
     "data": {
      "text/plain": [
       "False"
      ]
     },
     "execution_count": 78,
     "metadata": {},
     "output_type": "execute_result"
    }
   ],
   "source": [
    "s.isdisjoint(s2)"
   ]
  },
  {
   "cell_type": "markdown",
   "metadata": {},
   "source": [
    "### frozenset()"
   ]
  },
  {
   "cell_type": "code",
   "execution_count": 65,
   "metadata": {},
   "outputs": [
    {
     "name": "stdout",
     "output_type": "stream",
     "text": [
      "s <<class 'frozenset'>> -> frozenset({1, 2, 3, 4, 5}) : length [5]\n"
     ]
    }
   ],
   "source": [
    "s = frozenset((1,2,2,3,3,4,5)) # 변결 불가능한 set\n",
    "\n",
    "print(f's <{type(s)}> -> {s} : length [{len(s)}]')"
   ]
  },
  {
   "cell_type": "code",
   "execution_count": null,
   "metadata": {},
   "outputs": [],
   "source": [
    "s = "
   ]
  },
  {
   "cell_type": "code",
   "execution_count": 66,
   "metadata": {},
   "outputs": [
    {
     "name": "stdout",
     "output_type": "stream",
     "text": [
      "fs1 <<class 'frozenset'>> -> frozenset({1, 2, 3, 4, 5, 6}) : length [6]\n",
      "fs2 <<class 'frozenset'>> -> frozenset({4, 5, 6, 7, 8, 9}) : length [6]\n"
     ]
    }
   ],
   "source": [
    "fs1 = frozenset((1,2,3,4,5,6))\n",
    "fs2 = frozenset((4,5,6,7,8,9))\n",
    "\n",
    "print(f'fs1 <{type(fs1)}> -> {fs1} : length [{len(fs1)}]')\n",
    "print(f'fs2 <{type(fs2)}> -> {fs2} : length [{len(fs2)}]')"
   ]
  },
  {
   "cell_type": "code",
   "execution_count": 67,
   "metadata": {},
   "outputs": [
    {
     "data": {
      "text/plain": [
       "frozenset({4, 5, 6})"
      ]
     },
     "execution_count": 67,
     "metadata": {},
     "output_type": "execute_result"
    }
   ],
   "source": [
    "fs1.intersection(fs2)"
   ]
  },
  {
   "cell_type": "code",
   "execution_count": 68,
   "metadata": {},
   "outputs": [
    {
     "data": {
      "text/plain": [
       "frozenset({1, 2, 3, 4, 5, 6, 7, 8, 9})"
      ]
     },
     "execution_count": 68,
     "metadata": {},
     "output_type": "execute_result"
    }
   ],
   "source": [
    "fs1.union(fs2)"
   ]
  },
  {
   "cell_type": "code",
   "execution_count": 69,
   "metadata": {},
   "outputs": [
    {
     "data": {
      "text/plain": [
       "frozenset({1, 2, 3})"
      ]
     },
     "execution_count": 69,
     "metadata": {},
     "output_type": "execute_result"
    }
   ],
   "source": [
    "fs1.difference(fs2)"
   ]
  },
  {
   "cell_type": "code",
   "execution_count": 70,
   "metadata": {},
   "outputs": [
    {
     "data": {
      "text/plain": [
       "frozenset({1, 2, 3, 7, 8, 9})"
      ]
     },
     "execution_count": 70,
     "metadata": {},
     "output_type": "execute_result"
    }
   ],
   "source": [
    "fs1.symmetric_difference(fs2)"
   ]
  },
  {
   "cell_type": "code",
   "execution_count": 71,
   "metadata": {},
   "outputs": [
    {
     "ename": "AttributeError",
     "evalue": "'frozenset' object has no attribute 'update'",
     "output_type": "error",
     "traceback": [
      "\u001b[1;31m---------------------------------------------------------------------------\u001b[0m",
      "\u001b[1;31mAttributeError\u001b[0m                            Traceback (most recent call last)",
      "\u001b[1;32m<ipython-input-71-499950af7a81>\u001b[0m in \u001b[0;36m<module>\u001b[1;34m\u001b[0m\n\u001b[1;32m----> 1\u001b[1;33m \u001b[0mfs1\u001b[0m\u001b[1;33m.\u001b[0m\u001b[0mupdate\u001b[0m\u001b[1;33m(\u001b[0m\u001b[0mfs2\u001b[0m\u001b[1;33m)\u001b[0m\u001b[1;33m\u001b[0m\u001b[1;33m\u001b[0m\u001b[0m\n\u001b[0m",
      "\u001b[1;31mAttributeError\u001b[0m: 'frozenset' object has no attribute 'update'"
     ]
    }
   ],
   "source": [
    "fs1.update(fs2)"
   ]
  }
 ],
 "metadata": {
  "kernelspec": {
   "display_name": "Python 3",
   "language": "python",
   "name": "python3"
  },
  "language_info": {
   "codemirror_mode": {
    "name": "ipython",
    "version": 3
   },
   "file_extension": ".py",
   "mimetype": "text/x-python",
   "name": "python",
   "nbconvert_exporter": "python",
   "pygments_lexer": "ipython3",
   "version": "3.8.5"
  }
 },
 "nbformat": 4,
 "nbformat_minor": 4
}
