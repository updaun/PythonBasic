{
  "nbformat": 4,
  "nbformat_minor": 0,
  "metadata": {
    "colab": {
      "name": "RNN-Classification.ipynb",
      "provenance": [],
      "collapsed_sections": []
    },
    "kernelspec": {
      "name": "python3",
      "display_name": "Python 3"
    },
    "language_info": {
      "name": "python"
    }
  },
  "cells": [
    {
      "cell_type": "markdown",
      "metadata": {
        "id": "aFzh1RWge61q"
      },
      "source": [
        "## RNN 적용 실습\n",
        "### IMDB 데이터셋(영화 감상평)을 이용한 긍정/부정 평가 분류 모델"
      ]
    },
    {
      "cell_type": "code",
      "metadata": {
        "id": "b5JQ6EDjipal"
      },
      "source": [
        "from tensorflow.keras.datasets import imdb"
      ],
      "execution_count": 1,
      "outputs": []
    },
    {
      "cell_type": "code",
      "metadata": {
        "colab": {
          "base_uri": "https://localhost:8080/"
        },
        "id": "jqAUkXuJj6BT",
        "outputId": "4bff75ad-342b-45e8-8371-a34135398eff"
      },
      "source": [
        "# 자주 등장하는 500개 단어만 사용\n",
        "(train_input, train_target),(test_input, test_target) = imdb.load_data(num_words=500)"
      ],
      "execution_count": 2,
      "outputs": [
        {
          "output_type": "stream",
          "text": [
            "Downloading data from https://storage.googleapis.com/tensorflow/tf-keras-datasets/imdb.npz\n",
            "17465344/17464789 [==============================] - 0s 0us/step\n"
          ],
          "name": "stdout"
        },
        {
          "output_type": "stream",
          "text": [
            "<string>:6: VisibleDeprecationWarning: Creating an ndarray from ragged nested sequences (which is a list-or-tuple of lists-or-tuples-or ndarrays with different lengths or shapes) is deprecated. If you meant to do this, you must specify 'dtype=object' when creating the ndarray\n",
            "/usr/local/lib/python3.7/dist-packages/tensorflow/python/keras/datasets/imdb.py:155: VisibleDeprecationWarning: Creating an ndarray from ragged nested sequences (which is a list-or-tuple of lists-or-tuples-or ndarrays with different lengths or shapes) is deprecated. If you meant to do this, you must specify 'dtype=object' when creating the ndarray\n",
            "  x_train, y_train = np.array(xs[:idx]), np.array(labels[:idx])\n",
            "/usr/local/lib/python3.7/dist-packages/tensorflow/python/keras/datasets/imdb.py:156: VisibleDeprecationWarning: Creating an ndarray from ragged nested sequences (which is a list-or-tuple of lists-or-tuples-or ndarrays with different lengths or shapes) is deprecated. If you meant to do this, you must specify 'dtype=object' when creating the ndarray\n",
            "  x_test, y_test = np.array(xs[idx:]), np.array(labels[idx:])\n"
          ],
          "name": "stderr"
        }
      ]
    },
    {
      "cell_type": "code",
      "metadata": {
        "colab": {
          "base_uri": "https://localhost:8080/"
        },
        "id": "fstPUIP_kKNY",
        "outputId": "7cf52f47-e818-47dd-eb8c-76e72f1291e2"
      },
      "source": [
        "train_input.shape, test_input.shape"
      ],
      "execution_count": 3,
      "outputs": [
        {
          "output_type": "execute_result",
          "data": {
            "text/plain": [
              "((25000,), (25000,))"
            ]
          },
          "metadata": {
            "tags": []
          },
          "execution_count": 3
        }
      ]
    },
    {
      "cell_type": "markdown",
      "metadata": {
        "id": "V5KwLrwWmFua"
      },
      "source": [
        "### 데이터 수집 및 훈련/테스트 데이터 분리"
      ]
    },
    {
      "cell_type": "code",
      "metadata": {
        "colab": {
          "base_uri": "https://localhost:8080/"
        },
        "id": "oCREfC84kxni",
        "outputId": "e24ef097-5070-462d-d907-8f4f35b14d37"
      },
      "source": [
        "train_target.shape, test_target.shape"
      ],
      "execution_count": 4,
      "outputs": [
        {
          "output_type": "execute_result",
          "data": {
            "text/plain": [
              "((25000,), (25000,))"
            ]
          },
          "metadata": {
            "tags": []
          },
          "execution_count": 4
        }
      ]
    },
    {
      "cell_type": "code",
      "metadata": {
        "colab": {
          "base_uri": "https://localhost:8080/"
        },
        "id": "naY3vRbck0tD",
        "outputId": "d17fee99-8436-4d5f-a0c4-246adc2df748"
      },
      "source": [
        "len(train_input[0]) # 훈련용 첫 번째 감상평 문장 길이"
      ],
      "execution_count": 6,
      "outputs": [
        {
          "output_type": "execute_result",
          "data": {
            "text/plain": [
              "218"
            ]
          },
          "metadata": {
            "tags": []
          },
          "execution_count": 6
        }
      ]
    },
    {
      "cell_type": "code",
      "metadata": {
        "colab": {
          "base_uri": "https://localhost:8080/"
        },
        "id": "5_GvsCMnlMLd",
        "outputId": "00617279-df76-4048-d5a2-94e3212211f9"
      },
      "source": [
        "len(train_input[1]) # 훈련용 두 번째 감상평 문장 길이"
      ],
      "execution_count": 7,
      "outputs": [
        {
          "output_type": "execute_result",
          "data": {
            "text/plain": [
              "189"
            ]
          },
          "metadata": {
            "tags": []
          },
          "execution_count": 7
        }
      ]
    },
    {
      "cell_type": "code",
      "metadata": {
        "colab": {
          "base_uri": "https://localhost:8080/"
        },
        "id": "CIwJ0h61leUR",
        "outputId": "586e72fc-bb30-46c0-a2ec-43cebc18a0ca"
      },
      "source": [
        "train_target[:30] # 1 : 긍정, 0 : 부정"
      ],
      "execution_count": 8,
      "outputs": [
        {
          "output_type": "execute_result",
          "data": {
            "text/plain": [
              "array([1, 0, 0, 1, 0, 0, 1, 0, 1, 0, 1, 0, 0, 0, 0, 0, 1, 1, 0, 1, 0, 0,\n",
              "       1, 0, 1, 1, 0, 0, 1, 0])"
            ]
          },
          "metadata": {
            "tags": []
          },
          "execution_count": 8
        }
      ]
    },
    {
      "cell_type": "markdown",
      "metadata": {
        "id": "r2nIsxPPl2Um"
      },
      "source": [
        "### 훈련 / 검증 데이터 분리"
      ]
    },
    {
      "cell_type": "code",
      "metadata": {
        "id": "-TqdW2RqmP2M"
      },
      "source": [
        "from sklearn.model_selection import train_test_split"
      ],
      "execution_count": 9,
      "outputs": []
    },
    {
      "cell_type": "code",
      "metadata": {
        "id": "l90FGEF8mVts"
      },
      "source": [
        "train_input, val_input, train_target, val_target = train_test_split(\n",
        "    train_input, train_target, test_size=0.2, random_state = 42\n",
        ")"
      ],
      "execution_count": 10,
      "outputs": []
    },
    {
      "cell_type": "markdown",
      "metadata": {
        "id": "V3_nuQfkmils"
      },
      "source": [
        "###  문장의 길이를 일치 시키는 전처리 작업"
      ]
    },
    {
      "cell_type": "code",
      "metadata": {
        "id": "JfwKWozomso3"
      },
      "source": [
        "# padding 문장 앞쪽에 패딩을 넣는다.\n",
        "import numpy as np"
      ],
      "execution_count": 11,
      "outputs": []
    },
    {
      "cell_type": "code",
      "metadata": {
        "colab": {
          "base_uri": "https://localhost:8080/"
        },
        "id": "hU-VUm-rnIiA",
        "outputId": "d2c86855-b461-4ce9-a4f8-84ca4223e9e5"
      },
      "source": [
        "lengths = np.array([len(x) for x in train_input])\n",
        "# 평균 문자 길이, 문장 길이 중앙값\n",
        "print(np.mean(lengths), np.median(lengths))"
      ],
      "execution_count": 12,
      "outputs": [
        {
          "output_type": "stream",
          "text": [
            "239.00925 178.0\n"
          ],
          "name": "stdout"
        }
      ]
    },
    {
      "cell_type": "code",
      "metadata": {
        "colab": {
          "base_uri": "https://localhost:8080/",
          "height": 279
        },
        "id": "qAVvKM8znZ8g",
        "outputId": "0444a32a-0591-4fd1-86fd-b15796a514b4"
      },
      "source": [
        "import matplotlib.pyplot as plt\n",
        "\n",
        "plt. hist(lengths)\n",
        "plt. xlabel('length')\n",
        "plt.ylabel('frequency')\n",
        "\n",
        "plt.show()"
      ],
      "execution_count": 13,
      "outputs": [
        {
          "output_type": "display_data",
          "data": {
            "image/png": "[encoded data removed]",
            "text/plain": [
              "<Figure size 432x288 with 1 Axes>"
            ]
          },
          "metadata": {
            "tags": [],
            "needs_background": "light"
          }
        }
      ]
    },
    {
      "cell_type": "code",
      "metadata": {
        "id": "wpt3pt_Enmv2"
      },
      "source": [
        "from tensorflow.keras.preprocessing.sequence import pad_sequences"
      ],
      "execution_count": 14,
      "outputs": []
    },
    {
      "cell_type": "code",
      "metadata": {
        "id": "HIT7wqfXoQ8z"
      },
      "source": [
        "train_seq = pad_sequences(train_input, maxlen= 100) # 문장의 길이를 100으로 맞춘다."
      ],
      "execution_count": 40,
      "outputs": []
    },
    {
      "cell_type": "code",
      "metadata": {
        "colab": {
          "base_uri": "https://localhost:8080/"
        },
        "id": "LhnoHoLsoXah",
        "outputId": "a7fff5a4-10e8-475a-9dad-3b71651a99c1"
      },
      "source": [
        "print(train_seq.shape)"
      ],
      "execution_count": 16,
      "outputs": [
        {
          "output_type": "stream",
          "text": [
            "(20000, 100)\n"
          ],
          "name": "stdout"
        }
      ]
    },
    {
      "cell_type": "code",
      "metadata": {
        "colab": {
          "base_uri": "https://localhost:8080/"
        },
        "id": "VV6kCaDBob2c",
        "outputId": "af389693-2659-4604-d789-974381e867db"
      },
      "source": [
        "print(train_seq[0])"
      ],
      "execution_count": 17,
      "outputs": [
        {
          "output_type": "stream",
          "text": [
            "[ 10   4  20   9   2 364 352   5  45   6   2   2  33 269   8   2 142   2\n",
            "   5   2  17  73  17 204   5   2  19  55   2   2  92  66 104  14  20  93\n",
            "  76   2 151  33   4  58  12 188   2 151  12 215  69 224 142  73 237   6\n",
            "   2   7   2   2 188   2 103  14  31  10  10 451   7   2   5   2  80  91\n",
            "   2  30   2  34  14  20 151  50  26 131  49   2  84  46  50  37  80  79\n",
            "   6   2  46   7  14  20  10  10 470 158]\n"
          ],
          "name": "stdout"
        }
      ]
    },
    {
      "cell_type": "code",
      "metadata": {
        "colab": {
          "base_uri": "https://localhost:8080/"
        },
        "id": "oQ4sx7XCoqBz",
        "outputId": "5e841ee1-93de-4aa2-9845-07a5e260d377"
      },
      "source": [
        "print(train_seq[5]) # 앞쪽에 패딩이 들어간 경우"
      ],
      "execution_count": 18,
      "outputs": [
        {
          "output_type": "stream",
          "text": [
            "[  0   0   0   0   1   2 195  19  49   2   2 190   4   2 352   2 183  10\n",
            "  10  13  82  79   4   2  36  71 269   8   2  25  19  49   7   4   2   2\n",
            "   2   2   2  10  10  48  25  40   2  11   2   2  40   2   2   5   4   2\n",
            "   2  95  14 238  56 129   2  10  10  21   2  94 364 352   2   2  11 190\n",
            "  24 484   2   7  94 205 405  10  10  87   2  34  49   2   7   2   2   2\n",
            "   2   2 290   2  46  48  64  18   4   2]\n"
          ],
          "name": "stdout"
        }
      ]
    },
    {
      "cell_type": "code",
      "metadata": {
        "id": "RBaF-eRQorsj"
      },
      "source": [
        "val_seq = pad_sequences(val_input, maxlen = 100)"
      ],
      "execution_count": 19,
      "outputs": []
    },
    {
      "cell_type": "markdown",
      "metadata": {
        "id": "FMQrCQcipCEl"
      },
      "source": [
        "## 순환 신경망 생성 및 훈련"
      ]
    },
    {
      "cell_type": "code",
      "metadata": {
        "id": "r92HotslpEm8"
      },
      "source": [
        "from tensorflow import keras"
      ],
      "execution_count": 20,
      "outputs": []
    },
    {
      "cell_type": "code",
      "metadata": {
        "id": "_LSwA8O1pHOl"
      },
      "source": [
        "model = keras.Sequential()\n",
        "model.add(keras.layers.SimpleRNN(8, input_shape=(100,500))) # 100 - 문장 단어 수, 500 - 단어 개수\n",
        "model.add(keras.layers.Dense(1, activation='sigmoid'))"
      ],
      "execution_count": 21,
      "outputs": []
    },
    {
      "cell_type": "code",
      "metadata": {
        "colab": {
          "base_uri": "https://localhost:8080/"
        },
        "id": "tIdnvTwGpYQ1",
        "outputId": "0dd29892-c76d-4b8f-f9c6-408259146a7a"
      },
      "source": [
        "model.summary()"
      ],
      "execution_count": 22,
      "outputs": [
        {
          "output_type": "stream",
          "text": [
            "Model: \"sequential\"\n",
            "_________________________________________________________________\n",
            "Layer (type)                 Output Shape              Param #   \n",
            "=================================================================\n",
            "simple_rnn (SimpleRNN)       (None, 8)                 4072      \n",
            "_________________________________________________________________\n",
            "dense (Dense)                (None, 1)                 9         \n",
            "=================================================================\n",
            "Total params: 4,081\n",
            "Trainable params: 4,081\n",
            "Non-trainable params: 0\n",
            "_________________________________________________________________\n"
          ],
          "name": "stdout"
        }
      ]
    },
    {
      "cell_type": "markdown",
      "metadata": {
        "id": "-gMQ7jhrpaNB"
      },
      "source": [
        "### 훈련 데이터에 대한 원-핫 인코딩"
      ]
    },
    {
      "cell_type": "code",
      "metadata": {
        "id": "FluqZQaFqNWP"
      },
      "source": [
        "# 단어 수 만큼 원핫 인코딩\n",
        "train_oh = keras.utils.to_categorical(train_seq)\n",
        "val_oh = keras.utils.to_categorical(val_seq)"
      ],
      "execution_count": 23,
      "outputs": []
    },
    {
      "cell_type": "code",
      "metadata": {
        "colab": {
          "base_uri": "https://localhost:8080/"
        },
        "id": "Qzv9AKyQqXEK",
        "outputId": "e0e856a6-e3fa-472e-e7b9-27190ff9f2e9"
      },
      "source": [
        "train_oh.shape"
      ],
      "execution_count": 24,
      "outputs": [
        {
          "output_type": "execute_result",
          "data": {
            "text/plain": [
              "(20000, 100, 500)"
            ]
          },
          "metadata": {
            "tags": []
          },
          "execution_count": 24
        }
      ]
    },
    {
      "cell_type": "code",
      "metadata": {
        "colab": {
          "base_uri": "https://localhost:8080/"
        },
        "id": "iLgRFQT2qY4K",
        "outputId": "c7e5451f-4362-4dfb-ff5c-248c51c3b2f8"
      },
      "source": [
        "# 훈련\n",
        "rmsprop = keras.optimizers.RMSprop(learning_rate= 1e-4)\n",
        "model.compile(optimizer= rmsprop, loss = 'binary_crossentropy',\n",
        "              metrics=['accuracy'])\n",
        "\n",
        "checkpoint_cb = keras.callbacks.ModelCheckpoint('best-simplernn-model.h5')\n",
        "early_stopping_cb = keras.callbacks.EarlyStopping(patience=3,\n",
        "                                                  restore_best_weights = True)\n",
        "history = model.fit(train_oh, train_target, epochs=10, batch_size=64,\n",
        "                    validation_data = (val_oh, val_target),\n",
        "                    callbacks = [checkpoint_cb, early_stopping_cb])"
      ],
      "execution_count": 27,
      "outputs": [
        {
          "output_type": "stream",
          "text": [
            "Epoch 1/10\n",
            "313/313 [==============================] - 15s 43ms/step - loss: 0.6994 - accuracy: 0.5084 - val_loss: 0.6914 - val_accuracy: 0.5324\n",
            "Epoch 2/10\n",
            "313/313 [==============================] - 12s 37ms/step - loss: 0.6762 - accuracy: 0.5740 - val_loss: 0.6586 - val_accuracy: 0.6192\n",
            "Epoch 3/10\n",
            "313/313 [==============================] - 12s 38ms/step - loss: 0.6472 - accuracy: 0.6385 - val_loss: 0.6363 - val_accuracy: 0.6596\n",
            "Epoch 4/10\n",
            "313/313 [==============================] - 12s 37ms/step - loss: 0.6235 - accuracy: 0.6737 - val_loss: 0.6157 - val_accuracy: 0.6810\n",
            "Epoch 5/10\n",
            "313/313 [==============================] - 12s 38ms/step - loss: 0.6024 - accuracy: 0.6975 - val_loss: 0.5975 - val_accuracy: 0.7000\n",
            "Epoch 6/10\n",
            "313/313 [==============================] - 12s 37ms/step - loss: 0.5827 - accuracy: 0.7189 - val_loss: 0.5823 - val_accuracy: 0.7110\n",
            "Epoch 7/10\n",
            "313/313 [==============================] - 12s 38ms/step - loss: 0.5650 - accuracy: 0.7344 - val_loss: 0.5682 - val_accuracy: 0.7258\n",
            "Epoch 8/10\n",
            "313/313 [==============================] - 12s 37ms/step - loss: 0.5488 - accuracy: 0.7472 - val_loss: 0.5519 - val_accuracy: 0.7384\n",
            "Epoch 9/10\n",
            "313/313 [==============================] - 12s 38ms/step - loss: 0.5339 - accuracy: 0.7590 - val_loss: 0.5439 - val_accuracy: 0.7396\n",
            "Epoch 10/10\n",
            "313/313 [==============================] - 12s 37ms/step - loss: 0.5204 - accuracy: 0.7660 - val_loss: 0.5295 - val_accuracy: 0.7506\n"
          ],
          "name": "stdout"
        }
      ]
    },
    {
      "cell_type": "code",
      "metadata": {
        "colab": {
          "base_uri": "https://localhost:8080/",
          "height": 279
        },
        "id": "O-QKJw9BrWXw",
        "outputId": "900399b5-5da7-497d-a7fe-efe9d1322d09"
      },
      "source": [
        "plt.plot(history.history['loss'])\n",
        "plt.plot(history.history['val_loss'])\n",
        "plt.xlabel('epochs')\n",
        "plt.ylabel('loss')\n",
        "plt.legend(['train', 'val'])\n",
        "\n",
        "plt.show()"
      ],
      "execution_count": 28,
      "outputs": [
        {
          "output_type": "display_data",
          "data": {
            "image/png": "[encoded data removed]",
            "text/plain": [
              "<Figure size 432x288 with 1 Axes>"
            ]
          },
          "metadata": {
            "tags": [],
            "needs_background": "light"
          }
        }
      ]
    },
    {
      "cell_type": "markdown",
      "metadata": {
        "id": "Q4yqaAtxssyz"
      },
      "source": [
        "### 단어 임베딩을 이용한 RNN 모델"
      ]
    },
    {
      "cell_type": "code",
      "metadata": {
        "id": "EFMfh8vRth_J"
      },
      "source": [
        "model = keras.Sequential()\n",
        "# Embedding vector layer(임베딩 벡터층) - 임베팅 벡터 : 연광성 있는 단어를 실수 형태로 모아놓은 vector\n",
        "# Embedding vector를 사용하면 메모리를 적게 사용\n",
        "model.add(keras.layers.Embedding(500, 16, input_length= 100))\n",
        "model.add(keras.layers.SimpleRNN(8)) \n",
        "model.add(keras.layers.Dense(1, activation='sigmoid'))"
      ],
      "execution_count": 42,
      "outputs": []
    },
    {
      "cell_type": "code",
      "metadata": {
        "colab": {
          "base_uri": "https://localhost:8080/"
        },
        "id": "RjRMgy4ftw9h",
        "outputId": "af14d02d-5104-4f78-d8b2-2ebfb401ad25"
      },
      "source": [
        "model.summary()"
      ],
      "execution_count": 43,
      "outputs": [
        {
          "output_type": "stream",
          "text": [
            "Model: \"sequential_3\"\n",
            "_________________________________________________________________\n",
            "Layer (type)                 Output Shape              Param #   \n",
            "=================================================================\n",
            "embedding_2 (Embedding)      (None, 100, 16)           8000      \n",
            "_________________________________________________________________\n",
            "simple_rnn_3 (SimpleRNN)     (None, 8)                 200       \n",
            "_________________________________________________________________\n",
            "dense_3 (Dense)              (None, 1)                 9         \n",
            "=================================================================\n",
            "Total params: 8,209\n",
            "Trainable params: 8,209\n",
            "Non-trainable params: 0\n",
            "_________________________________________________________________\n"
          ],
          "name": "stdout"
        }
      ]
    },
    {
      "cell_type": "code",
      "metadata": {
        "colab": {
          "base_uri": "https://localhost:8080/"
        },
        "id": "NT5-9mNQuYw5",
        "outputId": "977168d4-14ba-45f1-e0a9-058a7b921d3e"
      },
      "source": [
        "# 훈련\n",
        "rmsprop = keras.optimizers.RMSprop(learning_rate= 1e-4)\n",
        "model.compile(optimizer= rmsprop, loss = 'binary_crossentropy',\n",
        "              metrics=['accuracy'])\n",
        "\n",
        "checkpoint_cb = keras.callbacks.ModelCheckpoint('best-simplernn-model.h5')\n",
        "early_stopping_cb = keras.callbacks.EarlyStopping(patience=3,\n",
        "                                                  restore_best_weights = True)\n",
        "history = model.fit(train_seq, train_target, epochs=10, batch_size=64,\n",
        "                    validation_data = (val_seq, val_target),\n",
        "                    callbacks = [checkpoint_cb, early_stopping_cb])"
      ],
      "execution_count": 44,
      "outputs": [
        {
          "output_type": "stream",
          "text": [
            "Epoch 1/10\n",
            "313/313 [==============================] - 7s 21ms/step - loss: 0.6876 - accuracy: 0.5365 - val_loss: 0.6655 - val_accuracy: 0.6142\n",
            "Epoch 2/10\n",
            "313/313 [==============================] - 6s 20ms/step - loss: 0.6436 - accuracy: 0.6543 - val_loss: 0.6310 - val_accuracy: 0.6734\n",
            "Epoch 3/10\n",
            "313/313 [==============================] - 6s 20ms/step - loss: 0.6122 - accuracy: 0.7057 - val_loss: 0.6092 - val_accuracy: 0.7016\n",
            "Epoch 4/10\n",
            "313/313 [==============================] - 6s 20ms/step - loss: 0.5883 - accuracy: 0.7308 - val_loss: 0.5870 - val_accuracy: 0.7332\n",
            "Epoch 5/10\n",
            "313/313 [==============================] - 6s 20ms/step - loss: 0.5690 - accuracy: 0.7474 - val_loss: 0.5740 - val_accuracy: 0.7354\n",
            "Epoch 6/10\n",
            "313/313 [==============================] - 6s 20ms/step - loss: 0.5521 - accuracy: 0.7592 - val_loss: 0.5655 - val_accuracy: 0.7350\n",
            "Epoch 7/10\n",
            "313/313 [==============================] - 6s 20ms/step - loss: 0.5367 - accuracy: 0.7699 - val_loss: 0.5554 - val_accuracy: 0.7486\n",
            "Epoch 8/10\n",
            "313/313 [==============================] - 6s 20ms/step - loss: 0.5228 - accuracy: 0.7789 - val_loss: 0.5480 - val_accuracy: 0.7428\n",
            "Epoch 9/10\n",
            "313/313 [==============================] - 6s 20ms/step - loss: 0.5104 - accuracy: 0.7848 - val_loss: 0.5268 - val_accuracy: 0.7652\n",
            "Epoch 10/10\n",
            "313/313 [==============================] - 6s 20ms/step - loss: 0.4980 - accuracy: 0.7897 - val_loss: 0.5218 - val_accuracy: 0.7614\n"
          ],
          "name": "stdout"
        }
      ]
    },
    {
      "cell_type": "code",
      "metadata": {
        "colab": {
          "base_uri": "https://localhost:8080/",
          "height": 279
        },
        "id": "EGcl0K8Uuh-g",
        "outputId": "a30dc2d4-ee13-4c0e-9d12-1b5254176b29"
      },
      "source": [
        "plt.plot(history.history['loss'])\n",
        "plt.plot(history.history['val_loss'])\n",
        "plt.xlabel('epochs')\n",
        "plt.ylabel('loss')\n",
        "plt.legend(['train', 'val'])\n",
        "\n",
        "plt.show()"
      ],
      "execution_count": 45,
      "outputs": [
        {
          "output_type": "display_data",
          "data": {
            "image/png": "[encoded data removed]",
            "text/plain": [
              "<Figure size 432x288 with 1 Axes>"
            ]
          },
          "metadata": {
            "tags": [],
            "needs_background": "light"
          }
        }
      ]
    }
  ]
}