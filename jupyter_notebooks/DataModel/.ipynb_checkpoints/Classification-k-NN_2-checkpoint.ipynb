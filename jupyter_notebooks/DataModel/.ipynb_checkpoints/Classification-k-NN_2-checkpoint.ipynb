{
 "cells": [
  {
   "cell_type": "markdown",
   "metadata": {},
   "source": [
    "# k-NN 알고리즘 특성 표준화"
   ]
  },
  {
   "cell_type": "code",
   "execution_count": 1,
   "metadata": {},
   "outputs": [],
   "source": [
    "import numpy as np\n",
    "import pandas as pd\n",
    "import matplotlib.pyplot as plt\n",
    "import seaborn as sns\n",
    "\n",
    "%matplotlib inline\n",
    "\n",
    "# matplotlib 한글 폰트 오류 문제 해결 - windows\n",
    "from matplotlib import font_manager, rc\n",
    "font_path = \"C:\\\\Windows\\\\Fonts\\\\malgun.ttf\" # 폰트 파일 위치\n",
    "font_name = font_manager.FontProperties( fname = font_path ).get_name()\n",
    "rc( 'font', family = font_name )\n",
    "\n",
    "# matplotlib 한글 폰트 오류 문제 해결 - mac \n",
    "#from matplotlib import rc\n",
    "#rc( 'font', family = 'AppleGothic' )\n",
    "\n",
    "# IPython 디스플레이 설정 변경 - 출력할 최대 열의 개수\n",
    "pd.set_option( 'display.max_columns', 20 ) # 출력할 열의 개수 한도\n",
    "pd.set_option( 'display.max_colwidth', 20 ) # 출력할 열의 너비\n",
    "pd.set_option( 'display.unicode.east_asian_width', True ) # 유니코드 사용 너비 조정\n",
    "\n",
    "import warnings\n",
    "warnings.filterwarnings('ignore')"
   ]
  },
  {
   "cell_type": "markdown",
   "metadata": {},
   "source": [
    "##  데이터 준비"
   ]
  },
  {
   "cell_type": "code",
   "execution_count": 23,
   "metadata": {},
   "outputs": [],
   "source": [
    "fish = pd.read_csv('data/fish-data.csv')\n",
    "\n",
    "bream = fish.loc[fish['Species'].isin(['Bream'])]\n",
    "bream_length = list(bream['Length'])\n",
    "bream_weight = list(bream['Weight'])\n",
    "bream_target = list(bream['class'])\n",
    "\n",
    "smelt = fish.loc[fish['Species'].isin(['Smelt'])]\n",
    "smelt_length = list(smelt['Length'])\n",
    "smelt_weight = list(smelt['Weight'])\n",
    "smelt_target = list(smelt['class'])\n",
    "\n",
    "length = bream_length + smelt_length\n",
    "weight = bream_weight + smelt_weight\n",
    "\n",
    "fish_data = np.column_stack((length, weight))\n",
    "fish_target = bream_target + smelt_target"
   ]
  },
  {
   "cell_type": "markdown",
   "metadata": {},
   "source": [
    "## 훈련 데이터 세트와 테스트 데이터 세트 분리"
   ]
  },
  {
   "cell_type": "code",
   "execution_count": 24,
   "metadata": {},
   "outputs": [],
   "source": [
    "from sklearn.model_selection import train_test_split\n",
    "\n",
    "train_input, test_input, train_target, test_target = train_test_split(\n",
    "    fish_data, fish_target, stratify = fish_target, random_state = 42)"
   ]
  },
  {
   "cell_type": "code",
   "execution_count": 25,
   "metadata": {},
   "outputs": [
    {
     "name": "stdout",
     "output_type": "stream",
     "text": [
      "train_input shape : (36, 2)\n",
      "test_input shape : (13, 2)\n",
      "train_target shape : 36\n",
      "train_target shape : 13\n"
     ]
    }
   ],
   "source": [
    "print(f'train_input shape : {train_input.shape}')\n",
    "print(f'test_input shape : {test_input.shape}')\n",
    "print(f'train_target shape : {len(train_target)}')\n",
    "print(f'train_target shape : {len(test_target)}')"
   ]
  },
  {
   "cell_type": "markdown",
   "metadata": {},
   "source": [
    "## 모델 생성"
   ]
  },
  {
   "cell_type": "code",
   "execution_count": 38,
   "metadata": {},
   "outputs": [
    {
     "data": {
      "text/plain": [
       "KNeighborsClassifier()"
      ]
     },
     "execution_count": 38,
     "metadata": {},
     "output_type": "execute_result"
    }
   ],
   "source": [
    "from sklearn.neighbors import KNeighborsClassifier\n",
    "\n",
    "kn = KNeighborsClassifier()\n",
    "kn.fit(train_input, train_target)"
   ]
  },
  {
   "cell_type": "markdown",
   "metadata": {},
   "source": [
    "## 특성 표준화"
   ]
  },
  {
   "cell_type": "code",
   "execution_count": 39,
   "metadata": {},
   "outputs": [
    {
     "data": {
      "image/png": "[encoded data removed]",
      "text/plain": [
       "<Figure size 432x288 with 1 Axes>"
      ]
     },
     "metadata": {
      "needs_background": "light"
     },
     "output_type": "display_data"
    }
   ],
   "source": [
    "plt.scatter(train_input[:,0], train_input[:, 1])\n",
    "plt.scatter(25, 150, marker='^')\n",
    "plt.xlabel('length')\n",
    "plt.ylabel('weight')\n",
    "plt.show() "
   ]
  },
  {
   "cell_type": "markdown",
   "metadata": {},
   "source": [
    "## 임의의 샘플에 대한 이웃의 거리와 샘플 인덱스 확인 - kneighbors() 메서드"
   ]
  },
  {
   "cell_type": "code",
   "execution_count": 40,
   "metadata": {},
   "outputs": [],
   "source": [
    "distance, indexes = kn.kneighbors([[25,150]])"
   ]
  },
  {
   "cell_type": "code",
   "execution_count": 41,
   "metadata": {},
   "outputs": [
    {
     "name": "stdout",
     "output_type": "stream",
     "text": [
      "distance : [[ 92.00086956 130.48375378 130.73859415 138.32150953 138.39320793]]\n",
      "indexes :[[21 33 19 30  1]]\n"
     ]
    }
   ],
   "source": [
    "print(f'distance : {distance}\\nindexes :{indexes}')"
   ]
  },
  {
   "cell_type": "code",
   "execution_count": 42,
   "metadata": {},
   "outputs": [
    {
     "data": {
      "image/png": "[encoded data removed]",
      "text/plain": [
       "<Figure size 432x288 with 1 Axes>"
      ]
     },
     "metadata": {
      "needs_background": "light"
     },
     "output_type": "display_data"
    }
   ],
   "source": [
    "plt.scatter(train_input[:,0], train_input[:, 1])\n",
    "plt.scatter(25, 150, marker='^')\n",
    "plt.scatter(train_input[indexes, 0], train_input[indexes,1], marker ='D')\n",
    "plt.xlabel('length')\n",
    "plt.ylabel('weight')\n",
    "plt.show() "
   ]
  },
  {
   "cell_type": "code",
   "execution_count": 43,
   "metadata": {},
   "outputs": [
    {
     "name": "stdout",
     "output_type": "stream",
     "text": [
      "[[[ 25.4 242. ]\n",
      "  [ 15.   19.9]\n",
      "  [ 14.3  19.7]\n",
      "  [ 13.   12.2]\n",
      "  [ 12.2  12.2]]]\n"
     ]
    }
   ],
   "source": [
    "print(train_input[indexes])"
   ]
  },
  {
   "cell_type": "code",
   "execution_count": 44,
   "metadata": {},
   "outputs": [
    {
     "name": "stdout",
     "output_type": "stream",
     "text": [
      "1\t0\t0\t0\t0\t"
     ]
    }
   ],
   "source": [
    "for index in indexes[0]:\n",
    "    print(train_target[index], end ='\\t')"
   ]
  },
  {
   "cell_type": "code",
   "execution_count": 49,
   "metadata": {},
   "outputs": [
    {
     "data": {
      "image/png": "[encoded data removed]",
      "text/plain": [
       "<Figure size 432x288 with 1 Axes>"
      ]
     },
     "metadata": {
      "needs_background": "light"
     },
     "output_type": "display_data"
    }
   ],
   "source": [
    "plt.scatter(train_input[:,0], train_input[:, 1])\n",
    "plt.scatter(25, 150, marker='^')\n",
    "plt.scatter(train_input[indexes, 0], train_input[indexes,1], marker ='D')\n",
    "plt.xlim( ( 0, 1000 ) ) # x축 범위를 y축과 동일하게 범위를 맞춘다.\n",
    "plt.xlabel('length')\n",
    "plt.ylabel('weight')\n",
    "plt.show() "
   ]
  },
  {
   "cell_type": "markdown",
   "metadata": {},
   "source": [
    "##  표준 점수 계산"
   ]
  },
  {
   "cell_type": "code",
   "execution_count": 50,
   "metadata": {},
   "outputs": [
    {
     "name": "stdout",
     "output_type": "stream",
     "text": [
      "mean : [ 27.29722222 454.09722222]\n",
      "std : [  9.98244253 323.29893931]\n"
     ]
    }
   ],
   "source": [
    "mean = np.mean(train_input, axis = 0)\n",
    "std = np.std(train_input, axis = 0)\n",
    "\n",
    "print(f'mean : {mean}')\n",
    "print(f'std : {std}')"
   ]
  },
  {
   "cell_type": "code",
   "execution_count": 51,
   "metadata": {},
   "outputs": [],
   "source": [
    "train_scaled = (train_input - mean) /std"
   ]
  },
  {
   "cell_type": "code",
   "execution_count": 53,
   "metadata": {},
   "outputs": [
    {
     "data": {
      "image/png": "[encoded data removed]",
      "text/plain": [
       "<Figure size 432x288 with 1 Axes>"
      ]
     },
     "metadata": {
      "needs_background": "light"
     },
     "output_type": "display_data"
    }
   ],
   "source": [
    "plt.scatter(train_scaled[:,0], train_scaled[:, 1])\n",
    "plt.scatter(25, 150, marker='^')\n",
    "plt.xlabel('length')\n",
    "plt.ylabel('weight')\n",
    "plt.show() "
   ]
  },
  {
   "cell_type": "code",
   "execution_count": 55,
   "metadata": {},
   "outputs": [
    {
     "data": {
      "image/png": "[encoded data removed]",
      "text/plain": [
       "<Figure size 432x288 with 1 Axes>"
      ]
     },
     "metadata": {
      "needs_background": "light"
     },
     "output_type": "display_data"
    }
   ],
   "source": [
    "# 새로운 데이터를 특성 표준화에 맞게 변환\n",
    "new = ([25, 150] - mean) / std\n",
    "\n",
    "plt.scatter(train_scaled[:,0], train_scaled[:, 1])\n",
    "plt.scatter(new[0], new[1], marker='^')\n",
    "plt.xlabel('length')\n",
    "plt.ylabel('weight')\n",
    "plt.show() "
   ]
  },
  {
   "cell_type": "code",
   "execution_count": 57,
   "metadata": {},
   "outputs": [
    {
     "name": "stdout",
     "output_type": "stream",
     "text": [
      "distance : [[12.60881863 13.42925438 13.6520861  15.02947483 15.68465567]]\n",
      "indexes :[[22 26 24  3 11]]\n"
     ]
    }
   ],
   "source": [
    "distance, indexes = kn.kneighbors([[new[0],new[1]]])\n",
    "print(f'distance : {distance}\\nindexes :{indexes}')"
   ]
  },
  {
   "cell_type": "code",
   "execution_count": null,
   "metadata": {},
   "outputs": [],
   "source": []
  }
 ],
 "metadata": {
  "kernelspec": {
   "display_name": "Python 3",
   "language": "python",
   "name": "python3"
  },
  "language_info": {
   "codemirror_mode": {
    "name": "ipython",
    "version": 3
   },
   "file_extension": ".py",
   "mimetype": "text/x-python",
   "name": "python",
   "nbconvert_exporter": "python",
   "pygments_lexer": "ipython3",
   "version": "3.8.5"
  }
 },
 "nbformat": 4,
 "nbformat_minor": 4
}
