{
 "cells": [
  {
   "cell_type": "code",
   "execution_count": 1,
   "id": "impossible-christianity",
   "metadata": {},
   "outputs": [],
   "source": [
    "import numpy as np\n",
    "from scipy import stats"
   ]
  },
  {
   "cell_type": "code",
   "execution_count": 2,
   "id": "hearing-clothing",
   "metadata": {},
   "outputs": [],
   "source": [
    "np.random.seed(0)"
   ]
  },
  {
   "cell_type": "code",
   "execution_count": 3,
   "id": "characteristic-broadcast",
   "metadata": {},
   "outputs": [],
   "source": [
    "data_A = np.random.randint(0,100, 10000)"
   ]
  },
  {
   "cell_type": "code",
   "execution_count": 6,
   "id": "billion-sterling",
   "metadata": {},
   "outputs": [
    {
     "name": "stdout",
     "output_type": "stream",
     "text": [
      "평균값 : 49.17\n",
      "중앙값 : 49.0\n",
      "최빈값 : 3 ( 125 )\n"
     ]
    }
   ],
   "source": [
    "mean = np.mean(data_A)\n",
    "median = np.median(data_A)\n",
    "mode = stats.mode(data_A)\n",
    "\n",
    "print(\"평균값 :\", mean.round(2))\n",
    "print(\"중앙값 :\", median)\n",
    "print(\"최빈값 : {} ( {} )\".format(mode[0][0],mode[1][0])) # 해당 수와 빈도 수 출력"
   ]
  },
  {
   "cell_type": "code",
   "execution_count": 7,
   "id": "careful-timer",
   "metadata": {},
   "outputs": [],
   "source": [
    "data_B = np.random.normal(size = 100)"
   ]
  },
  {
   "cell_type": "code",
   "execution_count": 8,
   "id": "vanilla-price",
   "metadata": {},
   "outputs": [
    {
     "name": "stdout",
     "output_type": "stream",
     "text": [
      "평균값 : -0.03\n",
      "중앙값 : -0.1024051532970941\n",
      "최빈값 : -2.862292431709955 ( 1 )\n"
     ]
    }
   ],
   "source": [
    "mean = np.mean(data_B)\n",
    "median = np.median(data_B)\n",
    "mode = stats.mode(data_B)\n",
    "\n",
    "print(\"평균값 :\", mean.round(2))\n",
    "print(\"중앙값 :\", median)\n",
    "print(\"최빈값 : {} ( {} )\".format(mode[0][0],mode[1][0])) # 해당 수와 빈도 수 출력"
   ]
  },
  {
   "cell_type": "code",
   "execution_count": 9,
   "id": "injured-colors",
   "metadata": {},
   "outputs": [
    {
     "name": "stdout",
     "output_type": "stream",
     "text": [
      "분산 : 833.0\n",
      "표준편차 : 28.86\n"
     ]
    }
   ],
   "source": [
    "data_A_var = np.var(data_A)\n",
    "data_A_std = np.std(data_A)\n",
    "\n",
    "print(\"분산 :\", data_A_var.round(2))\n",
    "print(\"표준편차 :\", data_A_std.round(2))"
   ]
  },
  {
   "cell_type": "markdown",
   "id": "initial-hamburg",
   "metadata": {},
   "source": [
    "### 치킨집 A사와 B사의 배달시간 데이터('분' 단위)"
   ]
  },
  {
   "cell_type": "code",
   "execution_count": 10,
   "id": "hundred-executive",
   "metadata": {},
   "outputs": [],
   "source": [
    "import pandas as pd\n",
    "\n",
    "store_a = pd.Series([20,21,23,22,26,28,35,35,41,42,43,45,46,47,47,46,47,58,58,59,60,56,57,57,80])\n",
    "store_b = pd.Series([5,6,11,13,15,16,20,20,21,23,22,27,27,30,30,32,36,37,37,40,40,43,44,45,51,54,70,600])"
   ]
  },
  {
   "cell_type": "code",
   "execution_count": 15,
   "id": "portuguese-solution",
   "metadata": {},
   "outputs": [
    {
     "name": "stdout",
     "output_type": "stream",
     "text": [
      "1사분위수 : 35.0\n",
      "2사분위수(중앙값) : 46.0\n",
      "3사분위수 : 57.0\n",
      "4사분위수 : 80.0\n"
     ]
    }
   ],
   "source": [
    "A_Q1 = store_a.quantile(0.25) ; print(\"1사분위수 :\",A_Q1)\n",
    "A_Q2 = store_a.quantile(0.5) ; print(\"2사분위수(중앙값) :\",A_Q2)\n",
    "A_Q3 = store_a.quantile(0.75) ; print(\"3사분위수 :\",A_Q3)\n",
    "A_Q4 = store_a.quantile(1) ; print(\"4사분위수 :\",A_Q4)"
   ]
  },
  {
   "cell_type": "code",
   "execution_count": 14,
   "id": "encouraging-cannon",
   "metadata": {},
   "outputs": [
    {
     "name": "stdout",
     "output_type": "stream",
     "text": [
      "1사분위수 : 20.0\n",
      "2사분위수(중앙값) : 30.0\n",
      "3사분위수 : 40.75\n",
      "4사분위수 : 600.0\n"
     ]
    }
   ],
   "source": [
    "B_Q1 = store_b.quantile(0.25) ; print(\"1사분위수 :\",B_Q1)\n",
    "B_Q2 = store_b.quantile(0.5) ; print(\"2사분위수(중앙값) :\",B_Q2)\n",
    "B_Q3 = store_b.quantile(0.75) ; print(\"3사분위수 :\",B_Q3)\n",
    "B_Q4 = store_b.quantile(1) ; print(\"4사분위수 :\",B_Q4)"
   ]
  },
  {
   "cell_type": "code",
   "execution_count": 16,
   "id": "inclusive-diamond",
   "metadata": {},
   "outputs": [],
   "source": [
    "import matplotlib.pyplot as plt # 데이터 시각화 패키지"
   ]
  },
  {
   "cell_type": "code",
   "execution_count": 17,
   "id": "enabling-conversation",
   "metadata": {},
   "outputs": [
    {
     "data": {
      "image/png": "[encoded data removed]",
      "text/plain": [
       "<Figure size 432x288 with 1 Axes>"
      ]
     },
     "metadata": {
      "needs_background": "light"
     },
     "output_type": "display_data"
    }
   ],
   "source": [
    "plt.boxplot((store_a))\n",
    "plt.grid()\n",
    "plt.show()"
   ]
  },
  {
   "cell_type": "code",
   "execution_count": 18,
   "id": "operational-croatia",
   "metadata": {},
   "outputs": [
    {
     "data": {
      "image/png": "[encoded data removed]",
      "text/plain": [
       "<Figure size 432x288 with 1 Axes>"
      ]
     },
     "metadata": {
      "needs_background": "light"
     },
     "output_type": "display_data"
    }
   ],
   "source": [
    "plt.boxplot((store_b))\n",
    "plt.grid()\n",
    "plt.show()"
   ]
  },
  {
   "cell_type": "code",
   "execution_count": 19,
   "id": "abandoned-celtic",
   "metadata": {},
   "outputs": [],
   "source": [
    "store_a = pd.Series([20,21,23,22,26,28,35,35,41,42,43,45,46,47,47,46,47,58,58,59,60,56,57,57,80])\n",
    "store_b = pd.Series([5,6,11,13,15,16,20,20,21,23,22,27,27,30,30,32,36,37,37,40,40,43,44,45,51,54,70]) # 600 삭제"
   ]
  },
  {
   "cell_type": "code",
   "execution_count": 20,
   "id": "recent-settle",
   "metadata": {},
   "outputs": [
    {
     "data": {
      "image/png": "[encoded data removed]",
      "text/plain": [
       "<Figure size 432x288 with 1 Axes>"
      ]
     },
     "metadata": {
      "needs_background": "light"
     },
     "output_type": "display_data"
    }
   ],
   "source": [
    "plt.boxplot((store_b))\n",
    "plt.grid()\n",
    "plt.show()"
   ]
  },
  {
   "cell_type": "code",
   "execution_count": 21,
   "id": "electronic-concrete",
   "metadata": {},
   "outputs": [
    {
     "data": {
      "image/png": "[encoded data removed]",
      "text/plain": [
       "<Figure size 432x288 with 1 Axes>"
      ]
     },
     "metadata": {
      "needs_background": "light"
     },
     "output_type": "display_data"
    }
   ],
   "source": [
    "plt.boxplot((store_a,store_b))\n",
    "plt.grid()\n",
    "plt.show()"
   ]
  },
  {
   "cell_type": "code",
   "execution_count": 22,
   "id": "oriented-kansas",
   "metadata": {},
   "outputs": [
    {
     "data": {
      "image/png": "[encoded data removed]",
      "text/plain": [
       "<Figure size 432x288 with 1 Axes>"
      ]
     },
     "metadata": {
      "needs_background": "light"
     },
     "output_type": "display_data"
    }
   ],
   "source": [
    "box_num = pd.Series([16, 21,22,23,24,25,30])\n",
    "\n",
    "plt.boxplot(box_num)\n",
    "plt.grid()\n",
    "plt.show()\n",
    "\n",
    "#print(box_num.describe())"
   ]
  },
  {
   "cell_type": "code",
   "execution_count": 23,
   "id": "broadband-numbers",
   "metadata": {},
   "outputs": [
    {
     "name": "stdout",
     "output_type": "stream",
     "text": [
      "1사분위수 : 35.0\n",
      "2사분위수(중앙값) : 46.0\n",
      "3사분위수 : 57.0\n",
      "4사분위수 : 80.0\n"
     ]
    }
   ],
   "source": [
    "Q1 = box_num.quantile(0.25) ; print(\"1사분위수 :\",A_Q1)\n",
    "Q2 = box_num.quantile(0.5) ; print(\"2사분위수(중앙값) :\",A_Q2)\n",
    "Q3 = box_num.quantile(0.75) ; print(\"3사분위수 :\",A_Q3)\n",
    "Q4 = box_num.quantile(1) ; print(\"4사분위수 :\",A_Q4)"
   ]
  },
  {
   "cell_type": "code",
   "execution_count": 24,
   "id": "vietnamese-patrick",
   "metadata": {},
   "outputs": [
    {
     "name": "stdout",
     "output_type": "stream",
     "text": [
      "IQR : 3.0\n",
      "STEP1 : 4.5\n"
     ]
    }
   ],
   "source": [
    "IQR = Q3 - Q1\n",
    "print(\"IQR :\", IQR)\n",
    "STEP1 = IQR * 1.5\n",
    "print(\"STEP1 :\", STEP1)"
   ]
  },
  {
   "cell_type": "code",
   "execution_count": 25,
   "id": "lyric-instruction",
   "metadata": {},
   "outputs": [
    {
     "name": "stdout",
     "output_type": "stream",
     "text": [
      "17.0\n"
     ]
    }
   ],
   "source": [
    "# 하단 이상치 기준선은 1사분위수에서 사분범위 1.5배 값을 빼준 다음, 이 값을 기준으로 이 값보다 작으면 이상치로 간주\n",
    "Lower_fence = Q1 - STEP1\n",
    "print(Lower_fence)"
   ]
  },
  {
   "cell_type": "code",
   "execution_count": 26,
   "id": "tutorial-modification",
   "metadata": {},
   "outputs": [
    {
     "name": "stdout",
     "output_type": "stream",
     "text": [
      "29.0\n"
     ]
    }
   ],
   "source": [
    "# 상단 이상치 기준선은 3사분위수에서 사분범위의 1.5배 값을 더해준 다음, 이 값을 기준으로 이 값보다 크면 이상치로 간주\n",
    "Upper_fence = Q3 + STEP1\n",
    "print(Upper_fence)"
   ]
  },
  {
   "cell_type": "code",
   "execution_count": 27,
   "id": "magnetic-appointment",
   "metadata": {},
   "outputs": [
    {
     "data": {
      "image/png": "[encoded data removed]",
      "text/plain": [
       "<Figure size 432x288 with 1 Axes>"
      ]
     },
     "metadata": {
      "needs_background": "light"
     },
     "output_type": "display_data"
    }
   ],
   "source": [
    "# 이상치 제거 후, 분석결과 비교\n",
    "plt.boxplot((store_a,store_b))\n",
    "plt.grid()\n",
    "plt.show()"
   ]
  }
 ],
 "metadata": {
  "kernelspec": {
   "display_name": "Python 3",
   "language": "python",
   "name": "python3"
  },
  "language_info": {
   "codemirror_mode": {
    "name": "ipython",
    "version": 3
   },
   "file_extension": ".py",
   "mimetype": "text/x-python",
   "name": "python",
   "nbconvert_exporter": "python",
   "pygments_lexer": "ipython3",
   "version": "3.7.7"
  }
 },
 "nbformat": 4,
 "nbformat_minor": 5
}
