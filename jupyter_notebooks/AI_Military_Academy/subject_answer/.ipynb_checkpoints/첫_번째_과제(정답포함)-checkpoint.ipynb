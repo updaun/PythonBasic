{
 "cells": [
  {
   "cell_type": "markdown",
   "metadata": {
    "id": "fvkMnlMblU4g"
   },
   "source": [
    "## **00 과제 제출 예시**\n",
    "아래와 같이 출력 결과와 동일한 출력을 해주시면 됩니다.\n"
   ]
  },
  {
   "cell_type": "code",
   "execution_count": 1,
   "metadata": {
    "colab": {
     "base_uri": "https://localhost:8080/"
    },
    "id": "-ezw0UmWlVLx",
    "outputId": "7392213a-b5dc-4f5e-e2da-55d6803e1589"
   },
   "outputs": [
    {
     "name": "stdout",
     "output_type": "stream",
     "text": [
      "광주 인공지능사관학교\n"
     ]
    }
   ],
   "source": [
    "# 출력 결과 : 광주 인공지능사관학교\n",
    "print(\"광주 인공지능사관학교\")"
   ]
  },
  {
   "cell_type": "code",
   "execution_count": 2,
   "metadata": {},
   "outputs": [
    {
     "name": "stdout",
     "output_type": "stream",
     "text": [
      "광주 인공지능사관학교\n"
     ]
    }
   ],
   "source": [
    "print(\"광주 인공지능사관학교\")"
   ]
  },
  {
   "cell_type": "markdown",
   "metadata": {
    "id": "07to2cpfG8Nh"
   },
   "source": [
    "## **01 \"Hello World!\" 출력하기**\n",
    "Hello World!를 출력해 주세요."
   ]
  },
  {
   "cell_type": "code",
   "execution_count": null,
   "metadata": {
    "colab": {
     "base_uri": "https://localhost:8080/"
    },
    "id": "ZrZJJwHNG79X",
    "outputId": "906283aa-fee7-42d3-9d5c-1a6f29d8c2b5"
   },
   "outputs": [
    {
     "name": "stdout",
     "output_type": "stream",
     "text": [
      "Hello World!\n"
     ]
    }
   ],
   "source": [
    "# 출력 결과 : Hello World!\n",
    "print(\"Hello World!\")"
   ]
  },
  {
   "cell_type": "code",
   "execution_count": 3,
   "metadata": {},
   "outputs": [
    {
     "name": "stdout",
     "output_type": "stream",
     "text": [
      "Hello World\n"
     ]
    }
   ],
   "source": [
    "print(\"Hello World\")"
   ]
  },
  {
   "cell_type": "markdown",
   "metadata": {
    "id": "57VL4PzidvGD"
   },
   "source": [
    "## **02 데이터 타입**\n",
    "다음 변수 a, 변수 b, 변수 c의 자료형을 한 줄에 출력해 주세요."
   ]
  },
  {
   "cell_type": "code",
   "execution_count": null,
   "metadata": {
    "colab": {
     "base_uri": "https://localhost:8080/"
    },
    "id": "zjMxPKzxbk6k",
    "outputId": "ffa87069-5cb7-419b-b256-92d926cce081"
   },
   "outputs": [
    {
     "name": "stdout",
     "output_type": "stream",
     "text": [
      "<class 'str'> <class 'int'> <class 'bool'>\n"
     ]
    }
   ],
   "source": [
    "# 주어진 변수(a, b, c) 직접 수정 불가\n",
    "# 출력 결과 : <class 'str'> <class 'int'> <class 'bool'>\n",
    "\n",
    "a = 'str'\n",
    "b = 123\n",
    "c = True\n",
    "\n",
    "\n",
    "print(type(a), type(b), type(c))"
   ]
  },
  {
   "cell_type": "markdown",
   "metadata": {
    "id": "TczAk81deevG"
   },
   "source": [
    "## **03 사칙연산**\n",
    "아래 1), 2), 3), 4)를 보시고 한 줄에 출력해 주세요. \n",
    "\n",
    "1) a의 b 제곱을 출력하시오.\n",
    "\n",
    "2) a를 b로 나눈 나머지를 출력하시오.\n",
    "\n",
    "3) a를 b로 나눈 몫을 출력하시오.\n",
    "\n",
    "4) a를 b로 나눈 값을 출력하시오."
   ]
  },
  {
   "cell_type": "code",
   "execution_count": 5,
   "metadata": {
    "colab": {
     "base_uri": "https://localhost:8080/"
    },
    "id": "3s9j6oleeRu_",
    "outputId": "464b346c-f06b-48e6-b373-cb9fbc507cea"
   },
   "outputs": [
    {
     "name": "stdout",
     "output_type": "stream",
     "text": [
      "2401 3 1 1.75\n"
     ]
    }
   ],
   "source": [
    "# 주어진 변수 (a, b) 직접 수정 불가\n",
    "# 출력 결과 : 2401 3 1 1.75\n",
    "\n",
    "a = 7\n",
    "b = 4\n",
    "\n",
    "print(a**b, a%b, a//b, a/b)"
   ]
  },
  {
   "cell_type": "markdown",
   "metadata": {
    "id": "xGKXNV0Jivak"
   },
   "source": [
    "## **04 평균 구하기**\n",
    "광주 인공지능사관학교를 다니는 홍길동 씨의 1주차 과목별 점수는 다음과 같다. 주어진 변수를 활용하여 홍길동 씨의 평균 점수를 출력해 주세요.\n",
    "\n",
    "- 인공지능을 위한 수학 : 79\n",
    "- 머신러닝 : 83\n",
    "- 딥러닝 : 89\n",
    "- 알고리즘 : 76"
   ]
  },
  {
   "cell_type": "code",
   "execution_count": null,
   "metadata": {
    "colab": {
     "base_uri": "https://localhost:8080/"
    },
    "id": "dcL4t-Rzjlzj",
    "outputId": "dd71af36-ca31-4090-ab63-e3e59d297f70"
   },
   "outputs": [
    {
     "name": "stdout",
     "output_type": "stream",
     "text": [
      "81.75\n"
     ]
    }
   ],
   "source": [
    "# 주어진 변수(ai_math, machine_learning, deep_learning, algorithm) 직접 수정 불가\n",
    "# 출력 결과 : 81.75\n",
    "ai_math = 79\n",
    "machine_learning = 83\n",
    "deep_learning = 89\n",
    "algorithm = 76\n",
    "\n",
    "print((ai_math+machine_learning+deep_learning+algorithm)/4)"
   ]
  },
  {
   "cell_type": "markdown",
   "metadata": {
    "id": "cikxQewBpk62"
   },
   "source": [
    "## **05 문자열 인덱싱과 슬라이싱**\n",
    "'Gwang ju'의 'j'와 'ang j'를 인덱싱을 활용하여 한 줄에 출력해 주세요.\n",
    "\n"
   ]
  },
  {
   "cell_type": "code",
   "execution_count": null,
   "metadata": {
    "colab": {
     "base_uri": "https://localhost:8080/"
    },
    "id": "dlcwNeOLp21j",
    "outputId": "fdd0e938-bb74-4339-c815-58f9261335c8"
   },
   "outputs": [
    {
     "name": "stdout",
     "output_type": "stream",
     "text": [
      "j ang j\n"
     ]
    }
   ],
   "source": [
    "# 주어진 변수 (str_ai) 직접 수정 불가\n",
    "# 출력 결과 : j ang j\n",
    "str_ai = 'Gwang ju'\n",
    "\n",
    "print(str_ai[6], str_ai[2:7])"
   ]
  },
  {
   "cell_type": "markdown",
   "metadata": {
    "id": "XP3BJpr3utjj"
   },
   "source": [
    "## **06 리스트 인덱싱**\n",
    "아래 list_ai 안의 ['a', 'b', 'c']를 인덱싱을 활용하여 출력해 주세요."
   ]
  },
  {
   "cell_type": "code",
   "execution_count": null,
   "metadata": {
    "colab": {
     "base_uri": "https://localhost:8080/"
    },
    "id": "WtY_0rtEuzkA",
    "outputId": "e26fa6e0-2da8-4975-90ae-016f728541cb"
   },
   "outputs": [
    {
     "name": "stdout",
     "output_type": "stream",
     "text": [
      "['a', 'b', 'c']\n"
     ]
    }
   ],
   "source": [
    "# 주어진 변수(list_ai) 직접 수정 불가\n",
    "# 출력 결과 : ['a', 'b', 'c']\n",
    "\n",
    "list_ai = [1, 2, 3, ['a', 'b', 'c']]\n",
    "\n",
    "print(list_ai[-1])"
   ]
  },
  {
   "cell_type": "markdown",
   "metadata": {
    "id": "y5cDbSEkyue1"
   },
   "source": [
    "## **07 삼중 리스트 인덱싱**\n",
    "아래 list_ai 안의 문자 'A'와 'I'를 인덱싱과 문자열 더하기를 활용하여 'AI'로 출력해 주세요."
   ]
  },
  {
   "cell_type": "code",
   "execution_count": null,
   "metadata": {
    "colab": {
     "base_uri": "https://localhost:8080/"
    },
    "id": "nR7gmsoXxsWW",
    "outputId": "e0e8e27f-5ab1-4fcd-caa2-e24855dd5f2b"
   },
   "outputs": [
    {
     "name": "stdout",
     "output_type": "stream",
     "text": [
      "AI\n"
     ]
    }
   ],
   "source": [
    "# 주어진 변수 (list_ai) 직접 수정 불가\n",
    "# 출력 결과 : AI\n",
    "list_ai = ['C', 'School', ['A', 'Gwang', ['Ju', 'I']]]\n",
    "\n",
    "print(list_ai[2][0]+list_ai[2][2][1])"
   ]
  },
  {
   "cell_type": "markdown",
   "metadata": {
    "id": "MF0SbaG_IoaJ"
   },
   "source": [
    "## **08 리스트 뒤집기**\n",
    "아래 list_ai을 내장함수를 사용하여 거꾸로 출력해 주세요."
   ]
  },
  {
   "cell_type": "code",
   "execution_count": null,
   "metadata": {
    "colab": {
     "base_uri": "https://localhost:8080/"
    },
    "id": "pYjBM0ksIoyR",
    "outputId": "a9d98657-a17e-4a5d-ea16-09de90934abd"
   },
   "outputs": [
    {
     "name": "stdout",
     "output_type": "stream",
     "text": [
      "['광', '주', '인', '공', '지', '능', '사', '관', '학', '교']\n"
     ]
    }
   ],
   "source": [
    "# 주어진 변수(list_ai) 직접 수정 불가\n",
    "# 출력 결과 : ['광', '주', '인', '공', '지', '능', '사', '관', '학', '교']\n",
    "\n",
    "list_ai = ['교', '학', '관', '사', '능', '지', '공', '인', '주', '광']\n",
    "list_ai.reverse()\n",
    "\n",
    "print(list_ai)"
   ]
  },
  {
   "cell_type": "markdown",
   "metadata": {
    "id": "-S1yHJtXNYas"
   },
   "source": [
    "## **09 문자열 나누기**\n",
    "아래의 str_ai, str_ai2 변수를 내장함수를 활용하여 ['광주', '인공지능', '사관학교']가 2번 나오도록 출력해 주세요."
   ]
  },
  {
   "cell_type": "code",
   "execution_count": null,
   "metadata": {
    "colab": {
     "base_uri": "https://localhost:8080/"
    },
    "id": "GbOSFsVNNZHt",
    "outputId": "b0062fd3-7408-4a3e-ee84-3de99a5ed725"
   },
   "outputs": [
    {
     "name": "stdout",
     "output_type": "stream",
     "text": [
      "['광주', '인공지능', '사관학교'] ['광주', '인공지능', '사관학교']\n"
     ]
    }
   ],
   "source": [
    "# 주어진 변수(str_ai, str_ai2) 및 print(str_ai, str_ai2)문 직접 수정 불가\n",
    "# 출력 결과 : ['광주', '인공지능', '사관학교'] ['광주', '인공지능', '사관학교']\n",
    "\n",
    "str_ai = '광주 인공지능 사관학교'\n",
    "str_ai2 = '광주;인공지능;사관학교'\n",
    "\n",
    "str_ai = str_ai.split()\n",
    "str_ai2 = str_ai2.split(';')\n",
    "\n",
    "print(str_ai, str_ai2)"
   ]
  },
  {
   "cell_type": "markdown",
   "metadata": {
    "id": "GVOV9JicrUYT"
   },
   "source": [
    "## **10 문자열 바꾸기**\n",
    "아래의 str_ai 변수에 할당된 '괌주 인공지능사관학교' 문자열에서 오타인 '괌주'를 내장함수를 활용하여 '광주'로 바꾸어 '광주 인공지능사관학교'로 출력해 주세요."
   ]
  },
  {
   "cell_type": "code",
   "execution_count": null,
   "metadata": {
    "colab": {
     "base_uri": "https://localhost:8080/"
    },
    "id": "SMmTUOscrU0y",
    "outputId": "f4428a56-dc1d-4440-dec1-68d0a0a6ed5e"
   },
   "outputs": [
    {
     "name": "stdout",
     "output_type": "stream",
     "text": [
      "광주 인공지능사관학교\n"
     ]
    }
   ],
   "source": [
    "# 주어진 변수 (str_ai) 및 print(str_ai)문 직접 수정 불가\n",
    "# 출력 결과 : 광주 인공지능사관학교\n",
    "\n",
    "str_ai = '괌주 인공지능사관학교'\n",
    "str_ai = str_ai.replace('괌주','광주')\n",
    "\n",
    "print(str_ai)"
   ]
  },
  {
   "cell_type": "markdown",
   "metadata": {
    "id": "DVt0uqWvuNP4"
   },
   "source": [
    "## **11 리스트 정렬**\n",
    "광주 인공지능사관학교 학생인 홍길동은 이번 시험 성적이 담긴 리스트 scores를 높은 성적순으로 정렬을 하려고 한다. 내장함수를 활용하여 리스트를 재정렬 후 출력해 주세요."
   ]
  },
  {
   "cell_type": "code",
   "execution_count": null,
   "metadata": {
    "colab": {
     "base_uri": "https://localhost:8080/"
    },
    "id": "ylhXASgkuNf1",
    "outputId": "f25a2966-81f4-4b7c-d514-5b2dd89a734b"
   },
   "outputs": [
    {
     "name": "stdout",
     "output_type": "stream",
     "text": [
      "[89, 83, 78, 76]\n"
     ]
    }
   ],
   "source": [
    "# 주어진 변수(scores) 및 print(scores) 직접 수정 불가\n",
    "# 출력 결과 : [89, 83, 78, 76]\n",
    "\n",
    "scores = [78, 83, 89, 76]\n",
    "scores.sort(reverse = True)\n",
    "\n",
    "print(scores)"
   ]
  },
  {
   "cell_type": "markdown",
   "metadata": {
    "id": "NySA07XHxjhy"
   },
   "source": [
    "## **12 리스트 요소 추가**\n",
    "아래 리스트list_ai의 마지막 요소로 int_ai를 추가하려고 한다. 내장함수를 활용하여 int_ai가 포함된 list_ai를 출력해 주세요."
   ]
  },
  {
   "cell_type": "code",
   "execution_count": null,
   "metadata": {
    "colab": {
     "base_uri": "https://localhost:8080/"
    },
    "id": "H8BK3n3ixj1B",
    "outputId": "72f63736-7102-4679-b429-577b2587ab99"
   },
   "outputs": [
    {
     "name": "stdout",
     "output_type": "stream",
     "text": [
      "[78, 77, 54, 55, 87, 98]\n"
     ]
    }
   ],
   "source": [
    "# 주어진 변수(list_ai, int_ai) 및 print(list_ai) 직접 수정 불가\n",
    "# 출력 결과 : [78, 77, 54, 55, 87, 98]\n",
    "\n",
    "list_ai = [78,77,54,55,87]\n",
    "int_ai = 98\n",
    "\n",
    "list_ai.append(int_ai)\n",
    "\n",
    "print(list_ai)"
   ]
  },
  {
   "cell_type": "markdown",
   "metadata": {
    "id": "t6XOjv_p-9tU"
   },
   "source": [
    "## **13 리스트 총 개수(길이)**\n",
    "아래의 list_ai의 요소 총 개수(길이)를 내장함수를 사용하여 출력해 주세요."
   ]
  },
  {
   "cell_type": "code",
   "execution_count": null,
   "metadata": {
    "colab": {
     "base_uri": "https://localhost:8080/"
    },
    "id": "vCRYBmNp-9_F",
    "outputId": "c6b5052f-6116-4a1d-b889-59028c8d53a8"
   },
   "outputs": [
    {
     "name": "stdout",
     "output_type": "stream",
     "text": [
      "5\n"
     ]
    }
   ],
   "source": [
    "# 주어진 변수(list_ai) 직접 수정 불가\n",
    "# 출력 결과 : 5\n",
    "\n",
    "list_ai = ['인공', '광주', '사관', '학교', '지능']\n",
    "\n",
    "print(len(list_ai))"
   ]
  },
  {
   "cell_type": "markdown",
   "metadata": {
    "id": "9zmBNVyZJzr8"
   },
   "source": [
    "## **14 리스트 요소 위치 반환**\n",
    "아래의 list_ai의 요소 중 '학교'의 위치를 내장함수를 사용하여 출력해 주세요."
   ]
  },
  {
   "cell_type": "code",
   "execution_count": null,
   "metadata": {
    "colab": {
     "base_uri": "https://localhost:8080/"
    },
    "id": "tYkP0Y8zJzJU",
    "outputId": "558bbf70-7c4c-4475-81ad-f9e68f8eb9d5"
   },
   "outputs": [
    {
     "name": "stdout",
     "output_type": "stream",
     "text": [
      "3\n"
     ]
    }
   ],
   "source": [
    "# 주어진 변수(list_ai) 직접 수정 불가\n",
    "# 출력 결과 : 3\n",
    "\n",
    "list_ai = ['인공', '광주', '사관', '학교', '지능']\n",
    "\n",
    "\n",
    "print(list_ai.index('학교'))"
   ]
  },
  {
   "cell_type": "code",
   "execution_count": null,
   "metadata": {
    "id": "pTakAfFXFo-o"
   },
   "outputs": [],
   "source": []
  }
 ],
 "metadata": {
  "colab": {
   "collapsed_sections": [],
   "name": "첫_번째_과제(정답포함).ipynb",
   "provenance": []
  },
  "kernelspec": {
   "display_name": "Python 3",
   "language": "python",
   "name": "python3"
  },
  "language_info": {
   "codemirror_mode": {
    "name": "ipython",
    "version": 3
   },
   "file_extension": ".py",
   "mimetype": "text/x-python",
   "name": "python",
   "nbconvert_exporter": "python",
   "pygments_lexer": "ipython3",
   "version": "3.8.5"
  }
 },
 "nbformat": 4,
 "nbformat_minor": 1
}
