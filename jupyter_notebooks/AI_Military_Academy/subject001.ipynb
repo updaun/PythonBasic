{
 "cells": [
  {
   "cell_type": "markdown",
   "metadata": {
    "id": "wi2iMD5XJf4c"
   },
   "source": [
    "## **00 과제 제출 예시**\n",
    "아래와 같이 출력 결과와 동일한 출력을 해주시면 됩니다.\n"
   ]
  },
  {
   "cell_type": "code",
   "execution_count": null,
   "metadata": {
    "colab": {
     "base_uri": "https://localhost:8080/"
    },
    "id": "89XnNf-fJfmK",
    "outputId": "4a040d0d-3283-4880-ba54-d5eedd09460f"
   },
   "outputs": [
    {
     "name": "stdout",
     "output_type": "stream",
     "text": [
      "광주 인공지능사관학교\n"
     ]
    }
   ],
   "source": [
    "# 출력 결과 : 광주 인공지능사관학교\n",
    "print(\"광주 인공지능사관학교\")"
   ]
  },
  {
   "cell_type": "markdown",
   "metadata": {
    "id": "07to2cpfG8Nh"
   },
   "source": [
    "## **01 \"Hello World!\" 출력하기**\n",
    "Hello World!를 출력해 주세요."
   ]
  },
  {
   "cell_type": "code",
   "execution_count": null,
   "metadata": {
    "colab": {
     "base_uri": "https://localhost:8080/"
    },
    "id": "ZrZJJwHNG79X",
    "outputId": "dc6d7ac0-6490-4c51-c0b1-ccc154345384"
   },
   "outputs": [
    {
     "name": "stdout",
     "output_type": "stream",
     "text": [
      "Hello World!\n"
     ]
    }
   ],
   "source": [
    "# 출력 결과 : Hello World!\n",
    "print(\"Hello World!\")\n"
   ]
  },
  {
   "cell_type": "markdown",
   "metadata": {
    "id": "57VL4PzidvGD"
   },
   "source": [
    "## **02 데이터 타입**\n",
    "다음 변수 a, 변수 b, 변수 c의 자료형을 한 줄에 출력해 주세요."
   ]
  },
  {
   "cell_type": "code",
   "execution_count": null,
   "metadata": {
    "colab": {
     "base_uri": "https://localhost:8080/"
    },
    "id": "zjMxPKzxbk6k",
    "outputId": "023eb861-c74f-4e27-f521-83ff60a1ff79"
   },
   "outputs": [
    {
     "name": "stdout",
     "output_type": "stream",
     "text": [
      "<class 'str'> <class 'int'> <class 'bool'>\n"
     ]
    }
   ],
   "source": [
    "# 주어진 변수(a, b, c) 직접 수정 불가\n",
    "# 출력 결과 : <class 'str'> <class 'int'> <class 'bool'>\n",
    "\n",
    "a = 'str'\n",
    "b = 123\n",
    "c = True\n",
    "print(type(a),type(b),type(c))\n"
   ]
  },
  {
   "cell_type": "markdown",
   "metadata": {
    "id": "TczAk81deevG"
   },
   "source": [
    "## **03 사칙연산**\n",
    "아래 1), 2), 3), 4)를 보시고 한 줄에 출력해 주세요. \n",
    "\n",
    "1) a의 b 제곱을 출력하시오.\n",
    "\n",
    "2) a를 b로 나눈 나머지를 출력하시오.\n",
    "\n",
    "3) a를 b로 나눈 몫을 출력하시오.\n",
    "\n",
    "4) a를 b로 나눈 값을 출력하시오."
   ]
  },
  {
   "cell_type": "code",
   "execution_count": null,
   "metadata": {
    "colab": {
     "base_uri": "https://localhost:8080/"
    },
    "id": "3s9j6oleeRu_",
    "outputId": "9dbe1176-30b8-42cb-aa25-32cf189e7483"
   },
   "outputs": [
    {
     "name": "stdout",
     "output_type": "stream",
     "text": [
      "2401 3 1 1.75\n"
     ]
    }
   ],
   "source": [
    "# 주어진 변수 (a, b) 직접 수정 불가\n",
    "# 출력 결과 : 2401 3 1 1.75\n",
    "\n",
    "a = 7\n",
    "b = 4\n",
    "\n",
    "print(a ** b, a % b, a // b, a / b)"
   ]
  },
  {
   "cell_type": "markdown",
   "metadata": {
    "id": "xGKXNV0Jivak"
   },
   "source": [
    "## **04 평균 구하기**\n",
    "광주 인공지능사관학교를 다니는 홍길동 씨의 1주차 과목별 점수는 다음과 같다. 주어진 변수를 활용하여 홍길동 씨의 평균 점수를 출력해 주세요.\n",
    "\n",
    "- 인공지능을 위한 수학 : 78\n",
    "- 머신러닝 : 83\n",
    "- 딥러닝 : 89\n",
    "- 알고리즘 : 76"
   ]
  },
  {
   "cell_type": "code",
   "execution_count": null,
   "metadata": {
    "colab": {
     "base_uri": "https://localhost:8080/"
    },
    "id": "dcL4t-Rzjlzj",
    "outputId": "6b4acdbd-a47f-4b6e-a329-1c403d58257d"
   },
   "outputs": [
    {
     "name": "stdout",
     "output_type": "stream",
     "text": [
      "81.75\n"
     ]
    }
   ],
   "source": [
    "# 주어진 변수(ai_math, machine_learning, deep_learning, algorithm) 직접 수정 불가\n",
    "# 출력 결과 : 81.75\n",
    "ai_math = 79\n",
    "machine_learning = 83\n",
    "deep_learning = 89\n",
    "algorithm = 76\n",
    "\n",
    "num_subject = 4\n",
    "average = (ai_math + machine_learning + deep_learning + algorithm) / num_subject\n",
    "\n",
    "print(average)"
   ]
  },
  {
   "cell_type": "markdown",
   "metadata": {
    "id": "cikxQewBpk62"
   },
   "source": [
    "## **05 문자열 인덱싱과 슬라이싱**\n",
    "'Gwang ju'의 'j'와 'ang j'를 인덱싱을 활용하여 한 줄에 출력해 주세요.\n",
    "\n"
   ]
  },
  {
   "cell_type": "code",
   "execution_count": null,
   "metadata": {
    "colab": {
     "base_uri": "https://localhost:8080/"
    },
    "id": "dlcwNeOLp21j",
    "outputId": "06ce2d97-d976-4ce2-c4e3-1ebafc3b345c"
   },
   "outputs": [
    {
     "name": "stdout",
     "output_type": "stream",
     "text": [
      "j ang j\n"
     ]
    }
   ],
   "source": [
    "# 주어진 변수 (str_ai) 직접 수정 불가\n",
    "# 출력 결과 : j ang j\n",
    "str_ai = 'Gwang ju'\n",
    "\n",
    "print(str_ai[6],str_ai[2:7])"
   ]
  },
  {
   "cell_type": "markdown",
   "metadata": {
    "id": "XP3BJpr3utjj"
   },
   "source": [
    "## **06 리스트 인덱싱**\n",
    "아래 list_ai 안의 ['a', 'b', 'c']를 인덱싱을 활용하여 출력해 주세요."
   ]
  },
  {
   "cell_type": "code",
   "execution_count": null,
   "metadata": {
    "colab": {
     "base_uri": "https://localhost:8080/"
    },
    "id": "WtY_0rtEuzkA",
    "outputId": "618618fe-37f6-4efb-f943-0f8c16857b32"
   },
   "outputs": [
    {
     "name": "stdout",
     "output_type": "stream",
     "text": [
      "['a', 'b', 'c']\n"
     ]
    }
   ],
   "source": [
    "# 주어진 변수(list_ai) 직접 수정 불가\n",
    "# 출력 결과 : ['a', 'b', 'c']\n",
    "\n",
    "list_ai = [1, 2, 3, ['a', 'b', 'c']]\n",
    "\n",
    "print(list_ai[3])"
   ]
  },
  {
   "cell_type": "markdown",
   "metadata": {
    "id": "y5cDbSEkyue1"
   },
   "source": [
    "## **07 삼중 리스트 인덱싱**\n",
    "아래 list_ai 안의 문자 'A'와 'I'를 인덱싱과 문자열 더하기를 활용하여 'AI'로 출력해 주세요."
   ]
  },
  {
   "cell_type": "code",
   "execution_count": null,
   "metadata": {
    "colab": {
     "base_uri": "https://localhost:8080/"
    },
    "id": "nR7gmsoXxsWW",
    "outputId": "0f9140d1-f045-40dc-89b2-95202d69d542"
   },
   "outputs": [
    {
     "name": "stdout",
     "output_type": "stream",
     "text": [
      "AI\n"
     ]
    }
   ],
   "source": [
    "# 주어진 변수 (list_ai) 직접 수정 불가\n",
    "# 출력 결과 : AI\n",
    "list_ai = ['C', 'School', ['A', 'Gwang', ['Ju', 'I']]]\n",
    "\n",
    "print(str(list_ai[2][0])+str(list_ai[2][2][1]))"
   ]
  },
  {
   "cell_type": "markdown",
   "metadata": {
    "id": "MF0SbaG_IoaJ"
   },
   "source": [
    "## **08 리스트 뒤집기**\n",
    "아래 list_ai을 내장함수를 사용하여 거꾸로 출력해 주세요."
   ]
  },
  {
   "cell_type": "code",
   "execution_count": null,
   "metadata": {
    "colab": {
     "base_uri": "https://localhost:8080/"
    },
    "id": "pYjBM0ksIoyR",
    "outputId": "1ada6f01-0926-48cc-9b73-b73f4b1086eb"
   },
   "outputs": [
    {
     "name": "stdout",
     "output_type": "stream",
     "text": [
      "['광', '주', '인', '공', '지', '능', '사', '관', '학', '교']\n"
     ]
    }
   ],
   "source": [
    "# 주어진 변수(list_ai) 직접 수정 불가\n",
    "# 출력 결과 : ['광', '주', '인', '공', '지', '능', '사', '관', '학', '교']\n",
    "\n",
    "list_ai = ['교', '학', '관', '사', '능', '지', '공', '인', '주', '광']\n",
    "list_ai.reverse()\n",
    "print(list_ai)"
   ]
  },
  {
   "cell_type": "markdown",
   "metadata": {
    "id": "-S1yHJtXNYas"
   },
   "source": [
    "## **09 문자열 나누기**\n",
    "아래의 str_ai, str_ai2 변수를 내장함수를 활용하여 ['광주', '인공지능', '사관학교']가 2번 나오도록 출력해 주세요."
   ]
  },
  {
   "cell_type": "code",
   "execution_count": 25,
   "metadata": {
    "colab": {
     "base_uri": "https://localhost:8080/"
    },
    "id": "GbOSFsVNNZHt",
    "outputId": "3422c2e9-530e-40ad-ec48-169dbe39e1c2"
   },
   "outputs": [
    {
     "name": "stdout",
     "output_type": "stream",
     "text": [
      "['광주', '인공지능', '사관학교'] ['광주', '인공지능', '사관학교']\n"
     ]
    }
   ],
   "source": [
    "# 출력 결과 :  ['광주', '인공지능', '사관학교'] ['광주', '인공지능', '사관학교']\n",
    "\n",
    "str_ai = '광주 인공지능 사관학교'\n",
    "str_ai2 = '광주;인공지능;사관학교'\n",
    "\n",
    "str_ai = str_ai.split(' ')\n",
    "str_ai2 = str_ai2.split(';')\n",
    "\n",
    "print(str_ai,str_ai2)"
   ]
  },
  {
   "cell_type": "markdown",
   "metadata": {
    "id": "GVOV9JicrUYT"
   },
   "source": [
    "## **10 문자열 바꾸기**\n",
    "아래의 str_ai 변수에 할당된 '괌주 인공지능사관학교' 문자열에서 오타인 '괌주'를 내장함수를 활용하여 '광주'로 바꾸어 '광주 인공지능사관학교'로 출력해 주세요."
   ]
  },
  {
   "cell_type": "code",
   "execution_count": 24,
   "metadata": {
    "colab": {
     "base_uri": "https://localhost:8080/"
    },
    "id": "SMmTUOscrU0y",
    "outputId": "70639f55-982c-4f9e-e6b0-3bf333188f8f"
   },
   "outputs": [
    {
     "name": "stdout",
     "output_type": "stream",
     "text": [
      "광주 인공지능사관학교\n"
     ]
    }
   ],
   "source": [
    "# 주어진 변수 (str_ai) 및 print(str_ai)문 직접 수정 불가\n",
    "# 출력 결과 : 광주 인공지능사관학교\n",
    "\n",
    "str_ai = '괌주 인공지능사관학교'\n",
    "\n",
    "str_ai = str_ai.replace(\"괌주\", \"광주\")\n",
    "\n",
    "print(str_ai)"
   ]
  },
  {
   "cell_type": "markdown",
   "metadata": {
    "id": "DVt0uqWvuNP4"
   },
   "source": [
    "## **11 리스트 정렬**\n",
    "광주 인공지능사관학교 학생인 홍길동은 이번 시험 성적이 담긴 리스트 scores를 높은 성적순으로 정렬을 하려고 한다. 내장함수를 활용하여 리스트를 재정렬 후 출력해 주세요."
   ]
  },
  {
   "cell_type": "code",
   "execution_count": 30,
   "metadata": {
    "colab": {
     "base_uri": "https://localhost:8080/"
    },
    "id": "ylhXASgkuNf1",
    "outputId": "a5efbfcb-cdab-4145-f2c4-a9cc8a643f1c"
   },
   "outputs": [
    {
     "name": "stdout",
     "output_type": "stream",
     "text": [
      "[89, 83, 78, 76]\n"
     ]
    }
   ],
   "source": [
    "# 주어진 변수(scores) 및 print(scores) 직접 수정 불가\n",
    "# 출력 결과 : [89, 83, 78, 76]\n",
    "\n",
    "scores = [78, 83, 89, 76]\n",
    "\n",
    "scores.sort(reverse=True)\n",
    "\n",
    "print(scores)"
   ]
  },
  {
   "cell_type": "markdown",
   "metadata": {
    "id": "NySA07XHxjhy"
   },
   "source": [
    "## **12 리스트 요소 추가**\n",
    "아래 리스트list_ai의 마지막 요소로 int_ai를 추가하려고 한다. 내장함수를 활용하여 int_ai가 포함된 list_ai를 출력해 주세요."
   ]
  },
  {
   "cell_type": "code",
   "execution_count": 31,
   "metadata": {
    "colab": {
     "base_uri": "https://localhost:8080/"
    },
    "id": "H8BK3n3ixj1B",
    "outputId": "847ba844-5904-47be-c923-cb335ce0855e"
   },
   "outputs": [
    {
     "name": "stdout",
     "output_type": "stream",
     "text": [
      "[78, 77, 54, 55, 87, 98]\n"
     ]
    }
   ],
   "source": [
    "# 주어진 변수(list_ai, int_ai) 및 print(list_ai) 직접 수정 불가\n",
    "# 출력 결과 : [78, 77, 54, 55, 87, 98]\n",
    "\n",
    "list_ai = [78,77,54,55,87]\n",
    "int_ai = 98\n",
    "\n",
    "list_ai.append(int_ai)\n",
    "\n",
    "print(list_ai)"
   ]
  },
  {
   "cell_type": "markdown",
   "metadata": {
    "id": "t6XOjv_p-9tU"
   },
   "source": [
    "## **13 리스트 총 개수(길이)**\n",
    "아래의 list_ai의 요소 총개수(길이)를 내장함수를 사용하여 출력해 주세요."
   ]
  },
  {
   "cell_type": "code",
   "execution_count": 32,
   "metadata": {
    "colab": {
     "base_uri": "https://localhost:8080/"
    },
    "id": "vCRYBmNp-9_F",
    "outputId": "c02147d0-a886-41a3-b2f8-01c4bf8b60dc"
   },
   "outputs": [
    {
     "name": "stdout",
     "output_type": "stream",
     "text": [
      "5\n"
     ]
    }
   ],
   "source": [
    "# 주어진 변수(list_ai) 직접 수정 불가\n",
    "# 출력 결과 : 5\n",
    "\n",
    "list_ai = ['인공', '광주', '사관', '학교', '지능']\n",
    "\n",
    "print(len(list_ai))"
   ]
  },
  {
   "cell_type": "markdown",
   "metadata": {
    "id": "9zmBNVyZJzr8"
   },
   "source": [
    "## **14 리스트 요소 위치 반환**\n",
    "아래의 list_ai의 요소 중 '학교'의 위치를 내장함수를 사용하여 출력해 주세요."
   ]
  },
  {
   "cell_type": "code",
   "execution_count": 33,
   "metadata": {
    "colab": {
     "base_uri": "https://localhost:8080/"
    },
    "id": "tYkP0Y8zJzJU",
    "outputId": "94007af9-0d3d-441d-9c64-48a3b12df2ed"
   },
   "outputs": [
    {
     "name": "stdout",
     "output_type": "stream",
     "text": [
      "3\n"
     ]
    }
   ],
   "source": [
    "# 주어진 변수(list_ai) 직접 수정 불가\n",
    "# 출력 결과 : 3\n",
    "\n",
    "list_ai = ['인공', '광주', '사관', '학교', '지능']\n",
    "\n",
    "print(list_ai.index('학교'))"
   ]
  },
  {
   "cell_type": "code",
   "execution_count": null,
   "metadata": {
    "id": "PihZd3yeEiDB"
   },
   "outputs": [],
   "source": []
  }
 ],
 "metadata": {
  "colab": {
   "collapsed_sections": [],
   "name": "전다운 - 첫 번째 과제.ipynb",
   "provenance": []
  },
  "kernelspec": {
   "display_name": "Python 3",
   "language": "python",
   "name": "python3"
  },
  "language_info": {
   "codemirror_mode": {
    "name": "ipython",
    "version": 3
   },
   "file_extension": ".py",
   "mimetype": "text/x-python",
   "name": "python",
   "nbconvert_exporter": "python",
   "pygments_lexer": "ipython3",
   "version": "3.7.7"
  }
 },
 "nbformat": 4,
 "nbformat_minor": 1
}
