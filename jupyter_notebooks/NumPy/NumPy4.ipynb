{
 "cells": [
  {
   "cell_type": "code",
   "execution_count": 1,
   "metadata": {},
   "outputs": [],
   "source": [
    "import numpy as np"
   ]
  },
  {
   "cell_type": "code",
   "execution_count": 2,
   "metadata": {},
   "outputs": [],
   "source": [
    "# ndarray 객체(배열) 확익용 함수\n",
    "def asprint(arr):\n",
    "    # ndarrray 객체 속성( attribute )\n",
    "    #\n",
    "    # shape : ndarray 객체 구조\n",
    "    # ndim : ndarray 객체 차원\n",
    "    # dtype : ndarray 객체 자료형\n",
    "    print(f'type = {type(arr)}')\n",
    "    print(f'shape = {arr.shape}, dimension = {arr.ndim}', end='')\n",
    "    print(f'dtype = {arr.dtype}')\n",
    "    print(f\"Array's data:\\n\",arr)"
   ]
  },
  {
   "cell_type": "markdown",
   "metadata": {},
   "source": [
    "## 배열 크기 변환\n",
    "### resize() 매서드 : 요소 수 자체가 변화하여 요소 수가 변화되도 에러가 발생하지 않음"
   ]
  },
  {
   "cell_type": "code",
   "execution_count": 3,
   "metadata": {},
   "outputs": [
    {
     "name": "stdout",
     "output_type": "stream",
     "text": [
      "type = <class 'numpy.ndarray'>\n",
      "shape = (2, 6), dimension = 2dtype = int32\n",
      "Array's data:\n",
      " [[6 4 4 3 3 2]\n",
      " [1 1 8 9 9 7]]\n"
     ]
    }
   ],
   "source": [
    "a = np.random.randint(1,10,(2,6))\n",
    "asprint(a)"
   ]
  },
  {
   "cell_type": "code",
   "execution_count": 4,
   "metadata": {},
   "outputs": [
    {
     "name": "stdout",
     "output_type": "stream",
     "text": [
      "type = <class 'numpy.ndarray'>\n",
      "shape = (6, 2), dimension = 2dtype = int32\n",
      "Array's data:\n",
      " [[6 4]\n",
      " [4 3]\n",
      " [3 2]\n",
      " [1 1]\n",
      " [8 9]\n",
      " [9 7]]\n"
     ]
    }
   ],
   "source": [
    "a.resize((6,2)) # 배열 요소 개수 변화가 없는 경우\n",
    "asprint(a)"
   ]
  },
  {
   "cell_type": "code",
   "execution_count": 5,
   "metadata": {},
   "outputs": [
    {
     "name": "stdout",
     "output_type": "stream",
     "text": [
      "type = <class 'numpy.ndarray'>\n",
      "shape = (2, 10), dimension = 2dtype = int32\n",
      "Array's data:\n",
      " [[6 4 4 3 3 2 1 1 8 9]\n",
      " [9 7 0 0 0 0 0 0 0 0]]\n"
     ]
    }
   ],
   "source": [
    "a.resize((2,10)) # 배열 요소 개수가 증가한 경우\n",
    "asprint(a)"
   ]
  },
  {
   "cell_type": "code",
   "execution_count": 6,
   "metadata": {},
   "outputs": [
    {
     "name": "stdout",
     "output_type": "stream",
     "text": [
      "type = <class 'numpy.ndarray'>\n",
      "shape = (3, 3), dimension = 2dtype = int32\n",
      "Array's data:\n",
      " [[6 4 4]\n",
      " [3 3 2]\n",
      " [1 1 8]]\n"
     ]
    }
   ],
   "source": [
    "a.resize((3,3)) # 배열 요소 개수가 감소한 경우\n",
    "asprint(a)"
   ]
  },
  {
   "cell_type": "markdown",
   "metadata": {},
   "source": [
    "## 배열 요소 추가 / 삭제\n",
    "### append() 함수 : 배열 끝에 값을 추가하는 함수 축을 지정하여 배열에 추가하는 방법을 지정"
   ]
  },
  {
   "cell_type": "code",
   "execution_count": 7,
   "metadata": {},
   "outputs": [
    {
     "name": "stdout",
     "output_type": "stream",
     "text": [
      "type = <class 'numpy.ndarray'>\n",
      "shape = (3, 3), dimension = 2dtype = int32\n",
      "Array's data:\n",
      " [[1 2 3]\n",
      " [4 5 6]\n",
      " [7 8 9]]\n",
      "type = <class 'numpy.ndarray'>\n",
      "shape = (3, 3), dimension = 2dtype = int32\n",
      "Array's data:\n",
      " [[10 11 12]\n",
      " [13 14 15]\n",
      " [16 17 18]]\n"
     ]
    }
   ],
   "source": [
    "a = np.arange(1, 10).reshape(3,3)\n",
    "b = np.arange(10,19).reshape(3,3)\n",
    "\n",
    "asprint(a)\n",
    "asprint(b)"
   ]
  },
  {
   "cell_type": "markdown",
   "metadata": {},
   "source": [
    "###  case 1 : axis를 지정하지 않는 경우\n",
    "\n",
    "- axis를 지정하지 않으면 1차원 배열로 변화 후 추가"
   ]
  },
  {
   "cell_type": "code",
   "execution_count": 8,
   "metadata": {},
   "outputs": [
    {
     "name": "stdout",
     "output_type": "stream",
     "text": [
      "type = <class 'numpy.ndarray'>\n",
      "shape = (18,), dimension = 1dtype = int32\n",
      "Array's data:\n",
      " [ 1  2  3  4  5  6  7  8  9 10 11 12 13 14 15 16 17 18]\n"
     ]
    }
   ],
   "source": [
    "result = np.append(a,b)\n",
    "asprint(result)"
   ]
  },
  {
   "cell_type": "markdown",
   "metadata": {},
   "source": [
    "### case 2 : axis = 0 지정\n",
    "\n",
    "- shape 0을 제외한 나머지 shape은 같아야 한다. 만약 같지 않으면 append 시 오류 발생"
   ]
  },
  {
   "cell_type": "code",
   "execution_count": 9,
   "metadata": {},
   "outputs": [
    {
     "name": "stdout",
     "output_type": "stream",
     "text": [
      "type = <class 'numpy.ndarray'>\n",
      "shape = (6, 3), dimension = 2dtype = int32\n",
      "Array's data:\n",
      " [[ 1  2  3]\n",
      " [ 4  5  6]\n",
      " [ 7  8  9]\n",
      " [10 11 12]\n",
      " [13 14 15]\n",
      " [16 17 18]]\n"
     ]
    }
   ],
   "source": [
    "result = np.append(a,b, axis=0)\n",
    "asprint(result)"
   ]
  },
  {
   "cell_type": "code",
   "execution_count": 10,
   "metadata": {},
   "outputs": [
    {
     "name": "stdout",
     "output_type": "stream",
     "text": [
      "type = <class 'numpy.ndarray'>\n",
      "shape = (2, 5), dimension = 2dtype = int32\n",
      "Array's data:\n",
      " [[10 11 12 13 14]\n",
      " [15 16 17 18 19]]\n"
     ]
    }
   ],
   "source": [
    "c = np.arange(10, 20).reshape(2,5)\n",
    "asprint(c)"
   ]
  },
  {
   "cell_type": "code",
   "execution_count": 11,
   "metadata": {},
   "outputs": [
    {
     "ename": "ValueError",
     "evalue": "all the input array dimensions for the concatenation axis must match exactly, but along dimension 1, the array at index 0 has size 3 and the array at index 1 has size 5",
     "output_type": "error",
     "traceback": [
      "\u001b[1;31m---------------------------------------------------------------------------\u001b[0m",
      "\u001b[1;31mValueError\u001b[0m                                Traceback (most recent call last)",
      "\u001b[1;32m<ipython-input-11-37a7b92f2582>\u001b[0m in \u001b[0;36m<module>\u001b[1;34m\u001b[0m\n\u001b[1;32m----> 1\u001b[1;33m \u001b[0mresult\u001b[0m \u001b[1;33m=\u001b[0m \u001b[0mnp\u001b[0m\u001b[1;33m.\u001b[0m\u001b[0mappend\u001b[0m\u001b[1;33m(\u001b[0m\u001b[0ma\u001b[0m\u001b[1;33m,\u001b[0m\u001b[0mc\u001b[0m\u001b[1;33m,\u001b[0m \u001b[0maxis\u001b[0m\u001b[1;33m=\u001b[0m\u001b[1;36m0\u001b[0m\u001b[1;33m)\u001b[0m\u001b[1;33m\u001b[0m\u001b[1;33m\u001b[0m\u001b[0m\n\u001b[0m\u001b[0;32m      2\u001b[0m \u001b[0masprint\u001b[0m\u001b[1;33m(\u001b[0m\u001b[0mresult\u001b[0m\u001b[1;33m)\u001b[0m\u001b[1;33m\u001b[0m\u001b[1;33m\u001b[0m\u001b[0m\n",
      "\u001b[1;32m<__array_function__ internals>\u001b[0m in \u001b[0;36mappend\u001b[1;34m(*args, **kwargs)\u001b[0m\n",
      "\u001b[1;32mC:\\projects\\Anaconda3\\lib\\site-packages\\numpy\\lib\\function_base.py\u001b[0m in \u001b[0;36mappend\u001b[1;34m(arr, values, axis)\u001b[0m\n\u001b[0;32m   4669\u001b[0m         \u001b[0mvalues\u001b[0m \u001b[1;33m=\u001b[0m \u001b[0mravel\u001b[0m\u001b[1;33m(\u001b[0m\u001b[0mvalues\u001b[0m\u001b[1;33m)\u001b[0m\u001b[1;33m\u001b[0m\u001b[1;33m\u001b[0m\u001b[0m\n\u001b[0;32m   4670\u001b[0m         \u001b[0maxis\u001b[0m \u001b[1;33m=\u001b[0m \u001b[0marr\u001b[0m\u001b[1;33m.\u001b[0m\u001b[0mndim\u001b[0m\u001b[1;33m-\u001b[0m\u001b[1;36m1\u001b[0m\u001b[1;33m\u001b[0m\u001b[1;33m\u001b[0m\u001b[0m\n\u001b[1;32m-> 4671\u001b[1;33m     \u001b[1;32mreturn\u001b[0m \u001b[0mconcatenate\u001b[0m\u001b[1;33m(\u001b[0m\u001b[1;33m(\u001b[0m\u001b[0marr\u001b[0m\u001b[1;33m,\u001b[0m \u001b[0mvalues\u001b[0m\u001b[1;33m)\u001b[0m\u001b[1;33m,\u001b[0m \u001b[0maxis\u001b[0m\u001b[1;33m=\u001b[0m\u001b[0maxis\u001b[0m\u001b[1;33m)\u001b[0m\u001b[1;33m\u001b[0m\u001b[1;33m\u001b[0m\u001b[0m\n\u001b[0m\u001b[0;32m   4672\u001b[0m \u001b[1;33m\u001b[0m\u001b[0m\n\u001b[0;32m   4673\u001b[0m \u001b[1;33m\u001b[0m\u001b[0m\n",
      "\u001b[1;32m<__array_function__ internals>\u001b[0m in \u001b[0;36mconcatenate\u001b[1;34m(*args, **kwargs)\u001b[0m\n",
      "\u001b[1;31mValueError\u001b[0m: all the input array dimensions for the concatenation axis must match exactly, but along dimension 1, the array at index 0 has size 3 and the array at index 1 has size 5"
     ]
    }
   ],
   "source": [
    "result = np.append(a,c, axis=0)\n",
    "asprint(result)"
   ]
  },
  {
   "cell_type": "markdown",
   "metadata": {},
   "source": [
    "###  case 3 :  axis = 1 지정"
   ]
  },
  {
   "cell_type": "code",
   "execution_count": 12,
   "metadata": {},
   "outputs": [
    {
     "name": "stdout",
     "output_type": "stream",
     "text": [
      "type = <class 'numpy.ndarray'>\n",
      "shape = (3, 6), dimension = 2dtype = int32\n",
      "Array's data:\n",
      " [[ 1  2  3 10 11 12]\n",
      " [ 4  5  6 13 14 15]\n",
      " [ 7  8  9 16 17 18]]\n"
     ]
    }
   ],
   "source": [
    "result = np.append(a,b, axis = 1)\n",
    "asprint(result)"
   ]
  },
  {
   "cell_type": "code",
   "execution_count": 15,
   "metadata": {},
   "outputs": [
    {
     "name": "stdout",
     "output_type": "stream",
     "text": [
      "type = <class 'numpy.ndarray'>\n",
      "shape = (5, 2), dimension = 2dtype = int32\n",
      "Array's data:\n",
      " [[10 11]\n",
      " [12 13]\n",
      " [14 15]\n",
      " [16 17]\n",
      " [18 19]]\n"
     ]
    }
   ],
   "source": [
    "c = np.arange(10, 20).reshape(5 ,2)\n",
    "asprint(c)"
   ]
  },
  {
   "cell_type": "code",
   "execution_count": 16,
   "metadata": {},
   "outputs": [
    {
     "ename": "ValueError",
     "evalue": "all the input array dimensions for the concatenation axis must match exactly, but along dimension 0, the array at index 0 has size 3 and the array at index 1 has size 5",
     "output_type": "error",
     "traceback": [
      "\u001b[1;31m---------------------------------------------------------------------------\u001b[0m",
      "\u001b[1;31mValueError\u001b[0m                                Traceback (most recent call last)",
      "\u001b[1;32m<ipython-input-16-a908d8c6defe>\u001b[0m in \u001b[0;36m<module>\u001b[1;34m\u001b[0m\n\u001b[1;32m----> 1\u001b[1;33m \u001b[0mresult\u001b[0m \u001b[1;33m=\u001b[0m \u001b[0mnp\u001b[0m\u001b[1;33m.\u001b[0m\u001b[0mappend\u001b[0m\u001b[1;33m(\u001b[0m\u001b[0ma\u001b[0m\u001b[1;33m,\u001b[0m\u001b[0mc\u001b[0m\u001b[1;33m,\u001b[0m\u001b[0maxis\u001b[0m \u001b[1;33m=\u001b[0m \u001b[1;36m1\u001b[0m\u001b[1;33m)\u001b[0m\u001b[1;33m\u001b[0m\u001b[1;33m\u001b[0m\u001b[0m\n\u001b[0m\u001b[0;32m      2\u001b[0m \u001b[0masprint\u001b[0m\u001b[1;33m(\u001b[0m\u001b[0mresult\u001b[0m\u001b[1;33m)\u001b[0m\u001b[1;33m\u001b[0m\u001b[1;33m\u001b[0m\u001b[0m\n",
      "\u001b[1;32m<__array_function__ internals>\u001b[0m in \u001b[0;36mappend\u001b[1;34m(*args, **kwargs)\u001b[0m\n",
      "\u001b[1;32mC:\\projects\\Anaconda3\\lib\\site-packages\\numpy\\lib\\function_base.py\u001b[0m in \u001b[0;36mappend\u001b[1;34m(arr, values, axis)\u001b[0m\n\u001b[0;32m   4669\u001b[0m         \u001b[0mvalues\u001b[0m \u001b[1;33m=\u001b[0m \u001b[0mravel\u001b[0m\u001b[1;33m(\u001b[0m\u001b[0mvalues\u001b[0m\u001b[1;33m)\u001b[0m\u001b[1;33m\u001b[0m\u001b[1;33m\u001b[0m\u001b[0m\n\u001b[0;32m   4670\u001b[0m         \u001b[0maxis\u001b[0m \u001b[1;33m=\u001b[0m \u001b[0marr\u001b[0m\u001b[1;33m.\u001b[0m\u001b[0mndim\u001b[0m\u001b[1;33m-\u001b[0m\u001b[1;36m1\u001b[0m\u001b[1;33m\u001b[0m\u001b[1;33m\u001b[0m\u001b[0m\n\u001b[1;32m-> 4671\u001b[1;33m     \u001b[1;32mreturn\u001b[0m \u001b[0mconcatenate\u001b[0m\u001b[1;33m(\u001b[0m\u001b[1;33m(\u001b[0m\u001b[0marr\u001b[0m\u001b[1;33m,\u001b[0m \u001b[0mvalues\u001b[0m\u001b[1;33m)\u001b[0m\u001b[1;33m,\u001b[0m \u001b[0maxis\u001b[0m\u001b[1;33m=\u001b[0m\u001b[0maxis\u001b[0m\u001b[1;33m)\u001b[0m\u001b[1;33m\u001b[0m\u001b[1;33m\u001b[0m\u001b[0m\n\u001b[0m\u001b[0;32m   4672\u001b[0m \u001b[1;33m\u001b[0m\u001b[0m\n\u001b[0;32m   4673\u001b[0m \u001b[1;33m\u001b[0m\u001b[0m\n",
      "\u001b[1;32m<__array_function__ internals>\u001b[0m in \u001b[0;36mconcatenate\u001b[1;34m(*args, **kwargs)\u001b[0m\n",
      "\u001b[1;31mValueError\u001b[0m: all the input array dimensions for the concatenation axis must match exactly, but along dimension 0, the array at index 0 has size 3 and the array at index 1 has size 5"
     ]
    }
   ],
   "source": [
    "result = np.append(a,c,axis = 1)\n",
    "asprint(result)"
   ]
  },
  {
   "cell_type": "markdown",
   "metadata": {},
   "source": [
    "### insert  함수"
   ]
  },
  {
   "cell_type": "code",
   "execution_count": 17,
   "metadata": {},
   "outputs": [
    {
     "name": "stdout",
     "output_type": "stream",
     "text": [
      "type = <class 'numpy.ndarray'>\n",
      "shape = (3, 3), dimension = 2dtype = int32\n",
      "Array's data:\n",
      " [[1 2 3]\n",
      " [4 5 6]\n",
      " [7 8 9]]\n"
     ]
    }
   ],
   "source": [
    "asprint(a)"
   ]
  },
  {
   "cell_type": "code",
   "execution_count": 18,
   "metadata": {},
   "outputs": [
    {
     "data": {
      "text/plain": [
       "array([  1, 999,   2,   3,   4,   5,   6,   7,   8,   9])"
      ]
     },
     "execution_count": 18,
     "metadata": {},
     "output_type": "execute_result"
    }
   ],
   "source": [
    "np.insert(a,1,999) # a배열 1열에 999 삽입 (1차원으로 변환 후)"
   ]
  },
  {
   "cell_type": "code",
   "execution_count": 19,
   "metadata": {},
   "outputs": [
    {
     "data": {
      "text/plain": [
       "array([[  1,   2,   3],\n",
       "       [999, 999, 999],\n",
       "       [  4,   5,   6],\n",
       "       [  7,   8,   9]])"
      ]
     },
     "execution_count": 19,
     "metadata": {},
     "output_type": "execute_result"
    }
   ],
   "source": [
    "np.insert(a,1,999,axis=0) # 행방향 : a배열 1행에 999 삽입"
   ]
  },
  {
   "cell_type": "code",
   "execution_count": 22,
   "metadata": {},
   "outputs": [
    {
     "data": {
      "text/plain": [
       "array([[  1, 999,   2,   3],\n",
       "       [  4, 999,   5,   6],\n",
       "       [  7, 999,   8,   9]])"
      ]
     },
     "execution_count": 22,
     "metadata": {},
     "output_type": "execute_result"
    }
   ],
   "source": [
    "np.insert(a,1,999,axis=1) # 열방향 : a배열 1열에 999 삽입"
   ]
  },
  {
   "cell_type": "code",
   "execution_count": 23,
   "metadata": {},
   "outputs": [
    {
     "name": "stdout",
     "output_type": "stream",
     "text": [
      "type = <class 'numpy.ndarray'>\n",
      "shape = (3, 3), dimension = 2dtype = int32\n",
      "Array's data:\n",
      " [[1 2 3]\n",
      " [4 5 6]\n",
      " [7 8 9]]\n"
     ]
    }
   ],
   "source": [
    "asprint(a)"
   ]
  },
  {
   "cell_type": "markdown",
   "metadata": {},
   "source": [
    "### delete()"
   ]
  },
  {
   "cell_type": "code",
   "execution_count": 24,
   "metadata": {},
   "outputs": [
    {
     "data": {
      "text/plain": [
       "array([1, 3, 4, 5, 6, 7, 8, 9])"
      ]
     },
     "execution_count": 24,
     "metadata": {},
     "output_type": "execute_result"
    }
   ],
   "source": [
    "np.delete(a,1) # a배열 1열을 삭제 (1차원 배열로 변환 후)"
   ]
  },
  {
   "cell_type": "code",
   "execution_count": 25,
   "metadata": {},
   "outputs": [
    {
     "data": {
      "text/plain": [
       "array([[1, 2, 3],\n",
       "       [7, 8, 9]])"
      ]
     },
     "execution_count": 25,
     "metadata": {},
     "output_type": "execute_result"
    }
   ],
   "source": [
    "np.delete(a,1,axis = 0) # a배열 1행을 삭제"
   ]
  },
  {
   "cell_type": "code",
   "execution_count": 26,
   "metadata": {},
   "outputs": [
    {
     "data": {
      "text/plain": [
       "array([[1, 3],\n",
       "       [4, 6],\n",
       "       [7, 9]])"
      ]
     },
     "execution_count": 26,
     "metadata": {},
     "output_type": "execute_result"
    }
   ],
   "source": [
    "np.delete(a,1,axis = 1) # a배열 1열을 삭제"
   ]
  },
  {
   "cell_type": "markdown",
   "metadata": {},
   "source": [
    "# NumPy 분석 실습"
   ]
  },
  {
   "cell_type": "markdown",
   "metadata": {},
   "source": [
    "- 주요 데이터 형식으로 text file, excel file, json/XML file로 데이터를 제공\n",
    "- CSV (Comma Separated Value) : 데이터 항목을 ','로 분리한 파일\n",
    "- TSV (Tab Separated Value) : 데이터 항목을 'tab'으로 분리한 파일"
   ]
  },
  {
   "cell_type": "markdown",
   "metadata": {},
   "source": [
    "### 1. 데이터 저장을 위한 파이썬  list 변수 정의"
   ]
  },
  {
   "cell_type": "code",
   "execution_count": 31,
   "metadata": {},
   "outputs": [],
   "source": [
    "orders = []\n",
    "names = []\n",
    "heights = []"
   ]
  },
  {
   "cell_type": "markdown",
   "metadata": {},
   "source": [
    "### 2. 데이터 읽기"
   ]
  },
  {
   "cell_type": "code",
   "execution_count": 32,
   "metadata": {},
   "outputs": [],
   "source": [
    "with open('president_heights.csv','r') as f:\n",
    "    lines = f.readline() # 제목줄 skip\n",
    "    lines = f.readline() # 실제 필요한 데이터\n",
    "    while lines: # EOF가 될때까지 반복\n",
    "        #print(lines)\n",
    "        data = lines.split(',')\n",
    "        #print(data)\n",
    "        \n",
    "        orders.append(data[0])\n",
    "        names.append(data[1])\n",
    "        heights.append(int(data[2][:3]))\n",
    "        \n",
    "        lines = f.readline()"
   ]
  },
  {
   "cell_type": "markdown",
   "metadata": {},
   "source": [
    "###  읽어드린 데이터의 일부 데이터 확인( 처음 5개, 마지막 5개)"
   ]
  },
  {
   "cell_type": "code",
   "execution_count": 33,
   "metadata": {},
   "outputs": [
    {
     "data": {
      "text/plain": [
       "(['1', '2', '3', '4', '5'], ['40', '41', '42', '43', '44'])"
      ]
     },
     "execution_count": 33,
     "metadata": {},
     "output_type": "execute_result"
    }
   ],
   "source": [
    "orders[:5], orders[len(orders)-5:]"
   ]
  },
  {
   "cell_type": "code",
   "execution_count": 34,
   "metadata": {},
   "outputs": [
    {
     "data": {
      "text/plain": [
       "(['George Washington',\n",
       "  'John Adams',\n",
       "  'Thomas Jefferson',\n",
       "  'James Madison',\n",
       "  'James Monroe'],\n",
       " ['Ronald Reagan',\n",
       "  'George H. W. Bush',\n",
       "  'Bill Clinton',\n",
       "  'George W. Bush',\n",
       "  'Barack Obama'])"
      ]
     },
     "execution_count": 34,
     "metadata": {},
     "output_type": "execute_result"
    }
   ],
   "source": [
    "names[:5], names[len(names)-5:]"
   ]
  },
  {
   "cell_type": "code",
   "execution_count": 36,
   "metadata": {},
   "outputs": [
    {
     "data": {
      "text/plain": [
       "([189, 170, 189, 163, 183], [185, 188, 188, 182, 185])"
      ]
     },
     "execution_count": 36,
     "metadata": {},
     "output_type": "execute_result"
    }
   ],
   "source": [
    "heights[:5], heights[len(heights)-5:]"
   ]
  },
  {
   "cell_type": "markdown",
   "metadata": {},
   "source": [
    "### 4.NumPy 배열로 변환"
   ]
  },
  {
   "cell_type": "code",
   "execution_count": 41,
   "metadata": {},
   "outputs": [],
   "source": [
    "order_array = np.array(orders)\n",
    "name_array = np.array(names)\n",
    "height_array = np.array(heights)"
   ]
  },
  {
   "cell_type": "code",
   "execution_count": 42,
   "metadata": {},
   "outputs": [
    {
     "name": "stdout",
     "output_type": "stream",
     "text": [
      "type = <class 'numpy.ndarray'>\n",
      "shape = (42,), dimension = 1dtype = <U2\n",
      "Array's data:\n",
      " ['1' '2' '3' '4' '5' '6' '7' '8' '9' '10' '11' '12' '13' '14' '15' '16'\n",
      " '17' '18' '19' '20' '21' '23' '25' '26' '27' '28' '29' '30' '31' '32'\n",
      " '33' '34' '35' '36' '37' '38' '39' '40' '41' '42' '43' '44']\n"
     ]
    }
   ],
   "source": [
    "asprint(order_array)"
   ]
  },
  {
   "cell_type": "code",
   "execution_count": 43,
   "metadata": {},
   "outputs": [
    {
     "name": "stdout",
     "output_type": "stream",
     "text": [
      "type = <class 'numpy.ndarray'>\n",
      "shape = (42,), dimension = 1dtype = <U22\n",
      "Array's data:\n",
      " ['George Washington' 'John Adams' 'Thomas Jefferson' 'James Madison'\n",
      " 'James Monroe' 'John Quincy Adams' 'Andrew Jackson' 'Martin Van Buren'\n",
      " 'William Henry Harrison' 'John Tyler' 'James K. Polk' 'Zachary Taylor'\n",
      " 'Millard Fillmore' 'Franklin Pierce' 'James Buchanan' 'Abraham Lincoln'\n",
      " 'Andrew Johnson' 'Ulysses S. Grant' 'Rutherford B. Hayes'\n",
      " 'James A. Garfield' 'Chester A. Arthur' 'Benjamin Harrison'\n",
      " 'William McKinley' 'Theodore Roosevelt' 'William Howard Taft'\n",
      " 'Woodrow Wilson' 'Warren G. Harding' 'Calvin Coolidge' 'Herbert Hoover'\n",
      " 'Franklin D. Roosevelt' 'Harry S. Truman' 'Dwight D. Eisenhower'\n",
      " 'John F. Kennedy' 'Lyndon B. Johnson' 'Richard Nixon' 'Gerald Ford'\n",
      " 'Jimmy Carter' 'Ronald Reagan' 'George H. W. Bush' 'Bill Clinton'\n",
      " 'George W. Bush' 'Barack Obama']\n"
     ]
    }
   ],
   "source": [
    "asprint(name_array)"
   ]
  },
  {
   "cell_type": "code",
   "execution_count": 44,
   "metadata": {},
   "outputs": [
    {
     "name": "stdout",
     "output_type": "stream",
     "text": [
      "type = <class 'numpy.ndarray'>\n",
      "shape = (42,), dimension = 1dtype = int32\n",
      "Array's data:\n",
      " [189 170 189 163 183 171 185 168 173 183 173 173 175 178 183 193 178 173\n",
      " 174 183 183 168 170 178 182 180 183 178 182 188 175 179 183 193 182 183\n",
      " 177 185 188 188 182 185]\n"
     ]
    }
   ],
   "source": [
    "asprint(height_array)"
   ]
  },
  {
   "cell_type": "markdown",
   "metadata": {},
   "source": [
    "###  5. NumPy 제공 함수를 이용한 데이터 이해"
   ]
  },
  {
   "cell_type": "code",
   "execution_count": 48,
   "metadata": {},
   "outputs": [
    {
     "name": "stdout",
     "output_type": "stream",
     "text": [
      "최소 신장 : 163 cm\n",
      "최고 신장 : 193 cm\n",
      "\n",
      "평균 신장 : 179.74 cm\n",
      "분     산 : 48.05\n",
      "표준 편차 : 6.93\n",
      "\n",
      "1사분위수 : 174.25 cm\n",
      "2사분위수 : 182.0 cm\n",
      "중 앙 값  : 182.0 cm\n",
      "3사분위수 : 183.0 cm\n",
      "4사분위수 : 193.0 cm\n"
     ]
    }
   ],
   "source": [
    "print(f'최소 신장 : {height_array.min()} cm')\n",
    "print(f'최고 신장 : {height_array.max()} cm')\n",
    "print()\n",
    "print(f'평균 신장 : {height_array.mean():.2f} cm')\n",
    "print(f'분     산 : {height_array.var():.2f}')\n",
    "print(f'표준 편차 : {height_array.std():.2f}')\n",
    "print()\n",
    "print(f'1사분위수 : {np.percentile(height_array, 25)} cm')\n",
    "print(f'2사분위수 : {np.percentile(height_array, 50)} cm')\n",
    "print(f'중 앙 값  : {np.median(height_array)} cm')\n",
    "print(f'3사분위수 : {np.percentile(height_array, 75)} cm')\n",
    "print(f'4사분위수 : {np.percentile(height_array, 100)} cm')"
   ]
  },
  {
   "cell_type": "code",
   "execution_count": 49,
   "metadata": {},
   "outputs": [
    {
     "name": "stdout",
     "output_type": "stream",
     "text": [
      "최소 신장 대통령 : 163 cm (      4     James Madison)\n"
     ]
    }
   ],
   "source": [
    "print(f'최소 신장 대통령 : {height_array.min()} cm ( \\\n",
    "     {order_array[height_array.argmin()]}\\\n",
    "     {name_array[height_array.argmin()]})')"
   ]
  },
  {
   "cell_type": "code",
   "execution_count": 50,
   "metadata": {},
   "outputs": [
    {
     "name": "stdout",
     "output_type": "stream",
     "text": [
      "최고 신장 대통령 : 193 cm (      16     Abraham Lincoln)\n"
     ]
    }
   ],
   "source": [
    "print(f'최고 신장 대통령 : {height_array.max()} cm ( \\\n",
    "     {order_array[height_array.argmax()]}\\\n",
    "     {name_array[height_array.argmax()]})')"
   ]
  },
  {
   "cell_type": "markdown",
   "metadata": {},
   "source": [
    "### 서울시 유동인구 데이터 이해 실습"
   ]
  },
  {
   "cell_type": "code",
   "execution_count": 51,
   "metadata": {},
   "outputs": [],
   "source": [
    "dates = []\n",
    "move_times = []\n",
    "ages = []\n",
    "sexs = []\n",
    "citys = []\n",
    "towns = []\n",
    "move_peoples = []"
   ]
  },
  {
   "cell_type": "code",
   "execution_count": 52,
   "metadata": {},
   "outputs": [],
   "source": [
    "with open('Floating_Population_2004.csv','r', encoding='UTF-8') as f:\n",
    "    lines = f.readline() # 제목줄 skip\n",
    "    lines = f.readline() # 실제 필요한 데이터\n",
    "    while lines: # EOF가 될때까지 반복\n",
    "        #print(lines)\n",
    "        data = lines.split('\",\"')\n",
    "        #print(data)\n",
    "        \n",
    "        dates.append(data[0][1:])\n",
    "        move_times.append(int(data[1][:5]))\n",
    "        ages.append(int(data[2]))\n",
    "        sexs.append(data[3])\n",
    "        citys.append(data[4])\n",
    "        towns.append(data[5])\n",
    "        move_peoples.append(int(data[6][:-2]))\n",
    "        \n",
    "        lines = f.readline()\n",
    "        "
   ]
  },
  {
   "cell_type": "code",
   "execution_count": 53,
   "metadata": {},
   "outputs": [
    {
     "data": {
      "text/plain": [
       "(['20200401', '20200401', '20200401', '20200401', '20200401'],\n",
       " ['20200430', '20200430', '20200430', '20200430', '20200430'])"
      ]
     },
     "execution_count": 53,
     "metadata": {},
     "output_type": "execute_result"
    }
   ],
   "source": [
    "dates[:5], dates[len(dates)-5:]"
   ]
  },
  {
   "cell_type": "code",
   "execution_count": 54,
   "metadata": {},
   "outputs": [
    {
     "data": {
      "text/plain": [
       "([0, 0, 0, 1, 1], [22, 22, 23, 23, 23])"
      ]
     },
     "execution_count": 54,
     "metadata": {},
     "output_type": "execute_result"
    }
   ],
   "source": [
    "move_times[:5], move_times[len(move_times)-5:]"
   ]
  },
  {
   "cell_type": "code",
   "execution_count": 55,
   "metadata": {},
   "outputs": [
    {
     "data": {
      "text/plain": [
       "([20, 30, 50, 30, 40], [40, 50, 20, 30, 40])"
      ]
     },
     "execution_count": 55,
     "metadata": {},
     "output_type": "execute_result"
    }
   ],
   "source": [
    "ages[:5], ages[len(ages)-5:]"
   ]
  },
  {
   "cell_type": "code",
   "execution_count": 56,
   "metadata": {},
   "outputs": [
    {
     "data": {
      "text/plain": [
       "(['남성', '여성', '남성', '여성', '남성'], ['여성', '여성', '여성', '여성', '남성'])"
      ]
     },
     "execution_count": 56,
     "metadata": {},
     "output_type": "execute_result"
    }
   ],
   "source": [
    "sexs[:5], sexs[len(sexs)-5:]"
   ]
  },
  {
   "cell_type": "code",
   "execution_count": 57,
   "metadata": {},
   "outputs": [
    {
     "data": {
      "text/plain": [
       "(['서울', '서울', '서울', '서울', '서울'], ['서울', '서울', '서울', '서울', '서울'])"
      ]
     },
     "execution_count": 57,
     "metadata": {},
     "output_type": "execute_result"
    }
   ],
   "source": [
    "citys[:5], citys[len(citys)-5:]"
   ]
  },
  {
   "cell_type": "code",
   "execution_count": 58,
   "metadata": {},
   "outputs": [
    {
     "data": {
      "text/plain": [
       "(['도봉구', '동대문구', '구로구', '강남구', '동대문구'], ['성동구', '서대문구', '용산구', '서대문구', '강남구'])"
      ]
     },
     "execution_count": 58,
     "metadata": {},
     "output_type": "execute_result"
    }
   ],
   "source": [
    "towns[:5], towns[len(towns)-5:]"
   ]
  },
  {
   "cell_type": "code",
   "execution_count": 59,
   "metadata": {},
   "outputs": [
    {
     "data": {
      "text/plain": [
       "([21490, 27260, 35670, 52380, 28420], [22150, 23270, 18570, 21100, 45730])"
      ]
     },
     "execution_count": 59,
     "metadata": {},
     "output_type": "execute_result"
    }
   ],
   "source": [
    "move_peoples[:5], move_peoples[len(move_peoples)-5:]"
   ]
  },
  {
   "cell_type": "code",
   "execution_count": 60,
   "metadata": {},
   "outputs": [],
   "source": [
    "date_array = np.array(dates)\n",
    "move_time_array = np.array(move_times)\n",
    "age_array = np.array(ages)\n",
    "sex_array = np.array(sexs)\n",
    "city_array = np.array(citys)\n",
    "town_array = np.array(towns)\n",
    "move_people_array = np.array(move_peoples)"
   ]
  },
  {
   "cell_type": "code",
   "execution_count": 61,
   "metadata": {},
   "outputs": [
    {
     "name": "stdout",
     "output_type": "stream",
     "text": [
      "type = <class 'numpy.ndarray'>\n",
      "shape = (216000,), dimension = 1dtype = <U8\n",
      "Array's data:\n",
      " ['20200401' '20200401' '20200401' ... '20200430' '20200430' '20200430']\n"
     ]
    }
   ],
   "source": [
    "asprint(date_array)"
   ]
  },
  {
   "cell_type": "code",
   "execution_count": 62,
   "metadata": {},
   "outputs": [
    {
     "name": "stdout",
     "output_type": "stream",
     "text": [
      "type = <class 'numpy.ndarray'>\n",
      "shape = (216000,), dimension = 1dtype = int32\n",
      "Array's data:\n",
      " [ 0  0  0 ... 23 23 23]\n"
     ]
    }
   ],
   "source": [
    "asprint(move_time_array)"
   ]
  },
  {
   "cell_type": "code",
   "execution_count": 63,
   "metadata": {},
   "outputs": [
    {
     "name": "stdout",
     "output_type": "stream",
     "text": [
      "type = <class 'numpy.ndarray'>\n",
      "shape = (216000,), dimension = 1dtype = int32\n",
      "Array's data:\n",
      " [20 30 50 ... 20 30 40]\n"
     ]
    }
   ],
   "source": [
    "asprint(age_array)"
   ]
  },
  {
   "cell_type": "code",
   "execution_count": 64,
   "metadata": {},
   "outputs": [
    {
     "name": "stdout",
     "output_type": "stream",
     "text": [
      "type = <class 'numpy.ndarray'>\n",
      "shape = (216000,), dimension = 1dtype = <U2\n",
      "Array's data:\n",
      " ['남성' '여성' '남성' ... '여성' '여성' '남성']\n"
     ]
    }
   ],
   "source": [
    "asprint(sex_array)"
   ]
  },
  {
   "cell_type": "code",
   "execution_count": 65,
   "metadata": {},
   "outputs": [
    {
     "name": "stdout",
     "output_type": "stream",
     "text": [
      "type = <class 'numpy.ndarray'>\n",
      "shape = (216000,), dimension = 1dtype = <U2\n",
      "Array's data:\n",
      " ['서울' '서울' '서울' ... '서울' '서울' '서울']\n"
     ]
    }
   ],
   "source": [
    "asprint(city_array)"
   ]
  },
  {
   "cell_type": "code",
   "execution_count": 66,
   "metadata": {},
   "outputs": [
    {
     "name": "stdout",
     "output_type": "stream",
     "text": [
      "type = <class 'numpy.ndarray'>\n",
      "shape = (216000,), dimension = 1dtype = <U4\n",
      "Array's data:\n",
      " ['도봉구' '동대문구' '구로구' ... '용산구' '서대문구' '강남구']\n"
     ]
    }
   ],
   "source": [
    "asprint(town_array)"
   ]
  },
  {
   "cell_type": "code",
   "execution_count": 67,
   "metadata": {},
   "outputs": [
    {
     "name": "stdout",
     "output_type": "stream",
     "text": [
      "type = <class 'numpy.ndarray'>\n",
      "shape = (216000,), dimension = 1dtype = int32\n",
      "Array's data:\n",
      " [21490 27260 35670 ... 18570 21100 45730]\n"
     ]
    }
   ],
   "source": [
    "asprint(move_people_array)"
   ]
  },
  {
   "cell_type": "code",
   "execution_count": 68,
   "metadata": {},
   "outputs": [
    {
     "name": "stdout",
     "output_type": "stream",
     "text": [
      "최소 : 4380 명\n",
      "최고 : 120640 명\n",
      "\n",
      "평균 : 27267.77 명\n",
      "분산 : 155760322.70\n",
      "표준 편차 : 12480.40\n",
      "\n",
      "1사분위수 : 18070.0 명\n",
      "2사분위수 : 25470.0 명\n",
      "중 앙 값  : 25470.0 명\n",
      "3사분위수 : 34090.0 명\n",
      "4사분위수 : 120640.0 명\n"
     ]
    }
   ],
   "source": [
    "print(f'최소 : {move_people_array.min()} 명')\n",
    "print(f'최고 : {move_people_array.max()} 명')\n",
    "print()\n",
    "print(f'평균 : {move_people_array.mean():.2f} 명')\n",
    "print(f'분산 : {move_people_array.var():.2f}')\n",
    "print(f'표준 편차 : {move_people_array.std():.2f}')\n",
    "print()\n",
    "print(f'1사분위수 : {np.percentile(move_people_array, 25)} 명')\n",
    "print(f'2사분위수 : {np.percentile(move_people_array, 50)} 명')\n",
    "print(f'중 앙 값  : {np.median(move_people_array)} 명')\n",
    "print(f'3사분위수 : {np.percentile(move_people_array, 75)} 명')\n",
    "print(f'4사분위수 : {np.percentile(move_people_array, 100)} 명')"
   ]
  },
  {
   "cell_type": "code",
   "execution_count": 69,
   "metadata": {},
   "outputs": [
    {
     "name": "stdout",
     "output_type": "stream",
     "text": [
      "최소 : 4380 명 (      20200426     3     70     남성     서울     중구)\n"
     ]
    }
   ],
   "source": [
    "print(f'최소 : {move_people_array.min()} 명 ( \\\n",
    "     {date_array[move_people_array.argmin()]}\\\n",
    "     {move_time_array[move_people_array.argmin()]}\\\n",
    "     {age_array[move_people_array.argmin()]}\\\n",
    "     {sex_array[move_people_array.argmin()]}\\\n",
    "     {city_array[move_people_array.argmin()]}\\\n",
    "     {town_array[move_people_array.argmin()]})')"
   ]
  },
  {
   "cell_type": "code",
   "execution_count": 70,
   "metadata": {},
   "outputs": [
    {
     "name": "stdout",
     "output_type": "stream",
     "text": [
      "최고 : 120640 명 (      20200428     14     30     여성     서울     강남구)\n"
     ]
    }
   ],
   "source": [
    "print(f'최고 : {move_people_array.max()} 명 ( \\\n",
    "     {date_array[move_people_array.argmax()]}\\\n",
    "     {move_time_array[move_people_array.argmax()]}\\\n",
    "     {age_array[move_people_array.argmax()]}\\\n",
    "     {sex_array[move_people_array.argmax()]}\\\n",
    "     {city_array[move_people_array.argmax()]}\\\n",
    "     {town_array[move_people_array.argmax()]})')"
   ]
  }
 ],
 "metadata": {
  "kernelspec": {
   "display_name": "Python 3",
   "language": "python",
   "name": "python3"
  },
  "language_info": {
   "codemirror_mode": {
    "name": "ipython",
    "version": 3
   },
   "file_extension": ".py",
   "mimetype": "text/x-python",
   "name": "python",
   "nbconvert_exporter": "python",
   "pygments_lexer": "ipython3",
   "version": "3.8.8"
  }
 },
 "nbformat": 4,
 "nbformat_minor": 4
}
