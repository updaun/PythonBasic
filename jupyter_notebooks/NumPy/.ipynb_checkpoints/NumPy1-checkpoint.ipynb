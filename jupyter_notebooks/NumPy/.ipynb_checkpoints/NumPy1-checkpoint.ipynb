{
 "cells": [
  {
   "cell_type": "markdown",
   "metadata": {},
   "source": [
    "### NumPy : 배열( 동일 자료형 집합 ) 처리, 배열 처리 함수"
   ]
  },
  {
   "cell_type": "code",
   "execution_count": 1,
   "metadata": {},
   "outputs": [
    {
     "name": "stdout",
     "output_type": "stream",
     "text": [
      "Loading channels: ...working... done\n",
      "# Name                       Version           Build  Channel             \n",
      "numpy                          1.9.3  py27he0c0ee4_6  pkgs/main           \n",
      "numpy                          1.9.3  py27he0c0ee4_7  pkgs/main           \n",
      "numpy                          1.9.3  py27he78448b_2  pkgs/main           \n",
      "numpy                          1.9.3  py35h0e52b17_2  pkgs/main           \n",
      "numpy                          1.9.3  py35hd5b3723_7  pkgs/main           \n",
      "numpy                          1.9.3  py36hd5b3723_5  pkgs/main           \n",
      "numpy                          1.9.3  py36hd5b3723_6  pkgs/main           \n",
      "numpy                          1.9.3  py36hd5b3723_7  pkgs/main           \n",
      "numpy                          1.9.3  py37hd5b3723_5  pkgs/main           \n",
      "numpy                          1.9.3  py37hd5b3723_6  pkgs/main           \n",
      "numpy                          1.9.3  py37hd5b3723_7  pkgs/main           \n",
      "numpy                         1.11.3 py27h239e66a_11  pkgs/main           \n",
      "numpy                         1.11.3 py27h239e66a_12  pkgs/main           \n",
      "numpy                         1.11.3  py27hab9e983_3  pkgs/main           \n",
      "numpy                         1.11.3  py27hc2d41ba_9  pkgs/main           \n",
      "numpy                         1.11.3 py27hc42714f_10  pkgs/main           \n",
      "numpy                         1.11.3  py27he0c0ee4_7  pkgs/main           \n",
      "numpy                         1.11.3  py27he0c0ee4_8  pkgs/main           \n",
      "numpy                         1.11.3  py27he0c0ee4_9  pkgs/main           \n",
      "numpy                         1.11.3  py27hfef472a_4  pkgs/main           \n",
      "numpy                         1.11.3  py35h4a99626_4  pkgs/main           \n",
      "numpy                         1.11.3  py35h4fc39be_3  pkgs/main           \n",
      "numpy                         1.11.3 py35h53ece5f_10  pkgs/main           \n",
      "numpy                         1.11.3  py35h6707678_9  pkgs/main           \n",
      "numpy                         1.11.3  py35hd5b3723_8  pkgs/main           \n",
      "numpy                         1.11.3  py35hd5b3723_9  pkgs/main           \n",
      "numpy                         1.11.3 py36h0aa5519_11  pkgs/main           \n",
      "numpy                         1.11.3 py36h35d8231_12  pkgs/main           \n",
      "numpy                         1.11.3  py36h4a99626_4  pkgs/main           \n",
      "numpy                         1.11.3 py36h53ece5f_10  pkgs/main           \n",
      "numpy                         1.11.3 py36h53ece5f_11  pkgs/main           \n",
      "numpy                         1.11.3  py36h6707678_9  pkgs/main           \n",
      "numpy                         1.11.3  py36hb60be0b_3  pkgs/main           \n",
      "numpy                         1.11.3  py36hd5b3723_7  pkgs/main           \n",
      "numpy                         1.11.3  py36hd5b3723_8  pkgs/main           \n",
      "numpy                         1.11.3  py36hd5b3723_9  pkgs/main           \n",
      "numpy                         1.11.3 py37h0aa5519_11  pkgs/main           \n",
      "numpy                         1.11.3 py37h35d8231_12  pkgs/main           \n",
      "numpy                         1.11.3 py37h53ece5f_10  pkgs/main           \n",
      "numpy                         1.11.3 py37h53ece5f_11  pkgs/main           \n",
      "numpy                         1.11.3  py37h6707678_9  pkgs/main           \n",
      "numpy                         1.11.3  py37hd5b3723_7  pkgs/main           \n",
      "numpy                         1.11.3  py37hd5b3723_8  pkgs/main           \n",
      "numpy                         1.11.3  py37hd5b3723_9  pkgs/main           \n",
      "numpy                         1.11.3 py38h35d8231_12  pkgs/main           \n",
      "numpy                         1.12.1  py27hd776778_1  pkgs/main           \n",
      "numpy                         1.12.1  py35h02c1717_1  pkgs/main           \n",
      "numpy                         1.12.1  py36hf30b8aa_1  pkgs/main           \n",
      "numpy                         1.13.1  py27h0f1b411_2  pkgs/main           \n",
      "numpy                         1.13.1  py35h9801081_2  pkgs/main           \n",
      "numpy                         1.13.1  py36haf1bc54_2  pkgs/main           \n",
      "numpy                         1.13.3  py27h0bb1d87_4  pkgs/main           \n",
      "numpy                         1.13.3  py27h9ac254c_0  pkgs/main           \n",
      "numpy                         1.13.3  py27hda5cba4_3  pkgs/main           \n",
      "numpy                         1.13.3  py27hfef472a_2  pkgs/main           \n",
      "numpy                         1.13.3  py35h4a99626_2  pkgs/main           \n",
      "numpy                         1.13.3  py35h5c71026_4  pkgs/main           \n",
      "numpy                         1.13.3  py35hb69e940_3  pkgs/main           \n",
      "numpy                         1.13.3  py35hb7e80fb_0  pkgs/main           \n",
      "numpy                         1.13.3  py36h4a99626_2  pkgs/main           \n",
      "numpy                         1.13.3  py36h5c71026_4  pkgs/main           \n",
      "numpy                         1.13.3  py36ha320f96_0  pkgs/main           \n",
      "numpy                         1.13.3  py36hb69e940_3  pkgs/main           \n",
      "numpy                         1.13.3  py38h53689ba_4  pkgs/main           \n",
      "numpy                         1.14.0  py27hda5cba4_2  pkgs/main           \n",
      "numpy                         1.14.0  py27hfef472a_0  pkgs/main           \n",
      "numpy                         1.14.0  py27hfef472a_1  pkgs/main           \n",
      "numpy                         1.14.0  py35h4a99626_0  pkgs/main           \n",
      "numpy                         1.14.0  py35h4a99626_1  pkgs/main           \n",
      "numpy                         1.14.0  py35hb69e940_2  pkgs/main           \n",
      "numpy                         1.14.0  py36h4a99626_0  pkgs/main           \n",
      "numpy                         1.14.0  py36h4a99626_1  pkgs/main           \n",
      "numpy                         1.14.0  py36hb69e940_2  pkgs/main           \n",
      "numpy                         1.14.1  py27hda5cba4_2  pkgs/main           \n",
      "numpy                         1.14.1  py27hfef472a_1  pkgs/main           \n",
      "numpy                         1.14.1  py35h4a99626_1  pkgs/main           \n",
      "numpy                         1.14.1  py35hb69e940_2  pkgs/main           \n",
      "numpy                         1.14.1  py36h4a99626_1  pkgs/main           \n",
      "numpy                         1.14.1  py36hb69e940_2  pkgs/main           \n",
      "numpy                         1.14.2  py27h0bb1d87_0  pkgs/main           \n",
      "numpy                         1.14.2  py27h0bb1d87_1  pkgs/main           \n",
      "numpy                         1.14.2  py35h5c71026_0  pkgs/main           \n",
      "numpy                         1.14.2  py35h5c71026_1  pkgs/main           \n",
      "numpy                         1.14.2  py36h5c71026_0  pkgs/main           \n",
      "numpy                         1.14.2  py36h5c71026_1  pkgs/main           \n",
      "numpy                         1.14.3  py27h911edcf_1  pkgs/main           \n",
      "numpy                         1.14.3  py35h9fa60d3_1  pkgs/main           \n",
      "numpy                         1.14.3  py36h9fa60d3_1  pkgs/main           \n",
      "numpy                         1.14.4  py27h911edcf_0  pkgs/main           \n",
      "numpy                         1.14.4  py35h9fa60d3_0  pkgs/main           \n",
      "numpy                         1.14.4  py36h9fa60d3_0  pkgs/main           \n",
      "numpy                         1.14.5  py27h911edcf_0  pkgs/main           \n",
      "numpy                         1.14.5  py27h911edcf_1  pkgs/main           \n",
      "numpy                         1.14.5  py27h911edcf_2  pkgs/main           \n",
      "numpy                         1.14.5  py27h911edcf_3  pkgs/main           \n",
      "numpy                         1.14.5  py27h911edcf_4  pkgs/main           \n",
      "numpy                         1.14.5  py35h9fa60d3_0  pkgs/main           \n",
      "numpy                         1.14.5  py35h9fa60d3_4  pkgs/main           \n",
      "numpy                         1.14.5  py36h9fa60d3_0  pkgs/main           \n",
      "numpy                         1.14.5  py36h9fa60d3_1  pkgs/main           \n",
      "numpy                         1.14.5  py36h9fa60d3_2  pkgs/main           \n",
      "numpy                         1.14.5  py36h9fa60d3_3  pkgs/main           \n",
      "numpy                         1.14.5  py36h9fa60d3_4  pkgs/main           \n",
      "numpy                         1.14.5  py37h9fa60d3_0  pkgs/main           \n",
      "numpy                         1.14.5  py37h9fa60d3_1  pkgs/main           \n",
      "numpy                         1.14.5  py37h9fa60d3_2  pkgs/main           \n",
      "numpy                         1.14.5  py37h9fa60d3_3  pkgs/main           \n",
      "numpy                         1.14.5  py37h9fa60d3_4  pkgs/main           \n"
     ]
    },
    {
     "name": "stdout",
     "output_type": "stream",
     "text": [
      "numpy                         1.14.6  py27h22e7547_4  pkgs/main           \n",
      "numpy                         1.14.6  py27h22e7547_5  pkgs/main           \n",
      "numpy                         1.14.6  py35hc27ee41_4  pkgs/main           \n",
      "numpy                         1.14.6  py36ha06f490_5  pkgs/main           \n",
      "numpy                         1.14.6  py36hc27ee41_4  pkgs/main           \n",
      "numpy                         1.14.6  py37ha06f490_5  pkgs/main           \n",
      "numpy                         1.14.6  py37hc27ee41_4  pkgs/main           \n",
      "numpy                         1.14.6  py38h59abe10_4  pkgs/main           \n",
      "numpy                         1.15.0  py27h911edcf_0  pkgs/main           \n",
      "numpy                         1.15.0  py35h9fa60d3_0  pkgs/main           \n",
      "numpy                         1.15.0  py36h9fa60d3_0  pkgs/main           \n",
      "numpy                         1.15.0  py37h9fa60d3_0  pkgs/main           \n",
      "numpy                         1.15.1  py27h22e7547_0  pkgs/main           \n",
      "numpy                         1.15.1  py27hbe4291b_0  pkgs/main           \n",
      "numpy                         1.15.1  py35ha559c80_0  pkgs/main           \n",
      "numpy                         1.15.1  py35hc27ee41_0  pkgs/main           \n",
      "numpy                         1.15.1  py36ha559c80_0  pkgs/main           \n",
      "numpy                         1.15.1  py36hc27ee41_0  pkgs/main           \n",
      "numpy                         1.15.1  py37ha559c80_0  pkgs/main           \n",
      "numpy                         1.15.1  py37hc27ee41_0  pkgs/main           \n",
      "numpy                         1.15.2  py27hbe4291b_0  pkgs/main           \n",
      "numpy                         1.15.2  py27hbe4291b_1  pkgs/main           \n",
      "numpy                         1.15.2  py35ha559c80_0  pkgs/main           \n",
      "numpy                         1.15.2  py36ha559c80_0  pkgs/main           \n",
      "numpy                         1.15.2  py37ha559c80_0  pkgs/main           \n",
      "numpy                         1.15.3  py27hbe4291b_0  pkgs/main           \n",
      "numpy                         1.15.3  py36ha559c80_0  pkgs/main           \n",
      "numpy                         1.15.3  py37ha559c80_0  pkgs/main           \n",
      "numpy                         1.15.4  py27h5fc8d92_0  pkgs/main           \n",
      "numpy                         1.15.4  py27hbe4291b_0  pkgs/main           \n",
      "numpy                         1.15.4  py36h19fb1c0_0  pkgs/main           \n",
      "numpy                         1.15.4  py36ha559c80_0  pkgs/main           \n",
      "numpy                         1.15.4  py37h19fb1c0_0  pkgs/main           \n",
      "numpy                         1.15.4  py37ha559c80_0  pkgs/main           \n",
      "numpy                         1.16.0  py27h5fc8d92_0  pkgs/main           \n",
      "numpy                         1.16.0  py27h5fc8d92_1  pkgs/main           \n",
      "numpy                         1.16.0  py36h19fb1c0_0  pkgs/main           \n",
      "numpy                         1.16.0  py36h19fb1c0_1  pkgs/main           \n",
      "numpy                         1.16.0  py37h19fb1c0_0  pkgs/main           \n",
      "numpy                         1.16.0  py37h19fb1c0_1  pkgs/main           \n",
      "numpy                         1.16.1  py27h5fc8d92_0  pkgs/main           \n",
      "numpy                         1.16.1  py27h5fc8d92_1  pkgs/main           \n",
      "numpy                         1.16.1  py36h19fb1c0_0  pkgs/main           \n",
      "numpy                         1.16.1  py36h19fb1c0_1  pkgs/main           \n",
      "numpy                         1.16.1  py37h19fb1c0_0  pkgs/main           \n",
      "numpy                         1.16.1  py37h19fb1c0_1  pkgs/main           \n",
      "numpy                         1.16.2  py27h5fc8d92_0  pkgs/main           \n",
      "numpy                         1.16.2  py36h19fb1c0_0  pkgs/main           \n",
      "numpy                         1.16.2  py37h19fb1c0_0  pkgs/main           \n",
      "numpy                         1.16.3  py27h5fc8d92_0  pkgs/main           \n",
      "numpy                         1.16.3  py36h19fb1c0_0  pkgs/main           \n",
      "numpy                         1.16.3  py37h19fb1c0_0  pkgs/main           \n",
      "numpy                         1.16.4  py36h19fb1c0_0  pkgs/main           \n",
      "numpy                         1.16.4  py37h19fb1c0_0  pkgs/main           \n",
      "numpy                         1.16.5  py27h5fc8d92_0  pkgs/main           \n",
      "numpy                         1.16.5  py36h19fb1c0_0  pkgs/main           \n",
      "numpy                         1.16.5  py37h19fb1c0_0  pkgs/main           \n",
      "numpy                         1.16.6  py27hcd21bde_0  pkgs/main           \n",
      "numpy                         1.16.6  py36h5510c5b_0  pkgs/main           \n",
      "numpy                         1.16.6  py36ha4e8547_3  pkgs/main           \n",
      "numpy                         1.16.6  py37h5510c5b_0  pkgs/main           \n",
      "numpy                         1.16.6  py37ha4e8547_3  pkgs/main           \n",
      "numpy                         1.16.6  py38h5510c5b_0  pkgs/main           \n",
      "numpy                         1.16.6  py38ha4e8547_3  pkgs/main           \n",
      "numpy                         1.16.6  py39h729668d_1  pkgs/main           \n",
      "numpy                         1.16.6  py39ha4e8547_3  pkgs/main           \n",
      "numpy                         1.17.0  py36h19fb1c0_0  pkgs/r              \n",
      "numpy                         1.17.0  py37h19fb1c0_0  pkgs/r              \n",
      "numpy                         1.17.2  py36hc73f44b_0  pkgs/main           \n",
      "numpy                         1.17.2  py37hc73f44b_0  pkgs/main           \n",
      "numpy                         1.17.3  py36h4ceb530_0  pkgs/main           \n",
      "numpy                         1.17.3  py37h4ceb530_0  pkgs/main           \n",
      "numpy                         1.17.4  py36h4320e6b_0  pkgs/main           \n",
      "numpy                         1.17.4  py37h4320e6b_0  pkgs/main           \n",
      "numpy                         1.17.4  py38h4320e6b_0  pkgs/main           \n",
      "numpy                         1.18.1  py36h93ca92e_0  pkgs/main           \n",
      "numpy                         1.18.1  py37h93ca92e_0  pkgs/main           \n",
      "numpy                         1.18.1  py38h93ca92e_0  pkgs/main           \n",
      "numpy                         1.18.5  py36h6530119_0  pkgs/main           \n",
      "numpy                         1.18.5  py37h6530119_0  pkgs/main           \n",
      "numpy                         1.18.5  py38h6530119_0  pkgs/main           \n",
      "numpy                         1.19.1  py36h5510c5b_0  pkgs/main           \n",
      "numpy                         1.19.1  py37h5510c5b_0  pkgs/main           \n",
      "numpy                         1.19.1  py38h5510c5b_0  pkgs/main           \n",
      "numpy                         1.19.2  py36hadc3359_0  pkgs/main           \n",
      "numpy                         1.19.2  py37hadc3359_0  pkgs/main           \n",
      "numpy                         1.19.2  py38hadc3359_0  pkgs/main           \n",
      "numpy                         1.19.2  py39h729668d_0  pkgs/main           \n",
      "numpy                         1.20.1  py37h34a8a5c_0  pkgs/main           \n",
      "numpy                         1.20.1  py38h34a8a5c_0  pkgs/main           \n",
      "numpy                         1.20.1  py39h34a8a5c_0  pkgs/main           \n"
     ]
    }
   ],
   "source": [
    "!conda search numpy"
   ]
  },
  {
   "cell_type": "markdown",
   "metadata": {},
   "source": [
    "### Pandas : 데이터 분석용 라이브러리"
   ]
  },
  {
   "cell_type": "code",
   "execution_count": 2,
   "metadata": {},
   "outputs": [
    {
     "name": "stdout",
     "output_type": "stream",
     "text": [
      "Loading channels: ...working... done\n",
      "# Name                       Version           Build  Channel             \n",
      "pandas                        0.20.3  py27he04484b_2  pkgs/main           \n",
      "pandas                        0.20.3  py35he2ce742_2  pkgs/main           \n",
      "pandas                        0.20.3  py36hce827b7_2  pkgs/main           \n",
      "pandas                        0.21.0  py27h3b50df0_1  pkgs/main           \n",
      "pandas                        0.21.0  py27he42dcfb_0  pkgs/main           \n",
      "pandas                        0.21.0  py35h0510043_1  pkgs/main           \n",
      "pandas                        0.21.0  py35haac58f6_0  pkgs/main           \n",
      "pandas                        0.21.0  py36ha94a700_0  pkgs/main           \n",
      "pandas                        0.21.0  py36he09d4dd_1  pkgs/main           \n",
      "pandas                        0.21.1  py27h5a33001_0  pkgs/main           \n",
      "pandas                        0.21.1  py35h047fa9f_0  pkgs/main           \n",
      "pandas                        0.21.1  py36h047fa9f_0  pkgs/main           \n",
      "pandas                        0.22.0  py27hc56fc5f_0  pkgs/main           \n",
      "pandas                        0.22.0  py35h6538335_0  pkgs/main           \n",
      "pandas                        0.22.0  py36h6538335_0  pkgs/main           \n",
      "pandas                        0.23.0  py27h39f3610_0  pkgs/main           \n",
      "pandas                        0.23.0  py35h830ac7b_0  pkgs/main           \n",
      "pandas                        0.23.0  py36h830ac7b_0  pkgs/main           \n",
      "pandas                        0.23.1  py27h39f3610_0  pkgs/main           \n",
      "pandas                        0.23.1  py35h830ac7b_0  pkgs/main           \n",
      "pandas                        0.23.1  py36h830ac7b_0  pkgs/main           \n",
      "pandas                        0.23.2  py27h39f3610_0  pkgs/main           \n",
      "pandas                        0.23.2  py36h830ac7b_0  pkgs/main           \n",
      "pandas                        0.23.2  py37h830ac7b_0  pkgs/main           \n",
      "pandas                        0.23.3  py27h39f3610_0  pkgs/main           \n",
      "pandas                        0.23.3  py35h830ac7b_0  pkgs/main           \n",
      "pandas                        0.23.3  py36h830ac7b_0  pkgs/main           \n",
      "pandas                        0.23.3  py37h830ac7b_0  pkgs/main           \n",
      "pandas                        0.23.4  py27h39f3610_0  pkgs/main           \n",
      "pandas                        0.23.4  py35h830ac7b_0  pkgs/main           \n",
      "pandas                        0.23.4  py36h830ac7b_0  pkgs/main           \n",
      "pandas                        0.23.4  py37h830ac7b_0  pkgs/main           \n",
      "pandas                        0.24.0  py27hc56fc5f_0  pkgs/main           \n",
      "pandas                        0.24.0  py36ha925a31_0  pkgs/main           \n",
      "pandas                        0.24.0  py37ha925a31_0  pkgs/main           \n",
      "pandas                        0.24.1  py27hc56fc5f_0  pkgs/main           \n",
      "pandas                        0.24.1  py36ha925a31_0  pkgs/main           \n",
      "pandas                        0.24.1  py37ha925a31_0  pkgs/main           \n",
      "pandas                        0.24.2  py27hc56fc5f_0  pkgs/main           \n",
      "pandas                        0.24.2  py36ha925a31_0  pkgs/main           \n",
      "pandas                        0.24.2  py37ha925a31_0  pkgs/main           \n",
      "pandas                        0.25.0  py36ha925a31_0  pkgs/main           \n",
      "pandas                        0.25.0  py37ha925a31_0  pkgs/main           \n",
      "pandas                        0.25.1  py36ha925a31_0  pkgs/main           \n",
      "pandas                        0.25.1  py37ha925a31_0  pkgs/main           \n",
      "pandas                        0.25.2  py36ha925a31_0  pkgs/main           \n",
      "pandas                        0.25.2  py37ha925a31_0  pkgs/main           \n",
      "pandas                        0.25.3  py36ha925a31_0  pkgs/main           \n",
      "pandas                        0.25.3  py37ha925a31_0  pkgs/main           \n",
      "pandas                        0.25.3  py38ha925a31_0  pkgs/main           \n",
      "pandas                         1.0.0  py36h47e9c7a_0  pkgs/main           \n",
      "pandas                         1.0.0  py37h47e9c7a_0  pkgs/main           \n",
      "pandas                         1.0.0  py38h47e9c7a_0  pkgs/main           \n",
      "pandas                         1.0.1  py36h47e9c7a_0  pkgs/main           \n",
      "pandas                         1.0.1  py37h47e9c7a_0  pkgs/main           \n",
      "pandas                         1.0.1  py38h47e9c7a_0  pkgs/main           \n",
      "pandas                         1.0.2  py36h47e9c7a_0  pkgs/main           \n",
      "pandas                         1.0.2  py37h47e9c7a_0  pkgs/main           \n",
      "pandas                         1.0.2  py38h47e9c7a_0  pkgs/main           \n",
      "pandas                         1.0.3  py36h47e9c7a_0  pkgs/main           \n",
      "pandas                         1.0.3  py37h47e9c7a_0  pkgs/main           \n",
      "pandas                         1.0.3  py38h47e9c7a_0  pkgs/main           \n",
      "pandas                         1.0.4  py36h47e9c7a_0  pkgs/main           \n",
      "pandas                         1.0.4  py37h47e9c7a_0  pkgs/main           \n",
      "pandas                         1.0.4  py38h47e9c7a_0  pkgs/main           \n",
      "pandas                         1.0.5  py36h47e9c7a_0  pkgs/main           \n",
      "pandas                         1.0.5  py37h47e9c7a_0  pkgs/main           \n",
      "pandas                         1.0.5  py38h47e9c7a_0  pkgs/main           \n",
      "pandas                         1.1.0  py36ha925a31_0  pkgs/main           \n",
      "pandas                         1.1.0  py37ha925a31_0  pkgs/main           \n",
      "pandas                         1.1.0  py38ha925a31_0  pkgs/main           \n",
      "pandas                         1.1.1  py36ha925a31_0  pkgs/main           \n",
      "pandas                         1.1.1  py37ha925a31_0  pkgs/main           \n",
      "pandas                         1.1.1  py38ha925a31_0  pkgs/main           \n",
      "pandas                         1.1.2  py36ha925a31_0  pkgs/main           \n",
      "pandas                         1.1.2  py37ha925a31_0  pkgs/main           \n",
      "pandas                         1.1.2  py38ha925a31_0  pkgs/main           \n",
      "pandas                         1.1.3  py36ha925a31_0  pkgs/main           \n",
      "pandas                         1.1.3  py37ha925a31_0  pkgs/main           \n",
      "pandas                         1.1.3  py38ha925a31_0  pkgs/main           \n",
      "pandas                         1.1.3  py39h663e632_0  pkgs/main           \n",
      "pandas                         1.1.5  py36hd77b12b_0  pkgs/main           \n",
      "pandas                         1.1.5  py36hf11a4ad_0  pkgs/main           \n",
      "pandas                         1.1.5  py37hd77b12b_0  pkgs/main           \n",
      "pandas                         1.1.5  py37hf11a4ad_0  pkgs/main           \n",
      "pandas                         1.1.5  py38hd77b12b_0  pkgs/main           \n",
      "pandas                         1.1.5  py38hf11a4ad_0  pkgs/main           \n",
      "pandas                         1.1.5  py39hf11a4ad_0  pkgs/main           \n",
      "pandas                         1.2.0  py37hf11a4ad_0  pkgs/main           \n",
      "pandas                         1.2.0  py38hf11a4ad_0  pkgs/main           \n",
      "pandas                         1.2.0  py39hf11a4ad_0  pkgs/main           \n",
      "pandas                         1.2.1  py37hf11a4ad_0  pkgs/main           \n",
      "pandas                         1.2.1  py38hf11a4ad_0  pkgs/main           \n",
      "pandas                         1.2.1  py39hf11a4ad_0  pkgs/main           \n",
      "pandas                         1.2.2  py37hf11a4ad_0  pkgs/main           \n",
      "pandas                         1.2.2  py38hf11a4ad_0  pkgs/main           \n",
      "pandas                         1.2.2  py39hf11a4ad_0  pkgs/main           \n",
      "pandas                         1.2.3  py37hf11a4ad_0  pkgs/main           \n",
      "pandas                         1.2.3  py38hf11a4ad_0  pkgs/main           \n",
      "pandas                         1.2.3  py39hf11a4ad_0  pkgs/main           \n",
      "pandas                         1.2.4  py37hd77b12b_0  pkgs/main           \n",
      "pandas                         1.2.4  py37hf11a4ad_0  pkgs/main           \n",
      "pandas                         1.2.4  py38hd77b12b_0  pkgs/main           \n",
      "pandas                         1.2.4  py38hf11a4ad_0  pkgs/main           \n",
      "pandas                         1.2.4  py39hd77b12b_0  pkgs/main           \n",
      "pandas                         1.2.4  py39hf11a4ad_0  pkgs/main           \n"
     ]
    }
   ],
   "source": [
    "!conda search pandas"
   ]
  },
  {
   "cell_type": "markdown",
   "metadata": {},
   "source": [
    "### Matplotlib, seaborn : 데이터 시각화 라이브러리"
   ]
  },
  {
   "cell_type": "code",
   "execution_count": 3,
   "metadata": {},
   "outputs": [
    {
     "name": "stdout",
     "output_type": "stream",
     "text": [
      "Loading channels: ...working... done\n",
      "# Name                       Version           Build  Channel             \n",
      "matplotlib                     2.0.2  py27hd2e917d_1  pkgs/main           \n",
      "matplotlib                     2.0.2  py35h9bd10b2_1  pkgs/main           \n",
      "matplotlib                     2.0.2  py36h58ba717_1  pkgs/main           \n",
      "matplotlib                     2.1.0  py27h86412ea_0  pkgs/main           \n",
      "matplotlib                     2.1.0  py35hea29350_0  pkgs/main           \n",
      "matplotlib                     2.1.0  py36h11b4b9c_0  pkgs/main           \n",
      "matplotlib                     2.1.1  py27h3be7b3c_0  pkgs/main           \n",
      "matplotlib                     2.1.1  py35h2062329_0  pkgs/main           \n",
      "matplotlib                     2.1.1  py36h2062329_0  pkgs/main           \n",
      "matplotlib                     2.1.2  py27ha51faf0_0  pkgs/main           \n",
      "matplotlib                     2.1.2  py35h016c42a_0  pkgs/main           \n",
      "matplotlib                     2.1.2  py36h016c42a_0  pkgs/main           \n",
      "matplotlib                     2.2.0  py27hf8772e1_0  pkgs/main           \n",
      "matplotlib                     2.2.0  py35h4dabdea_0  pkgs/main           \n",
      "matplotlib                     2.2.0  py36h4dabdea_0  pkgs/main           \n",
      "matplotlib                     2.2.2  py27h8803d4e_0  pkgs/main           \n",
      "matplotlib                     2.2.2  py27h8803d4e_1  pkgs/main           \n",
      "matplotlib                     2.2.2  py27habb2d18_2  pkgs/main           \n",
      "matplotlib                     2.2.2  py35h153e9ff_0  pkgs/main           \n",
      "matplotlib                     2.2.2  py35h153e9ff_1  pkgs/main           \n",
      "matplotlib                     2.2.2  py35had4c4a9_2  pkgs/main           \n",
      "matplotlib                     2.2.2  py36h153e9ff_0  pkgs/main           \n",
      "matplotlib                     2.2.2  py36h153e9ff_1  pkgs/main           \n",
      "matplotlib                     2.2.2  py36had4c4a9_2  pkgs/main           \n",
      "matplotlib                     2.2.2  py37had4c4a9_2  pkgs/main           \n",
      "matplotlib                     2.2.3  py27h263d877_0  pkgs/main           \n",
      "matplotlib                     2.2.3  py35hd159220_0  pkgs/main           \n",
      "matplotlib                     2.2.3  py36hd159220_0  pkgs/main           \n",
      "matplotlib                     2.2.3  py37hd159220_0  pkgs/main           \n",
      "matplotlib                     3.0.0  py35hd159220_0  pkgs/main           \n",
      "matplotlib                     3.0.0  py36hd159220_0  pkgs/main           \n",
      "matplotlib                     3.0.0  py37hd159220_0  pkgs/main           \n",
      "matplotlib                     3.0.1  py36hc8f65d3_0  pkgs/main           \n",
      "matplotlib                     3.0.1  py37hc8f65d3_0  pkgs/main           \n",
      "matplotlib                     3.0.2  py36hc8f65d3_0  pkgs/main           \n",
      "matplotlib                     3.0.2  py37hc8f65d3_0  pkgs/main           \n",
      "matplotlib                     3.0.3  py36hc8f65d3_0  pkgs/main           \n",
      "matplotlib                     3.0.3  py37hc8f65d3_0  pkgs/main           \n",
      "matplotlib                     3.1.0  py36hc8f65d3_0  pkgs/main           \n",
      "matplotlib                     3.1.0  py37hc8f65d3_0  pkgs/main           \n",
      "matplotlib                     3.1.1  py36hc8f65d3_0  pkgs/main           \n",
      "matplotlib                     3.1.1  py37hc8f65d3_0  pkgs/main           \n",
      "matplotlib                     3.1.1  py38hc8f65d3_0  pkgs/main           \n",
      "matplotlib                     3.1.2          py36_1  pkgs/main           \n",
      "matplotlib                     3.1.2  py36h64f37c6_0  pkgs/main           \n",
      "matplotlib                     3.1.2          py37_1  pkgs/main           \n",
      "matplotlib                     3.1.2  py37h64f37c6_0  pkgs/main           \n",
      "matplotlib                     3.1.2          py38_1  pkgs/main           \n",
      "matplotlib                     3.1.2  py38h64f37c6_0  pkgs/main           \n",
      "matplotlib                     3.1.3          py36_0  pkgs/main           \n",
      "matplotlib                     3.1.3          py37_0  pkgs/main           \n",
      "matplotlib                     3.1.3          py38_0  pkgs/main           \n",
      "matplotlib                     3.2.1               0  pkgs/main           \n",
      "matplotlib                     3.2.2               0  pkgs/main           \n",
      "matplotlib                     3.3.1               0  pkgs/main           \n",
      "matplotlib                     3.3.2               0  pkgs/main           \n",
      "matplotlib                     3.3.2      haa95532_0  pkgs/main           \n",
      "matplotlib                     3.3.4  py36haa95532_0  pkgs/main           \n",
      "matplotlib                     3.3.4  py37haa95532_0  pkgs/main           \n",
      "matplotlib                     3.3.4  py38haa95532_0  pkgs/main           \n",
      "matplotlib                     3.3.4  py39haa95532_0  pkgs/main           \n"
     ]
    }
   ],
   "source": [
    "!conda search Matplotlib"
   ]
  },
  {
   "cell_type": "code",
   "execution_count": 4,
   "metadata": {},
   "outputs": [
    {
     "name": "stdout",
     "output_type": "stream",
     "text": [
      "# packages in environment at C:\\projects\\Anaconda3:\n",
      "#\n",
      "# Name                    Version                   Build  Channel\n",
      "numpy                     1.19.2           py38hadc3359_0  \n",
      "numpy-base                1.19.2           py38ha3acd2a_0  \n",
      "numpydoc                  1.1.0              pyhd3eb1b0_1  \n"
     ]
    }
   ],
   "source": [
    "!conda list numpy # python 개발환경이라면, pip list <라이브러리명>"
   ]
  },
  {
   "cell_type": "code",
   "execution_count": 5,
   "metadata": {},
   "outputs": [
    {
     "name": "stdout",
     "output_type": "stream",
     "text": [
      "# packages in environment at C:\\projects\\Anaconda3:\n",
      "#\n",
      "# Name                    Version                   Build  Channel\n",
      "pandas                    1.1.3            py38ha925a31_0  \n"
     ]
    }
   ],
   "source": [
    "!conda list pandas"
   ]
  },
  {
   "cell_type": "code",
   "execution_count": 6,
   "metadata": {},
   "outputs": [
    {
     "name": "stdout",
     "output_type": "stream",
     "text": [
      "# packages in environment at C:\\projects\\Anaconda3:\n",
      "#\n",
      "# Name                    Version                   Build  Channel\n",
      "matplotlib                3.3.2                         0  \n",
      "matplotlib-base           3.3.2            py38hba9282a_0  \n"
     ]
    }
   ],
   "source": [
    "!conda list matplotlib"
   ]
  },
  {
   "cell_type": "code",
   "execution_count": 7,
   "metadata": {},
   "outputs": [
    {
     "name": "stdout",
     "output_type": "stream",
     "text": [
      "# packages in environment at C:\\projects\\Anaconda3:\n",
      "#\n",
      "# Name                    Version                   Build  Channel\n",
      "seaborn                   0.11.0                     py_0  \n"
     ]
    }
   ],
   "source": [
    "!conda list seaborn"
   ]
  },
  {
   "cell_type": "markdown",
   "metadata": {},
   "source": [
    "## NumPy"
   ]
  },
  {
   "cell_type": "markdown",
   "metadata": {},
   "source": [
    "### NumPy Import"
   ]
  },
  {
   "cell_type": "code",
   "execution_count": 8,
   "metadata": {},
   "outputs": [],
   "source": [
    "import numpy as np # numpy는 np라는 alias를 암묵적으로 사용한다."
   ]
  },
  {
   "cell_type": "code",
   "execution_count": 9,
   "metadata": {},
   "outputs": [
    {
     "data": {
      "text/plain": [
       "'1.19.2'"
      ]
     },
     "execution_count": 9,
     "metadata": {},
     "output_type": "execute_result"
    }
   ],
   "source": [
    "np.__version__"
   ]
  },
  {
   "cell_type": "code",
   "execution_count": 10,
   "metadata": {},
   "outputs": [],
   "source": [
    "# ndarray 객체(배열) 확익용 함수\n",
    "def asprint(arr):\n",
    "    print(f'type = {type(arr)}')\n",
    "    print(f'shape = {arr.shape}, dimension = {arr.ndim}', end='')\n",
    "    print(f'dtype = {arr.dtype}')\n",
    "    print(f\"Array's data:\\n\",arr)"
   ]
  },
  {
   "cell_type": "markdown",
   "metadata": {},
   "source": [
    "## NumPy 배열 생성"
   ]
  },
  {
   "cell_type": "markdown",
   "metadata": {},
   "source": [
    "### 파이썬 list로 NumPy 배열 생성"
   ]
  },
  {
   "cell_type": "code",
   "execution_count": 11,
   "metadata": {},
   "outputs": [
    {
     "name": "stdout",
     "output_type": "stream",
     "text": [
      "type = <class 'numpy.ndarray'>\n",
      "shape = (3,), dimension = 1dtype = int32\n",
      "Array's data:\n",
      " [1 2 3]\n"
     ]
    }
   ],
   "source": [
    "a = np.array([1,2,3])\n",
    "asprint(a)"
   ]
  },
  {
   "cell_type": "code",
   "execution_count": 13,
   "metadata": {},
   "outputs": [
    {
     "name": "stdout",
     "output_type": "stream",
     "text": [
      "type = <class 'numpy.ndarray'>\n",
      "shape = (3,), dimension = 1dtype = int32\n",
      "Array's data:\n",
      " [1 2 3]\n"
     ]
    }
   ],
   "source": [
    "l = [1,2,3]\n",
    "a = np.array(l)\n",
    "asprint(a)"
   ]
  },
  {
   "cell_type": "code",
   "execution_count": 14,
   "metadata": {},
   "outputs": [
    {
     "name": "stdout",
     "output_type": "stream",
     "text": [
      "type = <class 'numpy.ndarray'>\n",
      "shape = (3,), dimension = 1dtype = float64\n",
      "Array's data:\n",
      " [1. 2. 3.]\n"
     ]
    }
   ],
   "source": [
    "a = np.array(l, dtype = float)\n",
    "asprint(a)"
   ]
  },
  {
   "cell_type": "code",
   "execution_count": 16,
   "metadata": {},
   "outputs": [
    {
     "name": "stdout",
     "output_type": "stream",
     "text": [
      "type = <class 'numpy.ndarray'>\n",
      "shape = (3,), dimension = 1dtype = int64\n",
      "Array's data:\n",
      " [1 2 3]\n"
     ]
    }
   ],
   "source": [
    "a = np.array(l, dtype = np.int64)\n",
    "asprint(a)"
   ]
  },
  {
   "cell_type": "code",
   "execution_count": 17,
   "metadata": {},
   "outputs": [
    {
     "name": "stdout",
     "output_type": "stream",
     "text": [
      "type = <class 'numpy.ndarray'>\n",
      "shape = (3,), dimension = 1dtype = <U11\n",
      "Array's data:\n",
      " ['1' '2' 'a']\n"
     ]
    }
   ],
   "source": [
    "a = np.array([1,2,'a'])\n",
    "asprint(a)"
   ]
  },
  {
   "cell_type": "code",
   "execution_count": 18,
   "metadata": {},
   "outputs": [
    {
     "name": "stdout",
     "output_type": "stream",
     "text": [
      "type = <class 'numpy.ndarray'>\n",
      "shape = (4, 2), dimension = 2dtype = int32\n",
      "Array's data:\n",
      " [[1 2]\n",
      " [3 4]\n",
      " [5 6]\n",
      " [7 8]]\n"
     ]
    }
   ],
   "source": [
    "# 2차원 배열 생성\n",
    "a = np.array([[1,2], [3,4],\n",
    "            [5,6],[7,8]])\n",
    "asprint(a)"
   ]
  },
  {
   "cell_type": "code",
   "execution_count": 19,
   "metadata": {},
   "outputs": [
    {
     "name": "stdout",
     "output_type": "stream",
     "text": [
      "type = <class 'numpy.ndarray'>\n",
      "shape = (2, 4, 2), dimension = 3dtype = int32\n",
      "Array's data:\n",
      " [[[ 1  2]\n",
      "  [ 3  4]\n",
      "  [ 4  5]\n",
      "  [ 6  7]]\n",
      "\n",
      " [[ 9 10]\n",
      "  [11 12]\n",
      "  [13 14]\n",
      "  [15 16]]]\n"
     ]
    }
   ],
   "source": [
    "# 3차원 배열 생성\n",
    "a = np.array([[[1,2],[3,4],\n",
    "              [4,5],[6,7]],\n",
    "              [[9,10],[11,12],\n",
    "              [13,14],[15,16]]])\n",
    "asprint(a)"
   ]
  }
 ],
 "metadata": {
  "kernelspec": {
   "display_name": "Python 3",
   "language": "python",
   "name": "python3"
  },
  "language_info": {
   "codemirror_mode": {
    "name": "ipython",
    "version": 3
   },
   "file_extension": ".py",
   "mimetype": "text/x-python",
   "name": "python",
   "nbconvert_exporter": "python",
   "pygments_lexer": "ipython3",
   "version": "3.8.5"
  }
 },
 "nbformat": 4,
 "nbformat_minor": 4
}
