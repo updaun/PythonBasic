{
 "cells": [
  {
   "cell_type": "code",
   "execution_count": 1,
   "metadata": {},
   "outputs": [],
   "source": [
    "import numpy as np"
   ]
  },
  {
   "cell_type": "code",
   "execution_count": 2,
   "metadata": {},
   "outputs": [],
   "source": [
    "# ndarray 객체(배열) 확익용 함수\n",
    "def asprint(arr):\n",
    "    # ndarrray 객체 속성( attribute )\n",
    "    #\n",
    "    # shape : ndarray 객체 구조\n",
    "    # ndim : ndarray 객체 차원\n",
    "    # dtype : ndarray 객체 자료형\n",
    "    print(f'type = {type(arr)}')\n",
    "    print(f'shape = {arr.shape}, dimension = {arr.ndim}', end='')\n",
    "    print(f'dtype = {arr.dtype}')\n",
    "    print(f\"Array's data:\\n\",arr)"
   ]
  },
  {
   "cell_type": "markdown",
   "metadata": {},
   "source": [
    "### NumPy 연산\n",
    "## 산술 연산"
   ]
  },
  {
   "cell_type": "code",
   "execution_count": 5,
   "metadata": {},
   "outputs": [
    {
     "name": "stdout",
     "output_type": "stream",
     "text": [
      "type = <class 'numpy.ndarray'>\n",
      "shape = (3, 3), dimension = 2dtype = int32\n",
      "Array's data:\n",
      " [[1 2 3]\n",
      " [4 5 6]\n",
      " [7 8 9]]\n"
     ]
    }
   ],
   "source": [
    "a = np.arange(1,10).reshape((3,3))\n",
    "asprint(a)"
   ]
  },
  {
   "cell_type": "code",
   "execution_count": 6,
   "metadata": {},
   "outputs": [
    {
     "name": "stdout",
     "output_type": "stream",
     "text": [
      "type = <class 'numpy.ndarray'>\n",
      "shape = (3, 3), dimension = 2dtype = int32\n",
      "Array's data:\n",
      " [[9 8 7]\n",
      " [6 5 4]\n",
      " [3 2 1]]\n"
     ]
    }
   ],
   "source": [
    "b = np.arange(9, 0, -1).reshape((3,3))\n",
    "asprint(b)"
   ]
  },
  {
   "cell_type": "markdown",
   "metadata": {},
   "source": [
    "### 사칙연산"
   ]
  },
  {
   "cell_type": "code",
   "execution_count": 7,
   "metadata": {},
   "outputs": [
    {
     "data": {
      "text/plain": [
       "array([[10, 10, 10],\n",
       "       [10, 10, 10],\n",
       "       [10, 10, 10]])"
      ]
     },
     "execution_count": 7,
     "metadata": {},
     "output_type": "execute_result"
    }
   ],
   "source": [
    "a + b"
   ]
  },
  {
   "cell_type": "code",
   "execution_count": 8,
   "metadata": {},
   "outputs": [
    {
     "data": {
      "text/plain": [
       "array([[10, 10, 10],\n",
       "       [10, 10, 10],\n",
       "       [10, 10, 10]])"
      ]
     },
     "execution_count": 8,
     "metadata": {},
     "output_type": "execute_result"
    }
   ],
   "source": [
    "np.add(a,b)"
   ]
  },
  {
   "cell_type": "code",
   "execution_count": 9,
   "metadata": {},
   "outputs": [
    {
     "data": {
      "text/plain": [
       "array([[-8, -6, -4],\n",
       "       [-2,  0,  2],\n",
       "       [ 4,  6,  8]])"
      ]
     },
     "execution_count": 9,
     "metadata": {},
     "output_type": "execute_result"
    }
   ],
   "source": [
    "a - b"
   ]
  },
  {
   "cell_type": "code",
   "execution_count": 16,
   "metadata": {},
   "outputs": [
    {
     "data": {
      "text/plain": [
       "array([[-8, -6, -4],\n",
       "       [-2,  0,  2],\n",
       "       [ 4,  6,  8]])"
      ]
     },
     "execution_count": 16,
     "metadata": {},
     "output_type": "execute_result"
    }
   ],
   "source": [
    "np.subtract(a,b)"
   ]
  },
  {
   "cell_type": "code",
   "execution_count": 12,
   "metadata": {},
   "outputs": [
    {
     "data": {
      "text/plain": [
       "array([[ 9, 16, 21],\n",
       "       [24, 25, 24],\n",
       "       [21, 16,  9]])"
      ]
     },
     "execution_count": 12,
     "metadata": {},
     "output_type": "execute_result"
    }
   ],
   "source": [
    "a * b"
   ]
  },
  {
   "cell_type": "code",
   "execution_count": 13,
   "metadata": {},
   "outputs": [
    {
     "data": {
      "text/plain": [
       "array([[ 9, 16, 21],\n",
       "       [24, 25, 24],\n",
       "       [21, 16,  9]])"
      ]
     },
     "execution_count": 13,
     "metadata": {},
     "output_type": "execute_result"
    }
   ],
   "source": [
    "np.multiply(a,b)"
   ]
  },
  {
   "cell_type": "code",
   "execution_count": 14,
   "metadata": {},
   "outputs": [
    {
     "data": {
      "text/plain": [
       "array([[0.11111111, 0.25      , 0.42857143],\n",
       "       [0.66666667, 1.        , 1.5       ],\n",
       "       [2.33333333, 4.        , 9.        ]])"
      ]
     },
     "execution_count": 14,
     "metadata": {},
     "output_type": "execute_result"
    }
   ],
   "source": [
    "a / b"
   ]
  },
  {
   "cell_type": "code",
   "execution_count": 15,
   "metadata": {},
   "outputs": [
    {
     "data": {
      "text/plain": [
       "array([[0.11111111, 0.25      , 0.42857143],\n",
       "       [0.66666667, 1.        , 1.5       ],\n",
       "       [2.33333333, 4.        , 9.        ]])"
      ]
     },
     "execution_count": 15,
     "metadata": {},
     "output_type": "execute_result"
    }
   ],
   "source": [
    "np.divide(a,b)"
   ]
  },
  {
   "cell_type": "markdown",
   "metadata": {},
   "source": [
    "###  산술 연산"
   ]
  },
  {
   "cell_type": "code",
   "execution_count": 17,
   "metadata": {},
   "outputs": [
    {
     "data": {
      "text/plain": [
       "array([[2.71828183e+00, 7.38905610e+00, 2.00855369e+01],\n",
       "       [5.45981500e+01, 1.48413159e+02, 4.03428793e+02],\n",
       "       [1.09663316e+03, 2.98095799e+03, 8.10308393e+03]])"
      ]
     },
     "execution_count": 17,
     "metadata": {},
     "output_type": "execute_result"
    }
   ],
   "source": [
    "np.exp(a)"
   ]
  },
  {
   "cell_type": "code",
   "execution_count": 18,
   "metadata": {},
   "outputs": [
    {
     "data": {
      "text/plain": [
       "array([[8.10308393e+03, 2.98095799e+03, 1.09663316e+03],\n",
       "       [4.03428793e+02, 1.48413159e+02, 5.45981500e+01],\n",
       "       [2.00855369e+01, 7.38905610e+00, 2.71828183e+00]])"
      ]
     },
     "execution_count": 18,
     "metadata": {},
     "output_type": "execute_result"
    }
   ],
   "source": [
    "np.exp(b)"
   ]
  },
  {
   "cell_type": "code",
   "execution_count": 19,
   "metadata": {},
   "outputs": [
    {
     "data": {
      "text/plain": [
       "array([[1.        , 1.41421356, 1.73205081],\n",
       "       [2.        , 2.23606798, 2.44948974],\n",
       "       [2.64575131, 2.82842712, 3.        ]])"
      ]
     },
     "execution_count": 19,
     "metadata": {},
     "output_type": "execute_result"
    }
   ],
   "source": [
    "np.sqrt(a)"
   ]
  },
  {
   "cell_type": "code",
   "execution_count": 20,
   "metadata": {},
   "outputs": [
    {
     "data": {
      "text/plain": [
       "array([[ 0.84147098,  0.90929743,  0.14112001],\n",
       "       [-0.7568025 , -0.95892427, -0.2794155 ],\n",
       "       [ 0.6569866 ,  0.98935825,  0.41211849]])"
      ]
     },
     "execution_count": 20,
     "metadata": {},
     "output_type": "execute_result"
    }
   ],
   "source": [
    "np.sin(a)"
   ]
  },
  {
   "cell_type": "code",
   "execution_count": 21,
   "metadata": {},
   "outputs": [
    {
     "data": {
      "text/plain": [
       "array([[-0.91113026, -0.14550003,  0.75390225],\n",
       "       [ 0.96017029,  0.28366219, -0.65364362],\n",
       "       [-0.9899925 , -0.41614684,  0.54030231]])"
      ]
     },
     "execution_count": 21,
     "metadata": {},
     "output_type": "execute_result"
    }
   ],
   "source": [
    "np.cos(b)"
   ]
  },
  {
   "cell_type": "code",
   "execution_count": 23,
   "metadata": {},
   "outputs": [
    {
     "data": {
      "text/plain": [
       "array([[ 1.55740772, -2.18503986, -0.14254654],\n",
       "       [ 1.15782128, -3.38051501, -0.29100619],\n",
       "       [ 0.87144798, -6.79971146, -0.45231566]])"
      ]
     },
     "execution_count": 23,
     "metadata": {},
     "output_type": "execute_result"
    }
   ],
   "source": [
    "np.tan(a)"
   ]
  },
  {
   "cell_type": "code",
   "execution_count": 24,
   "metadata": {},
   "outputs": [
    {
     "data": {
      "text/plain": [
       "array([[0.        , 0.69314718, 1.09861229],\n",
       "       [1.38629436, 1.60943791, 1.79175947],\n",
       "       [1.94591015, 2.07944154, 2.19722458]])"
      ]
     },
     "execution_count": 24,
     "metadata": {},
     "output_type": "execute_result"
    }
   ],
   "source": [
    "np.log(a)"
   ]
  },
  {
   "cell_type": "code",
   "execution_count": 25,
   "metadata": {},
   "outputs": [
    {
     "data": {
      "text/plain": [
       "array([[ 30,  24,  18],\n",
       "       [ 84,  69,  54],\n",
       "       [138, 114,  90]])"
      ]
     },
     "execution_count": 25,
     "metadata": {},
     "output_type": "execute_result"
    }
   ],
   "source": [
    "# dot product(내적)\n",
    "np.dot(a,b)"
   ]
  },
  {
   "cell_type": "markdown",
   "metadata": {},
   "source": [
    "###  비교 연산\n",
    "#### 배열 요소간 비교"
   ]
  },
  {
   "cell_type": "code",
   "execution_count": 26,
   "metadata": {},
   "outputs": [
    {
     "data": {
      "text/plain": [
       "array([[False, False, False],\n",
       "       [False,  True, False],\n",
       "       [False, False, False]])"
      ]
     },
     "execution_count": 26,
     "metadata": {},
     "output_type": "execute_result"
    }
   ],
   "source": [
    "a == b"
   ]
  },
  {
   "cell_type": "code",
   "execution_count": 27,
   "metadata": {},
   "outputs": [
    {
     "data": {
      "text/plain": [
       "array([[False, False, False],\n",
       "       [False, False,  True],\n",
       "       [ True,  True,  True]])"
      ]
     },
     "execution_count": 27,
     "metadata": {},
     "output_type": "execute_result"
    }
   ],
   "source": [
    "a > b"
   ]
  },
  {
   "cell_type": "markdown",
   "metadata": {},
   "source": [
    "#### 배열 비교"
   ]
  },
  {
   "cell_type": "code",
   "execution_count": 28,
   "metadata": {},
   "outputs": [
    {
     "data": {
      "text/plain": [
       "False"
      ]
     },
     "execution_count": 28,
     "metadata": {},
     "output_type": "execute_result"
    }
   ],
   "source": [
    "np.array_equal(a,b)"
   ]
  },
  {
   "cell_type": "code",
   "execution_count": 29,
   "metadata": {},
   "outputs": [
    {
     "data": {
      "text/plain": [
       "True"
      ]
     },
     "execution_count": 29,
     "metadata": {},
     "output_type": "execute_result"
    }
   ],
   "source": [
    "np.array_equal(a,a)"
   ]
  },
  {
   "cell_type": "markdown",
   "metadata": {},
   "source": [
    "### 집계함수"
   ]
  },
  {
   "cell_type": "code",
   "execution_count": 31,
   "metadata": {},
   "outputs": [
    {
     "data": {
      "text/plain": [
       "(45, 45)"
      ]
     },
     "execution_count": 31,
     "metadata": {},
     "output_type": "execute_result"
    }
   ],
   "source": [
    "# 합계 : sum() 매서드, numpy.sum() 함수\n",
    "a.sum(), np.sum(a)"
   ]
  },
  {
   "cell_type": "code",
   "execution_count": 35,
   "metadata": {},
   "outputs": [
    {
     "data": {
      "text/plain": [
       "(array([12, 15, 18]), array([12, 15, 18]))"
      ]
     },
     "execution_count": 35,
     "metadata": {},
     "output_type": "execute_result"
    }
   ],
   "source": [
    "a.sum(axis = 0), np.sum(a, axis = 0) # 행 방향"
   ]
  },
  {
   "cell_type": "code",
   "execution_count": 34,
   "metadata": {},
   "outputs": [
    {
     "data": {
      "text/plain": [
       "(array([ 6, 15, 24]), array([ 6, 15, 24]))"
      ]
     },
     "execution_count": 34,
     "metadata": {},
     "output_type": "execute_result"
    }
   ],
   "source": [
    "a.sum(axis = 1), np.sum(a, axis = 1) # 열 방향"
   ]
  },
  {
   "cell_type": "code",
   "execution_count": 36,
   "metadata": {},
   "outputs": [
    {
     "data": {
      "text/plain": [
       "(1, 1)"
      ]
     },
     "execution_count": 36,
     "metadata": {},
     "output_type": "execute_result"
    }
   ],
   "source": [
    "# 최소값 : min() 매서드, numpy.min()\n",
    "a.min(), np.min(a)"
   ]
  },
  {
   "cell_type": "code",
   "execution_count": 52,
   "metadata": {},
   "outputs": [
    {
     "data": {
      "text/plain": [
       "(array([1, 2, 3]), array([1, 2, 3]))"
      ]
     },
     "execution_count": 52,
     "metadata": {},
     "output_type": "execute_result"
    }
   ],
   "source": [
    "a.min(axis = 0), np.min(a, axis = 0)"
   ]
  },
  {
   "cell_type": "code",
   "execution_count": 53,
   "metadata": {},
   "outputs": [
    {
     "data": {
      "text/plain": [
       "(array([1, 4, 7]), array([1, 4, 7]))"
      ]
     },
     "execution_count": 53,
     "metadata": {},
     "output_type": "execute_result"
    }
   ],
   "source": [
    "a.min(axis = 1), np.min(a, axis = 1)"
   ]
  },
  {
   "cell_type": "code",
   "execution_count": 54,
   "metadata": {},
   "outputs": [
    {
     "data": {
      "text/plain": [
       "(9, 9)"
      ]
     },
     "execution_count": 54,
     "metadata": {},
     "output_type": "execute_result"
    }
   ],
   "source": [
    "# 최대값 : max() 매서드, numpy.max()\n",
    "a.max(), np.max(a)"
   ]
  },
  {
   "cell_type": "code",
   "execution_count": 38,
   "metadata": {},
   "outputs": [
    {
     "data": {
      "text/plain": [
       "(array([7, 8, 9]), array([7, 8, 9]))"
      ]
     },
     "execution_count": 38,
     "metadata": {},
     "output_type": "execute_result"
    }
   ],
   "source": [
    "a.max(axis = 0), np.max(a, axis = 0)"
   ]
  },
  {
   "cell_type": "code",
   "execution_count": 47,
   "metadata": {},
   "outputs": [
    {
     "data": {
      "text/plain": [
       "(array([3, 6, 9]), array([3, 6, 9]))"
      ]
     },
     "execution_count": 47,
     "metadata": {},
     "output_type": "execute_result"
    }
   ],
   "source": [
    "a.max(axis = 1), np.max(a, axis = 1)"
   ]
  },
  {
   "cell_type": "code",
   "execution_count": 43,
   "metadata": {},
   "outputs": [
    {
     "data": {
      "text/plain": [
       "(array([ 1,  3,  6, 10, 15, 21, 28, 36, 45], dtype=int32),\n",
       " array([ 1,  3,  6, 10, 15, 21, 28, 36, 45], dtype=int32))"
      ]
     },
     "execution_count": 43,
     "metadata": {},
     "output_type": "execute_result"
    }
   ],
   "source": [
    "# 누적합 : cumsum() 매서드, numpy.cumsum() 함수\n",
    "a.cumsum(), np.cumsum(a)"
   ]
  },
  {
   "cell_type": "code",
   "execution_count": 45,
   "metadata": {},
   "outputs": [
    {
     "data": {
      "text/plain": [
       "(array([[ 1,  2,  3],\n",
       "        [ 5,  7,  9],\n",
       "        [12, 15, 18]], dtype=int32),\n",
       " array([[ 1,  2,  3],\n",
       "        [ 5,  7,  9],\n",
       "        [12, 15, 18]], dtype=int32))"
      ]
     },
     "execution_count": 45,
     "metadata": {},
     "output_type": "execute_result"
    }
   ],
   "source": [
    "a.cumsum(axis = 0), np.cumsum(a, axis = 0)"
   ]
  },
  {
   "cell_type": "code",
   "execution_count": 46,
   "metadata": {},
   "outputs": [
    {
     "data": {
      "text/plain": [
       "(array([[ 1,  3,  6],\n",
       "        [ 4,  9, 15],\n",
       "        [ 7, 15, 24]], dtype=int32),\n",
       " array([[ 1,  3,  6],\n",
       "        [ 4,  9, 15],\n",
       "        [ 7, 15, 24]], dtype=int32))"
      ]
     },
     "execution_count": 46,
     "metadata": {},
     "output_type": "execute_result"
    }
   ],
   "source": [
    "a.cumsum(axis = 1), np.cumsum(a, axis = 1)"
   ]
  },
  {
   "cell_type": "code",
   "execution_count": 48,
   "metadata": {},
   "outputs": [
    {
     "data": {
      "text/plain": [
       "5.0"
      ]
     },
     "execution_count": 48,
     "metadata": {},
     "output_type": "execute_result"
    }
   ],
   "source": [
    "# 중앙값 : numpy.median()  - 매서드 없음\n",
    "np.median(a)"
   ]
  },
  {
   "cell_type": "code",
   "execution_count": 49,
   "metadata": {},
   "outputs": [
    {
     "data": {
      "text/plain": [
       "array([4., 5., 6.])"
      ]
     },
     "execution_count": 49,
     "metadata": {},
     "output_type": "execute_result"
    }
   ],
   "source": [
    "np.median(a , axis = 0)"
   ]
  },
  {
   "cell_type": "code",
   "execution_count": 50,
   "metadata": {},
   "outputs": [
    {
     "data": {
      "text/plain": [
       "array([2., 5., 8.])"
      ]
     },
     "execution_count": 50,
     "metadata": {},
     "output_type": "execute_result"
    }
   ],
   "source": [
    "np.median(a , axis = 1)"
   ]
  },
  {
   "cell_type": "code",
   "execution_count": 51,
   "metadata": {},
   "outputs": [
    {
     "data": {
      "text/plain": [
       "array([[1., 1., 1.],\n",
       "       [1., 1., 1.],\n",
       "       [1., 1., 1.]])"
      ]
     },
     "execution_count": 51,
     "metadata": {},
     "output_type": "execute_result"
    }
   ],
   "source": [
    "# 상관 계수( correlation coeficient )\n",
    "np.corrcoef(a)"
   ]
  },
  {
   "cell_type": "code",
   "execution_count": 55,
   "metadata": {},
   "outputs": [
    {
     "data": {
      "text/plain": [
       "(2.581988897471611, 2.581988897471611)"
      ]
     },
     "execution_count": 55,
     "metadata": {},
     "output_type": "execute_result"
    }
   ],
   "source": [
    "# 표준 편차 : std() 매서드, numpy.std()\n",
    "a.std(), np.std(a)"
   ]
  },
  {
   "cell_type": "code",
   "execution_count": 57,
   "metadata": {},
   "outputs": [
    {
     "data": {
      "text/plain": [
       "(array([2.44948974, 2.44948974, 2.44948974]),\n",
       " array([2.44948974, 2.44948974, 2.44948974]))"
      ]
     },
     "execution_count": 57,
     "metadata": {},
     "output_type": "execute_result"
    }
   ],
   "source": [
    "a.std(axis = 0), np.std(a , axis = 0)"
   ]
  },
  {
   "cell_type": "code",
   "execution_count": 58,
   "metadata": {},
   "outputs": [
    {
     "data": {
      "text/plain": [
       "(array([0.81649658, 0.81649658, 0.81649658]),\n",
       " array([0.81649658, 0.81649658, 0.81649658]))"
      ]
     },
     "execution_count": 58,
     "metadata": {},
     "output_type": "execute_result"
    }
   ],
   "source": [
    "a.std(axis = 1), np.std(a , axis = 1)"
   ]
  },
  {
   "cell_type": "code",
   "execution_count": 60,
   "metadata": {},
   "outputs": [
    {
     "data": {
      "text/plain": [
       "(6.666666666666667, 6.666666666666667)"
      ]
     },
     "execution_count": 60,
     "metadata": {},
     "output_type": "execute_result"
    }
   ],
   "source": [
    "# 분산 : var() 메서드, numpy.var() 함수, 데이터가 퍼져 있는 정도 제곱이 되어 큰값이 나온다.\n",
    "a.var(), np.var(a)"
   ]
  },
  {
   "cell_type": "code",
   "execution_count": 61,
   "metadata": {},
   "outputs": [
    {
     "data": {
      "text/plain": [
       "(array([6., 6., 6.]), array([6., 6., 6.]))"
      ]
     },
     "execution_count": 61,
     "metadata": {},
     "output_type": "execute_result"
    }
   ],
   "source": [
    "a.var(axis = 0), np.var(a, axis = 0)"
   ]
  },
  {
   "cell_type": "code",
   "execution_count": 62,
   "metadata": {},
   "outputs": [
    {
     "data": {
      "text/plain": [
       "(array([0.66666667, 0.66666667, 0.66666667]),\n",
       " array([0.66666667, 0.66666667, 0.66666667]))"
      ]
     },
     "execution_count": 62,
     "metadata": {},
     "output_type": "execute_result"
    }
   ],
   "source": [
    "a.var(axis = 1), np.var(a, axis = 1)"
   ]
  },
  {
   "cell_type": "markdown",
   "metadata": {},
   "source": [
    "### 사분위수 : numpy.percentile()"
   ]
  },
  {
   "cell_type": "code",
   "execution_count": 69,
   "metadata": {},
   "outputs": [
    {
     "name": "stdout",
     "output_type": "stream",
     "text": [
      "1사분위수 : 0.21556186731035146\n",
      "2사분위수 : 0.515503031122124\n",
      "3사분위수 : 0.7523509044515617\n",
      "4사분위수 : 0.9772372274312491\n"
     ]
    }
   ],
   "source": [
    "# 1사분위수 : 하위 25% 값\n",
    "# 2사분위수 : 하위 50% 값 == 중앙값과 같은 값\n",
    "# 3사분위수 : 하위 75% 값\n",
    "print(f'1사분위수 : {np.percentile(a, 25)}')\n",
    "print(f'2사분위수 : {np.percentile(a, 50)}')\n",
    "print(f'3사분위수 : {np.percentile(a, 75)}')\n",
    "#print(f'4사분위수 : {np.percentile(a, 100)}') ??"
   ]
  },
  {
   "cell_type": "code",
   "execution_count": 67,
   "metadata": {},
   "outputs": [
    {
     "name": "stdout",
     "output_type": "stream",
     "text": [
      "type = <class 'numpy.ndarray'>\n",
      "shape = (100,), dimension = 1dtype = float64\n",
      "Array's data:\n",
      " [0.80132745 0.58693971 0.21440373 0.37037023 0.21099079 0.1899021\n",
      " 0.80278588 0.8088611  0.34288788 0.09034297 0.19225021 0.70463792\n",
      " 0.21505717 0.22227241 0.79519321 0.71182869 0.0387537  0.93176128\n",
      " 0.50332622 0.62587651 0.36059738 0.80368346 0.3550236  0.94082105\n",
      " 0.08285159 0.64807405 0.33282601 0.68828632 0.37600692 0.02765749\n",
      " 0.52043848 0.4632395  0.68650269 0.63646834 0.45746283 0.41412892\n",
      " 0.59354743 0.05672821 0.2248916  0.34065413 0.15876791 0.65861652\n",
      " 0.56099351 0.34790772 0.90034037 0.93779377 0.3760914  0.9219742\n",
      " 0.40286056 0.94926406 0.30274209 0.5177472  0.14442255 0.00874969\n",
      " 0.62446035 0.11110995 0.6828056  0.11562335 0.69075967 0.54723465\n",
      " 0.83125221 0.10836403 0.97716002 0.15652363 0.08468295 0.84912435\n",
      " 0.62338598 0.79834679 0.97205092 0.09604374 0.50779479 0.10276083\n",
      " 0.73807014 0.96525623 0.92968414 0.00748098 0.47551815 0.08649803\n",
      " 0.2157301  0.57486091 0.92470113 0.51325886 0.19814614 0.52128487\n",
      " 0.63745818 0.12132517 0.46331671 0.85722505 0.28638454 0.5570941\n",
      " 0.97723723 0.48708083 0.92017949 0.73664126 0.30706054 0.82113496\n",
      " 0.03979754 0.86849434 0.92673555 0.56420222]\n"
     ]
    }
   ],
   "source": [
    "a = np.random.random((100, ))\n",
    "asprint(a)"
   ]
  },
  {
   "cell_type": "code",
   "execution_count": 68,
   "metadata": {},
   "outputs": [
    {
     "name": "stdout",
     "output_type": "stream",
     "text": [
      "최소값 :     0.0075\n",
      "\n",
      "1사분위수 :     0.2156\n",
      "2사분위수 :     0.5155\n",
      "\n",
      "중 앙 값  :     0.5155\n",
      "평 균 값  :     0.5016\n",
      "\n",
      "3사분위수 :     0.7524\n",
      "\n",
      "최 대 값  :     0.9772\n",
      "\n",
      "분    산  :     0.0877\n",
      "표준편차  :     0.2961\n"
     ]
    }
   ],
   "source": [
    "print(f'최소값 : {a.min():10.4f}\\n')\n",
    "print(f'1사분위수 : {np.percentile( a, 25 ):10.4f}')\n",
    "print(f'2사분위수 : {np.percentile( a, 50 ):10.4f}\\n')\n",
    "print(f'중 앙 값  : {np.median( a ):10.4f}')\n",
    "print(f'평 균 값  : {a.mean():10.4f}\\n')\n",
    "print(f'3사분위수 : {np.percentile( a, 75 ):10.4f}\\n')\n",
    "print(f'최 대 값  : {a.max():10.4f}\\n')\n",
    "print(f'분    산  : {a.var():10.4f}')\n",
    "print(f'표준편차  : {a.std():10.4f}')"
   ]
  },
  {
   "cell_type": "code",
   "execution_count": 70,
   "metadata": {},
   "outputs": [
    {
     "name": "stdout",
     "output_type": "stream",
     "text": [
      "type = <class 'numpy.ndarray'>\n",
      "shape = (10,), dimension = 1dtype = int32\n",
      "Array's data:\n",
      " [ 1  2  3  4  5  6  7  8  9 10]\n"
     ]
    }
   ],
   "source": [
    "a = np.arange(1, 11)\n",
    "asprint(a)"
   ]
  },
  {
   "cell_type": "code",
   "execution_count": 72,
   "metadata": {},
   "outputs": [
    {
     "data": {
      "text/plain": [
       "9"
      ]
     },
     "execution_count": 72,
     "metadata": {},
     "output_type": "execute_result"
    }
   ],
   "source": [
    "# 최대값 인덱스\n",
    "np.argmax(a)"
   ]
  },
  {
   "cell_type": "code",
   "execution_count": 73,
   "metadata": {},
   "outputs": [
    {
     "data": {
      "text/plain": [
       "0"
      ]
     },
     "execution_count": 73,
     "metadata": {},
     "output_type": "execute_result"
    }
   ],
   "source": [
    "# 최소값 인덱스\n",
    "np.argmin(a)"
   ]
  },
  {
   "cell_type": "code",
   "execution_count": 74,
   "metadata": {},
   "outputs": [
    {
     "name": "stdout",
     "output_type": "stream",
     "text": [
      "a 배열의 최대값은 : 10[9]\n"
     ]
    }
   ],
   "source": [
    "idx = np.argmax(a)\n",
    "print(f'a 배열의 최대값은 : {a[idx]}[{idx}]')"
   ]
  },
  {
   "cell_type": "code",
   "execution_count": 76,
   "metadata": {},
   "outputs": [
    {
     "name": "stdout",
     "output_type": "stream",
     "text": [
      "a 배열의 최소값은 : 1[0]\n"
     ]
    }
   ],
   "source": [
    "idx = np.argmin(a)\n",
    "print(f'a 배열의 최소값은 : {a[idx]}[{idx}]')"
   ]
  },
  {
   "cell_type": "markdown",
   "metadata": {},
   "source": [
    "###  브로드캐스팅"
   ]
  },
  {
   "cell_type": "markdown",
   "metadata": {},
   "source": [
    "![브로드캐스팅](./broadcasting.png)"
   ]
  },
  {
   "cell_type": "markdown",
   "metadata": {},
   "source": [
    "### 브로드캐스트 규칙\n",
    "\n",
    "#### 규칙 1 : 두 배열의 차원 수가 다르면 더 작은 수의 차원을 가진 배열 형상의 앞쪽( 왼쪽 ) 을 1로 채운다.\n",
    "#### 규칙 2 : 두 배열의 형상이 어떤 차원에서도 일치하지 않는다면 해당 차원 형상이 1인 배열이 다른 형상과 일치하도록 늘어난다.\n",
    "#### 규칙 3 : 임의의 차원에서 크기가 일치하지 않고 1도 아니라면 오류가 발생한다."
   ]
  },
  {
   "cell_type": "code",
   "execution_count": 77,
   "metadata": {},
   "outputs": [
    {
     "name": "stdout",
     "output_type": "stream",
     "text": [
      "type = <class 'numpy.ndarray'>\n",
      "shape = (2, 3), dimension = 2dtype = float64\n",
      "Array's data:\n",
      " [[1. 1. 1.]\n",
      " [1. 1. 1.]]\n"
     ]
    }
   ],
   "source": [
    "M = np.ones((2,3))\n",
    "asprint(M)"
   ]
  },
  {
   "cell_type": "code",
   "execution_count": 81,
   "metadata": {},
   "outputs": [
    {
     "name": "stdout",
     "output_type": "stream",
     "text": [
      "type = <class 'numpy.ndarray'>\n",
      "shape = (3,), dimension = 1dtype = int32\n",
      "Array's data:\n",
      " [0 1 2]\n"
     ]
    }
   ],
   "source": [
    "a = np.arange(3)\n",
    "asprint(a)"
   ]
  },
  {
   "cell_type": "markdown",
   "metadata": {},
   "source": [
    "### 브로드캐스트 과정\n",
    "\n",
    "*  두 배열의 형상   \n",
    "\n",
    "M.shape=(2,3)   \n",
    "a.shape=(3,)\n",
    "\n",
    "* 규칙 1에 따라 배열 a가 더 작은 차원을 가지므로 왼쪽을 1로 채운다.\n",
    "\n",
    "M.shape=(2,3)   \n",
    "a.shape=(1,3)\n",
    "\n",
    "* 규칙 2에 따라 첫 번째 차원이 일치하지 않으므로 차원이 일치하도록 늘려준다.\n",
    "\n",
    "M.shape=(2,3)   \n",
    "a.shape=(1,3)\n",
    "\n",
    "* 모양이 일치하므로 최종 형상이 (2,3)이 된다."
   ]
  },
  {
   "cell_type": "code",
   "execution_count": 80,
   "metadata": {},
   "outputs": [
    {
     "data": {
      "text/plain": [
       "array([[1., 2., 3.],\n",
       "       [1., 2., 3.]])"
      ]
     },
     "execution_count": 80,
     "metadata": {},
     "output_type": "execute_result"
    }
   ],
   "source": [
    "M + a  # 내부적으로 브로드캐스팅이 일어났다!"
   ]
  },
  {
   "cell_type": "markdown",
   "metadata": {},
   "source": [
    "### 브로드캐스트 예제 2"
   ]
  },
  {
   "cell_type": "code",
   "execution_count": 83,
   "metadata": {},
   "outputs": [
    {
     "name": "stdout",
     "output_type": "stream",
     "text": [
      "type = <class 'numpy.ndarray'>\n",
      "shape = (3, 1), dimension = 2dtype = int32\n",
      "Array's data:\n",
      " [[0]\n",
      " [1]\n",
      " [2]]\n",
      "type = <class 'numpy.ndarray'>\n",
      "shape = (3,), dimension = 1dtype = int32\n",
      "Array's data:\n",
      " [0 1 2]\n"
     ]
    }
   ],
   "source": [
    "a = np.arange(3).reshape((3,1)) # 열이 하나인 2차원 배열\n",
    "asprint(a)\n",
    "\n",
    "b = np.arange(3)\n",
    "asprint(b)"
   ]
  },
  {
   "cell_type": "markdown",
   "metadata": {},
   "source": [
    "### 브로드캐스트 과정\n",
    "\n",
    "*  두 배열의 형상   \n",
    "\n",
    "M.shape=(3,1)   \n",
    "a.shape=(3,)\n",
    "\n",
    "* 규칙 1에 따라 배열 b의 형상에 1을 덧붙인다.\n",
    "\n",
    "M.shape=(3,1)   \n",
    "a.shape=(1,3)\n",
    "\n",
    "* 규칙 2에 따라 첫 번째 차원이 일치하지 않으므로 차원이 일치하도록 늘려준다.\n",
    "\n",
    "M.shape=(3,1)   \n",
    "a.shape=(1,3)\n",
    "\n",
    "* 모양이 일치하므로 최종 형상이 (3,3)이 된다."
   ]
  },
  {
   "cell_type": "code",
   "execution_count": 84,
   "metadata": {},
   "outputs": [
    {
     "data": {
      "text/plain": [
       "array([[0, 1, 2],\n",
       "       [1, 2, 3],\n",
       "       [2, 3, 4]])"
      ]
     },
     "execution_count": 84,
     "metadata": {},
     "output_type": "execute_result"
    }
   ],
   "source": [
    "a + b"
   ]
  },
  {
   "cell_type": "markdown",
   "metadata": {},
   "source": [
    "### 브로드캐스트 예제 3"
   ]
  },
  {
   "cell_type": "code",
   "execution_count": 85,
   "metadata": {},
   "outputs": [
    {
     "name": "stdout",
     "output_type": "stream",
     "text": [
      "type = <class 'numpy.ndarray'>\n",
      "shape = (3, 2), dimension = 2dtype = float64\n",
      "Array's data:\n",
      " [[1. 1.]\n",
      " [1. 1.]\n",
      " [1. 1.]]\n",
      "type = <class 'numpy.ndarray'>\n",
      "shape = (3,), dimension = 1dtype = int32\n",
      "Array's data:\n",
      " [0 1 2]\n"
     ]
    }
   ],
   "source": [
    "M = np.ones((3,2))\n",
    "asprint(M)\n",
    "a = np.arange(3)\n",
    "asprint(a)"
   ]
  },
  {
   "cell_type": "markdown",
   "metadata": {},
   "source": [
    "### 브로드캐스트 과정\n",
    "\n",
    "*  두 배열의 형상   \n",
    "\n",
    "M.shape=(3,2)   \n",
    "a.shape=(3)\n",
    "\n",
    "* 규칙 1에 따라 배열 a의 왼쪽에 1을 추가하여 차원을 일치시킨다.\n",
    "\n",
    "M.shape=(3,2)   \n",
    "a.shape=(1,3)\n",
    "\n",
    "* 규칙 2에 따라 두 배열의 형상이 일치 하지 않으므로 1인 배열인 a를 M에 맞게 늘려준다.\n",
    "\n",
    "M.shape=(3,2)   \n",
    "a.shape=(3,3)\n",
    "\n",
    "* 규칙 3에서 최종 형상이 서로 일치하지 않으므로 두 배열에 대한 연산은 실패한다."
   ]
  },
  {
   "cell_type": "code",
   "execution_count": 87,
   "metadata": {},
   "outputs": [
    {
     "ename": "ValueError",
     "evalue": "operands could not be broadcast together with shapes (3,2) (3,) ",
     "output_type": "error",
     "traceback": [
      "\u001b[1;31m---------------------------------------------------------------------------\u001b[0m",
      "\u001b[1;31mValueError\u001b[0m                                Traceback (most recent call last)",
      "\u001b[1;32m<ipython-input-87-dac13774cceb>\u001b[0m in \u001b[0;36m<module>\u001b[1;34m\u001b[0m\n\u001b[1;32m----> 1\u001b[1;33m \u001b[0mM\u001b[0m \u001b[1;33m+\u001b[0m \u001b[0ma\u001b[0m \u001b[1;31m# 브로드 캐스팅이 안됨\u001b[0m\u001b[1;33m\u001b[0m\u001b[1;33m\u001b[0m\u001b[0m\n\u001b[0m",
      "\u001b[1;31mValueError\u001b[0m: operands could not be broadcast together with shapes (3,2) (3,) "
     ]
    }
   ],
   "source": [
    "M + a # 브로드 캐스팅이 안됨"
   ]
  },
  {
   "cell_type": "markdown",
   "metadata": {},
   "source": [
    "* 브로드캐스트 예제 3번과 같이 브로드캐스트 과정시 error가 발생하는 경우 브로드캐스트 브로드캐스트 과정에서 error가 발생하지 않도록 미리 배열 형상을 맞추어 준다.\n",
    "* 브로드캐스트 예제 3번에서는 a 배열을 미리 2차원 형상으로 변경한다. 이때 numpy.newaxis 상수를 사용한다."
   ]
  },
  {
   "cell_type": "code",
   "execution_count": 91,
   "metadata": {},
   "outputs": [
    {
     "data": {
      "text/plain": [
       "((3,), (3, 2))"
      ]
     },
     "execution_count": 91,
     "metadata": {},
     "output_type": "execute_result"
    }
   ],
   "source": [
    "a.shape, M.shape"
   ]
  },
  {
   "cell_type": "code",
   "execution_count": 89,
   "metadata": {},
   "outputs": [
    {
     "data": {
      "text/plain": [
       "(3, 1)"
      ]
     },
     "execution_count": 89,
     "metadata": {},
     "output_type": "execute_result"
    }
   ],
   "source": [
    "a[:, np.newaxis].shape # np.newaxis = 상수"
   ]
  },
  {
   "cell_type": "code",
   "execution_count": 90,
   "metadata": {},
   "outputs": [
    {
     "data": {
      "text/plain": [
       "array([[1., 1.],\n",
       "       [2., 2.],\n",
       "       [3., 3.]])"
      ]
     },
     "execution_count": 90,
     "metadata": {},
     "output_type": "execute_result"
    }
   ],
   "source": [
    "M + a[:, np.newaxis]"
   ]
  },
  {
   "cell_type": "markdown",
   "metadata": {},
   "source": [
    "### NumPy  배열 벡터 연산과 제어문을 이용한 연산 속도 비교"
   ]
  },
  {
   "cell_type": "code",
   "execution_count": 92,
   "metadata": {},
   "outputs": [
    {
     "data": {
      "text/plain": [
       "(10000000,)"
      ]
     },
     "execution_count": 92,
     "metadata": {},
     "output_type": "execute_result"
    }
   ],
   "source": [
    "a = np.arange(10000000)\n",
    "a.shape"
   ]
  },
  {
   "cell_type": "code",
   "execution_count": 95,
   "metadata": {},
   "outputs": [],
   "source": [
    "result = 0"
   ]
  },
  {
   "cell_type": "code",
   "execution_count": 96,
   "metadata": {},
   "outputs": [
    {
     "name": "stdout",
     "output_type": "stream",
     "text": [
      "Requirement already satisfied: ipython in c:\\projects\\anaconda3\\lib\\site-packages (7.19.0)\n",
      "Requirement already satisfied: setuptools>=18.5 in c:\\projects\\anaconda3\\lib\\site-packages (from ipython) (50.3.1.post20201107)\n",
      "Requirement already satisfied: decorator in c:\\projects\\anaconda3\\lib\\site-packages (from ipython) (4.4.2)\n",
      "Requirement already satisfied: pickleshare in c:\\projects\\anaconda3\\lib\\site-packages (from ipython) (0.7.5)\n",
      "Requirement already satisfied: traitlets>=4.2 in c:\\projects\\anaconda3\\lib\\site-packages (from ipython) (5.0.5)\n",
      "Requirement already satisfied: pygments in c:\\projects\\anaconda3\\lib\\site-packages (from ipython) (2.7.2)\n",
      "Requirement already satisfied: jedi>=0.10 in c:\\projects\\anaconda3\\lib\\site-packages (from ipython) (0.17.1)\n",
      "Requirement already satisfied: backcall in c:\\projects\\anaconda3\\lib\\site-packages (from ipython) (0.2.0)\n",
      "Requirement already satisfied: prompt-toolkit!=3.0.0,!=3.0.1,<3.1.0,>=2.0.0 in c:\\projects\\anaconda3\\lib\\site-packages (from ipython) (3.0.8)\n",
      "Requirement already satisfied: colorama; sys_platform == \"win32\" in c:\\users\\daunjeon\\appdata\\roaming\\python\\python38\\site-packages (from ipython) (0.4.3)\n",
      "Requirement already satisfied: ipython-genutils in c:\\projects\\anaconda3\\lib\\site-packages (from traitlets>=4.2->ipython) (0.2.0)\n",
      "Requirement already satisfied: parso<0.8.0,>=0.7.0 in c:\\projects\\anaconda3\\lib\\site-packages (from jedi>=0.10->ipython) (0.7.0)\n",
      "Requirement already satisfied: wcwidth in c:\\projects\\anaconda3\\lib\\site-packages (from prompt-toolkit!=3.0.0,!=3.0.1,<3.1.0,>=2.0.0->ipython) (0.2.5)\n"
     ]
    }
   ],
   "source": [
    "!pip install ipython"
   ]
  },
  {
   "cell_type": "code",
   "execution_count": 106,
   "metadata": {},
   "outputs": [
    {
     "name": "stderr",
     "output_type": "stream",
     "text": [
      "<timed exec>:2: RuntimeWarning: overflow encountered in long_scalars\n"
     ]
    },
    {
     "name": "stdout",
     "output_type": "stream",
     "text": [
      "Wall time: 4.72 s\n"
     ]
    }
   ],
   "source": [
    "%%time\n",
    "for v in a:\n",
    "    result += v\n",
    "# for문을 사용한 계산"
   ]
  },
  {
   "cell_type": "code",
   "execution_count": 107,
   "metadata": {},
   "outputs": [
    {
     "name": "stdout",
     "output_type": "stream",
     "text": [
      "Wall time: 9 ms\n"
     ]
    },
    {
     "name": "stderr",
     "output_type": "stream",
     "text": [
      "<timed exec>:1: RuntimeWarning: overflow encountered in long_scalars\n"
     ]
    }
   ],
   "source": [
    "%%time\n",
    "result += a.sum()\n",
    "# NumPy 집계 함수를 이용한 합 계산"
   ]
  },
  {
   "cell_type": "markdown",
   "metadata": {},
   "source": [
    "### 배열 복사"
   ]
  },
  {
   "cell_type": "code",
   "execution_count": 108,
   "metadata": {},
   "outputs": [
    {
     "name": "stdout",
     "output_type": "stream",
     "text": [
      "type = <class 'numpy.ndarray'>\n",
      "shape = (3, 3), dimension = 2dtype = int32\n",
      "Array's data:\n",
      " [[2 7 8]\n",
      " [8 4 7]\n",
      " [6 5 1]]\n"
     ]
    }
   ],
   "source": [
    "a = np.random.randint(0,9,(3,3))\n",
    "asprint(a)"
   ]
  },
  {
   "cell_type": "code",
   "execution_count": 109,
   "metadata": {},
   "outputs": [
    {
     "name": "stdout",
     "output_type": "stream",
     "text": [
      "type = <class 'numpy.ndarray'>\n",
      "shape = (3, 3), dimension = 2dtype = int32\n",
      "Array's data:\n",
      " [[2 7 8]\n",
      " [8 4 7]\n",
      " [6 5 1]]\n"
     ]
    }
   ],
   "source": [
    "copy_a = np.copy(a)\n",
    "asprint(copy_a)"
   ]
  },
  {
   "cell_type": "code",
   "execution_count": 110,
   "metadata": {},
   "outputs": [
    {
     "name": "stdout",
     "output_type": "stream",
     "text": [
      "type = <class 'numpy.ndarray'>\n",
      "shape = (3, 3), dimension = 2dtype = int32\n",
      "Array's data:\n",
      " [[0 7 8]\n",
      " [0 4 7]\n",
      " [0 5 1]]\n"
     ]
    }
   ],
   "source": [
    "copy_a[:,0] = 0\n",
    "asprint(copy_a)"
   ]
  },
  {
   "cell_type": "code",
   "execution_count": 111,
   "metadata": {},
   "outputs": [
    {
     "name": "stdout",
     "output_type": "stream",
     "text": [
      "type = <class 'numpy.ndarray'>\n",
      "shape = (3, 3), dimension = 2dtype = int32\n",
      "Array's data:\n",
      " [[2 7 8]\n",
      " [8 4 7]\n",
      " [6 5 1]]\n"
     ]
    }
   ],
   "source": [
    "asprint(a)"
   ]
  },
  {
   "cell_type": "markdown",
   "metadata": {},
   "source": [
    "### 배열 정렬"
   ]
  },
  {
   "cell_type": "code",
   "execution_count": 112,
   "metadata": {},
   "outputs": [
    {
     "name": "stdout",
     "output_type": "stream",
     "text": [
      "type = <class 'numpy.ndarray'>\n",
      "shape = (3, 3), dimension = 2dtype = int32\n",
      "Array's data:\n",
      " [[1 1 8]\n",
      " [6 9 1]\n",
      " [1 8 3]]\n"
     ]
    }
   ],
   "source": [
    "org_a = np.random.randint(1,10,(3,3))\n",
    "asprint(org_a)"
   ]
  },
  {
   "cell_type": "code",
   "execution_count": 114,
   "metadata": {},
   "outputs": [],
   "source": [
    "copy_a = np.copy(org_a)\n",
    "copy_b = np.copy(org_a)\n",
    "copy_c = np.copy(org_a)"
   ]
  },
  {
   "cell_type": "code",
   "execution_count": 115,
   "metadata": {},
   "outputs": [
    {
     "name": "stdout",
     "output_type": "stream",
     "text": [
      "type = <class 'numpy.ndarray'>\n",
      "shape = (3, 3), dimension = 2dtype = int32\n",
      "Array's data:\n",
      " [[1 1 1]\n",
      " [1 8 3]\n",
      " [6 9 8]]\n"
     ]
    }
   ],
   "source": [
    "copy_a.sort(axis = 0) # axis = 0 행 방향 정렬\n",
    "asprint(copy_a)"
   ]
  },
  {
   "cell_type": "code",
   "execution_count": 116,
   "metadata": {},
   "outputs": [
    {
     "name": "stdout",
     "output_type": "stream",
     "text": [
      "type = <class 'numpy.ndarray'>\n",
      "shape = (3, 3), dimension = 2dtype = int32\n",
      "Array's data:\n",
      " [[1 1 8]\n",
      " [1 6 9]\n",
      " [1 3 8]]\n"
     ]
    }
   ],
   "source": [
    "copy_b.sort(axis = 1) # axis = 1 열 방향 정렬\n",
    "asprint(copy_b)"
   ]
  },
  {
   "cell_type": "code",
   "execution_count": 118,
   "metadata": {},
   "outputs": [
    {
     "name": "stdout",
     "output_type": "stream",
     "text": [
      "type = <class 'numpy.ndarray'>\n",
      "shape = (3, 3), dimension = 2dtype = int32\n",
      "Array's data:\n",
      " [[1 1 8]\n",
      " [6 9 1]\n",
      " [1 8 3]]\n"
     ]
    }
   ],
   "source": [
    "np.sort(copy_c, axis = 0)[::-1]\n",
    "asprint(copy_c)"
   ]
  },
  {
   "cell_type": "markdown",
   "metadata": {},
   "source": [
    "##  배열 변환\n",
    "### 배열 전치( Transpose ) : 행과 열을 바꿔준다."
   ]
  },
  {
   "cell_type": "code",
   "execution_count": 119,
   "metadata": {},
   "outputs": [
    {
     "name": "stdout",
     "output_type": "stream",
     "text": [
      "type = <class 'numpy.ndarray'>\n",
      "shape = (3, 3), dimension = 2dtype = int32\n",
      "Array's data:\n",
      " [[2 7 8]\n",
      " [8 4 7]\n",
      " [6 5 1]]\n"
     ]
    }
   ],
   "source": [
    "asprint(a)"
   ]
  },
  {
   "cell_type": "code",
   "execution_count": 120,
   "metadata": {},
   "outputs": [
    {
     "name": "stdout",
     "output_type": "stream",
     "text": [
      "type = <class 'numpy.ndarray'>\n",
      "shape = (3, 3), dimension = 2dtype = int32\n",
      "Array's data:\n",
      " [[2 8 6]\n",
      " [7 4 5]\n",
      " [8 7 1]]\n"
     ]
    }
   ],
   "source": [
    "asprint(a.T)"
   ]
  },
  {
   "cell_type": "code",
   "execution_count": 136,
   "metadata": {},
   "outputs": [
    {
     "name": "stdout",
     "output_type": "stream",
     "text": [
      "type = <class 'numpy.ndarray'>\n",
      "shape = (3, 3), dimension = 2dtype = int32\n",
      "Array's data:\n",
      " [[3 7 7]\n",
      " [5 6 7]\n",
      " [1 8 4]]\n"
     ]
    }
   ],
   "source": [
    "a = np.random.randint(1,10,(3,3))\n",
    "asprint(a)"
   ]
  },
  {
   "cell_type": "code",
   "execution_count": 122,
   "metadata": {},
   "outputs": [
    {
     "data": {
      "text/plain": [
       "array([[2, 7, 6],\n",
       "       [1, 5, 7],\n",
       "       [1, 1, 8]])"
      ]
     },
     "execution_count": 122,
     "metadata": {},
     "output_type": "execute_result"
    }
   ],
   "source": [
    "np.transpose(a)"
   ]
  },
  {
   "cell_type": "markdown",
   "metadata": {},
   "source": [
    "### 배열 형태(구조) 변경\n",
    "### ravel() 매서드"
   ]
  },
  {
   "cell_type": "code",
   "execution_count": 137,
   "metadata": {},
   "outputs": [
    {
     "name": "stdout",
     "output_type": "stream",
     "text": [
      "type = <class 'numpy.ndarray'>\n",
      "shape = (3, 3), dimension = 2dtype = int32\n",
      "Array's data:\n",
      " [[3 7 7]\n",
      " [5 6 7]\n",
      " [1 8 4]]\n"
     ]
    }
   ],
   "source": [
    "asprint(a)"
   ]
  },
  {
   "cell_type": "code",
   "execution_count": 138,
   "metadata": {},
   "outputs": [
    {
     "name": "stdout",
     "output_type": "stream",
     "text": [
      "type = <class 'numpy.ndarray'>\n",
      "shape = (9,), dimension = 1dtype = int32\n",
      "Array's data:\n",
      " [3 7 7 5 6 7 1 8 4]\n"
     ]
    }
   ],
   "source": [
    "b = a.ravel() # 2차원을 1차원으로 변경\n",
    "asprint(b)"
   ]
  },
  {
   "cell_type": "code",
   "execution_count": 139,
   "metadata": {},
   "outputs": [
    {
     "name": "stdout",
     "output_type": "stream",
     "text": [
      "type = <class 'numpy.ndarray'>\n",
      "shape = (9,), dimension = 1dtype = int32\n",
      "Array's data:\n",
      " [  3   7 100   5   6   7   1   8   4]\n"
     ]
    }
   ],
   "source": [
    "b[2]=100\n",
    "asprint(b)"
   ]
  },
  {
   "cell_type": "code",
   "execution_count": 140,
   "metadata": {},
   "outputs": [
    {
     "name": "stdout",
     "output_type": "stream",
     "text": [
      "type = <class 'numpy.ndarray'>\n",
      "shape = (3, 3), dimension = 2dtype = int32\n",
      "Array's data:\n",
      " [[  3   7 100]\n",
      " [  5   6   7]\n",
      " [  1   8   4]]\n"
     ]
    }
   ],
   "source": [
    "asprint(a)"
   ]
  },
  {
   "cell_type": "markdown",
   "metadata": {},
   "source": [
    "### reshape()"
   ]
  },
  {
   "cell_type": "code",
   "execution_count": 142,
   "metadata": {},
   "outputs": [
    {
     "name": "stdout",
     "output_type": "stream",
     "text": [
      "type = <class 'numpy.ndarray'>\n",
      "shape = (3, 2), dimension = 2dtype = int32\n",
      "Array's data:\n",
      " [[4 5]\n",
      " [6 5]\n",
      " [1 4]]\n"
     ]
    }
   ],
   "source": [
    "a = np.random.randint(1,7,(3,2))\n",
    "asprint(a)"
   ]
  },
  {
   "cell_type": "code",
   "execution_count": 144,
   "metadata": {},
   "outputs": [
    {
     "name": "stdout",
     "output_type": "stream",
     "text": [
      "type = <class 'numpy.ndarray'>\n",
      "shape = (3, 2, 1), dimension = 3dtype = int32\n",
      "Array's data:\n",
      " [[[4]\n",
      "  [5]]\n",
      "\n",
      " [[6]\n",
      "  [5]]\n",
      "\n",
      " [[1]\n",
      "  [4]]]\n"
     ]
    }
   ],
   "source": [
    "result = a.reshape((3,2,1))\n",
    "asprint(result)"
   ]
  },
  {
   "cell_type": "code",
   "execution_count": 147,
   "metadata": {},
   "outputs": [],
   "source": [
    "a1 = np.arange(10)\n",
    "a2 = a1.reshape((2,5))\n",
    "a3 = a1.reshape((5,2))"
   ]
  },
  {
   "cell_type": "code",
   "execution_count": 148,
   "metadata": {},
   "outputs": [
    {
     "name": "stdout",
     "output_type": "stream",
     "text": [
      "type = <class 'numpy.ndarray'>\n",
      "shape = (10,), dimension = 1dtype = int32\n",
      "Array's data:\n",
      " [0 1 2 3 4 5 6 7 8 9]\n",
      "type = <class 'numpy.ndarray'>\n",
      "shape = (2, 5), dimension = 2dtype = int32\n",
      "Array's data:\n",
      " [[0 1 2 3 4]\n",
      " [5 6 7 8 9]]\n",
      "type = <class 'numpy.ndarray'>\n",
      "shape = (5, 2), dimension = 2dtype = int32\n",
      "Array's data:\n",
      " [[0 1]\n",
      " [2 3]\n",
      " [4 5]\n",
      " [6 7]\n",
      " [8 9]]\n"
     ]
    }
   ],
   "source": [
    "asprint(a1)\n",
    "asprint(a2)\n",
    "asprint(a3)"
   ]
  },
  {
   "cell_type": "code",
   "execution_count": 150,
   "metadata": {},
   "outputs": [
    {
     "name": "stdout",
     "output_type": "stream",
     "text": [
      "type = <class 'numpy.ndarray'>\n",
      "shape = (2, 5), dimension = 2dtype = int32\n",
      "Array's data:\n",
      " [[0 1 2 3 4]\n",
      " [5 6 7 8 9]]\n"
     ]
    }
   ],
   "source": [
    "# 실무적으로 많이 사용되는 사례 : -1은 자동으로 결정, 열은 5로 결정\n",
    "a2 = a1.reshape((-1,5))\n",
    "asprint(a2)"
   ]
  },
  {
   "cell_type": "code",
   "execution_count": 151,
   "metadata": {},
   "outputs": [
    {
     "name": "stdout",
     "output_type": "stream",
     "text": [
      "type = <class 'numpy.ndarray'>\n",
      "shape = (5, 2), dimension = 2dtype = int32\n",
      "Array's data:\n",
      " [[0 1]\n",
      " [2 3]\n",
      " [4 5]\n",
      " [6 7]\n",
      " [8 9]]\n"
     ]
    }
   ],
   "source": [
    "a3 = a1.reshape((5,-1))\n",
    "asprint(a3)"
   ]
  },
  {
   "cell_type": "code",
   "execution_count": 152,
   "metadata": {},
   "outputs": [
    {
     "name": "stdout",
     "output_type": "stream",
     "text": [
      "type = <class 'numpy.ndarray'>\n",
      "shape = (10,), dimension = 1dtype = int32\n",
      "Array's data:\n",
      " [0 1 2 3 4 5 6 7 8 9]\n"
     ]
    }
   ],
   "source": [
    "asprint(a1)"
   ]
  },
  {
   "cell_type": "code",
   "execution_count": 153,
   "metadata": {},
   "outputs": [
    {
     "data": {
      "text/plain": [
       "array([[0],\n",
       "       [1],\n",
       "       [2],\n",
       "       [3],\n",
       "       [4],\n",
       "       [5],\n",
       "       [6],\n",
       "       [7],\n",
       "       [8],\n",
       "       [9]])"
      ]
     },
     "execution_count": 153,
     "metadata": {},
     "output_type": "execute_result"
    }
   ],
   "source": [
    "# a1배열을 2차원으로 변환( 아주 많이 사용 )\n",
    "a1.reshape(-1,1)"
   ]
  },
  {
   "cell_type": "markdown",
   "metadata": {},
   "source": [
    "### .tolist() 매서드 : NumPy 배열을 list로 변환"
   ]
  },
  {
   "cell_type": "code",
   "execution_count": 154,
   "metadata": {},
   "outputs": [
    {
     "data": {
      "text/plain": [
       "numpy.ndarray"
      ]
     },
     "execution_count": 154,
     "metadata": {},
     "output_type": "execute_result"
    }
   ],
   "source": [
    "type(a1)"
   ]
  },
  {
   "cell_type": "code",
   "execution_count": 155,
   "metadata": {},
   "outputs": [
    {
     "data": {
      "text/plain": [
       "list"
      ]
     },
     "execution_count": 155,
     "metadata": {},
     "output_type": "execute_result"
    }
   ],
   "source": [
    "type(a1.tolist())"
   ]
  },
  {
   "cell_type": "code",
   "execution_count": 156,
   "metadata": {},
   "outputs": [
    {
     "data": {
      "text/plain": [
       "array([0, 1, 2, 3, 4, 5, 6, 7, 8, 9])"
      ]
     },
     "execution_count": 156,
     "metadata": {},
     "output_type": "execute_result"
    }
   ],
   "source": [
    "a1"
   ]
  },
  {
   "cell_type": "code",
   "execution_count": 157,
   "metadata": {},
   "outputs": [
    {
     "data": {
      "text/plain": [
       "[0, 1, 2, 3, 4, 5, 6, 7, 8, 9]"
      ]
     },
     "execution_count": 157,
     "metadata": {},
     "output_type": "execute_result"
    }
   ],
   "source": [
    "a1.tolist()"
   ]
  }
 ],
 "metadata": {
  "kernelspec": {
   "display_name": "Python 3",
   "language": "python",
   "name": "python3"
  },
  "language_info": {
   "codemirror_mode": {
    "name": "ipython",
    "version": 3
   },
   "file_extension": ".py",
   "mimetype": "text/x-python",
   "name": "python",
   "nbconvert_exporter": "python",
   "pygments_lexer": "ipython3",
   "version": "3.8.5"
  }
 },
 "nbformat": 4,
 "nbformat_minor": 4
}
